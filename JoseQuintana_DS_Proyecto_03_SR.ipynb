{
 "cells": [
  {
   "cell_type": "markdown",
   "metadata": {
    "id": "gzJLet17WTzh"
   },
   "source": [
    "# Proyecto 03 - Sistemas de Recomendación\n",
    "\n",
    "## Dataset: STEAM\n",
    "\n",
    "**Recuerda descargar el dataset de [aquí](https://github.com/kang205/SASRec). Son dos archivos, uno de calificaciones y otro de información sobre los juegos.**\n",
    "\n",
    "En este notebook te dejamos unas celdas para que puedas comenzar a trabajar con este dataset. Sin embargo, **deberás** modificarlas para hacer un mejor manejo de datos. Algunas cosas a las que deberás prestar atención (tal vez no a todas):\n",
    "1. Tipos de datos: elige tipos de datos apropiados para cada columna.\n",
    "2. Descartar columnas poco informativas.\n",
    "3. Guardar en memoria datasets preprocesados para no tener que repetir código que tarde en correr.\n",
    "\n",
    "### Exploración de datos\n",
    "\n",
    "Dedícale un buen tiempo a hacer un Análisis Exploratorio de Datos. Elige preguntas que creas que puedas responder con este dataset. Por ejemplo, ¿cuáles son los juegos más populares?¿Y los menos populares?\n",
    "\n",
    "### Filtro Colaborativo\n",
    "\n",
    "Deberás implementar un sistema de recomendación colaborativo para este dataset. Ten en cuenta:\n",
    "\n",
    "1. Haz todas las transformaciones de datos que consideres necesarias. Justifica.\n",
    "1. Evalúa de forma apropiada sus resultados. Justifica la métrica elegida.\n",
    "1. Elige un modelo benchmark y compara tus resultados con este modelo.\n",
    "1. Optimiza los hiperparámetros de tu modelo.\n",
    "\n",
    "Puedes implementar un filtro colaborativo a partir de la similitud coseno o índice de Jaccard. ¿Puedes utilizar los métodos de la librería Surprise? Si no es así, busca implementaciones (por ejemplo, nuevas librerías) que sean apropiadas.\n",
    "\n",
    "Para comenzar a trabajar, puedes asumir que cada entrada es un enlace entre una persona usuaria y un item, **independientemente** de si la crítica es buena o mala. \n",
    "\n",
    "### Para pensar, investigar y, opcionalmente, implementar\n",
    "1. ¿Cómo harías para ponerle un valor a la calificación?\n",
    "1. ¿Cómo harías para agregar contenido? Por ejemplo, cuentas con el género, precio, fecha de lanzamiento y más información de los juegos.\n",
    "1. ¿Hay algo que te gustaría investigar o probar?\n",
    "\n",
    "### **¡Tómate tiempo para investigar y leer mucho!**"
   ]
  },
  {
   "cell_type": "markdown",
   "metadata": {},
   "source": [
    "## Resumen"
   ]
  },
  {
   "cell_type": "markdown",
   "metadata": {},
   "source": [
    "El algoritmo que se utiliza en esta aplicación es un filtro colaborativo, basado en los comentarios que los usuarios realizaron en las opiniones de Steam.\n",
    "El algoritmo se basa en los comentarios de un usuario, con estos comentarios se genera una función de puntuación, que se utiliza en el filtro colaborativo para generar una lista de juegos basada en los gustos del usuario.\n",
    "Este algoritmo realiza una elección de un juego en base a los gustos del usuario, y esto se realiza mediante el filtro colaborativo."
   ]
  },
  {
   "cell_type": "markdown",
   "metadata": {},
   "source": [
    "## Introducción"
   ]
  },
  {
   "cell_type": "markdown",
   "metadata": {},
   "source": [
    "[**Steam**](https://store.steampowered.com/?l=spanish) es una plataforma de video juegos online que se conecta a través de internet, la cual nos permite realizar opiniones de los juegos, compartidas entre usuarios la plataforma.\n",
    "Es una herramienta de juegos muy económica, y que ofrece una gran cantidad de opciones para los usuarios.\n",
    "\n",
    "Una problemática que se nos presenta antes tan abundante y variada oferta de juegos, es la **difícil decisión de seleccionar un juego en particular.**\n",
    "No siempre sabemos si un juego nos gusta o no, por lo tanto, si nos decidimos por un juego y luego de probarlo, nos damos cuenta de que no nos gusta, pasamos mucho tiempo sin poder disfrutar de otro juego.\n",
    "\n",
    "**Por lo tanto, vimos la necesidad de entrenar a una IA para que nos sugiera un juego, y así poder realizar una buena elección.**\n",
    "\n",
    "La elección de un juego en particular se ve influenciada por muchos factores, como por ejemplo, personalidad, gustos, etc.\n",
    "Uno de los motores de este proyecto es el de crear un algoritmo que nos sugiera un juego, basado en preferencias dadas por un usuario.\n",
    "\n",
    "El sistema debe poder decidir la elección de un juego, basado en los gustos del usuario, con esto se pretende que el sistema sea capaz de realizar una elección basada en los gustos de un usuario, y esto lo conseguimos mediante la aplicación de un filtro colaborativo.\n",
    "\n",
    "El algoritmo utiliza el **filtro colaborativo**, basado en los comentarios que un gran números de usuarios realizó en las opiniones (reviews) de los juegos que jugó, para generar una puntuación. Esta puntuación se utiliza para realizar una elección de un juego basada en los gustos del usuario.\n",
    "De esta manera, es posible que el sistema genere una lista de juegos, basada en los comentarios que los usuarios realizaron en las opiniones de Steam.\n",
    "\n",
    "¿Que es el filtro colaborativo?\n",
    "\n",
    "Es un filtro estadístico utilizado para generar predicciones, basado en el comportamiento de un número grande de usuarios.\n",
    "\n",
    "¿Cómo trabaja el algoritmo?\n",
    "\n",
    "Para trabajar el algoritmo se debe de generar una función de puntuación basada en la opinión de los usuarios, esta función se utiliza en el filtro colaborativo para generar una lista de juegos en base a la puntuación del usuario y a la que se le asigna una puntuación basada en su perfil."
   ]
  },
  {
   "cell_type": "markdown",
   "metadata": {},
   "source": [
    "#### Repositorio de Github\n",
    "El proyecto se encuentro publicado en el siguiente [link de Github](https://github.com/jmquintana/data_science_sprint_3)"
   ]
  },
  {
   "cell_type": "markdown",
   "metadata": {},
   "source": [
    "## Parta A - Exploración de Datos"
   ]
  },
  {
   "cell_type": "markdown",
   "metadata": {},
   "source": [
    "### Importamos las librerías"
   ]
  },
  {
   "cell_type": "code",
   "execution_count": 1,
   "metadata": {},
   "outputs": [],
   "source": [
    "# Importamos las librerías que vamos a necesitar\n",
    "import numpy as np\n",
    "import pandas as pd\n",
    "import matplotlib.pyplot as plt\n",
    "import matplotlib.ticker as ticker\n",
    "import seaborn as sns\n",
    "from tqdm.notebook import tqdm\n",
    "import gzip\n",
    "import re\n",
    "import nltk\n",
    "from sklearn.preprocessing import MinMaxScaler\n",
    "from nltk.tokenize import RegexpTokenizer\n",
    "from nltk.stem import PorterStemmer\n",
    "from nltk.corpus import stopwords\n",
    "from nltk.corpus import wordnet\n",
    "from nltk.sentiment import SentimentIntensityAnalyzer\n",
    "from nltk.stem import WordNetLemmatizer\n",
    "from surprise import Dataset\n",
    "from surprise import Reader\n",
    "from surprise.model_selection import train_test_split\n",
    "from surprise import accuracy\n",
    "from surprise.model_selection import GridSearchCV\n",
    "from surprise.model_selection import RandomizedSearchCV"
   ]
  },
  {
   "cell_type": "markdown",
   "metadata": {},
   "source": [
    "### Configuraciones"
   ]
  },
  {
   "cell_type": "code",
   "execution_count": 2,
   "metadata": {},
   "outputs": [],
   "source": [
    "# Le doy formato a los gráficos\n",
    "# sns.set_style(\"darkgrid\")\n",
    "sns.set_style(\"white\")\n",
    "plt.rc('font', size=10)\n",
    "plt.rc('legend', fontsize=12)\n",
    "plt.rc('axes', titlesize=16)\n",
    "plt.rc('figure', titlesize=16)\n",
    "plt.rc('axes', labelsize=14) \n",
    "plt.rc('xtick', labelsize=12) \n",
    "plt.rc('ytick', labelsize=12) "
   ]
  },
  {
   "cell_type": "code",
   "execution_count": 3,
   "metadata": {},
   "outputs": [
    {
     "data": {
      "text/html": [
       "<style>.container { width:100% !important; }</style>"
      ],
      "text/plain": [
       "<IPython.core.display.HTML object>"
      ]
     },
     "metadata": {},
     "output_type": "display_data"
    },
    {
     "data": {
      "text/html": [
       "<pre>✔️ 0 ns (2021-10-02T15:34:37/2021-10-02T15:34:37)</pre>"
      ],
      "text/plain": [
       "<IPython.core.display.HTML object>"
      ]
     },
     "metadata": {},
     "output_type": "display_data"
    }
   ],
   "source": [
    "#Seteamos para que no utilice notacion cientifica\n",
    "pd.options.display.float_format = '{:.4f}'.format\n",
    "#Seteo para que el máximo de columnas que muestra al levantar una base sean 500\n",
    "pd.set_option('display.max_columns',500)\n",
    "#Estos códigos hacen que la visualización de la consola abarque toda la pantalla (sin los recortes a los costados). Tambien hacen que al mostrar dataframes podamos ver todas las columnas que tiene.\n",
    "from IPython.core.display import display, HTML\n",
    "display(HTML(\"<style>.container { width:100% !important; }</style>\"))\n",
    "# Instanciamos método para ver el progreso de las operaciones sobre sobre los dataframes\n",
    "tqdm.pandas()\n",
    "# Indicador de tiempo de ejecución\n",
    "%load_ext autotime"
   ]
  },
  {
   "cell_type": "code",
   "execution_count": 107,
   "metadata": {},
   "outputs": [
    {
     "data": {
      "text/html": [
       "<pre>✔️ 15 ms (2021-10-02T16:31:45/2021-10-02T16:31:45)</pre>"
      ],
      "text/plain": [
       "<IPython.core.display.HTML object>"
      ]
     },
     "metadata": {},
     "output_type": "display_data"
    }
   ],
   "source": [
    "# Las siguientes lineas permiten habilitar o deshabilitar ciertas operaciones\n",
    "# procesamiento de datos para ahorrar tiempo de procesamiento.\n",
    "READ_RAW = False\n",
    "PROCESS_TEXT = True\n",
    "POLARITY = True"
   ]
  },
  {
   "cell_type": "markdown",
   "metadata": {},
   "source": [
    "### Carga y limpieza inicial de datos"
   ]
  },
  {
   "cell_type": "code",
   "execution_count": 41,
   "metadata": {
    "id": "lWZhtUxEWTzj"
   },
   "outputs": [
    {
     "data": {
      "text/html": [
       "<pre>✔️ 0 ns (2021-10-02T15:36:38/2021-10-02T15:36:38)</pre>"
      ],
      "text/plain": [
       "<IPython.core.display.HTML object>"
      ]
     },
     "metadata": {},
     "output_type": "display_data"
    }
   ],
   "source": [
    "def parse(path):\n",
    "    g = gzip.open(path, 'r')\n",
    "    for l in g:\n",
    "        yield eval(l)"
   ]
  },
  {
   "cell_type": "markdown",
   "metadata": {
    "id": "BmEM25k4WTzw"
   },
   "source": [
    "#### Dataset de **Reviews**"
   ]
  },
  {
   "cell_type": "code",
   "execution_count": 230,
   "metadata": {
    "id": "abAXItn1WTz0"
   },
   "outputs": [
    {
     "data": {
      "text/html": [
       "<pre>✔️ 0 ns (2021-10-02T17:42:43/2021-10-02T17:42:43)</pre>"
      ],
      "text/plain": [
       "<IPython.core.display.HTML object>"
      ]
     },
     "metadata": {},
     "output_type": "display_data"
    }
   ],
   "source": [
    "# Atencion: la carga de los datos tarda alrededor de 5 minutos 30 segundos\n",
    "if READ_RAW:\n",
    "    contador = 0\n",
    "    data_reviews = []\n",
    "    # Vamos a guardar una de cada 10 reviews para no llenar la memoria RAM. Si pones n = 3, \n",
    "    # abrira uno de cada tres, y asi.\n",
    "    n = 10\n",
    "    for l in tqdm(parse('steam_reviews.json.gz')):\n",
    "        if contador%n == 0:\n",
    "            data_reviews.append(l)\n",
    "        else:\n",
    "            pass\n",
    "        contador += 1\n",
    "    data_reviews = pd.DataFrame(data_reviews)"
   ]
  },
  {
   "cell_type": "code",
   "execution_count": 231,
   "metadata": {},
   "outputs": [
    {
     "data": {
      "text/html": [
       "<pre>✔️ 8.09 s (2021-10-02T17:42:44/2021-10-02T17:42:52)</pre>"
      ],
      "text/plain": [
       "<IPython.core.display.HTML object>"
      ]
     },
     "metadata": {},
     "output_type": "display_data"
    }
   ],
   "source": [
    "if READ_RAW:\n",
    "    data_reviews.to_csv('data_reviews.csv', index_label='index')\n",
    "else:\n",
    "    data_reviews = pd.read_csv('data_reviews.csv')\n",
    "    data_reviews.drop(columns='index', inplace=True)"
   ]
  },
  {
   "cell_type": "code",
   "execution_count": 232,
   "metadata": {
    "id": "j24F0ZaYWT0E"
   },
   "outputs": [
    {
     "data": {
      "text/html": [
       "<pre>✔️ 16 ms (2021-10-02T17:42:52/2021-10-02T17:42:52)</pre>"
      ],
      "text/plain": [
       "<IPython.core.display.HTML object>"
      ]
     },
     "metadata": {},
     "output_type": "display_data"
    },
    {
     "data": {
      "text/html": [
       "<div>\n",
       "<style scoped>\n",
       "    .dataframe tbody tr th:only-of-type {\n",
       "        vertical-align: middle;\n",
       "    }\n",
       "\n",
       "    .dataframe tbody tr th {\n",
       "        vertical-align: top;\n",
       "    }\n",
       "\n",
       "    .dataframe thead th {\n",
       "        text-align: right;\n",
       "    }\n",
       "</style>\n",
       "<table border=\"1\" class=\"dataframe\">\n",
       "  <thead>\n",
       "    <tr style=\"text-align: right;\">\n",
       "      <th></th>\n",
       "      <th>username</th>\n",
       "      <th>hours</th>\n",
       "      <th>products</th>\n",
       "      <th>product_id</th>\n",
       "      <th>page_order</th>\n",
       "      <th>date</th>\n",
       "      <th>text</th>\n",
       "      <th>early_access</th>\n",
       "      <th>page</th>\n",
       "      <th>user_id</th>\n",
       "      <th>compensation</th>\n",
       "      <th>found_funny</th>\n",
       "    </tr>\n",
       "  </thead>\n",
       "  <tbody>\n",
       "    <tr>\n",
       "      <th>0</th>\n",
       "      <td>Chaos Syren</td>\n",
       "      <td>0.1000</td>\n",
       "      <td>41.0000</td>\n",
       "      <td>725280</td>\n",
       "      <td>0</td>\n",
       "      <td>2017-12-17</td>\n",
       "      <td>This would not be acceptable as an entertainme...</td>\n",
       "      <td>False</td>\n",
       "      <td>1</td>\n",
       "      <td>NaN</td>\n",
       "      <td>NaN</td>\n",
       "      <td>NaN</td>\n",
       "    </tr>\n",
       "    <tr>\n",
       "      <th>1</th>\n",
       "      <td>Ariman1</td>\n",
       "      <td>13.2000</td>\n",
       "      <td>1386.0000</td>\n",
       "      <td>328100</td>\n",
       "      <td>2</td>\n",
       "      <td>2017-08-02</td>\n",
       "      <td>Addictive RPG ! Works fine on linux though it ...</td>\n",
       "      <td>False</td>\n",
       "      <td>1</td>\n",
       "      <td>NaN</td>\n",
       "      <td>NaN</td>\n",
       "      <td>NaN</td>\n",
       "    </tr>\n",
       "    <tr>\n",
       "      <th>2</th>\n",
       "      <td>freakfantom</td>\n",
       "      <td>0.1000</td>\n",
       "      <td>1706.0000</td>\n",
       "      <td>725280</td>\n",
       "      <td>5</td>\n",
       "      <td>2017-11-12</td>\n",
       "      <td>Прикольная стрелялка. Взял дешево на распродаже.</td>\n",
       "      <td>False</td>\n",
       "      <td>1</td>\n",
       "      <td>NaN</td>\n",
       "      <td>NaN</td>\n",
       "      <td>NaN</td>\n",
       "    </tr>\n",
       "    <tr>\n",
       "      <th>3</th>\n",
       "      <td>The_Cpt_FROGGY</td>\n",
       "      <td>7.8000</td>\n",
       "      <td>2217.0000</td>\n",
       "      <td>631920</td>\n",
       "      <td>0</td>\n",
       "      <td>2017-12-11</td>\n",
       "      <td>Somewhere on Zibylon:\\n~~~~~~~~~~~~~~~~~~\\nZib...</td>\n",
       "      <td>False</td>\n",
       "      <td>1</td>\n",
       "      <td>76561198003030368.0000</td>\n",
       "      <td>Product received for free</td>\n",
       "      <td>NaN</td>\n",
       "    </tr>\n",
       "    <tr>\n",
       "      <th>4</th>\n",
       "      <td>the_maker988</td>\n",
       "      <td>8.2000</td>\n",
       "      <td>18.0000</td>\n",
       "      <td>35140</td>\n",
       "      <td>7</td>\n",
       "      <td>2018-01-02</td>\n",
       "      <td>This game was way to linear for me, and compar...</td>\n",
       "      <td>False</td>\n",
       "      <td>1</td>\n",
       "      <td>76561198353396848.0000</td>\n",
       "      <td>NaN</td>\n",
       "      <td>NaN</td>\n",
       "    </tr>\n",
       "  </tbody>\n",
       "</table>\n",
       "</div>"
      ],
      "text/plain": [
       "         username   hours  products  product_id  page_order        date  \\\n",
       "0     Chaos Syren  0.1000   41.0000      725280           0  2017-12-17   \n",
       "1         Ariman1 13.2000 1386.0000      328100           2  2017-08-02   \n",
       "2     freakfantom  0.1000 1706.0000      725280           5  2017-11-12   \n",
       "3  The_Cpt_FROGGY  7.8000 2217.0000      631920           0  2017-12-11   \n",
       "4    the_maker988  8.2000   18.0000       35140           7  2018-01-02   \n",
       "\n",
       "                                                text  early_access  page  \\\n",
       "0  This would not be acceptable as an entertainme...         False     1   \n",
       "1  Addictive RPG ! Works fine on linux though it ...         False     1   \n",
       "2   Прикольная стрелялка. Взял дешево на распродаже.         False     1   \n",
       "3  Somewhere on Zibylon:\\n~~~~~~~~~~~~~~~~~~\\nZib...         False     1   \n",
       "4  This game was way to linear for me, and compar...         False     1   \n",
       "\n",
       "                 user_id               compensation  found_funny  \n",
       "0                    NaN                        NaN          NaN  \n",
       "1                    NaN                        NaN          NaN  \n",
       "2                    NaN                        NaN          NaN  \n",
       "3 76561198003030368.0000  Product received for free          NaN  \n",
       "4 76561198353396848.0000                        NaN          NaN  "
      ]
     },
     "execution_count": 232,
     "metadata": {},
     "output_type": "execute_result"
    }
   ],
   "source": [
    "# Previsualizamos las primeras 5 instancias del dataset\n",
    "data_reviews.head()"
   ]
  },
  {
   "cell_type": "code",
   "execution_count": 233,
   "metadata": {},
   "outputs": [
    {
     "data": {
      "text/html": [
       "<pre>✔️ 16 ms (2021-10-02T17:42:52/2021-10-02T17:42:52)</pre>"
      ],
      "text/plain": [
       "<IPython.core.display.HTML object>"
      ]
     },
     "metadata": {},
     "output_type": "display_data"
    },
    {
     "data": {
      "text/html": [
       "<div>\n",
       "<style scoped>\n",
       "    .dataframe tbody tr th:only-of-type {\n",
       "        vertical-align: middle;\n",
       "    }\n",
       "\n",
       "    .dataframe tbody tr th {\n",
       "        vertical-align: top;\n",
       "    }\n",
       "\n",
       "    .dataframe thead th {\n",
       "        text-align: right;\n",
       "    }\n",
       "</style>\n",
       "<table border=\"1\" class=\"dataframe\">\n",
       "  <thead>\n",
       "    <tr style=\"text-align: right;\">\n",
       "      <th></th>\n",
       "      <th>username</th>\n",
       "      <th>hours</th>\n",
       "      <th>products</th>\n",
       "      <th>product_id</th>\n",
       "      <th>page_order</th>\n",
       "      <th>date</th>\n",
       "      <th>text</th>\n",
       "      <th>early_access</th>\n",
       "      <th>page</th>\n",
       "      <th>user_id</th>\n",
       "      <th>compensation</th>\n",
       "      <th>found_funny</th>\n",
       "    </tr>\n",
       "  </thead>\n",
       "  <tbody>\n",
       "    <tr>\n",
       "      <th>779302</th>\n",
       "      <td>Vidaar</td>\n",
       "      <td>783.5000</td>\n",
       "      <td>353.0000</td>\n",
       "      <td>252490</td>\n",
       "      <td>1</td>\n",
       "      <td>2013-12-11</td>\n",
       "      <td>Summary: Rust is a survival game created by Fa...</td>\n",
       "      <td>True</td>\n",
       "      <td>10217</td>\n",
       "      <td>NaN</td>\n",
       "      <td>NaN</td>\n",
       "      <td>NaN</td>\n",
       "    </tr>\n",
       "    <tr>\n",
       "      <th>779303</th>\n",
       "      <td>Nikolai Belinski</td>\n",
       "      <td>55.1000</td>\n",
       "      <td>204.0000</td>\n",
       "      <td>252490</td>\n",
       "      <td>1</td>\n",
       "      <td>2013-12-11</td>\n",
       "      <td>Coolest Game Eva</td>\n",
       "      <td>True</td>\n",
       "      <td>10218</td>\n",
       "      <td>NaN</td>\n",
       "      <td>NaN</td>\n",
       "      <td>NaN</td>\n",
       "    </tr>\n",
       "    <tr>\n",
       "      <th>779304</th>\n",
       "      <td>RancorZealot</td>\n",
       "      <td>203.5000</td>\n",
       "      <td>173.0000</td>\n",
       "      <td>252490</td>\n",
       "      <td>1</td>\n",
       "      <td>2013-12-11</td>\n",
       "      <td>Should you buy RUST? Uh... YES. The BEST Survi...</td>\n",
       "      <td>True</td>\n",
       "      <td>10219</td>\n",
       "      <td>76561197963920624.0000</td>\n",
       "      <td>NaN</td>\n",
       "      <td>NaN</td>\n",
       "    </tr>\n",
       "    <tr>\n",
       "      <th>779305</th>\n",
       "      <td>Jerry</td>\n",
       "      <td>139.8000</td>\n",
       "      <td>79.0000</td>\n",
       "      <td>252490</td>\n",
       "      <td>1</td>\n",
       "      <td>2013-12-11</td>\n",
       "      <td>Great game!</td>\n",
       "      <td>True</td>\n",
       "      <td>10220</td>\n",
       "      <td>76561198042664864.0000</td>\n",
       "      <td>NaN</td>\n",
       "      <td>NaN</td>\n",
       "    </tr>\n",
       "    <tr>\n",
       "      <th>779306</th>\n",
       "      <td>Helk</td>\n",
       "      <td>15375.0000</td>\n",
       "      <td>98.0000</td>\n",
       "      <td>252490</td>\n",
       "      <td>1</td>\n",
       "      <td>2013-12-11</td>\n",
       "      <td>I love this game!</td>\n",
       "      <td>True</td>\n",
       "      <td>10221</td>\n",
       "      <td>NaN</td>\n",
       "      <td>NaN</td>\n",
       "      <td>36.0000</td>\n",
       "    </tr>\n",
       "  </tbody>\n",
       "</table>\n",
       "</div>"
      ],
      "text/plain": [
       "                username      hours  products  product_id  page_order  \\\n",
       "779302            Vidaar   783.5000  353.0000      252490           1   \n",
       "779303  Nikolai Belinski    55.1000  204.0000      252490           1   \n",
       "779304      RancorZealot   203.5000  173.0000      252490           1   \n",
       "779305             Jerry   139.8000   79.0000      252490           1   \n",
       "779306              Helk 15375.0000   98.0000      252490           1   \n",
       "\n",
       "              date                                               text  \\\n",
       "779302  2013-12-11  Summary: Rust is a survival game created by Fa...   \n",
       "779303  2013-12-11                                   Coolest Game Eva   \n",
       "779304  2013-12-11  Should you buy RUST? Uh... YES. The BEST Survi...   \n",
       "779305  2013-12-11                                        Great game!   \n",
       "779306  2013-12-11                                  I love this game!   \n",
       "\n",
       "        early_access   page                user_id compensation  found_funny  \n",
       "779302          True  10217                    NaN          NaN          NaN  \n",
       "779303          True  10218                    NaN          NaN          NaN  \n",
       "779304          True  10219 76561197963920624.0000          NaN          NaN  \n",
       "779305          True  10220 76561198042664864.0000          NaN          NaN  \n",
       "779306          True  10221                    NaN          NaN      36.0000  "
      ]
     },
     "execution_count": 233,
     "metadata": {},
     "output_type": "execute_result"
    }
   ],
   "source": [
    "# Previsualizamos las ultimas 5 instancias del dataset\n",
    "data_reviews.tail()"
   ]
  },
  {
   "cell_type": "code",
   "execution_count": 234,
   "metadata": {},
   "outputs": [
    {
     "data": {
      "text/html": [
       "<pre>✔️ 188 ms (2021-10-02T17:42:53/2021-10-02T17:42:53)</pre>"
      ],
      "text/plain": [
       "<IPython.core.display.HTML object>"
      ]
     },
     "metadata": {},
     "output_type": "display_data"
    },
    {
     "name": "stdout",
     "output_type": "stream",
     "text": [
      "<class 'pandas.core.frame.DataFrame'>\n",
      "RangeIndex: 779307 entries, 0 to 779306\n",
      "Data columns (total 12 columns):\n",
      " #   Column        Non-Null Count   Dtype  \n",
      "---  ------        --------------   -----  \n",
      " 0   username      779289 non-null  object \n",
      " 1   hours         776670 non-null  float64\n",
      " 2   products      777741 non-null  float64\n",
      " 3   product_id    779307 non-null  int64  \n",
      " 4   page_order    779307 non-null  int64  \n",
      " 5   date          779307 non-null  object \n",
      " 6   text          777468 non-null  object \n",
      " 7   early_access  779307 non-null  bool   \n",
      " 8   page          779307 non-null  int64  \n",
      " 9   user_id       317340 non-null  float64\n",
      " 10  compensation  14588 non-null   object \n",
      " 11  found_funny   120164 non-null  float64\n",
      "dtypes: bool(1), float64(4), int64(3), object(4)\n",
      "memory usage: 66.1+ MB\n"
     ]
    }
   ],
   "source": [
    "# Reviso la informacion general del dataset\n",
    "data_reviews.info()"
   ]
  },
  {
   "cell_type": "code",
   "execution_count": 235,
   "metadata": {
    "id": "8F-EVRZ4WT0L",
    "scrolled": true
   },
   "outputs": [
    {
     "data": {
      "text/html": [
       "<pre>✔️ 188 ms (2021-10-02T17:42:53/2021-10-02T17:42:53)</pre>"
      ],
      "text/plain": [
       "<IPython.core.display.HTML object>"
      ]
     },
     "metadata": {},
     "output_type": "display_data"
    },
    {
     "data": {
      "text/plain": [
       "username            18\n",
       "hours             2637\n",
       "products          1566\n",
       "product_id           0\n",
       "page_order           0\n",
       "date                 0\n",
       "text              1839\n",
       "early_access         0\n",
       "page                 0\n",
       "user_id         461967\n",
       "compensation    764719\n",
       "found_funny     659143\n",
       "dtype: int64"
      ]
     },
     "execution_count": 235,
     "metadata": {},
     "output_type": "execute_result"
    }
   ],
   "source": [
    "# Vemos los missings\n",
    "data_reviews.isna().sum()"
   ]
  },
  {
   "cell_type": "code",
   "execution_count": 236,
   "metadata": {},
   "outputs": [
    {
     "data": {
      "text/html": [
       "<pre>✔️ 47 ms (2021-10-02T17:42:53/2021-10-02T17:42:53)</pre>"
      ],
      "text/plain": [
       "<IPython.core.display.HTML object>"
      ]
     },
     "metadata": {},
     "output_type": "display_data"
    },
    {
     "data": {
      "text/html": [
       "<div>\n",
       "<style scoped>\n",
       "    .dataframe tbody tr th:only-of-type {\n",
       "        vertical-align: middle;\n",
       "    }\n",
       "\n",
       "    .dataframe tbody tr th {\n",
       "        vertical-align: top;\n",
       "    }\n",
       "\n",
       "    .dataframe thead th {\n",
       "        text-align: right;\n",
       "    }\n",
       "</style>\n",
       "<table border=\"1\" class=\"dataframe\">\n",
       "  <thead>\n",
       "    <tr style=\"text-align: right;\">\n",
       "      <th></th>\n",
       "      <th>username</th>\n",
       "      <th>hours</th>\n",
       "      <th>product_id</th>\n",
       "      <th>text</th>\n",
       "      <th>user_id</th>\n",
       "    </tr>\n",
       "  </thead>\n",
       "  <tbody>\n",
       "    <tr>\n",
       "      <th>0</th>\n",
       "      <td>Chaos Syren</td>\n",
       "      <td>0.1000</td>\n",
       "      <td>725280</td>\n",
       "      <td>This would not be acceptable as an entertainme...</td>\n",
       "      <td>NaN</td>\n",
       "    </tr>\n",
       "    <tr>\n",
       "      <th>1</th>\n",
       "      <td>Ariman1</td>\n",
       "      <td>13.2000</td>\n",
       "      <td>328100</td>\n",
       "      <td>Addictive RPG ! Works fine on linux though it ...</td>\n",
       "      <td>NaN</td>\n",
       "    </tr>\n",
       "    <tr>\n",
       "      <th>2</th>\n",
       "      <td>freakfantom</td>\n",
       "      <td>0.1000</td>\n",
       "      <td>725280</td>\n",
       "      <td>Прикольная стрелялка. Взял дешево на распродаже.</td>\n",
       "      <td>NaN</td>\n",
       "    </tr>\n",
       "    <tr>\n",
       "      <th>3</th>\n",
       "      <td>The_Cpt_FROGGY</td>\n",
       "      <td>7.8000</td>\n",
       "      <td>631920</td>\n",
       "      <td>Somewhere on Zibylon:\\n~~~~~~~~~~~~~~~~~~\\nZib...</td>\n",
       "      <td>76561198003030368.0000</td>\n",
       "    </tr>\n",
       "    <tr>\n",
       "      <th>4</th>\n",
       "      <td>the_maker988</td>\n",
       "      <td>8.2000</td>\n",
       "      <td>35140</td>\n",
       "      <td>This game was way to linear for me, and compar...</td>\n",
       "      <td>76561198353396848.0000</td>\n",
       "    </tr>\n",
       "  </tbody>\n",
       "</table>\n",
       "</div>"
      ],
      "text/plain": [
       "         username   hours  product_id  \\\n",
       "0     Chaos Syren  0.1000      725280   \n",
       "1         Ariman1 13.2000      328100   \n",
       "2     freakfantom  0.1000      725280   \n",
       "3  The_Cpt_FROGGY  7.8000      631920   \n",
       "4    the_maker988  8.2000       35140   \n",
       "\n",
       "                                                text                user_id  \n",
       "0  This would not be acceptable as an entertainme...                    NaN  \n",
       "1  Addictive RPG ! Works fine on linux though it ...                    NaN  \n",
       "2   Прикольная стрелялка. Взял дешево на распродаже.                    NaN  \n",
       "3  Somewhere on Zibylon:\\n~~~~~~~~~~~~~~~~~~\\nZib... 76561198003030368.0000  \n",
       "4  This game was way to linear for me, and compar... 76561198353396848.0000  "
      ]
     },
     "execution_count": 236,
     "metadata": {},
     "output_type": "execute_result"
    }
   ],
   "source": [
    "# Selecciono las columnas que me interesan y que creo que pueden ser de utilidad\n",
    "columnas = ['username', 'hours', 'product_id', 'text','user_id']\n",
    "data_reviews = data_reviews[columnas]\n",
    "data_reviews.head()"
   ]
  },
  {
   "cell_type": "code",
   "execution_count": 237,
   "metadata": {},
   "outputs": [
    {
     "data": {
      "text/html": [
       "<pre>✔️ 109 ms (2021-10-02T17:42:53/2021-10-02T17:42:53)</pre>"
      ],
      "text/plain": [
       "<IPython.core.display.HTML object>"
      ]
     },
     "metadata": {},
     "output_type": "display_data"
    },
    {
     "data": {
      "text/plain": [
       "username          18\n",
       "hours           2637\n",
       "product_id         0\n",
       "text            1839\n",
       "user_id       461967\n",
       "dtype: int64"
      ]
     },
     "execution_count": 237,
     "metadata": {},
     "output_type": "execute_result"
    }
   ],
   "source": [
    "# Vemos los missings\n",
    "data_reviews.isna().sum()"
   ]
  },
  {
   "cell_type": "code",
   "execution_count": 238,
   "metadata": {},
   "outputs": [
    {
     "data": {
      "text/html": [
       "<pre>✔️ 2.95 s (2021-10-02T17:42:54/2021-10-02T17:42:57)</pre>"
      ],
      "text/plain": [
       "<IPython.core.display.HTML object>"
      ]
     },
     "metadata": {},
     "output_type": "display_data"
    },
    {
     "data": {
      "text/html": [
       "<div>\n",
       "<style scoped>\n",
       "    .dataframe tbody tr th:only-of-type {\n",
       "        vertical-align: middle;\n",
       "    }\n",
       "\n",
       "    .dataframe tbody tr th {\n",
       "        vertical-align: top;\n",
       "    }\n",
       "\n",
       "    .dataframe thead th {\n",
       "        text-align: right;\n",
       "    }\n",
       "</style>\n",
       "<table border=\"1\" class=\"dataframe\">\n",
       "  <thead>\n",
       "    <tr style=\"text-align: right;\">\n",
       "      <th></th>\n",
       "      <th>username</th>\n",
       "      <th>hours</th>\n",
       "      <th>product_id</th>\n",
       "      <th>text</th>\n",
       "      <th>user_id</th>\n",
       "    </tr>\n",
       "  </thead>\n",
       "  <tbody>\n",
       "    <tr>\n",
       "      <th>0</th>\n",
       "      <td>Chaos Syren</td>\n",
       "      <td>0.1000</td>\n",
       "      <td>725280</td>\n",
       "      <td>This would not be acceptable as an entertainme...</td>\n",
       "      <td>62543</td>\n",
       "    </tr>\n",
       "    <tr>\n",
       "      <th>1</th>\n",
       "      <td>Ariman1</td>\n",
       "      <td>13.2000</td>\n",
       "      <td>328100</td>\n",
       "      <td>Addictive RPG ! Works fine on linux though it ...</td>\n",
       "      <td>26902</td>\n",
       "    </tr>\n",
       "    <tr>\n",
       "      <th>2</th>\n",
       "      <td>freakfantom</td>\n",
       "      <td>0.1000</td>\n",
       "      <td>725280</td>\n",
       "      <td>Прикольная стрелялка. Взял дешево на распродаже.</td>\n",
       "      <td>434602</td>\n",
       "    </tr>\n",
       "    <tr>\n",
       "      <th>3</th>\n",
       "      <td>The_Cpt_FROGGY</td>\n",
       "      <td>7.8000</td>\n",
       "      <td>631920</td>\n",
       "      <td>Somewhere on Zibylon:\\n~~~~~~~~~~~~~~~~~~\\nZib...</td>\n",
       "      <td>347902</td>\n",
       "    </tr>\n",
       "    <tr>\n",
       "      <th>4</th>\n",
       "      <td>the_maker988</td>\n",
       "      <td>8.2000</td>\n",
       "      <td>35140</td>\n",
       "      <td>This game was way to linear for me, and compar...</td>\n",
       "      <td>503848</td>\n",
       "    </tr>\n",
       "  </tbody>\n",
       "</table>\n",
       "</div>"
      ],
      "text/plain": [
       "         username   hours  product_id  \\\n",
       "0     Chaos Syren  0.1000      725280   \n",
       "1         Ariman1 13.2000      328100   \n",
       "2     freakfantom  0.1000      725280   \n",
       "3  The_Cpt_FROGGY  7.8000      631920   \n",
       "4    the_maker988  8.2000       35140   \n",
       "\n",
       "                                                text  user_id  \n",
       "0  This would not be acceptable as an entertainme...    62543  \n",
       "1  Addictive RPG ! Works fine on linux though it ...    26902  \n",
       "2   Прикольная стрелялка. Взял дешево на распродаже.   434602  \n",
       "3  Somewhere on Zibylon:\\n~~~~~~~~~~~~~~~~~~\\nZib...   347902  \n",
       "4  This game was way to linear for me, and compar...   503848  "
      ]
     },
     "execution_count": 238,
     "metadata": {},
     "output_type": "execute_result"
    }
   ],
   "source": [
    "# Para las instancias que no tienen 'user id' voy a generar uno sintetico\n",
    "# Como la columna de 'user id' tiene muchos missings, voy a generar un id\n",
    "# para cada 'username'\n",
    "from sklearn import preprocessing\n",
    "le = preprocessing.LabelEncoder()\n",
    "data_reviews['user_id'] = le.fit_transform(data_reviews.username)\n",
    "\n",
    "# data_reviews1 = data_reviews[~data_reviews.user_id.isna()]\n",
    "# data_reviews2 = data_reviews[data_reviews.user_id.isna()]\n",
    "# data_reviews1['uid'] = data_reviews1['user_id']\n",
    "# data_reviews2['uid'] = le.fit_transform(data_reviews2.username)\n",
    "# data_reviews = pd.concat([data_reviews1, data_reviews2])\n",
    "data_reviews.head()"
   ]
  },
  {
   "cell_type": "code",
   "execution_count": 239,
   "metadata": {},
   "outputs": [
    {
     "data": {
      "text/html": [
       "<pre>✔️ 125 ms (2021-10-02T17:42:57/2021-10-02T17:42:57)</pre>"
      ],
      "text/plain": [
       "<IPython.core.display.HTML object>"
      ]
     },
     "metadata": {},
     "output_type": "display_data"
    },
    {
     "data": {
      "text/plain": [
       "username        18\n",
       "hours         2637\n",
       "product_id       0\n",
       "text          1839\n",
       "user_id          0\n",
       "dtype: int64"
      ]
     },
     "execution_count": 239,
     "metadata": {},
     "output_type": "execute_result"
    }
   ],
   "source": [
    "# Chequeo que no tengo missings\n",
    "data_reviews.isna().sum()"
   ]
  },
  {
   "cell_type": "code",
   "execution_count": 240,
   "metadata": {},
   "outputs": [
    {
     "data": {
      "text/html": [
       "<pre>✔️ 15 ms (2021-10-02T17:42:57/2021-10-02T17:42:57)</pre>"
      ],
      "text/plain": [
       "<IPython.core.display.HTML object>"
      ]
     },
     "metadata": {},
     "output_type": "display_data"
    },
    {
     "data": {
      "text/plain": [
       "username       object\n",
       "hours         float64\n",
       "product_id      int64\n",
       "text           object\n",
       "user_id         int32\n",
       "dtype: object"
      ]
     },
     "execution_count": 240,
     "metadata": {},
     "output_type": "execute_result"
    }
   ],
   "source": [
    "# Verifico los tipos de dato\n",
    "data_reviews.dtypes"
   ]
  },
  {
   "cell_type": "code",
   "execution_count": 241,
   "metadata": {},
   "outputs": [
    {
     "data": {
      "text/html": [
       "<pre>✔️ 15 ms (2021-10-02T17:42:57/2021-10-02T17:42:57)</pre>"
      ],
      "text/plain": [
       "<IPython.core.display.HTML object>"
      ]
     },
     "metadata": {},
     "output_type": "display_data"
    },
    {
     "data": {
      "text/plain": [
       "username       object\n",
       "hours         float64\n",
       "product_id      int64\n",
       "text           object\n",
       "user_id         int64\n",
       "dtype: object"
      ]
     },
     "execution_count": 241,
     "metadata": {},
     "output_type": "execute_result"
    }
   ],
   "source": [
    "# Redefino el tipo de dato de 'user_id' a int64\n",
    "data_reviews['product_id'] = data_reviews['product_id'].astype(dtype='int64')\n",
    "data_reviews['user_id'] = data_reviews['user_id'].astype(dtype='int64')\n",
    "data_reviews.dtypes"
   ]
  },
  {
   "cell_type": "code",
   "execution_count": 242,
   "metadata": {},
   "outputs": [
    {
     "data": {
      "text/html": [
       "<pre>✔️ 1.89 s (2021-10-02T17:42:57/2021-10-02T17:42:59)</pre>"
      ],
      "text/plain": [
       "<IPython.core.display.HTML object>"
      ]
     },
     "metadata": {},
     "output_type": "display_data"
    },
    {
     "data": {
      "text/html": [
       "<div>\n",
       "<style scoped>\n",
       "    .dataframe tbody tr th:only-of-type {\n",
       "        vertical-align: middle;\n",
       "    }\n",
       "\n",
       "    .dataframe tbody tr th {\n",
       "        vertical-align: top;\n",
       "    }\n",
       "\n",
       "    .dataframe thead th {\n",
       "        text-align: right;\n",
       "    }\n",
       "</style>\n",
       "<table border=\"1\" class=\"dataframe\">\n",
       "  <thead>\n",
       "    <tr style=\"text-align: right;\">\n",
       "      <th></th>\n",
       "      <th>username</th>\n",
       "      <th>text</th>\n",
       "    </tr>\n",
       "  </thead>\n",
       "  <tbody>\n",
       "    <tr>\n",
       "      <th>count</th>\n",
       "      <td>779289</td>\n",
       "      <td>777468</td>\n",
       "    </tr>\n",
       "    <tr>\n",
       "      <th>unique</th>\n",
       "      <td>540338</td>\n",
       "      <td>718776</td>\n",
       "    </tr>\n",
       "    <tr>\n",
       "      <th>top</th>\n",
       "      <td>123</td>\n",
       "      <td>good game</td>\n",
       "    </tr>\n",
       "    <tr>\n",
       "      <th>freq</th>\n",
       "      <td>213</td>\n",
       "      <td>1206</td>\n",
       "    </tr>\n",
       "  </tbody>\n",
       "</table>\n",
       "</div>"
      ],
      "text/plain": [
       "       username       text\n",
       "count    779289     777468\n",
       "unique   540338     718776\n",
       "top         123  good game\n",
       "freq        213       1206"
      ]
     },
     "execution_count": 242,
     "metadata": {},
     "output_type": "execute_result"
    }
   ],
   "source": [
    "# Exploro los estadisticos del dataset\n",
    "data_reviews.describe(include='object')"
   ]
  },
  {
   "cell_type": "code",
   "execution_count": 243,
   "metadata": {},
   "outputs": [
    {
     "data": {
      "text/html": [
       "<pre>✔️ 187 ms (2021-10-02T17:42:59/2021-10-02T17:43:00)</pre>"
      ],
      "text/plain": [
       "<IPython.core.display.HTML object>"
      ]
     },
     "metadata": {},
     "output_type": "display_data"
    },
    {
     "data": {
      "text/html": [
       "<div>\n",
       "<style scoped>\n",
       "    .dataframe tbody tr th:only-of-type {\n",
       "        vertical-align: middle;\n",
       "    }\n",
       "\n",
       "    .dataframe tbody tr th {\n",
       "        vertical-align: top;\n",
       "    }\n",
       "\n",
       "    .dataframe thead th {\n",
       "        text-align: right;\n",
       "    }\n",
       "</style>\n",
       "<table border=\"1\" class=\"dataframe\">\n",
       "  <thead>\n",
       "    <tr style=\"text-align: right;\">\n",
       "      <th></th>\n",
       "      <th>hours</th>\n",
       "      <th>product_id</th>\n",
       "      <th>user_id</th>\n",
       "    </tr>\n",
       "  </thead>\n",
       "  <tbody>\n",
       "    <tr>\n",
       "      <th>count</th>\n",
       "      <td>776670.0000</td>\n",
       "      <td>779307.0000</td>\n",
       "      <td>779307.0000</td>\n",
       "    </tr>\n",
       "    <tr>\n",
       "      <th>mean</th>\n",
       "      <td>111.8438</td>\n",
       "      <td>251489.8221</td>\n",
       "      <td>263410.8997</td>\n",
       "    </tr>\n",
       "    <tr>\n",
       "      <th>std</th>\n",
       "      <td>390.1454</td>\n",
       "      <td>149975.3705</td>\n",
       "      <td>154077.9124</td>\n",
       "    </tr>\n",
       "    <tr>\n",
       "      <th>min</th>\n",
       "      <td>0.0000</td>\n",
       "      <td>10.0000</td>\n",
       "      <td>0.0000</td>\n",
       "    </tr>\n",
       "    <tr>\n",
       "      <th>25%</th>\n",
       "      <td>4.0000</td>\n",
       "      <td>203770.0000</td>\n",
       "      <td>130630.5000</td>\n",
       "    </tr>\n",
       "    <tr>\n",
       "      <th>50%</th>\n",
       "      <td>15.3000</td>\n",
       "      <td>252490.0000</td>\n",
       "      <td>260874.0000</td>\n",
       "    </tr>\n",
       "    <tr>\n",
       "      <th>75%</th>\n",
       "      <td>59.6000</td>\n",
       "      <td>346110.0000</td>\n",
       "      <td>391979.5000</td>\n",
       "    </tr>\n",
       "    <tr>\n",
       "      <th>max</th>\n",
       "      <td>28164.0000</td>\n",
       "      <td>773900.0000</td>\n",
       "      <td>540338.0000</td>\n",
       "    </tr>\n",
       "  </tbody>\n",
       "</table>\n",
       "</div>"
      ],
      "text/plain": [
       "            hours  product_id     user_id\n",
       "count 776670.0000 779307.0000 779307.0000\n",
       "mean     111.8438 251489.8221 263410.8997\n",
       "std      390.1454 149975.3705 154077.9124\n",
       "min        0.0000     10.0000      0.0000\n",
       "25%        4.0000 203770.0000 130630.5000\n",
       "50%       15.3000 252490.0000 260874.0000\n",
       "75%       59.6000 346110.0000 391979.5000\n",
       "max    28164.0000 773900.0000 540338.0000"
      ]
     },
     "execution_count": 243,
     "metadata": {},
     "output_type": "execute_result"
    }
   ],
   "source": [
    "# Exploro más estadisticos del dataset\n",
    "data_reviews.describe()"
   ]
  },
  {
   "cell_type": "markdown",
   "metadata": {
    "id": "04ed3teRWT0T"
   },
   "source": [
    "#### Dataset de **Games**"
   ]
  },
  {
   "cell_type": "code",
   "execution_count": 244,
   "metadata": {
    "id": "8wRb24Y5WT0U"
   },
   "outputs": [
    {
     "data": {
      "text/html": [
       "<pre>✔️ 3.44 s (2021-10-02T17:43:00/2021-10-02T17:43:03)</pre>"
      ],
      "text/plain": [
       "<IPython.core.display.HTML object>"
      ]
     },
     "metadata": {},
     "output_type": "display_data"
    }
   ],
   "source": [
    "data_games = []\n",
    "for l in parse('steam_games.json.gz'):\n",
    "    data_games.append(l)\n",
    "data_games = pd.DataFrame(data_games)"
   ]
  },
  {
   "cell_type": "code",
   "execution_count": 245,
   "metadata": {
    "id": "sVR0Cs6SWT0b"
   },
   "outputs": [
    {
     "data": {
      "text/html": [
       "<pre>✔️ 46 ms (2021-10-02T17:43:03/2021-10-02T17:43:03)</pre>"
      ],
      "text/plain": [
       "<IPython.core.display.HTML object>"
      ]
     },
     "metadata": {},
     "output_type": "display_data"
    },
    {
     "data": {
      "text/html": [
       "<div>\n",
       "<style scoped>\n",
       "    .dataframe tbody tr th:only-of-type {\n",
       "        vertical-align: middle;\n",
       "    }\n",
       "\n",
       "    .dataframe tbody tr th {\n",
       "        vertical-align: top;\n",
       "    }\n",
       "\n",
       "    .dataframe thead th {\n",
       "        text-align: right;\n",
       "    }\n",
       "</style>\n",
       "<table border=\"1\" class=\"dataframe\">\n",
       "  <thead>\n",
       "    <tr style=\"text-align: right;\">\n",
       "      <th></th>\n",
       "      <th>publisher</th>\n",
       "      <th>genres</th>\n",
       "      <th>app_name</th>\n",
       "      <th>title</th>\n",
       "      <th>url</th>\n",
       "      <th>release_date</th>\n",
       "      <th>tags</th>\n",
       "      <th>discount_price</th>\n",
       "      <th>reviews_url</th>\n",
       "      <th>specs</th>\n",
       "      <th>price</th>\n",
       "      <th>early_access</th>\n",
       "      <th>id</th>\n",
       "      <th>developer</th>\n",
       "      <th>sentiment</th>\n",
       "      <th>metascore</th>\n",
       "    </tr>\n",
       "  </thead>\n",
       "  <tbody>\n",
       "    <tr>\n",
       "      <th>0</th>\n",
       "      <td>Kotoshiro</td>\n",
       "      <td>[Action, Casual, Indie, Simulation, Strategy]</td>\n",
       "      <td>Lost Summoner Kitty</td>\n",
       "      <td>Lost Summoner Kitty</td>\n",
       "      <td>http://store.steampowered.com/app/761140/Lost_...</td>\n",
       "      <td>2018-01-04</td>\n",
       "      <td>[Strategy, Action, Indie, Casual, Simulation]</td>\n",
       "      <td>4.4900</td>\n",
       "      <td>http://steamcommunity.com/app/761140/reviews/?...</td>\n",
       "      <td>[Single-player]</td>\n",
       "      <td>4.9900</td>\n",
       "      <td>False</td>\n",
       "      <td>761140</td>\n",
       "      <td>Kotoshiro</td>\n",
       "      <td>NaN</td>\n",
       "      <td>NaN</td>\n",
       "    </tr>\n",
       "    <tr>\n",
       "      <th>1</th>\n",
       "      <td>Making Fun, Inc.</td>\n",
       "      <td>[Free to Play, Indie, RPG, Strategy]</td>\n",
       "      <td>Ironbound</td>\n",
       "      <td>Ironbound</td>\n",
       "      <td>http://store.steampowered.com/app/643980/Ironb...</td>\n",
       "      <td>2018-01-04</td>\n",
       "      <td>[Free to Play, Strategy, Indie, RPG, Card Game...</td>\n",
       "      <td>NaN</td>\n",
       "      <td>http://steamcommunity.com/app/643980/reviews/?...</td>\n",
       "      <td>[Single-player, Multi-player, Online Multi-Pla...</td>\n",
       "      <td>Free To Play</td>\n",
       "      <td>False</td>\n",
       "      <td>643980</td>\n",
       "      <td>Secret Level SRL</td>\n",
       "      <td>Mostly Positive</td>\n",
       "      <td>NaN</td>\n",
       "    </tr>\n",
       "    <tr>\n",
       "      <th>2</th>\n",
       "      <td>Poolians.com</td>\n",
       "      <td>[Casual, Free to Play, Indie, Simulation, Sports]</td>\n",
       "      <td>Real Pool 3D - Poolians</td>\n",
       "      <td>Real Pool 3D - Poolians</td>\n",
       "      <td>http://store.steampowered.com/app/670290/Real_...</td>\n",
       "      <td>2017-07-24</td>\n",
       "      <td>[Free to Play, Simulation, Sports, Casual, Ind...</td>\n",
       "      <td>NaN</td>\n",
       "      <td>http://steamcommunity.com/app/670290/reviews/?...</td>\n",
       "      <td>[Single-player, Multi-player, Online Multi-Pla...</td>\n",
       "      <td>Free to Play</td>\n",
       "      <td>False</td>\n",
       "      <td>670290</td>\n",
       "      <td>Poolians.com</td>\n",
       "      <td>Mostly Positive</td>\n",
       "      <td>NaN</td>\n",
       "    </tr>\n",
       "    <tr>\n",
       "      <th>3</th>\n",
       "      <td>彼岸领域</td>\n",
       "      <td>[Action, Adventure, Casual]</td>\n",
       "      <td>弹炸人2222</td>\n",
       "      <td>弹炸人2222</td>\n",
       "      <td>http://store.steampowered.com/app/767400/2222/</td>\n",
       "      <td>2017-12-07</td>\n",
       "      <td>[Action, Adventure, Casual]</td>\n",
       "      <td>0.8300</td>\n",
       "      <td>http://steamcommunity.com/app/767400/reviews/?...</td>\n",
       "      <td>[Single-player]</td>\n",
       "      <td>0.9900</td>\n",
       "      <td>False</td>\n",
       "      <td>767400</td>\n",
       "      <td>彼岸领域</td>\n",
       "      <td>NaN</td>\n",
       "      <td>NaN</td>\n",
       "    </tr>\n",
       "    <tr>\n",
       "      <th>4</th>\n",
       "      <td>NaN</td>\n",
       "      <td>NaN</td>\n",
       "      <td>Log Challenge</td>\n",
       "      <td>NaN</td>\n",
       "      <td>http://store.steampowered.com/app/773570/Log_C...</td>\n",
       "      <td>NaN</td>\n",
       "      <td>[Action, Indie, Casual, Sports]</td>\n",
       "      <td>1.7900</td>\n",
       "      <td>http://steamcommunity.com/app/773570/reviews/?...</td>\n",
       "      <td>[Single-player, Full controller support, HTC V...</td>\n",
       "      <td>2.9900</td>\n",
       "      <td>False</td>\n",
       "      <td>773570</td>\n",
       "      <td>NaN</td>\n",
       "      <td>NaN</td>\n",
       "      <td>NaN</td>\n",
       "    </tr>\n",
       "  </tbody>\n",
       "</table>\n",
       "</div>"
      ],
      "text/plain": [
       "          publisher                                             genres  \\\n",
       "0         Kotoshiro      [Action, Casual, Indie, Simulation, Strategy]   \n",
       "1  Making Fun, Inc.               [Free to Play, Indie, RPG, Strategy]   \n",
       "2      Poolians.com  [Casual, Free to Play, Indie, Simulation, Sports]   \n",
       "3              彼岸领域                        [Action, Adventure, Casual]   \n",
       "4               NaN                                                NaN   \n",
       "\n",
       "                  app_name                    title  \\\n",
       "0      Lost Summoner Kitty      Lost Summoner Kitty   \n",
       "1                Ironbound                Ironbound   \n",
       "2  Real Pool 3D - Poolians  Real Pool 3D - Poolians   \n",
       "3                  弹炸人2222                  弹炸人2222   \n",
       "4            Log Challenge                      NaN   \n",
       "\n",
       "                                                 url release_date  \\\n",
       "0  http://store.steampowered.com/app/761140/Lost_...   2018-01-04   \n",
       "1  http://store.steampowered.com/app/643980/Ironb...   2018-01-04   \n",
       "2  http://store.steampowered.com/app/670290/Real_...   2017-07-24   \n",
       "3     http://store.steampowered.com/app/767400/2222/   2017-12-07   \n",
       "4  http://store.steampowered.com/app/773570/Log_C...          NaN   \n",
       "\n",
       "                                                tags  discount_price  \\\n",
       "0      [Strategy, Action, Indie, Casual, Simulation]          4.4900   \n",
       "1  [Free to Play, Strategy, Indie, RPG, Card Game...             NaN   \n",
       "2  [Free to Play, Simulation, Sports, Casual, Ind...             NaN   \n",
       "3                        [Action, Adventure, Casual]          0.8300   \n",
       "4                    [Action, Indie, Casual, Sports]          1.7900   \n",
       "\n",
       "                                         reviews_url  \\\n",
       "0  http://steamcommunity.com/app/761140/reviews/?...   \n",
       "1  http://steamcommunity.com/app/643980/reviews/?...   \n",
       "2  http://steamcommunity.com/app/670290/reviews/?...   \n",
       "3  http://steamcommunity.com/app/767400/reviews/?...   \n",
       "4  http://steamcommunity.com/app/773570/reviews/?...   \n",
       "\n",
       "                                               specs         price  \\\n",
       "0                                    [Single-player]        4.9900   \n",
       "1  [Single-player, Multi-player, Online Multi-Pla...  Free To Play   \n",
       "2  [Single-player, Multi-player, Online Multi-Pla...  Free to Play   \n",
       "3                                    [Single-player]        0.9900   \n",
       "4  [Single-player, Full controller support, HTC V...        2.9900   \n",
       "\n",
       "   early_access      id         developer        sentiment metascore  \n",
       "0         False  761140         Kotoshiro              NaN       NaN  \n",
       "1         False  643980  Secret Level SRL  Mostly Positive       NaN  \n",
       "2         False  670290      Poolians.com  Mostly Positive       NaN  \n",
       "3         False  767400              彼岸领域              NaN       NaN  \n",
       "4         False  773570               NaN              NaN       NaN  "
      ]
     },
     "execution_count": 245,
     "metadata": {},
     "output_type": "execute_result"
    }
   ],
   "source": [
    "# Previsualizo las primeras 5 instancias\n",
    "data_games.head()"
   ]
  },
  {
   "cell_type": "code",
   "execution_count": 246,
   "metadata": {},
   "outputs": [
    {
     "data": {
      "text/html": [
       "<pre>✔️ 63 ms (2021-10-02T17:43:04/2021-10-02T17:43:04)</pre>"
      ],
      "text/plain": [
       "<IPython.core.display.HTML object>"
      ]
     },
     "metadata": {},
     "output_type": "display_data"
    },
    {
     "data": {
      "text/html": [
       "<div>\n",
       "<style scoped>\n",
       "    .dataframe tbody tr th:only-of-type {\n",
       "        vertical-align: middle;\n",
       "    }\n",
       "\n",
       "    .dataframe tbody tr th {\n",
       "        vertical-align: top;\n",
       "    }\n",
       "\n",
       "    .dataframe thead th {\n",
       "        text-align: right;\n",
       "    }\n",
       "</style>\n",
       "<table border=\"1\" class=\"dataframe\">\n",
       "  <thead>\n",
       "    <tr style=\"text-align: right;\">\n",
       "      <th></th>\n",
       "      <th>publisher</th>\n",
       "      <th>genres</th>\n",
       "      <th>app_name</th>\n",
       "      <th>title</th>\n",
       "      <th>url</th>\n",
       "      <th>release_date</th>\n",
       "      <th>tags</th>\n",
       "      <th>discount_price</th>\n",
       "      <th>reviews_url</th>\n",
       "      <th>specs</th>\n",
       "      <th>price</th>\n",
       "      <th>early_access</th>\n",
       "      <th>id</th>\n",
       "      <th>developer</th>\n",
       "      <th>sentiment</th>\n",
       "      <th>metascore</th>\n",
       "    </tr>\n",
       "  </thead>\n",
       "  <tbody>\n",
       "    <tr>\n",
       "      <th>74</th>\n",
       "      <td>NaN</td>\n",
       "      <td>NaN</td>\n",
       "      <td>NaN</td>\n",
       "      <td>NaN</td>\n",
       "      <td>http://store.steampowered.com/</td>\n",
       "      <td>NaN</td>\n",
       "      <td>NaN</td>\n",
       "      <td>14.9900</td>\n",
       "      <td>NaN</td>\n",
       "      <td>NaN</td>\n",
       "      <td>19.9900</td>\n",
       "      <td>False</td>\n",
       "      <td>NaN</td>\n",
       "      <td>NaN</td>\n",
       "      <td>NaN</td>\n",
       "      <td>NaN</td>\n",
       "    </tr>\n",
       "    <tr>\n",
       "      <th>13894</th>\n",
       "      <td>Bethesda Softworks</td>\n",
       "      <td>[Action]</td>\n",
       "      <td>Wolfenstein II: The New Colossus</td>\n",
       "      <td>Wolfenstein II: The New Colossus</td>\n",
       "      <td>http://store.steampowered.com/app/612880/</td>\n",
       "      <td>2017-10-26</td>\n",
       "      <td>[Action, FPS, Gore, Violent, Alternate History...</td>\n",
       "      <td>NaN</td>\n",
       "      <td>http://steamcommunity.com/app/612880/reviews/?...</td>\n",
       "      <td>[Single-player, Steam Achievements, Full contr...</td>\n",
       "      <td>59.9900</td>\n",
       "      <td>False</td>\n",
       "      <td>612880</td>\n",
       "      <td>Machine Games</td>\n",
       "      <td>Mostly Positive</td>\n",
       "      <td>86</td>\n",
       "    </tr>\n",
       "    <tr>\n",
       "      <th>14573</th>\n",
       "      <td>Bethesda Softworks</td>\n",
       "      <td>[Action]</td>\n",
       "      <td>Wolfenstein II: The New Colossus</td>\n",
       "      <td>Wolfenstein II: The New Colossus</td>\n",
       "      <td>http://store.steampowered.com/app/612880/Wolfe...</td>\n",
       "      <td>2017-10-26</td>\n",
       "      <td>[Action, FPS, Gore, Violent, Alternate History...</td>\n",
       "      <td>NaN</td>\n",
       "      <td>http://steamcommunity.com/app/612880/reviews/?...</td>\n",
       "      <td>[Single-player, Steam Achievements, Full contr...</td>\n",
       "      <td>59.9900</td>\n",
       "      <td>False</td>\n",
       "      <td>612880</td>\n",
       "      <td>Machine Games</td>\n",
       "      <td>Mostly Positive</td>\n",
       "      <td>86</td>\n",
       "    </tr>\n",
       "    <tr>\n",
       "      <th>30961</th>\n",
       "      <td>Warner Bros. Interactive Entertainment, Feral ...</td>\n",
       "      <td>[Action, Adventure]</td>\n",
       "      <td>Batman: Arkham City - Game of the Year Edition</td>\n",
       "      <td>Batman: Arkham City - Game of the Year Edition</td>\n",
       "      <td>http://store.steampowered.com/app/200260</td>\n",
       "      <td>2012-09-07</td>\n",
       "      <td>[Action, Open World, Batman, Adventure, Stealt...</td>\n",
       "      <td>NaN</td>\n",
       "      <td>NaN</td>\n",
       "      <td>[Single-player, Steam Achievements, Steam Trad...</td>\n",
       "      <td>19.9900</td>\n",
       "      <td>False</td>\n",
       "      <td>NaN</td>\n",
       "      <td>Rocksteady Studios,Feral Interactive (Mac)</td>\n",
       "      <td>Overwhelmingly Positive</td>\n",
       "      <td>91</td>\n",
       "    </tr>\n",
       "  </tbody>\n",
       "</table>\n",
       "</div>"
      ],
      "text/plain": [
       "                                               publisher               genres  \\\n",
       "74                                                   NaN                  NaN   \n",
       "13894                                 Bethesda Softworks             [Action]   \n",
       "14573                                 Bethesda Softworks             [Action]   \n",
       "30961  Warner Bros. Interactive Entertainment, Feral ...  [Action, Adventure]   \n",
       "\n",
       "                                             app_name  \\\n",
       "74                                                NaN   \n",
       "13894                Wolfenstein II: The New Colossus   \n",
       "14573                Wolfenstein II: The New Colossus   \n",
       "30961  Batman: Arkham City - Game of the Year Edition   \n",
       "\n",
       "                                                title  \\\n",
       "74                                                NaN   \n",
       "13894                Wolfenstein II: The New Colossus   \n",
       "14573                Wolfenstein II: The New Colossus   \n",
       "30961  Batman: Arkham City - Game of the Year Edition   \n",
       "\n",
       "                                                     url release_date  \\\n",
       "74                        http://store.steampowered.com/          NaN   \n",
       "13894          http://store.steampowered.com/app/612880/   2017-10-26   \n",
       "14573  http://store.steampowered.com/app/612880/Wolfe...   2017-10-26   \n",
       "30961           http://store.steampowered.com/app/200260   2012-09-07   \n",
       "\n",
       "                                                    tags  discount_price  \\\n",
       "74                                                   NaN         14.9900   \n",
       "13894  [Action, FPS, Gore, Violent, Alternate History...             NaN   \n",
       "14573  [Action, FPS, Gore, Violent, Alternate History...             NaN   \n",
       "30961  [Action, Open World, Batman, Adventure, Stealt...             NaN   \n",
       "\n",
       "                                             reviews_url  \\\n",
       "74                                                   NaN   \n",
       "13894  http://steamcommunity.com/app/612880/reviews/?...   \n",
       "14573  http://steamcommunity.com/app/612880/reviews/?...   \n",
       "30961                                                NaN   \n",
       "\n",
       "                                                   specs   price  \\\n",
       "74                                                   NaN 19.9900   \n",
       "13894  [Single-player, Steam Achievements, Full contr... 59.9900   \n",
       "14573  [Single-player, Steam Achievements, Full contr... 59.9900   \n",
       "30961  [Single-player, Steam Achievements, Steam Trad... 19.9900   \n",
       "\n",
       "       early_access      id                                   developer  \\\n",
       "74            False     NaN                                         NaN   \n",
       "13894         False  612880                               Machine Games   \n",
       "14573         False  612880                               Machine Games   \n",
       "30961         False     NaN  Rocksteady Studios,Feral Interactive (Mac)   \n",
       "\n",
       "                     sentiment metascore  \n",
       "74                         NaN       NaN  \n",
       "13894          Mostly Positive        86  \n",
       "14573          Mostly Positive        86  \n",
       "30961  Overwhelmingly Positive        91  "
      ]
     },
     "execution_count": 246,
     "metadata": {},
     "output_type": "execute_result"
    }
   ],
   "source": [
    "# Revisamos si existen instancias duplicadas\n",
    "data_games[data_games.duplicated(subset='id', keep=False)]"
   ]
  },
  {
   "cell_type": "code",
   "execution_count": 247,
   "metadata": {},
   "outputs": [
    {
     "data": {
      "text/html": [
       "<pre>✔️ 78 ms (2021-10-02T17:43:04/2021-10-02T17:43:04)</pre>"
      ],
      "text/plain": [
       "<IPython.core.display.HTML object>"
      ]
     },
     "metadata": {},
     "output_type": "display_data"
    },
    {
     "name": "stdout",
     "output_type": "stream",
     "text": [
      "Size antes de eliminar instancias (32135, 16)\n",
      "Size después de eliminar instancias (32132, 16)\n"
     ]
    }
   ],
   "source": [
    "# Como vemos que existen dos 'id' duplicados y dos NaN, procedemos a eliminarlos\n",
    "print('Size antes de eliminar instancias', data_games.shape)\n",
    "data_games.drop_duplicates(subset=['id'], inplace=True)\n",
    "data_games.dropna(subset=['id'], inplace=True)\n",
    "print('Size después de eliminar instancias', data_games.shape)"
   ]
  },
  {
   "cell_type": "code",
   "execution_count": 248,
   "metadata": {},
   "outputs": [
    {
     "data": {
      "text/html": [
       "<pre>✔️ 32 ms (2021-10-02T17:43:04/2021-10-02T17:43:04)</pre>"
      ],
      "text/plain": [
       "<IPython.core.display.HTML object>"
      ]
     },
     "metadata": {},
     "output_type": "display_data"
    },
    {
     "data": {
      "text/html": [
       "<div>\n",
       "<style scoped>\n",
       "    .dataframe tbody tr th:only-of-type {\n",
       "        vertical-align: middle;\n",
       "    }\n",
       "\n",
       "    .dataframe tbody tr th {\n",
       "        vertical-align: top;\n",
       "    }\n",
       "\n",
       "    .dataframe thead th {\n",
       "        text-align: right;\n",
       "    }\n",
       "</style>\n",
       "<table border=\"1\" class=\"dataframe\">\n",
       "  <thead>\n",
       "    <tr style=\"text-align: right;\">\n",
       "      <th></th>\n",
       "      <th>publisher</th>\n",
       "      <th>genres</th>\n",
       "      <th>app_name</th>\n",
       "      <th>title</th>\n",
       "      <th>url</th>\n",
       "      <th>release_date</th>\n",
       "      <th>tags</th>\n",
       "      <th>discount_price</th>\n",
       "      <th>reviews_url</th>\n",
       "      <th>specs</th>\n",
       "      <th>price</th>\n",
       "      <th>early_access</th>\n",
       "      <th>id</th>\n",
       "      <th>developer</th>\n",
       "      <th>sentiment</th>\n",
       "      <th>metascore</th>\n",
       "    </tr>\n",
       "  </thead>\n",
       "  <tbody>\n",
       "    <tr>\n",
       "      <th>32130</th>\n",
       "      <td>Ghost_RUS Games</td>\n",
       "      <td>[Casual, Indie, Simulation, Strategy]</td>\n",
       "      <td>Colony On Mars</td>\n",
       "      <td>Colony On Mars</td>\n",
       "      <td>http://store.steampowered.com/app/773640/Colon...</td>\n",
       "      <td>2018-01-04</td>\n",
       "      <td>[Strategy, Indie, Casual, Simulation]</td>\n",
       "      <td>1.4900</td>\n",
       "      <td>http://steamcommunity.com/app/773640/reviews/?...</td>\n",
       "      <td>[Single-player, Steam Achievements]</td>\n",
       "      <td>1.9900</td>\n",
       "      <td>False</td>\n",
       "      <td>773640</td>\n",
       "      <td>Nikita \"Ghost_RUS\"</td>\n",
       "      <td>NaN</td>\n",
       "      <td>NaN</td>\n",
       "    </tr>\n",
       "    <tr>\n",
       "      <th>32131</th>\n",
       "      <td>Sacada</td>\n",
       "      <td>[Casual, Indie, Strategy]</td>\n",
       "      <td>LOGistICAL: South Africa</td>\n",
       "      <td>LOGistICAL: South Africa</td>\n",
       "      <td>http://store.steampowered.com/app/733530/LOGis...</td>\n",
       "      <td>2018-01-04</td>\n",
       "      <td>[Strategy, Indie, Casual]</td>\n",
       "      <td>4.2400</td>\n",
       "      <td>http://steamcommunity.com/app/733530/reviews/?...</td>\n",
       "      <td>[Single-player, Steam Achievements, Steam Clou...</td>\n",
       "      <td>4.9900</td>\n",
       "      <td>False</td>\n",
       "      <td>733530</td>\n",
       "      <td>Sacada</td>\n",
       "      <td>NaN</td>\n",
       "      <td>NaN</td>\n",
       "    </tr>\n",
       "    <tr>\n",
       "      <th>32132</th>\n",
       "      <td>Laush Studio</td>\n",
       "      <td>[Indie, Racing, Simulation]</td>\n",
       "      <td>Russian Roads</td>\n",
       "      <td>Russian Roads</td>\n",
       "      <td>http://store.steampowered.com/app/610660/Russi...</td>\n",
       "      <td>2018-01-04</td>\n",
       "      <td>[Indie, Simulation, Racing]</td>\n",
       "      <td>1.3900</td>\n",
       "      <td>http://steamcommunity.com/app/610660/reviews/?...</td>\n",
       "      <td>[Single-player, Steam Achievements, Steam Trad...</td>\n",
       "      <td>1.9900</td>\n",
       "      <td>False</td>\n",
       "      <td>610660</td>\n",
       "      <td>Laush Dmitriy Sergeevich</td>\n",
       "      <td>NaN</td>\n",
       "      <td>NaN</td>\n",
       "    </tr>\n",
       "    <tr>\n",
       "      <th>32133</th>\n",
       "      <td>SIXNAILS</td>\n",
       "      <td>[Casual, Indie]</td>\n",
       "      <td>EXIT 2 - Directions</td>\n",
       "      <td>EXIT 2 - Directions</td>\n",
       "      <td>http://store.steampowered.com/app/658870/EXIT_...</td>\n",
       "      <td>2017-09-02</td>\n",
       "      <td>[Indie, Casual, Puzzle, Singleplayer, Atmosphe...</td>\n",
       "      <td>NaN</td>\n",
       "      <td>http://steamcommunity.com/app/658870/reviews/?...</td>\n",
       "      <td>[Single-player, Steam Achievements, Steam Cloud]</td>\n",
       "      <td>4.9900</td>\n",
       "      <td>False</td>\n",
       "      <td>658870</td>\n",
       "      <td>xropi,stev3ns</td>\n",
       "      <td>1 user reviews</td>\n",
       "      <td>NaN</td>\n",
       "    </tr>\n",
       "    <tr>\n",
       "      <th>32134</th>\n",
       "      <td>NaN</td>\n",
       "      <td>NaN</td>\n",
       "      <td>Maze Run VR</td>\n",
       "      <td>NaN</td>\n",
       "      <td>http://store.steampowered.com/app/681550/Maze_...</td>\n",
       "      <td>NaN</td>\n",
       "      <td>[Early Access, Adventure, Indie, Action, Simul...</td>\n",
       "      <td>NaN</td>\n",
       "      <td>http://steamcommunity.com/app/681550/reviews/?...</td>\n",
       "      <td>[Single-player, Stats, Steam Leaderboards, HTC...</td>\n",
       "      <td>4.9900</td>\n",
       "      <td>True</td>\n",
       "      <td>681550</td>\n",
       "      <td>NaN</td>\n",
       "      <td>Positive</td>\n",
       "      <td>NaN</td>\n",
       "    </tr>\n",
       "  </tbody>\n",
       "</table>\n",
       "</div>"
      ],
      "text/plain": [
       "             publisher                                 genres  \\\n",
       "32130  Ghost_RUS Games  [Casual, Indie, Simulation, Strategy]   \n",
       "32131           Sacada              [Casual, Indie, Strategy]   \n",
       "32132     Laush Studio            [Indie, Racing, Simulation]   \n",
       "32133         SIXNAILS                        [Casual, Indie]   \n",
       "32134              NaN                                    NaN   \n",
       "\n",
       "                       app_name                     title  \\\n",
       "32130            Colony On Mars            Colony On Mars   \n",
       "32131  LOGistICAL: South Africa  LOGistICAL: South Africa   \n",
       "32132             Russian Roads             Russian Roads   \n",
       "32133       EXIT 2 - Directions       EXIT 2 - Directions   \n",
       "32134               Maze Run VR                       NaN   \n",
       "\n",
       "                                                     url release_date  \\\n",
       "32130  http://store.steampowered.com/app/773640/Colon...   2018-01-04   \n",
       "32131  http://store.steampowered.com/app/733530/LOGis...   2018-01-04   \n",
       "32132  http://store.steampowered.com/app/610660/Russi...   2018-01-04   \n",
       "32133  http://store.steampowered.com/app/658870/EXIT_...   2017-09-02   \n",
       "32134  http://store.steampowered.com/app/681550/Maze_...          NaN   \n",
       "\n",
       "                                                    tags  discount_price  \\\n",
       "32130              [Strategy, Indie, Casual, Simulation]          1.4900   \n",
       "32131                          [Strategy, Indie, Casual]          4.2400   \n",
       "32132                        [Indie, Simulation, Racing]          1.3900   \n",
       "32133  [Indie, Casual, Puzzle, Singleplayer, Atmosphe...             NaN   \n",
       "32134  [Early Access, Adventure, Indie, Action, Simul...             NaN   \n",
       "\n",
       "                                             reviews_url  \\\n",
       "32130  http://steamcommunity.com/app/773640/reviews/?...   \n",
       "32131  http://steamcommunity.com/app/733530/reviews/?...   \n",
       "32132  http://steamcommunity.com/app/610660/reviews/?...   \n",
       "32133  http://steamcommunity.com/app/658870/reviews/?...   \n",
       "32134  http://steamcommunity.com/app/681550/reviews/?...   \n",
       "\n",
       "                                                   specs  price  early_access  \\\n",
       "32130                [Single-player, Steam Achievements] 1.9900         False   \n",
       "32131  [Single-player, Steam Achievements, Steam Clou... 4.9900         False   \n",
       "32132  [Single-player, Steam Achievements, Steam Trad... 1.9900         False   \n",
       "32133   [Single-player, Steam Achievements, Steam Cloud] 4.9900         False   \n",
       "32134  [Single-player, Stats, Steam Leaderboards, HTC... 4.9900          True   \n",
       "\n",
       "           id                 developer       sentiment metascore  \n",
       "32130  773640        Nikita \"Ghost_RUS\"             NaN       NaN  \n",
       "32131  733530                    Sacada             NaN       NaN  \n",
       "32132  610660  Laush Dmitriy Sergeevich             NaN       NaN  \n",
       "32133  658870             xropi,stev3ns  1 user reviews       NaN  \n",
       "32134  681550                       NaN        Positive       NaN  "
      ]
     },
     "execution_count": 248,
     "metadata": {},
     "output_type": "execute_result"
    }
   ],
   "source": [
    "# Previsualizo las ultimas 5 instancias\n",
    "data_games.tail()"
   ]
  },
  {
   "cell_type": "code",
   "execution_count": 249,
   "metadata": {},
   "outputs": [
    {
     "data": {
      "text/html": [
       "<pre>✔️ 78 ms (2021-10-02T17:43:04/2021-10-02T17:43:04)</pre>"
      ],
      "text/plain": [
       "<IPython.core.display.HTML object>"
      ]
     },
     "metadata": {},
     "output_type": "display_data"
    },
    {
     "name": "stdout",
     "output_type": "stream",
     "text": [
      "<class 'pandas.core.frame.DataFrame'>\n",
      "Int64Index: 32132 entries, 0 to 32134\n",
      "Data columns (total 16 columns):\n",
      " #   Column          Non-Null Count  Dtype  \n",
      "---  ------          --------------  -----  \n",
      " 0   publisher       24081 non-null  object \n",
      " 1   genres          28850 non-null  object \n",
      " 2   app_name        32131 non-null  object \n",
      " 3   title           30083 non-null  object \n",
      " 4   url             32132 non-null  object \n",
      " 5   release_date    30066 non-null  object \n",
      " 6   tags            31970 non-null  object \n",
      " 7   discount_price  224 non-null    float64\n",
      " 8   reviews_url     32132 non-null  object \n",
      " 9   specs           31463 non-null  object \n",
      " 10  price           30755 non-null  object \n",
      " 11  early_access    32132 non-null  bool   \n",
      " 12  id              32132 non-null  object \n",
      " 13  developer       28834 non-null  object \n",
      " 14  sentiment       24951 non-null  object \n",
      " 15  metascore       2675 non-null   object \n",
      "dtypes: bool(1), float64(1), object(14)\n",
      "memory usage: 4.0+ MB\n"
     ]
    }
   ],
   "source": [
    "# Reviso la informacion general del dataset\n",
    "data_games.info()"
   ]
  },
  {
   "cell_type": "code",
   "execution_count": 250,
   "metadata": {},
   "outputs": [
    {
     "data": {
      "text/html": [
       "<pre>✔️ 47 ms (2021-10-02T17:43:04/2021-10-02T17:43:04)</pre>"
      ],
      "text/plain": [
       "<IPython.core.display.HTML object>"
      ]
     },
     "metadata": {},
     "output_type": "display_data"
    },
    {
     "data": {
      "text/plain": [
       "publisher          8051\n",
       "genres             3282\n",
       "app_name              1\n",
       "title              2049\n",
       "url                   0\n",
       "release_date       2066\n",
       "tags                162\n",
       "discount_price    31908\n",
       "reviews_url           0\n",
       "specs               669\n",
       "price              1377\n",
       "early_access          0\n",
       "id                    0\n",
       "developer          3298\n",
       "sentiment          7181\n",
       "metascore         29457\n",
       "dtype: int64"
      ]
     },
     "execution_count": 250,
     "metadata": {},
     "output_type": "execute_result"
    }
   ],
   "source": [
    "# Vemos los missings\n",
    "data_games.isna().sum()"
   ]
  },
  {
   "cell_type": "code",
   "execution_count": 251,
   "metadata": {},
   "outputs": [
    {
     "data": {
      "text/html": [
       "<pre>✔️ 32 ms (2021-10-02T17:43:04/2021-10-02T17:43:05)</pre>"
      ],
      "text/plain": [
       "<IPython.core.display.HTML object>"
      ]
     },
     "metadata": {},
     "output_type": "display_data"
    },
    {
     "data": {
      "text/html": [
       "<div>\n",
       "<style scoped>\n",
       "    .dataframe tbody tr th:only-of-type {\n",
       "        vertical-align: middle;\n",
       "    }\n",
       "\n",
       "    .dataframe tbody tr th {\n",
       "        vertical-align: top;\n",
       "    }\n",
       "\n",
       "    .dataframe thead th {\n",
       "        text-align: right;\n",
       "    }\n",
       "</style>\n",
       "<table border=\"1\" class=\"dataframe\">\n",
       "  <thead>\n",
       "    <tr style=\"text-align: right;\">\n",
       "      <th></th>\n",
       "      <th>publisher</th>\n",
       "      <th>genres</th>\n",
       "      <th>app_name</th>\n",
       "      <th>tags</th>\n",
       "      <th>specs</th>\n",
       "      <th>price</th>\n",
       "      <th>id</th>\n",
       "      <th>developer</th>\n",
       "      <th>sentiment</th>\n",
       "    </tr>\n",
       "  </thead>\n",
       "  <tbody>\n",
       "    <tr>\n",
       "      <th>0</th>\n",
       "      <td>Kotoshiro</td>\n",
       "      <td>[Action, Casual, Indie, Simulation, Strategy]</td>\n",
       "      <td>Lost Summoner Kitty</td>\n",
       "      <td>[Strategy, Action, Indie, Casual, Simulation]</td>\n",
       "      <td>[Single-player]</td>\n",
       "      <td>4.9900</td>\n",
       "      <td>761140</td>\n",
       "      <td>Kotoshiro</td>\n",
       "      <td>NaN</td>\n",
       "    </tr>\n",
       "    <tr>\n",
       "      <th>1</th>\n",
       "      <td>Making Fun, Inc.</td>\n",
       "      <td>[Free to Play, Indie, RPG, Strategy]</td>\n",
       "      <td>Ironbound</td>\n",
       "      <td>[Free to Play, Strategy, Indie, RPG, Card Game...</td>\n",
       "      <td>[Single-player, Multi-player, Online Multi-Pla...</td>\n",
       "      <td>Free To Play</td>\n",
       "      <td>643980</td>\n",
       "      <td>Secret Level SRL</td>\n",
       "      <td>Mostly Positive</td>\n",
       "    </tr>\n",
       "    <tr>\n",
       "      <th>2</th>\n",
       "      <td>Poolians.com</td>\n",
       "      <td>[Casual, Free to Play, Indie, Simulation, Sports]</td>\n",
       "      <td>Real Pool 3D - Poolians</td>\n",
       "      <td>[Free to Play, Simulation, Sports, Casual, Ind...</td>\n",
       "      <td>[Single-player, Multi-player, Online Multi-Pla...</td>\n",
       "      <td>Free to Play</td>\n",
       "      <td>670290</td>\n",
       "      <td>Poolians.com</td>\n",
       "      <td>Mostly Positive</td>\n",
       "    </tr>\n",
       "    <tr>\n",
       "      <th>3</th>\n",
       "      <td>彼岸领域</td>\n",
       "      <td>[Action, Adventure, Casual]</td>\n",
       "      <td>弹炸人2222</td>\n",
       "      <td>[Action, Adventure, Casual]</td>\n",
       "      <td>[Single-player]</td>\n",
       "      <td>0.9900</td>\n",
       "      <td>767400</td>\n",
       "      <td>彼岸领域</td>\n",
       "      <td>NaN</td>\n",
       "    </tr>\n",
       "    <tr>\n",
       "      <th>4</th>\n",
       "      <td>NaN</td>\n",
       "      <td>NaN</td>\n",
       "      <td>Log Challenge</td>\n",
       "      <td>[Action, Indie, Casual, Sports]</td>\n",
       "      <td>[Single-player, Full controller support, HTC V...</td>\n",
       "      <td>2.9900</td>\n",
       "      <td>773570</td>\n",
       "      <td>NaN</td>\n",
       "      <td>NaN</td>\n",
       "    </tr>\n",
       "  </tbody>\n",
       "</table>\n",
       "</div>"
      ],
      "text/plain": [
       "          publisher                                             genres  \\\n",
       "0         Kotoshiro      [Action, Casual, Indie, Simulation, Strategy]   \n",
       "1  Making Fun, Inc.               [Free to Play, Indie, RPG, Strategy]   \n",
       "2      Poolians.com  [Casual, Free to Play, Indie, Simulation, Sports]   \n",
       "3              彼岸领域                        [Action, Adventure, Casual]   \n",
       "4               NaN                                                NaN   \n",
       "\n",
       "                  app_name                                               tags  \\\n",
       "0      Lost Summoner Kitty      [Strategy, Action, Indie, Casual, Simulation]   \n",
       "1                Ironbound  [Free to Play, Strategy, Indie, RPG, Card Game...   \n",
       "2  Real Pool 3D - Poolians  [Free to Play, Simulation, Sports, Casual, Ind...   \n",
       "3                  弹炸人2222                        [Action, Adventure, Casual]   \n",
       "4            Log Challenge                    [Action, Indie, Casual, Sports]   \n",
       "\n",
       "                                               specs         price      id  \\\n",
       "0                                    [Single-player]        4.9900  761140   \n",
       "1  [Single-player, Multi-player, Online Multi-Pla...  Free To Play  643980   \n",
       "2  [Single-player, Multi-player, Online Multi-Pla...  Free to Play  670290   \n",
       "3                                    [Single-player]        0.9900  767400   \n",
       "4  [Single-player, Full controller support, HTC V...        2.9900  773570   \n",
       "\n",
       "          developer        sentiment  \n",
       "0         Kotoshiro              NaN  \n",
       "1  Secret Level SRL  Mostly Positive  \n",
       "2      Poolians.com  Mostly Positive  \n",
       "3              彼岸领域              NaN  \n",
       "4               NaN              NaN  "
      ]
     },
     "execution_count": 251,
     "metadata": {},
     "output_type": "execute_result"
    }
   ],
   "source": [
    "# Selecciono las columnas que me interesan\n",
    "# Descarto la columna 'title' ya que tienen muchos missings y la columna 'app_name' tiene los nombres de los juegos\n",
    "columnas = ['publisher', 'genres', 'app_name', 'tags', 'specs', 'price', 'id', 'developer', 'sentiment']\n",
    "data_games = data_games[columnas]\n",
    "data_games.head()"
   ]
  },
  {
   "cell_type": "code",
   "execution_count": 252,
   "metadata": {},
   "outputs": [
    {
     "data": {
      "text/html": [
       "<pre>✔️ 31 ms (2021-10-02T17:43:05/2021-10-02T17:43:05)</pre>"
      ],
      "text/plain": [
       "<IPython.core.display.HTML object>"
      ]
     },
     "metadata": {},
     "output_type": "display_data"
    },
    {
     "data": {
      "text/plain": [
       "publisher    8051\n",
       "genres       3282\n",
       "app_name        1\n",
       "tags          162\n",
       "specs         669\n",
       "price        1377\n",
       "id              0\n",
       "developer    3298\n",
       "sentiment    7181\n",
       "dtype: int64"
      ]
     },
     "execution_count": 252,
     "metadata": {},
     "output_type": "execute_result"
    }
   ],
   "source": [
    "# Vemos los missings\n",
    "data_games.isna().sum()"
   ]
  },
  {
   "cell_type": "code",
   "execution_count": 253,
   "metadata": {},
   "outputs": [
    {
     "data": {
      "text/html": [
       "<pre>✔️ 16 ms (2021-10-02T17:43:05/2021-10-02T17:43:05)</pre>"
      ],
      "text/plain": [
       "<IPython.core.display.HTML object>"
      ]
     },
     "metadata": {},
     "output_type": "display_data"
    }
   ],
   "source": [
    "# Descarto los missings de 'app_name'\n",
    "data_games.dropna(axis=0, subset=['app_name'], inplace=True)"
   ]
  },
  {
   "cell_type": "code",
   "execution_count": 254,
   "metadata": {},
   "outputs": [
    {
     "data": {
      "text/html": [
       "<pre>✔️ 16 ms (2021-10-02T17:43:05/2021-10-02T17:43:05)</pre>"
      ],
      "text/plain": [
       "<IPython.core.display.HTML object>"
      ]
     },
     "metadata": {},
     "output_type": "display_data"
    },
    {
     "data": {
      "text/plain": [
       "publisher    object\n",
       "genres       object\n",
       "app_name     object\n",
       "tags         object\n",
       "specs        object\n",
       "price        object\n",
       "id           object\n",
       "developer    object\n",
       "sentiment    object\n",
       "dtype: object"
      ]
     },
     "execution_count": 254,
     "metadata": {},
     "output_type": "execute_result"
    }
   ],
   "source": [
    "# Observamos los tipos de dato\n",
    "data_games.dtypes"
   ]
  },
  {
   "cell_type": "code",
   "execution_count": 255,
   "metadata": {},
   "outputs": [
    {
     "data": {
      "text/html": [
       "<pre>✔️ 16 ms (2021-10-02T17:43:05/2021-10-02T17:43:05)</pre>"
      ],
      "text/plain": [
       "<IPython.core.display.HTML object>"
      ]
     },
     "metadata": {},
     "output_type": "display_data"
    }
   ],
   "source": [
    "# Cambio el tipo de dato de la columna 'id' para que coincida con la del dataframe 'data_reviews' \n",
    "data_games['id'] = data_games['id'].astype('int64')"
   ]
  },
  {
   "cell_type": "code",
   "execution_count": 256,
   "metadata": {},
   "outputs": [
    {
     "data": {
      "text/html": [
       "<pre>✔️ 0 ns (2021-10-02T17:43:05/2021-10-02T17:43:05)</pre>"
      ],
      "text/plain": [
       "<IPython.core.display.HTML object>"
      ]
     },
     "metadata": {},
     "output_type": "display_data"
    },
    {
     "data": {
      "text/plain": [
       "publisher    object\n",
       "genres       object\n",
       "app_name     object\n",
       "tags         object\n",
       "specs        object\n",
       "price        object\n",
       "id            int64\n",
       "developer    object\n",
       "sentiment    object\n",
       "dtype: object"
      ]
     },
     "execution_count": 256,
     "metadata": {},
     "output_type": "execute_result"
    }
   ],
   "source": [
    "# Chequeo los data types\n",
    "data_games.dtypes"
   ]
  },
  {
   "cell_type": "code",
   "execution_count": 257,
   "metadata": {},
   "outputs": [
    {
     "data": {
      "text/html": [
       "<pre>✔️ 578 ms (2021-10-02T17:43:06/2021-10-02T17:43:06)</pre>"
      ],
      "text/plain": [
       "<IPython.core.display.HTML object>"
      ]
     },
     "metadata": {},
     "output_type": "display_data"
    },
    {
     "data": {
      "text/plain": [
       "(779307, 6)"
      ]
     },
     "execution_count": 257,
     "metadata": {},
     "output_type": "execute_result"
    }
   ],
   "source": [
    "# Agregamos el nombre del juego al dataframe de reviews\n",
    "data_reviews = pd.merge(data_reviews, data_games[['id', 'app_name']], how='left', left_on='product_id', right_on='id')\n",
    "data_reviews.drop(['id'], axis=1, inplace=True)\n",
    "data_reviews.shape"
   ]
  },
  {
   "cell_type": "code",
   "execution_count": 258,
   "metadata": {},
   "outputs": [
    {
     "data": {
      "text/html": [
       "<pre>✔️ 16 ms (2021-10-02T17:43:07/2021-10-02T17:43:07)</pre>"
      ],
      "text/plain": [
       "<IPython.core.display.HTML object>"
      ]
     },
     "metadata": {},
     "output_type": "display_data"
    },
    {
     "data": {
      "text/html": [
       "<div>\n",
       "<style scoped>\n",
       "    .dataframe tbody tr th:only-of-type {\n",
       "        vertical-align: middle;\n",
       "    }\n",
       "\n",
       "    .dataframe tbody tr th {\n",
       "        vertical-align: top;\n",
       "    }\n",
       "\n",
       "    .dataframe thead th {\n",
       "        text-align: right;\n",
       "    }\n",
       "</style>\n",
       "<table border=\"1\" class=\"dataframe\">\n",
       "  <thead>\n",
       "    <tr style=\"text-align: right;\">\n",
       "      <th></th>\n",
       "      <th>username</th>\n",
       "      <th>hours</th>\n",
       "      <th>product_id</th>\n",
       "      <th>text</th>\n",
       "      <th>user_id</th>\n",
       "      <th>app_name</th>\n",
       "    </tr>\n",
       "  </thead>\n",
       "  <tbody>\n",
       "    <tr>\n",
       "      <th>0</th>\n",
       "      <td>Chaos Syren</td>\n",
       "      <td>0.1000</td>\n",
       "      <td>725280</td>\n",
       "      <td>This would not be acceptable as an entertainme...</td>\n",
       "      <td>62543</td>\n",
       "      <td>Psi Project</td>\n",
       "    </tr>\n",
       "    <tr>\n",
       "      <th>1</th>\n",
       "      <td>Ariman1</td>\n",
       "      <td>13.2000</td>\n",
       "      <td>328100</td>\n",
       "      <td>Addictive RPG ! Works fine on linux though it ...</td>\n",
       "      <td>26902</td>\n",
       "      <td>Gunspell - Steam Edition</td>\n",
       "    </tr>\n",
       "    <tr>\n",
       "      <th>2</th>\n",
       "      <td>freakfantom</td>\n",
       "      <td>0.1000</td>\n",
       "      <td>725280</td>\n",
       "      <td>Прикольная стрелялка. Взял дешево на распродаже.</td>\n",
       "      <td>434602</td>\n",
       "      <td>Psi Project</td>\n",
       "    </tr>\n",
       "    <tr>\n",
       "      <th>3</th>\n",
       "      <td>The_Cpt_FROGGY</td>\n",
       "      <td>7.8000</td>\n",
       "      <td>631920</td>\n",
       "      <td>Somewhere on Zibylon:\\n~~~~~~~~~~~~~~~~~~\\nZib...</td>\n",
       "      <td>347902</td>\n",
       "      <td>Somewhere on Zibylon</td>\n",
       "    </tr>\n",
       "    <tr>\n",
       "      <th>4</th>\n",
       "      <td>the_maker988</td>\n",
       "      <td>8.2000</td>\n",
       "      <td>35140</td>\n",
       "      <td>This game was way to linear for me, and compar...</td>\n",
       "      <td>503848</td>\n",
       "      <td>Batman: Arkham Asylum Game of the Year Edition</td>\n",
       "    </tr>\n",
       "  </tbody>\n",
       "</table>\n",
       "</div>"
      ],
      "text/plain": [
       "         username   hours  product_id  \\\n",
       "0     Chaos Syren  0.1000      725280   \n",
       "1         Ariman1 13.2000      328100   \n",
       "2     freakfantom  0.1000      725280   \n",
       "3  The_Cpt_FROGGY  7.8000      631920   \n",
       "4    the_maker988  8.2000       35140   \n",
       "\n",
       "                                                text  user_id  \\\n",
       "0  This would not be acceptable as an entertainme...    62543   \n",
       "1  Addictive RPG ! Works fine on linux though it ...    26902   \n",
       "2   Прикольная стрелялка. Взял дешево на распродаже.   434602   \n",
       "3  Somewhere on Zibylon:\\n~~~~~~~~~~~~~~~~~~\\nZib...   347902   \n",
       "4  This game was way to linear for me, and compar...   503848   \n",
       "\n",
       "                                         app_name  \n",
       "0                                     Psi Project  \n",
       "1                        Gunspell - Steam Edition  \n",
       "2                                     Psi Project  \n",
       "3                            Somewhere on Zibylon  \n",
       "4  Batman: Arkham Asylum Game of the Year Edition  "
      ]
     },
     "execution_count": 258,
     "metadata": {},
     "output_type": "execute_result"
    }
   ],
   "source": [
    "data_reviews.head()"
   ]
  },
  {
   "cell_type": "markdown",
   "metadata": {},
   "source": [
    "### Procesamiento de texto"
   ]
  },
  {
   "cell_type": "markdown",
   "metadata": {},
   "source": [
    "A continuacion vamos a procesar el campo 'text' (que contiene los comentarios de las reviews) para inferir un 'rating' y poder tener una medida de la preferencia del usuario respecto del juego sobre el cual realizó la opinión."
   ]
  },
  {
   "cell_type": "code",
   "execution_count": 259,
   "metadata": {},
   "outputs": [
    {
     "data": {
      "text/html": [
       "<pre>✔️ 47 ms (2021-10-02T17:43:46/2021-10-02T17:43:46)</pre>"
      ],
      "text/plain": [
       "<IPython.core.display.HTML object>"
      ]
     },
     "metadata": {},
     "output_type": "display_data"
    }
   ],
   "source": [
    "# Trabajaremos sobre una copia del dataset de reviews\n",
    "df_reviews = data_reviews.copy()"
   ]
  },
  {
   "cell_type": "code",
   "execution_count": 260,
   "metadata": {},
   "outputs": [
    {
     "data": {
      "text/html": [
       "<pre>✔️ 0 ns (2021-10-02T17:43:47/2021-10-02T17:43:47)</pre>"
      ],
      "text/plain": [
       "<IPython.core.display.HTML object>"
      ]
     },
     "metadata": {},
     "output_type": "display_data"
    },
    {
     "data": {
      "text/plain": [
       "(779307, 6)"
      ]
     },
     "execution_count": 260,
     "metadata": {},
     "output_type": "execute_result"
    }
   ],
   "source": [
    "df_reviews.shape"
   ]
  },
  {
   "cell_type": "markdown",
   "metadata": {},
   "source": [
    "#### Limpieza del campo 'text'"
   ]
  },
  {
   "cell_type": "code",
   "execution_count": 261,
   "metadata": {},
   "outputs": [
    {
     "data": {
      "text/html": [
       "<pre>✔️ 15 ms (2021-10-02T17:43:50/2021-10-02T17:43:50)</pre>"
      ],
      "text/plain": [
       "<IPython.core.display.HTML object>"
      ]
     },
     "metadata": {},
     "output_type": "display_data"
    },
    {
     "name": "stderr",
     "output_type": "stream",
     "text": [
      "[nltk_data] Downloading package stopwords to\n",
      "[nltk_data]     C:\\Users\\elmai\\AppData\\Roaming\\nltk_data...\n",
      "[nltk_data]   Package stopwords is already up-to-date!\n"
     ]
    }
   ],
   "source": [
    "nltk.download('stopwords')\n",
    "# Instanciamos el tokenizer\n",
    "tokenizer=RegexpTokenizer(\"\\w+\")\n",
    "\n",
    "# Importamos la función que nos permite Stemmizar de nltk y definimos el stemmer\n",
    "stemmer = PorterStemmer()\n",
    "\n",
    "# Instanciamos el Lemmatizer\n",
    "lemmatizer = WordNetLemmatizer()\n",
    "\n",
    "# Traemos las stopwords\n",
    "stopwords = nltk.corpus.stopwords.words('english')"
   ]
  },
  {
   "cell_type": "code",
   "execution_count": 262,
   "metadata": {},
   "outputs": [
    {
     "data": {
      "text/html": [
       "<pre>✔️ 0 ns (2021-10-02T17:43:51/2021-10-02T17:43:51)</pre>"
      ],
      "text/plain": [
       "<IPython.core.display.HTML object>"
      ]
     },
     "metadata": {},
     "output_type": "display_data"
    }
   ],
   "source": [
    "# Creo funcion para identificar el rol de cada palabra en el texto del comentario\n",
    "def get_wordnet_pos(word):\n",
    "    \"\"\"Map POS tag to first character lemmatize() accepts\"\"\"\n",
    "    tag = nltk.pos_tag([word])[0][1][0].upper()\n",
    "    tag_dict = {\"J\": wordnet.ADJ,\n",
    "                \"N\": wordnet.NOUN,\n",
    "                \"V\": wordnet.VERB,\n",
    "                \"R\": wordnet.ADV}\n",
    "\n",
    "    return tag_dict.get(tag, wordnet.NOUN)"
   ]
  },
  {
   "cell_type": "code",
   "execution_count": 263,
   "metadata": {},
   "outputs": [
    {
     "data": {
      "text/html": [
       "<pre>✔️ 0 ns (2021-10-02T17:43:52/2021-10-02T17:43:52)</pre>"
      ],
      "text/plain": [
       "<IPython.core.display.HTML object>"
      ]
     },
     "metadata": {},
     "output_type": "display_data"
    }
   ],
   "source": [
    "# Creamos método para aplicar la Normalizacion y luega el Stemming a cada instancia\n",
    "def processText(text):\n",
    "    \n",
    "    # Vamos a reemplzar los caracteres que no sean letras por espacios\n",
    "    text = re.sub(\"[^a-zA-Z]\",\" \",str(text))\n",
    "    \n",
    "    # Pasamos todo a minúsculas\n",
    "#     text = text.lower()\n",
    "    \n",
    "    # Tokenizamos para separar las palabras del titular\n",
    "    text = tokenizer.tokenize(text)\n",
    "    \n",
    "    # Eliminamos las palabras de menos de 4 letras\n",
    "    text = [palabra for palabra in text if len(palabra) >= 3]\n",
    "    \n",
    "    # Sacamos las Stopwords\n",
    "    text = [p for p in text if not p in stopwords]\n",
    "    \n",
    "    # Aplicamos el Lemmatizer (Esto puede tardar un ratito)\n",
    "#     text = [lemmatizer.lemmatize(w, get_wordnet_pos(w)) for w in text]\n",
    "    \n",
    "    ## Hasta acá Normalizamos, ahora a stemmizar\n",
    "    # Aplicamos la funcion para buscar la raiz de las palabras\n",
    "#     text = [stemmer.stem(t) for t in text]\n",
    "    \n",
    "    # Por ultimo volvemos a unir el titular\n",
    "    text = \" \".join(text)\n",
    "    \n",
    "    return text"
   ]
  },
  {
   "cell_type": "code",
   "execution_count": 264,
   "metadata": {},
   "outputs": [
    {
     "data": {
      "text/html": [
       "<pre>✔️ 2 min 40 s (2021-10-02T17:43:53/2021-10-02T17:46:33)</pre>"
      ],
      "text/plain": [
       "<IPython.core.display.HTML object>"
      ]
     },
     "metadata": {},
     "output_type": "display_data"
    },
    {
     "data": {
      "application/vnd.jupyter.widget-view+json": {
       "model_id": "7bdbbea76e1b4a95a5ae1a444c7fcfd4",
       "version_major": 2,
       "version_minor": 0
      },
      "text/plain": [
       "  0%|          | 0/779307 [00:00<?, ?it/s]"
      ]
     },
     "metadata": {},
     "output_type": "display_data"
    }
   ],
   "source": [
    "# Aplicamos la transformación\n",
    "if PROCESS_TEXT:\n",
    "    df_reviews['cleaned_text'] = df_reviews['text'].progress_apply(processText)\n",
    "    df_reviews.to_csv('df_reviews.csv', index_label='index')\n",
    "else:\n",
    "    df_reviews = pd.read_csv('df_reviews.csv')\n",
    "    df_reviews.drop(columns='index', inplace=True)"
   ]
  },
  {
   "cell_type": "code",
   "execution_count": 265,
   "metadata": {},
   "outputs": [
    {
     "data": {
      "text/html": [
       "<pre>✔️ 234 ms (2021-10-02T17:52:35/2021-10-02T17:52:35)</pre>"
      ],
      "text/plain": [
       "<IPython.core.display.HTML object>"
      ]
     },
     "metadata": {},
     "output_type": "display_data"
    },
    {
     "data": {
      "text/html": [
       "<div>\n",
       "<style scoped>\n",
       "    .dataframe tbody tr th:only-of-type {\n",
       "        vertical-align: middle;\n",
       "    }\n",
       "\n",
       "    .dataframe tbody tr th {\n",
       "        vertical-align: top;\n",
       "    }\n",
       "\n",
       "    .dataframe thead th {\n",
       "        text-align: right;\n",
       "    }\n",
       "</style>\n",
       "<table border=\"1\" class=\"dataframe\">\n",
       "  <thead>\n",
       "    <tr style=\"text-align: right;\">\n",
       "      <th></th>\n",
       "      <th>username</th>\n",
       "      <th>hours</th>\n",
       "      <th>product_id</th>\n",
       "      <th>text</th>\n",
       "      <th>user_id</th>\n",
       "      <th>app_name</th>\n",
       "      <th>cleaned_text</th>\n",
       "    </tr>\n",
       "  </thead>\n",
       "  <tbody>\n",
       "    <tr>\n",
       "      <th>477594</th>\n",
       "      <td>Mr. Dump Ling</td>\n",
       "      <td>11.4000</td>\n",
       "      <td>301640</td>\n",
       "      <td>For those claiming too scray, i say just enoug...</td>\n",
       "      <td>228755</td>\n",
       "      <td>Zombie Army Trilogy</td>\n",
       "      <td>For claiming scray say enough For claiming rep...</td>\n",
       "    </tr>\n",
       "    <tr>\n",
       "      <th>684957</th>\n",
       "      <td>Merim</td>\n",
       "      <td>23.8000</td>\n",
       "      <td>225300</td>\n",
       "      <td>This is actually harder than Tomb Raider I, es...</td>\n",
       "      <td>219592</td>\n",
       "      <td>Tomb Raider II</td>\n",
       "      <td>This actually harder Tomb Raider especially pu...</td>\n",
       "    </tr>\n",
       "    <tr>\n",
       "      <th>564081</th>\n",
       "      <td>vanillaTHUNDAR</td>\n",
       "      <td>11.3000</td>\n",
       "      <td>243120</td>\n",
       "      <td>Why the hell did we start using guns?</td>\n",
       "      <td>510324</td>\n",
       "      <td>Betrayer</td>\n",
       "      <td>Why hell start using guns</td>\n",
       "    </tr>\n",
       "    <tr>\n",
       "      <th>533429</th>\n",
       "      <td>NeKryXe</td>\n",
       "      <td>658.6000</td>\n",
       "      <td>364470</td>\n",
       "      <td>the perfect coffee break for an Elder Scrolls ...</td>\n",
       "      <td>238082</td>\n",
       "      <td>The Elder Scrolls®: Legends™</td>\n",
       "      <td>perfect coffee break Elder Scrolls Online mara...</td>\n",
       "    </tr>\n",
       "    <tr>\n",
       "      <th>268708</th>\n",
       "      <td>FrenchyToastGun</td>\n",
       "      <td>10.4000</td>\n",
       "      <td>312150</td>\n",
       "      <td>The game is overall ok but one thing that is m...</td>\n",
       "      <td>124613</td>\n",
       "      <td>Wild Warfare</td>\n",
       "      <td>The game overall one thing making mad whilst o...</td>\n",
       "    </tr>\n",
       "  </tbody>\n",
       "</table>\n",
       "</div>"
      ],
      "text/plain": [
       "               username    hours  product_id  \\\n",
       "477594    Mr. Dump Ling  11.4000      301640   \n",
       "684957            Merim  23.8000      225300   \n",
       "564081   vanillaTHUNDAR  11.3000      243120   \n",
       "533429          NeKryXe 658.6000      364470   \n",
       "268708  FrenchyToastGun  10.4000      312150   \n",
       "\n",
       "                                                     text  user_id  \\\n",
       "477594  For those claiming too scray, i say just enoug...   228755   \n",
       "684957  This is actually harder than Tomb Raider I, es...   219592   \n",
       "564081              Why the hell did we start using guns?   510324   \n",
       "533429  the perfect coffee break for an Elder Scrolls ...   238082   \n",
       "268708  The game is overall ok but one thing that is m...   124613   \n",
       "\n",
       "                            app_name  \\\n",
       "477594           Zombie Army Trilogy   \n",
       "684957                Tomb Raider II   \n",
       "564081                      Betrayer   \n",
       "533429  The Elder Scrolls®: Legends™   \n",
       "268708                  Wild Warfare   \n",
       "\n",
       "                                             cleaned_text  \n",
       "477594  For claiming scray say enough For claiming rep...  \n",
       "684957  This actually harder Tomb Raider especially pu...  \n",
       "564081                          Why hell start using guns  \n",
       "533429  perfect coffee break Elder Scrolls Online mara...  \n",
       "268708  The game overall one thing making mad whilst o...  "
      ]
     },
     "execution_count": 265,
     "metadata": {},
     "output_type": "execute_result"
    }
   ],
   "source": [
    "# Mostramos el dataset limpio\n",
    "rand_list = np.random.choice(df_reviews.index, size=5)\n",
    "df_reviews.loc[rand_list]"
   ]
  },
  {
   "cell_type": "code",
   "execution_count": 266,
   "metadata": {},
   "outputs": [
    {
     "data": {
      "text/html": [
       "<pre>✔️ 235 ms (2021-10-02T17:52:44/2021-10-02T17:52:44)</pre>"
      ],
      "text/plain": [
       "<IPython.core.display.HTML object>"
      ]
     },
     "metadata": {},
     "output_type": "display_data"
    },
    {
     "data": {
      "text/plain": [
       "username          18\n",
       "hours           2637\n",
       "product_id         0\n",
       "text            1839\n",
       "user_id            0\n",
       "app_name           0\n",
       "cleaned_text       0\n",
       "dtype: int64"
      ]
     },
     "execution_count": 266,
     "metadata": {},
     "output_type": "execute_result"
    }
   ],
   "source": [
    "df_reviews.isna().sum()"
   ]
  },
  {
   "cell_type": "code",
   "execution_count": 267,
   "metadata": {},
   "outputs": [
    {
     "data": {
      "text/html": [
       "<pre>✔️ 0 ns (2021-10-02T17:52:46/2021-10-02T17:52:46)</pre>"
      ],
      "text/plain": [
       "<IPython.core.display.HTML object>"
      ]
     },
     "metadata": {},
     "output_type": "display_data"
    }
   ],
   "source": [
    "# df_reviews.cleaned_text = df_reviews.cleaned_text.str.strip()\n",
    "# df_reviews.cleaned_text.replace('', np.nan, inplace=True)"
   ]
  },
  {
   "cell_type": "code",
   "execution_count": 268,
   "metadata": {},
   "outputs": [
    {
     "data": {
      "text/html": [
       "<pre>✔️ 250 ms (2021-10-02T17:52:46/2021-10-02T17:52:46)</pre>"
      ],
      "text/plain": [
       "<IPython.core.display.HTML object>"
      ]
     },
     "metadata": {},
     "output_type": "display_data"
    },
    {
     "data": {
      "text/plain": [
       "username          18\n",
       "hours           2637\n",
       "product_id         0\n",
       "text            1839\n",
       "user_id            0\n",
       "app_name           0\n",
       "cleaned_text       0\n",
       "dtype: int64"
      ]
     },
     "execution_count": 268,
     "metadata": {},
     "output_type": "execute_result"
    }
   ],
   "source": [
    "df_reviews.isna().sum()"
   ]
  },
  {
   "cell_type": "code",
   "execution_count": 269,
   "metadata": {},
   "outputs": [
    {
     "data": {
      "text/html": [
       "<pre>✔️ 0 ns (2021-10-02T17:52:48/2021-10-02T17:52:48)</pre>"
      ],
      "text/plain": [
       "<IPython.core.display.HTML object>"
      ]
     },
     "metadata": {},
     "output_type": "display_data"
    }
   ],
   "source": [
    "# df_reviews.dropna(subset=['cleaned_text'], inplace=True)"
   ]
  },
  {
   "cell_type": "markdown",
   "metadata": {},
   "source": [
    "#### Análisis de polaridad de los comentarios"
   ]
  },
  {
   "cell_type": "code",
   "execution_count": 270,
   "metadata": {},
   "outputs": [
    {
     "data": {
      "text/html": [
       "<pre>✔️ 15 ms (2021-10-02T17:52:49/2021-10-02T17:52:49)</pre>"
      ],
      "text/plain": [
       "<IPython.core.display.HTML object>"
      ]
     },
     "metadata": {},
     "output_type": "display_data"
    },
    {
     "name": "stderr",
     "output_type": "stream",
     "text": [
      "[nltk_data] Downloading package wordnet to\n",
      "[nltk_data]     C:\\Users\\elmai\\AppData\\Roaming\\nltk_data...\n",
      "[nltk_data]   Package wordnet is already up-to-date!\n",
      "[nltk_data] Downloading package averaged_perceptron_tagger to\n",
      "[nltk_data]     C:\\Users\\elmai\\AppData\\Roaming\\nltk_data...\n",
      "[nltk_data]   Package averaged_perceptron_tagger is already up-to-\n",
      "[nltk_data]       date!\n",
      "[nltk_data] Downloading package vader_lexicon to\n",
      "[nltk_data]     C:\\Users\\elmai\\AppData\\Roaming\\nltk_data...\n",
      "[nltk_data]   Package vader_lexicon is already up-to-date!\n"
     ]
    },
    {
     "data": {
      "text/plain": [
       "True"
      ]
     },
     "execution_count": 270,
     "metadata": {},
     "output_type": "execute_result"
    }
   ],
   "source": [
    "import nltk\n",
    "nltk.download('wordnet')\n",
    "nltk.download('averaged_perceptron_tagger')\n",
    "nltk.download('vader_lexicon')"
   ]
  },
  {
   "cell_type": "code",
   "execution_count": 271,
   "metadata": {},
   "outputs": [
    {
     "data": {
      "text/html": [
       "<pre>✔️ 15 ms (2021-10-02T17:52:50/2021-10-02T17:52:50)</pre>"
      ],
      "text/plain": [
       "<IPython.core.display.HTML object>"
      ]
     },
     "metadata": {},
     "output_type": "display_data"
    }
   ],
   "source": [
    "sia = SentimentIntensityAnalyzer()\n",
    "def polaridad(text):\n",
    "    return sia.polarity_scores(text)['compound']"
   ]
  },
  {
   "cell_type": "code",
   "execution_count": 272,
   "metadata": {},
   "outputs": [
    {
     "data": {
      "text/html": [
       "<pre>✔️ 219 ms (2021-10-02T17:52:50/2021-10-02T17:52:51)</pre>"
      ],
      "text/plain": [
       "<IPython.core.display.HTML object>"
      ]
     },
     "metadata": {},
     "output_type": "display_data"
    },
    {
     "data": {
      "text/plain": [
       "username          18\n",
       "hours           2637\n",
       "product_id         0\n",
       "text            1839\n",
       "user_id            0\n",
       "app_name           0\n",
       "cleaned_text       0\n",
       "dtype: int64"
      ]
     },
     "execution_count": 272,
     "metadata": {},
     "output_type": "execute_result"
    }
   ],
   "source": [
    "df_reviews.isna().sum()"
   ]
  },
  {
   "cell_type": "code",
   "execution_count": 273,
   "metadata": {},
   "outputs": [
    {
     "data": {
      "text/html": [
       "<pre>✔️ 8 min 25 s (2021-10-02T17:52:51/2021-10-02T18:01:17)</pre>"
      ],
      "text/plain": [
       "<IPython.core.display.HTML object>"
      ]
     },
     "metadata": {},
     "output_type": "display_data"
    },
    {
     "data": {
      "application/vnd.jupyter.widget-view+json": {
       "model_id": "6a86966adadc466c995f94e01c1ca319",
       "version_major": 2,
       "version_minor": 0
      },
      "text/plain": [
       "  0%|          | 0/779307 [00:00<?, ?it/s]"
      ]
     },
     "metadata": {},
     "output_type": "display_data"
    }
   ],
   "source": [
    "if POLARITY:\n",
    "    df_reviews['polarity'] = df_reviews['cleaned_text'].progress_apply(polaridad)\n",
    "    df_reviews.to_csv('df_reviews.csv', index_label='index')\n",
    "else:\n",
    "    df_reviews = pd.read_csv('df_reviews.csv')\n",
    "    df_reviews.drop(columns='index', inplace=True)"
   ]
  },
  {
   "cell_type": "code",
   "execution_count": 274,
   "metadata": {},
   "outputs": [
    {
     "data": {
      "text/html": [
       "<pre>✔️ 78 ms (2021-10-02T18:01:17/2021-10-02T18:01:17)</pre>"
      ],
      "text/plain": [
       "<IPython.core.display.HTML object>"
      ]
     },
     "metadata": {},
     "output_type": "display_data"
    },
    {
     "data": {
      "text/html": [
       "<div>\n",
       "<style scoped>\n",
       "    .dataframe tbody tr th:only-of-type {\n",
       "        vertical-align: middle;\n",
       "    }\n",
       "\n",
       "    .dataframe tbody tr th {\n",
       "        vertical-align: top;\n",
       "    }\n",
       "\n",
       "    .dataframe thead th {\n",
       "        text-align: right;\n",
       "    }\n",
       "</style>\n",
       "<table border=\"1\" class=\"dataframe\">\n",
       "  <thead>\n",
       "    <tr style=\"text-align: right;\">\n",
       "      <th></th>\n",
       "      <th>username</th>\n",
       "      <th>hours</th>\n",
       "      <th>product_id</th>\n",
       "      <th>text</th>\n",
       "      <th>user_id</th>\n",
       "      <th>app_name</th>\n",
       "      <th>cleaned_text</th>\n",
       "      <th>polarity</th>\n",
       "      <th>rating</th>\n",
       "    </tr>\n",
       "  </thead>\n",
       "  <tbody>\n",
       "    <tr>\n",
       "      <th>477594</th>\n",
       "      <td>Mr. Dump Ling</td>\n",
       "      <td>11.4000</td>\n",
       "      <td>301640</td>\n",
       "      <td>For those claiming too scray, i say just enoug...</td>\n",
       "      <td>228755</td>\n",
       "      <td>Zombie Army Trilogy</td>\n",
       "      <td>For claiming scray say enough For claiming rep...</td>\n",
       "      <td>-0.5719</td>\n",
       "      <td>1.0703</td>\n",
       "    </tr>\n",
       "    <tr>\n",
       "      <th>684957</th>\n",
       "      <td>Merim</td>\n",
       "      <td>23.8000</td>\n",
       "      <td>225300</td>\n",
       "      <td>This is actually harder than Tomb Raider I, es...</td>\n",
       "      <td>219592</td>\n",
       "      <td>Tomb Raider II</td>\n",
       "      <td>This actually harder Tomb Raider especially pu...</td>\n",
       "      <td>0.8066</td>\n",
       "      <td>4.5165</td>\n",
       "    </tr>\n",
       "    <tr>\n",
       "      <th>564081</th>\n",
       "      <td>vanillaTHUNDAR</td>\n",
       "      <td>11.3000</td>\n",
       "      <td>243120</td>\n",
       "      <td>Why the hell did we start using guns?</td>\n",
       "      <td>510324</td>\n",
       "      <td>Betrayer</td>\n",
       "      <td>Why hell start using guns</td>\n",
       "      <td>-0.6808</td>\n",
       "      <td>0.7980</td>\n",
       "    </tr>\n",
       "    <tr>\n",
       "      <th>533429</th>\n",
       "      <td>NeKryXe</td>\n",
       "      <td>658.6000</td>\n",
       "      <td>364470</td>\n",
       "      <td>the perfect coffee break for an Elder Scrolls ...</td>\n",
       "      <td>238082</td>\n",
       "      <td>The Elder Scrolls®: Legends™</td>\n",
       "      <td>perfect coffee break Elder Scrolls Online mara...</td>\n",
       "      <td>0.5719</td>\n",
       "      <td>3.9297</td>\n",
       "    </tr>\n",
       "    <tr>\n",
       "      <th>268708</th>\n",
       "      <td>FrenchyToastGun</td>\n",
       "      <td>10.4000</td>\n",
       "      <td>312150</td>\n",
       "      <td>The game is overall ok but one thing that is m...</td>\n",
       "      <td>124613</td>\n",
       "      <td>Wild Warfare</td>\n",
       "      <td>The game overall one thing making mad whilst o...</td>\n",
       "      <td>-0.4939</td>\n",
       "      <td>1.2652</td>\n",
       "    </tr>\n",
       "  </tbody>\n",
       "</table>\n",
       "</div>"
      ],
      "text/plain": [
       "               username    hours  product_id  \\\n",
       "477594    Mr. Dump Ling  11.4000      301640   \n",
       "684957            Merim  23.8000      225300   \n",
       "564081   vanillaTHUNDAR  11.3000      243120   \n",
       "533429          NeKryXe 658.6000      364470   \n",
       "268708  FrenchyToastGun  10.4000      312150   \n",
       "\n",
       "                                                     text  user_id  \\\n",
       "477594  For those claiming too scray, i say just enoug...   228755   \n",
       "684957  This is actually harder than Tomb Raider I, es...   219592   \n",
       "564081              Why the hell did we start using guns?   510324   \n",
       "533429  the perfect coffee break for an Elder Scrolls ...   238082   \n",
       "268708  The game is overall ok but one thing that is m...   124613   \n",
       "\n",
       "                            app_name  \\\n",
       "477594           Zombie Army Trilogy   \n",
       "684957                Tomb Raider II   \n",
       "564081                      Betrayer   \n",
       "533429  The Elder Scrolls®: Legends™   \n",
       "268708                  Wild Warfare   \n",
       "\n",
       "                                             cleaned_text  polarity  rating  \n",
       "477594  For claiming scray say enough For claiming rep...   -0.5719  1.0703  \n",
       "684957  This actually harder Tomb Raider especially pu...    0.8066  4.5165  \n",
       "564081                          Why hell start using guns   -0.6808  0.7980  \n",
       "533429  perfect coffee break Elder Scrolls Online mara...    0.5719  3.9297  \n",
       "268708  The game overall one thing making mad whilst o...   -0.4939  1.2652  "
      ]
     },
     "execution_count": 274,
     "metadata": {},
     "output_type": "execute_result"
    }
   ],
   "source": [
    "# Creamos una columns de Rating entre 0 y 5, escalando la columna 'polarity'\n",
    "column=df_reviews[['polarity']]\n",
    "scaler = MinMaxScaler(feature_range=(0,5))\n",
    "df_reviews['rating'] = scaler.fit_transform(column)\n",
    "df_reviews.loc[rand_list]"
   ]
  },
  {
   "cell_type": "code",
   "execution_count": 275,
   "metadata": {},
   "outputs": [
    {
     "data": {
      "text/html": [
       "<pre>✔️ 16 ms (2021-10-02T18:01:17/2021-10-02T18:01:17)</pre>"
      ],
      "text/plain": [
       "<IPython.core.display.HTML object>"
      ]
     },
     "metadata": {},
     "output_type": "display_data"
    },
    {
     "data": {
      "text/html": [
       "<div>\n",
       "<style scoped>\n",
       "    .dataframe tbody tr th:only-of-type {\n",
       "        vertical-align: middle;\n",
       "    }\n",
       "\n",
       "    .dataframe tbody tr th {\n",
       "        vertical-align: top;\n",
       "    }\n",
       "\n",
       "    .dataframe thead th {\n",
       "        text-align: right;\n",
       "    }\n",
       "</style>\n",
       "<table border=\"1\" class=\"dataframe\">\n",
       "  <thead>\n",
       "    <tr style=\"text-align: right;\">\n",
       "      <th></th>\n",
       "      <th>username</th>\n",
       "      <th>hours</th>\n",
       "      <th>product_id</th>\n",
       "      <th>text</th>\n",
       "      <th>user_id</th>\n",
       "      <th>app_name</th>\n",
       "      <th>cleaned_text</th>\n",
       "      <th>polarity</th>\n",
       "      <th>rating</th>\n",
       "    </tr>\n",
       "  </thead>\n",
       "  <tbody>\n",
       "    <tr>\n",
       "      <th>477594</th>\n",
       "      <td>Mr. Dump Ling</td>\n",
       "      <td>11.4000</td>\n",
       "      <td>301640</td>\n",
       "      <td>For those claiming too scray, i say just enoug...</td>\n",
       "      <td>228755</td>\n",
       "      <td>Zombie Army Trilogy</td>\n",
       "      <td>For claiming scray say enough For claiming rep...</td>\n",
       "      <td>-0.5719</td>\n",
       "      <td>1.0703</td>\n",
       "    </tr>\n",
       "    <tr>\n",
       "      <th>684957</th>\n",
       "      <td>Merim</td>\n",
       "      <td>23.8000</td>\n",
       "      <td>225300</td>\n",
       "      <td>This is actually harder than Tomb Raider I, es...</td>\n",
       "      <td>219592</td>\n",
       "      <td>Tomb Raider II</td>\n",
       "      <td>This actually harder Tomb Raider especially pu...</td>\n",
       "      <td>0.8066</td>\n",
       "      <td>4.5165</td>\n",
       "    </tr>\n",
       "    <tr>\n",
       "      <th>564081</th>\n",
       "      <td>vanillaTHUNDAR</td>\n",
       "      <td>11.3000</td>\n",
       "      <td>243120</td>\n",
       "      <td>Why the hell did we start using guns?</td>\n",
       "      <td>510324</td>\n",
       "      <td>Betrayer</td>\n",
       "      <td>Why hell start using guns</td>\n",
       "      <td>-0.6808</td>\n",
       "      <td>0.7980</td>\n",
       "    </tr>\n",
       "    <tr>\n",
       "      <th>533429</th>\n",
       "      <td>NeKryXe</td>\n",
       "      <td>658.6000</td>\n",
       "      <td>364470</td>\n",
       "      <td>the perfect coffee break for an Elder Scrolls ...</td>\n",
       "      <td>238082</td>\n",
       "      <td>The Elder Scrolls®: Legends™</td>\n",
       "      <td>perfect coffee break Elder Scrolls Online mara...</td>\n",
       "      <td>0.5719</td>\n",
       "      <td>3.9297</td>\n",
       "    </tr>\n",
       "    <tr>\n",
       "      <th>268708</th>\n",
       "      <td>FrenchyToastGun</td>\n",
       "      <td>10.4000</td>\n",
       "      <td>312150</td>\n",
       "      <td>The game is overall ok but one thing that is m...</td>\n",
       "      <td>124613</td>\n",
       "      <td>Wild Warfare</td>\n",
       "      <td>The game overall one thing making mad whilst o...</td>\n",
       "      <td>-0.4939</td>\n",
       "      <td>1.2652</td>\n",
       "    </tr>\n",
       "  </tbody>\n",
       "</table>\n",
       "</div>"
      ],
      "text/plain": [
       "               username    hours  product_id  \\\n",
       "477594    Mr. Dump Ling  11.4000      301640   \n",
       "684957            Merim  23.8000      225300   \n",
       "564081   vanillaTHUNDAR  11.3000      243120   \n",
       "533429          NeKryXe 658.6000      364470   \n",
       "268708  FrenchyToastGun  10.4000      312150   \n",
       "\n",
       "                                                     text  user_id  \\\n",
       "477594  For those claiming too scray, i say just enoug...   228755   \n",
       "684957  This is actually harder than Tomb Raider I, es...   219592   \n",
       "564081              Why the hell did we start using guns?   510324   \n",
       "533429  the perfect coffee break for an Elder Scrolls ...   238082   \n",
       "268708  The game is overall ok but one thing that is m...   124613   \n",
       "\n",
       "                            app_name  \\\n",
       "477594           Zombie Army Trilogy   \n",
       "684957                Tomb Raider II   \n",
       "564081                      Betrayer   \n",
       "533429  The Elder Scrolls®: Legends™   \n",
       "268708                  Wild Warfare   \n",
       "\n",
       "                                             cleaned_text  polarity  rating  \n",
       "477594  For claiming scray say enough For claiming rep...   -0.5719  1.0703  \n",
       "684957  This actually harder Tomb Raider especially pu...    0.8066  4.5165  \n",
       "564081                          Why hell start using guns   -0.6808  0.7980  \n",
       "533429  perfect coffee break Elder Scrolls Online mara...    0.5719  3.9297  \n",
       "268708  The game overall one thing making mad whilst o...   -0.4939  1.2652  "
      ]
     },
     "execution_count": 275,
     "metadata": {},
     "output_type": "execute_result"
    }
   ],
   "source": [
    "# Mostramos el dataset limpio\n",
    "df_reviews.loc[rand_list]"
   ]
  },
  {
   "cell_type": "code",
   "execution_count": 277,
   "metadata": {},
   "outputs": [
    {
     "data": {
      "text/html": [
       "<pre>✔️ 469 ms (2021-10-02T18:06:24/2021-10-02T18:06:25)</pre>"
      ],
      "text/plain": [
       "<IPython.core.display.HTML object>"
      ]
     },
     "metadata": {},
     "output_type": "display_data"
    },
    {
     "data": {
      "image/png": "[encoded data removed]",
      "text/plain": [
       "<Figure size 576x288 with 1 Axes>"
      ]
     },
     "metadata": {},
     "output_type": "display_data"
    }
   ],
   "source": [
    "# Finalmente observamos la distribucion\n",
    "plt.figure(figsize=(8,4))\n",
    "sns.histplot(data=df_reviews, x='rating', color='green', label='rating', bins=50)\n",
    "plt.title('Histograma de Rating por review')\n",
    "# plt.legend()\n",
    "plt.ylabel('Cantidad de reviews')\n",
    "plt.xlabel('Rating')\n",
    "plt.xticks(rotation=0)\n",
    "plt.show()"
   ]
  },
  {
   "cell_type": "markdown",
   "metadata": {},
   "source": [
    "En el histograma podemos observar que la clase 'rating' (que será el target de nuestro modelo) está muy desbalanceada. Se puede ver que existen muchas instancias con un valor de rating de 2.5 (ni bueno, ni malo) que no da información valiosa para el filtro colaborativo. En principio, utilizaremos los datos como están y evaluaremos la permormance del modelo. Si fuera necesario, luego veremos qué podemos mejorar."
   ]
  },
  {
   "cell_type": "markdown",
   "metadata": {},
   "source": [
    "### Análisis del Dataset"
   ]
  },
  {
   "cell_type": "markdown",
   "metadata": {},
   "source": [
    "Antes de continuar, vamos a responder algunas preguntas sobre el dataset para entenderlo mejor"
   ]
  },
  {
   "cell_type": "markdown",
   "metadata": {},
   "source": [
    "#### 1. ¿Cuáles son los 10 usuarios con más reviews realizadas?"
   ]
  },
  {
   "cell_type": "code",
   "execution_count": 278,
   "metadata": {},
   "outputs": [
    {
     "data": {
      "text/html": [
       "<pre>✔️ 906 ms (2021-10-02T18:08:03/2021-10-02T18:08:04)</pre>"
      ],
      "text/plain": [
       "<IPython.core.display.HTML object>"
      ]
     },
     "metadata": {},
     "output_type": "display_data"
    },
    {
     "data": {
      "text/html": [
       "<div>\n",
       "<style scoped>\n",
       "    .dataframe tbody tr th:only-of-type {\n",
       "        vertical-align: middle;\n",
       "    }\n",
       "\n",
       "    .dataframe tbody tr th {\n",
       "        vertical-align: top;\n",
       "    }\n",
       "\n",
       "    .dataframe thead th {\n",
       "        text-align: right;\n",
       "    }\n",
       "</style>\n",
       "<table border=\"1\" class=\"dataframe\">\n",
       "  <thead>\n",
       "    <tr style=\"text-align: right;\">\n",
       "      <th></th>\n",
       "      <th>user_id</th>\n",
       "      <th>username</th>\n",
       "      <th>text</th>\n",
       "      <th>rating</th>\n",
       "    </tr>\n",
       "  </thead>\n",
       "  <tbody>\n",
       "    <tr>\n",
       "      <th>0</th>\n",
       "      <td>5463</td>\n",
       "      <td>123</td>\n",
       "      <td>213</td>\n",
       "      <td>3.3397</td>\n",
       "    </tr>\n",
       "    <tr>\n",
       "      <th>1</th>\n",
       "      <td>19181</td>\n",
       "      <td>Alex</td>\n",
       "      <td>189</td>\n",
       "      <td>3.6832</td>\n",
       "    </tr>\n",
       "    <tr>\n",
       "      <th>2</th>\n",
       "      <td>65614</td>\n",
       "      <td>Chris</td>\n",
       "      <td>154</td>\n",
       "      <td>3.6310</td>\n",
       "    </tr>\n",
       "    <tr>\n",
       "      <th>3</th>\n",
       "      <td>240929</td>\n",
       "      <td>Nick</td>\n",
       "      <td>143</td>\n",
       "      <td>3.6029</td>\n",
       "    </tr>\n",
       "    <tr>\n",
       "      <th>4</th>\n",
       "      <td>215286</td>\n",
       "      <td>Matt</td>\n",
       "      <td>137</td>\n",
       "      <td>3.6927</td>\n",
       "    </tr>\n",
       "    <tr>\n",
       "      <th>5</th>\n",
       "      <td>352718</td>\n",
       "      <td>Tom</td>\n",
       "      <td>129</td>\n",
       "      <td>3.5946</td>\n",
       "    </tr>\n",
       "    <tr>\n",
       "      <th>6</th>\n",
       "      <td>171256</td>\n",
       "      <td>John</td>\n",
       "      <td>127</td>\n",
       "      <td>3.4931</td>\n",
       "    </tr>\n",
       "    <tr>\n",
       "      <th>7</th>\n",
       "      <td>164226</td>\n",
       "      <td>Jack</td>\n",
       "      <td>123</td>\n",
       "      <td>3.4235</td>\n",
       "    </tr>\n",
       "    <tr>\n",
       "      <th>8</th>\n",
       "      <td>82216</td>\n",
       "      <td>Dan</td>\n",
       "      <td>119</td>\n",
       "      <td>3.3844</td>\n",
       "    </tr>\n",
       "    <tr>\n",
       "      <th>9</th>\n",
       "      <td>293526</td>\n",
       "      <td>Saint Aaron</td>\n",
       "      <td>114</td>\n",
       "      <td>3.5551</td>\n",
       "    </tr>\n",
       "  </tbody>\n",
       "</table>\n",
       "</div>"
      ],
      "text/plain": [
       "   user_id     username  text  rating\n",
       "0     5463          123   213  3.3397\n",
       "1    19181         Alex   189  3.6832\n",
       "2    65614        Chris   154  3.6310\n",
       "3   240929         Nick   143  3.6029\n",
       "4   215286         Matt   137  3.6927\n",
       "5   352718          Tom   129  3.5946\n",
       "6   171256         John   127  3.4931\n",
       "7   164226         Jack   123  3.4235\n",
       "8    82216          Dan   119  3.3844\n",
       "9   293526  Saint Aaron   114  3.5551"
      ]
     },
     "execution_count": 278,
     "metadata": {},
     "output_type": "execute_result"
    }
   ],
   "source": [
    "preg_1 = df_reviews.groupby('user_id').agg({'username':'first', 'text':'count', 'rating':'mean'})\n",
    "preg_1.sort_values('text', ascending=False).reset_index().head(10)"
   ]
  },
  {
   "cell_type": "markdown",
   "metadata": {},
   "source": [
    "#### 2. ¿Cuáles son los 10 juegos con mejor rating?"
   ]
  },
  {
   "cell_type": "code",
   "execution_count": 303,
   "metadata": {},
   "outputs": [
    {
     "data": {
      "text/html": [
       "<pre>✔️ 203 ms (2021-10-02T18:25:23/2021-10-02T18:25:23)</pre>"
      ],
      "text/plain": [
       "<IPython.core.display.HTML object>"
      ]
     },
     "metadata": {},
     "output_type": "display_data"
    },
    {
     "data": {
      "text/html": [
       "<div>\n",
       "<style scoped>\n",
       "    .dataframe tbody tr th:only-of-type {\n",
       "        vertical-align: middle;\n",
       "    }\n",
       "\n",
       "    .dataframe tbody tr th {\n",
       "        vertical-align: top;\n",
       "    }\n",
       "\n",
       "    .dataframe thead th {\n",
       "        text-align: right;\n",
       "    }\n",
       "</style>\n",
       "<table border=\"1\" class=\"dataframe\">\n",
       "  <thead>\n",
       "    <tr style=\"text-align: right;\">\n",
       "      <th></th>\n",
       "      <th>product_id</th>\n",
       "      <th>game</th>\n",
       "      <th>reviews</th>\n",
       "      <th>rating_mean</th>\n",
       "    </tr>\n",
       "  </thead>\n",
       "  <tbody>\n",
       "    <tr>\n",
       "      <th>0</th>\n",
       "      <td>430930</td>\n",
       "      <td>Z. Year One</td>\n",
       "      <td>1</td>\n",
       "      <td>4.9990</td>\n",
       "    </tr>\n",
       "    <tr>\n",
       "      <th>1</th>\n",
       "      <td>486810</td>\n",
       "      <td>House of Snark 6-in-1 Bundle</td>\n",
       "      <td>1</td>\n",
       "      <td>4.9985</td>\n",
       "    </tr>\n",
       "    <tr>\n",
       "      <th>2</th>\n",
       "      <td>410370</td>\n",
       "      <td>Huenison</td>\n",
       "      <td>1</td>\n",
       "      <td>4.9983</td>\n",
       "    </tr>\n",
       "    <tr>\n",
       "      <th>3</th>\n",
       "      <td>551520</td>\n",
       "      <td>Last Days of Spring 2</td>\n",
       "      <td>1</td>\n",
       "      <td>4.9977</td>\n",
       "    </tr>\n",
       "    <tr>\n",
       "      <th>4</th>\n",
       "      <td>505070</td>\n",
       "      <td>Secrets of Me</td>\n",
       "      <td>1</td>\n",
       "      <td>4.9975</td>\n",
       "    </tr>\n",
       "    <tr>\n",
       "      <th>5</th>\n",
       "      <td>619350</td>\n",
       "      <td>Sandra and Woo in the Cursed Adventure</td>\n",
       "      <td>1</td>\n",
       "      <td>4.9973</td>\n",
       "    </tr>\n",
       "    <tr>\n",
       "      <th>6</th>\n",
       "      <td>620900</td>\n",
       "      <td>Witchinour</td>\n",
       "      <td>1</td>\n",
       "      <td>4.9968</td>\n",
       "    </tr>\n",
       "    <tr>\n",
       "      <th>7</th>\n",
       "      <td>629860</td>\n",
       "      <td>Spelunker Party!</td>\n",
       "      <td>1</td>\n",
       "      <td>4.9968</td>\n",
       "    </tr>\n",
       "    <tr>\n",
       "      <th>8</th>\n",
       "      <td>713050</td>\n",
       "      <td>Vampires!</td>\n",
       "      <td>1</td>\n",
       "      <td>4.9965</td>\n",
       "    </tr>\n",
       "    <tr>\n",
       "      <th>9</th>\n",
       "      <td>553780</td>\n",
       "      <td>ARK BOX Unlimited</td>\n",
       "      <td>1</td>\n",
       "      <td>4.9965</td>\n",
       "    </tr>\n",
       "  </tbody>\n",
       "</table>\n",
       "</div>"
      ],
      "text/plain": [
       "   product_id                                    game  reviews  rating_mean\n",
       "0      430930                             Z. Year One        1       4.9990\n",
       "1      486810            House of Snark 6-in-1 Bundle        1       4.9985\n",
       "2      410370                                Huenison        1       4.9983\n",
       "3      551520                   Last Days of Spring 2        1       4.9977\n",
       "4      505070                           Secrets of Me        1       4.9975\n",
       "5      619350  Sandra and Woo in the Cursed Adventure        1       4.9973\n",
       "6      620900                              Witchinour        1       4.9968\n",
       "7      629860                        Spelunker Party!        1       4.9968\n",
       "8      713050                               Vampires!        1       4.9965\n",
       "9      553780                       ARK BOX Unlimited        1       4.9965"
      ]
     },
     "execution_count": 303,
     "metadata": {},
     "output_type": "execute_result"
    }
   ],
   "source": [
    "preg_2 = df_reviews.groupby('product_id').agg({'app_name':'first', 'text':'count', 'rating':'mean'})\n",
    "preg_2.columns = ['game', 'reviews', 'rating_mean']\n",
    "preg_2 = preg_2.sort_values('rating_mean', ascending=False).reset_index()\n",
    "preg_2.head(10)"
   ]
  },
  {
   "cell_type": "markdown",
   "metadata": {},
   "source": [
    "En la respuesta anterior podemos ver que los 10 juegos mejor calificados tienen sólo 1 review.\n",
    "Para obtener una lista más representativa, vamos a filtrar aquéllos juegos que tengan al menos 10 reviews."
   ]
  },
  {
   "cell_type": "markdown",
   "metadata": {},
   "source": [
    "#### 3. ¿Cuáles son los 10 juegos (con al menos 10 reviews) con mejor rating?"
   ]
  },
  {
   "cell_type": "code",
   "execution_count": 304,
   "metadata": {},
   "outputs": [
    {
     "data": {
      "text/html": [
       "<pre>✔️ 16 ms (2021-10-02T18:25:27/2021-10-02T18:25:27)</pre>"
      ],
      "text/plain": [
       "<IPython.core.display.HTML object>"
      ]
     },
     "metadata": {},
     "output_type": "display_data"
    },
    {
     "data": {
      "text/html": [
       "<div>\n",
       "<style scoped>\n",
       "    .dataframe tbody tr th:only-of-type {\n",
       "        vertical-align: middle;\n",
       "    }\n",
       "\n",
       "    .dataframe tbody tr th {\n",
       "        vertical-align: top;\n",
       "    }\n",
       "\n",
       "    .dataframe thead th {\n",
       "        text-align: right;\n",
       "    }\n",
       "</style>\n",
       "<table border=\"1\" class=\"dataframe\">\n",
       "  <thead>\n",
       "    <tr style=\"text-align: right;\">\n",
       "      <th></th>\n",
       "      <th>index</th>\n",
       "      <th>product_id</th>\n",
       "      <th>game</th>\n",
       "      <th>reviews</th>\n",
       "      <th>rating_mean</th>\n",
       "    </tr>\n",
       "  </thead>\n",
       "  <tbody>\n",
       "    <tr>\n",
       "      <th>0</th>\n",
       "      <td>595</td>\n",
       "      <td>337720</td>\n",
       "      <td>The Sea Will Claim Everything</td>\n",
       "      <td>10</td>\n",
       "      <td>4.9085</td>\n",
       "    </tr>\n",
       "    <tr>\n",
       "      <th>1</th>\n",
       "      <td>931</td>\n",
       "      <td>380810</td>\n",
       "      <td>Herald: An Interactive Period Drama - Book I &amp; II</td>\n",
       "      <td>11</td>\n",
       "      <td>4.8448</td>\n",
       "    </tr>\n",
       "    <tr>\n",
       "      <th>2</th>\n",
       "      <td>1081</td>\n",
       "      <td>449250</td>\n",
       "      <td>A Little Lily Princess</td>\n",
       "      <td>12</td>\n",
       "      <td>4.8144</td>\n",
       "    </tr>\n",
       "    <tr>\n",
       "      <th>3</th>\n",
       "      <td>1172</td>\n",
       "      <td>440540</td>\n",
       "      <td>Ara Fell</td>\n",
       "      <td>24</td>\n",
       "      <td>4.7955</td>\n",
       "    </tr>\n",
       "    <tr>\n",
       "      <th>4</th>\n",
       "      <td>1189</td>\n",
       "      <td>331870</td>\n",
       "      <td>AER Memories of Old</td>\n",
       "      <td>15</td>\n",
       "      <td>4.7901</td>\n",
       "    </tr>\n",
       "    <tr>\n",
       "      <th>5</th>\n",
       "      <td>1252</td>\n",
       "      <td>302130</td>\n",
       "      <td>Brink of Consciousness: Dorian Gray Syndrome C...</td>\n",
       "      <td>11</td>\n",
       "      <td>4.7780</td>\n",
       "    </tr>\n",
       "    <tr>\n",
       "      <th>6</th>\n",
       "      <td>1259</td>\n",
       "      <td>306200</td>\n",
       "      <td>The Happy Hereafter</td>\n",
       "      <td>13</td>\n",
       "      <td>4.7752</td>\n",
       "    </tr>\n",
       "    <tr>\n",
       "      <th>7</th>\n",
       "      <td>1299</td>\n",
       "      <td>264520</td>\n",
       "      <td>Moebius: Empire Rising</td>\n",
       "      <td>14</td>\n",
       "      <td>4.7694</td>\n",
       "    </tr>\n",
       "    <tr>\n",
       "      <th>8</th>\n",
       "      <td>1321</td>\n",
       "      <td>544180</td>\n",
       "      <td>Orbox C</td>\n",
       "      <td>11</td>\n",
       "      <td>4.7643</td>\n",
       "    </tr>\n",
       "    <tr>\n",
       "      <th>9</th>\n",
       "      <td>1388</td>\n",
       "      <td>463980</td>\n",
       "      <td>Solitairica</td>\n",
       "      <td>12</td>\n",
       "      <td>4.7519</td>\n",
       "    </tr>\n",
       "  </tbody>\n",
       "</table>\n",
       "</div>"
      ],
      "text/plain": [
       "   index  product_id                                               game  \\\n",
       "0    595      337720                      The Sea Will Claim Everything   \n",
       "1    931      380810  Herald: An Interactive Period Drama - Book I & II   \n",
       "2   1081      449250                             A Little Lily Princess   \n",
       "3   1172      440540                                           Ara Fell   \n",
       "4   1189      331870                                AER Memories of Old   \n",
       "5   1252      302130  Brink of Consciousness: Dorian Gray Syndrome C...   \n",
       "6   1259      306200                                The Happy Hereafter   \n",
       "7   1299      264520                             Moebius: Empire Rising   \n",
       "8   1321      544180                                            Orbox C   \n",
       "9   1388      463980                                        Solitairica   \n",
       "\n",
       "   reviews  rating_mean  \n",
       "0       10       4.9085  \n",
       "1       11       4.8448  \n",
       "2       12       4.8144  \n",
       "3       24       4.7955  \n",
       "4       15       4.7901  \n",
       "5       11       4.7780  \n",
       "6       13       4.7752  \n",
       "7       14       4.7694  \n",
       "8       11       4.7643  \n",
       "9       12       4.7519  "
      ]
     },
     "execution_count": 304,
     "metadata": {},
     "output_type": "execute_result"
    }
   ],
   "source": [
    "preg_3 = preg_2[preg_2.reviews >= 10]\n",
    "preg_3.sort_values('rating_mean', ascending=False).reset_index().head(10)"
   ]
  },
  {
   "cell_type": "code",
   "execution_count": 292,
   "metadata": {},
   "outputs": [
    {
     "data": {
      "text/html": [
       "<pre>✔️ 78 ms (2021-10-02T18:18:13/2021-10-02T18:18:13)</pre>"
      ],
      "text/plain": [
       "<IPython.core.display.HTML object>"
      ]
     },
     "metadata": {},
     "output_type": "display_data"
    },
    {
     "data": {
      "text/html": [
       "<div>\n",
       "<style scoped>\n",
       "    .dataframe tbody tr th:only-of-type {\n",
       "        vertical-align: middle;\n",
       "    }\n",
       "\n",
       "    .dataframe tbody tr th {\n",
       "        vertical-align: top;\n",
       "    }\n",
       "\n",
       "    .dataframe thead th {\n",
       "        text-align: right;\n",
       "    }\n",
       "</style>\n",
       "<table border=\"1\" class=\"dataframe\">\n",
       "  <thead>\n",
       "    <tr style=\"text-align: right;\">\n",
       "      <th></th>\n",
       "      <th>product_id</th>\n",
       "      <th>count</th>\n",
       "      <th>rating_mean</th>\n",
       "    </tr>\n",
       "  </thead>\n",
       "  <tbody>\n",
       "    <tr>\n",
       "      <th>0</th>\n",
       "      <td>430930</td>\n",
       "      <td>1</td>\n",
       "      <td>4.9990</td>\n",
       "    </tr>\n",
       "    <tr>\n",
       "      <th>1</th>\n",
       "      <td>486810</td>\n",
       "      <td>1</td>\n",
       "      <td>4.9985</td>\n",
       "    </tr>\n",
       "    <tr>\n",
       "      <th>2</th>\n",
       "      <td>410370</td>\n",
       "      <td>1</td>\n",
       "      <td>4.9983</td>\n",
       "    </tr>\n",
       "    <tr>\n",
       "      <th>3</th>\n",
       "      <td>551520</td>\n",
       "      <td>1</td>\n",
       "      <td>4.9977</td>\n",
       "    </tr>\n",
       "    <tr>\n",
       "      <th>4</th>\n",
       "      <td>505070</td>\n",
       "      <td>1</td>\n",
       "      <td>4.9975</td>\n",
       "    </tr>\n",
       "    <tr>\n",
       "      <th>...</th>\n",
       "      <td>...</td>\n",
       "      <td>...</td>\n",
       "      <td>...</td>\n",
       "    </tr>\n",
       "    <tr>\n",
       "      <th>12660</th>\n",
       "      <td>446250</td>\n",
       "      <td>1</td>\n",
       "      <td>0.0112</td>\n",
       "    </tr>\n",
       "    <tr>\n",
       "      <th>12661</th>\n",
       "      <td>661590</td>\n",
       "      <td>1</td>\n",
       "      <td>0.0107</td>\n",
       "    </tr>\n",
       "    <tr>\n",
       "      <th>12662</th>\n",
       "      <td>607700</td>\n",
       "      <td>1</td>\n",
       "      <td>0.0107</td>\n",
       "    </tr>\n",
       "    <tr>\n",
       "      <th>12663</th>\n",
       "      <td>675720</td>\n",
       "      <td>1</td>\n",
       "      <td>0.0055</td>\n",
       "    </tr>\n",
       "    <tr>\n",
       "      <th>12664</th>\n",
       "      <td>732290</td>\n",
       "      <td>1</td>\n",
       "      <td>0.0030</td>\n",
       "    </tr>\n",
       "  </tbody>\n",
       "</table>\n",
       "<p>12665 rows × 3 columns</p>\n",
       "</div>"
      ],
      "text/plain": [
       "       product_id  count  rating_mean\n",
       "0          430930      1       4.9990\n",
       "1          486810      1       4.9985\n",
       "2          410370      1       4.9983\n",
       "3          551520      1       4.9977\n",
       "4          505070      1       4.9975\n",
       "...           ...    ...          ...\n",
       "12660      446250      1       0.0112\n",
       "12661      661590      1       0.0107\n",
       "12662      607700      1       0.0107\n",
       "12663      675720      1       0.0055\n",
       "12664      732290      1       0.0030\n",
       "\n",
       "[12665 rows x 3 columns]"
      ]
     },
     "execution_count": 292,
     "metadata": {},
     "output_type": "execute_result"
    }
   ],
   "source": [
    "df_ratings = df_reviews.groupby('product_id').agg({'rating':['count','mean']}).reset_index()\n",
    "df_ratings.columns = ['product_id', 'count', 'rating_mean']\n",
    "df_ratings.sort_values(by='rating_mean', ascending=False, inplace=True)\n",
    "df_ratings.reset_index(inplace=True, drop=True)\n",
    "df_ratings"
   ]
  },
  {
   "cell_type": "code",
   "execution_count": 332,
   "metadata": {},
   "outputs": [
    {
     "data": {
      "text/html": [
       "<pre>✔️ 406 ms (2021-10-02T18:57:43/2021-10-02T18:57:44)</pre>"
      ],
      "text/plain": [
       "<IPython.core.display.HTML object>"
      ]
     },
     "metadata": {},
     "output_type": "display_data"
    },
    {
     "data": {
      "image/png": "[encoded data removed]",
      "text/plain": [
       "<Figure size 576x288 with 1 Axes>"
      ]
     },
     "metadata": {},
     "output_type": "display_data"
    }
   ],
   "source": [
    "min_reviews = 1\n",
    "df_filter = preg_2[preg_2['reviews'] >= min_reviews]\n",
    "\n",
    "plt.figure(figsize=(8,4))\n",
    "plt.title('Histograma de Ratings')\n",
    "sns.histplot(data=df_filter, x='rating_mean', bins=50)\n",
    "plt.ylabel('Cantidad de juegos')\n",
    "plt.xlabel('Rating')\n",
    "plt.xticks(rotation=90)\n",
    "plt.xlim(0,5)\n",
    "plt.show()"
   ]
  },
  {
   "cell_type": "code",
   "execution_count": 355,
   "metadata": {},
   "outputs": [
    {
     "data": {
      "text/html": [
       "<pre>✔️ 1.84 s (2021-10-02T19:07:21/2021-10-02T19:07:23)</pre>"
      ],
      "text/plain": [
       "<IPython.core.display.HTML object>"
      ]
     },
     "metadata": {},
     "output_type": "display_data"
    },
    {
     "data": {
      "image/png": "[encoded data removed]",
      "text/plain": [
       "<Figure size 576x288 with 2 Axes>"
      ]
     },
     "metadata": {},
     "output_type": "display_data"
    }
   ],
   "source": [
    "x = df_filter.index\n",
    "y1 = df_filter['reviews']\n",
    "y2 = df_filter['rating_mean']\n",
    "\n",
    "fig, ax1 = plt.subplots(figsize=(8,4))\n",
    "plt.title('Ratings y Cantidad de reviews por cada Juego')\n",
    "\n",
    "ax2 = ax1.twinx()\n",
    "# ax1.plot(x, y1, 'g-')\n",
    "# ax2.plot(x, y2, 'b-')\n",
    "\n",
    "sns.lineplot(ax=ax1, x=x, y=y1, color='green')\n",
    "sns.lineplot(ax=ax2, x=x, y=y2, color='blue')\n",
    "\n",
    "ax1.set_xlabel('Juego')\n",
    "ax1.set_ylabel('Cantidad de reviews', color='g')\n",
    "ax2.set_ylabel('Rating', color='b')\n",
    "\n",
    "plt.show()"
   ]
  },
  {
   "cell_type": "markdown",
   "metadata": {},
   "source": [
    "#### 4. ¿Existen comentarios repetidos? ¿Cuántos y cuáles?"
   ]
  },
  {
   "cell_type": "code",
   "execution_count": 364,
   "metadata": {},
   "outputs": [
    {
     "data": {
      "text/html": [
       "<pre>✔️ 3.2 s (2021-10-02T19:17:12/2021-10-02T19:17:15)</pre>"
      ],
      "text/plain": [
       "<IPython.core.display.HTML object>"
      ]
     },
     "metadata": {},
     "output_type": "display_data"
    },
    {
     "data": {
      "text/html": [
       "<div>\n",
       "<style scoped>\n",
       "    .dataframe tbody tr th:only-of-type {\n",
       "        vertical-align: middle;\n",
       "    }\n",
       "\n",
       "    .dataframe tbody tr th {\n",
       "        vertical-align: top;\n",
       "    }\n",
       "\n",
       "    .dataframe thead th {\n",
       "        text-align: right;\n",
       "    }\n",
       "</style>\n",
       "<table border=\"1\" class=\"dataframe\">\n",
       "  <thead>\n",
       "    <tr style=\"text-align: right;\">\n",
       "      <th></th>\n",
       "      <th>cleaned_text</th>\n",
       "      <th>cantidad</th>\n",
       "      <th>rating</th>\n",
       "    </tr>\n",
       "  </thead>\n",
       "  <tbody>\n",
       "    <tr>\n",
       "      <th>0</th>\n",
       "      <td></td>\n",
       "      <td>13595</td>\n",
       "      <td>2.5000</td>\n",
       "    </tr>\n",
       "    <tr>\n",
       "      <th>1</th>\n",
       "      <td>good</td>\n",
       "      <td>2594</td>\n",
       "      <td>3.6010</td>\n",
       "    </tr>\n",
       "    <tr>\n",
       "      <th>2</th>\n",
       "      <td>good game</td>\n",
       "      <td>2146</td>\n",
       "      <td>3.6010</td>\n",
       "    </tr>\n",
       "    <tr>\n",
       "      <th>3</th>\n",
       "      <td>nan</td>\n",
       "      <td>1840</td>\n",
       "      <td>2.5000</td>\n",
       "    </tr>\n",
       "    <tr>\n",
       "      <th>4</th>\n",
       "      <td>Great game</td>\n",
       "      <td>1408</td>\n",
       "      <td>4.0622</td>\n",
       "    </tr>\n",
       "    <tr>\n",
       "      <th>5</th>\n",
       "      <td>fun</td>\n",
       "      <td>1054</td>\n",
       "      <td>3.7765</td>\n",
       "    </tr>\n",
       "    <tr>\n",
       "      <th>6</th>\n",
       "      <td>Good game</td>\n",
       "      <td>1035</td>\n",
       "      <td>3.6010</td>\n",
       "    </tr>\n",
       "    <tr>\n",
       "      <th>7</th>\n",
       "      <td>great game</td>\n",
       "      <td>952</td>\n",
       "      <td>4.0622</td>\n",
       "    </tr>\n",
       "    <tr>\n",
       "      <th>8</th>\n",
       "      <td>nice game</td>\n",
       "      <td>782</td>\n",
       "      <td>3.5538</td>\n",
       "    </tr>\n",
       "    <tr>\n",
       "      <th>9</th>\n",
       "      <td>nice</td>\n",
       "      <td>744</td>\n",
       "      <td>3.5538</td>\n",
       "    </tr>\n",
       "  </tbody>\n",
       "</table>\n",
       "</div>"
      ],
      "text/plain": [
       "  cleaned_text  cantidad  rating\n",
       "0                  13595  2.5000\n",
       "1         good      2594  3.6010\n",
       "2    good game      2146  3.6010\n",
       "3          nan      1840  2.5000\n",
       "4   Great game      1408  4.0622\n",
       "5          fun      1054  3.7765\n",
       "6    Good game      1035  3.6010\n",
       "7   great game       952  4.0622\n",
       "8    nice game       782  3.5538\n",
       "9         nice       744  3.5538"
      ]
     },
     "execution_count": 364,
     "metadata": {},
     "output_type": "execute_result"
    }
   ],
   "source": [
    "preg_4 = df_reviews.groupby('cleaned_text').agg({'cleaned_text':'count', 'rating':'mean'})\n",
    "preg_4.columns = ['cantidad', 'rating']\n",
    "preg_4 = preg_4.sort_values('cantidad', ascending=False).reset_index()\n",
    "preg_4.head(10)"
   ]
  },
  {
   "cell_type": "markdown",
   "metadata": {},
   "source": [
    "Podemos ver que exiten muchos comentarios vacíos que terminan resultando en un rating igual a 2.5 (neutro) y que no aportará información útil al modelo. Es otro punto a tener en cuenta a la hora de intentar mejorar los datos."
   ]
  },
  {
   "cell_type": "markdown",
   "metadata": {},
   "source": [
    "## Parte B - Modelo de Machine Learning"
   ]
  },
  {
   "cell_type": "markdown",
   "metadata": {},
   "source": [
    "### Filtro Colaborativo a partir de descomposición UV"
   ]
  },
  {
   "cell_type": "markdown",
   "metadata": {},
   "source": [
    "#### Dataset y Train/Test Split"
   ]
  },
  {
   "cell_type": "code",
   "execution_count": 374,
   "metadata": {},
   "outputs": [
    {
     "data": {
      "text/html": [
       "<pre>✔️ 4.81 s (2021-10-02T19:29:50/2021-10-02T19:29:55)</pre>"
      ],
      "text/plain": [
       "<IPython.core.display.HTML object>"
      ]
     },
     "metadata": {},
     "output_type": "display_data"
    }
   ],
   "source": [
    "reader = Reader()\n",
    "data = Dataset.load_from_df(df_reviews[['user_id', 'product_id', 'rating']], reader)\n",
    "trainset, testset = train_test_split(data, random_state=42, test_size=.3)"
   ]
  },
  {
   "cell_type": "markdown",
   "metadata": {},
   "source": [
    "#### Entrenamiento"
   ]
  },
  {
   "cell_type": "code",
   "execution_count": 375,
   "metadata": {},
   "outputs": [
    {
     "data": {
      "text/html": [
       "<pre>✔️ 0 ns (2021-10-02T19:29:58/2021-10-02T19:29:58)</pre>"
      ],
      "text/plain": [
       "<IPython.core.display.HTML object>"
      ]
     },
     "metadata": {},
     "output_type": "display_data"
    }
   ],
   "source": [
    "from surprise import SVD, SVDpp, SlopeOne, BaselineOnly\n",
    "algo = SVD()"
   ]
  },
  {
   "cell_type": "code",
   "execution_count": 376,
   "metadata": {},
   "outputs": [
    {
     "data": {
      "text/html": [
       "<pre>✔️ 43.3 s (2021-10-02T19:30:00/2021-10-02T19:30:43)</pre>"
      ],
      "text/plain": [
       "<IPython.core.display.HTML object>"
      ]
     },
     "metadata": {},
     "output_type": "display_data"
    },
    {
     "data": {
      "text/plain": [
       "<surprise.prediction_algorithms.matrix_factorization.SVD at 0x1eeb4302e20>"
      ]
     },
     "execution_count": 376,
     "metadata": {},
     "output_type": "execute_result"
    }
   ],
   "source": [
    "algo.fit(trainset)"
   ]
  },
  {
   "cell_type": "code",
   "execution_count": 377,
   "metadata": {},
   "outputs": [
    {
     "data": {
      "text/html": [
       "<pre>✔️ 2.36 s (2021-10-02T19:32:28/2021-10-02T19:32:30)</pre>"
      ],
      "text/plain": [
       "<IPython.core.display.HTML object>"
      ]
     },
     "metadata": {},
     "output_type": "display_data"
    }
   ],
   "source": [
    "predictions = algo.test(testset)"
   ]
  },
  {
   "cell_type": "code",
   "execution_count": 378,
   "metadata": {},
   "outputs": [
    {
     "data": {
      "text/html": [
       "<pre>✔️ 500 ms (2021-10-02T19:32:30/2021-10-02T19:32:31)</pre>"
      ],
      "text/plain": [
       "<IPython.core.display.HTML object>"
      ]
     },
     "metadata": {},
     "output_type": "display_data"
    },
    {
     "name": "stdout",
     "output_type": "stream",
     "text": [
      "MAE:  1.0397\n",
      "RMSE: 1.2719\n"
     ]
    },
    {
     "data": {
      "text/plain": [
       "1.2718742434930623"
      ]
     },
     "execution_count": 378,
     "metadata": {},
     "output_type": "execute_result"
    }
   ],
   "source": [
    "accuracy.mae(predictions)\n",
    "accuracy.rmse(predictions)"
   ]
  },
  {
   "cell_type": "markdown",
   "metadata": {},
   "source": [
    "#### Optimizacion del Modelo"
   ]
  },
  {
   "cell_type": "markdown",
   "metadata": {},
   "source": [
    "##### Optimizacion con Random Search"
   ]
  },
  {
   "cell_type": "code",
   "execution_count": 379,
   "metadata": {},
   "outputs": [
    {
     "data": {
      "text/html": [
       "<pre>✔️ 3 min 22 s (2021-10-02T19:58:01/2021-10-02T20:01:24)</pre>"
      ],
      "text/plain": [
       "<IPython.core.display.HTML object>"
      ]
     },
     "metadata": {},
     "output_type": "display_data"
    },
    {
     "name": "stderr",
     "output_type": "stream",
     "text": [
      "[Parallel(n_jobs=-1)]: Using backend LokyBackend with 8 concurrent workers.\n",
      "[Parallel(n_jobs=-1)]: Done   2 tasks      | elapsed:   15.3s\n",
      "[Parallel(n_jobs=-1)]: Done   9 tasks      | elapsed:  1.2min\n",
      "[Parallel(n_jobs=-1)]: Done  19 out of  30 | elapsed:  2.5min remaining:  1.4min\n",
      "[Parallel(n_jobs=-1)]: Done  23 out of  30 | elapsed:  3.0min remaining:   54.4s\n",
      "[Parallel(n_jobs=-1)]: Done  27 out of  30 | elapsed:  3.2min remaining:   21.0s\n",
      "[Parallel(n_jobs=-1)]: Done  30 out of  30 | elapsed:  3.2min finished\n"
     ]
    }
   ],
   "source": [
    "param_grid = {'n_factors': [5,50,100,150],\n",
    "              'n_epochs': [5,10,20],\n",
    "              'lr_all': [0.001,0.002,0.005],\n",
    "              'reg_all': [0.002,0.02,0.2]}\n",
    "\n",
    "gs = RandomizedSearchCV(SVD,\n",
    "                  param_grid,\n",
    "                  measures=['rmse'],\n",
    "                  cv=3,\n",
    "                  n_jobs = -1,\n",
    "                  joblib_verbose =10)\n",
    "\n",
    "gs.fit(data)"
   ]
  },
  {
   "cell_type": "code",
   "execution_count": 380,
   "metadata": {},
   "outputs": [
    {
     "data": {
      "text/html": [
       "<pre>✔️ 0 ns (2021-10-02T20:01:24/2021-10-02T20:01:24)</pre>"
      ],
      "text/plain": [
       "<IPython.core.display.HTML object>"
      ]
     },
     "metadata": {},
     "output_type": "display_data"
    },
    {
     "name": "stdout",
     "output_type": "stream",
     "text": [
      "1.2677895521509377\n",
      "{'n_factors': 50, 'n_epochs': 20, 'lr_all': 0.002, 'reg_all': 0.2}\n"
     ]
    }
   ],
   "source": [
    "print(gs.best_score['rmse'])\n",
    "print(gs.best_params['rmse'])"
   ]
  },
  {
   "cell_type": "markdown",
   "metadata": {},
   "source": [
    "### Optmizacion del Rating"
   ]
  },
  {
   "cell_type": "markdown",
   "metadata": {},
   "source": [
    "Una forma de mejorar la performance del modelo seria mejorar la calidad de los datos.\n",
    "Como ya pudimos ver, nuestra variable target, el Rating, podría mejorarse.\n",
    "Debido a que contamos con la informacion del tiempo dedicado a cada juego por parte de cada jugador, podriamos inferir que cuanto mas tiempo le ha dedicado el usuario al juego en cuestion, más interés y por ende mayor preferencia por el juego representa.\n",
    "Por todo esto, podríamos cuantificar las horas dedicadas a jugar dentro del rating: a mayor cantidad de tiempo, se le agregará un plus al rating calculado en base al comentario, y cuanto menos tiempo, se le restará."
   ]
  },
  {
   "cell_type": "code",
   "execution_count": 381,
   "metadata": {},
   "outputs": [
    {
     "data": {
      "text/html": [
       "<pre>✔️ 15 ms (2021-10-02T20:01:26/2021-10-02T20:01:26)</pre>"
      ],
      "text/plain": [
       "<IPython.core.display.HTML object>"
      ]
     },
     "metadata": {},
     "output_type": "display_data"
    },
    {
     "data": {
      "text/html": [
       "<div>\n",
       "<style scoped>\n",
       "    .dataframe tbody tr th:only-of-type {\n",
       "        vertical-align: middle;\n",
       "    }\n",
       "\n",
       "    .dataframe tbody tr th {\n",
       "        vertical-align: top;\n",
       "    }\n",
       "\n",
       "    .dataframe thead th {\n",
       "        text-align: right;\n",
       "    }\n",
       "</style>\n",
       "<table border=\"1\" class=\"dataframe\">\n",
       "  <thead>\n",
       "    <tr style=\"text-align: right;\">\n",
       "      <th></th>\n",
       "      <th>username</th>\n",
       "      <th>hours</th>\n",
       "      <th>product_id</th>\n",
       "      <th>text</th>\n",
       "      <th>user_id</th>\n",
       "      <th>app_name</th>\n",
       "      <th>cleaned_text</th>\n",
       "      <th>polarity</th>\n",
       "      <th>rating</th>\n",
       "    </tr>\n",
       "  </thead>\n",
       "  <tbody>\n",
       "    <tr>\n",
       "      <th>0</th>\n",
       "      <td>Chaos Syren</td>\n",
       "      <td>0.1000</td>\n",
       "      <td>725280</td>\n",
       "      <td>This would not be acceptable as an entertainme...</td>\n",
       "      <td>62543</td>\n",
       "      <td>Psi Project</td>\n",
       "      <td>This would acceptable entertainment even back ...</td>\n",
       "      <td>0.7506</td>\n",
       "      <td>4.3765</td>\n",
       "    </tr>\n",
       "    <tr>\n",
       "      <th>1</th>\n",
       "      <td>Ariman1</td>\n",
       "      <td>13.2000</td>\n",
       "      <td>328100</td>\n",
       "      <td>Addictive RPG ! Works fine on linux though it ...</td>\n",
       "      <td>26902</td>\n",
       "      <td>Gunspell - Steam Edition</td>\n",
       "      <td>Addictive RPG Works fine linux though minor bu...</td>\n",
       "      <td>0.2023</td>\n",
       "      <td>3.0057</td>\n",
       "    </tr>\n",
       "    <tr>\n",
       "      <th>2</th>\n",
       "      <td>freakfantom</td>\n",
       "      <td>0.1000</td>\n",
       "      <td>725280</td>\n",
       "      <td>Прикольная стрелялка. Взял дешево на распродаже.</td>\n",
       "      <td>434602</td>\n",
       "      <td>Psi Project</td>\n",
       "      <td></td>\n",
       "      <td>0.0000</td>\n",
       "      <td>2.5000</td>\n",
       "    </tr>\n",
       "    <tr>\n",
       "      <th>3</th>\n",
       "      <td>The_Cpt_FROGGY</td>\n",
       "      <td>7.8000</td>\n",
       "      <td>631920</td>\n",
       "      <td>Somewhere on Zibylon:\\n~~~~~~~~~~~~~~~~~~\\nZib...</td>\n",
       "      <td>347902</td>\n",
       "      <td>Somewhere on Zibylon</td>\n",
       "      <td>Somewhere Zibylon Zibylon command centre read ...</td>\n",
       "      <td>0.9729</td>\n",
       "      <td>4.9322</td>\n",
       "    </tr>\n",
       "    <tr>\n",
       "      <th>4</th>\n",
       "      <td>the_maker988</td>\n",
       "      <td>8.2000</td>\n",
       "      <td>35140</td>\n",
       "      <td>This game was way to linear for me, and compar...</td>\n",
       "      <td>503848</td>\n",
       "      <td>Batman: Arkham Asylum Game of the Year Edition</td>\n",
       "      <td>This game way linear compared others good For ...</td>\n",
       "      <td>0.5859</td>\n",
       "      <td>3.9647</td>\n",
       "    </tr>\n",
       "  </tbody>\n",
       "</table>\n",
       "</div>"
      ],
      "text/plain": [
       "         username   hours  product_id  \\\n",
       "0     Chaos Syren  0.1000      725280   \n",
       "1         Ariman1 13.2000      328100   \n",
       "2     freakfantom  0.1000      725280   \n",
       "3  The_Cpt_FROGGY  7.8000      631920   \n",
       "4    the_maker988  8.2000       35140   \n",
       "\n",
       "                                                text  user_id  \\\n",
       "0  This would not be acceptable as an entertainme...    62543   \n",
       "1  Addictive RPG ! Works fine on linux though it ...    26902   \n",
       "2   Прикольная стрелялка. Взял дешево на распродаже.   434602   \n",
       "3  Somewhere on Zibylon:\\n~~~~~~~~~~~~~~~~~~\\nZib...   347902   \n",
       "4  This game was way to linear for me, and compar...   503848   \n",
       "\n",
       "                                         app_name  \\\n",
       "0                                     Psi Project   \n",
       "1                        Gunspell - Steam Edition   \n",
       "2                                     Psi Project   \n",
       "3                            Somewhere on Zibylon   \n",
       "4  Batman: Arkham Asylum Game of the Year Edition   \n",
       "\n",
       "                                        cleaned_text  polarity  rating  \n",
       "0  This would acceptable entertainment even back ...    0.7506  4.3765  \n",
       "1  Addictive RPG Works fine linux though minor bu...    0.2023  3.0057  \n",
       "2                                                       0.0000  2.5000  \n",
       "3  Somewhere Zibylon Zibylon command centre read ...    0.9729  4.9322  \n",
       "4  This game way linear compared others good For ...    0.5859  3.9647  "
      ]
     },
     "execution_count": 381,
     "metadata": {},
     "output_type": "execute_result"
    }
   ],
   "source": [
    "df_reviews.head()"
   ]
  },
  {
   "cell_type": "markdown",
   "metadata": {},
   "source": [
    "Debido a que los juegos no tienen una duración en común, es decir, existen juegos que duran más que otros (e incluso hay juegos que no tienen una duración fija y se puede jugar indefinidamente), deberíamos normalizar la duración máxima de cada juego en particular.\n",
    "Para ello, vamos a calcular, de las reviews de los usuarios, la cantidad de horas mínima y máxima jugada a cada juego. Luego vamos a normalizar las horas jugadas por el usuario en función de las horas máxima y mínima global de cada juego en particular. Así crearemos un variable continua entre -1 y 1: -1 significa que usuario jugó muy poco y 1 que jugó el máximo de horas definido para ese juego."
   ]
  },
  {
   "cell_type": "code",
   "execution_count": 390,
   "metadata": {},
   "outputs": [
    {
     "data": {
      "text/html": [
       "<pre>✔️ 78 ms (2021-10-02T20:09:18/2021-10-02T20:09:18)</pre>"
      ],
      "text/plain": [
       "<IPython.core.display.HTML object>"
      ]
     },
     "metadata": {},
     "output_type": "display_data"
    },
    {
     "data": {
      "text/html": [
       "<div>\n",
       "<style scoped>\n",
       "    .dataframe tbody tr th:only-of-type {\n",
       "        vertical-align: middle;\n",
       "    }\n",
       "\n",
       "    .dataframe tbody tr th {\n",
       "        vertical-align: top;\n",
       "    }\n",
       "\n",
       "    .dataframe thead th {\n",
       "        text-align: right;\n",
       "    }\n",
       "</style>\n",
       "<table border=\"1\" class=\"dataframe\">\n",
       "  <thead>\n",
       "    <tr style=\"text-align: right;\">\n",
       "      <th></th>\n",
       "      <th>product_id</th>\n",
       "      <th>minimo</th>\n",
       "      <th>maximo</th>\n",
       "    </tr>\n",
       "  </thead>\n",
       "  <tbody>\n",
       "    <tr>\n",
       "      <th>0</th>\n",
       "      <td>224600</td>\n",
       "      <td>0.2000</td>\n",
       "      <td>28164.0000</td>\n",
       "    </tr>\n",
       "    <tr>\n",
       "      <th>1</th>\n",
       "      <td>8500</td>\n",
       "      <td>0.1000</td>\n",
       "      <td>23184.2000</td>\n",
       "    </tr>\n",
       "    <tr>\n",
       "      <th>2</th>\n",
       "      <td>320</td>\n",
       "      <td>0.1000</td>\n",
       "      <td>20573.3000</td>\n",
       "    </tr>\n",
       "    <tr>\n",
       "      <th>3</th>\n",
       "      <td>363970</td>\n",
       "      <td>0.0000</td>\n",
       "      <td>20018.9000</td>\n",
       "    </tr>\n",
       "    <tr>\n",
       "      <th>4</th>\n",
       "      <td>24010</td>\n",
       "      <td>0.1000</td>\n",
       "      <td>19205.2000</td>\n",
       "    </tr>\n",
       "    <tr>\n",
       "      <th>...</th>\n",
       "      <td>...</td>\n",
       "      <td>...</td>\n",
       "      <td>...</td>\n",
       "    </tr>\n",
       "    <tr>\n",
       "      <th>12660</th>\n",
       "      <td>598390</td>\n",
       "      <td>NaN</td>\n",
       "      <td>NaN</td>\n",
       "    </tr>\n",
       "    <tr>\n",
       "      <th>12661</th>\n",
       "      <td>604090</td>\n",
       "      <td>NaN</td>\n",
       "      <td>NaN</td>\n",
       "    </tr>\n",
       "    <tr>\n",
       "      <th>12662</th>\n",
       "      <td>625660</td>\n",
       "      <td>NaN</td>\n",
       "      <td>NaN</td>\n",
       "    </tr>\n",
       "    <tr>\n",
       "      <th>12663</th>\n",
       "      <td>645180</td>\n",
       "      <td>NaN</td>\n",
       "      <td>NaN</td>\n",
       "    </tr>\n",
       "    <tr>\n",
       "      <th>12664</th>\n",
       "      <td>666200</td>\n",
       "      <td>NaN</td>\n",
       "      <td>NaN</td>\n",
       "    </tr>\n",
       "  </tbody>\n",
       "</table>\n",
       "<p>12665 rows × 3 columns</p>\n",
       "</div>"
      ],
      "text/plain": [
       "       product_id  minimo     maximo\n",
       "0          224600  0.2000 28164.0000\n",
       "1            8500  0.1000 23184.2000\n",
       "2             320  0.1000 20573.3000\n",
       "3          363970  0.0000 20018.9000\n",
       "4           24010  0.1000 19205.2000\n",
       "...           ...     ...        ...\n",
       "12660      598390     NaN        NaN\n",
       "12661      604090     NaN        NaN\n",
       "12662      625660     NaN        NaN\n",
       "12663      645180     NaN        NaN\n",
       "12664      666200     NaN        NaN\n",
       "\n",
       "[12665 rows x 3 columns]"
      ]
     },
     "execution_count": 390,
     "metadata": {},
     "output_type": "execute_result"
    }
   ],
   "source": [
    "# Creamos un dataframe con las cantidad de horas minima y maxima dedicada a cada juego.\n",
    "df_hours = df_reviews.groupby('product_id').hours.agg(minimo=np.min, maximo=np.max).sort_values(by='maximo', ascending=False)\n",
    "df_hours.reset_index()"
   ]
  },
  {
   "cell_type": "code",
   "execution_count": 391,
   "metadata": {},
   "outputs": [
    {
     "data": {
      "text/html": [
       "<pre>✔️ 15 ms (2021-10-02T20:09:27/2021-10-02T20:09:27)</pre>"
      ],
      "text/plain": [
       "<IPython.core.display.HTML object>"
      ]
     },
     "metadata": {},
     "output_type": "display_data"
    }
   ],
   "source": [
    "# Redefinimos el mínimo en cero\n",
    "df_hours.minimo = np.zeros(df_hours.shape[0])"
   ]
  },
  {
   "cell_type": "code",
   "execution_count": 392,
   "metadata": {},
   "outputs": [
    {
     "data": {
      "text/html": [
       "<pre>✔️ 15 ms (2021-10-02T20:09:31/2021-10-02T20:09:31)</pre>"
      ],
      "text/plain": [
       "<IPython.core.display.HTML object>"
      ]
     },
     "metadata": {},
     "output_type": "display_data"
    },
    {
     "data": {
      "text/plain": [
       "minimo     0\n",
       "maximo    45\n",
       "dtype: int64"
      ]
     },
     "execution_count": 392,
     "metadata": {},
     "output_type": "execute_result"
    }
   ],
   "source": [
    "# Vemos que hay missings. Vamos a ver cuantos hay.\n",
    "df_hours.isna().sum()"
   ]
  },
  {
   "cell_type": "code",
   "execution_count": 393,
   "metadata": {},
   "outputs": [
    {
     "data": {
      "text/html": [
       "<pre>✔️ 15 ms (2021-10-02T20:09:44/2021-10-02T20:09:44)</pre>"
      ],
      "text/plain": [
       "<IPython.core.display.HTML object>"
      ]
     },
     "metadata": {},
     "output_type": "display_data"
    },
    {
     "data": {
      "text/html": [
       "<div>\n",
       "<style scoped>\n",
       "    .dataframe tbody tr th:only-of-type {\n",
       "        vertical-align: middle;\n",
       "    }\n",
       "\n",
       "    .dataframe tbody tr th {\n",
       "        vertical-align: top;\n",
       "    }\n",
       "\n",
       "    .dataframe thead th {\n",
       "        text-align: right;\n",
       "    }\n",
       "</style>\n",
       "<table border=\"1\" class=\"dataframe\">\n",
       "  <thead>\n",
       "    <tr style=\"text-align: right;\">\n",
       "      <th></th>\n",
       "      <th>minimo</th>\n",
       "      <th>maximo</th>\n",
       "    </tr>\n",
       "    <tr>\n",
       "      <th>product_id</th>\n",
       "      <th></th>\n",
       "      <th></th>\n",
       "    </tr>\n",
       "  </thead>\n",
       "  <tbody>\n",
       "    <tr>\n",
       "      <th>224600</th>\n",
       "      <td>0.0000</td>\n",
       "      <td>28164.0000</td>\n",
       "    </tr>\n",
       "    <tr>\n",
       "      <th>8500</th>\n",
       "      <td>0.0000</td>\n",
       "      <td>23184.2000</td>\n",
       "    </tr>\n",
       "    <tr>\n",
       "      <th>320</th>\n",
       "      <td>0.0000</td>\n",
       "      <td>20573.3000</td>\n",
       "    </tr>\n",
       "    <tr>\n",
       "      <th>363970</th>\n",
       "      <td>0.0000</td>\n",
       "      <td>20018.9000</td>\n",
       "    </tr>\n",
       "    <tr>\n",
       "      <th>24010</th>\n",
       "      <td>0.0000</td>\n",
       "      <td>19205.2000</td>\n",
       "    </tr>\n",
       "    <tr>\n",
       "      <th>...</th>\n",
       "      <td>...</td>\n",
       "      <td>...</td>\n",
       "    </tr>\n",
       "    <tr>\n",
       "      <th>598390</th>\n",
       "      <td>0.0000</td>\n",
       "      <td>1.0000</td>\n",
       "    </tr>\n",
       "    <tr>\n",
       "      <th>604090</th>\n",
       "      <td>0.0000</td>\n",
       "      <td>1.0000</td>\n",
       "    </tr>\n",
       "    <tr>\n",
       "      <th>625660</th>\n",
       "      <td>0.0000</td>\n",
       "      <td>1.0000</td>\n",
       "    </tr>\n",
       "    <tr>\n",
       "      <th>645180</th>\n",
       "      <td>0.0000</td>\n",
       "      <td>1.0000</td>\n",
       "    </tr>\n",
       "    <tr>\n",
       "      <th>666200</th>\n",
       "      <td>0.0000</td>\n",
       "      <td>1.0000</td>\n",
       "    </tr>\n",
       "  </tbody>\n",
       "</table>\n",
       "<p>12665 rows × 2 columns</p>\n",
       "</div>"
      ],
      "text/plain": [
       "            minimo     maximo\n",
       "product_id                   \n",
       "224600      0.0000 28164.0000\n",
       "8500        0.0000 23184.2000\n",
       "320         0.0000 20573.3000\n",
       "363970      0.0000 20018.9000\n",
       "24010       0.0000 19205.2000\n",
       "...            ...        ...\n",
       "598390      0.0000     1.0000\n",
       "604090      0.0000     1.0000\n",
       "625660      0.0000     1.0000\n",
       "645180      0.0000     1.0000\n",
       "666200      0.0000     1.0000\n",
       "\n",
       "[12665 rows x 2 columns]"
      ]
     },
     "execution_count": 393,
     "metadata": {},
     "output_type": "execute_result"
    }
   ],
   "source": [
    "# Rellenamos los mínimos con 0 y los máximos con 1\n",
    "df_hours.minimo.fillna(0, inplace=True)\n",
    "df_hours.maximo.fillna(1, inplace=True)\n",
    "df_hours"
   ]
  },
  {
   "cell_type": "code",
   "execution_count": 394,
   "metadata": {},
   "outputs": [
    {
     "data": {
      "text/html": [
       "<pre>✔️ 0 ns (2021-10-02T20:09:47/2021-10-02T20:09:47)</pre>"
      ],
      "text/plain": [
       "<IPython.core.display.HTML object>"
      ]
     },
     "metadata": {},
     "output_type": "display_data"
    }
   ],
   "source": [
    "df_hours.reset_index(inplace=True)"
   ]
  },
  {
   "cell_type": "code",
   "execution_count": 395,
   "metadata": {},
   "outputs": [
    {
     "data": {
      "text/html": [
       "<pre>✔️ 1.92 s (2021-10-02T20:09:53/2021-10-02T20:09:55)</pre>"
      ],
      "text/plain": [
       "<IPython.core.display.HTML object>"
      ]
     },
     "metadata": {},
     "output_type": "display_data"
    },
    {
     "data": {
      "image/png": "[encoded data removed]",
      "text/plain": [
       "<Figure size 504x72 with 1 Axes>"
      ]
     },
     "metadata": {},
     "output_type": "display_data"
    },
    {
     "data": {
      "image/png": "[encoded data removed]",
      "text/plain": [
       "<Figure size 504x72 with 1 Axes>"
      ]
     },
     "metadata": {},
     "output_type": "display_data"
    },
    {
     "data": {
      "image/png": "[encoded data removed]",
      "text/plain": [
       "<Figure size 504x72 with 1 Axes>"
      ]
     },
     "metadata": {},
     "output_type": "display_data"
    },
    {
     "data": {
      "image/png": "[encoded data removed]",
      "text/plain": [
       "<Figure size 504x72 with 1 Axes>"
      ]
     },
     "metadata": {},
     "output_type": "display_data"
    },
    {
     "data": {
      "image/png": "[encoded data removed]",
      "text/plain": [
       "<Figure size 504x72 with 1 Axes>"
      ]
     },
     "metadata": {},
     "output_type": "display_data"
    }
   ],
   "source": [
    "# Exploremos las densidaes de distribucion de horas de los juegos con mas horas\n",
    "for product_id in df_hours[:5].product_id:    \n",
    "    plt.figure(figsize=(7,1))\n",
    "    sns.boxplot(data=df_reviews[df_reviews.product_id==product_id], x='hours')\n",
    "    plt.title(data_games[data_games.id == product_id].app_name.values[0])\n",
    "    plt.xlabel('hours')\n",
    "    plt.xlim(0,df_hours[df_hours.product_id==product_id].maximo.values[0])\n",
    "    plt.xticks(rotation=90)\n",
    "    plt.show()"
   ]
  },
  {
   "cell_type": "code",
   "execution_count": 396,
   "metadata": {},
   "outputs": [
    {
     "data": {
      "text/html": [
       "<pre>✔️ 0 ns (2021-10-02T20:10:09/2021-10-02T20:10:09)</pre>"
      ],
      "text/plain": [
       "<IPython.core.display.HTML object>"
      ]
     },
     "metadata": {},
     "output_type": "display_data"
    }
   ],
   "source": [
    "# Como vemos que existen muchos valores outliers,\n",
    "# vamos a crear una funcion para topear el maximo\n",
    "# en el percentil 90\n",
    "def topMax(index):\n",
    "    top = df_reviews[df_reviews.product_id==index].quantile(.90).hours\n",
    "    if np.isnan(top):\n",
    "        top = 1\n",
    "    return top"
   ]
  },
  {
   "cell_type": "code",
   "execution_count": 397,
   "metadata": {},
   "outputs": [
    {
     "data": {
      "text/html": [
       "<pre>✔️ 50.3 s (2021-10-02T20:10:11/2021-10-02T20:11:02)</pre>"
      ],
      "text/plain": [
       "<IPython.core.display.HTML object>"
      ]
     },
     "metadata": {},
     "output_type": "display_data"
    },
    {
     "data": {
      "application/vnd.jupyter.widget-view+json": {
       "model_id": "f92e269f62804c848aaba83bf09795c9",
       "version_major": 2,
       "version_minor": 0
      },
      "text/plain": [
       "  0%|          | 0/12665 [00:00<?, ?it/s]"
      ]
     },
     "metadata": {},
     "output_type": "display_data"
    },
    {
     "data": {
      "text/html": [
       "<div>\n",
       "<style scoped>\n",
       "    .dataframe tbody tr th:only-of-type {\n",
       "        vertical-align: middle;\n",
       "    }\n",
       "\n",
       "    .dataframe tbody tr th {\n",
       "        vertical-align: top;\n",
       "    }\n",
       "\n",
       "    .dataframe thead th {\n",
       "        text-align: right;\n",
       "    }\n",
       "</style>\n",
       "<table border=\"1\" class=\"dataframe\">\n",
       "  <thead>\n",
       "    <tr style=\"text-align: right;\">\n",
       "      <th></th>\n",
       "      <th>product_id</th>\n",
       "      <th>minimo</th>\n",
       "      <th>maximo</th>\n",
       "    </tr>\n",
       "  </thead>\n",
       "  <tbody>\n",
       "    <tr>\n",
       "      <th>47</th>\n",
       "      <td>385020</td>\n",
       "      <td>0.0000</td>\n",
       "      <td>7290.4400</td>\n",
       "    </tr>\n",
       "    <tr>\n",
       "      <th>21</th>\n",
       "      <td>466170</td>\n",
       "      <td>0.0000</td>\n",
       "      <td>5535.8900</td>\n",
       "    </tr>\n",
       "    <tr>\n",
       "      <th>98</th>\n",
       "      <td>408030</td>\n",
       "      <td>0.0000</td>\n",
       "      <td>4217.8400</td>\n",
       "    </tr>\n",
       "    <tr>\n",
       "      <th>146</th>\n",
       "      <td>340990</td>\n",
       "      <td>0.0000</td>\n",
       "      <td>4038.6200</td>\n",
       "    </tr>\n",
       "    <tr>\n",
       "      <th>130</th>\n",
       "      <td>454550</td>\n",
       "      <td>0.0000</td>\n",
       "      <td>3525.0500</td>\n",
       "    </tr>\n",
       "    <tr>\n",
       "      <th>...</th>\n",
       "      <td>...</td>\n",
       "      <td>...</td>\n",
       "      <td>...</td>\n",
       "    </tr>\n",
       "    <tr>\n",
       "      <th>12615</th>\n",
       "      <td>8690</td>\n",
       "      <td>0.0000</td>\n",
       "      <td>0.0000</td>\n",
       "    </tr>\n",
       "    <tr>\n",
       "      <th>12616</th>\n",
       "      <td>44620</td>\n",
       "      <td>0.0000</td>\n",
       "      <td>0.0000</td>\n",
       "    </tr>\n",
       "    <tr>\n",
       "      <th>12617</th>\n",
       "      <td>355950</td>\n",
       "      <td>0.0000</td>\n",
       "      <td>0.0000</td>\n",
       "    </tr>\n",
       "    <tr>\n",
       "      <th>12618</th>\n",
       "      <td>331181</td>\n",
       "      <td>0.0000</td>\n",
       "      <td>0.0000</td>\n",
       "    </tr>\n",
       "    <tr>\n",
       "      <th>12619</th>\n",
       "      <td>8650</td>\n",
       "      <td>0.0000</td>\n",
       "      <td>0.0000</td>\n",
       "    </tr>\n",
       "  </tbody>\n",
       "</table>\n",
       "<p>12665 rows × 3 columns</p>\n",
       "</div>"
      ],
      "text/plain": [
       "       product_id  minimo    maximo\n",
       "47         385020  0.0000 7290.4400\n",
       "21         466170  0.0000 5535.8900\n",
       "98         408030  0.0000 4217.8400\n",
       "146        340990  0.0000 4038.6200\n",
       "130        454550  0.0000 3525.0500\n",
       "...           ...     ...       ...\n",
       "12615        8690  0.0000    0.0000\n",
       "12616       44620  0.0000    0.0000\n",
       "12617      355950  0.0000    0.0000\n",
       "12618      331181  0.0000    0.0000\n",
       "12619        8650  0.0000    0.0000\n",
       "\n",
       "[12665 rows x 3 columns]"
      ]
     },
     "execution_count": 397,
     "metadata": {},
     "output_type": "execute_result"
    }
   ],
   "source": [
    "df_hours['maximo'] = df_hours.product_id.progress_apply(topMax)\n",
    "df_hours.sort_values(by='maximo', ascending=False)"
   ]
  },
  {
   "cell_type": "code",
   "execution_count": 398,
   "metadata": {},
   "outputs": [
    {
     "data": {
      "text/html": [
       "<pre>✔️ 1.24 s (2021-10-02T20:11:02/2021-10-02T20:11:03)</pre>"
      ],
      "text/plain": [
       "<IPython.core.display.HTML object>"
      ]
     },
     "metadata": {},
     "output_type": "display_data"
    },
    {
     "data": {
      "image/png": "[encoded data removed]",
      "text/plain": [
       "<Figure size 504x72 with 1 Axes>"
      ]
     },
     "metadata": {},
     "output_type": "display_data"
    },
    {
     "data": {
      "image/png": "[encoded data removed]",
      "text/plain": [
       "<Figure size 504x72 with 1 Axes>"
      ]
     },
     "metadata": {},
     "output_type": "display_data"
    },
    {
     "data": {
      "image/png": "[encoded data removed]",
      "text/plain": [
       "<Figure size 504x72 with 1 Axes>"
      ]
     },
     "metadata": {},
     "output_type": "display_data"
    },
    {
     "data": {
      "image/png": "[encoded data removed]",
      "text/plain": [
       "<Figure size 504x72 with 1 Axes>"
      ]
     },
     "metadata": {},
     "output_type": "display_data"
    },
    {
     "data": {
      "image/png": "[encoded data removed]",
      "text/plain": [
       "<Figure size 504x72 with 1 Axes>"
      ]
     },
     "metadata": {},
     "output_type": "display_data"
    }
   ],
   "source": [
    "# Volvemos a chequear las distribuciones de los ratings por juego\n",
    "for product_id in df_hours[:5].product_id:    \n",
    "    plt.figure(figsize=(7,1))\n",
    "    sns.boxplot(data=df_reviews[df_reviews.product_id==product_id], x='hours')\n",
    "    plt.title(data_games[data_games.id == product_id].app_name.values[0])\n",
    "    plt.xlim(0,df_hours[df_hours.product_id==product_id].maximo.values[0])\n",
    "    plt.xticks(rotation=90)\n",
    "    plt.show()"
   ]
  },
  {
   "cell_type": "code",
   "execution_count": 399,
   "metadata": {},
   "outputs": [
    {
     "data": {
      "text/html": [
       "<pre>✔️ 593 ms (2021-10-02T20:14:40/2021-10-02T20:14:41)</pre>"
      ],
      "text/plain": [
       "<IPython.core.display.HTML object>"
      ]
     },
     "metadata": {},
     "output_type": "display_data"
    },
    {
     "data": {
      "text/plain": [
       "(779307, 11)"
      ]
     },
     "execution_count": 399,
     "metadata": {},
     "output_type": "execute_result"
    }
   ],
   "source": [
    "# Agrego las columnas de 'minimo' y 'maximo' al dataframe de las reviews\n",
    "try:\n",
    "    df_reviews.drop(['minimo', 'maximo'], axis=1, inplace=True)\n",
    "except:\n",
    "    df_reviews.head()\n",
    "df_reviews = pd.merge(df_reviews, df_hours, how='left', left_on='product_id', right_on='product_id')\n",
    "df_reviews.shape"
   ]
  },
  {
   "cell_type": "code",
   "execution_count": 402,
   "metadata": {},
   "outputs": [
    {
     "data": {
      "text/html": [
       "<pre>✔️ 328 ms (2021-10-02T20:15:58/2021-10-02T20:15:59)</pre>"
      ],
      "text/plain": [
       "<IPython.core.display.HTML object>"
      ]
     },
     "metadata": {},
     "output_type": "display_data"
    },
    {
     "data": {
      "text/html": [
       "<div>\n",
       "<style scoped>\n",
       "    .dataframe tbody tr th:only-of-type {\n",
       "        vertical-align: middle;\n",
       "    }\n",
       "\n",
       "    .dataframe tbody tr th {\n",
       "        vertical-align: top;\n",
       "    }\n",
       "\n",
       "    .dataframe thead th {\n",
       "        text-align: right;\n",
       "    }\n",
       "</style>\n",
       "<table border=\"1\" class=\"dataframe\">\n",
       "  <thead>\n",
       "    <tr style=\"text-align: right;\">\n",
       "      <th></th>\n",
       "      <th>username</th>\n",
       "      <th>product_id</th>\n",
       "      <th>text</th>\n",
       "      <th>user_id</th>\n",
       "      <th>cleaned_text</th>\n",
       "      <th>polarity</th>\n",
       "      <th>rating</th>\n",
       "      <th>hours</th>\n",
       "      <th>minimo</th>\n",
       "      <th>maximo</th>\n",
       "      <th>hr_factor</th>\n",
       "    </tr>\n",
       "  </thead>\n",
       "  <tbody>\n",
       "    <tr>\n",
       "      <th>0</th>\n",
       "      <td>Chaos Syren</td>\n",
       "      <td>725280</td>\n",
       "      <td>This would not be acceptable as an entertainme...</td>\n",
       "      <td>62543</td>\n",
       "      <td>This would acceptable entertainment even back ...</td>\n",
       "      <td>0.7506</td>\n",
       "      <td>4.3765</td>\n",
       "      <td>0.1000</td>\n",
       "      <td>0.0000</td>\n",
       "      <td>0.1000</td>\n",
       "      <td>1.0000</td>\n",
       "    </tr>\n",
       "    <tr>\n",
       "      <th>1</th>\n",
       "      <td>Ariman1</td>\n",
       "      <td>328100</td>\n",
       "      <td>Addictive RPG ! Works fine on linux though it ...</td>\n",
       "      <td>26902</td>\n",
       "      <td>Addictive RPG Works fine linux though minor bu...</td>\n",
       "      <td>0.2023</td>\n",
       "      <td>3.0057</td>\n",
       "      <td>13.2000</td>\n",
       "      <td>0.0000</td>\n",
       "      <td>7.5600</td>\n",
       "      <td>1.0000</td>\n",
       "    </tr>\n",
       "    <tr>\n",
       "      <th>2</th>\n",
       "      <td>freakfantom</td>\n",
       "      <td>725280</td>\n",
       "      <td>Прикольная стрелялка. Взял дешево на распродаже.</td>\n",
       "      <td>434602</td>\n",
       "      <td></td>\n",
       "      <td>0.0000</td>\n",
       "      <td>2.5000</td>\n",
       "      <td>0.1000</td>\n",
       "      <td>0.0000</td>\n",
       "      <td>0.1000</td>\n",
       "      <td>1.0000</td>\n",
       "    </tr>\n",
       "    <tr>\n",
       "      <th>3</th>\n",
       "      <td>The_Cpt_FROGGY</td>\n",
       "      <td>631920</td>\n",
       "      <td>Somewhere on Zibylon:\\n~~~~~~~~~~~~~~~~~~\\nZib...</td>\n",
       "      <td>347902</td>\n",
       "      <td>Somewhere Zibylon Zibylon command centre read ...</td>\n",
       "      <td>0.9729</td>\n",
       "      <td>4.9322</td>\n",
       "      <td>7.8000</td>\n",
       "      <td>0.0000</td>\n",
       "      <td>26.6800</td>\n",
       "      <td>-0.4153</td>\n",
       "    </tr>\n",
       "    <tr>\n",
       "      <th>4</th>\n",
       "      <td>the_maker988</td>\n",
       "      <td>35140</td>\n",
       "      <td>This game was way to linear for me, and compar...</td>\n",
       "      <td>503848</td>\n",
       "      <td>This game way linear compared others good For ...</td>\n",
       "      <td>0.5859</td>\n",
       "      <td>3.9647</td>\n",
       "      <td>8.2000</td>\n",
       "      <td>0.0000</td>\n",
       "      <td>39.0000</td>\n",
       "      <td>-0.5795</td>\n",
       "    </tr>\n",
       "    <tr>\n",
       "      <th>...</th>\n",
       "      <td>...</td>\n",
       "      <td>...</td>\n",
       "      <td>...</td>\n",
       "      <td>...</td>\n",
       "      <td>...</td>\n",
       "      <td>...</td>\n",
       "      <td>...</td>\n",
       "      <td>...</td>\n",
       "      <td>...</td>\n",
       "      <td>...</td>\n",
       "      <td>...</td>\n",
       "    </tr>\n",
       "    <tr>\n",
       "      <th>779302</th>\n",
       "      <td>Vidaar</td>\n",
       "      <td>252490</td>\n",
       "      <td>Summary: Rust is a survival game created by Fa...</td>\n",
       "      <td>366849</td>\n",
       "      <td>Summary Rust survival game created Facepunch S...</td>\n",
       "      <td>-0.9905</td>\n",
       "      <td>0.0237</td>\n",
       "      <td>783.5000</td>\n",
       "      <td>0.0000</td>\n",
       "      <td>1177.4000</td>\n",
       "      <td>0.3309</td>\n",
       "    </tr>\n",
       "    <tr>\n",
       "      <th>779303</th>\n",
       "      <td>Nikolai Belinski</td>\n",
       "      <td>252490</td>\n",
       "      <td>Coolest Game Eva</td>\n",
       "      <td>242193</td>\n",
       "      <td>Coolest Game Eva</td>\n",
       "      <td>0.0000</td>\n",
       "      <td>2.5000</td>\n",
       "      <td>55.1000</td>\n",
       "      <td>0.0000</td>\n",
       "      <td>1177.4000</td>\n",
       "      <td>-0.9064</td>\n",
       "    </tr>\n",
       "    <tr>\n",
       "      <th>779304</th>\n",
       "      <td>RancorZealot</td>\n",
       "      <td>252490</td>\n",
       "      <td>Should you buy RUST? Uh... YES. The BEST Survi...</td>\n",
       "      <td>276240</td>\n",
       "      <td>Should buy RUST YES The BEST Survival Sandbox ...</td>\n",
       "      <td>0.9546</td>\n",
       "      <td>4.8865</td>\n",
       "      <td>203.5000</td>\n",
       "      <td>0.0000</td>\n",
       "      <td>1177.4000</td>\n",
       "      <td>-0.6543</td>\n",
       "    </tr>\n",
       "    <tr>\n",
       "      <th>779305</th>\n",
       "      <td>Jerry</td>\n",
       "      <td>252490</td>\n",
       "      <td>Great game!</td>\n",
       "      <td>168748</td>\n",
       "      <td>Great game</td>\n",
       "      <td>0.6249</td>\n",
       "      <td>4.0623</td>\n",
       "      <td>139.8000</td>\n",
       "      <td>0.0000</td>\n",
       "      <td>1177.4000</td>\n",
       "      <td>-0.7625</td>\n",
       "    </tr>\n",
       "    <tr>\n",
       "      <th>779306</th>\n",
       "      <td>Helk</td>\n",
       "      <td>252490</td>\n",
       "      <td>I love this game!</td>\n",
       "      <td>147490</td>\n",
       "      <td>love game</td>\n",
       "      <td>0.6369</td>\n",
       "      <td>4.0922</td>\n",
       "      <td>15375.0000</td>\n",
       "      <td>0.0000</td>\n",
       "      <td>1177.4000</td>\n",
       "      <td>1.0000</td>\n",
       "    </tr>\n",
       "  </tbody>\n",
       "</table>\n",
       "<p>779307 rows × 11 columns</p>\n",
       "</div>"
      ],
      "text/plain": [
       "                username  product_id  \\\n",
       "0            Chaos Syren      725280   \n",
       "1                Ariman1      328100   \n",
       "2            freakfantom      725280   \n",
       "3         The_Cpt_FROGGY      631920   \n",
       "4           the_maker988       35140   \n",
       "...                  ...         ...   \n",
       "779302            Vidaar      252490   \n",
       "779303  Nikolai Belinski      252490   \n",
       "779304      RancorZealot      252490   \n",
       "779305             Jerry      252490   \n",
       "779306              Helk      252490   \n",
       "\n",
       "                                                     text  user_id  \\\n",
       "0       This would not be acceptable as an entertainme...    62543   \n",
       "1       Addictive RPG ! Works fine on linux though it ...    26902   \n",
       "2        Прикольная стрелялка. Взял дешево на распродаже.   434602   \n",
       "3       Somewhere on Zibylon:\\n~~~~~~~~~~~~~~~~~~\\nZib...   347902   \n",
       "4       This game was way to linear for me, and compar...   503848   \n",
       "...                                                   ...      ...   \n",
       "779302  Summary: Rust is a survival game created by Fa...   366849   \n",
       "779303                                   Coolest Game Eva   242193   \n",
       "779304  Should you buy RUST? Uh... YES. The BEST Survi...   276240   \n",
       "779305                                        Great game!   168748   \n",
       "779306                                  I love this game!   147490   \n",
       "\n",
       "                                             cleaned_text  polarity  rating  \\\n",
       "0       This would acceptable entertainment even back ...    0.7506  4.3765   \n",
       "1       Addictive RPG Works fine linux though minor bu...    0.2023  3.0057   \n",
       "2                                                            0.0000  2.5000   \n",
       "3       Somewhere Zibylon Zibylon command centre read ...    0.9729  4.9322   \n",
       "4       This game way linear compared others good For ...    0.5859  3.9647   \n",
       "...                                                   ...       ...     ...   \n",
       "779302  Summary Rust survival game created Facepunch S...   -0.9905  0.0237   \n",
       "779303                                   Coolest Game Eva    0.0000  2.5000   \n",
       "779304  Should buy RUST YES The BEST Survival Sandbox ...    0.9546  4.8865   \n",
       "779305                                         Great game    0.6249  4.0623   \n",
       "779306                                          love game    0.6369  4.0922   \n",
       "\n",
       "            hours  minimo    maximo  hr_factor  \n",
       "0          0.1000  0.0000    0.1000     1.0000  \n",
       "1         13.2000  0.0000    7.5600     1.0000  \n",
       "2          0.1000  0.0000    0.1000     1.0000  \n",
       "3          7.8000  0.0000   26.6800    -0.4153  \n",
       "4          8.2000  0.0000   39.0000    -0.5795  \n",
       "...           ...     ...       ...        ...  \n",
       "779302   783.5000  0.0000 1177.4000     0.3309  \n",
       "779303    55.1000  0.0000 1177.4000    -0.9064  \n",
       "779304   203.5000  0.0000 1177.4000    -0.6543  \n",
       "779305   139.8000  0.0000 1177.4000    -0.7625  \n",
       "779306 15375.0000  0.0000 1177.4000     1.0000  \n",
       "\n",
       "[779307 rows x 11 columns]"
      ]
     },
     "execution_count": 402,
     "metadata": {},
     "output_type": "execute_result"
    }
   ],
   "source": [
    "# Genero una nueva columna normalizando la columna 'hours' entre -1 y 1\n",
    "# Dicha columna, posteriormente se utilizará para sumar a la columna 'rating'\n",
    "# De modo de considerar en la valoración, la cantidad de tiempo relativa que\n",
    "# cada usuario dedico a jugar ese juego en particular. Así, si jugó muchas horas\n",
    "# el 'hr_factor' estará más cerca de 1 y si jugo muy poco, estará más cerca de -1\n",
    "\n",
    "df_reviews['hr_factor'] = np.minimum((df_reviews['hours']-df_reviews['minimo'])/(df_reviews['maximo']-df_reviews['minimo'])*2-1, 1)\n",
    "df_reviews['hr_factor'] = df_reviews['hr_factor'].fillna(0)\n",
    "df_reviews[['username', 'product_id', 'text', 'user_id', 'cleaned_text', 'polarity', 'rating', 'hours', 'minimo', 'maximo', 'hr_factor']]"
   ]
  },
  {
   "cell_type": "code",
   "execution_count": 403,
   "metadata": {},
   "outputs": [
    {
     "data": {
      "text/html": [
       "<pre>✔️ 453 ms (2021-10-02T20:16:11/2021-10-02T20:16:11)</pre>"
      ],
      "text/plain": [
       "<IPython.core.display.HTML object>"
      ]
     },
     "metadata": {},
     "output_type": "display_data"
    },
    {
     "data": {
      "text/html": [
       "<div>\n",
       "<style scoped>\n",
       "    .dataframe tbody tr th:only-of-type {\n",
       "        vertical-align: middle;\n",
       "    }\n",
       "\n",
       "    .dataframe tbody tr th {\n",
       "        vertical-align: top;\n",
       "    }\n",
       "\n",
       "    .dataframe thead th {\n",
       "        text-align: right;\n",
       "    }\n",
       "</style>\n",
       "<table border=\"1\" class=\"dataframe\">\n",
       "  <thead>\n",
       "    <tr style=\"text-align: right;\">\n",
       "      <th></th>\n",
       "      <th>hours</th>\n",
       "      <th>product_id</th>\n",
       "      <th>user_id</th>\n",
       "      <th>polarity</th>\n",
       "      <th>rating</th>\n",
       "      <th>minimo</th>\n",
       "      <th>maximo</th>\n",
       "      <th>hr_factor</th>\n",
       "    </tr>\n",
       "  </thead>\n",
       "  <tbody>\n",
       "    <tr>\n",
       "      <th>count</th>\n",
       "      <td>776670.0000</td>\n",
       "      <td>779307.0000</td>\n",
       "      <td>779307.0000</td>\n",
       "      <td>779307.0000</td>\n",
       "      <td>779307.0000</td>\n",
       "      <td>779307.0000</td>\n",
       "      <td>779307.0000</td>\n",
       "      <td>779307.0000</td>\n",
       "    </tr>\n",
       "    <tr>\n",
       "      <th>mean</th>\n",
       "      <td>111.8438</td>\n",
       "      <td>251489.8221</td>\n",
       "      <td>263410.8997</td>\n",
       "      <td>0.4263</td>\n",
       "      <td>3.5658</td>\n",
       "      <td>0.0000</td>\n",
       "      <td>272.5729</td>\n",
       "      <td>-0.2759</td>\n",
       "    </tr>\n",
       "    <tr>\n",
       "      <th>std</th>\n",
       "      <td>390.1454</td>\n",
       "      <td>149975.3705</td>\n",
       "      <td>154077.9124</td>\n",
       "      <td>0.5231</td>\n",
       "      <td>1.3077</td>\n",
       "      <td>0.0000</td>\n",
       "      <td>443.5505</td>\n",
       "      <td>0.6565</td>\n",
       "    </tr>\n",
       "    <tr>\n",
       "      <th>min</th>\n",
       "      <td>0.0000</td>\n",
       "      <td>10.0000</td>\n",
       "      <td>0.0000</td>\n",
       "      <td>-1.0000</td>\n",
       "      <td>0.0000</td>\n",
       "      <td>0.0000</td>\n",
       "      <td>0.0000</td>\n",
       "      <td>-1.0000</td>\n",
       "    </tr>\n",
       "    <tr>\n",
       "      <th>25%</th>\n",
       "      <td>4.0000</td>\n",
       "      <td>203770.0000</td>\n",
       "      <td>130630.5000</td>\n",
       "      <td>0.0000</td>\n",
       "      <td>2.5000</td>\n",
       "      <td>0.0000</td>\n",
       "      <td>25.2500</td>\n",
       "      <td>-0.8406</td>\n",
       "    </tr>\n",
       "    <tr>\n",
       "      <th>50%</th>\n",
       "      <td>15.3000</td>\n",
       "      <td>252490.0000</td>\n",
       "      <td>260874.0000</td>\n",
       "      <td>0.6124</td>\n",
       "      <td>4.0310</td>\n",
       "      <td>0.0000</td>\n",
       "      <td>77.0000</td>\n",
       "      <td>-0.4747</td>\n",
       "    </tr>\n",
       "    <tr>\n",
       "      <th>75%</th>\n",
       "      <td>59.6000</td>\n",
       "      <td>346110.0000</td>\n",
       "      <td>391979.5000</td>\n",
       "      <td>0.8720</td>\n",
       "      <td>4.6800</td>\n",
       "      <td>0.0000</td>\n",
       "      <td>320.6600</td>\n",
       "      <td>0.1291</td>\n",
       "    </tr>\n",
       "    <tr>\n",
       "      <th>max</th>\n",
       "      <td>28164.0000</td>\n",
       "      <td>773900.0000</td>\n",
       "      <td>540338.0000</td>\n",
       "      <td>1.0000</td>\n",
       "      <td>5.0000</td>\n",
       "      <td>0.0000</td>\n",
       "      <td>7290.4400</td>\n",
       "      <td>1.0000</td>\n",
       "    </tr>\n",
       "  </tbody>\n",
       "</table>\n",
       "</div>"
      ],
      "text/plain": [
       "            hours  product_id     user_id    polarity      rating      minimo  \\\n",
       "count 776670.0000 779307.0000 779307.0000 779307.0000 779307.0000 779307.0000   \n",
       "mean     111.8438 251489.8221 263410.8997      0.4263      3.5658      0.0000   \n",
       "std      390.1454 149975.3705 154077.9124      0.5231      1.3077      0.0000   \n",
       "min        0.0000     10.0000      0.0000     -1.0000      0.0000      0.0000   \n",
       "25%        4.0000 203770.0000 130630.5000      0.0000      2.5000      0.0000   \n",
       "50%       15.3000 252490.0000 260874.0000      0.6124      4.0310      0.0000   \n",
       "75%       59.6000 346110.0000 391979.5000      0.8720      4.6800      0.0000   \n",
       "max    28164.0000 773900.0000 540338.0000      1.0000      5.0000      0.0000   \n",
       "\n",
       "           maximo   hr_factor  \n",
       "count 779307.0000 779307.0000  \n",
       "mean     272.5729     -0.2759  \n",
       "std      443.5505      0.6565  \n",
       "min        0.0000     -1.0000  \n",
       "25%       25.2500     -0.8406  \n",
       "50%       77.0000     -0.4747  \n",
       "75%      320.6600      0.1291  \n",
       "max     7290.4400      1.0000  "
      ]
     },
     "execution_count": 403,
     "metadata": {},
     "output_type": "execute_result"
    }
   ],
   "source": [
    "# Verificamos que 'hr_factor' esté entre -1 y 1\n",
    "df_reviews.describe()"
   ]
  },
  {
   "cell_type": "code",
   "execution_count": 404,
   "metadata": {},
   "outputs": [
    {
     "data": {
      "text/html": [
       "<pre>✔️ 610 ms (2021-10-02T20:16:26/2021-10-02T20:16:26)</pre>"
      ],
      "text/plain": [
       "<IPython.core.display.HTML object>"
      ]
     },
     "metadata": {},
     "output_type": "display_data"
    },
    {
     "data": {
      "image/png": "[encoded data removed]",
      "text/plain": [
       "<Figure size 504x144 with 1 Axes>"
      ]
     },
     "metadata": {},
     "output_type": "display_data"
    }
   ],
   "source": [
    "# Veamos la distribución de la variable\n",
    "plt.figure(figsize=(7,2))\n",
    "sns.histplot(data=df_reviews, x='hr_factor')\n",
    "plt.ylabel('Cantidad de reviews')\n",
    "plt.xlabel('hr_factor')\n",
    "plt.xticks(rotation=90)\n",
    "plt.show()"
   ]
  },
  {
   "cell_type": "code",
   "execution_count": 405,
   "metadata": {},
   "outputs": [
    {
     "data": {
      "text/html": [
       "<pre>✔️ 0 ns (2021-10-02T20:16:30/2021-10-02T20:16:30)</pre>"
      ],
      "text/plain": [
       "<IPython.core.display.HTML object>"
      ]
     },
     "metadata": {},
     "output_type": "display_data"
    }
   ],
   "source": [
    "# ratings = []\n",
    "# for n in tqdm(np.arange(df_reviews.shape[0])):\n",
    "#     if df_reviews.iloc[n].polarity == 0:\n",
    "#         rating = df_reviews.iloc[n].polarity + df_reviews.iloc[n].hr_factor\n",
    "#     else:\n",
    "#         rating = df_reviews.iloc[n].polarity\n",
    "#     ratings.append(rating)\n",
    "\n",
    "# df_reviews['hr_rating'] = ratings"
   ]
  },
  {
   "cell_type": "code",
   "execution_count": 119,
   "metadata": {},
   "outputs": [
    {
     "data": {
      "text/html": [
       "<pre>✔️ 0 ns (2021-09-28T23:55:56/2021-09-28T23:55:56)</pre>"
      ],
      "text/plain": [
       "<IPython.core.display.HTML object>"
      ]
     },
     "metadata": {},
     "output_type": "display_data"
    }
   ],
   "source": [
    "# df_reviews['hr_rating'] = df_reviews['rating'] + df_reviews['hr_factor']"
   ]
  },
  {
   "cell_type": "code",
   "execution_count": 406,
   "metadata": {},
   "outputs": [
    {
     "data": {
      "text/html": [
       "<pre>✔️ 16 ms (2021-10-02T20:16:43/2021-10-02T20:16:43)</pre>"
      ],
      "text/plain": [
       "<IPython.core.display.HTML object>"
      ]
     },
     "metadata": {},
     "output_type": "display_data"
    }
   ],
   "source": [
    "df_reviews['hr_rating'] = df_reviews['polarity'] + df_reviews['hr_factor']"
   ]
  },
  {
   "cell_type": "code",
   "execution_count": 408,
   "metadata": {
    "scrolled": true
   },
   "outputs": [
    {
     "data": {
      "text/html": [
       "<pre>✔️ 843 ms (2021-10-02T20:17:20/2021-10-02T20:17:21)</pre>"
      ],
      "text/plain": [
       "<IPython.core.display.HTML object>"
      ]
     },
     "metadata": {},
     "output_type": "display_data"
    },
    {
     "data": {
      "image/png": "[encoded data removed]",
      "text/plain": [
       "<Figure size 576x288 with 1 Axes>"
      ]
     },
     "metadata": {},
     "output_type": "display_data"
    }
   ],
   "source": [
    "# Creamos la columna 'hr_rating' como la suma del 'rating' y 'hr_factor' \n",
    "\n",
    "# Y normalizamos entre 0 y 5\n",
    "df_reviews['hr_rating'] = scaler.fit_transform(df_reviews[['hr_rating']])\n",
    "\n",
    "# Finalmente observamos la distribucion\n",
    "plt.figure(figsize=(8,4))\n",
    "sns.histplot(data=df_reviews, x='rating', color='green', label='rating original', bins=50)\n",
    "sns.histplot(data=df_reviews, x='hr_rating', color='orange', label='rating con factor de horas', bins=50)\n",
    "plt.title('Histograma de Rating por review')\n",
    "plt.legend()\n",
    "plt.ylabel('Cantidad de reviews')\n",
    "plt.xlabel('Rating')\n",
    "plt.xticks(rotation=0)\n",
    "plt.show()"
   ]
  },
  {
   "cell_type": "markdown",
   "metadata": {},
   "source": [
    "Como podemos observar, la nueva variable Rating está mucho más balanceada que la original."
   ]
  },
  {
   "cell_type": "code",
   "execution_count": 409,
   "metadata": {
    "scrolled": false
   },
   "outputs": [
    {
     "data": {
      "text/html": [
       "<pre>✔️ 141 ms (2021-10-02T20:18:30/2021-10-02T20:18:30)</pre>"
      ],
      "text/plain": [
       "<IPython.core.display.HTML object>"
      ]
     },
     "metadata": {},
     "output_type": "display_data"
    },
    {
     "data": {
      "text/html": [
       "<div>\n",
       "<style scoped>\n",
       "    .dataframe tbody tr th:only-of-type {\n",
       "        vertical-align: middle;\n",
       "    }\n",
       "\n",
       "    .dataframe tbody tr th {\n",
       "        vertical-align: top;\n",
       "    }\n",
       "\n",
       "    .dataframe thead th {\n",
       "        text-align: right;\n",
       "    }\n",
       "</style>\n",
       "<table border=\"1\" class=\"dataframe\">\n",
       "  <thead>\n",
       "    <tr style=\"text-align: right;\">\n",
       "      <th></th>\n",
       "      <th>product_id</th>\n",
       "      <th>count</th>\n",
       "      <th>rating_mean</th>\n",
       "      <th>hr_rating_mean</th>\n",
       "    </tr>\n",
       "  </thead>\n",
       "  <tbody>\n",
       "    <tr>\n",
       "      <th>0</th>\n",
       "      <td>430930</td>\n",
       "      <td>1</td>\n",
       "      <td>4.9990</td>\n",
       "      <td>4.9995</td>\n",
       "    </tr>\n",
       "    <tr>\n",
       "      <th>1</th>\n",
       "      <td>486810</td>\n",
       "      <td>1</td>\n",
       "      <td>4.9985</td>\n",
       "      <td>4.9992</td>\n",
       "    </tr>\n",
       "    <tr>\n",
       "      <th>2</th>\n",
       "      <td>410370</td>\n",
       "      <td>1</td>\n",
       "      <td>4.9983</td>\n",
       "      <td>4.9991</td>\n",
       "    </tr>\n",
       "    <tr>\n",
       "      <th>3</th>\n",
       "      <td>551520</td>\n",
       "      <td>1</td>\n",
       "      <td>4.9977</td>\n",
       "      <td>4.9989</td>\n",
       "    </tr>\n",
       "    <tr>\n",
       "      <th>4</th>\n",
       "      <td>505070</td>\n",
       "      <td>1</td>\n",
       "      <td>4.9975</td>\n",
       "      <td>4.9987</td>\n",
       "    </tr>\n",
       "    <tr>\n",
       "      <th>...</th>\n",
       "      <td>...</td>\n",
       "      <td>...</td>\n",
       "      <td>...</td>\n",
       "      <td>...</td>\n",
       "    </tr>\n",
       "    <tr>\n",
       "      <th>12660</th>\n",
       "      <td>515690</td>\n",
       "      <td>4</td>\n",
       "      <td>1.3934</td>\n",
       "      <td>1.4120</td>\n",
       "    </tr>\n",
       "    <tr>\n",
       "      <th>12661</th>\n",
       "      <td>426560</td>\n",
       "      <td>7</td>\n",
       "      <td>2.0102</td>\n",
       "      <td>1.3931</td>\n",
       "    </tr>\n",
       "    <tr>\n",
       "      <th>12662</th>\n",
       "      <td>411310</td>\n",
       "      <td>3</td>\n",
       "      <td>0.6216</td>\n",
       "      <td>1.3467</td>\n",
       "    </tr>\n",
       "    <tr>\n",
       "      <th>12663</th>\n",
       "      <td>537090</td>\n",
       "      <td>3</td>\n",
       "      <td>0.5393</td>\n",
       "      <td>1.2821</td>\n",
       "    </tr>\n",
       "    <tr>\n",
       "      <th>12664</th>\n",
       "      <td>37010</td>\n",
       "      <td>4</td>\n",
       "      <td>0.5974</td>\n",
       "      <td>1.0284</td>\n",
       "    </tr>\n",
       "  </tbody>\n",
       "</table>\n",
       "<p>12665 rows × 4 columns</p>\n",
       "</div>"
      ],
      "text/plain": [
       "       product_id  count  rating_mean  hr_rating_mean\n",
       "0          430930      1       4.9990          4.9995\n",
       "1          486810      1       4.9985          4.9992\n",
       "2          410370      1       4.9983          4.9991\n",
       "3          551520      1       4.9977          4.9989\n",
       "4          505070      1       4.9975          4.9987\n",
       "...           ...    ...          ...             ...\n",
       "12660      515690      4       1.3934          1.4120\n",
       "12661      426560      7       2.0102          1.3931\n",
       "12662      411310      3       0.6216          1.3467\n",
       "12663      537090      3       0.5393          1.2821\n",
       "12664       37010      4       0.5974          1.0284\n",
       "\n",
       "[12665 rows x 4 columns]"
      ]
     },
     "execution_count": 409,
     "metadata": {},
     "output_type": "execute_result"
    }
   ],
   "source": [
    "# Recalculamos el 'rating' promedio por juego \n",
    "df_ratings = df_reviews.groupby('product_id').agg({'rating':['count','mean'], 'hr_rating':['mean']}).reset_index()\n",
    "df_ratings.columns = ['product_id', 'count', 'rating_mean', 'hr_rating_mean']\n",
    "df_ratings.sort_values(by='hr_rating_mean', ascending=False, inplace=True)\n",
    "df_ratings.reset_index(inplace=True, drop=True)\n",
    "\n",
    "df_ratings"
   ]
  },
  {
   "cell_type": "code",
   "execution_count": 410,
   "metadata": {},
   "outputs": [
    {
     "data": {
      "text/html": [
       "<pre>✔️ 610 ms (2021-10-02T20:18:46/2021-10-02T20:18:46)</pre>"
      ],
      "text/plain": [
       "<IPython.core.display.HTML object>"
      ]
     },
     "metadata": {},
     "output_type": "display_data"
    },
    {
     "data": {
      "image/png": "[encoded data removed]",
      "text/plain": [
       "<Figure size 504x216 with 1 Axes>"
      ]
     },
     "metadata": {},
     "output_type": "display_data"
    }
   ],
   "source": [
    "# Ahora vamos a graficar la comparacion entre las distribuciones\n",
    "# de 'ratings' y 'hr_ratings'\n",
    "df_filter = df_ratings[df_ratings['count'] >= 1]\n",
    "\n",
    "plt.figure(figsize=(7,3))\n",
    "sns.histplot(data=df_filter, x='rating_mean', color='green', label='rating original')\n",
    "sns.histplot(data=df_filter, x='hr_rating_mean', color='orange', label='rating con factor de horas')\n",
    "plt.title('Histograma de Rating promedio por juego')\n",
    "plt.legend()\n",
    "plt.ylabel('Cantidad de juegos')\n",
    "plt.xlabel('Rating')\n",
    "plt.xlim(0,5)\n",
    "plt.xticks(rotation=0)\n",
    "plt.show()"
   ]
  },
  {
   "cell_type": "markdown",
   "metadata": {},
   "source": [
    "#### Dataset y Train/Test Split"
   ]
  },
  {
   "cell_type": "code",
   "execution_count": 416,
   "metadata": {},
   "outputs": [
    {
     "data": {
      "text/html": [
       "<pre>✔️ 188 ms (2021-10-02T20:21:16/2021-10-02T20:21:17)</pre>"
      ],
      "text/plain": [
       "<IPython.core.display.HTML object>"
      ]
     },
     "metadata": {},
     "output_type": "display_data"
    },
    {
     "data": {
      "text/plain": [
       "(779307, 13)"
      ]
     },
     "execution_count": 416,
     "metadata": {},
     "output_type": "execute_result"
    }
   ],
   "source": [
    "df_filter_reviews = df_reviews[df_reviews.product_id.isin(df_filter.product_id)]\n",
    "df_filter_reviews.shape"
   ]
  },
  {
   "cell_type": "code",
   "execution_count": 417,
   "metadata": {},
   "outputs": [
    {
     "data": {
      "text/html": [
       "<pre>✔️ 2.91 s (2021-10-02T20:21:28/2021-10-02T20:21:31)</pre>"
      ],
      "text/plain": [
       "<IPython.core.display.HTML object>"
      ]
     },
     "metadata": {},
     "output_type": "display_data"
    }
   ],
   "source": [
    "reader = Reader()\n",
    "data = Dataset.load_from_df(df_reviews[['user_id', 'product_id', 'hr_rating']], reader)\n",
    "# data = Dataset.load_from_df(df_filter_reviews[['user_id', 'product_id', 'random']], reader)\n",
    "trainset, testset = train_test_split(data, random_state=42, test_size=.3)"
   ]
  },
  {
   "cell_type": "markdown",
   "metadata": {},
   "source": [
    "#### Entrenamiento"
   ]
  },
  {
   "cell_type": "code",
   "execution_count": 418,
   "metadata": {},
   "outputs": [
    {
     "data": {
      "text/html": [
       "<pre>✔️ 0 ns (2021-10-02T20:21:33/2021-10-02T20:21:33)</pre>"
      ],
      "text/plain": [
       "<IPython.core.display.HTML object>"
      ]
     },
     "metadata": {},
     "output_type": "display_data"
    }
   ],
   "source": [
    "from surprise import SVD, SVDpp, SlopeOne, BaselineOnly\n",
    "algo = SVD()"
   ]
  },
  {
   "cell_type": "code",
   "execution_count": 419,
   "metadata": {},
   "outputs": [
    {
     "data": {
      "text/html": [
       "<pre>✔️ 43.6 s (2021-10-02T20:21:34/2021-10-02T20:22:18)</pre>"
      ],
      "text/plain": [
       "<IPython.core.display.HTML object>"
      ]
     },
     "metadata": {},
     "output_type": "display_data"
    },
    {
     "data": {
      "text/plain": [
       "<surprise.prediction_algorithms.matrix_factorization.SVD at 0x1ee993ad820>"
      ]
     },
     "execution_count": 419,
     "metadata": {},
     "output_type": "execute_result"
    }
   ],
   "source": [
    "algo.fit(trainset)"
   ]
  },
  {
   "cell_type": "code",
   "execution_count": 420,
   "metadata": {},
   "outputs": [
    {
     "data": {
      "text/html": [
       "<pre>✔️ 3.23 s (2021-10-02T20:22:18/2021-10-02T20:22:21)</pre>"
      ],
      "text/plain": [
       "<IPython.core.display.HTML object>"
      ]
     },
     "metadata": {},
     "output_type": "display_data"
    }
   ],
   "source": [
    "predictions = algo.test(testset)"
   ]
  },
  {
   "cell_type": "code",
   "execution_count": 421,
   "metadata": {},
   "outputs": [
    {
     "data": {
      "text/html": [
       "<pre>✔️ 547 ms (2021-10-02T20:22:22/2021-10-02T20:22:22)</pre>"
      ],
      "text/plain": [
       "<IPython.core.display.HTML object>"
      ]
     },
     "metadata": {},
     "output_type": "display_data"
    },
    {
     "name": "stdout",
     "output_type": "stream",
     "text": [
      "MAE:  0.8391\n",
      "RMSE: 1.0693\n"
     ]
    },
    {
     "data": {
      "text/plain": [
       "1.069326601354949"
      ]
     },
     "execution_count": 421,
     "metadata": {},
     "output_type": "execute_result"
    }
   ],
   "source": [
    "accuracy.mae(predictions)\n",
    "accuracy.rmse(predictions)"
   ]
  },
  {
   "cell_type": "markdown",
   "metadata": {},
   "source": [
    "##### Optimizacion con Grid Search"
   ]
  },
  {
   "cell_type": "markdown",
   "metadata": {},
   "source": [
    "#### Dataset y Train/Test Split"
   ]
  },
  {
   "cell_type": "code",
   "execution_count": 422,
   "metadata": {
    "scrolled": false
   },
   "outputs": [
    {
     "data": {
      "text/html": [
       "<pre>✔️ 3.02 s (2021-10-02T20:22:51/2021-10-02T20:22:54)</pre>"
      ],
      "text/plain": [
       "<IPython.core.display.HTML object>"
      ]
     },
     "metadata": {},
     "output_type": "display_data"
    }
   ],
   "source": [
    "reader = Reader()\n",
    "data = Dataset.load_from_df(df_reviews[['user_id', 'product_id', 'hr_rating']], reader)\n",
    "trainset, testset = train_test_split(data, random_state=42, test_size=.2)"
   ]
  },
  {
   "cell_type": "code",
   "execution_count": 423,
   "metadata": {
    "scrolled": true
   },
   "outputs": [
    {
     "data": {
      "text/html": [
       "<pre>✔️ 4 min 29 s (2021-10-02T20:22:56/2021-10-02T20:27:26)</pre>"
      ],
      "text/plain": [
       "<IPython.core.display.HTML object>"
      ]
     },
     "metadata": {},
     "output_type": "display_data"
    },
    {
     "name": "stderr",
     "output_type": "stream",
     "text": [
      "[Parallel(n_jobs=-1)]: Using backend LokyBackend with 8 concurrent workers.\n",
      "[Parallel(n_jobs=-1)]: Done   2 tasks      | elapsed:   56.6s\n",
      "[Parallel(n_jobs=-1)]: Done   9 tasks      | elapsed:  1.4min\n",
      "[Parallel(n_jobs=-1)]: Done  19 out of  30 | elapsed:  3.0min remaining:  1.7min\n",
      "[Parallel(n_jobs=-1)]: Done  23 out of  30 | elapsed:  3.6min remaining:  1.1min\n",
      "[Parallel(n_jobs=-1)]: Done  27 out of  30 | elapsed:  4.2min remaining:   27.8s\n",
      "[Parallel(n_jobs=-1)]: Done  30 out of  30 | elapsed:  4.4min finished\n"
     ]
    }
   ],
   "source": [
    "param_grid = {'n_factors': [5,50,100,150],\n",
    "              'n_epochs': [5,10,20],\n",
    "              'lr_all': [0.001,0.002,0.005],\n",
    "              'reg_all': [0.002,0.02,0.2]}\n",
    "\n",
    "gs = RandomizedSearchCV(SVD,\n",
    "                  param_grid,\n",
    "                  measures=['rmse'],\n",
    "                  cv=3,\n",
    "                  n_jobs = -1,\n",
    "                  joblib_verbose =10)\n",
    "\n",
    "gs.fit(data)"
   ]
  },
  {
   "cell_type": "code",
   "execution_count": 424,
   "metadata": {},
   "outputs": [
    {
     "data": {
      "text/html": [
       "<pre>✔️ 0 ns (2021-10-02T20:27:26/2021-10-02T20:27:26)</pre>"
      ],
      "text/plain": [
       "<IPython.core.display.HTML object>"
      ]
     },
     "metadata": {},
     "output_type": "display_data"
    },
    {
     "name": "stdout",
     "output_type": "stream",
     "text": [
      "1.0680533684897389\n",
      "{'n_factors': 100, 'n_epochs': 10, 'lr_all': 0.005, 'reg_all': 0.2}\n"
     ]
    }
   ],
   "source": [
    "print(gs.best_score['rmse'])\n",
    "print(gs.best_params['rmse'])"
   ]
  },
  {
   "cell_type": "code",
   "execution_count": null,
   "metadata": {},
   "outputs": [],
   "source": []
  }
 ],
 "metadata": {
  "celltoolbar": "Attachments",
  "colab": {
   "collapsed_sections": [],
   "name": "Copy of DS_Proyecto_03_SR.ipynb",
   "provenance": [
    {
     "file_id": "1byeX_htRp3NqV08X3eLlWIp02cnPb_WP",
     "timestamp": 1627943542515
    }
   ]
  },
  "kernelspec": {
   "display_name": "Python 3",
   "language": "python",
   "name": "python3"
  },
  "language_info": {
   "codemirror_mode": {
    "name": "ipython",
    "version": 3
   },
   "file_extension": ".py",
   "mimetype": "text/x-python",
   "name": "python",
   "nbconvert_exporter": "python",
   "pygments_lexer": "ipython3",
   "version": "3.9.2"
  },
  "toc-autonumbering": false,
  "toc-showcode": false,
  "toc-showmarkdowntxt": false,
  "toc-showtags": false
 },
 "nbformat": 4,
 "nbformat_minor": 4
}
