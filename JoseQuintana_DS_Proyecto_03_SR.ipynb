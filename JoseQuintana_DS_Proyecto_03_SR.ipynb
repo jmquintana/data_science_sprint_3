{
 "cells": [
  {
   "cell_type": "markdown",
   "metadata": {
    "id": "gzJLet17WTzh"
   },
   "source": [
    "# Proyecto 03 - Sistemas de Recomendación\n",
    "\n",
    "## Dataset: STEAM\n",
    "\n",
    "**Recuerda descargar el dataset de [aquí](https://github.com/kang205/SASRec). Son dos archivos, uno de calificaciones y otro de información sobre los juegos.**\n",
    "\n",
    "En este notebook te dejamos unas celdas para que puedas comenzar a trabajar con este dataset. Sin embargo, **deberás** modificarlas para hacer un mejor manejo de datos. Algunas cosas a las que deberás prestar atención (tal vez no a todas):\n",
    "1. Tipos de datos: elige tipos de datos apropiados para cada columna.\n",
    "2. Descartar columnas poco informativas.\n",
    "3. Guardar en memoria datasets preprocesados para no tener que repetir código que tarde en correr.\n",
    "\n",
    "### Exploración de datos\n",
    "\n",
    "Dedícale un buen tiempo a hacer un Análisis Exploratorio de Datos. Elige preguntas que creas que puedas responder con este dataset. Por ejemplo, ¿cuáles son los juegos más populares?¿Y los menos populares?\n",
    "\n",
    "### Filtro Colaborativo\n",
    "\n",
    "Deberás implementar un sistema de recomendación colaborativo para este dataset. Ten en cuenta:\n",
    "\n",
    "1. Haz todas las transformaciones de datos que consideres necesarias. Justifica.\n",
    "1. Evalúa de forma apropiada sus resultados. Justifica la métrica elegida.\n",
    "1. Elige un modelo benchmark y compara tus resultados con este modelo.\n",
    "1. Optimiza los hiperparámetros de tu modelo.\n",
    "\n",
    "Puedes implementar un filtro colaborativo a partir de la similitud coseno o índice de Jaccard. ¿Puedes utilizar los métodos de la librería Surprise? Si no es así, busca implementaciones (por ejemplo, nuevas librerías) que sean apropiadas.\n",
    "\n",
    "Para comenzar a trabajar, puedes asumir que cada entrada es un enlace entre una persona usuaria y un item, **independientemente** de si la crítica es buena o mala. \n",
    "\n",
    "### Para pensar, investigar y, opcionalmente, implementar\n",
    "1. ¿Cómo harías para ponerle un valor a la calificación?\n",
    "1. ¿Cómo harías para agregar contenido? Por ejemplo, cuentas con el género, precio, fecha de lanzamiento y más información de los juegos.\n",
    "1. ¿Hay algo que te gustaría investigar o probar?\n",
    "\n",
    "### **¡Tómate tiempo para investigar y leer mucho!**"
   ]
  },
  {
   "cell_type": "markdown",
   "metadata": {},
   "source": [
    "## Preprocesamiento"
   ]
  },
  {
   "cell_type": "markdown",
   "metadata": {},
   "source": [
    "### Importamos las librerías"
   ]
  },
  {
   "cell_type": "code",
   "execution_count": 1,
   "metadata": {},
   "outputs": [],
   "source": [
    "# Importamos las librerías que vamos a necesitar\n",
    "import numpy as np\n",
    "import pandas as pd\n",
    "import matplotlib.pyplot as plt\n",
    "import matplotlib.ticker as ticker\n",
    "import seaborn as sns\n",
    "from tqdm.notebook import tqdm\n",
    "import gzip\n",
    "import re\n",
    "import nltk\n",
    "from sklearn.preprocessing import MinMaxScaler\n",
    "from nltk.tokenize import RegexpTokenizer\n",
    "from nltk.stem import PorterStemmer\n",
    "from nltk.corpus import stopwords\n",
    "from nltk.corpus import wordnet\n",
    "from nltk.sentiment import SentimentIntensityAnalyzer\n",
    "from nltk.stem import WordNetLemmatizer\n",
    "from surprise import Dataset\n",
    "from surprise import Reader\n",
    "from surprise.model_selection import train_test_split\n",
    "from surprise import accuracy\n",
    "from surprise.model_selection import GridSearchCV\n",
    "from surprise.model_selection import RandomizedSearchCV"
   ]
  },
  {
   "cell_type": "markdown",
   "metadata": {},
   "source": [
    "### Configuraciones"
   ]
  },
  {
   "cell_type": "code",
   "execution_count": 2,
   "metadata": {},
   "outputs": [],
   "source": [
    "# Le doy formato a los gráficos\n",
    "# sns.set_style(\"darkgrid\")\n",
    "sns.set_style(\"white\")\n",
    "plt.rc('font', size=10)\n",
    "plt.rc('legend', fontsize=12)\n",
    "plt.rc('axes', titlesize=16)\n",
    "plt.rc('figure', titlesize=16)\n",
    "plt.rc('axes', labelsize=14) \n",
    "plt.rc('xtick', labelsize=12) \n",
    "plt.rc('ytick', labelsize=12) "
   ]
  },
  {
   "cell_type": "code",
   "execution_count": 3,
   "metadata": {},
   "outputs": [
    {
     "data": {
      "text/html": [
       "<style>.container { width:100% !important; }</style>"
      ],
      "text/plain": [
       "<IPython.core.display.HTML object>"
      ]
     },
     "metadata": {},
     "output_type": "display_data"
    },
    {
     "data": {
      "text/html": [
       "<pre>✔️ 0 ns (2021-09-27T21:36:45/2021-09-27T21:36:45)</pre>"
      ],
      "text/plain": [
       "<IPython.core.display.HTML object>"
      ]
     },
     "metadata": {},
     "output_type": "display_data"
    }
   ],
   "source": [
    "#Seteamos para que no utilice notacion cientifica\n",
    "pd.options.display.float_format = '{:.4f}'.format\n",
    "#Seteo para que el máximo de columnas que muestra al levantar una base sean 500\n",
    "pd.set_option('display.max_columns',500)\n",
    "#Estos códigos hacen que la visualización de la consola abarque toda la pantalla (sin los recortes a los costados). Tambien hacen que al mostrar dataframes podamos ver todas las columnas que tiene.\n",
    "from IPython.core.display import display, HTML\n",
    "display(HTML(\"<style>.container { width:100% !important; }</style>\"))\n",
    "# Instanciamos método para ver el progreso de las operaciones sobre sobre los dataframes\n",
    "tqdm.pandas()\n",
    "# Indicador de tiempo de ejecución\n",
    "%load_ext autotime"
   ]
  },
  {
   "cell_type": "code",
   "execution_count": 4,
   "metadata": {},
   "outputs": [
    {
     "data": {
      "text/html": [
       "<pre>✔️ 0 ns (2021-09-27T21:36:45/2021-09-27T21:36:45)</pre>"
      ],
      "text/plain": [
       "<IPython.core.display.HTML object>"
      ]
     },
     "metadata": {},
     "output_type": "display_data"
    }
   ],
   "source": [
    "# Las siguientes lineas permiten habilitar o deshabilitar ciertas operaciones\n",
    "# procesamiento de datos para ahorrar tiempo de procesamiento.\n",
    "READ_RAW = True\n",
    "PROCESS_TEXT = True\n",
    "POLARITY = True"
   ]
  },
  {
   "cell_type": "markdown",
   "metadata": {},
   "source": [
    "### Carga y limpieza inicial de datos"
   ]
  },
  {
   "cell_type": "markdown",
   "metadata": {},
   "source": [
    "### Carga y limpieza inicial de datos"
   ]
  },
  {
   "cell_type": "code",
   "execution_count": 5,
   "metadata": {
    "id": "lWZhtUxEWTzj"
   },
   "outputs": [
    {
     "data": {
      "text/html": [
       "<pre>✔️ 0 ns (2021-09-27T21:36:45/2021-09-27T21:36:45)</pre>"
      ],
      "text/plain": [
       "<IPython.core.display.HTML object>"
      ]
     },
     "metadata": {},
     "output_type": "display_data"
    }
   ],
   "source": [
    "def parse(path):\n",
    "    g = gzip.open(path, 'r')\n",
    "    for l in g:\n",
    "        yield eval(l)"
   ]
  },
  {
   "cell_type": "markdown",
   "metadata": {
    "id": "BmEM25k4WTzw"
   },
   "source": [
    "Dataset de **Reviews**"
   ]
  },
  {
   "cell_type": "code",
   "execution_count": 6,
   "metadata": {
    "id": "abAXItn1WTz0"
   },
   "outputs": [
    {
     "data": {
      "text/html": [
       "<pre>✔️ 7 min 53 s (2021-09-27T21:36:45/2021-09-27T21:44:39)</pre>"
      ],
      "text/plain": [
       "<IPython.core.display.HTML object>"
      ]
     },
     "metadata": {},
     "output_type": "display_data"
    },
    {
     "data": {
      "application/vnd.jupyter.widget-view+json": {
       "model_id": "aa67e20c7ee34af8a97e75274e40f4c7",
       "version_major": 2,
       "version_minor": 0
      },
      "text/plain": [
       "0it [00:00, ?it/s]"
      ]
     },
     "metadata": {},
     "output_type": "display_data"
    }
   ],
   "source": [
    "# Atencion: la carga de los datos tarda alrededor de 5 minutos 30 segundos\n",
    "if READ_RAW:\n",
    "    contador = 0\n",
    "    data_reviews = []\n",
    "    # Vamos a guardar una de cada 10 reviews para no llenar la memoria RAM. Si pones n = 3, \n",
    "    # abrira uno de cada tres, y asi.\n",
    "    n = 10\n",
    "    for l in tqdm(parse('steam_reviews.json.gz')):\n",
    "        if contador%n == 0:\n",
    "            data_reviews.append(l)\n",
    "        else:\n",
    "            pass\n",
    "        contador += 1\n",
    "    data_reviews = pd.DataFrame(data_reviews)"
   ]
  },
  {
   "cell_type": "code",
   "execution_count": 7,
   "metadata": {},
   "outputs": [
    {
     "data": {
      "text/html": [
       "<pre>✔️ 13 s (2021-09-27T21:44:39/2021-09-27T21:44:52)</pre>"
      ],
      "text/plain": [
       "<IPython.core.display.HTML object>"
      ]
     },
     "metadata": {},
     "output_type": "display_data"
    }
   ],
   "source": [
    "if READ_RAW:\n",
    "    data_reviews.to_csv('data_reviews.csv', index_label='index')\n",
    "else:\n",
    "    data_reviews = pd.read_csv('data_reviews.csv')\n",
    "    data_reviews.drop(columns='index', inplace=True)"
   ]
  },
  {
   "cell_type": "code",
   "execution_count": 8,
   "metadata": {
    "id": "j24F0ZaYWT0E"
   },
   "outputs": [
    {
     "data": {
      "text/html": [
       "<pre>✔️ 109 ms (2021-09-27T21:44:52/2021-09-27T21:44:52)</pre>"
      ],
      "text/plain": [
       "<IPython.core.display.HTML object>"
      ]
     },
     "metadata": {},
     "output_type": "display_data"
    },
    {
     "data": {
      "text/html": [
       "<div>\n",
       "<style scoped>\n",
       "    .dataframe tbody tr th:only-of-type {\n",
       "        vertical-align: middle;\n",
       "    }\n",
       "\n",
       "    .dataframe tbody tr th {\n",
       "        vertical-align: top;\n",
       "    }\n",
       "\n",
       "    .dataframe thead th {\n",
       "        text-align: right;\n",
       "    }\n",
       "</style>\n",
       "<table border=\"1\" class=\"dataframe\">\n",
       "  <thead>\n",
       "    <tr style=\"text-align: right;\">\n",
       "      <th></th>\n",
       "      <th>username</th>\n",
       "      <th>hours</th>\n",
       "      <th>products</th>\n",
       "      <th>product_id</th>\n",
       "      <th>page_order</th>\n",
       "      <th>date</th>\n",
       "      <th>text</th>\n",
       "      <th>early_access</th>\n",
       "      <th>page</th>\n",
       "      <th>user_id</th>\n",
       "      <th>compensation</th>\n",
       "      <th>found_funny</th>\n",
       "    </tr>\n",
       "  </thead>\n",
       "  <tbody>\n",
       "    <tr>\n",
       "      <th>0</th>\n",
       "      <td>Chaos Syren</td>\n",
       "      <td>0.1000</td>\n",
       "      <td>41.0000</td>\n",
       "      <td>725280</td>\n",
       "      <td>0</td>\n",
       "      <td>2017-12-17</td>\n",
       "      <td>This would not be acceptable as an entertainme...</td>\n",
       "      <td>False</td>\n",
       "      <td>1</td>\n",
       "      <td>NaN</td>\n",
       "      <td>NaN</td>\n",
       "      <td>NaN</td>\n",
       "    </tr>\n",
       "    <tr>\n",
       "      <th>1</th>\n",
       "      <td>Ariman1</td>\n",
       "      <td>13.2000</td>\n",
       "      <td>1386.0000</td>\n",
       "      <td>328100</td>\n",
       "      <td>2</td>\n",
       "      <td>2017-08-02</td>\n",
       "      <td>Addictive RPG ! Works fine on linux though it ...</td>\n",
       "      <td>False</td>\n",
       "      <td>1</td>\n",
       "      <td>NaN</td>\n",
       "      <td>NaN</td>\n",
       "      <td>NaN</td>\n",
       "    </tr>\n",
       "    <tr>\n",
       "      <th>2</th>\n",
       "      <td>freakfantom</td>\n",
       "      <td>0.1000</td>\n",
       "      <td>1706.0000</td>\n",
       "      <td>725280</td>\n",
       "      <td>5</td>\n",
       "      <td>2017-11-12</td>\n",
       "      <td>Прикольная стрелялка. Взял дешево на распродаже.</td>\n",
       "      <td>False</td>\n",
       "      <td>1</td>\n",
       "      <td>NaN</td>\n",
       "      <td>NaN</td>\n",
       "      <td>NaN</td>\n",
       "    </tr>\n",
       "    <tr>\n",
       "      <th>3</th>\n",
       "      <td>The_Cpt_FROGGY</td>\n",
       "      <td>7.8000</td>\n",
       "      <td>2217.0000</td>\n",
       "      <td>631920</td>\n",
       "      <td>0</td>\n",
       "      <td>2017-12-11</td>\n",
       "      <td>Somewhere on Zibylon:\\n~~~~~~~~~~~~~~~~~~\\nZib...</td>\n",
       "      <td>False</td>\n",
       "      <td>1</td>\n",
       "      <td>76561198003030375</td>\n",
       "      <td>Product received for free</td>\n",
       "      <td>NaN</td>\n",
       "    </tr>\n",
       "    <tr>\n",
       "      <th>4</th>\n",
       "      <td>the_maker988</td>\n",
       "      <td>8.2000</td>\n",
       "      <td>18.0000</td>\n",
       "      <td>35140</td>\n",
       "      <td>7</td>\n",
       "      <td>2018-01-02</td>\n",
       "      <td>This game was way to linear for me, and compar...</td>\n",
       "      <td>False</td>\n",
       "      <td>1</td>\n",
       "      <td>76561198353396844</td>\n",
       "      <td>NaN</td>\n",
       "      <td>NaN</td>\n",
       "    </tr>\n",
       "  </tbody>\n",
       "</table>\n",
       "</div>"
      ],
      "text/plain": [
       "         username   hours  products product_id  page_order        date  \\\n",
       "0     Chaos Syren  0.1000   41.0000     725280           0  2017-12-17   \n",
       "1         Ariman1 13.2000 1386.0000     328100           2  2017-08-02   \n",
       "2     freakfantom  0.1000 1706.0000     725280           5  2017-11-12   \n",
       "3  The_Cpt_FROGGY  7.8000 2217.0000     631920           0  2017-12-11   \n",
       "4    the_maker988  8.2000   18.0000      35140           7  2018-01-02   \n",
       "\n",
       "                                                text  early_access  page  \\\n",
       "0  This would not be acceptable as an entertainme...         False     1   \n",
       "1  Addictive RPG ! Works fine on linux though it ...         False     1   \n",
       "2   Прикольная стрелялка. Взял дешево на распродаже.         False     1   \n",
       "3  Somewhere on Zibylon:\\n~~~~~~~~~~~~~~~~~~\\nZib...         False     1   \n",
       "4  This game was way to linear for me, and compar...         False     1   \n",
       "\n",
       "             user_id               compensation  found_funny  \n",
       "0                NaN                        NaN          NaN  \n",
       "1                NaN                        NaN          NaN  \n",
       "2                NaN                        NaN          NaN  \n",
       "3  76561198003030375  Product received for free          NaN  \n",
       "4  76561198353396844                        NaN          NaN  "
      ]
     },
     "execution_count": 8,
     "metadata": {},
     "output_type": "execute_result"
    }
   ],
   "source": [
    "# Previsualizamos las primeras 5 instancias del dataset\n",
    "data_reviews.head()"
   ]
  },
  {
   "cell_type": "code",
   "execution_count": 9,
   "metadata": {},
   "outputs": [
    {
     "data": {
      "text/html": [
       "<pre>✔️ 141 ms (2021-09-27T21:44:52/2021-09-27T21:44:52)</pre>"
      ],
      "text/plain": [
       "<IPython.core.display.HTML object>"
      ]
     },
     "metadata": {},
     "output_type": "display_data"
    },
    {
     "data": {
      "text/html": [
       "<div>\n",
       "<style scoped>\n",
       "    .dataframe tbody tr th:only-of-type {\n",
       "        vertical-align: middle;\n",
       "    }\n",
       "\n",
       "    .dataframe tbody tr th {\n",
       "        vertical-align: top;\n",
       "    }\n",
       "\n",
       "    .dataframe thead th {\n",
       "        text-align: right;\n",
       "    }\n",
       "</style>\n",
       "<table border=\"1\" class=\"dataframe\">\n",
       "  <thead>\n",
       "    <tr style=\"text-align: right;\">\n",
       "      <th></th>\n",
       "      <th>username</th>\n",
       "      <th>hours</th>\n",
       "      <th>products</th>\n",
       "      <th>product_id</th>\n",
       "      <th>page_order</th>\n",
       "      <th>date</th>\n",
       "      <th>text</th>\n",
       "      <th>early_access</th>\n",
       "      <th>page</th>\n",
       "      <th>user_id</th>\n",
       "      <th>compensation</th>\n",
       "      <th>found_funny</th>\n",
       "    </tr>\n",
       "  </thead>\n",
       "  <tbody>\n",
       "    <tr>\n",
       "      <th>779302</th>\n",
       "      <td>Vidaar</td>\n",
       "      <td>783.5000</td>\n",
       "      <td>353.0000</td>\n",
       "      <td>252490</td>\n",
       "      <td>1</td>\n",
       "      <td>2013-12-11</td>\n",
       "      <td>Summary: Rust is a survival game created by Fa...</td>\n",
       "      <td>True</td>\n",
       "      <td>10217</td>\n",
       "      <td>NaN</td>\n",
       "      <td>NaN</td>\n",
       "      <td>NaN</td>\n",
       "    </tr>\n",
       "    <tr>\n",
       "      <th>779303</th>\n",
       "      <td>Nikolai Belinski</td>\n",
       "      <td>55.1000</td>\n",
       "      <td>204.0000</td>\n",
       "      <td>252490</td>\n",
       "      <td>1</td>\n",
       "      <td>2013-12-11</td>\n",
       "      <td>Coolest Game Eva</td>\n",
       "      <td>True</td>\n",
       "      <td>10218</td>\n",
       "      <td>NaN</td>\n",
       "      <td>NaN</td>\n",
       "      <td>NaN</td>\n",
       "    </tr>\n",
       "    <tr>\n",
       "      <th>779304</th>\n",
       "      <td>RancorZealot</td>\n",
       "      <td>203.5000</td>\n",
       "      <td>173.0000</td>\n",
       "      <td>252490</td>\n",
       "      <td>1</td>\n",
       "      <td>2013-12-11</td>\n",
       "      <td>Should you buy RUST? Uh... YES. The BEST Survi...</td>\n",
       "      <td>True</td>\n",
       "      <td>10219</td>\n",
       "      <td>76561197963920623</td>\n",
       "      <td>NaN</td>\n",
       "      <td>NaN</td>\n",
       "    </tr>\n",
       "    <tr>\n",
       "      <th>779305</th>\n",
       "      <td>Jerry</td>\n",
       "      <td>139.8000</td>\n",
       "      <td>79.0000</td>\n",
       "      <td>252490</td>\n",
       "      <td>1</td>\n",
       "      <td>2013-12-11</td>\n",
       "      <td>Great game!</td>\n",
       "      <td>True</td>\n",
       "      <td>10220</td>\n",
       "      <td>76561198042664856</td>\n",
       "      <td>NaN</td>\n",
       "      <td>NaN</td>\n",
       "    </tr>\n",
       "    <tr>\n",
       "      <th>779306</th>\n",
       "      <td>Helk</td>\n",
       "      <td>15375.0000</td>\n",
       "      <td>98.0000</td>\n",
       "      <td>252490</td>\n",
       "      <td>1</td>\n",
       "      <td>2013-12-11</td>\n",
       "      <td>I love this game!</td>\n",
       "      <td>True</td>\n",
       "      <td>10221</td>\n",
       "      <td>NaN</td>\n",
       "      <td>NaN</td>\n",
       "      <td>36.0000</td>\n",
       "    </tr>\n",
       "  </tbody>\n",
       "</table>\n",
       "</div>"
      ],
      "text/plain": [
       "                username      hours  products product_id  page_order  \\\n",
       "779302            Vidaar   783.5000  353.0000     252490           1   \n",
       "779303  Nikolai Belinski    55.1000  204.0000     252490           1   \n",
       "779304      RancorZealot   203.5000  173.0000     252490           1   \n",
       "779305             Jerry   139.8000   79.0000     252490           1   \n",
       "779306              Helk 15375.0000   98.0000     252490           1   \n",
       "\n",
       "              date                                               text  \\\n",
       "779302  2013-12-11  Summary: Rust is a survival game created by Fa...   \n",
       "779303  2013-12-11                                   Coolest Game Eva   \n",
       "779304  2013-12-11  Should you buy RUST? Uh... YES. The BEST Survi...   \n",
       "779305  2013-12-11                                        Great game!   \n",
       "779306  2013-12-11                                  I love this game!   \n",
       "\n",
       "        early_access   page            user_id compensation  found_funny  \n",
       "779302          True  10217                NaN          NaN          NaN  \n",
       "779303          True  10218                NaN          NaN          NaN  \n",
       "779304          True  10219  76561197963920623          NaN          NaN  \n",
       "779305          True  10220  76561198042664856          NaN          NaN  \n",
       "779306          True  10221                NaN          NaN      36.0000  "
      ]
     },
     "execution_count": 9,
     "metadata": {},
     "output_type": "execute_result"
    }
   ],
   "source": [
    "# Previsualizamos las ultimas 5 instancias del dataset\n",
    "data_reviews.tail()"
   ]
  },
  {
   "cell_type": "code",
   "execution_count": 10,
   "metadata": {},
   "outputs": [
    {
     "data": {
      "text/html": [
       "<pre>✔️ 359 ms (2021-09-27T21:44:53/2021-09-27T21:44:53)</pre>"
      ],
      "text/plain": [
       "<IPython.core.display.HTML object>"
      ]
     },
     "metadata": {},
     "output_type": "display_data"
    },
    {
     "name": "stdout",
     "output_type": "stream",
     "text": [
      "<class 'pandas.core.frame.DataFrame'>\n",
      "RangeIndex: 779307 entries, 0 to 779306\n",
      "Data columns (total 12 columns):\n",
      " #   Column        Non-Null Count   Dtype  \n",
      "---  ------        --------------   -----  \n",
      " 0   username      779307 non-null  object \n",
      " 1   hours         776670 non-null  float64\n",
      " 2   products      777741 non-null  float64\n",
      " 3   product_id    779307 non-null  object \n",
      " 4   page_order    779307 non-null  int64  \n",
      " 5   date          779307 non-null  object \n",
      " 6   text          779307 non-null  object \n",
      " 7   early_access  779307 non-null  bool   \n",
      " 8   page          779307 non-null  int64  \n",
      " 9   user_id       317340 non-null  object \n",
      " 10  compensation  14588 non-null   object \n",
      " 11  found_funny   120164 non-null  float64\n",
      "dtypes: bool(1), float64(3), int64(2), object(6)\n",
      "memory usage: 66.1+ MB\n"
     ]
    }
   ],
   "source": [
    "# Reviso la informacion general del dataset\n",
    "data_reviews.info()"
   ]
  },
  {
   "cell_type": "code",
   "execution_count": 11,
   "metadata": {
    "id": "8F-EVRZ4WT0L",
    "scrolled": true
   },
   "outputs": [
    {
     "data": {
      "text/html": [
       "<pre>✔️ 313 ms (2021-09-27T21:44:53/2021-09-27T21:44:53)</pre>"
      ],
      "text/plain": [
       "<IPython.core.display.HTML object>"
      ]
     },
     "metadata": {},
     "output_type": "display_data"
    },
    {
     "data": {
      "text/plain": [
       "username             0\n",
       "hours             2637\n",
       "products          1566\n",
       "product_id           0\n",
       "page_order           0\n",
       "date                 0\n",
       "text                 0\n",
       "early_access         0\n",
       "page                 0\n",
       "user_id         461967\n",
       "compensation    764719\n",
       "found_funny     659143\n",
       "dtype: int64"
      ]
     },
     "execution_count": 11,
     "metadata": {},
     "output_type": "execute_result"
    }
   ],
   "source": [
    "# Vemos los missings\n",
    "data_reviews.isna().sum()"
   ]
  },
  {
   "cell_type": "code",
   "execution_count": 12,
   "metadata": {},
   "outputs": [
    {
     "data": {
      "text/html": [
       "<pre>✔️ 78 ms (2021-09-27T21:44:54/2021-09-27T21:44:54)</pre>"
      ],
      "text/plain": [
       "<IPython.core.display.HTML object>"
      ]
     },
     "metadata": {},
     "output_type": "display_data"
    },
    {
     "data": {
      "text/html": [
       "<div>\n",
       "<style scoped>\n",
       "    .dataframe tbody tr th:only-of-type {\n",
       "        vertical-align: middle;\n",
       "    }\n",
       "\n",
       "    .dataframe tbody tr th {\n",
       "        vertical-align: top;\n",
       "    }\n",
       "\n",
       "    .dataframe thead th {\n",
       "        text-align: right;\n",
       "    }\n",
       "</style>\n",
       "<table border=\"1\" class=\"dataframe\">\n",
       "  <thead>\n",
       "    <tr style=\"text-align: right;\">\n",
       "      <th></th>\n",
       "      <th>username</th>\n",
       "      <th>hours</th>\n",
       "      <th>product_id</th>\n",
       "      <th>text</th>\n",
       "      <th>user_id</th>\n",
       "    </tr>\n",
       "  </thead>\n",
       "  <tbody>\n",
       "    <tr>\n",
       "      <th>0</th>\n",
       "      <td>Chaos Syren</td>\n",
       "      <td>0.1000</td>\n",
       "      <td>725280</td>\n",
       "      <td>This would not be acceptable as an entertainme...</td>\n",
       "      <td>NaN</td>\n",
       "    </tr>\n",
       "    <tr>\n",
       "      <th>1</th>\n",
       "      <td>Ariman1</td>\n",
       "      <td>13.2000</td>\n",
       "      <td>328100</td>\n",
       "      <td>Addictive RPG ! Works fine on linux though it ...</td>\n",
       "      <td>NaN</td>\n",
       "    </tr>\n",
       "    <tr>\n",
       "      <th>2</th>\n",
       "      <td>freakfantom</td>\n",
       "      <td>0.1000</td>\n",
       "      <td>725280</td>\n",
       "      <td>Прикольная стрелялка. Взял дешево на распродаже.</td>\n",
       "      <td>NaN</td>\n",
       "    </tr>\n",
       "    <tr>\n",
       "      <th>3</th>\n",
       "      <td>The_Cpt_FROGGY</td>\n",
       "      <td>7.8000</td>\n",
       "      <td>631920</td>\n",
       "      <td>Somewhere on Zibylon:\\n~~~~~~~~~~~~~~~~~~\\nZib...</td>\n",
       "      <td>76561198003030375</td>\n",
       "    </tr>\n",
       "    <tr>\n",
       "      <th>4</th>\n",
       "      <td>the_maker988</td>\n",
       "      <td>8.2000</td>\n",
       "      <td>35140</td>\n",
       "      <td>This game was way to linear for me, and compar...</td>\n",
       "      <td>76561198353396844</td>\n",
       "    </tr>\n",
       "  </tbody>\n",
       "</table>\n",
       "</div>"
      ],
      "text/plain": [
       "         username   hours product_id  \\\n",
       "0     Chaos Syren  0.1000     725280   \n",
       "1         Ariman1 13.2000     328100   \n",
       "2     freakfantom  0.1000     725280   \n",
       "3  The_Cpt_FROGGY  7.8000     631920   \n",
       "4    the_maker988  8.2000      35140   \n",
       "\n",
       "                                                text            user_id  \n",
       "0  This would not be acceptable as an entertainme...                NaN  \n",
       "1  Addictive RPG ! Works fine on linux though it ...                NaN  \n",
       "2   Прикольная стрелялка. Взял дешево на распродаже.                NaN  \n",
       "3  Somewhere on Zibylon:\\n~~~~~~~~~~~~~~~~~~\\nZib...  76561198003030375  \n",
       "4  This game was way to linear for me, and compar...  76561198353396844  "
      ]
     },
     "execution_count": 12,
     "metadata": {},
     "output_type": "execute_result"
    }
   ],
   "source": [
    "# Selecciono las columnas que me interesan y que creo que pueden ser de utilidad\n",
    "columnas = ['username', 'hours', 'product_id', 'text','user_id']\n",
    "data_reviews = data_reviews[columnas]\n",
    "data_reviews.head()"
   ]
  },
  {
   "cell_type": "code",
   "execution_count": 13,
   "metadata": {},
   "outputs": [
    {
     "data": {
      "text/html": [
       "<pre>✔️ 234 ms (2021-09-27T21:44:54/2021-09-27T21:44:54)</pre>"
      ],
      "text/plain": [
       "<IPython.core.display.HTML object>"
      ]
     },
     "metadata": {},
     "output_type": "display_data"
    },
    {
     "data": {
      "text/plain": [
       "username           0\n",
       "hours           2637\n",
       "product_id         0\n",
       "text               0\n",
       "user_id       461967\n",
       "dtype: int64"
      ]
     },
     "execution_count": 13,
     "metadata": {},
     "output_type": "execute_result"
    }
   ],
   "source": [
    "# Vemos los missings\n",
    "data_reviews.isna().sum()"
   ]
  },
  {
   "cell_type": "code",
   "execution_count": 14,
   "metadata": {},
   "outputs": [
    {
     "data": {
      "text/html": [
       "<pre>✔️ 3.01 s (2021-09-27T21:44:54/2021-09-27T21:44:57)</pre>"
      ],
      "text/plain": [
       "<IPython.core.display.HTML object>"
      ]
     },
     "metadata": {},
     "output_type": "display_data"
    },
    {
     "data": {
      "text/html": [
       "<div>\n",
       "<style scoped>\n",
       "    .dataframe tbody tr th:only-of-type {\n",
       "        vertical-align: middle;\n",
       "    }\n",
       "\n",
       "    .dataframe tbody tr th {\n",
       "        vertical-align: top;\n",
       "    }\n",
       "\n",
       "    .dataframe thead th {\n",
       "        text-align: right;\n",
       "    }\n",
       "</style>\n",
       "<table border=\"1\" class=\"dataframe\">\n",
       "  <thead>\n",
       "    <tr style=\"text-align: right;\">\n",
       "      <th></th>\n",
       "      <th>username</th>\n",
       "      <th>hours</th>\n",
       "      <th>product_id</th>\n",
       "      <th>text</th>\n",
       "      <th>user_id</th>\n",
       "    </tr>\n",
       "  </thead>\n",
       "  <tbody>\n",
       "    <tr>\n",
       "      <th>0</th>\n",
       "      <td>Chaos Syren</td>\n",
       "      <td>0.1000</td>\n",
       "      <td>725280</td>\n",
       "      <td>This would not be acceptable as an entertainme...</td>\n",
       "      <td>62543</td>\n",
       "    </tr>\n",
       "    <tr>\n",
       "      <th>1</th>\n",
       "      <td>Ariman1</td>\n",
       "      <td>13.2000</td>\n",
       "      <td>328100</td>\n",
       "      <td>Addictive RPG ! Works fine on linux though it ...</td>\n",
       "      <td>26902</td>\n",
       "    </tr>\n",
       "    <tr>\n",
       "      <th>2</th>\n",
       "      <td>freakfantom</td>\n",
       "      <td>0.1000</td>\n",
       "      <td>725280</td>\n",
       "      <td>Прикольная стрелялка. Взял дешево на распродаже.</td>\n",
       "      <td>434604</td>\n",
       "    </tr>\n",
       "    <tr>\n",
       "      <th>3</th>\n",
       "      <td>The_Cpt_FROGGY</td>\n",
       "      <td>7.8000</td>\n",
       "      <td>631920</td>\n",
       "      <td>Somewhere on Zibylon:\\n~~~~~~~~~~~~~~~~~~\\nZib...</td>\n",
       "      <td>347904</td>\n",
       "    </tr>\n",
       "    <tr>\n",
       "      <th>4</th>\n",
       "      <td>the_maker988</td>\n",
       "      <td>8.2000</td>\n",
       "      <td>35140</td>\n",
       "      <td>This game was way to linear for me, and compar...</td>\n",
       "      <td>503851</td>\n",
       "    </tr>\n",
       "  </tbody>\n",
       "</table>\n",
       "</div>"
      ],
      "text/plain": [
       "         username   hours product_id  \\\n",
       "0     Chaos Syren  0.1000     725280   \n",
       "1         Ariman1 13.2000     328100   \n",
       "2     freakfantom  0.1000     725280   \n",
       "3  The_Cpt_FROGGY  7.8000     631920   \n",
       "4    the_maker988  8.2000      35140   \n",
       "\n",
       "                                                text  user_id  \n",
       "0  This would not be acceptable as an entertainme...    62543  \n",
       "1  Addictive RPG ! Works fine on linux though it ...    26902  \n",
       "2   Прикольная стрелялка. Взял дешево на распродаже.   434604  \n",
       "3  Somewhere on Zibylon:\\n~~~~~~~~~~~~~~~~~~\\nZib...   347904  \n",
       "4  This game was way to linear for me, and compar...   503851  "
      ]
     },
     "execution_count": 14,
     "metadata": {},
     "output_type": "execute_result"
    }
   ],
   "source": [
    "# Para las instancias que no tienen 'user id' voy a generar uno sintetico\n",
    "# Como la columna de 'user id' tiene muchos missings, voy a generar un id\n",
    "# para cada 'username'\n",
    "from sklearn import preprocessing\n",
    "le = preprocessing.LabelEncoder()\n",
    "data_reviews['user_id'] = le.fit_transform(data_reviews.username)\n",
    "\n",
    "# data_reviews1 = data_reviews[~data_reviews.user_id.isna()]\n",
    "# data_reviews2 = data_reviews[data_reviews.user_id.isna()]\n",
    "# data_reviews1['uid'] = data_reviews1['user_id']\n",
    "# data_reviews2['uid'] = le.fit_transform(data_reviews2.username)\n",
    "# data_reviews = pd.concat([data_reviews1, data_reviews2])\n",
    "data_reviews.head()"
   ]
  },
  {
   "cell_type": "code",
   "execution_count": 15,
   "metadata": {},
   "outputs": [
    {
     "data": {
      "text/html": [
       "<pre>✔️ 187 ms (2021-09-27T21:44:57/2021-09-27T21:44:58)</pre>"
      ],
      "text/plain": [
       "<IPython.core.display.HTML object>"
      ]
     },
     "metadata": {},
     "output_type": "display_data"
    },
    {
     "data": {
      "text/plain": [
       "username         0\n",
       "hours         2637\n",
       "product_id       0\n",
       "text             0\n",
       "user_id          0\n",
       "dtype: int64"
      ]
     },
     "execution_count": 15,
     "metadata": {},
     "output_type": "execute_result"
    }
   ],
   "source": [
    "# Chequeo que no tengo missings\n",
    "data_reviews.isna().sum()"
   ]
  },
  {
   "cell_type": "code",
   "execution_count": 16,
   "metadata": {},
   "outputs": [
    {
     "data": {
      "text/html": [
       "<pre>✔️ 15 ms (2021-09-27T21:44:58/2021-09-27T21:44:58)</pre>"
      ],
      "text/plain": [
       "<IPython.core.display.HTML object>"
      ]
     },
     "metadata": {},
     "output_type": "display_data"
    },
    {
     "data": {
      "text/plain": [
       "username       object\n",
       "hours         float64\n",
       "product_id     object\n",
       "text           object\n",
       "user_id         int32\n",
       "dtype: object"
      ]
     },
     "execution_count": 16,
     "metadata": {},
     "output_type": "execute_result"
    }
   ],
   "source": [
    "# Verifico los tipos de dato\n",
    "data_reviews.dtypes"
   ]
  },
  {
   "cell_type": "code",
   "execution_count": 17,
   "metadata": {},
   "outputs": [
    {
     "data": {
      "text/html": [
       "<pre>✔️ 141 ms (2021-09-27T21:44:58/2021-09-27T21:44:58)</pre>"
      ],
      "text/plain": [
       "<IPython.core.display.HTML object>"
      ]
     },
     "metadata": {},
     "output_type": "display_data"
    },
    {
     "data": {
      "text/plain": [
       "username       object\n",
       "hours         float64\n",
       "product_id      int64\n",
       "text           object\n",
       "user_id         int64\n",
       "dtype: object"
      ]
     },
     "execution_count": 17,
     "metadata": {},
     "output_type": "execute_result"
    }
   ],
   "source": [
    "# Redefino el tipo de dato de 'user_id' a int64\n",
    "data_reviews['product_id'] = data_reviews['product_id'].astype(dtype='int64')\n",
    "data_reviews['user_id'] = data_reviews['user_id'].astype(dtype='int64')\n",
    "data_reviews.dtypes"
   ]
  },
  {
   "cell_type": "code",
   "execution_count": 18,
   "metadata": {},
   "outputs": [
    {
     "data": {
      "text/html": [
       "<pre>✔️ 1.91 s (2021-09-27T21:44:58/2021-09-27T21:45:00)</pre>"
      ],
      "text/plain": [
       "<IPython.core.display.HTML object>"
      ]
     },
     "metadata": {},
     "output_type": "display_data"
    },
    {
     "data": {
      "text/html": [
       "<div>\n",
       "<style scoped>\n",
       "    .dataframe tbody tr th:only-of-type {\n",
       "        vertical-align: middle;\n",
       "    }\n",
       "\n",
       "    .dataframe tbody tr th {\n",
       "        vertical-align: top;\n",
       "    }\n",
       "\n",
       "    .dataframe thead th {\n",
       "        text-align: right;\n",
       "    }\n",
       "</style>\n",
       "<table border=\"1\" class=\"dataframe\">\n",
       "  <thead>\n",
       "    <tr style=\"text-align: right;\">\n",
       "      <th></th>\n",
       "      <th>username</th>\n",
       "      <th>text</th>\n",
       "    </tr>\n",
       "  </thead>\n",
       "  <tbody>\n",
       "    <tr>\n",
       "      <th>count</th>\n",
       "      <td>779307</td>\n",
       "      <td>779307</td>\n",
       "    </tr>\n",
       "    <tr>\n",
       "      <th>unique</th>\n",
       "      <td>540341</td>\n",
       "      <td>718779</td>\n",
       "    </tr>\n",
       "    <tr>\n",
       "      <th>top</th>\n",
       "      <td>123</td>\n",
       "      <td></td>\n",
       "    </tr>\n",
       "    <tr>\n",
       "      <th>freq</th>\n",
       "      <td>213</td>\n",
       "      <td>1837</td>\n",
       "    </tr>\n",
       "  </tbody>\n",
       "</table>\n",
       "</div>"
      ],
      "text/plain": [
       "       username    text\n",
       "count    779307  779307\n",
       "unique   540341  718779\n",
       "top         123        \n",
       "freq        213    1837"
      ]
     },
     "execution_count": 18,
     "metadata": {},
     "output_type": "execute_result"
    }
   ],
   "source": [
    "# Exploro los estadisticos del dataset\n",
    "data_reviews.describe(include='object')"
   ]
  },
  {
   "cell_type": "code",
   "execution_count": 19,
   "metadata": {},
   "outputs": [
    {
     "data": {
      "text/html": [
       "<pre>✔️ 172 ms (2021-09-27T21:45:00/2021-09-27T21:45:00)</pre>"
      ],
      "text/plain": [
       "<IPython.core.display.HTML object>"
      ]
     },
     "metadata": {},
     "output_type": "display_data"
    },
    {
     "data": {
      "text/html": [
       "<div>\n",
       "<style scoped>\n",
       "    .dataframe tbody tr th:only-of-type {\n",
       "        vertical-align: middle;\n",
       "    }\n",
       "\n",
       "    .dataframe tbody tr th {\n",
       "        vertical-align: top;\n",
       "    }\n",
       "\n",
       "    .dataframe thead th {\n",
       "        text-align: right;\n",
       "    }\n",
       "</style>\n",
       "<table border=\"1\" class=\"dataframe\">\n",
       "  <thead>\n",
       "    <tr style=\"text-align: right;\">\n",
       "      <th></th>\n",
       "      <th>hours</th>\n",
       "      <th>product_id</th>\n",
       "      <th>user_id</th>\n",
       "    </tr>\n",
       "  </thead>\n",
       "  <tbody>\n",
       "    <tr>\n",
       "      <th>count</th>\n",
       "      <td>776670.0000</td>\n",
       "      <td>779307.0000</td>\n",
       "      <td>779307.0000</td>\n",
       "    </tr>\n",
       "    <tr>\n",
       "      <th>mean</th>\n",
       "      <td>111.8438</td>\n",
       "      <td>251489.8221</td>\n",
       "      <td>263409.6942</td>\n",
       "    </tr>\n",
       "    <tr>\n",
       "      <th>std</th>\n",
       "      <td>390.1454</td>\n",
       "      <td>149975.3705</td>\n",
       "      <td>154076.0211</td>\n",
       "    </tr>\n",
       "    <tr>\n",
       "      <th>min</th>\n",
       "      <td>0.0000</td>\n",
       "      <td>10.0000</td>\n",
       "      <td>0.0000</td>\n",
       "    </tr>\n",
       "    <tr>\n",
       "      <th>25%</th>\n",
       "      <td>4.0000</td>\n",
       "      <td>203770.0000</td>\n",
       "      <td>130630.5000</td>\n",
       "    </tr>\n",
       "    <tr>\n",
       "      <th>50%</th>\n",
       "      <td>15.3000</td>\n",
       "      <td>252490.0000</td>\n",
       "      <td>260873.0000</td>\n",
       "    </tr>\n",
       "    <tr>\n",
       "      <th>75%</th>\n",
       "      <td>59.6000</td>\n",
       "      <td>346110.0000</td>\n",
       "      <td>391980.0000</td>\n",
       "    </tr>\n",
       "    <tr>\n",
       "      <th>max</th>\n",
       "      <td>28164.0000</td>\n",
       "      <td>773900.0000</td>\n",
       "      <td>540340.0000</td>\n",
       "    </tr>\n",
       "  </tbody>\n",
       "</table>\n",
       "</div>"
      ],
      "text/plain": [
       "            hours  product_id     user_id\n",
       "count 776670.0000 779307.0000 779307.0000\n",
       "mean     111.8438 251489.8221 263409.6942\n",
       "std      390.1454 149975.3705 154076.0211\n",
       "min        0.0000     10.0000      0.0000\n",
       "25%        4.0000 203770.0000 130630.5000\n",
       "50%       15.3000 252490.0000 260873.0000\n",
       "75%       59.6000 346110.0000 391980.0000\n",
       "max    28164.0000 773900.0000 540340.0000"
      ]
     },
     "execution_count": 19,
     "metadata": {},
     "output_type": "execute_result"
    }
   ],
   "source": [
    "# Exploro más estadisticos del dataset\n",
    "data_reviews.describe()"
   ]
  },
  {
   "cell_type": "markdown",
   "metadata": {
    "id": "04ed3teRWT0T"
   },
   "source": [
    "Dataset de **Games**"
   ]
  },
  {
   "cell_type": "code",
   "execution_count": 20,
   "metadata": {
    "id": "8wRb24Y5WT0U"
   },
   "outputs": [
    {
     "data": {
      "text/html": [
       "<pre>✔️ 3.28 s (2021-09-27T21:45:00/2021-09-27T21:45:04)</pre>"
      ],
      "text/plain": [
       "<IPython.core.display.HTML object>"
      ]
     },
     "metadata": {},
     "output_type": "display_data"
    }
   ],
   "source": [
    "data_games = []\n",
    "for l in parse('steam_games.json.gz'):\n",
    "    data_games.append(l)\n",
    "data_games = pd.DataFrame(data_games)"
   ]
  },
  {
   "cell_type": "code",
   "execution_count": 21,
   "metadata": {
    "id": "sVR0Cs6SWT0b"
   },
   "outputs": [
    {
     "data": {
      "text/html": [
       "<pre>✔️ 31 ms (2021-09-27T21:45:04/2021-09-27T21:45:04)</pre>"
      ],
      "text/plain": [
       "<IPython.core.display.HTML object>"
      ]
     },
     "metadata": {},
     "output_type": "display_data"
    },
    {
     "data": {
      "text/html": [
       "<div>\n",
       "<style scoped>\n",
       "    .dataframe tbody tr th:only-of-type {\n",
       "        vertical-align: middle;\n",
       "    }\n",
       "\n",
       "    .dataframe tbody tr th {\n",
       "        vertical-align: top;\n",
       "    }\n",
       "\n",
       "    .dataframe thead th {\n",
       "        text-align: right;\n",
       "    }\n",
       "</style>\n",
       "<table border=\"1\" class=\"dataframe\">\n",
       "  <thead>\n",
       "    <tr style=\"text-align: right;\">\n",
       "      <th></th>\n",
       "      <th>publisher</th>\n",
       "      <th>genres</th>\n",
       "      <th>app_name</th>\n",
       "      <th>title</th>\n",
       "      <th>url</th>\n",
       "      <th>release_date</th>\n",
       "      <th>tags</th>\n",
       "      <th>discount_price</th>\n",
       "      <th>reviews_url</th>\n",
       "      <th>specs</th>\n",
       "      <th>price</th>\n",
       "      <th>early_access</th>\n",
       "      <th>id</th>\n",
       "      <th>developer</th>\n",
       "      <th>sentiment</th>\n",
       "      <th>metascore</th>\n",
       "    </tr>\n",
       "  </thead>\n",
       "  <tbody>\n",
       "    <tr>\n",
       "      <th>0</th>\n",
       "      <td>Kotoshiro</td>\n",
       "      <td>[Action, Casual, Indie, Simulation, Strategy]</td>\n",
       "      <td>Lost Summoner Kitty</td>\n",
       "      <td>Lost Summoner Kitty</td>\n",
       "      <td>http://store.steampowered.com/app/761140/Lost_...</td>\n",
       "      <td>2018-01-04</td>\n",
       "      <td>[Strategy, Action, Indie, Casual, Simulation]</td>\n",
       "      <td>4.4900</td>\n",
       "      <td>http://steamcommunity.com/app/761140/reviews/?...</td>\n",
       "      <td>[Single-player]</td>\n",
       "      <td>4.9900</td>\n",
       "      <td>False</td>\n",
       "      <td>761140</td>\n",
       "      <td>Kotoshiro</td>\n",
       "      <td>NaN</td>\n",
       "      <td>NaN</td>\n",
       "    </tr>\n",
       "    <tr>\n",
       "      <th>1</th>\n",
       "      <td>Making Fun, Inc.</td>\n",
       "      <td>[Free to Play, Indie, RPG, Strategy]</td>\n",
       "      <td>Ironbound</td>\n",
       "      <td>Ironbound</td>\n",
       "      <td>http://store.steampowered.com/app/643980/Ironb...</td>\n",
       "      <td>2018-01-04</td>\n",
       "      <td>[Free to Play, Strategy, Indie, RPG, Card Game...</td>\n",
       "      <td>NaN</td>\n",
       "      <td>http://steamcommunity.com/app/643980/reviews/?...</td>\n",
       "      <td>[Single-player, Multi-player, Online Multi-Pla...</td>\n",
       "      <td>Free To Play</td>\n",
       "      <td>False</td>\n",
       "      <td>643980</td>\n",
       "      <td>Secret Level SRL</td>\n",
       "      <td>Mostly Positive</td>\n",
       "      <td>NaN</td>\n",
       "    </tr>\n",
       "    <tr>\n",
       "      <th>2</th>\n",
       "      <td>Poolians.com</td>\n",
       "      <td>[Casual, Free to Play, Indie, Simulation, Sports]</td>\n",
       "      <td>Real Pool 3D - Poolians</td>\n",
       "      <td>Real Pool 3D - Poolians</td>\n",
       "      <td>http://store.steampowered.com/app/670290/Real_...</td>\n",
       "      <td>2017-07-24</td>\n",
       "      <td>[Free to Play, Simulation, Sports, Casual, Ind...</td>\n",
       "      <td>NaN</td>\n",
       "      <td>http://steamcommunity.com/app/670290/reviews/?...</td>\n",
       "      <td>[Single-player, Multi-player, Online Multi-Pla...</td>\n",
       "      <td>Free to Play</td>\n",
       "      <td>False</td>\n",
       "      <td>670290</td>\n",
       "      <td>Poolians.com</td>\n",
       "      <td>Mostly Positive</td>\n",
       "      <td>NaN</td>\n",
       "    </tr>\n",
       "    <tr>\n",
       "      <th>3</th>\n",
       "      <td>彼岸领域</td>\n",
       "      <td>[Action, Adventure, Casual]</td>\n",
       "      <td>弹炸人2222</td>\n",
       "      <td>弹炸人2222</td>\n",
       "      <td>http://store.steampowered.com/app/767400/2222/</td>\n",
       "      <td>2017-12-07</td>\n",
       "      <td>[Action, Adventure, Casual]</td>\n",
       "      <td>0.8300</td>\n",
       "      <td>http://steamcommunity.com/app/767400/reviews/?...</td>\n",
       "      <td>[Single-player]</td>\n",
       "      <td>0.9900</td>\n",
       "      <td>False</td>\n",
       "      <td>767400</td>\n",
       "      <td>彼岸领域</td>\n",
       "      <td>NaN</td>\n",
       "      <td>NaN</td>\n",
       "    </tr>\n",
       "    <tr>\n",
       "      <th>4</th>\n",
       "      <td>NaN</td>\n",
       "      <td>NaN</td>\n",
       "      <td>Log Challenge</td>\n",
       "      <td>NaN</td>\n",
       "      <td>http://store.steampowered.com/app/773570/Log_C...</td>\n",
       "      <td>NaN</td>\n",
       "      <td>[Action, Indie, Casual, Sports]</td>\n",
       "      <td>1.7900</td>\n",
       "      <td>http://steamcommunity.com/app/773570/reviews/?...</td>\n",
       "      <td>[Single-player, Full controller support, HTC V...</td>\n",
       "      <td>2.9900</td>\n",
       "      <td>False</td>\n",
       "      <td>773570</td>\n",
       "      <td>NaN</td>\n",
       "      <td>NaN</td>\n",
       "      <td>NaN</td>\n",
       "    </tr>\n",
       "  </tbody>\n",
       "</table>\n",
       "</div>"
      ],
      "text/plain": [
       "          publisher                                             genres  \\\n",
       "0         Kotoshiro      [Action, Casual, Indie, Simulation, Strategy]   \n",
       "1  Making Fun, Inc.               [Free to Play, Indie, RPG, Strategy]   \n",
       "2      Poolians.com  [Casual, Free to Play, Indie, Simulation, Sports]   \n",
       "3              彼岸领域                        [Action, Adventure, Casual]   \n",
       "4               NaN                                                NaN   \n",
       "\n",
       "                  app_name                    title  \\\n",
       "0      Lost Summoner Kitty      Lost Summoner Kitty   \n",
       "1                Ironbound                Ironbound   \n",
       "2  Real Pool 3D - Poolians  Real Pool 3D - Poolians   \n",
       "3                  弹炸人2222                  弹炸人2222   \n",
       "4            Log Challenge                      NaN   \n",
       "\n",
       "                                                 url release_date  \\\n",
       "0  http://store.steampowered.com/app/761140/Lost_...   2018-01-04   \n",
       "1  http://store.steampowered.com/app/643980/Ironb...   2018-01-04   \n",
       "2  http://store.steampowered.com/app/670290/Real_...   2017-07-24   \n",
       "3     http://store.steampowered.com/app/767400/2222/   2017-12-07   \n",
       "4  http://store.steampowered.com/app/773570/Log_C...          NaN   \n",
       "\n",
       "                                                tags  discount_price  \\\n",
       "0      [Strategy, Action, Indie, Casual, Simulation]          4.4900   \n",
       "1  [Free to Play, Strategy, Indie, RPG, Card Game...             NaN   \n",
       "2  [Free to Play, Simulation, Sports, Casual, Ind...             NaN   \n",
       "3                        [Action, Adventure, Casual]          0.8300   \n",
       "4                    [Action, Indie, Casual, Sports]          1.7900   \n",
       "\n",
       "                                         reviews_url  \\\n",
       "0  http://steamcommunity.com/app/761140/reviews/?...   \n",
       "1  http://steamcommunity.com/app/643980/reviews/?...   \n",
       "2  http://steamcommunity.com/app/670290/reviews/?...   \n",
       "3  http://steamcommunity.com/app/767400/reviews/?...   \n",
       "4  http://steamcommunity.com/app/773570/reviews/?...   \n",
       "\n",
       "                                               specs         price  \\\n",
       "0                                    [Single-player]        4.9900   \n",
       "1  [Single-player, Multi-player, Online Multi-Pla...  Free To Play   \n",
       "2  [Single-player, Multi-player, Online Multi-Pla...  Free to Play   \n",
       "3                                    [Single-player]        0.9900   \n",
       "4  [Single-player, Full controller support, HTC V...        2.9900   \n",
       "\n",
       "   early_access      id         developer        sentiment metascore  \n",
       "0         False  761140         Kotoshiro              NaN       NaN  \n",
       "1         False  643980  Secret Level SRL  Mostly Positive       NaN  \n",
       "2         False  670290      Poolians.com  Mostly Positive       NaN  \n",
       "3         False  767400              彼岸领域              NaN       NaN  \n",
       "4         False  773570               NaN              NaN       NaN  "
      ]
     },
     "execution_count": 21,
     "metadata": {},
     "output_type": "execute_result"
    }
   ],
   "source": [
    "# Previsualizo las primeras 5 instancias\n",
    "data_games.head()"
   ]
  },
  {
   "cell_type": "code",
   "execution_count": 22,
   "metadata": {},
   "outputs": [
    {
     "data": {
      "text/html": [
       "<pre>✔️ 31 ms (2021-09-27T21:45:04/2021-09-27T21:45:04)</pre>"
      ],
      "text/plain": [
       "<IPython.core.display.HTML object>"
      ]
     },
     "metadata": {},
     "output_type": "display_data"
    },
    {
     "data": {
      "text/html": [
       "<div>\n",
       "<style scoped>\n",
       "    .dataframe tbody tr th:only-of-type {\n",
       "        vertical-align: middle;\n",
       "    }\n",
       "\n",
       "    .dataframe tbody tr th {\n",
       "        vertical-align: top;\n",
       "    }\n",
       "\n",
       "    .dataframe thead th {\n",
       "        text-align: right;\n",
       "    }\n",
       "</style>\n",
       "<table border=\"1\" class=\"dataframe\">\n",
       "  <thead>\n",
       "    <tr style=\"text-align: right;\">\n",
       "      <th></th>\n",
       "      <th>publisher</th>\n",
       "      <th>genres</th>\n",
       "      <th>app_name</th>\n",
       "      <th>title</th>\n",
       "      <th>url</th>\n",
       "      <th>release_date</th>\n",
       "      <th>tags</th>\n",
       "      <th>discount_price</th>\n",
       "      <th>reviews_url</th>\n",
       "      <th>specs</th>\n",
       "      <th>price</th>\n",
       "      <th>early_access</th>\n",
       "      <th>id</th>\n",
       "      <th>developer</th>\n",
       "      <th>sentiment</th>\n",
       "      <th>metascore</th>\n",
       "    </tr>\n",
       "  </thead>\n",
       "  <tbody>\n",
       "    <tr>\n",
       "      <th>32130</th>\n",
       "      <td>Ghost_RUS Games</td>\n",
       "      <td>[Casual, Indie, Simulation, Strategy]</td>\n",
       "      <td>Colony On Mars</td>\n",
       "      <td>Colony On Mars</td>\n",
       "      <td>http://store.steampowered.com/app/773640/Colon...</td>\n",
       "      <td>2018-01-04</td>\n",
       "      <td>[Strategy, Indie, Casual, Simulation]</td>\n",
       "      <td>1.4900</td>\n",
       "      <td>http://steamcommunity.com/app/773640/reviews/?...</td>\n",
       "      <td>[Single-player, Steam Achievements]</td>\n",
       "      <td>1.9900</td>\n",
       "      <td>False</td>\n",
       "      <td>773640</td>\n",
       "      <td>Nikita \"Ghost_RUS\"</td>\n",
       "      <td>NaN</td>\n",
       "      <td>NaN</td>\n",
       "    </tr>\n",
       "    <tr>\n",
       "      <th>32131</th>\n",
       "      <td>Sacada</td>\n",
       "      <td>[Casual, Indie, Strategy]</td>\n",
       "      <td>LOGistICAL: South Africa</td>\n",
       "      <td>LOGistICAL: South Africa</td>\n",
       "      <td>http://store.steampowered.com/app/733530/LOGis...</td>\n",
       "      <td>2018-01-04</td>\n",
       "      <td>[Strategy, Indie, Casual]</td>\n",
       "      <td>4.2400</td>\n",
       "      <td>http://steamcommunity.com/app/733530/reviews/?...</td>\n",
       "      <td>[Single-player, Steam Achievements, Steam Clou...</td>\n",
       "      <td>4.9900</td>\n",
       "      <td>False</td>\n",
       "      <td>733530</td>\n",
       "      <td>Sacada</td>\n",
       "      <td>NaN</td>\n",
       "      <td>NaN</td>\n",
       "    </tr>\n",
       "    <tr>\n",
       "      <th>32132</th>\n",
       "      <td>Laush Studio</td>\n",
       "      <td>[Indie, Racing, Simulation]</td>\n",
       "      <td>Russian Roads</td>\n",
       "      <td>Russian Roads</td>\n",
       "      <td>http://store.steampowered.com/app/610660/Russi...</td>\n",
       "      <td>2018-01-04</td>\n",
       "      <td>[Indie, Simulation, Racing]</td>\n",
       "      <td>1.3900</td>\n",
       "      <td>http://steamcommunity.com/app/610660/reviews/?...</td>\n",
       "      <td>[Single-player, Steam Achievements, Steam Trad...</td>\n",
       "      <td>1.9900</td>\n",
       "      <td>False</td>\n",
       "      <td>610660</td>\n",
       "      <td>Laush Dmitriy Sergeevich</td>\n",
       "      <td>NaN</td>\n",
       "      <td>NaN</td>\n",
       "    </tr>\n",
       "    <tr>\n",
       "      <th>32133</th>\n",
       "      <td>SIXNAILS</td>\n",
       "      <td>[Casual, Indie]</td>\n",
       "      <td>EXIT 2 - Directions</td>\n",
       "      <td>EXIT 2 - Directions</td>\n",
       "      <td>http://store.steampowered.com/app/658870/EXIT_...</td>\n",
       "      <td>2017-09-02</td>\n",
       "      <td>[Indie, Casual, Puzzle, Singleplayer, Atmosphe...</td>\n",
       "      <td>NaN</td>\n",
       "      <td>http://steamcommunity.com/app/658870/reviews/?...</td>\n",
       "      <td>[Single-player, Steam Achievements, Steam Cloud]</td>\n",
       "      <td>4.9900</td>\n",
       "      <td>False</td>\n",
       "      <td>658870</td>\n",
       "      <td>xropi,stev3ns</td>\n",
       "      <td>1 user reviews</td>\n",
       "      <td>NaN</td>\n",
       "    </tr>\n",
       "    <tr>\n",
       "      <th>32134</th>\n",
       "      <td>NaN</td>\n",
       "      <td>NaN</td>\n",
       "      <td>Maze Run VR</td>\n",
       "      <td>NaN</td>\n",
       "      <td>http://store.steampowered.com/app/681550/Maze_...</td>\n",
       "      <td>NaN</td>\n",
       "      <td>[Early Access, Adventure, Indie, Action, Simul...</td>\n",
       "      <td>NaN</td>\n",
       "      <td>http://steamcommunity.com/app/681550/reviews/?...</td>\n",
       "      <td>[Single-player, Stats, Steam Leaderboards, HTC...</td>\n",
       "      <td>4.9900</td>\n",
       "      <td>True</td>\n",
       "      <td>681550</td>\n",
       "      <td>NaN</td>\n",
       "      <td>Positive</td>\n",
       "      <td>NaN</td>\n",
       "    </tr>\n",
       "  </tbody>\n",
       "</table>\n",
       "</div>"
      ],
      "text/plain": [
       "             publisher                                 genres  \\\n",
       "32130  Ghost_RUS Games  [Casual, Indie, Simulation, Strategy]   \n",
       "32131           Sacada              [Casual, Indie, Strategy]   \n",
       "32132     Laush Studio            [Indie, Racing, Simulation]   \n",
       "32133         SIXNAILS                        [Casual, Indie]   \n",
       "32134              NaN                                    NaN   \n",
       "\n",
       "                       app_name                     title  \\\n",
       "32130            Colony On Mars            Colony On Mars   \n",
       "32131  LOGistICAL: South Africa  LOGistICAL: South Africa   \n",
       "32132             Russian Roads             Russian Roads   \n",
       "32133       EXIT 2 - Directions       EXIT 2 - Directions   \n",
       "32134               Maze Run VR                       NaN   \n",
       "\n",
       "                                                     url release_date  \\\n",
       "32130  http://store.steampowered.com/app/773640/Colon...   2018-01-04   \n",
       "32131  http://store.steampowered.com/app/733530/LOGis...   2018-01-04   \n",
       "32132  http://store.steampowered.com/app/610660/Russi...   2018-01-04   \n",
       "32133  http://store.steampowered.com/app/658870/EXIT_...   2017-09-02   \n",
       "32134  http://store.steampowered.com/app/681550/Maze_...          NaN   \n",
       "\n",
       "                                                    tags  discount_price  \\\n",
       "32130              [Strategy, Indie, Casual, Simulation]          1.4900   \n",
       "32131                          [Strategy, Indie, Casual]          4.2400   \n",
       "32132                        [Indie, Simulation, Racing]          1.3900   \n",
       "32133  [Indie, Casual, Puzzle, Singleplayer, Atmosphe...             NaN   \n",
       "32134  [Early Access, Adventure, Indie, Action, Simul...             NaN   \n",
       "\n",
       "                                             reviews_url  \\\n",
       "32130  http://steamcommunity.com/app/773640/reviews/?...   \n",
       "32131  http://steamcommunity.com/app/733530/reviews/?...   \n",
       "32132  http://steamcommunity.com/app/610660/reviews/?...   \n",
       "32133  http://steamcommunity.com/app/658870/reviews/?...   \n",
       "32134  http://steamcommunity.com/app/681550/reviews/?...   \n",
       "\n",
       "                                                   specs  price  early_access  \\\n",
       "32130                [Single-player, Steam Achievements] 1.9900         False   \n",
       "32131  [Single-player, Steam Achievements, Steam Clou... 4.9900         False   \n",
       "32132  [Single-player, Steam Achievements, Steam Trad... 1.9900         False   \n",
       "32133   [Single-player, Steam Achievements, Steam Cloud] 4.9900         False   \n",
       "32134  [Single-player, Stats, Steam Leaderboards, HTC... 4.9900          True   \n",
       "\n",
       "           id                 developer       sentiment metascore  \n",
       "32130  773640        Nikita \"Ghost_RUS\"             NaN       NaN  \n",
       "32131  733530                    Sacada             NaN       NaN  \n",
       "32132  610660  Laush Dmitriy Sergeevich             NaN       NaN  \n",
       "32133  658870             xropi,stev3ns  1 user reviews       NaN  \n",
       "32134  681550                       NaN        Positive       NaN  "
      ]
     },
     "execution_count": 22,
     "metadata": {},
     "output_type": "execute_result"
    }
   ],
   "source": [
    "# Previsualizo las ultimas 5 instancias\n",
    "data_games.tail()"
   ]
  },
  {
   "cell_type": "code",
   "execution_count": 23,
   "metadata": {},
   "outputs": [
    {
     "data": {
      "text/html": [
       "<pre>✔️ 62 ms (2021-09-27T21:45:04/2021-09-27T21:45:04)</pre>"
      ],
      "text/plain": [
       "<IPython.core.display.HTML object>"
      ]
     },
     "metadata": {},
     "output_type": "display_data"
    },
    {
     "name": "stdout",
     "output_type": "stream",
     "text": [
      "<class 'pandas.core.frame.DataFrame'>\n",
      "RangeIndex: 32135 entries, 0 to 32134\n",
      "Data columns (total 16 columns):\n",
      " #   Column          Non-Null Count  Dtype  \n",
      "---  ------          --------------  -----  \n",
      " 0   publisher       24083 non-null  object \n",
      " 1   genres          28852 non-null  object \n",
      " 2   app_name        32133 non-null  object \n",
      " 3   title           30085 non-null  object \n",
      " 4   url             32135 non-null  object \n",
      " 5   release_date    30068 non-null  object \n",
      " 6   tags            31972 non-null  object \n",
      " 7   discount_price  225 non-null    float64\n",
      " 8   reviews_url     32133 non-null  object \n",
      " 9   specs           31465 non-null  object \n",
      " 10  price           30758 non-null  object \n",
      " 11  early_access    32135 non-null  bool   \n",
      " 12  id              32133 non-null  object \n",
      " 13  developer       28836 non-null  object \n",
      " 14  sentiment       24953 non-null  object \n",
      " 15  metascore       2677 non-null   object \n",
      "dtypes: bool(1), float64(1), object(14)\n",
      "memory usage: 3.7+ MB\n"
     ]
    }
   ],
   "source": [
    "# Reviso la informacion general del dataset\n",
    "data_games.info()"
   ]
  },
  {
   "cell_type": "code",
   "execution_count": 24,
   "metadata": {},
   "outputs": [
    {
     "data": {
      "text/html": [
       "<pre>✔️ 47 ms (2021-09-27T21:45:05/2021-09-27T21:45:05)</pre>"
      ],
      "text/plain": [
       "<IPython.core.display.HTML object>"
      ]
     },
     "metadata": {},
     "output_type": "display_data"
    },
    {
     "data": {
      "text/plain": [
       "publisher          8052\n",
       "genres             3283\n",
       "app_name              2\n",
       "title              2050\n",
       "url                   0\n",
       "release_date       2067\n",
       "tags                163\n",
       "discount_price    31910\n",
       "reviews_url           2\n",
       "specs               670\n",
       "price              1377\n",
       "early_access          0\n",
       "id                    2\n",
       "developer          3299\n",
       "sentiment          7182\n",
       "metascore         29458\n",
       "dtype: int64"
      ]
     },
     "execution_count": 24,
     "metadata": {},
     "output_type": "execute_result"
    }
   ],
   "source": [
    "# Vemos los missings\n",
    "data_games.isna().sum()"
   ]
  },
  {
   "cell_type": "code",
   "execution_count": 25,
   "metadata": {},
   "outputs": [
    {
     "data": {
      "text/html": [
       "<pre>✔️ 32 ms (2021-09-27T21:45:05/2021-09-27T21:45:05)</pre>"
      ],
      "text/plain": [
       "<IPython.core.display.HTML object>"
      ]
     },
     "metadata": {},
     "output_type": "display_data"
    },
    {
     "data": {
      "text/html": [
       "<div>\n",
       "<style scoped>\n",
       "    .dataframe tbody tr th:only-of-type {\n",
       "        vertical-align: middle;\n",
       "    }\n",
       "\n",
       "    .dataframe tbody tr th {\n",
       "        vertical-align: top;\n",
       "    }\n",
       "\n",
       "    .dataframe thead th {\n",
       "        text-align: right;\n",
       "    }\n",
       "</style>\n",
       "<table border=\"1\" class=\"dataframe\">\n",
       "  <thead>\n",
       "    <tr style=\"text-align: right;\">\n",
       "      <th></th>\n",
       "      <th>publisher</th>\n",
       "      <th>genres</th>\n",
       "      <th>app_name</th>\n",
       "      <th>tags</th>\n",
       "      <th>specs</th>\n",
       "      <th>price</th>\n",
       "      <th>id</th>\n",
       "      <th>developer</th>\n",
       "      <th>sentiment</th>\n",
       "    </tr>\n",
       "  </thead>\n",
       "  <tbody>\n",
       "    <tr>\n",
       "      <th>0</th>\n",
       "      <td>Kotoshiro</td>\n",
       "      <td>[Action, Casual, Indie, Simulation, Strategy]</td>\n",
       "      <td>Lost Summoner Kitty</td>\n",
       "      <td>[Strategy, Action, Indie, Casual, Simulation]</td>\n",
       "      <td>[Single-player]</td>\n",
       "      <td>4.9900</td>\n",
       "      <td>761140</td>\n",
       "      <td>Kotoshiro</td>\n",
       "      <td>NaN</td>\n",
       "    </tr>\n",
       "    <tr>\n",
       "      <th>1</th>\n",
       "      <td>Making Fun, Inc.</td>\n",
       "      <td>[Free to Play, Indie, RPG, Strategy]</td>\n",
       "      <td>Ironbound</td>\n",
       "      <td>[Free to Play, Strategy, Indie, RPG, Card Game...</td>\n",
       "      <td>[Single-player, Multi-player, Online Multi-Pla...</td>\n",
       "      <td>Free To Play</td>\n",
       "      <td>643980</td>\n",
       "      <td>Secret Level SRL</td>\n",
       "      <td>Mostly Positive</td>\n",
       "    </tr>\n",
       "    <tr>\n",
       "      <th>2</th>\n",
       "      <td>Poolians.com</td>\n",
       "      <td>[Casual, Free to Play, Indie, Simulation, Sports]</td>\n",
       "      <td>Real Pool 3D - Poolians</td>\n",
       "      <td>[Free to Play, Simulation, Sports, Casual, Ind...</td>\n",
       "      <td>[Single-player, Multi-player, Online Multi-Pla...</td>\n",
       "      <td>Free to Play</td>\n",
       "      <td>670290</td>\n",
       "      <td>Poolians.com</td>\n",
       "      <td>Mostly Positive</td>\n",
       "    </tr>\n",
       "    <tr>\n",
       "      <th>3</th>\n",
       "      <td>彼岸领域</td>\n",
       "      <td>[Action, Adventure, Casual]</td>\n",
       "      <td>弹炸人2222</td>\n",
       "      <td>[Action, Adventure, Casual]</td>\n",
       "      <td>[Single-player]</td>\n",
       "      <td>0.9900</td>\n",
       "      <td>767400</td>\n",
       "      <td>彼岸领域</td>\n",
       "      <td>NaN</td>\n",
       "    </tr>\n",
       "    <tr>\n",
       "      <th>4</th>\n",
       "      <td>NaN</td>\n",
       "      <td>NaN</td>\n",
       "      <td>Log Challenge</td>\n",
       "      <td>[Action, Indie, Casual, Sports]</td>\n",
       "      <td>[Single-player, Full controller support, HTC V...</td>\n",
       "      <td>2.9900</td>\n",
       "      <td>773570</td>\n",
       "      <td>NaN</td>\n",
       "      <td>NaN</td>\n",
       "    </tr>\n",
       "  </tbody>\n",
       "</table>\n",
       "</div>"
      ],
      "text/plain": [
       "          publisher                                             genres  \\\n",
       "0         Kotoshiro      [Action, Casual, Indie, Simulation, Strategy]   \n",
       "1  Making Fun, Inc.               [Free to Play, Indie, RPG, Strategy]   \n",
       "2      Poolians.com  [Casual, Free to Play, Indie, Simulation, Sports]   \n",
       "3              彼岸领域                        [Action, Adventure, Casual]   \n",
       "4               NaN                                                NaN   \n",
       "\n",
       "                  app_name                                               tags  \\\n",
       "0      Lost Summoner Kitty      [Strategy, Action, Indie, Casual, Simulation]   \n",
       "1                Ironbound  [Free to Play, Strategy, Indie, RPG, Card Game...   \n",
       "2  Real Pool 3D - Poolians  [Free to Play, Simulation, Sports, Casual, Ind...   \n",
       "3                  弹炸人2222                        [Action, Adventure, Casual]   \n",
       "4            Log Challenge                    [Action, Indie, Casual, Sports]   \n",
       "\n",
       "                                               specs         price      id  \\\n",
       "0                                    [Single-player]        4.9900  761140   \n",
       "1  [Single-player, Multi-player, Online Multi-Pla...  Free To Play  643980   \n",
       "2  [Single-player, Multi-player, Online Multi-Pla...  Free to Play  670290   \n",
       "3                                    [Single-player]        0.9900  767400   \n",
       "4  [Single-player, Full controller support, HTC V...        2.9900  773570   \n",
       "\n",
       "          developer        sentiment  \n",
       "0         Kotoshiro              NaN  \n",
       "1  Secret Level SRL  Mostly Positive  \n",
       "2      Poolians.com  Mostly Positive  \n",
       "3              彼岸领域              NaN  \n",
       "4               NaN              NaN  "
      ]
     },
     "execution_count": 25,
     "metadata": {},
     "output_type": "execute_result"
    }
   ],
   "source": [
    "# Selecciono las columnas que me interesan\n",
    "# Descarto la columna 'title' ya que tienen muchos missings y la columna 'app_name' tiene los nombres de los juegos\n",
    "columnas = ['publisher', 'genres', 'app_name', 'tags', 'specs', 'price', 'id', 'developer', 'sentiment']\n",
    "data_games = data_games[columnas]\n",
    "data_games.head()"
   ]
  },
  {
   "cell_type": "code",
   "execution_count": 26,
   "metadata": {},
   "outputs": [
    {
     "data": {
      "text/html": [
       "<pre>✔️ 32 ms (2021-09-27T21:45:05/2021-09-27T21:45:05)</pre>"
      ],
      "text/plain": [
       "<IPython.core.display.HTML object>"
      ]
     },
     "metadata": {},
     "output_type": "display_data"
    }
   ],
   "source": [
    "# Trabajaremos sobre una copia del dataset de reviews\n",
    "df_reviews = data_reviews.copy()"
   ]
  },
  {
   "cell_type": "code",
   "execution_count": 27,
   "metadata": {},
   "outputs": [
    {
     "data": {
      "text/html": [
       "<pre>✔️ 47 ms (2021-09-27T21:45:05/2021-09-27T21:45:05)</pre>"
      ],
      "text/plain": [
       "<IPython.core.display.HTML object>"
      ]
     },
     "metadata": {},
     "output_type": "display_data"
    },
    {
     "data": {
      "text/plain": [
       "publisher    8052\n",
       "genres       3283\n",
       "app_name        2\n",
       "tags          163\n",
       "specs         670\n",
       "price        1377\n",
       "id              2\n",
       "developer    3299\n",
       "sentiment    7182\n",
       "dtype: int64"
      ]
     },
     "execution_count": 27,
     "metadata": {},
     "output_type": "execute_result"
    }
   ],
   "source": [
    "# Vemos los missings\n",
    "data_games.isna().sum()"
   ]
  },
  {
   "cell_type": "code",
   "execution_count": 28,
   "metadata": {},
   "outputs": [
    {
     "data": {
      "text/html": [
       "<pre>✔️ 31 ms (2021-09-27T21:45:05/2021-09-27T21:45:05)</pre>"
      ],
      "text/plain": [
       "<IPython.core.display.HTML object>"
      ]
     },
     "metadata": {},
     "output_type": "display_data"
    }
   ],
   "source": [
    "# Descarto los missings de 'id' y de 'app_name'\n",
    "data_games.dropna(axis=0, subset=['id', 'app_name'], inplace=True)"
   ]
  },
  {
   "cell_type": "code",
   "execution_count": 29,
   "metadata": {},
   "outputs": [
    {
     "data": {
      "text/html": [
       "<pre>✔️ 16 ms (2021-09-27T21:45:06/2021-09-27T21:45:06)</pre>"
      ],
      "text/plain": [
       "<IPython.core.display.HTML object>"
      ]
     },
     "metadata": {},
     "output_type": "display_data"
    },
    {
     "data": {
      "text/plain": [
       "publisher    object\n",
       "genres       object\n",
       "app_name     object\n",
       "tags         object\n",
       "specs        object\n",
       "price        object\n",
       "id           object\n",
       "developer    object\n",
       "sentiment    object\n",
       "dtype: object"
      ]
     },
     "execution_count": 29,
     "metadata": {},
     "output_type": "execute_result"
    }
   ],
   "source": [
    "# Observamos los tipos de dato\n",
    "data_games.dtypes"
   ]
  },
  {
   "cell_type": "code",
   "execution_count": 30,
   "metadata": {},
   "outputs": [
    {
     "data": {
      "text/html": [
       "<pre>✔️ 31 ms (2021-09-27T21:45:06/2021-09-27T21:45:06)</pre>"
      ],
      "text/plain": [
       "<IPython.core.display.HTML object>"
      ]
     },
     "metadata": {},
     "output_type": "display_data"
    }
   ],
   "source": [
    "# Cambio el tipo de dato de la columna 'id' para que coincida con la del dataframe 'data_reviews' \n",
    "data_games['id'] = data_games['id'].astype('int64')"
   ]
  },
  {
   "cell_type": "code",
   "execution_count": 31,
   "metadata": {},
   "outputs": [
    {
     "data": {
      "text/html": [
       "<pre>✔️ 16 ms (2021-09-27T21:45:06/2021-09-27T21:45:06)</pre>"
      ],
      "text/plain": [
       "<IPython.core.display.HTML object>"
      ]
     },
     "metadata": {},
     "output_type": "display_data"
    },
    {
     "data": {
      "text/plain": [
       "publisher    object\n",
       "genres       object\n",
       "app_name     object\n",
       "tags         object\n",
       "specs        object\n",
       "price        object\n",
       "id            int64\n",
       "developer    object\n",
       "sentiment    object\n",
       "dtype: object"
      ]
     },
     "execution_count": 31,
     "metadata": {},
     "output_type": "execute_result"
    }
   ],
   "source": [
    "# Chequeo los data types\n",
    "data_games.dtypes"
   ]
  },
  {
   "cell_type": "markdown",
   "metadata": {},
   "source": [
    "### Procesamiento de texto"
   ]
  },
  {
   "cell_type": "markdown",
   "metadata": {},
   "source": [
    "A continuacion vamos a procesar el campo 'text' (que contiene los comentarios de las reviews) para inferir un 'rating' y ver si ese juego es de la preferencia o no del usuario."
   ]
  },
  {
   "cell_type": "code",
   "execution_count": 32,
   "metadata": {},
   "outputs": [
    {
     "data": {
      "text/html": [
       "<pre>✔️ 63 ms (2021-09-27T21:45:06/2021-09-27T21:45:06)</pre>"
      ],
      "text/plain": [
       "<IPython.core.display.HTML object>"
      ]
     },
     "metadata": {},
     "output_type": "display_data"
    }
   ],
   "source": [
    "# Trabajaremos sobre una copia del dataset de reviews\n",
    "df_reviews = data_reviews.copy()"
   ]
  },
  {
   "cell_type": "code",
   "execution_count": 33,
   "metadata": {},
   "outputs": [
    {
     "data": {
      "text/html": [
       "<pre>✔️ 0 ns (2021-09-27T21:45:06/2021-09-27T21:45:06)</pre>"
      ],
      "text/plain": [
       "<IPython.core.display.HTML object>"
      ]
     },
     "metadata": {},
     "output_type": "display_data"
    },
    {
     "data": {
      "text/plain": [
       "(779307, 5)"
      ]
     },
     "execution_count": 33,
     "metadata": {},
     "output_type": "execute_result"
    }
   ],
   "source": [
    "df_reviews.shape"
   ]
  },
  {
   "cell_type": "markdown",
   "metadata": {},
   "source": [
    "#### Limpieza del campo 'text'"
   ]
  },
  {
   "cell_type": "code",
   "execution_count": 34,
   "metadata": {},
   "outputs": [
    {
     "data": {
      "text/html": [
       "<pre>✔️ 140 ms (2021-09-27T21:45:06/2021-09-27T21:45:07)</pre>"
      ],
      "text/plain": [
       "<IPython.core.display.HTML object>"
      ]
     },
     "metadata": {},
     "output_type": "display_data"
    },
    {
     "name": "stderr",
     "output_type": "stream",
     "text": [
      "[nltk_data] Downloading package stopwords to\n",
      "[nltk_data]     C:\\Users\\elmai\\AppData\\Roaming\\nltk_data...\n",
      "[nltk_data]   Package stopwords is already up-to-date!\n"
     ]
    }
   ],
   "source": [
    "nltk.download('stopwords')\n",
    "# Instanciamos el tokenizer\n",
    "tokenizer=RegexpTokenizer(\"\\w+\")\n",
    "\n",
    "# Importamos la función que nos permite Stemmizar de nltk y definimos el stemmer\n",
    "stemmer = PorterStemmer()\n",
    "\n",
    "# Traemos las stopwords\n",
    "stopwords = set(stopwords.words('english'))"
   ]
  },
  {
   "cell_type": "code",
   "execution_count": 35,
   "metadata": {},
   "outputs": [
    {
     "data": {
      "text/html": [
       "<pre>✔️ 16 ms (2021-09-27T21:45:07/2021-09-27T21:45:07)</pre>"
      ],
      "text/plain": [
       "<IPython.core.display.HTML object>"
      ]
     },
     "metadata": {},
     "output_type": "display_data"
    }
   ],
   "source": [
    "# Creo funcion para identificar el rol de cada palabra en el texto del comentario\n",
    "def get_wordnet_pos(word):\n",
    "    \"\"\"Map POS tag to first character lemmatize() accepts\"\"\"\n",
    "    tag = nltk.pos_tag([word])[0][1][0].upper()\n",
    "    tag_dict = {\"J\": wordnet.ADJ,\n",
    "                \"N\": wordnet.NOUN,\n",
    "                \"V\": wordnet.VERB,\n",
    "                \"R\": wordnet.ADV}\n",
    "\n",
    "    return tag_dict.get(tag, wordnet.NOUN)"
   ]
  },
  {
   "cell_type": "code",
   "execution_count": 251,
   "metadata": {},
   "outputs": [
    {
     "data": {
      "text/html": [
       "<pre>✔️ 0 ns (2021-09-27T22:57:59/2021-09-27T22:57:59)</pre>"
      ],
      "text/plain": [
       "<IPython.core.display.HTML object>"
      ]
     },
     "metadata": {},
     "output_type": "display_data"
    }
   ],
   "source": [
    "# Creamos método para aplicar la Normalizacion y luega el Stemming a cada instancia\n",
    "def processText(text):\n",
    "    \n",
    "    # Vamos a reemplzar los caracteres que no sean letras por espacios\n",
    "    text = re.sub(\"[^a-zA-Z]\",\" \",str(text))\n",
    "    \n",
    "    # Pasamos todo a minúsculas\n",
    "#     text = text.lower()\n",
    "    \n",
    "    # Tokenizamos para separar las palabras del titular\n",
    "    text = tokenizer.tokenize(text)\n",
    "    \n",
    "    # Eliminamos las palabras de menos de 4 letras\n",
    "    text = [palabra for palabra in text if len(palabra) >= 3]\n",
    "    \n",
    "    # Sacamos las Stopwords\n",
    "    text = [p for p in text if not p in stopwords]\n",
    "    \n",
    "    # Aplicamos el Lemmatizer (Esto puede tardar un ratito)\n",
    "#     text = [wordnet_lemmatizer.lemmatize(w, get_wordnet_pos(w)) for w in text]\n",
    "    \n",
    "    ## Hasta acá Normalizamos, ahora a stemmizar\n",
    "    # Aplicamos la funcion para buscar la raiz de las palabras\n",
    "#     text = [stemmer.stem(t) for t in text]\n",
    "    \n",
    "    # Por ultimo volvemos a unir el titular\n",
    "    text = \" \".join(text)\n",
    "    \n",
    "    return text"
   ]
  },
  {
   "cell_type": "code",
   "execution_count": 252,
   "metadata": {},
   "outputs": [
    {
     "data": {
      "text/html": [
       "<pre>✔️ 1 min 15 s (2021-09-27T22:58:00/2021-09-27T22:59:15)</pre>"
      ],
      "text/plain": [
       "<IPython.core.display.HTML object>"
      ]
     },
     "metadata": {},
     "output_type": "display_data"
    },
    {
     "data": {
      "application/vnd.jupyter.widget-view+json": {
       "model_id": "4a8a5c16d2c34b2d83f3b34f41a2d004",
       "version_major": 2,
       "version_minor": 0
      },
      "text/plain": [
       "  0%|          | 0/779307 [00:00<?, ?it/s]"
      ]
     },
     "metadata": {},
     "output_type": "display_data"
    }
   ],
   "source": [
    "# Aplicamos la transformación\n",
    "if PROCESS_TEXT:\n",
    "    df_reviews['cleaned_text'] = df_reviews['text'].progress_apply(processText)\n",
    "    df_reviews.to_csv('df_reviews.csv', index_label='index')\n",
    "else:\n",
    "    df_reviews = pd.read_csv('df_reviews.csv')\n",
    "    df_reviews.drop(columns='index', inplace=True)"
   ]
  },
  {
   "cell_type": "code",
   "execution_count": 253,
   "metadata": {},
   "outputs": [
    {
     "data": {
      "text/html": [
       "<pre>✔️ 15 ms (2021-09-27T22:59:15/2021-09-27T22:59:15)</pre>"
      ],
      "text/plain": [
       "<IPython.core.display.HTML object>"
      ]
     },
     "metadata": {},
     "output_type": "display_data"
    },
    {
     "data": {
      "text/html": [
       "<div>\n",
       "<style scoped>\n",
       "    .dataframe tbody tr th:only-of-type {\n",
       "        vertical-align: middle;\n",
       "    }\n",
       "\n",
       "    .dataframe tbody tr th {\n",
       "        vertical-align: top;\n",
       "    }\n",
       "\n",
       "    .dataframe thead th {\n",
       "        text-align: right;\n",
       "    }\n",
       "</style>\n",
       "<table border=\"1\" class=\"dataframe\">\n",
       "  <thead>\n",
       "    <tr style=\"text-align: right;\">\n",
       "      <th></th>\n",
       "      <th>username</th>\n",
       "      <th>hours</th>\n",
       "      <th>product_id</th>\n",
       "      <th>text</th>\n",
       "      <th>user_id</th>\n",
       "      <th>cleaned_text</th>\n",
       "      <th>polarity</th>\n",
       "      <th>rating</th>\n",
       "      <th>hr_factor</th>\n",
       "      <th>hr_rating</th>\n",
       "      <th>minimo</th>\n",
       "      <th>maximo</th>\n",
       "    </tr>\n",
       "  </thead>\n",
       "  <tbody>\n",
       "    <tr>\n",
       "      <th>473547</th>\n",
       "      <td>Grievous</td>\n",
       "      <td>17.8000</td>\n",
       "      <td>16450</td>\n",
       "      <td>the game is really good, action is a little re...</td>\n",
       "      <td>139371</td>\n",
       "      <td>game really good action little repetitive neve...</td>\n",
       "      <td>0.8410</td>\n",
       "      <td>4.6025</td>\n",
       "      <td>0.4686</td>\n",
       "      <td>4.1362</td>\n",
       "      <td>0.0000</td>\n",
       "      <td>24.2400</td>\n",
       "    </tr>\n",
       "    <tr>\n",
       "      <th>603624</th>\n",
       "      <td>[Kacho]</td>\n",
       "      <td>5.1000</td>\n",
       "      <td>335670</td>\n",
       "      <td>A difficult to complete indie RPG, LISA is dar...</td>\n",
       "      <td>393710</td>\n",
       "      <td>difficult complete indie RPG LISA dark humouro...</td>\n",
       "      <td>0.6801</td>\n",
       "      <td>4.2003</td>\n",
       "      <td>-0.8014</td>\n",
       "      <td>2.3455</td>\n",
       "      <td>0.0000</td>\n",
       "      <td>51.3700</td>\n",
       "    </tr>\n",
       "    <tr>\n",
       "      <th>604503</th>\n",
       "      <td>RON STAUHP</td>\n",
       "      <td>103.9000</td>\n",
       "      <td>231430</td>\n",
       "      <td>9/10 A lot of fun to play</td>\n",
       "      <td>273770</td>\n",
       "      <td>lot fun play</td>\n",
       "      <td>0.6908</td>\n",
       "      <td>4.2270</td>\n",
       "      <td>-0.7656</td>\n",
       "      <td>2.4037</td>\n",
       "      <td>0.0000</td>\n",
       "      <td>886.7000</td>\n",
       "    </tr>\n",
       "    <tr>\n",
       "      <th>713978</th>\n",
       "      <td>--= S.E.N.A.T.O.R =--</td>\n",
       "      <td>1.9000</td>\n",
       "      <td>274190</td>\n",
       "      <td>what a nice game</td>\n",
       "      <td>2723</td>\n",
       "      <td>nice game</td>\n",
       "      <td>0.4215</td>\n",
       "      <td>3.5537</td>\n",
       "      <td>-0.9361</td>\n",
       "      <td>1.8534</td>\n",
       "      <td>0.0000</td>\n",
       "      <td>59.5000</td>\n",
       "    </tr>\n",
       "    <tr>\n",
       "      <th>648267</th>\n",
       "      <td>Nightwing6400</td>\n",
       "      <td>6.6000</td>\n",
       "      <td>17410</td>\n",
       "      <td>This is the BEST parkor game I have ever playe...</td>\n",
       "      <td>241916</td>\n",
       "      <td>This BEST parkor game ever played This game ru...</td>\n",
       "      <td>0.9304</td>\n",
       "      <td>4.8260</td>\n",
       "      <td>-0.5642</td>\n",
       "      <td>2.9556</td>\n",
       "      <td>0.0000</td>\n",
       "      <td>30.2900</td>\n",
       "    </tr>\n",
       "  </tbody>\n",
       "</table>\n",
       "</div>"
      ],
      "text/plain": [
       "                     username    hours  product_id  \\\n",
       "473547               Grievous  17.8000       16450   \n",
       "603624                [Kacho]   5.1000      335670   \n",
       "604503             RON STAUHP 103.9000      231430   \n",
       "713978  --= S.E.N.A.T.O.R =--   1.9000      274190   \n",
       "648267          Nightwing6400   6.6000       17410   \n",
       "\n",
       "                                                     text  user_id  \\\n",
       "473547  the game is really good, action is a little re...   139371   \n",
       "603624  A difficult to complete indie RPG, LISA is dar...   393710   \n",
       "604503                          9/10 A lot of fun to play   273770   \n",
       "713978                                   what a nice game     2723   \n",
       "648267  This is the BEST parkor game I have ever playe...   241916   \n",
       "\n",
       "                                             cleaned_text  polarity  rating  \\\n",
       "473547  game really good action little repetitive neve...    0.8410  4.6025   \n",
       "603624  difficult complete indie RPG LISA dark humouro...    0.6801  4.2003   \n",
       "604503                                       lot fun play    0.6908  4.2270   \n",
       "713978                                          nice game    0.4215  3.5537   \n",
       "648267  This BEST parkor game ever played This game ru...    0.9304  4.8260   \n",
       "\n",
       "        hr_factor  hr_rating  minimo   maximo  \n",
       "473547     0.4686     4.1362  0.0000  24.2400  \n",
       "603624    -0.8014     2.3455  0.0000  51.3700  \n",
       "604503    -0.7656     2.4037  0.0000 886.7000  \n",
       "713978    -0.9361     1.8534  0.0000  59.5000  \n",
       "648267    -0.5642     2.9556  0.0000  30.2900  "
      ]
     },
     "execution_count": 253,
     "metadata": {},
     "output_type": "execute_result"
    }
   ],
   "source": [
    "# Mostramos el dataset limpio\n",
    "rand_list = np.random.choice(df_reviews.index, size=5)\n",
    "df_reviews.loc[rand_list]"
   ]
  },
  {
   "cell_type": "code",
   "execution_count": 254,
   "metadata": {},
   "outputs": [
    {
     "data": {
      "text/html": [
       "<pre>✔️ 266 ms (2021-09-27T22:59:15/2021-09-27T22:59:15)</pre>"
      ],
      "text/plain": [
       "<IPython.core.display.HTML object>"
      ]
     },
     "metadata": {},
     "output_type": "display_data"
    },
    {
     "data": {
      "text/plain": [
       "username           0\n",
       "hours           2637\n",
       "product_id         0\n",
       "text               0\n",
       "user_id            0\n",
       "cleaned_text       0\n",
       "polarity           0\n",
       "rating             0\n",
       "hr_factor          0\n",
       "hr_rating          0\n",
       "minimo             0\n",
       "maximo             0\n",
       "dtype: int64"
      ]
     },
     "execution_count": 254,
     "metadata": {},
     "output_type": "execute_result"
    }
   ],
   "source": [
    "df_reviews.isna().sum()"
   ]
  },
  {
   "cell_type": "code",
   "execution_count": 255,
   "metadata": {},
   "outputs": [
    {
     "data": {
      "text/html": [
       "<pre>✔️ 0 ns (2021-09-27T22:59:15/2021-09-27T22:59:15)</pre>"
      ],
      "text/plain": [
       "<IPython.core.display.HTML object>"
      ]
     },
     "metadata": {},
     "output_type": "display_data"
    }
   ],
   "source": [
    "# df_reviews.cleaned_text = df_reviews.cleaned_text.str.strip()\n",
    "# df_reviews.cleaned_text.replace('', np.nan, inplace=True)"
   ]
  },
  {
   "cell_type": "code",
   "execution_count": 256,
   "metadata": {},
   "outputs": [
    {
     "data": {
      "text/html": [
       "<pre>✔️ 282 ms (2021-09-27T22:59:16/2021-09-27T22:59:16)</pre>"
      ],
      "text/plain": [
       "<IPython.core.display.HTML object>"
      ]
     },
     "metadata": {},
     "output_type": "display_data"
    },
    {
     "data": {
      "text/plain": [
       "username           0\n",
       "hours           2637\n",
       "product_id         0\n",
       "text               0\n",
       "user_id            0\n",
       "cleaned_text       0\n",
       "polarity           0\n",
       "rating             0\n",
       "hr_factor          0\n",
       "hr_rating          0\n",
       "minimo             0\n",
       "maximo             0\n",
       "dtype: int64"
      ]
     },
     "execution_count": 256,
     "metadata": {},
     "output_type": "execute_result"
    }
   ],
   "source": [
    "df_reviews.isna().sum()"
   ]
  },
  {
   "cell_type": "code",
   "execution_count": 257,
   "metadata": {},
   "outputs": [
    {
     "data": {
      "text/html": [
       "<pre>✔️ 0 ns (2021-09-27T22:59:16/2021-09-27T22:59:16)</pre>"
      ],
      "text/plain": [
       "<IPython.core.display.HTML object>"
      ]
     },
     "metadata": {},
     "output_type": "display_data"
    }
   ],
   "source": [
    "# df_reviews.dropna(subset=['cleaned_text'], inplace=True)"
   ]
  },
  {
   "cell_type": "markdown",
   "metadata": {},
   "source": [
    "#### Análisis de polaridad de los comentarios"
   ]
  },
  {
   "cell_type": "code",
   "execution_count": 258,
   "metadata": {},
   "outputs": [
    {
     "data": {
      "text/html": [
       "<pre>✔️ 344 ms (2021-09-27T22:59:16/2021-09-27T22:59:17)</pre>"
      ],
      "text/plain": [
       "<IPython.core.display.HTML object>"
      ]
     },
     "metadata": {},
     "output_type": "display_data"
    },
    {
     "name": "stderr",
     "output_type": "stream",
     "text": [
      "[nltk_data] Downloading package wordnet to\n",
      "[nltk_data]     C:\\Users\\elmai\\AppData\\Roaming\\nltk_data...\n",
      "[nltk_data]   Package wordnet is already up-to-date!\n",
      "[nltk_data] Downloading package averaged_perceptron_tagger to\n",
      "[nltk_data]     C:\\Users\\elmai\\AppData\\Roaming\\nltk_data...\n",
      "[nltk_data]   Package averaged_perceptron_tagger is already up-to-\n",
      "[nltk_data]       date!\n",
      "[nltk_data] Downloading package vader_lexicon to\n",
      "[nltk_data]     C:\\Users\\elmai\\AppData\\Roaming\\nltk_data...\n",
      "[nltk_data]   Package vader_lexicon is already up-to-date!\n"
     ]
    },
    {
     "data": {
      "text/plain": [
       "True"
      ]
     },
     "execution_count": 258,
     "metadata": {},
     "output_type": "execute_result"
    }
   ],
   "source": [
    "import nltk\n",
    "nltk.download('wordnet')\n",
    "nltk.download('averaged_perceptron_tagger')\n",
    "nltk.download('vader_lexicon')"
   ]
  },
  {
   "cell_type": "code",
   "execution_count": 259,
   "metadata": {},
   "outputs": [
    {
     "data": {
      "text/html": [
       "<pre>✔️ 16 ms (2021-09-27T22:59:17/2021-09-27T22:59:17)</pre>"
      ],
      "text/plain": [
       "<IPython.core.display.HTML object>"
      ]
     },
     "metadata": {},
     "output_type": "display_data"
    }
   ],
   "source": [
    "sia = SentimentIntensityAnalyzer()\n",
    "def polaridad(text):\n",
    "    return sia.polarity_scores(text)['compound']"
   ]
  },
  {
   "cell_type": "code",
   "execution_count": 260,
   "metadata": {},
   "outputs": [
    {
     "data": {
      "text/html": [
       "<pre>✔️ 297 ms (2021-09-27T22:59:17/2021-09-27T22:59:18)</pre>"
      ],
      "text/plain": [
       "<IPython.core.display.HTML object>"
      ]
     },
     "metadata": {},
     "output_type": "display_data"
    },
    {
     "data": {
      "text/plain": [
       "username           0\n",
       "hours           2637\n",
       "product_id         0\n",
       "text               0\n",
       "user_id            0\n",
       "cleaned_text       0\n",
       "polarity           0\n",
       "rating             0\n",
       "hr_factor          0\n",
       "hr_rating          0\n",
       "minimo             0\n",
       "maximo             0\n",
       "dtype: int64"
      ]
     },
     "execution_count": 260,
     "metadata": {},
     "output_type": "execute_result"
    }
   ],
   "source": [
    "df_reviews.isna().sum()"
   ]
  },
  {
   "cell_type": "code",
   "execution_count": 261,
   "metadata": {},
   "outputs": [
    {
     "data": {
      "text/html": [
       "<pre>✔️ 8 min 25 s (2021-09-27T22:59:18/2021-09-27T23:07:43)</pre>"
      ],
      "text/plain": [
       "<IPython.core.display.HTML object>"
      ]
     },
     "metadata": {},
     "output_type": "display_data"
    },
    {
     "data": {
      "application/vnd.jupyter.widget-view+json": {
       "model_id": "3385c150171c472db3116c121ec8e948",
       "version_major": 2,
       "version_minor": 0
      },
      "text/plain": [
       "  0%|          | 0/779307 [00:00<?, ?it/s]"
      ]
     },
     "metadata": {},
     "output_type": "display_data"
    }
   ],
   "source": [
    "if POLARITY:\n",
    "    df_reviews['polarity'] = df_reviews['cleaned_text'].progress_apply(polaridad)\n",
    "    df_reviews.to_csv('df_reviews.csv', index_label='index')\n",
    "else:\n",
    "    df_reviews = pd.read_csv('df_reviews.csv')\n",
    "    df_reviews.drop(columns='index', inplace=True)"
   ]
  },
  {
   "cell_type": "code",
   "execution_count": 262,
   "metadata": {},
   "outputs": [
    {
     "data": {
      "text/html": [
       "<pre>✔️ 47 ms (2021-09-27T23:07:43/2021-09-27T23:07:43)</pre>"
      ],
      "text/plain": [
       "<IPython.core.display.HTML object>"
      ]
     },
     "metadata": {},
     "output_type": "display_data"
    },
    {
     "data": {
      "text/html": [
       "<div>\n",
       "<style scoped>\n",
       "    .dataframe tbody tr th:only-of-type {\n",
       "        vertical-align: middle;\n",
       "    }\n",
       "\n",
       "    .dataframe tbody tr th {\n",
       "        vertical-align: top;\n",
       "    }\n",
       "\n",
       "    .dataframe thead th {\n",
       "        text-align: right;\n",
       "    }\n",
       "</style>\n",
       "<table border=\"1\" class=\"dataframe\">\n",
       "  <thead>\n",
       "    <tr style=\"text-align: right;\">\n",
       "      <th></th>\n",
       "      <th>username</th>\n",
       "      <th>hours</th>\n",
       "      <th>product_id</th>\n",
       "      <th>text</th>\n",
       "      <th>user_id</th>\n",
       "      <th>cleaned_text</th>\n",
       "      <th>polarity</th>\n",
       "      <th>rating</th>\n",
       "      <th>hr_factor</th>\n",
       "      <th>hr_rating</th>\n",
       "      <th>minimo</th>\n",
       "      <th>maximo</th>\n",
       "    </tr>\n",
       "  </thead>\n",
       "  <tbody>\n",
       "    <tr>\n",
       "      <th>473547</th>\n",
       "      <td>Grievous</td>\n",
       "      <td>17.8000</td>\n",
       "      <td>16450</td>\n",
       "      <td>the game is really good, action is a little re...</td>\n",
       "      <td>139371</td>\n",
       "      <td>game really good action little repetitive neve...</td>\n",
       "      <td>0.8410</td>\n",
       "      <td>4.6025</td>\n",
       "      <td>0.4686</td>\n",
       "      <td>4.1362</td>\n",
       "      <td>0.0000</td>\n",
       "      <td>24.2400</td>\n",
       "    </tr>\n",
       "    <tr>\n",
       "      <th>603624</th>\n",
       "      <td>[Kacho]</td>\n",
       "      <td>5.1000</td>\n",
       "      <td>335670</td>\n",
       "      <td>A difficult to complete indie RPG, LISA is dar...</td>\n",
       "      <td>393710</td>\n",
       "      <td>difficult complete indie RPG LISA dark humouro...</td>\n",
       "      <td>0.6801</td>\n",
       "      <td>4.2003</td>\n",
       "      <td>-0.8014</td>\n",
       "      <td>2.3455</td>\n",
       "      <td>0.0000</td>\n",
       "      <td>51.3700</td>\n",
       "    </tr>\n",
       "    <tr>\n",
       "      <th>604503</th>\n",
       "      <td>RON STAUHP</td>\n",
       "      <td>103.9000</td>\n",
       "      <td>231430</td>\n",
       "      <td>9/10 A lot of fun to play</td>\n",
       "      <td>273770</td>\n",
       "      <td>lot fun play</td>\n",
       "      <td>0.6908</td>\n",
       "      <td>4.2270</td>\n",
       "      <td>-0.7656</td>\n",
       "      <td>2.4037</td>\n",
       "      <td>0.0000</td>\n",
       "      <td>886.7000</td>\n",
       "    </tr>\n",
       "    <tr>\n",
       "      <th>713978</th>\n",
       "      <td>--= S.E.N.A.T.O.R =--</td>\n",
       "      <td>1.9000</td>\n",
       "      <td>274190</td>\n",
       "      <td>what a nice game</td>\n",
       "      <td>2723</td>\n",
       "      <td>nice game</td>\n",
       "      <td>0.4215</td>\n",
       "      <td>3.5537</td>\n",
       "      <td>-0.9361</td>\n",
       "      <td>1.8534</td>\n",
       "      <td>0.0000</td>\n",
       "      <td>59.5000</td>\n",
       "    </tr>\n",
       "    <tr>\n",
       "      <th>648267</th>\n",
       "      <td>Nightwing6400</td>\n",
       "      <td>6.6000</td>\n",
       "      <td>17410</td>\n",
       "      <td>This is the BEST parkor game I have ever playe...</td>\n",
       "      <td>241916</td>\n",
       "      <td>This BEST parkor game ever played This game ru...</td>\n",
       "      <td>0.9304</td>\n",
       "      <td>4.8260</td>\n",
       "      <td>-0.5642</td>\n",
       "      <td>2.9556</td>\n",
       "      <td>0.0000</td>\n",
       "      <td>30.2900</td>\n",
       "    </tr>\n",
       "  </tbody>\n",
       "</table>\n",
       "</div>"
      ],
      "text/plain": [
       "                     username    hours  product_id  \\\n",
       "473547               Grievous  17.8000       16450   \n",
       "603624                [Kacho]   5.1000      335670   \n",
       "604503             RON STAUHP 103.9000      231430   \n",
       "713978  --= S.E.N.A.T.O.R =--   1.9000      274190   \n",
       "648267          Nightwing6400   6.6000       17410   \n",
       "\n",
       "                                                     text  user_id  \\\n",
       "473547  the game is really good, action is a little re...   139371   \n",
       "603624  A difficult to complete indie RPG, LISA is dar...   393710   \n",
       "604503                          9/10 A lot of fun to play   273770   \n",
       "713978                                   what a nice game     2723   \n",
       "648267  This is the BEST parkor game I have ever playe...   241916   \n",
       "\n",
       "                                             cleaned_text  polarity  rating  \\\n",
       "473547  game really good action little repetitive neve...    0.8410  4.6025   \n",
       "603624  difficult complete indie RPG LISA dark humouro...    0.6801  4.2003   \n",
       "604503                                       lot fun play    0.6908  4.2270   \n",
       "713978                                          nice game    0.4215  3.5537   \n",
       "648267  This BEST parkor game ever played This game ru...    0.9304  4.8260   \n",
       "\n",
       "        hr_factor  hr_rating  minimo   maximo  \n",
       "473547     0.4686     4.1362  0.0000  24.2400  \n",
       "603624    -0.8014     2.3455  0.0000  51.3700  \n",
       "604503    -0.7656     2.4037  0.0000 886.7000  \n",
       "713978    -0.9361     1.8534  0.0000  59.5000  \n",
       "648267    -0.5642     2.9556  0.0000  30.2900  "
      ]
     },
     "execution_count": 262,
     "metadata": {},
     "output_type": "execute_result"
    }
   ],
   "source": [
    "# Creamos una columns de Rating entre 0 y 5, escalando la columna 'polarity'\n",
    "column=df_reviews[['polarity']]\n",
    "scaler = MinMaxScaler(feature_range=(0,5))\n",
    "df_reviews['rating'] = scaler.fit_transform(column)\n",
    "# df_reviews['rating'] = round(df_reviews['rating'] * 4) / 4\n",
    "df_reviews.loc[rand_list]"
   ]
  },
  {
   "cell_type": "code",
   "execution_count": 263,
   "metadata": {},
   "outputs": [
    {
     "data": {
      "text/html": [
       "<pre>✔️ 16 ms (2021-09-27T23:07:43/2021-09-27T23:07:43)</pre>"
      ],
      "text/plain": [
       "<IPython.core.display.HTML object>"
      ]
     },
     "metadata": {},
     "output_type": "display_data"
    },
    {
     "data": {
      "text/html": [
       "<div>\n",
       "<style scoped>\n",
       "    .dataframe tbody tr th:only-of-type {\n",
       "        vertical-align: middle;\n",
       "    }\n",
       "\n",
       "    .dataframe tbody tr th {\n",
       "        vertical-align: top;\n",
       "    }\n",
       "\n",
       "    .dataframe thead th {\n",
       "        text-align: right;\n",
       "    }\n",
       "</style>\n",
       "<table border=\"1\" class=\"dataframe\">\n",
       "  <thead>\n",
       "    <tr style=\"text-align: right;\">\n",
       "      <th></th>\n",
       "      <th>username</th>\n",
       "      <th>hours</th>\n",
       "      <th>product_id</th>\n",
       "      <th>text</th>\n",
       "      <th>user_id</th>\n",
       "      <th>cleaned_text</th>\n",
       "      <th>polarity</th>\n",
       "      <th>rating</th>\n",
       "      <th>hr_factor</th>\n",
       "      <th>hr_rating</th>\n",
       "      <th>minimo</th>\n",
       "      <th>maximo</th>\n",
       "    </tr>\n",
       "  </thead>\n",
       "  <tbody>\n",
       "    <tr>\n",
       "      <th>473547</th>\n",
       "      <td>Grievous</td>\n",
       "      <td>17.8000</td>\n",
       "      <td>16450</td>\n",
       "      <td>the game is really good, action is a little re...</td>\n",
       "      <td>139371</td>\n",
       "      <td>game really good action little repetitive neve...</td>\n",
       "      <td>0.8410</td>\n",
       "      <td>4.6025</td>\n",
       "      <td>0.4686</td>\n",
       "      <td>4.1362</td>\n",
       "      <td>0.0000</td>\n",
       "      <td>24.2400</td>\n",
       "    </tr>\n",
       "    <tr>\n",
       "      <th>603624</th>\n",
       "      <td>[Kacho]</td>\n",
       "      <td>5.1000</td>\n",
       "      <td>335670</td>\n",
       "      <td>A difficult to complete indie RPG, LISA is dar...</td>\n",
       "      <td>393710</td>\n",
       "      <td>difficult complete indie RPG LISA dark humouro...</td>\n",
       "      <td>0.6801</td>\n",
       "      <td>4.2003</td>\n",
       "      <td>-0.8014</td>\n",
       "      <td>2.3455</td>\n",
       "      <td>0.0000</td>\n",
       "      <td>51.3700</td>\n",
       "    </tr>\n",
       "    <tr>\n",
       "      <th>604503</th>\n",
       "      <td>RON STAUHP</td>\n",
       "      <td>103.9000</td>\n",
       "      <td>231430</td>\n",
       "      <td>9/10 A lot of fun to play</td>\n",
       "      <td>273770</td>\n",
       "      <td>lot fun play</td>\n",
       "      <td>0.6908</td>\n",
       "      <td>4.2270</td>\n",
       "      <td>-0.7656</td>\n",
       "      <td>2.4037</td>\n",
       "      <td>0.0000</td>\n",
       "      <td>886.7000</td>\n",
       "    </tr>\n",
       "    <tr>\n",
       "      <th>713978</th>\n",
       "      <td>--= S.E.N.A.T.O.R =--</td>\n",
       "      <td>1.9000</td>\n",
       "      <td>274190</td>\n",
       "      <td>what a nice game</td>\n",
       "      <td>2723</td>\n",
       "      <td>nice game</td>\n",
       "      <td>0.4215</td>\n",
       "      <td>3.5537</td>\n",
       "      <td>-0.9361</td>\n",
       "      <td>1.8534</td>\n",
       "      <td>0.0000</td>\n",
       "      <td>59.5000</td>\n",
       "    </tr>\n",
       "    <tr>\n",
       "      <th>648267</th>\n",
       "      <td>Nightwing6400</td>\n",
       "      <td>6.6000</td>\n",
       "      <td>17410</td>\n",
       "      <td>This is the BEST parkor game I have ever playe...</td>\n",
       "      <td>241916</td>\n",
       "      <td>This BEST parkor game ever played This game ru...</td>\n",
       "      <td>0.9304</td>\n",
       "      <td>4.8260</td>\n",
       "      <td>-0.5642</td>\n",
       "      <td>2.9556</td>\n",
       "      <td>0.0000</td>\n",
       "      <td>30.2900</td>\n",
       "    </tr>\n",
       "  </tbody>\n",
       "</table>\n",
       "</div>"
      ],
      "text/plain": [
       "                     username    hours  product_id  \\\n",
       "473547               Grievous  17.8000       16450   \n",
       "603624                [Kacho]   5.1000      335670   \n",
       "604503             RON STAUHP 103.9000      231430   \n",
       "713978  --= S.E.N.A.T.O.R =--   1.9000      274190   \n",
       "648267          Nightwing6400   6.6000       17410   \n",
       "\n",
       "                                                     text  user_id  \\\n",
       "473547  the game is really good, action is a little re...   139371   \n",
       "603624  A difficult to complete indie RPG, LISA is dar...   393710   \n",
       "604503                          9/10 A lot of fun to play   273770   \n",
       "713978                                   what a nice game     2723   \n",
       "648267  This is the BEST parkor game I have ever playe...   241916   \n",
       "\n",
       "                                             cleaned_text  polarity  rating  \\\n",
       "473547  game really good action little repetitive neve...    0.8410  4.6025   \n",
       "603624  difficult complete indie RPG LISA dark humouro...    0.6801  4.2003   \n",
       "604503                                       lot fun play    0.6908  4.2270   \n",
       "713978                                          nice game    0.4215  3.5537   \n",
       "648267  This BEST parkor game ever played This game ru...    0.9304  4.8260   \n",
       "\n",
       "        hr_factor  hr_rating  minimo   maximo  \n",
       "473547     0.4686     4.1362  0.0000  24.2400  \n",
       "603624    -0.8014     2.3455  0.0000  51.3700  \n",
       "604503    -0.7656     2.4037  0.0000 886.7000  \n",
       "713978    -0.9361     1.8534  0.0000  59.5000  \n",
       "648267    -0.5642     2.9556  0.0000  30.2900  "
      ]
     },
     "execution_count": 263,
     "metadata": {},
     "output_type": "execute_result"
    }
   ],
   "source": [
    "# Mostramos el dataset limpio\n",
    "df_reviews.loc[rand_list]"
   ]
  },
  {
   "cell_type": "code",
   "execution_count": 264,
   "metadata": {},
   "outputs": [
    {
     "data": {
      "text/html": [
       "<pre>✔️ 422 ms (2021-09-27T23:07:44/2021-09-27T23:07:44)</pre>"
      ],
      "text/plain": [
       "<IPython.core.display.HTML object>"
      ]
     },
     "metadata": {},
     "output_type": "display_data"
    },
    {
     "data": {
      "image/png": "[encoded data removed]",
      "text/plain": [
       "<Figure size 504x216 with 1 Axes>"
      ]
     },
     "metadata": {},
     "output_type": "display_data"
    }
   ],
   "source": [
    "# Finalmente observamos la distribucion\n",
    "plt.figure(figsize=(7,3))\n",
    "sns.histplot(data=df_reviews, x='rating', color='green', label='rating', bins=50)\n",
    "plt.title('Histograma de Rating por review')\n",
    "# plt.legend()\n",
    "plt.ylabel('Cantidad de reviews')\n",
    "plt.xlabel('Rating')\n",
    "plt.xticks(rotation=0)\n",
    "plt.show()"
   ]
  },
  {
   "cell_type": "code",
   "execution_count": 265,
   "metadata": {},
   "outputs": [
    {
     "data": {
      "text/html": [
       "<pre>✔️ 1 s (2021-09-27T23:07:44/2021-09-27T23:07:45)</pre>"
      ],
      "text/plain": [
       "<IPython.core.display.HTML object>"
      ]
     },
     "metadata": {},
     "output_type": "display_data"
    },
    {
     "data": {
      "text/html": [
       "<div>\n",
       "<style scoped>\n",
       "    .dataframe tbody tr th:only-of-type {\n",
       "        vertical-align: middle;\n",
       "    }\n",
       "\n",
       "    .dataframe tbody tr th {\n",
       "        vertical-align: top;\n",
       "    }\n",
       "\n",
       "    .dataframe thead th {\n",
       "        text-align: right;\n",
       "    }\n",
       "</style>\n",
       "<table border=\"1\" class=\"dataframe\">\n",
       "  <thead>\n",
       "    <tr style=\"text-align: right;\">\n",
       "      <th></th>\n",
       "      <th>user_id</th>\n",
       "      <th>count</th>\n",
       "    </tr>\n",
       "  </thead>\n",
       "  <tbody>\n",
       "    <tr>\n",
       "      <th>0</th>\n",
       "      <td>5463</td>\n",
       "      <td>213</td>\n",
       "    </tr>\n",
       "    <tr>\n",
       "      <th>1</th>\n",
       "      <td>19181</td>\n",
       "      <td>190</td>\n",
       "    </tr>\n",
       "    <tr>\n",
       "      <th>2</th>\n",
       "      <td>65614</td>\n",
       "      <td>155</td>\n",
       "    </tr>\n",
       "    <tr>\n",
       "      <th>3</th>\n",
       "      <td>240931</td>\n",
       "      <td>143</td>\n",
       "    </tr>\n",
       "    <tr>\n",
       "      <th>4</th>\n",
       "      <td>215286</td>\n",
       "      <td>137</td>\n",
       "    </tr>\n",
       "  </tbody>\n",
       "</table>\n",
       "</div>"
      ],
      "text/plain": [
       "   user_id  count\n",
       "0     5463    213\n",
       "1    19181    190\n",
       "2    65614    155\n",
       "3   240931    143\n",
       "4   215286    137"
      ]
     },
     "execution_count": 265,
     "metadata": {},
     "output_type": "execute_result"
    }
   ],
   "source": [
    "reviews_count = df_reviews.groupby('user_id').count().text.sort_values(ascending=False).reset_index().rename(columns={'text':'count'})\n",
    "reviews_count.head()"
   ]
  },
  {
   "cell_type": "code",
   "execution_count": 266,
   "metadata": {},
   "outputs": [
    {
     "data": {
      "text/html": [
       "<pre>✔️ 78 ms (2021-09-27T23:07:45/2021-09-27T23:07:45)</pre>"
      ],
      "text/plain": [
       "<IPython.core.display.HTML object>"
      ]
     },
     "metadata": {},
     "output_type": "display_data"
    },
    {
     "data": {
      "text/html": [
       "<div>\n",
       "<style scoped>\n",
       "    .dataframe tbody tr th:only-of-type {\n",
       "        vertical-align: middle;\n",
       "    }\n",
       "\n",
       "    .dataframe tbody tr th {\n",
       "        vertical-align: top;\n",
       "    }\n",
       "\n",
       "    .dataframe thead th {\n",
       "        text-align: right;\n",
       "    }\n",
       "</style>\n",
       "<table border=\"1\" class=\"dataframe\">\n",
       "  <thead>\n",
       "    <tr style=\"text-align: right;\">\n",
       "      <th></th>\n",
       "      <th>product_id</th>\n",
       "      <th>count</th>\n",
       "      <th>rating_mean</th>\n",
       "    </tr>\n",
       "  </thead>\n",
       "  <tbody>\n",
       "    <tr>\n",
       "      <th>0</th>\n",
       "      <td>430930</td>\n",
       "      <td>1</td>\n",
       "      <td>4.9990</td>\n",
       "    </tr>\n",
       "    <tr>\n",
       "      <th>1</th>\n",
       "      <td>486810</td>\n",
       "      <td>1</td>\n",
       "      <td>4.9985</td>\n",
       "    </tr>\n",
       "    <tr>\n",
       "      <th>2</th>\n",
       "      <td>410370</td>\n",
       "      <td>1</td>\n",
       "      <td>4.9983</td>\n",
       "    </tr>\n",
       "    <tr>\n",
       "      <th>3</th>\n",
       "      <td>551520</td>\n",
       "      <td>1</td>\n",
       "      <td>4.9977</td>\n",
       "    </tr>\n",
       "    <tr>\n",
       "      <th>4</th>\n",
       "      <td>505070</td>\n",
       "      <td>1</td>\n",
       "      <td>4.9975</td>\n",
       "    </tr>\n",
       "    <tr>\n",
       "      <th>...</th>\n",
       "      <td>...</td>\n",
       "      <td>...</td>\n",
       "      <td>...</td>\n",
       "    </tr>\n",
       "    <tr>\n",
       "      <th>12660</th>\n",
       "      <td>446250</td>\n",
       "      <td>1</td>\n",
       "      <td>0.0112</td>\n",
       "    </tr>\n",
       "    <tr>\n",
       "      <th>12661</th>\n",
       "      <td>661590</td>\n",
       "      <td>1</td>\n",
       "      <td>0.0107</td>\n",
       "    </tr>\n",
       "    <tr>\n",
       "      <th>12662</th>\n",
       "      <td>607700</td>\n",
       "      <td>1</td>\n",
       "      <td>0.0107</td>\n",
       "    </tr>\n",
       "    <tr>\n",
       "      <th>12663</th>\n",
       "      <td>675720</td>\n",
       "      <td>1</td>\n",
       "      <td>0.0055</td>\n",
       "    </tr>\n",
       "    <tr>\n",
       "      <th>12664</th>\n",
       "      <td>732290</td>\n",
       "      <td>1</td>\n",
       "      <td>0.0030</td>\n",
       "    </tr>\n",
       "  </tbody>\n",
       "</table>\n",
       "<p>12665 rows × 3 columns</p>\n",
       "</div>"
      ],
      "text/plain": [
       "       product_id  count  rating_mean\n",
       "0          430930      1       4.9990\n",
       "1          486810      1       4.9985\n",
       "2          410370      1       4.9983\n",
       "3          551520      1       4.9977\n",
       "4          505070      1       4.9975\n",
       "...           ...    ...          ...\n",
       "12660      446250      1       0.0112\n",
       "12661      661590      1       0.0107\n",
       "12662      607700      1       0.0107\n",
       "12663      675720      1       0.0055\n",
       "12664      732290      1       0.0030\n",
       "\n",
       "[12665 rows x 3 columns]"
      ]
     },
     "execution_count": 266,
     "metadata": {},
     "output_type": "execute_result"
    }
   ],
   "source": [
    "df_ratings = df_reviews.groupby('product_id').agg({'rating':['count','mean']}).reset_index()\n",
    "df_ratings.columns = ['product_id', 'count', 'rating_mean']\n",
    "df_ratings.sort_values(by='rating_mean', ascending=False, inplace=True)\n",
    "df_ratings.reset_index(inplace=True, drop=True)\n",
    "df_ratings"
   ]
  },
  {
   "cell_type": "code",
   "execution_count": 267,
   "metadata": {},
   "outputs": [
    {
     "data": {
      "text/html": [
       "<pre>✔️ 703 ms (2021-09-27T23:07:45/2021-09-27T23:07:46)</pre>"
      ],
      "text/plain": [
       "<IPython.core.display.HTML object>"
      ]
     },
     "metadata": {},
     "output_type": "display_data"
    },
    {
     "data": {
      "image/png": "[encoded data removed]",
      "text/plain": [
       "<Figure size 504x144 with 1 Axes>"
      ]
     },
     "metadata": {},
     "output_type": "display_data"
    },
    {
     "data": {
      "image/png": "[encoded data removed]",
      "text/plain": [
       "<Figure size 432x288 with 2 Axes>"
      ]
     },
     "metadata": {},
     "output_type": "display_data"
    }
   ],
   "source": [
    "df_ratings.sort_values(by='rating_mean', ascending=False, inplace=True)\n",
    "df_ratings.reset_index(inplace=True, drop=True)\n",
    "df_filter = df_ratings[df_ratings['count'] >= 1]\n",
    "\n",
    "plt.figure(figsize=(7,2))\n",
    "sns.histplot(data=df_filter, x='rating_mean', bins=50)\n",
    "plt.ylabel('Cantidad de juegos')\n",
    "plt.xlabel('Rating')\n",
    "plt.xticks(rotation=90)\n",
    "plt.xlim(0,5)\n",
    "plt.show()\n",
    "\n",
    "x = df_filter.index\n",
    "y1 = df_filter['count']\n",
    "y2 = df_filter['rating_mean']\n",
    "\n",
    "fig, ax1 = plt.subplots()\n",
    "\n",
    "ax2 = ax1.twinx()\n",
    "ax1.plot(x, y1, 'g-')\n",
    "ax2.plot(x, y2, 'b-')\n",
    "\n",
    "ax1.set_xlabel('Juego')\n",
    "ax1.set_ylabel('Cantidad de juegos', color='g')\n",
    "ax2.set_ylabel('Rating', color='b')\n",
    "\n",
    "plt.show()"
   ]
  },
  {
   "cell_type": "code",
   "execution_count": 268,
   "metadata": {},
   "outputs": [
    {
     "data": {
      "text/html": [
       "<pre>✔️ 2.81 s (2021-09-27T23:07:46/2021-09-27T23:07:49)</pre>"
      ],
      "text/plain": [
       "<IPython.core.display.HTML object>"
      ]
     },
     "metadata": {},
     "output_type": "display_data"
    },
    {
     "data": {
      "text/html": [
       "<div>\n",
       "<style scoped>\n",
       "    .dataframe tbody tr th:only-of-type {\n",
       "        vertical-align: middle;\n",
       "    }\n",
       "\n",
       "    .dataframe tbody tr th {\n",
       "        vertical-align: top;\n",
       "    }\n",
       "\n",
       "    .dataframe thead th {\n",
       "        text-align: right;\n",
       "    }\n",
       "</style>\n",
       "<table border=\"1\" class=\"dataframe\">\n",
       "  <thead>\n",
       "    <tr style=\"text-align: right;\">\n",
       "      <th></th>\n",
       "      <th>cleaned_text</th>\n",
       "      <th>rating</th>\n",
       "    </tr>\n",
       "    <tr>\n",
       "      <th>cleaned_text</th>\n",
       "      <th></th>\n",
       "      <th></th>\n",
       "    </tr>\n",
       "  </thead>\n",
       "  <tbody>\n",
       "    <tr>\n",
       "      <th></th>\n",
       "      <td>15434</td>\n",
       "      <td>2.5000</td>\n",
       "    </tr>\n",
       "    <tr>\n",
       "      <th>ADDICTING</th>\n",
       "      <td>6</td>\n",
       "      <td>2.5000</td>\n",
       "    </tr>\n",
       "    <tr>\n",
       "      <th>ADDICTIVE</th>\n",
       "      <td>4</td>\n",
       "      <td>2.5000</td>\n",
       "    </tr>\n",
       "    <tr>\n",
       "      <th>AMAZIN</th>\n",
       "      <td>5</td>\n",
       "      <td>2.5000</td>\n",
       "    </tr>\n",
       "    <tr>\n",
       "      <th>AMAZING</th>\n",
       "      <td>161</td>\n",
       "      <td>3.9647</td>\n",
       "    </tr>\n",
       "    <tr>\n",
       "      <th>...</th>\n",
       "      <td>...</td>\n",
       "      <td>...</td>\n",
       "    </tr>\n",
       "    <tr>\n",
       "      <th>yus</th>\n",
       "      <td>4</td>\n",
       "      <td>2.5000</td>\n",
       "    </tr>\n",
       "    <tr>\n",
       "      <th>zel</th>\n",
       "      <td>5</td>\n",
       "      <td>2.5000</td>\n",
       "    </tr>\n",
       "    <tr>\n",
       "      <th>zel oyun</th>\n",
       "      <td>6</td>\n",
       "      <td>2.5000</td>\n",
       "    </tr>\n",
       "    <tr>\n",
       "      <th>zombies</th>\n",
       "      <td>7</td>\n",
       "      <td>2.5000</td>\n",
       "    </tr>\n",
       "    <tr>\n",
       "      <th>zzz</th>\n",
       "      <td>5</td>\n",
       "      <td>1.7600</td>\n",
       "    </tr>\n",
       "  </tbody>\n",
       "</table>\n",
       "<p>2995 rows × 2 columns</p>\n",
       "</div>"
      ],
      "text/plain": [
       "              cleaned_text  rating\n",
       "cleaned_text                      \n",
       "                     15434  2.5000\n",
       "ADDICTING                6  2.5000\n",
       "ADDICTIVE                4  2.5000\n",
       "AMAZIN                   5  2.5000\n",
       "AMAZING                161  3.9647\n",
       "...                    ...     ...\n",
       "yus                      4  2.5000\n",
       "zel                      5  2.5000\n",
       "zel oyun                 6  2.5000\n",
       "zombies                  7  2.5000\n",
       "zzz                      5  1.7600\n",
       "\n",
       "[2995 rows x 2 columns]"
      ]
     },
     "execution_count": 268,
     "metadata": {},
     "output_type": "execute_result"
    }
   ],
   "source": [
    "df_rep = df_reviews.groupby('cleaned_text').agg({'cleaned_text':'count','rating':'mean'})\n",
    "df_rep[df_rep.cleaned_text > 3]\n",
    "# df_reviews[df_reviews.cleaned_text == 'addictive']"
   ]
  },
  {
   "cell_type": "code",
   "execution_count": 269,
   "metadata": {},
   "outputs": [
    {
     "data": {
      "text/html": [
       "<pre>✔️ 0 ns (2021-09-27T23:07:49/2021-09-27T23:07:49)</pre>"
      ],
      "text/plain": [
       "<IPython.core.display.HTML object>"
      ]
     },
     "metadata": {},
     "output_type": "display_data"
    },
    {
     "data": {
      "text/plain": [
       "(779307, 12)"
      ]
     },
     "execution_count": 269,
     "metadata": {},
     "output_type": "execute_result"
    }
   ],
   "source": [
    "df_reviews.shape"
   ]
  },
  {
   "cell_type": "markdown",
   "metadata": {},
   "source": [
    "## Filtro Colaborativo a partir de descomposición UV"
   ]
  },
  {
   "cell_type": "markdown",
   "metadata": {},
   "source": [
    "#### Dataset y Train/Test Split"
   ]
  },
  {
   "cell_type": "code",
   "execution_count": 270,
   "metadata": {},
   "outputs": [
    {
     "data": {
      "text/html": [
       "<pre>✔️ 2.84 s (2021-09-27T23:11:14/2021-09-27T23:11:17)</pre>"
      ],
      "text/plain": [
       "<IPython.core.display.HTML object>"
      ]
     },
     "metadata": {},
     "output_type": "display_data"
    }
   ],
   "source": [
    "reader = Reader()\n",
    "data = Dataset.load_from_df(df_reviews[['user_id', 'product_id', 'rating']], reader)\n",
    "trainset, testset = train_test_split(data, random_state=42, test_size=.3)"
   ]
  },
  {
   "cell_type": "markdown",
   "metadata": {},
   "source": [
    "#### Entrenamiento"
   ]
  },
  {
   "cell_type": "code",
   "execution_count": 271,
   "metadata": {},
   "outputs": [
    {
     "data": {
      "text/html": [
       "<pre>✔️ 0 ns (2021-09-27T23:11:17/2021-09-27T23:11:17)</pre>"
      ],
      "text/plain": [
       "<IPython.core.display.HTML object>"
      ]
     },
     "metadata": {},
     "output_type": "display_data"
    }
   ],
   "source": [
    "from surprise import SVD, SVDpp, SlopeOne, BaselineOnly\n",
    "algo = SVD()"
   ]
  },
  {
   "cell_type": "code",
   "execution_count": 272,
   "metadata": {},
   "outputs": [
    {
     "data": {
      "text/html": [
       "<pre>✔️ 42.1 s (2021-09-27T23:11:18/2021-09-27T23:12:00)</pre>"
      ],
      "text/plain": [
       "<IPython.core.display.HTML object>"
      ]
     },
     "metadata": {},
     "output_type": "display_data"
    },
    {
     "data": {
      "text/plain": [
       "<surprise.prediction_algorithms.matrix_factorization.SVD at 0x1f0ee7840a0>"
      ]
     },
     "execution_count": 272,
     "metadata": {},
     "output_type": "execute_result"
    }
   ],
   "source": [
    "algo.fit(trainset)"
   ]
  },
  {
   "cell_type": "code",
   "execution_count": 273,
   "metadata": {},
   "outputs": [
    {
     "data": {
      "text/html": [
       "<pre>✔️ 5.88 s (2021-09-27T23:12:00/2021-09-27T23:12:06)</pre>"
      ],
      "text/plain": [
       "<IPython.core.display.HTML object>"
      ]
     },
     "metadata": {},
     "output_type": "display_data"
    }
   ],
   "source": [
    "predictions = algo.test(testset)"
   ]
  },
  {
   "cell_type": "code",
   "execution_count": 274,
   "metadata": {},
   "outputs": [
    {
     "data": {
      "text/html": [
       "<pre>✔️ 578 ms (2021-09-27T23:12:06/2021-09-27T23:12:06)</pre>"
      ],
      "text/plain": [
       "<IPython.core.display.HTML object>"
      ]
     },
     "metadata": {},
     "output_type": "display_data"
    },
    {
     "name": "stdout",
     "output_type": "stream",
     "text": [
      "MAE:  1.0378\n",
      "RMSE: 1.2684\n"
     ]
    },
    {
     "data": {
      "text/plain": [
       "1.2684478291318395"
      ]
     },
     "execution_count": 274,
     "metadata": {},
     "output_type": "execute_result"
    }
   ],
   "source": [
    "accuracy.mae(predictions)\n",
    "accuracy.rmse(predictions)"
   ]
  },
  {
   "cell_type": "markdown",
   "metadata": {},
   "source": [
    "#### Optimizacion del Modelo"
   ]
  },
  {
   "cell_type": "markdown",
   "metadata": {},
   "source": [
    "##### Optimizacion con Grid Search"
   ]
  },
  {
   "cell_type": "code",
   "execution_count": 71,
   "metadata": {},
   "outputs": [
    {
     "data": {
      "text/html": [
       "<pre>✔️ 4 min 2 s (2021-09-27T21:59:21/2021-09-27T22:03:23)</pre>"
      ],
      "text/plain": [
       "<IPython.core.display.HTML object>"
      ]
     },
     "metadata": {},
     "output_type": "display_data"
    },
    {
     "name": "stderr",
     "output_type": "stream",
     "text": [
      "[Parallel(n_jobs=-1)]: Using backend LokyBackend with 8 concurrent workers.\n",
      "[Parallel(n_jobs=-1)]: Done   2 tasks      | elapsed:   37.6s\n",
      "[Parallel(n_jobs=-1)]: Done   9 tasks      | elapsed:  1.5min\n",
      "[Parallel(n_jobs=-1)]: Done  19 out of  30 | elapsed:  2.7min remaining:  1.6min\n",
      "[Parallel(n_jobs=-1)]: Done  23 out of  30 | elapsed:  3.4min remaining:  1.0min\n",
      "[Parallel(n_jobs=-1)]: Done  27 out of  30 | elapsed:  3.8min remaining:   25.0s\n",
      "[Parallel(n_jobs=-1)]: Done  30 out of  30 | elapsed:  3.9min finished\n"
     ]
    }
   ],
   "source": [
    "param_grid = {'n_factors': [5,50,100,150],\n",
    "              'n_epochs': [5,10,20],\n",
    "              'lr_all': [0.001,0.002,0.005],\n",
    "              'reg_all': [0.002,0.02,0.2]}\n",
    "\n",
    "gs = RandomizedSearchCV(SVD,\n",
    "                  param_grid,\n",
    "                  measures=['rmse'],\n",
    "                  cv=3,\n",
    "                  n_jobs = -1,\n",
    "                  joblib_verbose =10)\n",
    "\n",
    "gs.fit(data)"
   ]
  },
  {
   "cell_type": "code",
   "execution_count": 72,
   "metadata": {},
   "outputs": [
    {
     "data": {
      "text/html": [
       "<pre>✔️ 0 ns (2021-09-27T22:03:24/2021-09-27T22:03:24)</pre>"
      ],
      "text/plain": [
       "<IPython.core.display.HTML object>"
      ]
     },
     "metadata": {},
     "output_type": "display_data"
    },
    {
     "name": "stdout",
     "output_type": "stream",
     "text": [
      "1.2656191356494435\n",
      "{'n_factors': 5, 'n_epochs': 20, 'lr_all': 0.005, 'reg_all': 0.2}\n"
     ]
    }
   ],
   "source": [
    "print(gs.best_score['rmse'])\n",
    "print(gs.best_params['rmse'])"
   ]
  },
  {
   "cell_type": "markdown",
   "metadata": {},
   "source": [
    "### Optmizacion del Rating"
   ]
  },
  {
   "cell_type": "markdown",
   "metadata": {},
   "source": [
    "Una forma de mejorar la performance del modelo seria mejorar la calidad de los datos.\n",
    "Debido a que contamos con la informacion del tiempo dedicado a cada juego por parte de cada jugador, podriamos inferir que cuanto mas tiempo le ha didcado el usuario al juego en cuestion, mas interes y por ende mayor preferencia por el juego representa.\n",
    "Por todo esto, podriamos cuantificar las horas dedicadas a jugar dentro del rating: a mayor cantidad de tiempo, se le agregara un plus al rating calculado en base al comentario."
   ]
  },
  {
   "cell_type": "code",
   "execution_count": 73,
   "metadata": {},
   "outputs": [
    {
     "data": {
      "text/html": [
       "<pre>✔️ 15 ms (2021-09-27T22:03:24/2021-09-27T22:03:24)</pre>"
      ],
      "text/plain": [
       "<IPython.core.display.HTML object>"
      ]
     },
     "metadata": {},
     "output_type": "display_data"
    },
    {
     "data": {
      "text/html": [
       "<div>\n",
       "<style scoped>\n",
       "    .dataframe tbody tr th:only-of-type {\n",
       "        vertical-align: middle;\n",
       "    }\n",
       "\n",
       "    .dataframe tbody tr th {\n",
       "        vertical-align: top;\n",
       "    }\n",
       "\n",
       "    .dataframe thead th {\n",
       "        text-align: right;\n",
       "    }\n",
       "</style>\n",
       "<table border=\"1\" class=\"dataframe\">\n",
       "  <thead>\n",
       "    <tr style=\"text-align: right;\">\n",
       "      <th></th>\n",
       "      <th>username</th>\n",
       "      <th>hours</th>\n",
       "      <th>product_id</th>\n",
       "      <th>text</th>\n",
       "      <th>user_id</th>\n",
       "      <th>cleaned_text</th>\n",
       "      <th>polarity</th>\n",
       "      <th>rating</th>\n",
       "    </tr>\n",
       "  </thead>\n",
       "  <tbody>\n",
       "    <tr>\n",
       "      <th>0</th>\n",
       "      <td>Chaos Syren</td>\n",
       "      <td>0.1000</td>\n",
       "      <td>725280</td>\n",
       "      <td>This would not be acceptable as an entertainme...</td>\n",
       "      <td>62543</td>\n",
       "      <td>This would acceptable entertainment even back ...</td>\n",
       "      <td>0.7506</td>\n",
       "      <td>4.3765</td>\n",
       "    </tr>\n",
       "    <tr>\n",
       "      <th>1</th>\n",
       "      <td>Ariman1</td>\n",
       "      <td>13.2000</td>\n",
       "      <td>328100</td>\n",
       "      <td>Addictive RPG ! Works fine on linux though it ...</td>\n",
       "      <td>26902</td>\n",
       "      <td>Addictive RPG Works fine linux though minor bu...</td>\n",
       "      <td>0.2023</td>\n",
       "      <td>3.0057</td>\n",
       "    </tr>\n",
       "    <tr>\n",
       "      <th>2</th>\n",
       "      <td>freakfantom</td>\n",
       "      <td>0.1000</td>\n",
       "      <td>725280</td>\n",
       "      <td>Прикольная стрелялка. Взял дешево на распродаже.</td>\n",
       "      <td>434604</td>\n",
       "      <td>Прикольная стрелялка Взял дешево распродаже</td>\n",
       "      <td>0.0000</td>\n",
       "      <td>2.5000</td>\n",
       "    </tr>\n",
       "    <tr>\n",
       "      <th>3</th>\n",
       "      <td>The_Cpt_FROGGY</td>\n",
       "      <td>7.8000</td>\n",
       "      <td>631920</td>\n",
       "      <td>Somewhere on Zibylon:\\n~~~~~~~~~~~~~~~~~~\\nZib...</td>\n",
       "      <td>347904</td>\n",
       "      <td>Somewhere Zibylon Zibylon command centre read ...</td>\n",
       "      <td>0.9729</td>\n",
       "      <td>4.9322</td>\n",
       "    </tr>\n",
       "    <tr>\n",
       "      <th>4</th>\n",
       "      <td>the_maker988</td>\n",
       "      <td>8.2000</td>\n",
       "      <td>35140</td>\n",
       "      <td>This game was way to linear for me, and compar...</td>\n",
       "      <td>503851</td>\n",
       "      <td>This game way linear compared others good For ...</td>\n",
       "      <td>0.5859</td>\n",
       "      <td>3.9647</td>\n",
       "    </tr>\n",
       "  </tbody>\n",
       "</table>\n",
       "</div>"
      ],
      "text/plain": [
       "         username   hours  product_id  \\\n",
       "0     Chaos Syren  0.1000      725280   \n",
       "1         Ariman1 13.2000      328100   \n",
       "2     freakfantom  0.1000      725280   \n",
       "3  The_Cpt_FROGGY  7.8000      631920   \n",
       "4    the_maker988  8.2000       35140   \n",
       "\n",
       "                                                text  user_id  \\\n",
       "0  This would not be acceptable as an entertainme...    62543   \n",
       "1  Addictive RPG ! Works fine on linux though it ...    26902   \n",
       "2   Прикольная стрелялка. Взял дешево на распродаже.   434604   \n",
       "3  Somewhere on Zibylon:\\n~~~~~~~~~~~~~~~~~~\\nZib...   347904   \n",
       "4  This game was way to linear for me, and compar...   503851   \n",
       "\n",
       "                                        cleaned_text  polarity  rating  \n",
       "0  This would acceptable entertainment even back ...    0.7506  4.3765  \n",
       "1  Addictive RPG Works fine linux though minor bu...    0.2023  3.0057  \n",
       "2        Прикольная стрелялка Взял дешево распродаже    0.0000  2.5000  \n",
       "3  Somewhere Zibylon Zibylon command centre read ...    0.9729  4.9322  \n",
       "4  This game way linear compared others good For ...    0.5859  3.9647  "
      ]
     },
     "execution_count": 73,
     "metadata": {},
     "output_type": "execute_result"
    }
   ],
   "source": [
    "df_reviews.head()"
   ]
  },
  {
   "cell_type": "code",
   "execution_count": 74,
   "metadata": {},
   "outputs": [
    {
     "data": {
      "text/html": [
       "<pre>✔️ 62 ms (2021-09-27T22:03:24/2021-09-27T22:03:24)</pre>"
      ],
      "text/plain": [
       "<IPython.core.display.HTML object>"
      ]
     },
     "metadata": {},
     "output_type": "display_data"
    },
    {
     "data": {
      "text/html": [
       "<div>\n",
       "<style scoped>\n",
       "    .dataframe tbody tr th:only-of-type {\n",
       "        vertical-align: middle;\n",
       "    }\n",
       "\n",
       "    .dataframe tbody tr th {\n",
       "        vertical-align: top;\n",
       "    }\n",
       "\n",
       "    .dataframe thead th {\n",
       "        text-align: right;\n",
       "    }\n",
       "</style>\n",
       "<table border=\"1\" class=\"dataframe\">\n",
       "  <thead>\n",
       "    <tr style=\"text-align: right;\">\n",
       "      <th></th>\n",
       "      <th>minimo</th>\n",
       "      <th>maximo</th>\n",
       "    </tr>\n",
       "    <tr>\n",
       "      <th>product_id</th>\n",
       "      <th></th>\n",
       "      <th></th>\n",
       "    </tr>\n",
       "  </thead>\n",
       "  <tbody>\n",
       "    <tr>\n",
       "      <th>224600</th>\n",
       "      <td>0.2000</td>\n",
       "      <td>28164.0000</td>\n",
       "    </tr>\n",
       "    <tr>\n",
       "      <th>8500</th>\n",
       "      <td>0.1000</td>\n",
       "      <td>23184.2000</td>\n",
       "    </tr>\n",
       "    <tr>\n",
       "      <th>320</th>\n",
       "      <td>0.1000</td>\n",
       "      <td>20573.3000</td>\n",
       "    </tr>\n",
       "    <tr>\n",
       "      <th>363970</th>\n",
       "      <td>0.0000</td>\n",
       "      <td>20018.9000</td>\n",
       "    </tr>\n",
       "    <tr>\n",
       "      <th>24010</th>\n",
       "      <td>0.1000</td>\n",
       "      <td>19205.2000</td>\n",
       "    </tr>\n",
       "    <tr>\n",
       "      <th>...</th>\n",
       "      <td>...</td>\n",
       "      <td>...</td>\n",
       "    </tr>\n",
       "    <tr>\n",
       "      <th>598390</th>\n",
       "      <td>NaN</td>\n",
       "      <td>NaN</td>\n",
       "    </tr>\n",
       "    <tr>\n",
       "      <th>604090</th>\n",
       "      <td>NaN</td>\n",
       "      <td>NaN</td>\n",
       "    </tr>\n",
       "    <tr>\n",
       "      <th>625660</th>\n",
       "      <td>NaN</td>\n",
       "      <td>NaN</td>\n",
       "    </tr>\n",
       "    <tr>\n",
       "      <th>645180</th>\n",
       "      <td>NaN</td>\n",
       "      <td>NaN</td>\n",
       "    </tr>\n",
       "    <tr>\n",
       "      <th>666200</th>\n",
       "      <td>NaN</td>\n",
       "      <td>NaN</td>\n",
       "    </tr>\n",
       "  </tbody>\n",
       "</table>\n",
       "<p>12665 rows × 2 columns</p>\n",
       "</div>"
      ],
      "text/plain": [
       "            minimo     maximo\n",
       "product_id                   \n",
       "224600      0.2000 28164.0000\n",
       "8500        0.1000 23184.2000\n",
       "320         0.1000 20573.3000\n",
       "363970      0.0000 20018.9000\n",
       "24010       0.1000 19205.2000\n",
       "...            ...        ...\n",
       "598390         NaN        NaN\n",
       "604090         NaN        NaN\n",
       "625660         NaN        NaN\n",
       "645180         NaN        NaN\n",
       "666200         NaN        NaN\n",
       "\n",
       "[12665 rows x 2 columns]"
      ]
     },
     "execution_count": 74,
     "metadata": {},
     "output_type": "execute_result"
    }
   ],
   "source": [
    "# Creamos un dataframe con las cantidad de horas minima y maxima dedicada a cada juego.\n",
    "df_hours = df_reviews.groupby('product_id').hours.agg(minimo=np.min, maximo=np.max).sort_values(by='maximo', ascending=False)\n",
    "df_hours"
   ]
  },
  {
   "cell_type": "code",
   "execution_count": 75,
   "metadata": {},
   "outputs": [
    {
     "data": {
      "text/html": [
       "<pre>✔️ 0 ns (2021-09-27T22:03:24/2021-09-27T22:03:24)</pre>"
      ],
      "text/plain": [
       "<IPython.core.display.HTML object>"
      ]
     },
     "metadata": {},
     "output_type": "display_data"
    }
   ],
   "source": [
    "# Redefinimos el mínimo en cero\n",
    "df_hours.minimo = np.zeros(df_hours.shape[0])"
   ]
  },
  {
   "cell_type": "code",
   "execution_count": 76,
   "metadata": {},
   "outputs": [
    {
     "data": {
      "text/html": [
       "<pre>✔️ 15 ms (2021-09-27T22:03:24/2021-09-27T22:03:24)</pre>"
      ],
      "text/plain": [
       "<IPython.core.display.HTML object>"
      ]
     },
     "metadata": {},
     "output_type": "display_data"
    },
    {
     "data": {
      "text/plain": [
       "minimo     0\n",
       "maximo    45\n",
       "dtype: int64"
      ]
     },
     "execution_count": 76,
     "metadata": {},
     "output_type": "execute_result"
    }
   ],
   "source": [
    "# Vemos que hay missings. Vamos a ver cuantos hay.\n",
    "df_hours.isna().sum()"
   ]
  },
  {
   "cell_type": "code",
   "execution_count": 77,
   "metadata": {},
   "outputs": [
    {
     "data": {
      "text/html": [
       "<pre>✔️ 31 ms (2021-09-27T22:03:25/2021-09-27T22:03:25)</pre>"
      ],
      "text/plain": [
       "<IPython.core.display.HTML object>"
      ]
     },
     "metadata": {},
     "output_type": "display_data"
    },
    {
     "data": {
      "text/html": [
       "<div>\n",
       "<style scoped>\n",
       "    .dataframe tbody tr th:only-of-type {\n",
       "        vertical-align: middle;\n",
       "    }\n",
       "\n",
       "    .dataframe tbody tr th {\n",
       "        vertical-align: top;\n",
       "    }\n",
       "\n",
       "    .dataframe thead th {\n",
       "        text-align: right;\n",
       "    }\n",
       "</style>\n",
       "<table border=\"1\" class=\"dataframe\">\n",
       "  <thead>\n",
       "    <tr style=\"text-align: right;\">\n",
       "      <th></th>\n",
       "      <th>minimo</th>\n",
       "      <th>maximo</th>\n",
       "    </tr>\n",
       "    <tr>\n",
       "      <th>product_id</th>\n",
       "      <th></th>\n",
       "      <th></th>\n",
       "    </tr>\n",
       "  </thead>\n",
       "  <tbody>\n",
       "    <tr>\n",
       "      <th>224600</th>\n",
       "      <td>0.0000</td>\n",
       "      <td>28164.0000</td>\n",
       "    </tr>\n",
       "    <tr>\n",
       "      <th>8500</th>\n",
       "      <td>0.0000</td>\n",
       "      <td>23184.2000</td>\n",
       "    </tr>\n",
       "    <tr>\n",
       "      <th>320</th>\n",
       "      <td>0.0000</td>\n",
       "      <td>20573.3000</td>\n",
       "    </tr>\n",
       "    <tr>\n",
       "      <th>363970</th>\n",
       "      <td>0.0000</td>\n",
       "      <td>20018.9000</td>\n",
       "    </tr>\n",
       "    <tr>\n",
       "      <th>24010</th>\n",
       "      <td>0.0000</td>\n",
       "      <td>19205.2000</td>\n",
       "    </tr>\n",
       "    <tr>\n",
       "      <th>...</th>\n",
       "      <td>...</td>\n",
       "      <td>...</td>\n",
       "    </tr>\n",
       "    <tr>\n",
       "      <th>598390</th>\n",
       "      <td>0.0000</td>\n",
       "      <td>1.0000</td>\n",
       "    </tr>\n",
       "    <tr>\n",
       "      <th>604090</th>\n",
       "      <td>0.0000</td>\n",
       "      <td>1.0000</td>\n",
       "    </tr>\n",
       "    <tr>\n",
       "      <th>625660</th>\n",
       "      <td>0.0000</td>\n",
       "      <td>1.0000</td>\n",
       "    </tr>\n",
       "    <tr>\n",
       "      <th>645180</th>\n",
       "      <td>0.0000</td>\n",
       "      <td>1.0000</td>\n",
       "    </tr>\n",
       "    <tr>\n",
       "      <th>666200</th>\n",
       "      <td>0.0000</td>\n",
       "      <td>1.0000</td>\n",
       "    </tr>\n",
       "  </tbody>\n",
       "</table>\n",
       "<p>12665 rows × 2 columns</p>\n",
       "</div>"
      ],
      "text/plain": [
       "            minimo     maximo\n",
       "product_id                   \n",
       "224600      0.0000 28164.0000\n",
       "8500        0.0000 23184.2000\n",
       "320         0.0000 20573.3000\n",
       "363970      0.0000 20018.9000\n",
       "24010       0.0000 19205.2000\n",
       "...            ...        ...\n",
       "598390      0.0000     1.0000\n",
       "604090      0.0000     1.0000\n",
       "625660      0.0000     1.0000\n",
       "645180      0.0000     1.0000\n",
       "666200      0.0000     1.0000\n",
       "\n",
       "[12665 rows x 2 columns]"
      ]
     },
     "execution_count": 77,
     "metadata": {},
     "output_type": "execute_result"
    }
   ],
   "source": [
    "# Rellenamos los minimos con 0 y los maximos con 1\n",
    "df_hours.minimo.fillna(0, inplace=True)\n",
    "df_hours.maximo.fillna(1, inplace=True)\n",
    "df_hours"
   ]
  },
  {
   "cell_type": "code",
   "execution_count": 78,
   "metadata": {},
   "outputs": [
    {
     "data": {
      "text/html": [
       "<pre>✔️ 16 ms (2021-09-27T22:03:25/2021-09-27T22:03:25)</pre>"
      ],
      "text/plain": [
       "<IPython.core.display.HTML object>"
      ]
     },
     "metadata": {},
     "output_type": "display_data"
    }
   ],
   "source": [
    "df_hours.reset_index(inplace=True)"
   ]
  },
  {
   "cell_type": "code",
   "execution_count": 79,
   "metadata": {},
   "outputs": [
    {
     "data": {
      "text/html": [
       "<pre>✔️ 1.02 s (2021-09-27T22:03:25/2021-09-27T22:03:26)</pre>"
      ],
      "text/plain": [
       "<IPython.core.display.HTML object>"
      ]
     },
     "metadata": {},
     "output_type": "display_data"
    },
    {
     "data": {
      "image/png": "[encoded data removed]",
      "text/plain": [
       "<Figure size 504x72 with 1 Axes>"
      ]
     },
     "metadata": {},
     "output_type": "display_data"
    },
    {
     "data": {
      "image/png": "[encoded data removed]",
      "text/plain": [
       "<Figure size 504x72 with 1 Axes>"
      ]
     },
     "metadata": {},
     "output_type": "display_data"
    },
    {
     "data": {
      "image/png": "[encoded data removed]",
      "text/plain": [
       "<Figure size 504x72 with 1 Axes>"
      ]
     },
     "metadata": {},
     "output_type": "display_data"
    },
    {
     "data": {
      "image/png": "[encoded data removed]",
      "text/plain": [
       "<Figure size 504x72 with 1 Axes>"
      ]
     },
     "metadata": {},
     "output_type": "display_data"
    },
    {
     "data": {
      "image/png": "[encoded data removed]",
      "text/plain": [
       "<Figure size 504x72 with 1 Axes>"
      ]
     },
     "metadata": {},
     "output_type": "display_data"
    }
   ],
   "source": [
    "# Exploremos las densidaes de distribucion de horas de los juegos con mas horas\n",
    "for product_id in df_hours[:5].product_id:    \n",
    "    plt.figure(figsize=(7,1))\n",
    "    sns.boxplot(data=df_reviews[df_reviews.product_id==product_id], x='hours')\n",
    "    plt.title(data_games[data_games.id == product_id].app_name.values[0])\n",
    "    plt.xlabel('hours')\n",
    "    plt.xlim(0,df_hours[df_hours.product_id==product_id].maximo.values[0])\n",
    "    plt.xticks(rotation=90)\n",
    "    plt.show()"
   ]
  },
  {
   "cell_type": "code",
   "execution_count": 145,
   "metadata": {},
   "outputs": [
    {
     "data": {
      "text/html": [
       "<pre>✔️ 0 ns (2021-09-27T22:27:19/2021-09-27T22:27:19)</pre>"
      ],
      "text/plain": [
       "<IPython.core.display.HTML object>"
      ]
     },
     "metadata": {},
     "output_type": "display_data"
    }
   ],
   "source": [
    "# Como vemos que existen muchos valores outliers,\n",
    "# vamos a crear una funcion para topear el maximo\n",
    "# en el percentil 90\n",
    "def topMax(index):\n",
    "    top = df_reviews[df_reviews.product_id==index].quantile(.90).hours\n",
    "    if np.isnan(top):\n",
    "        top = 1\n",
    "    return top"
   ]
  },
  {
   "cell_type": "code",
   "execution_count": 146,
   "metadata": {},
   "outputs": [
    {
     "data": {
      "text/html": [
       "<pre>✔️ 38.3 s (2021-09-27T22:27:21/2021-09-27T22:27:59)</pre>"
      ],
      "text/plain": [
       "<IPython.core.display.HTML object>"
      ]
     },
     "metadata": {},
     "output_type": "display_data"
    },
    {
     "data": {
      "application/vnd.jupyter.widget-view+json": {
       "model_id": "cbbea769103f42d597e752adb22d09e3",
       "version_major": 2,
       "version_minor": 0
      },
      "text/plain": [
       "  0%|          | 0/12665 [00:00<?, ?it/s]"
      ]
     },
     "metadata": {},
     "output_type": "display_data"
    },
    {
     "data": {
      "text/html": [
       "<div>\n",
       "<style scoped>\n",
       "    .dataframe tbody tr th:only-of-type {\n",
       "        vertical-align: middle;\n",
       "    }\n",
       "\n",
       "    .dataframe tbody tr th {\n",
       "        vertical-align: top;\n",
       "    }\n",
       "\n",
       "    .dataframe thead th {\n",
       "        text-align: right;\n",
       "    }\n",
       "</style>\n",
       "<table border=\"1\" class=\"dataframe\">\n",
       "  <thead>\n",
       "    <tr style=\"text-align: right;\">\n",
       "      <th></th>\n",
       "      <th>product_id</th>\n",
       "      <th>minimo</th>\n",
       "      <th>maximo</th>\n",
       "    </tr>\n",
       "  </thead>\n",
       "  <tbody>\n",
       "    <tr>\n",
       "      <th>47</th>\n",
       "      <td>385020</td>\n",
       "      <td>0.0000</td>\n",
       "      <td>7290.4400</td>\n",
       "    </tr>\n",
       "    <tr>\n",
       "      <th>21</th>\n",
       "      <td>466170</td>\n",
       "      <td>0.0000</td>\n",
       "      <td>5535.8900</td>\n",
       "    </tr>\n",
       "    <tr>\n",
       "      <th>98</th>\n",
       "      <td>408030</td>\n",
       "      <td>0.0000</td>\n",
       "      <td>4217.8400</td>\n",
       "    </tr>\n",
       "    <tr>\n",
       "      <th>146</th>\n",
       "      <td>340990</td>\n",
       "      <td>0.0000</td>\n",
       "      <td>4038.6200</td>\n",
       "    </tr>\n",
       "    <tr>\n",
       "      <th>130</th>\n",
       "      <td>454550</td>\n",
       "      <td>0.0000</td>\n",
       "      <td>3525.0500</td>\n",
       "    </tr>\n",
       "    <tr>\n",
       "      <th>...</th>\n",
       "      <td>...</td>\n",
       "      <td>...</td>\n",
       "      <td>...</td>\n",
       "    </tr>\n",
       "    <tr>\n",
       "      <th>12615</th>\n",
       "      <td>8690</td>\n",
       "      <td>0.0000</td>\n",
       "      <td>0.0000</td>\n",
       "    </tr>\n",
       "    <tr>\n",
       "      <th>12616</th>\n",
       "      <td>44620</td>\n",
       "      <td>0.0000</td>\n",
       "      <td>0.0000</td>\n",
       "    </tr>\n",
       "    <tr>\n",
       "      <th>12617</th>\n",
       "      <td>355950</td>\n",
       "      <td>0.0000</td>\n",
       "      <td>0.0000</td>\n",
       "    </tr>\n",
       "    <tr>\n",
       "      <th>12618</th>\n",
       "      <td>331181</td>\n",
       "      <td>0.0000</td>\n",
       "      <td>0.0000</td>\n",
       "    </tr>\n",
       "    <tr>\n",
       "      <th>12619</th>\n",
       "      <td>8650</td>\n",
       "      <td>0.0000</td>\n",
       "      <td>0.0000</td>\n",
       "    </tr>\n",
       "  </tbody>\n",
       "</table>\n",
       "<p>12665 rows × 3 columns</p>\n",
       "</div>"
      ],
      "text/plain": [
       "       product_id  minimo    maximo\n",
       "47         385020  0.0000 7290.4400\n",
       "21         466170  0.0000 5535.8900\n",
       "98         408030  0.0000 4217.8400\n",
       "146        340990  0.0000 4038.6200\n",
       "130        454550  0.0000 3525.0500\n",
       "...           ...     ...       ...\n",
       "12615        8690  0.0000    0.0000\n",
       "12616       44620  0.0000    0.0000\n",
       "12617      355950  0.0000    0.0000\n",
       "12618      331181  0.0000    0.0000\n",
       "12619        8650  0.0000    0.0000\n",
       "\n",
       "[12665 rows x 3 columns]"
      ]
     },
     "execution_count": 146,
     "metadata": {},
     "output_type": "execute_result"
    }
   ],
   "source": [
    "df_hours['maximo'] = df_hours.product_id.progress_apply(topMax)\n",
    "df_hours.sort_values(by='maximo', ascending=False)"
   ]
  },
  {
   "cell_type": "code",
   "execution_count": 147,
   "metadata": {},
   "outputs": [
    {
     "data": {
      "text/html": [
       "<pre>✔️ 1.06 s (2021-09-27T22:28:00/2021-09-27T22:28:01)</pre>"
      ],
      "text/plain": [
       "<IPython.core.display.HTML object>"
      ]
     },
     "metadata": {},
     "output_type": "display_data"
    },
    {
     "data": {
      "image/png": "[encoded data removed]",
      "text/plain": [
       "<Figure size 504x72 with 1 Axes>"
      ]
     },
     "metadata": {},
     "output_type": "display_data"
    },
    {
     "data": {
      "image/png": "[encoded data removed]",
      "text/plain": [
       "<Figure size 504x72 with 1 Axes>"
      ]
     },
     "metadata": {},
     "output_type": "display_data"
    },
    {
     "data": {
      "image/png": "[encoded data removed]",
      "text/plain": [
       "<Figure size 504x72 with 1 Axes>"
      ]
     },
     "metadata": {},
     "output_type": "display_data"
    },
    {
     "data": {
      "image/png": "[encoded data removed]",
      "text/plain": [
       "<Figure size 504x72 with 1 Axes>"
      ]
     },
     "metadata": {},
     "output_type": "display_data"
    },
    {
     "data": {
      "image/png": "[encoded data removed]",
      "text/plain": [
       "<Figure size 504x72 with 1 Axes>"
      ]
     },
     "metadata": {},
     "output_type": "display_data"
    }
   ],
   "source": [
    "# Volvemos a chequear las distribuciones de los ratings por juego\n",
    "for product_id in df_hours[:5].product_id:    \n",
    "    plt.figure(figsize=(7,1))\n",
    "    sns.boxplot(data=df_reviews[df_reviews.product_id==product_id], x='hours')\n",
    "    plt.title(data_games[data_games.id == product_id].app_name.values[0])\n",
    "    plt.xlim(0,df_hours[df_hours.product_id==product_id].maximo.values[0])\n",
    "    plt.xticks(rotation=90)\n",
    "    plt.show()"
   ]
  },
  {
   "cell_type": "code",
   "execution_count": 179,
   "metadata": {},
   "outputs": [
    {
     "data": {
      "text/html": [
       "<pre>✔️ 1.02 s (2021-09-27T22:41:09/2021-09-27T22:41:10)</pre>"
      ],
      "text/plain": [
       "<IPython.core.display.HTML object>"
      ]
     },
     "metadata": {},
     "output_type": "display_data"
    },
    {
     "data": {
      "text/plain": [
       "(779307, 12)"
      ]
     },
     "execution_count": 179,
     "metadata": {},
     "output_type": "execute_result"
    }
   ],
   "source": [
    "# Agrego las columnas de 'minimo' y 'maximo' al dataframe de las reviews\n",
    "try:\n",
    "    df_reviews.drop(['minimo', 'maximo'], axis=1, inplace=True)\n",
    "except:\n",
    "    df_reviews.head()\n",
    "df_reviews = pd.merge(df_reviews, df_hours, how='left', left_on='product_id', right_on='product_id')\n",
    "df_reviews.shape"
   ]
  },
  {
   "cell_type": "code",
   "execution_count": 181,
   "metadata": {},
   "outputs": [
    {
     "data": {
      "text/html": [
       "<pre>✔️ 16 ms (2021-09-27T22:41:48/2021-09-27T22:41:48)</pre>"
      ],
      "text/plain": [
       "<IPython.core.display.HTML object>"
      ]
     },
     "metadata": {},
     "output_type": "display_data"
    },
    {
     "data": {
      "text/plain": [
       "Index(['username', 'hours', 'product_id', 'text', 'user_id', 'cleaned_text',\n",
       "       'polarity', 'rating', 'hr_factor', 'hr_rating', 'minimo', 'maximo'],\n",
       "      dtype='object')"
      ]
     },
     "execution_count": 181,
     "metadata": {},
     "output_type": "execute_result"
    }
   ],
   "source": [
    "df_reviews.columns"
   ]
  },
  {
   "cell_type": "code",
   "execution_count": 184,
   "metadata": {},
   "outputs": [
    {
     "data": {
      "text/html": [
       "<pre>✔️ 156 ms (2021-09-27T22:42:42/2021-09-27T22:42:42)</pre>"
      ],
      "text/plain": [
       "<IPython.core.display.HTML object>"
      ]
     },
     "metadata": {},
     "output_type": "display_data"
    },
    {
     "data": {
      "text/html": [
       "<div>\n",
       "<style scoped>\n",
       "    .dataframe tbody tr th:only-of-type {\n",
       "        vertical-align: middle;\n",
       "    }\n",
       "\n",
       "    .dataframe tbody tr th {\n",
       "        vertical-align: top;\n",
       "    }\n",
       "\n",
       "    .dataframe thead th {\n",
       "        text-align: right;\n",
       "    }\n",
       "</style>\n",
       "<table border=\"1\" class=\"dataframe\">\n",
       "  <thead>\n",
       "    <tr style=\"text-align: right;\">\n",
       "      <th></th>\n",
       "      <th>username</th>\n",
       "      <th>product_id</th>\n",
       "      <th>text</th>\n",
       "      <th>user_id</th>\n",
       "      <th>cleaned_text</th>\n",
       "      <th>polarity</th>\n",
       "      <th>rating</th>\n",
       "      <th>hours</th>\n",
       "      <th>minimo</th>\n",
       "      <th>maximo</th>\n",
       "      <th>hr_factor</th>\n",
       "      <th>hr_rating</th>\n",
       "    </tr>\n",
       "  </thead>\n",
       "  <tbody>\n",
       "    <tr>\n",
       "      <th>0</th>\n",
       "      <td>Chaos Syren</td>\n",
       "      <td>725280</td>\n",
       "      <td>This would not be acceptable as an entertainme...</td>\n",
       "      <td>62543</td>\n",
       "      <td>This would acceptable entertainment even back ...</td>\n",
       "      <td>0.7506</td>\n",
       "      <td>4.3765</td>\n",
       "      <td>0.1000</td>\n",
       "      <td>0.0000</td>\n",
       "      <td>0.1000</td>\n",
       "      <td>1.0000</td>\n",
       "      <td>4.6880</td>\n",
       "    </tr>\n",
       "    <tr>\n",
       "      <th>1</th>\n",
       "      <td>freakfantom</td>\n",
       "      <td>725280</td>\n",
       "      <td>Прикольная стрелялка. Взял дешево на распродаже.</td>\n",
       "      <td>434604</td>\n",
       "      <td>Прикольная стрелялка Взял дешево распродаже</td>\n",
       "      <td>0.0000</td>\n",
       "      <td>2.5000</td>\n",
       "      <td>0.1000</td>\n",
       "      <td>0.0000</td>\n",
       "      <td>0.1000</td>\n",
       "      <td>1.0000</td>\n",
       "      <td>3.7491</td>\n",
       "    </tr>\n",
       "    <tr>\n",
       "      <th>2</th>\n",
       "      <td>Ariman1</td>\n",
       "      <td>328100</td>\n",
       "      <td>Addictive RPG ! Works fine on linux though it ...</td>\n",
       "      <td>26902</td>\n",
       "      <td>Addictive RPG Works fine linux though minor bu...</td>\n",
       "      <td>0.2023</td>\n",
       "      <td>3.0057</td>\n",
       "      <td>13.2000</td>\n",
       "      <td>0.0000</td>\n",
       "      <td>7.5600</td>\n",
       "      <td>1.0000</td>\n",
       "      <td>4.0021</td>\n",
       "    </tr>\n",
       "    <tr>\n",
       "      <th>3</th>\n",
       "      <td>dll3z</td>\n",
       "      <td>328100</td>\n",
       "      <td>do not buy this game</td>\n",
       "      <td>425514</td>\n",
       "      <td>buy game</td>\n",
       "      <td>0.0000</td>\n",
       "      <td>2.5000</td>\n",
       "      <td>0.4000</td>\n",
       "      <td>0.0000</td>\n",
       "      <td>7.5600</td>\n",
       "      <td>-0.8942</td>\n",
       "      <td>1.3436</td>\n",
       "    </tr>\n",
       "    <tr>\n",
       "      <th>4</th>\n",
       "      <td>Nyazicat</td>\n",
       "      <td>328100</td>\n",
       "      <td>For some reason I entirely derped out and boug...</td>\n",
       "      <td>247075</td>\n",
       "      <td>For reason entirely derped bought indiegala bu...</td>\n",
       "      <td>0.8058</td>\n",
       "      <td>4.5145</td>\n",
       "      <td>2.2000</td>\n",
       "      <td>0.0000</td>\n",
       "      <td>7.5600</td>\n",
       "      <td>-0.4180</td>\n",
       "      <td>2.7854</td>\n",
       "    </tr>\n",
       "    <tr>\n",
       "      <th>...</th>\n",
       "      <td>...</td>\n",
       "      <td>...</td>\n",
       "      <td>...</td>\n",
       "      <td>...</td>\n",
       "      <td>...</td>\n",
       "      <td>...</td>\n",
       "      <td>...</td>\n",
       "      <td>...</td>\n",
       "      <td>...</td>\n",
       "      <td>...</td>\n",
       "      <td>...</td>\n",
       "      <td>...</td>\n",
       "    </tr>\n",
       "    <tr>\n",
       "      <th>779302</th>\n",
       "      <td>rt974</td>\n",
       "      <td>518790</td>\n",
       "      <td>Hi,\\nI discovered this game yesterday on my pe...</td>\n",
       "      <td>488572</td>\n",
       "      <td>discovered game yesterday personal queue surpr...</td>\n",
       "      <td>0.9765</td>\n",
       "      <td>4.9413</td>\n",
       "      <td>9.4000</td>\n",
       "      <td>0.0000</td>\n",
       "      <td>122.6500</td>\n",
       "      <td>-0.8467</td>\n",
       "      <td>2.5994</td>\n",
       "    </tr>\n",
       "    <tr>\n",
       "      <th>779303</th>\n",
       "      <td>Fallenglory</td>\n",
       "      <td>518790</td>\n",
       "      <td>The Hunter was and is still the most realistic...</td>\n",
       "      <td>115945</td>\n",
       "      <td>The Hunter still realistic hunting sim release...</td>\n",
       "      <td>0.9688</td>\n",
       "      <td>4.9220</td>\n",
       "      <td>35.8000</td>\n",
       "      <td>0.0000</td>\n",
       "      <td>122.6500</td>\n",
       "      <td>-0.4162</td>\n",
       "      <td>2.9569</td>\n",
       "    </tr>\n",
       "    <tr>\n",
       "      <th>779304</th>\n",
       "      <td>GooseMan</td>\n",
       "      <td>518790</td>\n",
       "      <td>Very good!</td>\n",
       "      <td>137066</td>\n",
       "      <td>Very good</td>\n",
       "      <td>0.4927</td>\n",
       "      <td>3.7317</td>\n",
       "      <td>32.4000</td>\n",
       "      <td>0.0000</td>\n",
       "      <td>122.6500</td>\n",
       "      <td>-0.4717</td>\n",
       "      <td>2.3140</td>\n",
       "    </tr>\n",
       "    <tr>\n",
       "      <th>779305</th>\n",
       "      <td>lazyboy82</td>\n",
       "      <td>518790</td>\n",
       "      <td>Update after 60+ hours:\\nI decided to quit the...</td>\n",
       "      <td>459109</td>\n",
       "      <td>Update hours decided quit game simply unfinish...</td>\n",
       "      <td>0.9771</td>\n",
       "      <td>4.9428</td>\n",
       "      <td>96.9000</td>\n",
       "      <td>0.0000</td>\n",
       "      <td>122.6500</td>\n",
       "      <td>0.5801</td>\n",
       "      <td>3.8169</td>\n",
       "    </tr>\n",
       "    <tr>\n",
       "      <th>779306</th>\n",
       "      <td>Parad0x +x</td>\n",
       "      <td>518790</td>\n",
       "      <td>I would recommend this to any hunter loving fa...</td>\n",
       "      <td>257138</td>\n",
       "      <td>would recommend hunter loving fan havnt played...</td>\n",
       "      <td>0.8481</td>\n",
       "      <td>4.6203</td>\n",
       "      <td>1.3000</td>\n",
       "      <td>0.0000</td>\n",
       "      <td>122.6500</td>\n",
       "      <td>-0.9788</td>\n",
       "      <td>2.3262</td>\n",
       "    </tr>\n",
       "  </tbody>\n",
       "</table>\n",
       "<p>779307 rows × 12 columns</p>\n",
       "</div>"
      ],
      "text/plain": [
       "           username  product_id  \\\n",
       "0       Chaos Syren      725280   \n",
       "1       freakfantom      725280   \n",
       "2           Ariman1      328100   \n",
       "3             dll3z      328100   \n",
       "4          Nyazicat      328100   \n",
       "...             ...         ...   \n",
       "779302        rt974      518790   \n",
       "779303  Fallenglory      518790   \n",
       "779304     GooseMan      518790   \n",
       "779305    lazyboy82      518790   \n",
       "779306   Parad0x +x      518790   \n",
       "\n",
       "                                                     text  user_id  \\\n",
       "0       This would not be acceptable as an entertainme...    62543   \n",
       "1        Прикольная стрелялка. Взял дешево на распродаже.   434604   \n",
       "2       Addictive RPG ! Works fine on linux though it ...    26902   \n",
       "3                                    do not buy this game   425514   \n",
       "4       For some reason I entirely derped out and boug...   247075   \n",
       "...                                                   ...      ...   \n",
       "779302  Hi,\\nI discovered this game yesterday on my pe...   488572   \n",
       "779303  The Hunter was and is still the most realistic...   115945   \n",
       "779304                                         Very good!   137066   \n",
       "779305  Update after 60+ hours:\\nI decided to quit the...   459109   \n",
       "779306  I would recommend this to any hunter loving fa...   257138   \n",
       "\n",
       "                                             cleaned_text  polarity  rating  \\\n",
       "0       This would acceptable entertainment even back ...    0.7506  4.3765   \n",
       "1             Прикольная стрелялка Взял дешево распродаже    0.0000  2.5000   \n",
       "2       Addictive RPG Works fine linux though minor bu...    0.2023  3.0057   \n",
       "3                                                buy game    0.0000  2.5000   \n",
       "4       For reason entirely derped bought indiegala bu...    0.8058  4.5145   \n",
       "...                                                   ...       ...     ...   \n",
       "779302  discovered game yesterday personal queue surpr...    0.9765  4.9413   \n",
       "779303  The Hunter still realistic hunting sim release...    0.9688  4.9220   \n",
       "779304                                          Very good    0.4927  3.7317   \n",
       "779305  Update hours decided quit game simply unfinish...    0.9771  4.9428   \n",
       "779306  would recommend hunter loving fan havnt played...    0.8481  4.6203   \n",
       "\n",
       "         hours  minimo   maximo  hr_factor  hr_rating  \n",
       "0       0.1000  0.0000   0.1000     1.0000     4.6880  \n",
       "1       0.1000  0.0000   0.1000     1.0000     3.7491  \n",
       "2      13.2000  0.0000   7.5600     1.0000     4.0021  \n",
       "3       0.4000  0.0000   7.5600    -0.8942     1.3436  \n",
       "4       2.2000  0.0000   7.5600    -0.4180     2.7854  \n",
       "...        ...     ...      ...        ...        ...  \n",
       "779302  9.4000  0.0000 122.6500    -0.8467     2.5994  \n",
       "779303 35.8000  0.0000 122.6500    -0.4162     2.9569  \n",
       "779304 32.4000  0.0000 122.6500    -0.4717     2.3140  \n",
       "779305 96.9000  0.0000 122.6500     0.5801     3.8169  \n",
       "779306  1.3000  0.0000 122.6500    -0.9788     2.3262  \n",
       "\n",
       "[779307 rows x 12 columns]"
      ]
     },
     "execution_count": 184,
     "metadata": {},
     "output_type": "execute_result"
    }
   ],
   "source": [
    "# Genero una nueva columna con normalizando la columna 'hours' entre -1 y 1\n",
    "# Dicha columna, posteriormente se utilizará para sumar a la columna 'rating'\n",
    "# De modo de considerar en la valoración, la cantidad de tiempo relativa que\n",
    "# cada usuario dedico a jugar ese juego en particular. Así, si jugó muchas horas\n",
    "# el 'hr_factor' estará más cerca de 1 y si jugo muy poco, estará más cerca de -1\n",
    "\n",
    "df_reviews['hr_factor'] = np.minimum((df_reviews['hours']-df_reviews['minimo'])/(df_reviews['maximo']-df_reviews['minimo'])*2-1, 1)\n",
    "df_reviews['hr_factor'] = df_reviews['hr_factor'].fillna(0)\n",
    "df_reviews[['username', 'product_id', 'text', 'user_id', 'cleaned_text', 'polarity', 'rating', 'hours', 'minimo', 'maximo', 'hr_factor', 'hr_rating']]"
   ]
  },
  {
   "cell_type": "code",
   "execution_count": 185,
   "metadata": {},
   "outputs": [
    {
     "data": {
      "text/html": [
       "<pre>✔️ 438 ms (2021-09-27T22:42:58/2021-09-27T22:42:58)</pre>"
      ],
      "text/plain": [
       "<IPython.core.display.HTML object>"
      ]
     },
     "metadata": {},
     "output_type": "display_data"
    },
    {
     "data": {
      "text/html": [
       "<div>\n",
       "<style scoped>\n",
       "    .dataframe tbody tr th:only-of-type {\n",
       "        vertical-align: middle;\n",
       "    }\n",
       "\n",
       "    .dataframe tbody tr th {\n",
       "        vertical-align: top;\n",
       "    }\n",
       "\n",
       "    .dataframe thead th {\n",
       "        text-align: right;\n",
       "    }\n",
       "</style>\n",
       "<table border=\"1\" class=\"dataframe\">\n",
       "  <thead>\n",
       "    <tr style=\"text-align: right;\">\n",
       "      <th></th>\n",
       "      <th>hours</th>\n",
       "      <th>product_id</th>\n",
       "      <th>user_id</th>\n",
       "      <th>polarity</th>\n",
       "      <th>rating</th>\n",
       "      <th>hr_factor</th>\n",
       "      <th>hr_rating</th>\n",
       "      <th>minimo</th>\n",
       "      <th>maximo</th>\n",
       "    </tr>\n",
       "  </thead>\n",
       "  <tbody>\n",
       "    <tr>\n",
       "      <th>count</th>\n",
       "      <td>776670.0000</td>\n",
       "      <td>779307.0000</td>\n",
       "      <td>779307.0000</td>\n",
       "      <td>779307.0000</td>\n",
       "      <td>779307.0000</td>\n",
       "      <td>779307.0000</td>\n",
       "      <td>779307.0000</td>\n",
       "      <td>779307.0000</td>\n",
       "      <td>779307.0000</td>\n",
       "    </tr>\n",
       "    <tr>\n",
       "      <th>mean</th>\n",
       "      <td>111.8438</td>\n",
       "      <td>251489.8221</td>\n",
       "      <td>263409.6942</td>\n",
       "      <td>0.4266</td>\n",
       "      <td>3.5665</td>\n",
       "      <td>-0.2759</td>\n",
       "      <td>2.4675</td>\n",
       "      <td>0.0000</td>\n",
       "      <td>272.5729</td>\n",
       "    </tr>\n",
       "    <tr>\n",
       "      <th>std</th>\n",
       "      <td>390.1454</td>\n",
       "      <td>149975.3705</td>\n",
       "      <td>154076.0211</td>\n",
       "      <td>0.5230</td>\n",
       "      <td>1.3074</td>\n",
       "      <td>0.6565</td>\n",
       "      <td>1.0256</td>\n",
       "      <td>0.0000</td>\n",
       "      <td>443.5505</td>\n",
       "    </tr>\n",
       "    <tr>\n",
       "      <th>min</th>\n",
       "      <td>0.0000</td>\n",
       "      <td>10.0000</td>\n",
       "      <td>0.0000</td>\n",
       "      <td>-1.0000</td>\n",
       "      <td>0.0000</td>\n",
       "      <td>-1.0000</td>\n",
       "      <td>0.0000</td>\n",
       "      <td>0.0000</td>\n",
       "      <td>0.0000</td>\n",
       "    </tr>\n",
       "    <tr>\n",
       "      <th>25%</th>\n",
       "      <td>4.0000</td>\n",
       "      <td>203770.0000</td>\n",
       "      <td>130630.5000</td>\n",
       "      <td>0.0000</td>\n",
       "      <td>2.5000</td>\n",
       "      <td>-0.8406</td>\n",
       "      <td>1.8024</td>\n",
       "      <td>0.0000</td>\n",
       "      <td>25.2500</td>\n",
       "    </tr>\n",
       "    <tr>\n",
       "      <th>50%</th>\n",
       "      <td>15.3000</td>\n",
       "      <td>252490.0000</td>\n",
       "      <td>260873.0000</td>\n",
       "      <td>0.6124</td>\n",
       "      <td>4.0310</td>\n",
       "      <td>-0.4747</td>\n",
       "      <td>2.4530</td>\n",
       "      <td>0.0000</td>\n",
       "      <td>77.0000</td>\n",
       "    </tr>\n",
       "    <tr>\n",
       "      <th>75%</th>\n",
       "      <td>59.6000</td>\n",
       "      <td>346110.0000</td>\n",
       "      <td>391980.0000</td>\n",
       "      <td>0.8720</td>\n",
       "      <td>4.6800</td>\n",
       "      <td>0.1291</td>\n",
       "      <td>3.0527</td>\n",
       "      <td>0.0000</td>\n",
       "      <td>320.6600</td>\n",
       "    </tr>\n",
       "    <tr>\n",
       "      <th>max</th>\n",
       "      <td>28164.0000</td>\n",
       "      <td>773900.0000</td>\n",
       "      <td>540340.0000</td>\n",
       "      <td>1.0000</td>\n",
       "      <td>5.0000</td>\n",
       "      <td>1.0000</td>\n",
       "      <td>5.0000</td>\n",
       "      <td>0.0000</td>\n",
       "      <td>7290.4400</td>\n",
       "    </tr>\n",
       "  </tbody>\n",
       "</table>\n",
       "</div>"
      ],
      "text/plain": [
       "            hours  product_id     user_id    polarity      rating   hr_factor  \\\n",
       "count 776670.0000 779307.0000 779307.0000 779307.0000 779307.0000 779307.0000   \n",
       "mean     111.8438 251489.8221 263409.6942      0.4266      3.5665     -0.2759   \n",
       "std      390.1454 149975.3705 154076.0211      0.5230      1.3074      0.6565   \n",
       "min        0.0000     10.0000      0.0000     -1.0000      0.0000     -1.0000   \n",
       "25%        4.0000 203770.0000 130630.5000      0.0000      2.5000     -0.8406   \n",
       "50%       15.3000 252490.0000 260873.0000      0.6124      4.0310     -0.4747   \n",
       "75%       59.6000 346110.0000 391980.0000      0.8720      4.6800      0.1291   \n",
       "max    28164.0000 773900.0000 540340.0000      1.0000      5.0000      1.0000   \n",
       "\n",
       "        hr_rating      minimo      maximo  \n",
       "count 779307.0000 779307.0000 779307.0000  \n",
       "mean       2.4675      0.0000    272.5729  \n",
       "std        1.0256      0.0000    443.5505  \n",
       "min        0.0000      0.0000      0.0000  \n",
       "25%        1.8024      0.0000     25.2500  \n",
       "50%        2.4530      0.0000     77.0000  \n",
       "75%        3.0527      0.0000    320.6600  \n",
       "max        5.0000      0.0000   7290.4400  "
      ]
     },
     "execution_count": 185,
     "metadata": {},
     "output_type": "execute_result"
    }
   ],
   "source": [
    "# Verificamos que 'hr_factor' esté entre -1 y 1\n",
    "df_reviews.describe()"
   ]
  },
  {
   "cell_type": "code",
   "execution_count": 186,
   "metadata": {},
   "outputs": [
    {
     "data": {
      "text/html": [
       "<pre>✔️ 641 ms (2021-09-27T22:43:33/2021-09-27T22:43:34)</pre>"
      ],
      "text/plain": [
       "<IPython.core.display.HTML object>"
      ]
     },
     "metadata": {},
     "output_type": "display_data"
    },
    {
     "data": {
      "image/png": "[encoded data removed]",
      "text/plain": [
       "<Figure size 504x144 with 1 Axes>"
      ]
     },
     "metadata": {},
     "output_type": "display_data"
    }
   ],
   "source": [
    "# Veamos la distribución de la variable\n",
    "plt.figure(figsize=(7,2))\n",
    "sns.histplot(data=df_reviews, x='hr_factor')\n",
    "plt.ylabel('Cantidad de reviews')\n",
    "plt.xlabel('hr_factor')\n",
    "plt.xticks(rotation=90)\n",
    "plt.show()"
   ]
  },
  {
   "cell_type": "code",
   "execution_count": 187,
   "metadata": {},
   "outputs": [
    {
     "data": {
      "text/html": [
       "<pre>✔️ 0 ns (2021-09-27T22:43:37/2021-09-27T22:43:37)</pre>"
      ],
      "text/plain": [
       "<IPython.core.display.HTML object>"
      ]
     },
     "metadata": {},
     "output_type": "display_data"
    }
   ],
   "source": [
    "# ratings = []\n",
    "# for n in tqdm(np.arange(df_reviews.shape[0])):\n",
    "#     if df_reviews.iloc[n].polarity == 0:\n",
    "#         rating = df_reviews.iloc[n].polarity + df_reviews.iloc[n].hr_factor\n",
    "#     else:\n",
    "#         rating = df_reviews.iloc[n].polarity\n",
    "#     ratings.append(rating)\n",
    "\n",
    "# df_reviews['hr_rating'] = ratings"
   ]
  },
  {
   "cell_type": "code",
   "execution_count": 188,
   "metadata": {},
   "outputs": [
    {
     "data": {
      "text/html": [
       "<pre>✔️ 0 ns (2021-09-27T22:43:38/2021-09-27T22:43:38)</pre>"
      ],
      "text/plain": [
       "<IPython.core.display.HTML object>"
      ]
     },
     "metadata": {},
     "output_type": "display_data"
    }
   ],
   "source": [
    "# df_reviews['hr_rating'] = df_reviews['rating'] + df_reviews['hr_factor']"
   ]
  },
  {
   "cell_type": "code",
   "execution_count": 189,
   "metadata": {},
   "outputs": [
    {
     "data": {
      "text/html": [
       "<pre>✔️ 16 ms (2021-09-27T22:43:39/2021-09-27T22:43:39)</pre>"
      ],
      "text/plain": [
       "<IPython.core.display.HTML object>"
      ]
     },
     "metadata": {},
     "output_type": "display_data"
    }
   ],
   "source": [
    "df_reviews['hr_rating'] = df_reviews['polarity'] + df_reviews['hr_factor']"
   ]
  },
  {
   "cell_type": "code",
   "execution_count": 190,
   "metadata": {
    "scrolled": true
   },
   "outputs": [
    {
     "data": {
      "text/html": [
       "<pre>✔️ 859 ms (2021-09-27T22:43:41/2021-09-27T22:43:41)</pre>"
      ],
      "text/plain": [
       "<IPython.core.display.HTML object>"
      ]
     },
     "metadata": {},
     "output_type": "display_data"
    },
    {
     "data": {
      "image/png": "[encoded data removed]",
      "text/plain": [
       "<Figure size 504x216 with 1 Axes>"
      ]
     },
     "metadata": {},
     "output_type": "display_data"
    }
   ],
   "source": [
    "# Creamos la columna 'hr_rating' como la suma del 'rating' y 'hr_factor' \n",
    "\n",
    "# Y normalizamos entre 0 y 5\n",
    "df_reviews['hr_rating'] = scaler.fit_transform(df_reviews[['hr_rating']])\n",
    "\n",
    "# Finalmente observamos la distribucion\n",
    "plt.figure(figsize=(7,3))\n",
    "sns.histplot(data=df_reviews, x='rating', color='green', label='rating original', bins=50)\n",
    "sns.histplot(data=df_reviews, x='hr_rating', color='orange', label='rating con factor de horas', bins=50)\n",
    "plt.title('Histograma de Rating por review')\n",
    "plt.legend()\n",
    "plt.ylabel('Cantidad de reviews')\n",
    "plt.xlabel('Rating')\n",
    "plt.xticks(rotation=0)\n",
    "plt.show()"
   ]
  },
  {
   "cell_type": "code",
   "execution_count": 191,
   "metadata": {
    "scrolled": false
   },
   "outputs": [
    {
     "data": {
      "text/html": [
       "<pre>✔️ 109 ms (2021-09-27T22:43:46/2021-09-27T22:43:46)</pre>"
      ],
      "text/plain": [
       "<IPython.core.display.HTML object>"
      ]
     },
     "metadata": {},
     "output_type": "display_data"
    },
    {
     "data": {
      "text/html": [
       "<div>\n",
       "<style scoped>\n",
       "    .dataframe tbody tr th:only-of-type {\n",
       "        vertical-align: middle;\n",
       "    }\n",
       "\n",
       "    .dataframe tbody tr th {\n",
       "        vertical-align: top;\n",
       "    }\n",
       "\n",
       "    .dataframe thead th {\n",
       "        text-align: right;\n",
       "    }\n",
       "</style>\n",
       "<table border=\"1\" class=\"dataframe\">\n",
       "  <thead>\n",
       "    <tr style=\"text-align: right;\">\n",
       "      <th></th>\n",
       "      <th>product_id</th>\n",
       "      <th>count</th>\n",
       "      <th>rating_mean</th>\n",
       "      <th>hr_rating_mean</th>\n",
       "    </tr>\n",
       "  </thead>\n",
       "  <tbody>\n",
       "    <tr>\n",
       "      <th>0</th>\n",
       "      <td>430930</td>\n",
       "      <td>1</td>\n",
       "      <td>4.9990</td>\n",
       "      <td>4.9995</td>\n",
       "    </tr>\n",
       "    <tr>\n",
       "      <th>1</th>\n",
       "      <td>486810</td>\n",
       "      <td>1</td>\n",
       "      <td>4.9985</td>\n",
       "      <td>4.9992</td>\n",
       "    </tr>\n",
       "    <tr>\n",
       "      <th>2</th>\n",
       "      <td>410370</td>\n",
       "      <td>1</td>\n",
       "      <td>4.9983</td>\n",
       "      <td>4.9991</td>\n",
       "    </tr>\n",
       "    <tr>\n",
       "      <th>3</th>\n",
       "      <td>551520</td>\n",
       "      <td>1</td>\n",
       "      <td>4.9977</td>\n",
       "      <td>4.9989</td>\n",
       "    </tr>\n",
       "    <tr>\n",
       "      <th>4</th>\n",
       "      <td>505070</td>\n",
       "      <td>1</td>\n",
       "      <td>4.9975</td>\n",
       "      <td>4.9987</td>\n",
       "    </tr>\n",
       "    <tr>\n",
       "      <th>...</th>\n",
       "      <td>...</td>\n",
       "      <td>...</td>\n",
       "      <td>...</td>\n",
       "      <td>...</td>\n",
       "    </tr>\n",
       "    <tr>\n",
       "      <th>12660</th>\n",
       "      <td>515690</td>\n",
       "      <td>4</td>\n",
       "      <td>1.3934</td>\n",
       "      <td>1.4120</td>\n",
       "    </tr>\n",
       "    <tr>\n",
       "      <th>12661</th>\n",
       "      <td>426560</td>\n",
       "      <td>7</td>\n",
       "      <td>2.0102</td>\n",
       "      <td>1.3931</td>\n",
       "    </tr>\n",
       "    <tr>\n",
       "      <th>12662</th>\n",
       "      <td>411310</td>\n",
       "      <td>3</td>\n",
       "      <td>0.6216</td>\n",
       "      <td>1.3467</td>\n",
       "    </tr>\n",
       "    <tr>\n",
       "      <th>12663</th>\n",
       "      <td>537090</td>\n",
       "      <td>3</td>\n",
       "      <td>0.5393</td>\n",
       "      <td>1.2821</td>\n",
       "    </tr>\n",
       "    <tr>\n",
       "      <th>12664</th>\n",
       "      <td>37010</td>\n",
       "      <td>4</td>\n",
       "      <td>0.5974</td>\n",
       "      <td>1.0284</td>\n",
       "    </tr>\n",
       "  </tbody>\n",
       "</table>\n",
       "<p>12665 rows × 4 columns</p>\n",
       "</div>"
      ],
      "text/plain": [
       "       product_id  count  rating_mean  hr_rating_mean\n",
       "0          430930      1       4.9990          4.9995\n",
       "1          486810      1       4.9985          4.9992\n",
       "2          410370      1       4.9983          4.9991\n",
       "3          551520      1       4.9977          4.9989\n",
       "4          505070      1       4.9975          4.9987\n",
       "...           ...    ...          ...             ...\n",
       "12660      515690      4       1.3934          1.4120\n",
       "12661      426560      7       2.0102          1.3931\n",
       "12662      411310      3       0.6216          1.3467\n",
       "12663      537090      3       0.5393          1.2821\n",
       "12664       37010      4       0.5974          1.0284\n",
       "\n",
       "[12665 rows x 4 columns]"
      ]
     },
     "execution_count": 191,
     "metadata": {},
     "output_type": "execute_result"
    }
   ],
   "source": [
    "# Recalculamos el 'rating' promedio por juego \n",
    "df_ratings = df_reviews.groupby('product_id').agg({'rating':['count','mean'], 'hr_rating':['mean']}).reset_index()\n",
    "df_ratings.columns = ['product_id', 'count', 'rating_mean', 'hr_rating_mean']\n",
    "df_ratings.sort_values(by='hr_rating_mean', ascending=False, inplace=True)\n",
    "df_ratings.reset_index(inplace=True, drop=True)\n",
    "\n",
    "df_ratings"
   ]
  },
  {
   "cell_type": "code",
   "execution_count": 224,
   "metadata": {},
   "outputs": [
    {
     "data": {
      "text/html": [
       "<pre>✔️ 578 ms (2021-09-27T22:50:45/2021-09-27T22:50:45)</pre>"
      ],
      "text/plain": [
       "<IPython.core.display.HTML object>"
      ]
     },
     "metadata": {},
     "output_type": "display_data"
    },
    {
     "data": {
      "image/png": "[encoded data removed]",
      "text/plain": [
       "<Figure size 504x216 with 1 Axes>"
      ]
     },
     "metadata": {},
     "output_type": "display_data"
    }
   ],
   "source": [
    "# Ahora vamos a graficar la comparacion entre las distribuciones\n",
    "# de 'ratings' y 'hr_ratings'\n",
    "df_filter = df_ratings[df_ratings['count'] >= 1]\n",
    "\n",
    "plt.figure(figsize=(7,3))\n",
    "sns.histplot(data=df_filter, x='rating_mean', color='green', label='rating original')\n",
    "sns.histplot(data=df_filter, x='hr_rating_mean', color='orange', label='rating con factor de horas')\n",
    "plt.title('Histograma de Rating promedio por juego')\n",
    "plt.legend()\n",
    "plt.ylabel('Cantidad de juegos')\n",
    "plt.xlabel('Rating')\n",
    "plt.xlim(0,5)\n",
    "plt.xticks(rotation=0)\n",
    "plt.show()"
   ]
  },
  {
   "cell_type": "markdown",
   "metadata": {},
   "source": [
    "#### Dataset y Train/Test Split"
   ]
  },
  {
   "cell_type": "code",
   "execution_count": 225,
   "metadata": {},
   "outputs": [
    {
     "data": {
      "text/html": [
       "<pre>✔️ 265 ms (2021-09-27T22:50:45/2021-09-27T22:50:46)</pre>"
      ],
      "text/plain": [
       "<IPython.core.display.HTML object>"
      ]
     },
     "metadata": {},
     "output_type": "display_data"
    },
    {
     "data": {
      "text/plain": [
       "(779307, 12)"
      ]
     },
     "execution_count": 225,
     "metadata": {},
     "output_type": "execute_result"
    }
   ],
   "source": [
    "df_filter_reviews = df_reviews[df_reviews.product_id.isin(df_filter.product_id)]\n",
    "df_filter_reviews.shape"
   ]
  },
  {
   "cell_type": "code",
   "execution_count": 241,
   "metadata": {},
   "outputs": [
    {
     "data": {
      "text/html": [
       "<pre>✔️ 6 s (2021-09-27T22:54:12/2021-09-27T22:54:18)</pre>"
      ],
      "text/plain": [
       "<IPython.core.display.HTML object>"
      ]
     },
     "metadata": {},
     "output_type": "display_data"
    }
   ],
   "source": [
    "reader = Reader()\n",
    "# data = Dataset.load_from_df(df_reviews[['user_id', 'product_id', 'hr_rating']], reader)\n",
    "data = Dataset.load_from_df(df_filter_reviews[['user_id', 'product_id', 'hr_rating']], reader)\n",
    "trainset, testset = train_test_split(data, random_state=42, test_size=.3)"
   ]
  },
  {
   "cell_type": "markdown",
   "metadata": {},
   "source": [
    "#### Entrenamiento"
   ]
  },
  {
   "cell_type": "code",
   "execution_count": 242,
   "metadata": {},
   "outputs": [
    {
     "data": {
      "text/html": [
       "<pre>✔️ 0 ns (2021-09-27T22:54:18/2021-09-27T22:54:18)</pre>"
      ],
      "text/plain": [
       "<IPython.core.display.HTML object>"
      ]
     },
     "metadata": {},
     "output_type": "display_data"
    }
   ],
   "source": [
    "from surprise import SVD, SVDpp, SlopeOne, BaselineOnly\n",
    "algo = SVD()"
   ]
  },
  {
   "cell_type": "code",
   "execution_count": 243,
   "metadata": {},
   "outputs": [
    {
     "data": {
      "text/html": [
       "<pre>✔️ 43.4 s (2021-09-27T22:54:19/2021-09-27T22:55:02)</pre>"
      ],
      "text/plain": [
       "<IPython.core.display.HTML object>"
      ]
     },
     "metadata": {},
     "output_type": "display_data"
    },
    {
     "data": {
      "text/plain": [
       "<surprise.prediction_algorithms.matrix_factorization.SVD at 0x1f0ee7319a0>"
      ]
     },
     "execution_count": 243,
     "metadata": {},
     "output_type": "execute_result"
    }
   ],
   "source": [
    "algo.fit(trainset)"
   ]
  },
  {
   "cell_type": "code",
   "execution_count": 244,
   "metadata": {},
   "outputs": [
    {
     "data": {
      "text/html": [
       "<pre>✔️ 2.44 s (2021-09-27T22:55:02/2021-09-27T22:55:05)</pre>"
      ],
      "text/plain": [
       "<IPython.core.display.HTML object>"
      ]
     },
     "metadata": {},
     "output_type": "display_data"
    }
   ],
   "source": [
    "predictions = algo.test(testset)"
   ]
  },
  {
   "cell_type": "code",
   "execution_count": 245,
   "metadata": {},
   "outputs": [
    {
     "data": {
      "text/html": [
       "<pre>✔️ 531 ms (2021-09-27T22:55:05/2021-09-27T22:55:06)</pre>"
      ],
      "text/plain": [
       "<IPython.core.display.HTML object>"
      ]
     },
     "metadata": {},
     "output_type": "display_data"
    },
    {
     "name": "stdout",
     "output_type": "stream",
     "text": [
      "MAE:  0.8392\n",
      "RMSE: 1.0690\n"
     ]
    },
    {
     "data": {
      "text/plain": [
       "1.0690241523884922"
      ]
     },
     "execution_count": 245,
     "metadata": {},
     "output_type": "execute_result"
    }
   ],
   "source": [
    "accuracy.mae(predictions)\n",
    "accuracy.rmse(predictions)"
   ]
  },
  {
   "cell_type": "markdown",
   "metadata": {},
   "source": [
    "##### Optimizacion con Grid Search"
   ]
  },
  {
   "cell_type": "markdown",
   "metadata": {},
   "source": [
    "#### Dataset y Train/Test Split"
   ]
  },
  {
   "cell_type": "code",
   "execution_count": 114,
   "metadata": {
    "scrolled": false
   },
   "outputs": [
    {
     "data": {
      "text/html": [
       "<pre>✔️ 3.58 s (2021-09-27T22:11:35/2021-09-27T22:11:38)</pre>"
      ],
      "text/plain": [
       "<IPython.core.display.HTML object>"
      ]
     },
     "metadata": {},
     "output_type": "display_data"
    }
   ],
   "source": [
    "reader = Reader()\n",
    "data = Dataset.load_from_df(df_reviews[['user_id', 'product_id', 'hr_rating']], reader)\n",
    "trainset, testset = train_test_split(data, random_state=42, test_size=.2)"
   ]
  },
  {
   "cell_type": "code",
   "execution_count": 115,
   "metadata": {
    "scrolled": true
   },
   "outputs": [
    {
     "data": {
      "text/html": [
       "<pre>✔️ 3 min 52 s (2021-09-27T22:11:38/2021-09-27T22:15:31)</pre>"
      ],
      "text/plain": [
       "<IPython.core.display.HTML object>"
      ]
     },
     "metadata": {},
     "output_type": "display_data"
    },
    {
     "name": "stderr",
     "output_type": "stream",
     "text": [
      "[Parallel(n_jobs=-1)]: Using backend LokyBackend with 8 concurrent workers.\n",
      "[Parallel(n_jobs=-1)]: Done   2 tasks      | elapsed:   42.6s\n",
      "[Parallel(n_jobs=-1)]: Done   9 tasks      | elapsed:  1.1min\n",
      "[Parallel(n_jobs=-1)]: Done  19 out of  30 | elapsed:  2.8min remaining:  1.6min\n",
      "[Parallel(n_jobs=-1)]: Done  23 out of  30 | elapsed:  3.3min remaining:   59.7s\n",
      "[Parallel(n_jobs=-1)]: Done  27 out of  30 | elapsed:  3.6min remaining:   23.6s\n",
      "[Parallel(n_jobs=-1)]: Done  30 out of  30 | elapsed:  3.7min finished\n"
     ]
    }
   ],
   "source": [
    "param_grid = {'n_factors': [5,50,100,150],\n",
    "              'n_epochs': [5,10,20],\n",
    "              'lr_all': [0.001,0.002,0.005],\n",
    "              'reg_all': [0.002,0.02,0.2]}\n",
    "\n",
    "gs = RandomizedSearchCV(SVD,\n",
    "                  param_grid,\n",
    "                  measures=['rmse'],\n",
    "                  cv=3,\n",
    "                  n_jobs = -1,\n",
    "                  joblib_verbose =10)\n",
    "\n",
    "gs.fit(data)"
   ]
  },
  {
   "cell_type": "code",
   "execution_count": 116,
   "metadata": {},
   "outputs": [
    {
     "data": {
      "text/html": [
       "<pre>✔️ 0 ns (2021-09-27T22:15:31/2021-09-27T22:15:31)</pre>"
      ],
      "text/plain": [
       "<IPython.core.display.HTML object>"
      ]
     },
     "metadata": {},
     "output_type": "display_data"
    },
    {
     "name": "stdout",
     "output_type": "stream",
     "text": [
      "0.9809070330550943\n",
      "{'n_factors': 5, 'n_epochs': 10, 'lr_all': 0.005, 'reg_all': 0.2}\n"
     ]
    }
   ],
   "source": [
    "print(gs.best_score['rmse'])\n",
    "print(gs.best_params['rmse'])"
   ]
  }
 ],
 "metadata": {
  "celltoolbar": "Attachments",
  "colab": {
   "collapsed_sections": [],
   "name": "Copy of DS_Proyecto_03_SR.ipynb",
   "provenance": [
    {
     "file_id": "1byeX_htRp3NqV08X3eLlWIp02cnPb_WP",
     "timestamp": 1627943542515
    }
   ]
  },
  "kernelspec": {
   "display_name": "Python 3",
   "language": "python",
   "name": "python3"
  },
  "language_info": {
   "codemirror_mode": {
    "name": "ipython",
    "version": 3
   },
   "file_extension": ".py",
   "mimetype": "text/x-python",
   "name": "python",
   "nbconvert_exporter": "python",
   "pygments_lexer": "ipython3",
   "version": "3.9.2"
  },
  "toc-autonumbering": false,
  "toc-showcode": false,
  "toc-showmarkdowntxt": false,
  "toc-showtags": false
 },
 "nbformat": 4,
 "nbformat_minor": 4
}
