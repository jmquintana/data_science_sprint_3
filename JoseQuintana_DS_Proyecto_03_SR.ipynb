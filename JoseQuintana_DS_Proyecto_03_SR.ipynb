{
 "cells": [
  {
   "cell_type": "markdown",
   "metadata": {
    "id": "gzJLet17WTzh"
   },
   "source": [
    "# Proyecto 03 - Sistemas de Recomendación\n",
    "\n",
    "## Dataset: STEAM\n",
    "\n",
    "**Recuerda descargar el dataset de [aquí](https://github.com/kang205/SASRec). Son dos archivos, uno de calificaciones y otro de información sobre los juegos.**\n",
    "\n",
    "En este notebook te dejamos unas celdas para que puedas comenzar a trabajar con este dataset. Sin embargo, **deberás** modificarlas para hacer un mejor manejo de datos. Algunas cosas a las que deberás prestar atención (tal vez no a todas):\n",
    "1. Tipos de datos: elige tipos de datos apropiados para cada columna.\n",
    "2. Descartar columnas poco informativas.\n",
    "3. Guardar en memoria datasets preprocesados para no tener que repetir código que tarde en correr.\n",
    "\n",
    "### Exploración de datos\n",
    "\n",
    "Dedícale un buen tiempo a hacer un Análisis Exploratorio de Datos. Elige preguntas que creas que puedas responder con este dataset. Por ejemplo, ¿cuáles son los juegos más populares?¿Y los menos populares?\n",
    "\n",
    "### Filtro Colaborativo\n",
    "\n",
    "Deberás implementar un sistema de recomendación colaborativo para este dataset. Ten en cuenta:\n",
    "\n",
    "1. Haz todas las transformaciones de datos que consideres necesarias. Justifica.\n",
    "1. Evalúa de forma apropiada sus resultados. Justifica la métrica elegida.\n",
    "1. Elige un modelo benchmark y compara tus resultados con este modelo.\n",
    "1. Optimiza los hiperparámetros de tu modelo.\n",
    "\n",
    "Puedes implementar un filtro colaborativo a partir de la similitud coseno o índice de Jaccard. ¿Puedes utilizar los métodos de la librería Surprise? Si no es así, busca implementaciones (por ejemplo, nuevas librerías) que sean apropiadas.\n",
    "\n",
    "Para comenzar a trabajar, puedes asumir que cada entrada es un enlace entre una persona usuaria y un item, **independientemente** de si la crítica es buena o mala. \n",
    "\n",
    "### Para pensar, investigar y, opcionalmente, implementar\n",
    "1. ¿Cómo harías para ponerle un valor a la calificación?\n",
    "1. ¿Cómo harías para agregar contenido? Por ejemplo, cuentas con el género, precio, fecha de lanzamiento y más información de los juegos.\n",
    "1. ¿Hay algo que te gustaría investigar o probar?\n",
    "\n",
    "### **¡Tómate tiempo para investigar y leer mucho!**"
   ]
  },
  {
   "cell_type": "markdown",
   "metadata": {},
   "source": [
    "## Preprocesamiento"
   ]
  },
  {
   "cell_type": "markdown",
   "metadata": {},
   "source": [
    "### Importamos las librerías"
   ]
  },
  {
   "cell_type": "code",
<<<<<<< HEAD
   "execution_count": 1,
=======
   "execution_count": 2,
>>>>>>> 55c5a7615532b040cf4e3b66125c46d15dbafcca
   "metadata": {},
   "outputs": [],
   "source": [
    "# Importamos las librerías que vamos a necesitar\n",
    "import numpy as np\n",
    "import pandas as pd\n",
    "import matplotlib.pyplot as plt\n",
    "import matplotlib.ticker as ticker\n",
    "import seaborn as sns\n",
    "from tqdm.notebook import tqdm\n",
    "import gzip\n",
<<<<<<< HEAD
=======
    "from sklearn.preprocessing import MinMaxScaler\n",
    "from langdetect import detect\n",
    "from textblob import TextBlob\n",
    "from wordcloud import WordCloud\n",
>>>>>>> 55c5a7615532b040cf4e3b66125c46d15dbafcca
    "import re\n",
    "import nltk\n",
    "from sklearn.preprocessing import MinMaxScaler\n",
    "from nltk.tokenize import RegexpTokenizer\n",
    "from nltk.stem import PorterStemmer\n",
    "from nltk.corpus import stopwords\n",
<<<<<<< HEAD
    "from nltk.corpus import wordnet\n",
    "from nltk.sentiment import SentimentIntensityAnalyzer\n",
    "from nltk.stem import WordNetLemmatizer\n",
    "from surprise import Dataset\n",
    "from surprise import Reader\n",
    "from surprise.model_selection import train_test_split\n",
    "from surprise import accuracy\n",
    "from surprise.model_selection import GridSearchCV\n",
    "from surprise.model_selection import RandomizedSearchCV"
=======
    "from nltk.sentiment import SentimentIntensityAnalyzer"
>>>>>>> 55c5a7615532b040cf4e3b66125c46d15dbafcca
   ]
  },
  {
   "cell_type": "markdown",
   "metadata": {},
   "source": [
    "### Configuraciones"
   ]
  },
  {
   "cell_type": "code",
<<<<<<< HEAD
   "execution_count": 2,
=======
   "execution_count": 3,
>>>>>>> 55c5a7615532b040cf4e3b66125c46d15dbafcca
   "metadata": {},
   "outputs": [],
   "source": [
    "# Le doy formato a los gráficos\n",
    "# sns.set_style(\"darkgrid\")\n",
    "sns.set_style(\"white\")\n",
    "plt.rc('font', size=10)\n",
    "plt.rc('axes', titlesize=16)\n",
    "plt.rc('figure', titlesize=16)\n",
    "plt.rc('axes', labelsize=14) \n",
    "plt.rc('xtick', labelsize=12) \n",
    "plt.rc('ytick', labelsize=12) "
   ]
  },
  {
   "cell_type": "code",
<<<<<<< HEAD
   "execution_count": 3,
=======
   "execution_count": 4,
>>>>>>> 55c5a7615532b040cf4e3b66125c46d15dbafcca
   "metadata": {},
   "outputs": [
    {
     "data": {
      "text/html": [
       "<style>.container { width:100% !important; }</style>"
      ],
      "text/plain": [
       "<IPython.core.display.HTML object>"
      ]
     },
     "metadata": {},
     "output_type": "display_data"
    },
    {
     "data": {
      "text/html": [
<<<<<<< HEAD
       "<pre>✔️ 0 ns (2021-09-24T08:09:11/2021-09-24T08:09:11)</pre>"
=======
       "<pre>✔️ 0 ns (2021-09-15T19:40:59/2021-09-15T19:40:59)</pre>"
>>>>>>> 55c5a7615532b040cf4e3b66125c46d15dbafcca
      ],
      "text/plain": [
       "<IPython.core.display.HTML object>"
      ]
     },
     "metadata": {},
     "output_type": "display_data"
    }
   ],
   "source": [
    "#Seteamos para que no utilice notacion cientifica\n",
    "pd.options.display.float_format = '{:.4f}'.format\n",
    "#Seteo para que el máximo de columnas que muestra al levantar una base sean 500\n",
    "pd.set_option('display.max_columns',500)\n",
    "#Estos códigos hacen que la visualización de la consola abarque toda la pantalla (sin los recortes a los costados). Tambien hacen que al mostrar dataframes podamos ver todas las columnas que tiene.\n",
    "from IPython.core.display import display, HTML\n",
    "display(HTML(\"<style>.container { width:100% !important; }</style>\"))\n",
    "# Instanciamos método para ver el progreso de las operaciones sobre sobre los dataframes\n",
    "tqdm.pandas()\n",
    "# Indicador de tiempo de ejecución\n",
    "%load_ext autotime"
   ]
  },
  {
   "cell_type": "code",
<<<<<<< HEAD
   "execution_count": 106,
=======
   "execution_count": 5,
>>>>>>> 55c5a7615532b040cf4e3b66125c46d15dbafcca
   "metadata": {},
   "outputs": [
    {
     "data": {
      "text/html": [
<<<<<<< HEAD
       "<pre>✔️ 0 ns (2021-09-24T08:49:48/2021-09-24T08:49:48)</pre>"
=======
       "<pre>✔️ 0 ns (2021-09-15T19:41:02/2021-09-15T19:41:02)</pre>"
>>>>>>> 55c5a7615532b040cf4e3b66125c46d15dbafcca
      ],
      "text/plain": [
       "<IPython.core.display.HTML object>"
      ]
     },
     "metadata": {},
     "output_type": "display_data"
    }
   ],
   "source": [
    "# Las siguientes lineas permiten habilitar o deshabilitar ciertas operaciones\n",
    "# procesamiento de datos para ahorrar tiempo de procesamiento.\n",
    "READ_RAW = False\n",
    "PROCESS_TEXT = True\n",
    "POLARITY = True"
   ]
  },
  {
   "cell_type": "markdown",
   "metadata": {},
   "source": [
    "### Carga y limpieza inicial de datos"
   ]
  },
  {
   "cell_type": "markdown",
   "metadata": {},
   "source": [
    "### Carga y limpieza inicial de datos"
   ]
  },
  {
   "cell_type": "code",
<<<<<<< HEAD
   "execution_count": 8,
=======
   "execution_count": 6,
>>>>>>> 55c5a7615532b040cf4e3b66125c46d15dbafcca
   "metadata": {
    "id": "lWZhtUxEWTzj"
   },
   "outputs": [
    {
     "data": {
      "text/html": [
<<<<<<< HEAD
       "<pre>✔️ 0 ns (2021-09-24T08:09:32/2021-09-24T08:09:32)</pre>"
=======
       "<pre>✔️ 0 ns (2021-09-15T19:41:03/2021-09-15T19:41:03)</pre>"
>>>>>>> 55c5a7615532b040cf4e3b66125c46d15dbafcca
      ],
      "text/plain": [
       "<IPython.core.display.HTML object>"
      ]
     },
     "metadata": {},
     "output_type": "display_data"
    }
   ],
   "source": [
    "def parse(path):\n",
    "    g = gzip.open(path, 'r')\n",
    "    for l in g:\n",
    "        yield eval(l)"
   ]
  },
  {
   "cell_type": "markdown",
   "metadata": {
    "id": "BmEM25k4WTzw"
   },
   "source": [
    "Dataset de **Reviews**"
   ]
  },
  {
   "cell_type": "code",
<<<<<<< HEAD
   "execution_count": 9,
=======
   "execution_count": 7,
>>>>>>> 55c5a7615532b040cf4e3b66125c46d15dbafcca
   "metadata": {
    "id": "abAXItn1WTz0"
   },
   "outputs": [
    {
     "data": {
      "text/html": [
<<<<<<< HEAD
       "<pre>✔️ 0 ns (2021-09-24T08:09:34/2021-09-24T08:09:34)</pre>"
=======
       "<pre>✔️ 0 ns (2021-09-15T19:41:04/2021-09-15T19:41:04)</pre>"
>>>>>>> 55c5a7615532b040cf4e3b66125c46d15dbafcca
      ],
      "text/plain": [
       "<IPython.core.display.HTML object>"
      ]
     },
     "metadata": {},
     "output_type": "display_data"
    }
   ],
   "source": [
    "# Atencion: la carga de los datos tarda alrededor de 5 minutos 30 segundos\n",
    "if READ_RAW:\n",
    "    contador = 0\n",
    "    data_reviews = []\n",
    "    # Vamos a guardar una de cada 10 reviews para no llenar la memoria RAM. Si pones n = 3, \n",
    "    # abrira uno de cada tres, y asi.\n",
    "    n = 10\n",
    "    for l in tqdm(parse('steam_reviews.json.gz')):\n",
    "        if contador%n == 0:\n",
    "            data_reviews.append(l)\n",
    "        else:\n",
    "            pass\n",
    "        contador += 1\n",
    "    data_reviews = pd.DataFrame(data_reviews)"
   ]
  },
  {
   "cell_type": "code",
<<<<<<< HEAD
   "execution_count": 10,
=======
   "execution_count": 8,
>>>>>>> 55c5a7615532b040cf4e3b66125c46d15dbafcca
   "metadata": {},
   "outputs": [
    {
     "data": {
      "text/html": [
<<<<<<< HEAD
       "<pre>✔️ 4.55 s (2021-09-24T08:09:35/2021-09-24T08:09:39)</pre>"
=======
       "<pre>✔️ 8.3 s (2021-09-15T19:41:05/2021-09-15T19:41:13)</pre>"
>>>>>>> 55c5a7615532b040cf4e3b66125c46d15dbafcca
      ],
      "text/plain": [
       "<IPython.core.display.HTML object>"
      ]
     },
     "metadata": {},
     "output_type": "display_data"
    }
   ],
   "source": [
    "if READ_RAW:\n",
    "    data_reviews.to_csv('data_reviews.csv', index_label='index')\n",
    "else:\n",
    "    data_reviews = pd.read_csv('data_reviews.csv')\n",
    "    data_reviews.drop(columns='index', inplace=True)"
   ]
  },
  {
   "cell_type": "code",
<<<<<<< HEAD
   "execution_count": 11,
=======
   "execution_count": 9,
>>>>>>> 55c5a7615532b040cf4e3b66125c46d15dbafcca
   "metadata": {
    "id": "j24F0ZaYWT0E"
   },
   "outputs": [
    {
     "data": {
      "text/html": [
<<<<<<< HEAD
       "<pre>✔️ 15 ms (2021-09-24T08:09:41/2021-09-24T08:09:41)</pre>"
=======
       "<pre>✔️ 94 ms (2021-09-15T19:41:13/2021-09-15T19:41:14)</pre>"
>>>>>>> 55c5a7615532b040cf4e3b66125c46d15dbafcca
      ],
      "text/plain": [
       "<IPython.core.display.HTML object>"
      ]
     },
     "metadata": {},
     "output_type": "display_data"
    },
    {
     "data": {
      "text/html": [
       "<div>\n",
       "<style scoped>\n",
       "    .dataframe tbody tr th:only-of-type {\n",
       "        vertical-align: middle;\n",
       "    }\n",
       "\n",
       "    .dataframe tbody tr th {\n",
       "        vertical-align: top;\n",
       "    }\n",
       "\n",
       "    .dataframe thead th {\n",
       "        text-align: right;\n",
       "    }\n",
       "</style>\n",
       "<table border=\"1\" class=\"dataframe\">\n",
       "  <thead>\n",
       "    <tr style=\"text-align: right;\">\n",
       "      <th></th>\n",
       "      <th>username</th>\n",
       "      <th>hours</th>\n",
       "      <th>products</th>\n",
       "      <th>product_id</th>\n",
       "      <th>page_order</th>\n",
       "      <th>date</th>\n",
       "      <th>text</th>\n",
       "      <th>early_access</th>\n",
       "      <th>page</th>\n",
       "      <th>user_id</th>\n",
       "      <th>compensation</th>\n",
       "      <th>found_funny</th>\n",
       "    </tr>\n",
       "  </thead>\n",
       "  <tbody>\n",
       "    <tr>\n",
       "      <th>0</th>\n",
       "      <td>Chaos Syren</td>\n",
       "      <td>0.1000</td>\n",
       "      <td>41.0000</td>\n",
       "      <td>725280</td>\n",
       "      <td>0</td>\n",
       "      <td>2017-12-17</td>\n",
       "      <td>This would not be acceptable as an entertainme...</td>\n",
       "      <td>False</td>\n",
       "      <td>1</td>\n",
       "      <td>NaN</td>\n",
       "      <td>NaN</td>\n",
       "      <td>NaN</td>\n",
       "    </tr>\n",
       "    <tr>\n",
       "      <th>1</th>\n",
       "      <td>Ariman1</td>\n",
       "      <td>13.2000</td>\n",
       "      <td>1386.0000</td>\n",
       "      <td>328100</td>\n",
       "      <td>2</td>\n",
       "      <td>2017-08-02</td>\n",
       "      <td>Addictive RPG ! Works fine on linux though it ...</td>\n",
       "      <td>False</td>\n",
       "      <td>1</td>\n",
       "      <td>NaN</td>\n",
       "      <td>NaN</td>\n",
       "      <td>NaN</td>\n",
       "    </tr>\n",
       "    <tr>\n",
       "      <th>2</th>\n",
       "      <td>freakfantom</td>\n",
       "      <td>0.1000</td>\n",
       "      <td>1706.0000</td>\n",
       "      <td>725280</td>\n",
       "      <td>5</td>\n",
       "      <td>2017-11-12</td>\n",
       "      <td>Прикольная стрелялка. Взял дешево на распродаже.</td>\n",
       "      <td>False</td>\n",
       "      <td>1</td>\n",
       "      <td>NaN</td>\n",
       "      <td>NaN</td>\n",
       "      <td>NaN</td>\n",
       "    </tr>\n",
       "    <tr>\n",
       "      <th>3</th>\n",
       "      <td>The_Cpt_FROGGY</td>\n",
       "      <td>7.8000</td>\n",
       "      <td>2217.0000</td>\n",
       "      <td>631920</td>\n",
       "      <td>0</td>\n",
       "      <td>2017-12-11</td>\n",
       "      <td>Somewhere on Zibylon:\\n~~~~~~~~~~~~~~~~~~\\nZib...</td>\n",
       "      <td>False</td>\n",
       "      <td>1</td>\n",
       "      <td>76561198003030368.0000</td>\n",
       "      <td>Product received for free</td>\n",
       "      <td>NaN</td>\n",
       "    </tr>\n",
       "    <tr>\n",
       "      <th>4</th>\n",
       "      <td>the_maker988</td>\n",
       "      <td>8.2000</td>\n",
       "      <td>18.0000</td>\n",
       "      <td>35140</td>\n",
       "      <td>7</td>\n",
       "      <td>2018-01-02</td>\n",
       "      <td>This game was way to linear for me, and compar...</td>\n",
       "      <td>False</td>\n",
       "      <td>1</td>\n",
       "      <td>76561198353396848.0000</td>\n",
       "      <td>NaN</td>\n",
       "      <td>NaN</td>\n",
       "    </tr>\n",
       "  </tbody>\n",
       "</table>\n",
       "</div>"
      ],
      "text/plain": [
       "         username   hours  products  product_id  page_order        date  \\\n",
       "0     Chaos Syren  0.1000   41.0000      725280           0  2017-12-17   \n",
       "1         Ariman1 13.2000 1386.0000      328100           2  2017-08-02   \n",
       "2     freakfantom  0.1000 1706.0000      725280           5  2017-11-12   \n",
       "3  The_Cpt_FROGGY  7.8000 2217.0000      631920           0  2017-12-11   \n",
       "4    the_maker988  8.2000   18.0000       35140           7  2018-01-02   \n",
       "\n",
       "                                                text  early_access  page  \\\n",
       "0  This would not be acceptable as an entertainme...         False     1   \n",
       "1  Addictive RPG ! Works fine on linux though it ...         False     1   \n",
       "2   Прикольная стрелялка. Взял дешево на распродаже.         False     1   \n",
       "3  Somewhere on Zibylon:\\n~~~~~~~~~~~~~~~~~~\\nZib...         False     1   \n",
       "4  This game was way to linear for me, and compar...         False     1   \n",
       "\n",
       "                 user_id               compensation  found_funny  \n",
       "0                    NaN                        NaN          NaN  \n",
       "1                    NaN                        NaN          NaN  \n",
       "2                    NaN                        NaN          NaN  \n",
       "3 76561198003030368.0000  Product received for free          NaN  \n",
       "4 76561198353396848.0000                        NaN          NaN  "
      ]
     },
<<<<<<< HEAD
     "execution_count": 11,
=======
     "execution_count": 9,
>>>>>>> 55c5a7615532b040cf4e3b66125c46d15dbafcca
     "metadata": {},
     "output_type": "execute_result"
    }
   ],
   "source": [
<<<<<<< HEAD
    "# Previsualizamos las primeras 5 instancias del dataset\n",
=======
    "# Previsualizamos el dataframe\n",
>>>>>>> 55c5a7615532b040cf4e3b66125c46d15dbafcca
    "data_reviews.head()"
   ]
  },
  {
   "cell_type": "code",
<<<<<<< HEAD
   "execution_count": 12,
=======
   "execution_count": 10,
   "metadata": {
    "id": "8F-EVRZ4WT0L",
    "scrolled": true
   },
   "outputs": [
    {
     "data": {
      "text/html": [
       "<pre>✔️ 203 ms (2021-09-15T19:41:14/2021-09-15T19:41:14)</pre>"
      ],
      "text/plain": [
       "<IPython.core.display.HTML object>"
      ]
     },
     "metadata": {},
     "output_type": "display_data"
    },
    {
     "data": {
      "text/plain": [
       "username            18\n",
       "hours             2637\n",
       "products          1566\n",
       "product_id           0\n",
       "page_order           0\n",
       "date                 0\n",
       "text              1839\n",
       "early_access         0\n",
       "page                 0\n",
       "user_id         461967\n",
       "compensation    764719\n",
       "found_funny     659143\n",
       "dtype: int64"
      ]
     },
     "execution_count": 10,
     "metadata": {},
     "output_type": "execute_result"
    }
   ],
   "source": [
    "# Vemos los missings\n",
    "data_reviews.isna().sum()"
   ]
  },
  {
   "cell_type": "code",
   "execution_count": 11,
>>>>>>> 55c5a7615532b040cf4e3b66125c46d15dbafcca
   "metadata": {},
   "outputs": [
    {
     "data": {
      "text/html": [
<<<<<<< HEAD
       "<pre>✔️ 16 ms (2021-09-24T08:09:43/2021-09-24T08:09:43)</pre>"
=======
       "<pre>✔️ 62 ms (2021-09-15T19:41:14/2021-09-15T19:41:14)</pre>"
>>>>>>> 55c5a7615532b040cf4e3b66125c46d15dbafcca
      ],
      "text/plain": [
       "<IPython.core.display.HTML object>"
      ]
     },
     "metadata": {},
     "output_type": "display_data"
    },
    {
     "data": {
      "text/html": [
       "<div>\n",
       "<style scoped>\n",
       "    .dataframe tbody tr th:only-of-type {\n",
       "        vertical-align: middle;\n",
       "    }\n",
       "\n",
       "    .dataframe tbody tr th {\n",
       "        vertical-align: top;\n",
       "    }\n",
       "\n",
       "    .dataframe thead th {\n",
       "        text-align: right;\n",
       "    }\n",
       "</style>\n",
       "<table border=\"1\" class=\"dataframe\">\n",
       "  <thead>\n",
       "    <tr style=\"text-align: right;\">\n",
       "      <th></th>\n",
       "      <th>username</th>\n",
       "      <th>hours</th>\n",
<<<<<<< HEAD
       "      <th>products</th>\n",
       "      <th>product_id</th>\n",
       "      <th>page_order</th>\n",
       "      <th>date</th>\n",
       "      <th>text</th>\n",
       "      <th>early_access</th>\n",
       "      <th>page</th>\n",
       "      <th>user_id</th>\n",
       "      <th>compensation</th>\n",
       "      <th>found_funny</th>\n",
=======
       "      <th>product_id</th>\n",
       "      <th>date</th>\n",
       "      <th>text</th>\n",
       "    </tr>\n",
       "  </thead>\n",
       "  <tbody>\n",
       "    <tr>\n",
       "      <th>0</th>\n",
       "      <td>Chaos Syren</td>\n",
       "      <td>0.1000</td>\n",
       "      <td>725280</td>\n",
       "      <td>2017-12-17</td>\n",
       "      <td>This would not be acceptable as an entertainme...</td>\n",
       "    </tr>\n",
       "    <tr>\n",
       "      <th>1</th>\n",
       "      <td>Ariman1</td>\n",
       "      <td>13.2000</td>\n",
       "      <td>328100</td>\n",
       "      <td>2017-08-02</td>\n",
       "      <td>Addictive RPG ! Works fine on linux though it ...</td>\n",
>>>>>>> 55c5a7615532b040cf4e3b66125c46d15dbafcca
       "    </tr>\n",
       "  </thead>\n",
       "  <tbody>\n",
       "    <tr>\n",
<<<<<<< HEAD
       "      <th>779302</th>\n",
       "      <td>Vidaar</td>\n",
       "      <td>783.5000</td>\n",
       "      <td>353.0000</td>\n",
       "      <td>252490</td>\n",
       "      <td>1</td>\n",
       "      <td>2013-12-11</td>\n",
       "      <td>Summary: Rust is a survival game created by Fa...</td>\n",
       "      <td>True</td>\n",
       "      <td>10217</td>\n",
       "      <td>NaN</td>\n",
       "      <td>NaN</td>\n",
       "      <td>NaN</td>\n",
       "    </tr>\n",
       "    <tr>\n",
       "      <th>779303</th>\n",
       "      <td>Nikolai Belinski</td>\n",
       "      <td>55.1000</td>\n",
       "      <td>204.0000</td>\n",
       "      <td>252490</td>\n",
       "      <td>1</td>\n",
       "      <td>2013-12-11</td>\n",
       "      <td>Coolest Game Eva</td>\n",
       "      <td>True</td>\n",
       "      <td>10218</td>\n",
       "      <td>NaN</td>\n",
       "      <td>NaN</td>\n",
       "      <td>NaN</td>\n",
       "    </tr>\n",
       "    <tr>\n",
       "      <th>779304</th>\n",
       "      <td>RancorZealot</td>\n",
       "      <td>203.5000</td>\n",
       "      <td>173.0000</td>\n",
       "      <td>252490</td>\n",
       "      <td>1</td>\n",
       "      <td>2013-12-11</td>\n",
       "      <td>Should you buy RUST? Uh... YES. The BEST Survi...</td>\n",
       "      <td>True</td>\n",
       "      <td>10219</td>\n",
       "      <td>76561197963920624.0000</td>\n",
       "      <td>NaN</td>\n",
       "      <td>NaN</td>\n",
       "    </tr>\n",
       "    <tr>\n",
       "      <th>779305</th>\n",
       "      <td>Jerry</td>\n",
       "      <td>139.8000</td>\n",
       "      <td>79.0000</td>\n",
       "      <td>252490</td>\n",
       "      <td>1</td>\n",
       "      <td>2013-12-11</td>\n",
       "      <td>Great game!</td>\n",
       "      <td>True</td>\n",
       "      <td>10220</td>\n",
       "      <td>76561198042664864.0000</td>\n",
       "      <td>NaN</td>\n",
       "      <td>NaN</td>\n",
       "    </tr>\n",
       "    <tr>\n",
       "      <th>779306</th>\n",
       "      <td>Helk</td>\n",
       "      <td>15375.0000</td>\n",
       "      <td>98.0000</td>\n",
       "      <td>252490</td>\n",
       "      <td>1</td>\n",
       "      <td>2013-12-11</td>\n",
       "      <td>I love this game!</td>\n",
       "      <td>True</td>\n",
       "      <td>10221</td>\n",
       "      <td>NaN</td>\n",
       "      <td>NaN</td>\n",
       "      <td>36.0000</td>\n",
=======
       "      <th>2</th>\n",
       "      <td>freakfantom</td>\n",
       "      <td>0.1000</td>\n",
       "      <td>725280</td>\n",
       "      <td>2017-11-12</td>\n",
       "      <td>Прикольная стрелялка. Взял дешево на распродаже.</td>\n",
       "    </tr>\n",
       "    <tr>\n",
       "      <th>3</th>\n",
       "      <td>The_Cpt_FROGGY</td>\n",
       "      <td>7.8000</td>\n",
       "      <td>631920</td>\n",
       "      <td>2017-12-11</td>\n",
       "      <td>Somewhere on Zibylon:\\n~~~~~~~~~~~~~~~~~~\\nZib...</td>\n",
       "    </tr>\n",
       "    <tr>\n",
       "      <th>4</th>\n",
       "      <td>the_maker988</td>\n",
       "      <td>8.2000</td>\n",
       "      <td>35140</td>\n",
       "      <td>2018-01-02</td>\n",
       "      <td>This game was way to linear for me, and compar...</td>\n",
>>>>>>> 55c5a7615532b040cf4e3b66125c46d15dbafcca
       "    </tr>\n",
       "  </tbody>\n",
       "</table>\n",
       "</div>"
      ],
      "text/plain": [
<<<<<<< HEAD
       "                username      hours  products  product_id  page_order  \\\n",
       "779302            Vidaar   783.5000  353.0000      252490           1   \n",
       "779303  Nikolai Belinski    55.1000  204.0000      252490           1   \n",
       "779304      RancorZealot   203.5000  173.0000      252490           1   \n",
       "779305             Jerry   139.8000   79.0000      252490           1   \n",
       "779306              Helk 15375.0000   98.0000      252490           1   \n",
       "\n",
       "              date                                               text  \\\n",
       "779302  2013-12-11  Summary: Rust is a survival game created by Fa...   \n",
       "779303  2013-12-11                                   Coolest Game Eva   \n",
       "779304  2013-12-11  Should you buy RUST? Uh... YES. The BEST Survi...   \n",
       "779305  2013-12-11                                        Great game!   \n",
       "779306  2013-12-11                                  I love this game!   \n",
       "\n",
       "        early_access   page                user_id compensation  found_funny  \n",
       "779302          True  10217                    NaN          NaN          NaN  \n",
       "779303          True  10218                    NaN          NaN          NaN  \n",
       "779304          True  10219 76561197963920624.0000          NaN          NaN  \n",
       "779305          True  10220 76561198042664864.0000          NaN          NaN  \n",
       "779306          True  10221                    NaN          NaN      36.0000  "
      ]
     },
     "execution_count": 12,
     "metadata": {},
     "output_type": "execute_result"
    }
   ],
   "source": [
    "# Previsualizamos las ultimas 5 instancias del dataset\n",
    "data_reviews.tail()"
   ]
  },
  {
   "cell_type": "code",
   "execution_count": 13,
   "metadata": {},
   "outputs": [
    {
     "data": {
      "text/html": [
       "<pre>✔️ 203 ms (2021-09-24T08:09:44/2021-09-24T08:09:44)</pre>"
      ],
      "text/plain": [
       "<IPython.core.display.HTML object>"
      ]
     },
     "metadata": {},
     "output_type": "display_data"
    },
    {
     "name": "stdout",
     "output_type": "stream",
     "text": [
      "<class 'pandas.core.frame.DataFrame'>\n",
      "RangeIndex: 779307 entries, 0 to 779306\n",
      "Data columns (total 12 columns):\n",
      " #   Column        Non-Null Count   Dtype  \n",
      "---  ------        --------------   -----  \n",
      " 0   username      779289 non-null  object \n",
      " 1   hours         776670 non-null  float64\n",
      " 2   products      777741 non-null  float64\n",
      " 3   product_id    779307 non-null  int64  \n",
      " 4   page_order    779307 non-null  int64  \n",
      " 5   date          779307 non-null  object \n",
      " 6   text          777468 non-null  object \n",
      " 7   early_access  779307 non-null  bool   \n",
      " 8   page          779307 non-null  int64  \n",
      " 9   user_id       317340 non-null  float64\n",
      " 10  compensation  14588 non-null   object \n",
      " 11  found_funny   120164 non-null  float64\n",
      "dtypes: bool(1), float64(4), int64(3), object(4)\n",
      "memory usage: 66.1+ MB\n"
     ]
    }
   ],
   "source": [
    "# Reviso la informacion general del dataset\n",
    "data_reviews.info()"
=======
       "         username   hours  product_id        date  \\\n",
       "0     Chaos Syren  0.1000      725280  2017-12-17   \n",
       "1         Ariman1 13.2000      328100  2017-08-02   \n",
       "2     freakfantom  0.1000      725280  2017-11-12   \n",
       "3  The_Cpt_FROGGY  7.8000      631920  2017-12-11   \n",
       "4    the_maker988  8.2000       35140  2018-01-02   \n",
       "\n",
       "                                                text  \n",
       "0  This would not be acceptable as an entertainme...  \n",
       "1  Addictive RPG ! Works fine on linux though it ...  \n",
       "2   Прикольная стрелялка. Взял дешево на распродаже.  \n",
       "3  Somewhere on Zibylon:\\n~~~~~~~~~~~~~~~~~~\\nZib...  \n",
       "4  This game was way to linear for me, and compar...  "
      ]
     },
     "execution_count": 11,
     "metadata": {},
     "output_type": "execute_result"
    }
   ],
   "source": [
    "# Selecciono las columnas que me interesan\n",
    "# Descarto las columans que tienen muchos missings\n",
    "columnas = ['username', 'hours', 'product_id', 'date', 'text']\n",
    "data_reviews = data_reviews[columnas]\n",
    "data_reviews.head()"
>>>>>>> 55c5a7615532b040cf4e3b66125c46d15dbafcca
   ]
  },
  {
   "cell_type": "code",
<<<<<<< HEAD
   "execution_count": 14,
   "metadata": {
    "id": "8F-EVRZ4WT0L",
    "scrolled": true
   },
=======
   "execution_count": 12,
   "metadata": {},
>>>>>>> 55c5a7615532b040cf4e3b66125c46d15dbafcca
   "outputs": [
    {
     "data": {
      "text/html": [
<<<<<<< HEAD
       "<pre>✔️ 172 ms (2021-09-24T08:09:45/2021-09-24T08:09:45)</pre>"
      ],
      "text/plain": [
       "<IPython.core.display.HTML object>"
      ]
     },
     "metadata": {},
     "output_type": "display_data"
    },
    {
     "data": {
=======
       "<pre>✔️ 171 ms (2021-09-15T19:41:20/2021-09-15T19:41:20)</pre>"
      ],
>>>>>>> 55c5a7615532b040cf4e3b66125c46d15dbafcca
      "text/plain": [
       "<IPython.core.display.HTML object>"
      ]
     },
<<<<<<< HEAD
     "execution_count": 14,
     "metadata": {},
=======
     "metadata": {},
     "output_type": "display_data"
    },
    {
     "data": {
      "text/plain": [
       "username        18\n",
       "hours         2637\n",
       "product_id       0\n",
       "date             0\n",
       "text          1839\n",
       "dtype: int64"
      ]
     },
     "execution_count": 12,
     "metadata": {},
>>>>>>> 55c5a7615532b040cf4e3b66125c46d15dbafcca
     "output_type": "execute_result"
    }
   ],
   "source": [
    "# Vemos los missings\n",
    "data_reviews.isna().sum()"
   ]
  },
  {
   "cell_type": "code",
<<<<<<< HEAD
   "execution_count": 15,
=======
   "execution_count": 13,
>>>>>>> 55c5a7615532b040cf4e3b66125c46d15dbafcca
   "metadata": {},
   "outputs": [
    {
     "data": {
      "text/html": [
<<<<<<< HEAD
       "<pre>✔️ 47 ms (2021-09-24T08:09:45/2021-09-24T08:09:45)</pre>"
=======
       "<pre>✔️ 281 ms (2021-09-15T19:41:23/2021-09-15T19:41:23)</pre>"
>>>>>>> 55c5a7615532b040cf4e3b66125c46d15dbafcca
      ],
      "text/plain": [
       "<IPython.core.display.HTML object>"
      ]
     },
     "metadata": {},
     "output_type": "display_data"
<<<<<<< HEAD
    },
    {
     "data": {
      "text/html": [
       "<div>\n",
       "<style scoped>\n",
       "    .dataframe tbody tr th:only-of-type {\n",
       "        vertical-align: middle;\n",
       "    }\n",
       "\n",
       "    .dataframe tbody tr th {\n",
       "        vertical-align: top;\n",
       "    }\n",
       "\n",
       "    .dataframe thead th {\n",
       "        text-align: right;\n",
       "    }\n",
       "</style>\n",
       "<table border=\"1\" class=\"dataframe\">\n",
       "  <thead>\n",
       "    <tr style=\"text-align: right;\">\n",
       "      <th></th>\n",
       "      <th>username</th>\n",
       "      <th>hours</th>\n",
       "      <th>product_id</th>\n",
       "      <th>text</th>\n",
       "      <th>user_id</th>\n",
       "    </tr>\n",
       "  </thead>\n",
       "  <tbody>\n",
       "    <tr>\n",
       "      <th>0</th>\n",
       "      <td>Chaos Syren</td>\n",
       "      <td>0.1000</td>\n",
       "      <td>725280</td>\n",
       "      <td>This would not be acceptable as an entertainme...</td>\n",
       "      <td>NaN</td>\n",
       "    </tr>\n",
       "    <tr>\n",
       "      <th>1</th>\n",
       "      <td>Ariman1</td>\n",
       "      <td>13.2000</td>\n",
       "      <td>328100</td>\n",
       "      <td>Addictive RPG ! Works fine on linux though it ...</td>\n",
       "      <td>NaN</td>\n",
       "    </tr>\n",
       "    <tr>\n",
       "      <th>2</th>\n",
       "      <td>freakfantom</td>\n",
       "      <td>0.1000</td>\n",
       "      <td>725280</td>\n",
       "      <td>Прикольная стрелялка. Взял дешево на распродаже.</td>\n",
       "      <td>NaN</td>\n",
       "    </tr>\n",
       "    <tr>\n",
       "      <th>3</th>\n",
       "      <td>The_Cpt_FROGGY</td>\n",
       "      <td>7.8000</td>\n",
       "      <td>631920</td>\n",
       "      <td>Somewhere on Zibylon:\\n~~~~~~~~~~~~~~~~~~\\nZib...</td>\n",
       "      <td>76561198003030368.0000</td>\n",
       "    </tr>\n",
       "    <tr>\n",
       "      <th>4</th>\n",
       "      <td>the_maker988</td>\n",
       "      <td>8.2000</td>\n",
       "      <td>35140</td>\n",
       "      <td>This game was way to linear for me, and compar...</td>\n",
       "      <td>76561198353396848.0000</td>\n",
       "    </tr>\n",
       "  </tbody>\n",
       "</table>\n",
       "</div>"
      ],
      "text/plain": [
       "         username   hours  product_id  \\\n",
       "0     Chaos Syren  0.1000      725280   \n",
       "1         Ariman1 13.2000      328100   \n",
       "2     freakfantom  0.1000      725280   \n",
       "3  The_Cpt_FROGGY  7.8000      631920   \n",
       "4    the_maker988  8.2000       35140   \n",
       "\n",
       "                                                text                user_id  \n",
       "0  This would not be acceptable as an entertainme...                    NaN  \n",
       "1  Addictive RPG ! Works fine on linux though it ...                    NaN  \n",
       "2   Прикольная стрелялка. Взял дешево на распродаже.                    NaN  \n",
       "3  Somewhere on Zibylon:\\n~~~~~~~~~~~~~~~~~~\\nZib... 76561198003030368.0000  \n",
       "4  This game was way to linear for me, and compar... 76561198353396848.0000  "
      ]
     },
     "execution_count": 15,
     "metadata": {},
     "output_type": "execute_result"
    }
   ],
   "source": [
    "# Selecciono las columnas que me interesan y que creo que pueden ser de utilidad\n",
    "columnas = ['username', 'hours', 'product_id', 'text','user_id']\n",
    "data_reviews = data_reviews[columnas]\n",
    "data_reviews.head()"
=======
    }
   ],
   "source": [
    "# Descarto los missings\n",
    "data_reviews.dropna(axis=0, inplace=True)"
>>>>>>> 55c5a7615532b040cf4e3b66125c46d15dbafcca
   ]
  },
  {
   "cell_type": "code",
<<<<<<< HEAD
   "execution_count": 16,
=======
   "execution_count": 14,
>>>>>>> 55c5a7615532b040cf4e3b66125c46d15dbafcca
   "metadata": {},
   "outputs": [
    {
     "data": {
      "text/html": [
<<<<<<< HEAD
       "<pre>✔️ 109 ms (2021-09-24T08:09:46/2021-09-24T08:09:46)</pre>"
      ],
      "text/plain": [
       "<IPython.core.display.HTML object>"
      ]
     },
     "metadata": {},
=======
       "<pre>✔️ 172 ms (2021-09-15T19:41:24/2021-09-15T19:41:24)</pre>"
      ],
      "text/plain": [
       "<IPython.core.display.HTML object>"
      ]
     },
     "metadata": {},
     "output_type": "display_data"
    },
    {
     "data": {
      "text/plain": [
       "username      0\n",
       "hours         0\n",
       "product_id    0\n",
       "date          0\n",
       "text          0\n",
       "dtype: int64"
      ]
     },
     "execution_count": 14,
     "metadata": {},
     "output_type": "execute_result"
    }
   ],
   "source": [
    "# Chqueo que no tengo missings\n",
    "data_reviews.isna().sum()"
   ]
  },
  {
   "cell_type": "code",
   "execution_count": 15,
   "metadata": {},
   "outputs": [
    {
     "data": {
      "text/html": [
       "<pre>✔️ 0 ns (2021-09-15T19:41:27/2021-09-15T19:41:27)</pre>"
      ],
      "text/plain": [
       "<IPython.core.display.HTML object>"
      ]
     },
     "metadata": {},
>>>>>>> 55c5a7615532b040cf4e3b66125c46d15dbafcca
     "output_type": "display_data"
    },
    {
     "data": {
      "text/plain": [
<<<<<<< HEAD
       "username          18\n",
       "hours           2637\n",
       "product_id         0\n",
       "text            1839\n",
       "user_id       461967\n",
       "dtype: int64"
      ]
     },
     "execution_count": 16,
=======
       "username       object\n",
       "hours         float64\n",
       "product_id      int64\n",
       "date           object\n",
       "text           object\n",
       "dtype: object"
      ]
     },
     "execution_count": 15,
>>>>>>> 55c5a7615532b040cf4e3b66125c46d15dbafcca
     "metadata": {},
     "output_type": "execute_result"
    }
   ],
   "source": [
<<<<<<< HEAD
    "# Vemos los missings\n",
    "data_reviews.isna().sum()"
=======
    "# Verifico los tipos de dato\n",
    "data_reviews.dtypes"
>>>>>>> 55c5a7615532b040cf4e3b66125c46d15dbafcca
   ]
  },
  {
   "cell_type": "code",
<<<<<<< HEAD
   "execution_count": 17,
   "metadata": {},
=======
   "execution_count": 16,
   "metadata": {
    "id": "8wRb24Y5WT0U"
   },
>>>>>>> 55c5a7615532b040cf4e3b66125c46d15dbafcca
   "outputs": [
    {
     "data": {
      "text/html": [
<<<<<<< HEAD
       "<pre>✔️ 2.08 s (2021-09-24T08:09:47/2021-09-24T08:09:49)</pre>"
=======
       "<pre>✔️ 3.5 s (2021-09-15T19:41:28/2021-09-15T19:41:31)</pre>"
>>>>>>> 55c5a7615532b040cf4e3b66125c46d15dbafcca
      ],
      "text/plain": [
       "<IPython.core.display.HTML object>"
      ]
     },
     "metadata": {},
     "output_type": "display_data"
<<<<<<< HEAD
    },
=======
    }
   ],
   "source": [
    "data_games = []\n",
    "for l in parse('steam_games.json.gz'):\n",
    "    data_games.append(l)\n",
    "data_games = pd.DataFrame(data_games)"
   ]
  },
  {
   "cell_type": "code",
   "execution_count": 17,
   "metadata": {
    "id": "sVR0Cs6SWT0b"
   },
   "outputs": [
>>>>>>> 55c5a7615532b040cf4e3b66125c46d15dbafcca
    {
     "data": {
      "text/html": [
       "<pre>✔️ 32 ms (2021-09-15T19:41:37/2021-09-15T19:41:37)</pre>"
      ],
      "text/plain": [
       "<IPython.core.display.HTML object>"
      ]
     },
     "metadata": {},
     "output_type": "display_data"
    },
    {
     "data": {
      "text/html": [
       "<div>\n",
       "<style scoped>\n",
       "    .dataframe tbody tr th:only-of-type {\n",
       "        vertical-align: middle;\n",
       "    }\n",
       "\n",
       "    .dataframe tbody tr th {\n",
       "        vertical-align: top;\n",
       "    }\n",
       "\n",
       "    .dataframe thead th {\n",
       "        text-align: right;\n",
       "    }\n",
       "</style>\n",
       "<table border=\"1\" class=\"dataframe\">\n",
       "  <thead>\n",
       "    <tr style=\"text-align: right;\">\n",
       "      <th></th>\n",
       "      <th>username</th>\n",
       "      <th>hours</th>\n",
       "      <th>product_id</th>\n",
       "      <th>text</th>\n",
       "      <th>user_id</th>\n",
       "    </tr>\n",
       "  </thead>\n",
       "  <tbody>\n",
       "    <tr>\n",
       "      <th>0</th>\n",
       "      <td>Chaos Syren</td>\n",
       "      <td>0.1000</td>\n",
       "      <td>725280</td>\n",
       "      <td>This would not be acceptable as an entertainme...</td>\n",
       "      <td>62543</td>\n",
       "    </tr>\n",
       "    <tr>\n",
       "      <th>1</th>\n",
       "      <td>Ariman1</td>\n",
       "      <td>13.2000</td>\n",
       "      <td>328100</td>\n",
       "      <td>Addictive RPG ! Works fine on linux though it ...</td>\n",
       "      <td>26902</td>\n",
       "    </tr>\n",
       "    <tr>\n",
       "      <th>2</th>\n",
       "      <td>freakfantom</td>\n",
       "      <td>0.1000</td>\n",
       "      <td>725280</td>\n",
       "      <td>Прикольная стрелялка. Взял дешево на распродаже.</td>\n",
       "      <td>434602</td>\n",
       "    </tr>\n",
       "    <tr>\n",
       "      <th>3</th>\n",
       "      <td>The_Cpt_FROGGY</td>\n",
       "      <td>7.8000</td>\n",
       "      <td>631920</td>\n",
       "      <td>Somewhere on Zibylon:\\n~~~~~~~~~~~~~~~~~~\\nZib...</td>\n",
       "      <td>347902</td>\n",
       "    </tr>\n",
       "    <tr>\n",
       "      <th>4</th>\n",
       "      <td>the_maker988</td>\n",
       "      <td>8.2000</td>\n",
       "      <td>35140</td>\n",
       "      <td>This game was way to linear for me, and compar...</td>\n",
       "      <td>503848</td>\n",
       "    </tr>\n",
       "  </tbody>\n",
       "</table>\n",
       "</div>"
      ],
      "text/plain": [
       "         username   hours  product_id  \\\n",
       "0     Chaos Syren  0.1000      725280   \n",
       "1         Ariman1 13.2000      328100   \n",
       "2     freakfantom  0.1000      725280   \n",
       "3  The_Cpt_FROGGY  7.8000      631920   \n",
       "4    the_maker988  8.2000       35140   \n",
       "\n",
       "                                                text  user_id  \n",
       "0  This would not be acceptable as an entertainme...    62543  \n",
       "1  Addictive RPG ! Works fine on linux though it ...    26902  \n",
       "2   Прикольная стрелялка. Взял дешево на распродаже.   434602  \n",
       "3  Somewhere on Zibylon:\\n~~~~~~~~~~~~~~~~~~\\nZib...   347902  \n",
       "4  This game was way to linear for me, and compar...   503848  "
      ]
     },
     "execution_count": 17,
     "metadata": {},
     "output_type": "execute_result"
<<<<<<< HEAD
    }
   ],
   "source": [
    "# Para las instancias que no tienen 'user id' voy a generar uno sintetico\n",
    "# Como la columna de 'user id' tiene muchos missings, voy a generar un id\n",
    "# para cada 'username'\n",
    "from sklearn import preprocessing\n",
    "le = preprocessing.LabelEncoder()\n",
    "data_reviews['user_id'] = le.fit_transform(data_reviews.username)\n",
    "\n",
    "# data_reviews1 = data_reviews[~data_reviews.user_id.isna()]\n",
    "# data_reviews2 = data_reviews[data_reviews.user_id.isna()]\n",
    "# data_reviews1['uid'] = data_reviews1['user_id']\n",
    "# data_reviews2['uid'] = le.fit_transform(data_reviews2.username)\n",
    "# data_reviews = pd.concat([data_reviews1, data_reviews2])\n",
    "data_reviews.head()"
   ]
  },
  {
   "cell_type": "code",
   "execution_count": 18,
   "metadata": {},
   "outputs": [
    {
     "data": {
      "text/html": [
       "<pre>✔️ 109 ms (2021-09-24T08:09:50/2021-09-24T08:09:50)</pre>"
      ],
      "text/plain": [
       "<IPython.core.display.HTML object>"
      ]
     },
     "metadata": {},
     "output_type": "display_data"
    },
    {
     "data": {
      "text/plain": [
       "username        18\n",
       "hours         2637\n",
       "product_id       0\n",
       "text          1839\n",
       "user_id          0\n",
       "dtype: int64"
      ]
     },
     "execution_count": 18,
     "metadata": {},
     "output_type": "execute_result"
    }
   ],
   "source": [
    "# Chqueo que no tengo missings\n",
    "data_reviews.isna().sum()"
=======
    }
   ],
   "source": [
    "# Previsualizo el dataframe\n",
    "data_games.head()"
>>>>>>> 55c5a7615532b040cf4e3b66125c46d15dbafcca
   ]
  },
  {
   "cell_type": "code",
<<<<<<< HEAD
   "execution_count": 19,
   "metadata": {},
   "outputs": [
    {
     "data": {
      "text/html": [
       "<pre>✔️ 0 ns (2021-09-24T08:09:51/2021-09-24T08:09:51)</pre>"
      ],
      "text/plain": [
       "<IPython.core.display.HTML object>"
      ]
     },
     "metadata": {},
     "output_type": "display_data"
    },
    {
     "data": {
      "text/plain": [
       "username       object\n",
       "hours         float64\n",
       "product_id      int64\n",
       "text           object\n",
       "user_id         int32\n",
       "dtype: object"
      ]
     },
     "execution_count": 19,
     "metadata": {},
     "output_type": "execute_result"
    }
   ],
   "source": [
    "# Verifico los tipos de dato\n",
    "data_reviews.dtypes"
   ]
  },
  {
   "cell_type": "code",
   "execution_count": 20,
=======
   "execution_count": 18,
>>>>>>> 55c5a7615532b040cf4e3b66125c46d15dbafcca
   "metadata": {},
   "outputs": [
    {
     "data": {
      "text/html": [
<<<<<<< HEAD
       "<pre>✔️ 15 ms (2021-09-24T08:09:51/2021-09-24T08:09:51)</pre>"
=======
       "<pre>✔️ 47 ms (2021-09-15T19:41:38/2021-09-15T19:41:38)</pre>"
>>>>>>> 55c5a7615532b040cf4e3b66125c46d15dbafcca
      ],
      "text/plain": [
       "<IPython.core.display.HTML object>"
      ]
     },
     "metadata": {},
     "output_type": "display_data"
    },
    {
     "data": {
      "text/plain": [
<<<<<<< HEAD
       "username       object\n",
       "hours         float64\n",
       "product_id      int64\n",
       "text           object\n",
       "user_id         int32\n",
       "dtype: object"
      ]
     },
     "execution_count": 20,
=======
       "publisher          8052\n",
       "genres             3283\n",
       "app_name              2\n",
       "title              2050\n",
       "url                   0\n",
       "release_date       2067\n",
       "tags                163\n",
       "discount_price    31910\n",
       "reviews_url           2\n",
       "specs               670\n",
       "price              1377\n",
       "early_access          0\n",
       "id                    2\n",
       "developer          3299\n",
       "sentiment          7182\n",
       "metascore         29458\n",
       "dtype: int64"
      ]
     },
     "execution_count": 18,
>>>>>>> 55c5a7615532b040cf4e3b66125c46d15dbafcca
     "metadata": {},
     "output_type": "execute_result"
    }
   ],
   "source": [
<<<<<<< HEAD
    "# Redefino el tipo de dato de 'user_id' a int64\n",
    "data_reviews['product_id'] = data_reviews['product_id'].astype(dtype='int64')\n",
    "data_reviews.dtypes"
=======
    "# Vemos los missings\n",
    "data_games.isna().sum()"
>>>>>>> 55c5a7615532b040cf4e3b66125c46d15dbafcca
   ]
  },
  {
   "cell_type": "code",
<<<<<<< HEAD
   "execution_count": 21,
=======
   "execution_count": 19,
>>>>>>> 55c5a7615532b040cf4e3b66125c46d15dbafcca
   "metadata": {},
   "outputs": [
    {
     "data": {
      "text/html": [
<<<<<<< HEAD
       "<pre>✔️ 1.34 s (2021-09-24T08:09:52/2021-09-24T08:09:54)</pre>"
=======
       "<pre>✔️ 32 ms (2021-09-15T19:41:39/2021-09-15T19:41:39)</pre>"
>>>>>>> 55c5a7615532b040cf4e3b66125c46d15dbafcca
      ],
      "text/plain": [
       "<IPython.core.display.HTML object>"
      ]
     },
     "metadata": {},
     "output_type": "display_data"
    },
    {
     "data": {
      "text/html": [
       "<div>\n",
       "<style scoped>\n",
       "    .dataframe tbody tr th:only-of-type {\n",
       "        vertical-align: middle;\n",
       "    }\n",
       "\n",
       "    .dataframe tbody tr th {\n",
       "        vertical-align: top;\n",
       "    }\n",
       "\n",
       "    .dataframe thead th {\n",
       "        text-align: right;\n",
       "    }\n",
       "</style>\n",
       "<table border=\"1\" class=\"dataframe\">\n",
       "  <thead>\n",
       "    <tr style=\"text-align: right;\">\n",
       "      <th></th>\n",
<<<<<<< HEAD
       "      <th>username</th>\n",
       "      <th>text</th>\n",
=======
       "      <th>publisher</th>\n",
       "      <th>genres</th>\n",
       "      <th>app_name</th>\n",
       "      <th>tags</th>\n",
       "      <th>specs</th>\n",
       "      <th>price</th>\n",
       "      <th>id</th>\n",
       "      <th>developer</th>\n",
       "      <th>sentiment</th>\n",
>>>>>>> 55c5a7615532b040cf4e3b66125c46d15dbafcca
       "    </tr>\n",
       "  </thead>\n",
       "  <tbody>\n",
       "    <tr>\n",
<<<<<<< HEAD
       "      <th>count</th>\n",
       "      <td>779289</td>\n",
       "      <td>777468</td>\n",
       "    </tr>\n",
       "    <tr>\n",
       "      <th>unique</th>\n",
       "      <td>540338</td>\n",
       "      <td>718776</td>\n",
       "    </tr>\n",
       "    <tr>\n",
       "      <th>top</th>\n",
       "      <td>123</td>\n",
       "      <td>good game</td>\n",
       "    </tr>\n",
       "    <tr>\n",
       "      <th>freq</th>\n",
       "      <td>213</td>\n",
       "      <td>1206</td>\n",
=======
       "      <th>0</th>\n",
       "      <td>Kotoshiro</td>\n",
       "      <td>[Action, Casual, Indie, Simulation, Strategy]</td>\n",
       "      <td>Lost Summoner Kitty</td>\n",
       "      <td>[Strategy, Action, Indie, Casual, Simulation]</td>\n",
       "      <td>[Single-player]</td>\n",
       "      <td>4.9900</td>\n",
       "      <td>761140</td>\n",
       "      <td>Kotoshiro</td>\n",
       "      <td>NaN</td>\n",
       "    </tr>\n",
       "    <tr>\n",
       "      <th>1</th>\n",
       "      <td>Making Fun, Inc.</td>\n",
       "      <td>[Free to Play, Indie, RPG, Strategy]</td>\n",
       "      <td>Ironbound</td>\n",
       "      <td>[Free to Play, Strategy, Indie, RPG, Card Game...</td>\n",
       "      <td>[Single-player, Multi-player, Online Multi-Pla...</td>\n",
       "      <td>Free To Play</td>\n",
       "      <td>643980</td>\n",
       "      <td>Secret Level SRL</td>\n",
       "      <td>Mostly Positive</td>\n",
       "    </tr>\n",
       "    <tr>\n",
       "      <th>2</th>\n",
       "      <td>Poolians.com</td>\n",
       "      <td>[Casual, Free to Play, Indie, Simulation, Sports]</td>\n",
       "      <td>Real Pool 3D - Poolians</td>\n",
       "      <td>[Free to Play, Simulation, Sports, Casual, Ind...</td>\n",
       "      <td>[Single-player, Multi-player, Online Multi-Pla...</td>\n",
       "      <td>Free to Play</td>\n",
       "      <td>670290</td>\n",
       "      <td>Poolians.com</td>\n",
       "      <td>Mostly Positive</td>\n",
       "    </tr>\n",
       "    <tr>\n",
       "      <th>3</th>\n",
       "      <td>彼岸领域</td>\n",
       "      <td>[Action, Adventure, Casual]</td>\n",
       "      <td>弹炸人2222</td>\n",
       "      <td>[Action, Adventure, Casual]</td>\n",
       "      <td>[Single-player]</td>\n",
       "      <td>0.9900</td>\n",
       "      <td>767400</td>\n",
       "      <td>彼岸领域</td>\n",
       "      <td>NaN</td>\n",
       "    </tr>\n",
       "    <tr>\n",
       "      <th>4</th>\n",
       "      <td>NaN</td>\n",
       "      <td>NaN</td>\n",
       "      <td>Log Challenge</td>\n",
       "      <td>[Action, Indie, Casual, Sports]</td>\n",
       "      <td>[Single-player, Full controller support, HTC V...</td>\n",
       "      <td>2.9900</td>\n",
       "      <td>773570</td>\n",
       "      <td>NaN</td>\n",
       "      <td>NaN</td>\n",
>>>>>>> 55c5a7615532b040cf4e3b66125c46d15dbafcca
       "    </tr>\n",
       "  </tbody>\n",
       "</table>\n",
       "</div>"
      ],
      "text/plain": [
<<<<<<< HEAD
       "       username       text\n",
       "count    779289     777468\n",
       "unique   540338     718776\n",
       "top         123  good game\n",
       "freq        213       1206"
      ]
     },
     "execution_count": 21,
     "metadata": {},
     "output_type": "execute_result"
    }
   ],
   "source": [
    "# Exploro los estadisticos del dataset\n",
    "data_reviews.describe(include='object')"
   ]
  },
  {
   "cell_type": "markdown",
   "metadata": {
    "id": "04ed3teRWT0T"
   },
   "source": [
    "Dataset de **Games**"
=======
       "          publisher                                             genres  \\\n",
       "0         Kotoshiro      [Action, Casual, Indie, Simulation, Strategy]   \n",
       "1  Making Fun, Inc.               [Free to Play, Indie, RPG, Strategy]   \n",
       "2      Poolians.com  [Casual, Free to Play, Indie, Simulation, Sports]   \n",
       "3              彼岸领域                        [Action, Adventure, Casual]   \n",
       "4               NaN                                                NaN   \n",
       "\n",
       "                  app_name                                               tags  \\\n",
       "0      Lost Summoner Kitty      [Strategy, Action, Indie, Casual, Simulation]   \n",
       "1                Ironbound  [Free to Play, Strategy, Indie, RPG, Card Game...   \n",
       "2  Real Pool 3D - Poolians  [Free to Play, Simulation, Sports, Casual, Ind...   \n",
       "3                  弹炸人2222                        [Action, Adventure, Casual]   \n",
       "4            Log Challenge                    [Action, Indie, Casual, Sports]   \n",
       "\n",
       "                                               specs         price      id  \\\n",
       "0                                    [Single-player]        4.9900  761140   \n",
       "1  [Single-player, Multi-player, Online Multi-Pla...  Free To Play  643980   \n",
       "2  [Single-player, Multi-player, Online Multi-Pla...  Free to Play  670290   \n",
       "3                                    [Single-player]        0.9900  767400   \n",
       "4  [Single-player, Full controller support, HTC V...        2.9900  773570   \n",
       "\n",
       "          developer        sentiment  \n",
       "0         Kotoshiro              NaN  \n",
       "1  Secret Level SRL  Mostly Positive  \n",
       "2      Poolians.com  Mostly Positive  \n",
       "3              彼岸领域              NaN  \n",
       "4               NaN              NaN  "
      ]
     },
     "execution_count": 19,
     "metadata": {},
     "output_type": "execute_result"
    }
   ],
   "source": [
    "# Selecciono las columnas que me interesan\n",
    "# Descarto la columna 'title' ya que tienen muchos missings y la columns 'app_name' tienen los nombres de los juegos\n",
    "columnas = ['publisher', 'genres', 'app_name', 'tags', 'specs', 'price', 'id', 'developer', 'sentiment']\n",
    "data_games = data_games[columnas]\n",
    "data_games.head()"
   ]
  },
  {
   "cell_type": "code",
   "execution_count": 20,
   "metadata": {},
   "outputs": [
    {
     "data": {
      "text/html": [
       "<pre>✔️ 46 ms (2021-09-15T19:41:40/2021-09-15T19:41:40)</pre>"
      ],
      "text/plain": [
       "<IPython.core.display.HTML object>"
      ]
     },
     "metadata": {},
     "output_type": "display_data"
    },
    {
     "data": {
      "text/plain": [
       "publisher    8052\n",
       "genres       3283\n",
       "app_name        2\n",
       "tags          163\n",
       "specs         670\n",
       "price        1377\n",
       "id              2\n",
       "developer    3299\n",
       "sentiment    7182\n",
       "dtype: int64"
      ]
     },
     "execution_count": 20,
     "metadata": {},
     "output_type": "execute_result"
    }
   ],
   "source": [
    "# Vemos los missings\n",
    "data_games.isna().sum()"
   ]
  },
  {
   "cell_type": "code",
   "execution_count": 21,
   "metadata": {},
   "outputs": [
    {
     "data": {
      "text/html": [
       "<pre>✔️ 31 ms (2021-09-15T19:41:42/2021-09-15T19:41:42)</pre>"
      ],
      "text/plain": [
       "<IPython.core.display.HTML object>"
      ]
     },
     "metadata": {},
     "output_type": "display_data"
    }
   ],
   "source": [
    "# Descarto los missings de 'id' y de 'app_name'\n",
    "data_games.dropna(axis=0, subset=['id', 'app_name'], inplace=True)"
>>>>>>> 55c5a7615532b040cf4e3b66125c46d15dbafcca
   ]
  },
  {
   "cell_type": "code",
   "execution_count": 22,
<<<<<<< HEAD
   "metadata": {
    "id": "8wRb24Y5WT0U"
   },
=======
   "metadata": {},
>>>>>>> 55c5a7615532b040cf4e3b66125c46d15dbafcca
   "outputs": [
    {
     "data": {
      "text/html": [
<<<<<<< HEAD
       "<pre>✔️ 2.27 s (2021-09-24T08:09:54/2021-09-24T08:09:57)</pre>"
=======
       "<pre>✔️ 31 ms (2021-09-15T19:41:49/2021-09-15T19:41:49)</pre>"
>>>>>>> 55c5a7615532b040cf4e3b66125c46d15dbafcca
      ],
      "text/plain": [
       "<IPython.core.display.HTML object>"
      ]
     },
     "metadata": {},
     "output_type": "display_data"
<<<<<<< HEAD
    }
   ],
   "source": [
    "data_games = []\n",
    "for l in parse('steam_games.json.gz'):\n",
    "    data_games.append(l)\n",
    "data_games = pd.DataFrame(data_games)"
=======
    },
    {
     "data": {
      "text/plain": [
       "publisher    8050\n",
       "genres       3282\n",
       "app_name        0\n",
       "tags          162\n",
       "specs         669\n",
       "price        1376\n",
       "id              0\n",
       "developer    3297\n",
       "sentiment    7181\n",
       "dtype: int64"
      ]
     },
     "execution_count": 22,
     "metadata": {},
     "output_type": "execute_result"
    }
   ],
   "source": [
    "# Vemos los missings\n",
    "data_games.isna().sum()"
   ]
  },
  {
   "cell_type": "code",
   "execution_count": 23,
   "metadata": {},
   "outputs": [
    {
     "data": {
      "text/html": [
       "<pre>✔️ 15 ms (2021-09-15T19:41:52/2021-09-15T19:41:52)</pre>"
      ],
      "text/plain": [
       "<IPython.core.display.HTML object>"
      ]
     },
     "metadata": {},
     "output_type": "display_data"
    },
    {
     "data": {
      "text/plain": [
       "publisher    object\n",
       "genres       object\n",
       "app_name     object\n",
       "tags         object\n",
       "specs        object\n",
       "price        object\n",
       "id           object\n",
       "developer    object\n",
       "sentiment    object\n",
       "dtype: object"
      ]
     },
     "execution_count": 23,
     "metadata": {},
     "output_type": "execute_result"
    }
   ],
   "source": [
    "# Observamos los tipos de dato\n",
    "data_games.dtypes"
>>>>>>> 55c5a7615532b040cf4e3b66125c46d15dbafcca
   ]
  },
  {
   "cell_type": "code",
<<<<<<< HEAD
   "execution_count": 23,
   "metadata": {
    "id": "sVR0Cs6SWT0b"
   },
=======
   "execution_count": 24,
   "metadata": {},
>>>>>>> 55c5a7615532b040cf4e3b66125c46d15dbafcca
   "outputs": [
    {
     "data": {
      "text/html": [
<<<<<<< HEAD
       "<pre>✔️ 31 ms (2021-09-24T08:09:57/2021-09-24T08:09:57)</pre>"
      ],
      "text/plain": [
       "<IPython.core.display.HTML object>"
      ]
     },
     "metadata": {},
     "output_type": "display_data"
    },
    {
     "data": {
      "text/html": [
       "<div>\n",
       "<style scoped>\n",
       "    .dataframe tbody tr th:only-of-type {\n",
       "        vertical-align: middle;\n",
       "    }\n",
       "\n",
       "    .dataframe tbody tr th {\n",
       "        vertical-align: top;\n",
       "    }\n",
       "\n",
       "    .dataframe thead th {\n",
       "        text-align: right;\n",
       "    }\n",
       "</style>\n",
       "<table border=\"1\" class=\"dataframe\">\n",
       "  <thead>\n",
       "    <tr style=\"text-align: right;\">\n",
       "      <th></th>\n",
       "      <th>publisher</th>\n",
       "      <th>genres</th>\n",
       "      <th>app_name</th>\n",
       "      <th>title</th>\n",
       "      <th>url</th>\n",
       "      <th>release_date</th>\n",
       "      <th>tags</th>\n",
       "      <th>discount_price</th>\n",
       "      <th>reviews_url</th>\n",
       "      <th>specs</th>\n",
       "      <th>price</th>\n",
       "      <th>early_access</th>\n",
       "      <th>id</th>\n",
       "      <th>developer</th>\n",
       "      <th>sentiment</th>\n",
       "      <th>metascore</th>\n",
       "    </tr>\n",
       "  </thead>\n",
       "  <tbody>\n",
       "    <tr>\n",
       "      <th>0</th>\n",
       "      <td>Kotoshiro</td>\n",
       "      <td>[Action, Casual, Indie, Simulation, Strategy]</td>\n",
       "      <td>Lost Summoner Kitty</td>\n",
       "      <td>Lost Summoner Kitty</td>\n",
       "      <td>http://store.steampowered.com/app/761140/Lost_...</td>\n",
       "      <td>2018-01-04</td>\n",
       "      <td>[Strategy, Action, Indie, Casual, Simulation]</td>\n",
       "      <td>4.4900</td>\n",
       "      <td>http://steamcommunity.com/app/761140/reviews/?...</td>\n",
       "      <td>[Single-player]</td>\n",
       "      <td>4.9900</td>\n",
       "      <td>False</td>\n",
       "      <td>761140</td>\n",
       "      <td>Kotoshiro</td>\n",
       "      <td>NaN</td>\n",
       "      <td>NaN</td>\n",
       "    </tr>\n",
       "    <tr>\n",
       "      <th>1</th>\n",
       "      <td>Making Fun, Inc.</td>\n",
       "      <td>[Free to Play, Indie, RPG, Strategy]</td>\n",
       "      <td>Ironbound</td>\n",
       "      <td>Ironbound</td>\n",
       "      <td>http://store.steampowered.com/app/643980/Ironb...</td>\n",
       "      <td>2018-01-04</td>\n",
       "      <td>[Free to Play, Strategy, Indie, RPG, Card Game...</td>\n",
       "      <td>NaN</td>\n",
       "      <td>http://steamcommunity.com/app/643980/reviews/?...</td>\n",
       "      <td>[Single-player, Multi-player, Online Multi-Pla...</td>\n",
       "      <td>Free To Play</td>\n",
       "      <td>False</td>\n",
       "      <td>643980</td>\n",
       "      <td>Secret Level SRL</td>\n",
       "      <td>Mostly Positive</td>\n",
       "      <td>NaN</td>\n",
       "    </tr>\n",
       "    <tr>\n",
       "      <th>2</th>\n",
       "      <td>Poolians.com</td>\n",
       "      <td>[Casual, Free to Play, Indie, Simulation, Sports]</td>\n",
       "      <td>Real Pool 3D - Poolians</td>\n",
       "      <td>Real Pool 3D - Poolians</td>\n",
       "      <td>http://store.steampowered.com/app/670290/Real_...</td>\n",
       "      <td>2017-07-24</td>\n",
       "      <td>[Free to Play, Simulation, Sports, Casual, Ind...</td>\n",
       "      <td>NaN</td>\n",
       "      <td>http://steamcommunity.com/app/670290/reviews/?...</td>\n",
       "      <td>[Single-player, Multi-player, Online Multi-Pla...</td>\n",
       "      <td>Free to Play</td>\n",
       "      <td>False</td>\n",
       "      <td>670290</td>\n",
       "      <td>Poolians.com</td>\n",
       "      <td>Mostly Positive</td>\n",
       "      <td>NaN</td>\n",
       "    </tr>\n",
       "    <tr>\n",
       "      <th>3</th>\n",
       "      <td>彼岸领域</td>\n",
       "      <td>[Action, Adventure, Casual]</td>\n",
       "      <td>弹炸人2222</td>\n",
       "      <td>弹炸人2222</td>\n",
       "      <td>http://store.steampowered.com/app/767400/2222/</td>\n",
       "      <td>2017-12-07</td>\n",
       "      <td>[Action, Adventure, Casual]</td>\n",
       "      <td>0.8300</td>\n",
       "      <td>http://steamcommunity.com/app/767400/reviews/?...</td>\n",
       "      <td>[Single-player]</td>\n",
       "      <td>0.9900</td>\n",
       "      <td>False</td>\n",
       "      <td>767400</td>\n",
       "      <td>彼岸领域</td>\n",
       "      <td>NaN</td>\n",
       "      <td>NaN</td>\n",
       "    </tr>\n",
       "    <tr>\n",
       "      <th>4</th>\n",
       "      <td>NaN</td>\n",
       "      <td>NaN</td>\n",
       "      <td>Log Challenge</td>\n",
       "      <td>NaN</td>\n",
       "      <td>http://store.steampowered.com/app/773570/Log_C...</td>\n",
       "      <td>NaN</td>\n",
       "      <td>[Action, Indie, Casual, Sports]</td>\n",
       "      <td>1.7900</td>\n",
       "      <td>http://steamcommunity.com/app/773570/reviews/?...</td>\n",
       "      <td>[Single-player, Full controller support, HTC V...</td>\n",
       "      <td>2.9900</td>\n",
       "      <td>False</td>\n",
       "      <td>773570</td>\n",
       "      <td>NaN</td>\n",
       "      <td>NaN</td>\n",
       "      <td>NaN</td>\n",
       "    </tr>\n",
       "  </tbody>\n",
       "</table>\n",
       "</div>"
      ],
      "text/plain": [
       "          publisher                                             genres  \\\n",
       "0         Kotoshiro      [Action, Casual, Indie, Simulation, Strategy]   \n",
       "1  Making Fun, Inc.               [Free to Play, Indie, RPG, Strategy]   \n",
       "2      Poolians.com  [Casual, Free to Play, Indie, Simulation, Sports]   \n",
       "3              彼岸领域                        [Action, Adventure, Casual]   \n",
       "4               NaN                                                NaN   \n",
       "\n",
       "                  app_name                    title  \\\n",
       "0      Lost Summoner Kitty      Lost Summoner Kitty   \n",
       "1                Ironbound                Ironbound   \n",
       "2  Real Pool 3D - Poolians  Real Pool 3D - Poolians   \n",
       "3                  弹炸人2222                  弹炸人2222   \n",
       "4            Log Challenge                      NaN   \n",
       "\n",
       "                                                 url release_date  \\\n",
       "0  http://store.steampowered.com/app/761140/Lost_...   2018-01-04   \n",
       "1  http://store.steampowered.com/app/643980/Ironb...   2018-01-04   \n",
       "2  http://store.steampowered.com/app/670290/Real_...   2017-07-24   \n",
       "3     http://store.steampowered.com/app/767400/2222/   2017-12-07   \n",
       "4  http://store.steampowered.com/app/773570/Log_C...          NaN   \n",
       "\n",
       "                                                tags  discount_price  \\\n",
       "0      [Strategy, Action, Indie, Casual, Simulation]          4.4900   \n",
       "1  [Free to Play, Strategy, Indie, RPG, Card Game...             NaN   \n",
       "2  [Free to Play, Simulation, Sports, Casual, Ind...             NaN   \n",
       "3                        [Action, Adventure, Casual]          0.8300   \n",
       "4                    [Action, Indie, Casual, Sports]          1.7900   \n",
       "\n",
       "                                         reviews_url  \\\n",
       "0  http://steamcommunity.com/app/761140/reviews/?...   \n",
       "1  http://steamcommunity.com/app/643980/reviews/?...   \n",
       "2  http://steamcommunity.com/app/670290/reviews/?...   \n",
       "3  http://steamcommunity.com/app/767400/reviews/?...   \n",
       "4  http://steamcommunity.com/app/773570/reviews/?...   \n",
       "\n",
       "                                               specs         price  \\\n",
       "0                                    [Single-player]        4.9900   \n",
       "1  [Single-player, Multi-player, Online Multi-Pla...  Free To Play   \n",
       "2  [Single-player, Multi-player, Online Multi-Pla...  Free to Play   \n",
       "3                                    [Single-player]        0.9900   \n",
       "4  [Single-player, Full controller support, HTC V...        2.9900   \n",
       "\n",
       "   early_access      id         developer        sentiment metascore  \n",
       "0         False  761140         Kotoshiro              NaN       NaN  \n",
       "1         False  643980  Secret Level SRL  Mostly Positive       NaN  \n",
       "2         False  670290      Poolians.com  Mostly Positive       NaN  \n",
       "3         False  767400              彼岸领域              NaN       NaN  \n",
       "4         False  773570               NaN              NaN       NaN  "
      ]
     },
     "execution_count": 23,
     "metadata": {},
=======
       "<pre>✔️ 16 ms (2021-09-15T19:41:52/2021-09-15T19:41:52)</pre>"
      ],
      "text/plain": [
       "<IPython.core.display.HTML object>"
      ]
     },
     "metadata": {},
     "output_type": "display_data"
    }
   ],
   "source": [
    "# Cambio el tipo de dato de la columna 'id' y le cambio el nombre a 'product_id' para que coincida con la del dataframe 'data_reviews' \n",
    "data_games['id'] = data_games['id'].astype('int')\n",
    "data_games.rename(columns={'id':'product_id'}, inplace=True)"
   ]
  },
  {
   "cell_type": "code",
   "execution_count": 25,
   "metadata": {},
   "outputs": [
    {
     "data": {
      "text/html": [
       "<pre>✔️ 0 ns (2021-09-15T19:41:54/2021-09-15T19:41:54)</pre>"
      ],
      "text/plain": [
       "<IPython.core.display.HTML object>"
      ]
     },
     "metadata": {},
     "output_type": "display_data"
    },
    {
     "data": {
      "text/plain": [
       "publisher     object\n",
       "genres        object\n",
       "app_name      object\n",
       "tags          object\n",
       "specs         object\n",
       "price         object\n",
       "product_id     int32\n",
       "developer     object\n",
       "sentiment     object\n",
       "dtype: object"
      ]
     },
     "execution_count": 25,
     "metadata": {},
     "output_type": "execute_result"
    }
   ],
   "source": [
    "# Chequeo los data types\n",
    "data_games.dtypes"
   ]
  },
  {
   "cell_type": "markdown",
   "metadata": {},
   "source": [
    "#### Lista de Géneros"
   ]
  },
  {
   "cell_type": "code",
   "execution_count": 82,
   "metadata": {},
   "outputs": [
    {
     "data": {
      "text/html": [
       "<pre>✔️ 0 ns (2021-09-15T21:15:27/2021-09-15T21:15:27)</pre>"
      ],
      "text/plain": [
       "<IPython.core.display.HTML object>"
      ]
     },
     "metadata": {},
     "output_type": "display_data"
    },
    {
     "data": {
      "text/plain": [
       "array([list(['Action', 'Casual', 'Indie', 'Simulation', 'Strategy']),\n",
       "       list(['Free to Play', 'Indie', 'RPG', 'Strategy']),\n",
       "       list(['Casual', 'Free to Play', 'Indie', 'Simulation', 'Sports']),\n",
       "       ..., list(['Indie', 'Racing', 'Simulation']),\n",
       "       list(['Casual', 'Indie']), nan], dtype=object)"
      ]
     },
     "execution_count": 82,
     "metadata": {},
     "output_type": "execute_result"
    }
   ],
   "source": [
    "data_games.genres.values"
   ]
  },
  {
   "cell_type": "code",
   "execution_count": 96,
   "metadata": {},
   "outputs": [
    {
     "data": {
      "text/html": [
       "<pre>✔️ 0 ns (2021-09-15T21:26:17/2021-09-15T21:26:17)</pre>"
      ],
      "text/plain": [
       "<IPython.core.display.HTML object>"
      ]
     },
     "metadata": {},
     "output_type": "display_data"
    },
    {
     "data": {
      "text/plain": [
       "list"
      ]
     },
     "execution_count": 96,
     "metadata": {},
     "output_type": "execute_result"
    }
   ],
   "source": [
    "type(data_games.genres[0])"
   ]
  },
  {
   "cell_type": "code",
   "execution_count": 99,
   "metadata": {},
   "outputs": [
    {
     "data": {
      "text/html": [
       "<pre>✔️ 0 ns (2021-09-15T21:26:44/2021-09-15T21:26:44)</pre>"
      ],
      "text/plain": [
       "<IPython.core.display.HTML object>"
      ]
     },
     "metadata": {},
     "output_type": "display_data"
    }
   ],
   "source": [
    "def listar(column):\n",
    "    biglist = column.values\n",
    "    flat_list = []\n",
    "    for sublist in biglist:\n",
    "        if type(sublist)==list:\n",
    "            for item in sublist:\n",
    "                flat_list.append(item)\n",
    "    return set(flat_list)"
   ]
  },
  {
   "cell_type": "code",
   "execution_count": 100,
   "metadata": {},
   "outputs": [
    {
     "data": {
      "text/html": [
       "<pre>✔️ 31 ms (2021-09-15T21:26:45/2021-09-15T21:26:45)</pre>"
      ],
      "text/plain": [
       "<IPython.core.display.HTML object>"
      ]
     },
     "metadata": {},
     "output_type": "display_data"
    },
    {
     "data": {
      "text/plain": [
       "{'Accounting',\n",
       " 'Action',\n",
       " 'Adventure',\n",
       " 'Animation &amp; Modeling',\n",
       " 'Audio Production',\n",
       " 'Casual',\n",
       " 'Design &amp; Illustration',\n",
       " 'Early Access',\n",
       " 'Education',\n",
       " 'Free to Play',\n",
       " 'Indie',\n",
       " 'Massively Multiplayer',\n",
       " 'Photo Editing',\n",
       " 'RPG',\n",
       " 'Racing',\n",
       " 'Simulation',\n",
       " 'Software Training',\n",
       " 'Sports',\n",
       " 'Strategy',\n",
       " 'Utilities',\n",
       " 'Video Production',\n",
       " 'Web Publishing'}"
      ]
     },
     "execution_count": 100,
     "metadata": {},
     "output_type": "execute_result"
    }
   ],
   "source": [
    "listar(data_games.genres)"
   ]
  },
  {
   "cell_type": "code",
   "execution_count": 101,
   "metadata": {},
   "outputs": [
    {
     "data": {
      "text/html": [
       "<pre>✔️ 63 ms (2021-09-15T21:29:28/2021-09-15T21:29:28)</pre>"
      ],
      "text/plain": [
       "<IPython.core.display.HTML object>"
      ]
     },
     "metadata": {},
     "output_type": "display_data"
    },
    {
     "data": {
      "text/plain": [
       "{'1980s',\n",
       " \"1990's\",\n",
       " '2.5D',\n",
       " '2D',\n",
       " '2D Fighter',\n",
       " '360 Video',\n",
       " '3D Platformer',\n",
       " '3D Vision',\n",
       " '4 Player Local',\n",
       " '4X',\n",
       " '6DOF',\n",
       " 'Abstract',\n",
       " 'Action',\n",
       " 'Action RPG',\n",
       " 'Action-Adventure',\n",
       " 'Adventure',\n",
       " 'Agriculture',\n",
       " 'Aliens',\n",
       " 'Alternate History',\n",
       " 'America',\n",
       " 'Animation & Modeling',\n",
       " 'Anime',\n",
       " 'Arcade',\n",
       " 'Arena Shooter',\n",
       " 'Artificial Intelligence',\n",
       " 'Assassin',\n",
       " 'Asynchronous Multiplayer',\n",
       " 'Atmospheric',\n",
       " 'Audio Production',\n",
       " 'Base Building',\n",
       " 'Based On A Novel',\n",
       " 'Basketball',\n",
       " 'Batman',\n",
       " \"Beat 'em up\",\n",
       " 'Benchmark',\n",
       " 'Bikes',\n",
       " 'Blood',\n",
       " 'Board Game',\n",
       " 'Bowling',\n",
       " 'Building',\n",
       " 'Bullet Hell',\n",
       " 'Bullet Time',\n",
       " 'CRPG',\n",
       " 'Capitalism',\n",
       " 'Card Game',\n",
       " 'Cartoon',\n",
       " 'Cartoony',\n",
       " 'Casual',\n",
       " 'Character Action Game',\n",
       " 'Character Customization',\n",
       " 'Chess',\n",
       " 'Choices Matter',\n",
       " 'Choose Your Own Adventure',\n",
       " 'Cinematic',\n",
       " 'City Builder',\n",
       " 'Class-Based',\n",
       " 'Classic',\n",
       " 'Clicker',\n",
       " 'Co-op',\n",
       " 'Co-op Campaign',\n",
       " 'Cold War',\n",
       " 'Colorful',\n",
       " 'Comedy',\n",
       " 'Comic Book',\n",
       " 'Competitive',\n",
       " 'Conspiracy',\n",
       " 'Controller',\n",
       " 'Conversation',\n",
       " 'Crafting',\n",
       " 'Crime',\n",
       " 'Crowdfunded',\n",
       " 'Cult Classic',\n",
       " 'Cute',\n",
       " 'Cyberpunk',\n",
       " 'Cycling',\n",
       " 'Dark',\n",
       " 'Dark Comedy',\n",
       " 'Dark Fantasy',\n",
       " 'Dark Humor',\n",
       " 'Dating Sim',\n",
       " 'Demons',\n",
       " 'Design & Illustration',\n",
       " 'Destruction',\n",
       " 'Detective',\n",
       " 'Difficult',\n",
       " 'Dinosaurs',\n",
       " 'Diplomacy',\n",
       " 'Documentary',\n",
       " 'Dragons',\n",
       " 'Drama',\n",
       " 'Driving',\n",
       " 'Dungeon Crawler',\n",
       " 'Dynamic Narration',\n",
       " 'Dystopian',\n",
       " 'Early Access',\n",
       " 'Economy',\n",
       " 'Education',\n",
       " 'Episodic',\n",
       " 'Experience',\n",
       " 'Experimental',\n",
       " 'Exploration',\n",
       " 'FMV',\n",
       " 'FPS',\n",
       " 'Faith',\n",
       " 'Family Friendly',\n",
       " 'Fantasy',\n",
       " 'Fast-Paced',\n",
       " 'Feature Film',\n",
       " 'Female Protagonist',\n",
       " 'Fighting',\n",
       " 'First-Person',\n",
       " 'Fishing',\n",
       " 'Flight',\n",
       " 'Football',\n",
       " 'Foreign',\n",
       " 'Free to Play',\n",
       " 'Funny',\n",
       " 'Futuristic',\n",
       " 'Gambling',\n",
       " 'Game Development',\n",
       " 'GameMaker',\n",
       " 'Games Workshop',\n",
       " 'Gaming',\n",
       " 'God Game',\n",
       " 'Golf',\n",
       " 'Gore',\n",
       " 'Gothic',\n",
       " 'Grand Strategy',\n",
       " 'Great Soundtrack',\n",
       " 'Grid-Based Movement',\n",
       " 'Gun Customization',\n",
       " 'Hack and Slash',\n",
       " 'Hacking',\n",
       " 'Hand-drawn',\n",
       " 'Hardware',\n",
       " 'Heist',\n",
       " 'Hex Grid',\n",
       " 'Hidden Object',\n",
       " 'Historical',\n",
       " 'Horror',\n",
       " 'Horses',\n",
       " 'Hunting',\n",
       " 'Illuminati',\n",
       " 'Indie',\n",
       " 'Intentionally Awkward Controls',\n",
       " 'Interactive Fiction',\n",
       " 'Inventory Management',\n",
       " 'Investigation',\n",
       " 'Isometric',\n",
       " 'JRPG',\n",
       " 'Kickstarter',\n",
       " 'LEGO',\n",
       " 'Lara Croft',\n",
       " 'Lemmings',\n",
       " 'Level Editor',\n",
       " 'Linear',\n",
       " 'Local Co-Op',\n",
       " 'Local Multiplayer',\n",
       " 'Loot',\n",
       " 'Lore-Rich',\n",
       " 'Lovecraftian',\n",
       " 'MMORPG',\n",
       " 'MOBA',\n",
       " 'Magic',\n",
       " 'Management',\n",
       " 'Mars',\n",
       " 'Martial Arts',\n",
       " 'Massively Multiplayer',\n",
       " 'Match 3',\n",
       " 'Mature',\n",
       " 'Mechs',\n",
       " 'Medieval',\n",
       " 'Memes',\n",
       " 'Metroidvania',\n",
       " 'Military',\n",
       " 'Mini Golf',\n",
       " 'Minimalist',\n",
       " 'Mining',\n",
       " 'Mod',\n",
       " 'Moddable',\n",
       " 'Modern',\n",
       " 'Mouse only',\n",
       " 'Movie',\n",
       " 'Multiplayer',\n",
       " 'Multiple Endings',\n",
       " 'Music',\n",
       " 'Music-Based Procedural Generation',\n",
       " 'Mystery',\n",
       " 'Mystery Dungeon',\n",
       " 'Mythology',\n",
       " 'NSFW',\n",
       " 'Narration',\n",
       " 'Naval',\n",
       " 'Ninja',\n",
       " 'Noir',\n",
       " 'Nonlinear',\n",
       " 'Nudity',\n",
       " 'Offroad',\n",
       " 'On-Rails Shooter',\n",
       " 'Online Co-Op',\n",
       " 'Open World',\n",
       " 'Otome',\n",
       " 'Parkour',\n",
       " 'Parody',\n",
       " 'Party-Based RPG',\n",
       " 'Perma Death',\n",
       " 'Philisophical',\n",
       " 'Photo Editing',\n",
       " 'Physics',\n",
       " 'Pinball',\n",
       " 'Pirates',\n",
       " 'Pixel Graphics',\n",
       " 'Platformer',\n",
       " 'Point & Click',\n",
       " 'Political',\n",
       " 'Politics',\n",
       " 'Pool',\n",
       " 'Post-apocalyptic',\n",
       " 'Procedural Generation',\n",
       " 'Programming',\n",
       " 'Psychedelic',\n",
       " 'Psychological',\n",
       " 'Psychological Horror',\n",
       " 'Puzzle',\n",
       " 'Puzzle-Platformer',\n",
       " 'PvE',\n",
       " 'PvP',\n",
       " 'Quick-Time Events',\n",
       " 'RPG',\n",
       " 'RPGMaker',\n",
       " 'RTS',\n",
       " 'Racing',\n",
       " 'Real Time Tactics',\n",
       " 'Real-Time',\n",
       " 'Real-Time with Pause',\n",
       " 'Realistic',\n",
       " 'Relaxing',\n",
       " 'Remake',\n",
       " 'Replay Value',\n",
       " 'Resource Management',\n",
       " 'Retro',\n",
       " 'Rhythm',\n",
       " 'Robots',\n",
       " 'Rogue-like',\n",
       " 'Rogue-lite',\n",
       " 'Romance',\n",
       " 'Rome',\n",
       " 'Runner',\n",
       " 'Sailing',\n",
       " 'Sandbox',\n",
       " 'Satire',\n",
       " 'Sci-fi',\n",
       " 'Science',\n",
       " 'Score Attack',\n",
       " 'Sexual Content',\n",
       " \"Shoot 'Em Up\",\n",
       " 'Shooter',\n",
       " 'Short',\n",
       " 'Side Scroller',\n",
       " 'Silent Protagonist',\n",
       " 'Simulation',\n",
       " 'Singleplayer',\n",
       " 'Sniper',\n",
       " 'Soccer',\n",
       " 'Software',\n",
       " 'Software Training',\n",
       " 'Sokoban',\n",
       " 'Soundtrack',\n",
       " 'Space',\n",
       " 'Space Sim',\n",
       " 'Spectacle fighter',\n",
       " 'Spelling',\n",
       " 'Split Screen',\n",
       " 'Sports',\n",
       " 'Star Wars',\n",
       " 'Stealth',\n",
       " 'Steam Machine',\n",
       " 'Steampunk',\n",
       " 'Story Rich',\n",
       " 'Strategy',\n",
       " 'Strategy RPG',\n",
       " 'Stylized',\n",
       " 'Superhero',\n",
       " 'Supernatural',\n",
       " 'Surreal',\n",
       " 'Survival',\n",
       " 'Survival Horror',\n",
       " 'Swordplay',\n",
       " 'Tactical',\n",
       " 'Tactical RPG',\n",
       " 'Tanks',\n",
       " 'Team-Based',\n",
       " 'Text-Based',\n",
       " 'Third Person',\n",
       " 'Third-Person Shooter',\n",
       " 'Thriller',\n",
       " 'Time Attack',\n",
       " 'Time Manipulation',\n",
       " 'Time Travel',\n",
       " 'Top-Down',\n",
       " 'Top-Down Shooter',\n",
       " 'Touch-Friendly',\n",
       " 'Tower Defense',\n",
       " 'TrackIR',\n",
       " 'Trading',\n",
       " 'Trading Card Game',\n",
       " 'Trains',\n",
       " 'Transhumanism',\n",
       " 'Turn-Based',\n",
       " 'Turn-Based Combat',\n",
       " 'Turn-Based Strategy',\n",
       " 'Turn-Based Tactics',\n",
       " 'Tutorial',\n",
       " 'Twin Stick Shooter',\n",
       " 'Typing',\n",
       " 'Underground',\n",
       " 'Underwater',\n",
       " 'Utilities',\n",
       " 'VR',\n",
       " 'Vampire',\n",
       " 'Video Production',\n",
       " 'Villain Protagonist',\n",
       " 'Violent',\n",
       " 'Visual Novel',\n",
       " 'Voice Control',\n",
       " 'Voxel',\n",
       " 'Walking Simulator',\n",
       " 'War',\n",
       " 'Wargame',\n",
       " 'Warhammer 40K',\n",
       " 'Web Publishing',\n",
       " 'Werewolves',\n",
       " 'Western',\n",
       " 'Word Game',\n",
       " 'World War I',\n",
       " 'World War II',\n",
       " 'Wrestling',\n",
       " 'Zombies',\n",
       " 'e-sports'}"
      ]
     },
     "execution_count": 101,
     "metadata": {},
>>>>>>> 55c5a7615532b040cf4e3b66125c46d15dbafcca
     "output_type": "execute_result"
    }
   ],
   "source": [
<<<<<<< HEAD
    "# Previsualizo las primeras 5 instancias\n",
    "data_games.head()"
=======
    "listar(data_games.tags)"
>>>>>>> 55c5a7615532b040cf4e3b66125c46d15dbafcca
   ]
  },
  {
   "cell_type": "code",
<<<<<<< HEAD
   "execution_count": 24,
=======
   "execution_count": 103,
>>>>>>> 55c5a7615532b040cf4e3b66125c46d15dbafcca
   "metadata": {},
   "outputs": [
    {
     "data": {
      "text/html": [
<<<<<<< HEAD
       "<pre>✔️ 16 ms (2021-09-24T08:09:58/2021-09-24T08:09:58)</pre>"
=======
       "<pre>✔️ 16 ms (2021-09-15T21:48:21/2021-09-15T21:48:21)</pre>"
>>>>>>> 55c5a7615532b040cf4e3b66125c46d15dbafcca
      ],
      "text/plain": [
       "<IPython.core.display.HTML object>"
      ]
     },
     "metadata": {},
     "output_type": "display_data"
    },
    {
     "data": {
      "text/html": [
       "<div>\n",
       "<style scoped>\n",
       "    .dataframe tbody tr th:only-of-type {\n",
       "        vertical-align: middle;\n",
       "    }\n",
       "\n",
       "    .dataframe tbody tr th {\n",
       "        vertical-align: top;\n",
       "    }\n",
       "\n",
       "    .dataframe thead th {\n",
       "        text-align: right;\n",
       "    }\n",
       "</style>\n",
       "<table border=\"1\" class=\"dataframe\">\n",
       "  <thead>\n",
       "    <tr style=\"text-align: right;\">\n",
       "      <th></th>\n",
<<<<<<< HEAD
       "      <th>publisher</th>\n",
       "      <th>genres</th>\n",
       "      <th>app_name</th>\n",
       "      <th>title</th>\n",
       "      <th>url</th>\n",
       "      <th>release_date</th>\n",
       "      <th>tags</th>\n",
       "      <th>discount_price</th>\n",
       "      <th>reviews_url</th>\n",
       "      <th>specs</th>\n",
       "      <th>price</th>\n",
       "      <th>early_access</th>\n",
       "      <th>id</th>\n",
       "      <th>developer</th>\n",
       "      <th>sentiment</th>\n",
       "      <th>metascore</th>\n",
=======
       "      <th>product_id</th>\n",
       "      <th>app_name</th>\n",
       "      <th>genres</th>\n",
>>>>>>> 55c5a7615532b040cf4e3b66125c46d15dbafcca
       "    </tr>\n",
       "  </thead>\n",
       "  <tbody>\n",
       "    <tr>\n",
<<<<<<< HEAD
       "      <th>32130</th>\n",
       "      <td>Ghost_RUS Games</td>\n",
       "      <td>[Casual, Indie, Simulation, Strategy]</td>\n",
       "      <td>Colony On Mars</td>\n",
       "      <td>Colony On Mars</td>\n",
       "      <td>http://store.steampowered.com/app/773640/Colon...</td>\n",
       "      <td>2018-01-04</td>\n",
       "      <td>[Strategy, Indie, Casual, Simulation]</td>\n",
       "      <td>1.4900</td>\n",
       "      <td>http://steamcommunity.com/app/773640/reviews/?...</td>\n",
       "      <td>[Single-player, Steam Achievements]</td>\n",
       "      <td>1.9900</td>\n",
       "      <td>False</td>\n",
       "      <td>773640</td>\n",
       "      <td>Nikita \"Ghost_RUS\"</td>\n",
       "      <td>NaN</td>\n",
       "      <td>NaN</td>\n",
       "    </tr>\n",
       "    <tr>\n",
       "      <th>32131</th>\n",
       "      <td>Sacada</td>\n",
       "      <td>[Casual, Indie, Strategy]</td>\n",
       "      <td>LOGistICAL: South Africa</td>\n",
       "      <td>LOGistICAL: South Africa</td>\n",
       "      <td>http://store.steampowered.com/app/733530/LOGis...</td>\n",
       "      <td>2018-01-04</td>\n",
       "      <td>[Strategy, Indie, Casual]</td>\n",
       "      <td>4.2400</td>\n",
       "      <td>http://steamcommunity.com/app/733530/reviews/?...</td>\n",
       "      <td>[Single-player, Steam Achievements, Steam Clou...</td>\n",
       "      <td>4.9900</td>\n",
       "      <td>False</td>\n",
       "      <td>733530</td>\n",
       "      <td>Sacada</td>\n",
       "      <td>NaN</td>\n",
       "      <td>NaN</td>\n",
       "    </tr>\n",
       "    <tr>\n",
       "      <th>32132</th>\n",
       "      <td>Laush Studio</td>\n",
       "      <td>[Indie, Racing, Simulation]</td>\n",
       "      <td>Russian Roads</td>\n",
       "      <td>Russian Roads</td>\n",
       "      <td>http://store.steampowered.com/app/610660/Russi...</td>\n",
       "      <td>2018-01-04</td>\n",
       "      <td>[Indie, Simulation, Racing]</td>\n",
       "      <td>1.3900</td>\n",
       "      <td>http://steamcommunity.com/app/610660/reviews/?...</td>\n",
       "      <td>[Single-player, Steam Achievements, Steam Trad...</td>\n",
       "      <td>1.9900</td>\n",
       "      <td>False</td>\n",
       "      <td>610660</td>\n",
       "      <td>Laush Dmitriy Sergeevich</td>\n",
       "      <td>NaN</td>\n",
       "      <td>NaN</td>\n",
       "    </tr>\n",
       "    <tr>\n",
       "      <th>32133</th>\n",
       "      <td>SIXNAILS</td>\n",
       "      <td>[Casual, Indie]</td>\n",
       "      <td>EXIT 2 - Directions</td>\n",
       "      <td>EXIT 2 - Directions</td>\n",
       "      <td>http://store.steampowered.com/app/658870/EXIT_...</td>\n",
       "      <td>2017-09-02</td>\n",
       "      <td>[Indie, Casual, Puzzle, Singleplayer, Atmosphe...</td>\n",
       "      <td>NaN</td>\n",
       "      <td>http://steamcommunity.com/app/658870/reviews/?...</td>\n",
       "      <td>[Single-player, Steam Achievements, Steam Cloud]</td>\n",
       "      <td>4.9900</td>\n",
       "      <td>False</td>\n",
       "      <td>658870</td>\n",
       "      <td>xropi,stev3ns</td>\n",
       "      <td>1 user reviews</td>\n",
       "      <td>NaN</td>\n",
       "    </tr>\n",
       "    <tr>\n",
       "      <th>32134</th>\n",
       "      <td>NaN</td>\n",
       "      <td>NaN</td>\n",
       "      <td>Maze Run VR</td>\n",
       "      <td>NaN</td>\n",
       "      <td>http://store.steampowered.com/app/681550/Maze_...</td>\n",
       "      <td>NaN</td>\n",
       "      <td>[Early Access, Adventure, Indie, Action, Simul...</td>\n",
       "      <td>NaN</td>\n",
       "      <td>http://steamcommunity.com/app/681550/reviews/?...</td>\n",
       "      <td>[Single-player, Stats, Steam Leaderboards, HTC...</td>\n",
       "      <td>4.9900</td>\n",
       "      <td>True</td>\n",
       "      <td>681550</td>\n",
       "      <td>NaN</td>\n",
       "      <td>Positive</td>\n",
=======
       "      <th>0</th>\n",
       "      <td>761140</td>\n",
       "      <td>Lost Summoner Kitty</td>\n",
       "      <td>[Action, Casual, Indie, Simulation, Strategy]</td>\n",
       "    </tr>\n",
       "    <tr>\n",
       "      <th>1</th>\n",
       "      <td>643980</td>\n",
       "      <td>Ironbound</td>\n",
       "      <td>[Free to Play, Indie, RPG, Strategy]</td>\n",
       "    </tr>\n",
       "    <tr>\n",
       "      <th>2</th>\n",
       "      <td>670290</td>\n",
       "      <td>Real Pool 3D - Poolians</td>\n",
       "      <td>[Casual, Free to Play, Indie, Simulation, Sports]</td>\n",
       "    </tr>\n",
       "    <tr>\n",
       "      <th>3</th>\n",
       "      <td>767400</td>\n",
       "      <td>弹炸人2222</td>\n",
       "      <td>[Action, Adventure, Casual]</td>\n",
       "    </tr>\n",
       "    <tr>\n",
       "      <th>4</th>\n",
       "      <td>773570</td>\n",
       "      <td>Log Challenge</td>\n",
>>>>>>> 55c5a7615532b040cf4e3b66125c46d15dbafcca
       "      <td>NaN</td>\n",
       "    </tr>\n",
       "  </tbody>\n",
       "</table>\n",
       "</div>"
      ],
      "text/plain": [
<<<<<<< HEAD
       "             publisher                                 genres  \\\n",
       "32130  Ghost_RUS Games  [Casual, Indie, Simulation, Strategy]   \n",
       "32131           Sacada              [Casual, Indie, Strategy]   \n",
       "32132     Laush Studio            [Indie, Racing, Simulation]   \n",
       "32133         SIXNAILS                        [Casual, Indie]   \n",
       "32134              NaN                                    NaN   \n",
       "\n",
       "                       app_name                     title  \\\n",
       "32130            Colony On Mars            Colony On Mars   \n",
       "32131  LOGistICAL: South Africa  LOGistICAL: South Africa   \n",
       "32132             Russian Roads             Russian Roads   \n",
       "32133       EXIT 2 - Directions       EXIT 2 - Directions   \n",
       "32134               Maze Run VR                       NaN   \n",
       "\n",
       "                                                     url release_date  \\\n",
       "32130  http://store.steampowered.com/app/773640/Colon...   2018-01-04   \n",
       "32131  http://store.steampowered.com/app/733530/LOGis...   2018-01-04   \n",
       "32132  http://store.steampowered.com/app/610660/Russi...   2018-01-04   \n",
       "32133  http://store.steampowered.com/app/658870/EXIT_...   2017-09-02   \n",
       "32134  http://store.steampowered.com/app/681550/Maze_...          NaN   \n",
       "\n",
       "                                                    tags  discount_price  \\\n",
       "32130              [Strategy, Indie, Casual, Simulation]          1.4900   \n",
       "32131                          [Strategy, Indie, Casual]          4.2400   \n",
       "32132                        [Indie, Simulation, Racing]          1.3900   \n",
       "32133  [Indie, Casual, Puzzle, Singleplayer, Atmosphe...             NaN   \n",
       "32134  [Early Access, Adventure, Indie, Action, Simul...             NaN   \n",
       "\n",
       "                                             reviews_url  \\\n",
       "32130  http://steamcommunity.com/app/773640/reviews/?...   \n",
       "32131  http://steamcommunity.com/app/733530/reviews/?...   \n",
       "32132  http://steamcommunity.com/app/610660/reviews/?...   \n",
       "32133  http://steamcommunity.com/app/658870/reviews/?...   \n",
       "32134  http://steamcommunity.com/app/681550/reviews/?...   \n",
       "\n",
       "                                                   specs  price  early_access  \\\n",
       "32130                [Single-player, Steam Achievements] 1.9900         False   \n",
       "32131  [Single-player, Steam Achievements, Steam Clou... 4.9900         False   \n",
       "32132  [Single-player, Steam Achievements, Steam Trad... 1.9900         False   \n",
       "32133   [Single-player, Steam Achievements, Steam Cloud] 4.9900         False   \n",
       "32134  [Single-player, Stats, Steam Leaderboards, HTC... 4.9900          True   \n",
       "\n",
       "           id                 developer       sentiment metascore  \n",
       "32130  773640        Nikita \"Ghost_RUS\"             NaN       NaN  \n",
       "32131  733530                    Sacada             NaN       NaN  \n",
       "32132  610660  Laush Dmitriy Sergeevich             NaN       NaN  \n",
       "32133  658870             xropi,stev3ns  1 user reviews       NaN  \n",
       "32134  681550                       NaN        Positive       NaN  "
      ]
     },
     "execution_count": 24,
     "metadata": {},
     "output_type": "execute_result"
    }
   ],
   "source": [
    "# Previsualizo las ultimas 5 instancias\n",
    "data_games.tail()"
   ]
  },
  {
   "cell_type": "code",
   "execution_count": 25,
   "metadata": {},
   "outputs": [
    {
     "data": {
      "text/html": [
       "<pre>✔️ 46 ms (2021-09-24T08:09:59/2021-09-24T08:09:59)</pre>"
      ],
      "text/plain": [
       "<IPython.core.display.HTML object>"
      ]
     },
     "metadata": {},
     "output_type": "display_data"
    },
    {
     "name": "stdout",
     "output_type": "stream",
     "text": [
      "<class 'pandas.core.frame.DataFrame'>\n",
      "RangeIndex: 32135 entries, 0 to 32134\n",
      "Data columns (total 16 columns):\n",
      " #   Column          Non-Null Count  Dtype  \n",
      "---  ------          --------------  -----  \n",
      " 0   publisher       24083 non-null  object \n",
      " 1   genres          28852 non-null  object \n",
      " 2   app_name        32133 non-null  object \n",
      " 3   title           30085 non-null  object \n",
      " 4   url             32135 non-null  object \n",
      " 5   release_date    30068 non-null  object \n",
      " 6   tags            31972 non-null  object \n",
      " 7   discount_price  225 non-null    float64\n",
      " 8   reviews_url     32133 non-null  object \n",
      " 9   specs           31465 non-null  object \n",
      " 10  price           30758 non-null  object \n",
      " 11  early_access    32135 non-null  bool   \n",
      " 12  id              32133 non-null  object \n",
      " 13  developer       28836 non-null  object \n",
      " 14  sentiment       24953 non-null  object \n",
      " 15  metascore       2677 non-null   object \n",
      "dtypes: bool(1), float64(1), object(14)\n",
      "memory usage: 3.7+ MB\n"
     ]
    }
   ],
   "source": [
    "# Reviso la informacion general del dataset\n",
    "data_games.info()"
=======
       "   product_id                 app_name  \\\n",
       "0      761140      Lost Summoner Kitty   \n",
       "1      643980                Ironbound   \n",
       "2      670290  Real Pool 3D - Poolians   \n",
       "3      767400                  弹炸人2222   \n",
       "4      773570            Log Challenge   \n",
       "\n",
       "                                              genres  \n",
       "0      [Action, Casual, Indie, Simulation, Strategy]  \n",
       "1               [Free to Play, Indie, RPG, Strategy]  \n",
       "2  [Casual, Free to Play, Indie, Simulation, Sports]  \n",
       "3                        [Action, Adventure, Casual]  \n",
       "4                                                NaN  "
      ]
     },
     "execution_count": 103,
     "metadata": {},
     "output_type": "execute_result"
    }
   ],
   "source": [
    "df2_games = data_games[['product_id', 'app_name', 'genres']]\n",
    "df2_games.head()"
>>>>>>> 55c5a7615532b040cf4e3b66125c46d15dbafcca
   ]
  },
  {
   "cell_type": "code",
<<<<<<< HEAD
   "execution_count": 26,
=======
   "execution_count": null,
   "metadata": {},
   "outputs": [],
   "source": []
  },
  {
   "cell_type": "markdown",
>>>>>>> 55c5a7615532b040cf4e3b66125c46d15dbafcca
   "metadata": {},
   "outputs": [
    {
     "data": {
      "text/html": [
       "<pre>✔️ 47 ms (2021-09-24T08:10:00/2021-09-24T08:10:00)</pre>"
      ],
      "text/plain": [
       "<IPython.core.display.HTML object>"
      ]
     },
     "metadata": {},
     "output_type": "display_data"
    },
    {
     "data": {
      "text/plain": [
       "publisher          8052\n",
       "genres             3283\n",
       "app_name              2\n",
       "title              2050\n",
       "url                   0\n",
       "release_date       2067\n",
       "tags                163\n",
       "discount_price    31910\n",
       "reviews_url           2\n",
       "specs               670\n",
       "price              1377\n",
       "early_access          0\n",
       "id                    2\n",
       "developer          3299\n",
       "sentiment          7182\n",
       "metascore         29458\n",
       "dtype: int64"
      ]
     },
     "execution_count": 26,
     "metadata": {},
     "output_type": "execute_result"
    }
   ],
   "source": [
<<<<<<< HEAD
    "# Vemos los missings\n",
    "data_games.isna().sum()"
=======
    "### Detección de idioma"
>>>>>>> 55c5a7615532b040cf4e3b66125c46d15dbafcca
   ]
  },
  {
   "cell_type": "code",
<<<<<<< HEAD
   "execution_count": 27,
=======
   "execution_count": 26,
>>>>>>> 55c5a7615532b040cf4e3b66125c46d15dbafcca
   "metadata": {},
   "outputs": [
    {
     "data": {
      "text/html": [
<<<<<<< HEAD
       "<pre>✔️ 15 ms (2021-09-24T08:10:01/2021-09-24T08:10:01)</pre>"
      ],
      "text/plain": [
       "<IPython.core.display.HTML object>"
      ]
     },
     "metadata": {},
     "output_type": "display_data"
    },
    {
     "data": {
      "text/html": [
       "<div>\n",
       "<style scoped>\n",
       "    .dataframe tbody tr th:only-of-type {\n",
       "        vertical-align: middle;\n",
       "    }\n",
       "\n",
       "    .dataframe tbody tr th {\n",
       "        vertical-align: top;\n",
       "    }\n",
       "\n",
       "    .dataframe thead th {\n",
       "        text-align: right;\n",
       "    }\n",
       "</style>\n",
       "<table border=\"1\" class=\"dataframe\">\n",
       "  <thead>\n",
       "    <tr style=\"text-align: right;\">\n",
       "      <th></th>\n",
       "      <th>publisher</th>\n",
       "      <th>genres</th>\n",
       "      <th>app_name</th>\n",
       "      <th>tags</th>\n",
       "      <th>specs</th>\n",
       "      <th>price</th>\n",
       "      <th>id</th>\n",
       "      <th>developer</th>\n",
       "      <th>sentiment</th>\n",
       "    </tr>\n",
       "  </thead>\n",
       "  <tbody>\n",
       "    <tr>\n",
       "      <th>0</th>\n",
       "      <td>Kotoshiro</td>\n",
       "      <td>[Action, Casual, Indie, Simulation, Strategy]</td>\n",
       "      <td>Lost Summoner Kitty</td>\n",
       "      <td>[Strategy, Action, Indie, Casual, Simulation]</td>\n",
       "      <td>[Single-player]</td>\n",
       "      <td>4.9900</td>\n",
       "      <td>761140</td>\n",
       "      <td>Kotoshiro</td>\n",
       "      <td>NaN</td>\n",
       "    </tr>\n",
       "    <tr>\n",
       "      <th>1</th>\n",
       "      <td>Making Fun, Inc.</td>\n",
       "      <td>[Free to Play, Indie, RPG, Strategy]</td>\n",
       "      <td>Ironbound</td>\n",
       "      <td>[Free to Play, Strategy, Indie, RPG, Card Game...</td>\n",
       "      <td>[Single-player, Multi-player, Online Multi-Pla...</td>\n",
       "      <td>Free To Play</td>\n",
       "      <td>643980</td>\n",
       "      <td>Secret Level SRL</td>\n",
       "      <td>Mostly Positive</td>\n",
       "    </tr>\n",
       "    <tr>\n",
       "      <th>2</th>\n",
       "      <td>Poolians.com</td>\n",
       "      <td>[Casual, Free to Play, Indie, Simulation, Sports]</td>\n",
       "      <td>Real Pool 3D - Poolians</td>\n",
       "      <td>[Free to Play, Simulation, Sports, Casual, Ind...</td>\n",
       "      <td>[Single-player, Multi-player, Online Multi-Pla...</td>\n",
       "      <td>Free to Play</td>\n",
       "      <td>670290</td>\n",
       "      <td>Poolians.com</td>\n",
       "      <td>Mostly Positive</td>\n",
       "    </tr>\n",
       "    <tr>\n",
       "      <th>3</th>\n",
       "      <td>彼岸领域</td>\n",
       "      <td>[Action, Adventure, Casual]</td>\n",
       "      <td>弹炸人2222</td>\n",
       "      <td>[Action, Adventure, Casual]</td>\n",
       "      <td>[Single-player]</td>\n",
       "      <td>0.9900</td>\n",
       "      <td>767400</td>\n",
       "      <td>彼岸领域</td>\n",
       "      <td>NaN</td>\n",
       "    </tr>\n",
       "    <tr>\n",
       "      <th>4</th>\n",
       "      <td>NaN</td>\n",
       "      <td>NaN</td>\n",
       "      <td>Log Challenge</td>\n",
       "      <td>[Action, Indie, Casual, Sports]</td>\n",
       "      <td>[Single-player, Full controller support, HTC V...</td>\n",
       "      <td>2.9900</td>\n",
       "      <td>773570</td>\n",
       "      <td>NaN</td>\n",
       "      <td>NaN</td>\n",
       "    </tr>\n",
       "  </tbody>\n",
       "</table>\n",
       "</div>"
      ],
      "text/plain": [
       "          publisher                                             genres  \\\n",
       "0         Kotoshiro      [Action, Casual, Indie, Simulation, Strategy]   \n",
       "1  Making Fun, Inc.               [Free to Play, Indie, RPG, Strategy]   \n",
       "2      Poolians.com  [Casual, Free to Play, Indie, Simulation, Sports]   \n",
       "3              彼岸领域                        [Action, Adventure, Casual]   \n",
       "4               NaN                                                NaN   \n",
       "\n",
       "                  app_name                                               tags  \\\n",
       "0      Lost Summoner Kitty      [Strategy, Action, Indie, Casual, Simulation]   \n",
       "1                Ironbound  [Free to Play, Strategy, Indie, RPG, Card Game...   \n",
       "2  Real Pool 3D - Poolians  [Free to Play, Simulation, Sports, Casual, Ind...   \n",
       "3                  弹炸人2222                        [Action, Adventure, Casual]   \n",
       "4            Log Challenge                    [Action, Indie, Casual, Sports]   \n",
       "\n",
       "                                               specs         price      id  \\\n",
       "0                                    [Single-player]        4.9900  761140   \n",
       "1  [Single-player, Multi-player, Online Multi-Pla...  Free To Play  643980   \n",
       "2  [Single-player, Multi-player, Online Multi-Pla...  Free to Play  670290   \n",
       "3                                    [Single-player]        0.9900  767400   \n",
       "4  [Single-player, Full controller support, HTC V...        2.9900  773570   \n",
       "\n",
       "          developer        sentiment  \n",
       "0         Kotoshiro              NaN  \n",
       "1  Secret Level SRL  Mostly Positive  \n",
       "2      Poolians.com  Mostly Positive  \n",
       "3              彼岸领域              NaN  \n",
       "4               NaN              NaN  "
      ]
     },
     "execution_count": 27,
     "metadata": {},
     "output_type": "execute_result"
    }
   ],
   "source": [
    "# Selecciono las columnas que me interesan\n",
    "# Descarto la columna 'title' ya que tienen muchos missings y la columna 'app_name' tiene los nombres de los juegos\n",
    "columnas = ['publisher', 'genres', 'app_name', 'tags', 'specs', 'price', 'id', 'developer', 'sentiment']\n",
    "data_games = data_games[columnas]\n",
    "data_games.head()"
=======
       "<pre>✔️ 0 ns (2021-09-15T19:41:55/2021-09-15T19:41:55)</pre>"
      ],
      "text/plain": [
       "<IPython.core.display.HTML object>"
      ]
     },
     "metadata": {},
     "output_type": "display_data"
    }
   ],
   "source": [
    "# Creamos método para eliminar los caracteres que no sean letras\n",
    "def cleanText(text):\n",
    "    # Vamos a reemplzar los caracteres que no sean letras por espacios\n",
    "    text = re.sub(\"[^A-Za-z]\",\" \",str(text))\n",
    "    return text"
>>>>>>> 55c5a7615532b040cf4e3b66125c46d15dbafcca
   ]
  },
  {
   "cell_type": "code",
<<<<<<< HEAD
   "execution_count": 28,
=======
   "execution_count": 27,
>>>>>>> 55c5a7615532b040cf4e3b66125c46d15dbafcca
   "metadata": {},
   "outputs": [
    {
     "data": {
      "text/html": [
<<<<<<< HEAD
       "<pre>✔️ 10.6 s (2021-09-24T08:10:02/2021-09-24T08:10:13)</pre>"
=======
       "<pre>✔️ 47 ms (2021-09-15T19:41:58/2021-09-15T19:41:58)</pre>"
>>>>>>> 55c5a7615532b040cf4e3b66125c46d15dbafcca
      ],
      "text/plain": [
       "<IPython.core.display.HTML object>"
      ]
     },
     "metadata": {},
     "output_type": "display_data"
<<<<<<< HEAD
    },
    {
     "data": {
      "text/html": [
       "<div>\n",
       "<style scoped>\n",
       "    .dataframe tbody tr th:only-of-type {\n",
       "        vertical-align: middle;\n",
       "    }\n",
       "\n",
       "    .dataframe tbody tr th {\n",
       "        vertical-align: top;\n",
       "    }\n",
       "\n",
       "    .dataframe thead th {\n",
       "        text-align: right;\n",
       "    }\n",
       "</style>\n",
       "<table border=\"1\" class=\"dataframe\">\n",
       "  <thead>\n",
       "    <tr style=\"text-align: right;\">\n",
       "      <th></th>\n",
       "      <th>publisher</th>\n",
       "      <th>genres</th>\n",
       "      <th>app_name</th>\n",
       "      <th>tags</th>\n",
       "      <th>specs</th>\n",
       "      <th>price</th>\n",
       "      <th>id</th>\n",
       "      <th>developer</th>\n",
       "      <th>sentiment</th>\n",
       "    </tr>\n",
       "  </thead>\n",
       "  <tbody>\n",
       "    <tr>\n",
       "      <th>count</th>\n",
       "      <td>24083</td>\n",
       "      <td>28852</td>\n",
       "      <td>32133</td>\n",
       "      <td>31972</td>\n",
       "      <td>31465</td>\n",
       "      <td>30758.0000</td>\n",
       "      <td>32133</td>\n",
       "      <td>28836</td>\n",
       "      <td>24953</td>\n",
       "    </tr>\n",
       "    <tr>\n",
       "      <th>unique</th>\n",
       "      <td>8239</td>\n",
       "      <td>883</td>\n",
       "      <td>32094</td>\n",
       "      <td>15395</td>\n",
       "      <td>4649</td>\n",
       "      <td>162.0000</td>\n",
       "      <td>32132</td>\n",
       "      <td>10992</td>\n",
       "      <td>18</td>\n",
       "    </tr>\n",
       "    <tr>\n",
       "      <th>top</th>\n",
       "      <td>Ubisoft</td>\n",
       "      <td>[Action]</td>\n",
       "      <td>Soundtrack</td>\n",
       "      <td>[Casual, Simulation]</td>\n",
       "      <td>[Single-player]</td>\n",
       "      <td>4.9900</td>\n",
       "      <td>612880</td>\n",
       "      <td>Ubisoft - San Francisco</td>\n",
       "      <td>Mixed</td>\n",
       "    </tr>\n",
       "    <tr>\n",
       "      <th>freq</th>\n",
       "      <td>385</td>\n",
       "      <td>1880</td>\n",
       "      <td>3</td>\n",
       "      <td>1292</td>\n",
       "      <td>2794</td>\n",
       "      <td>4278.0000</td>\n",
       "      <td>2</td>\n",
       "      <td>1259</td>\n",
       "      <td>4103</td>\n",
       "    </tr>\n",
       "  </tbody>\n",
       "</table>\n",
       "</div>"
      ],
      "text/plain": [
       "       publisher    genres    app_name                  tags            specs  \\\n",
       "count      24083     28852       32133                 31972            31465   \n",
       "unique      8239       883       32094                 15395             4649   \n",
       "top      Ubisoft  [Action]  Soundtrack  [Casual, Simulation]  [Single-player]   \n",
       "freq         385      1880           3                  1292             2794   \n",
       "\n",
       "            price      id                developer sentiment  \n",
       "count  30758.0000   32133                    28836     24953  \n",
       "unique   162.0000   32132                    10992        18  \n",
       "top        4.9900  612880  Ubisoft - San Francisco     Mixed  \n",
       "freq    4278.0000       2                     1259      4103  "
      ]
     },
     "execution_count": 28,
     "metadata": {},
     "output_type": "execute_result"
    }
   ],
   "source": [
    "# Exploramos los estadisticos principales\n",
    "data_games.describe()"
=======
    }
   ],
   "source": [
    "# Trabajaremos sobre una copia del dataset de reviews\n",
    "df_reviews = data_reviews.copy()"
>>>>>>> 55c5a7615532b040cf4e3b66125c46d15dbafcca
   ]
  },
  {
   "cell_type": "code",
<<<<<<< HEAD
   "execution_count": 29,
=======
   "execution_count": 28,
>>>>>>> 55c5a7615532b040cf4e3b66125c46d15dbafcca
   "metadata": {},
   "outputs": [
    {
     "data": {
      "text/html": [
<<<<<<< HEAD
       "<pre>✔️ 32 ms (2021-09-24T08:10:13/2021-09-24T08:10:13)</pre>"
=======
       "<pre>✔️ 26.3 s (2021-09-15T19:41:58/2021-09-15T19:42:24)</pre>"
>>>>>>> 55c5a7615532b040cf4e3b66125c46d15dbafcca
      ],
      "text/plain": [
       "<IPython.core.display.HTML object>"
      ]
     },
     "metadata": {},
     "output_type": "display_data"
    },
<<<<<<< HEAD
    {
     "data": {
      "text/plain": [
       "publisher    8052\n",
       "genres       3283\n",
       "app_name        2\n",
       "tags          163\n",
       "specs         670\n",
       "price        1377\n",
       "id              2\n",
       "developer    3299\n",
       "sentiment    7182\n",
       "dtype: int64"
      ]
     },
     "execution_count": 29,
     "metadata": {},
     "output_type": "execute_result"
    }
   ],
   "source": [
    "# Vemos los missings\n",
    "data_games.isna().sum()"
   ]
  },
  {
   "cell_type": "code",
   "execution_count": 30,
   "metadata": {},
   "outputs": [
    {
     "data": {
      "text/html": [
       "<pre>✔️ 15 ms (2021-09-24T08:10:14/2021-09-24T08:10:14)</pre>"
      ],
      "text/plain": [
       "<IPython.core.display.HTML object>"
=======
    {
     "data": {
      "application/vnd.jupyter.widget-view+json": {
       "model_id": "7717e52d83884201a77c13b92eb6cb48",
       "version_major": 2,
       "version_minor": 0
      },
      "text/plain": [
       "  0%|          | 0/774825 [00:00<?, ?it/s]"
>>>>>>> 55c5a7615532b040cf4e3b66125c46d15dbafcca
      ]
     },
     "metadata": {},
     "output_type": "display_data"
    }
   ],
   "source": [
<<<<<<< HEAD
    "# Descarto los missings de 'id' y de 'app_name'\n",
    "data_games.dropna(axis=0, subset=['id', 'app_name'], inplace=True)"
=======
    "# Aplicamos el método a la columna de texto\n",
    "df_reviews['text'] = df_reviews['text'].progress_apply(cleanText)"
>>>>>>> 55c5a7615532b040cf4e3b66125c46d15dbafcca
   ]
  },
  {
   "cell_type": "code",
<<<<<<< HEAD
   "execution_count": 31,
   "metadata": {},
=======
   "execution_count": 29,
   "metadata": {
    "scrolled": true
   },
>>>>>>> 55c5a7615532b040cf4e3b66125c46d15dbafcca
   "outputs": [
    {
     "data": {
      "text/html": [
<<<<<<< HEAD
       "<pre>✔️ 16 ms (2021-09-24T08:10:15/2021-09-24T08:10:15)</pre>"
=======
       "<pre>✔️ 16 ms (2021-09-15T19:42:24/2021-09-15T19:42:24)</pre>"
>>>>>>> 55c5a7615532b040cf4e3b66125c46d15dbafcca
      ],
      "text/plain": [
       "<IPython.core.display.HTML object>"
      ]
     },
     "metadata": {},
     "output_type": "display_data"
    },
    {
     "data": {
<<<<<<< HEAD
      "text/plain": [
       "publisher    object\n",
       "genres       object\n",
       "app_name     object\n",
       "tags         object\n",
       "specs        object\n",
       "price        object\n",
       "id           object\n",
       "developer    object\n",
       "sentiment    object\n",
       "dtype: object"
      ]
     },
     "execution_count": 31,
     "metadata": {},
     "output_type": "execute_result"
    }
   ],
   "source": [
    "# Observamos los tipos de dato\n",
    "data_games.dtypes"
   ]
  },
  {
   "cell_type": "code",
   "execution_count": 32,
   "metadata": {},
   "outputs": [
    {
     "data": {
      "text/html": [
       "<pre>✔️ 15 ms (2021-09-24T08:10:15/2021-09-24T08:10:15)</pre>"
      ],
      "text/plain": [
       "<IPython.core.display.HTML object>"
      ]
     },
     "metadata": {},
     "output_type": "display_data"
    }
   ],
   "source": [
    "# Cambio el tipo de dato de la columna 'id' para que coincida con la del dataframe 'data_reviews' \n",
    "data_games['id'] = data_games['id'].astype('int64')"
   ]
  },
  {
   "cell_type": "code",
   "execution_count": 33,
   "metadata": {},
   "outputs": [
    {
     "data": {
      "text/html": [
       "<pre>✔️ 16 ms (2021-09-24T08:10:16/2021-09-24T08:10:16)</pre>"
      ],
      "text/plain": [
       "<IPython.core.display.HTML object>"
      ]
     },
     "metadata": {},
     "output_type": "display_data"
    },
    {
     "data": {
      "text/plain": [
       "publisher    object\n",
       "genres       object\n",
       "app_name     object\n",
       "tags         object\n",
       "specs        object\n",
       "price        object\n",
       "id            int64\n",
       "developer    object\n",
       "sentiment    object\n",
       "dtype: object"
      ]
     },
     "execution_count": 33,
=======
      "text/html": [
       "<div>\n",
       "<style scoped>\n",
       "    .dataframe tbody tr th:only-of-type {\n",
       "        vertical-align: middle;\n",
       "    }\n",
       "\n",
       "    .dataframe tbody tr th {\n",
       "        vertical-align: top;\n",
       "    }\n",
       "\n",
       "    .dataframe thead th {\n",
       "        text-align: right;\n",
       "    }\n",
       "</style>\n",
       "<table border=\"1\" class=\"dataframe\">\n",
       "  <thead>\n",
       "    <tr style=\"text-align: right;\">\n",
       "      <th></th>\n",
       "      <th>username</th>\n",
       "      <th>hours</th>\n",
       "      <th>product_id</th>\n",
       "      <th>date</th>\n",
       "      <th>text</th>\n",
       "    </tr>\n",
       "  </thead>\n",
       "  <tbody>\n",
       "    <tr>\n",
       "      <th>0</th>\n",
       "      <td>Chaos Syren</td>\n",
       "      <td>0.1000</td>\n",
       "      <td>725280</td>\n",
       "      <td>2017-12-17</td>\n",
       "      <td>This would not be acceptable as an entertainme...</td>\n",
       "    </tr>\n",
       "    <tr>\n",
       "      <th>1</th>\n",
       "      <td>Ariman1</td>\n",
       "      <td>13.2000</td>\n",
       "      <td>328100</td>\n",
       "      <td>2017-08-02</td>\n",
       "      <td>Addictive RPG   Works fine on linux though it ...</td>\n",
       "    </tr>\n",
       "    <tr>\n",
       "      <th>2</th>\n",
       "      <td>freakfantom</td>\n",
       "      <td>0.1000</td>\n",
       "      <td>725280</td>\n",
       "      <td>2017-11-12</td>\n",
       "      <td></td>\n",
       "    </tr>\n",
       "    <tr>\n",
       "      <th>3</th>\n",
       "      <td>The_Cpt_FROGGY</td>\n",
       "      <td>7.8000</td>\n",
       "      <td>631920</td>\n",
       "      <td>2017-12-11</td>\n",
       "      <td>Somewhere on Zibylon                     Zibyl...</td>\n",
       "    </tr>\n",
       "    <tr>\n",
       "      <th>4</th>\n",
       "      <td>the_maker988</td>\n",
       "      <td>8.2000</td>\n",
       "      <td>35140</td>\n",
       "      <td>2018-01-02</td>\n",
       "      <td>This game was way to linear for me  and compar...</td>\n",
       "    </tr>\n",
       "  </tbody>\n",
       "</table>\n",
       "</div>"
      ],
      "text/plain": [
       "         username   hours  product_id        date  \\\n",
       "0     Chaos Syren  0.1000      725280  2017-12-17   \n",
       "1         Ariman1 13.2000      328100  2017-08-02   \n",
       "2     freakfantom  0.1000      725280  2017-11-12   \n",
       "3  The_Cpt_FROGGY  7.8000      631920  2017-12-11   \n",
       "4    the_maker988  8.2000       35140  2018-01-02   \n",
       "\n",
       "                                                text  \n",
       "0  This would not be acceptable as an entertainme...  \n",
       "1  Addictive RPG   Works fine on linux though it ...  \n",
       "2                                                     \n",
       "3  Somewhere on Zibylon                     Zibyl...  \n",
       "4  This game was way to linear for me  and compar...  "
      ]
     },
     "execution_count": 29,
>>>>>>> 55c5a7615532b040cf4e3b66125c46d15dbafcca
     "metadata": {},
     "output_type": "execute_result"
    }
   ],
<<<<<<< HEAD
   "source": [
    "# Chequeo los data types\n",
    "data_games.dtypes"
   ]
  },
  {
   "cell_type": "markdown",
   "metadata": {},
   "source": [
    "### Procesamiento de texto"
   ]
  },
  {
   "cell_type": "markdown",
   "metadata": {},
   "source": [
    "A continuacion vamos a procesar el campo 'text' (que contiene los comentarios de las reviews) para inferir un 'rating' y ver si ese juego es de la preferencia o no del usuario."
=======
   "source": [
    "# Vemos como quedaron las primeras instancias\n",
    "df_reviews.head()"
   ]
  },
  {
   "cell_type": "code",
   "execution_count": 30,
   "metadata": {},
   "outputs": [
    {
     "data": {
      "text/html": [
       "<pre>✔️ 0 ns (2021-09-15T19:42:25/2021-09-15T19:42:25)</pre>"
      ],
      "text/plain": [
       "<IPython.core.display.HTML object>"
      ]
     },
     "metadata": {},
     "output_type": "display_data"
    }
   ],
   "source": [
    "# Creamos función para detectar idioma\n",
    "def getLang(text):\n",
    "    try:\n",
    "        lang = detect(text)                                     \n",
    "    except:\n",
    "        lang = np.NaN\n",
    "    return lang"
>>>>>>> 55c5a7615532b040cf4e3b66125c46d15dbafcca
   ]
  },
  {
   "cell_type": "code",
<<<<<<< HEAD
   "execution_count": 96,
=======
   "execution_count": 31,
>>>>>>> 55c5a7615532b040cf4e3b66125c46d15dbafcca
   "metadata": {},
   "outputs": [
    {
     "data": {
      "text/html": [
<<<<<<< HEAD
       "<pre>✔️ 109 ms (2021-09-24T08:42:48/2021-09-24T08:42:48)</pre>"
=======
       "<pre>✔️ 7.69 s (2021-09-15T19:42:25/2021-09-15T19:42:32)</pre>"
>>>>>>> 55c5a7615532b040cf4e3b66125c46d15dbafcca
      ],
      "text/plain": [
       "<IPython.core.display.HTML object>"
      ]
     },
     "metadata": {},
     "output_type": "display_data"
    }
   ],
   "source": [
<<<<<<< HEAD
    "# Trabajaremos sobre una copia del dataset de reviews\n",
    "df_reviews = data_reviews.copy()"
=======
    "if DETECT_LANG:\n",
    "    df_reviews['lang'] = df_reviews['text'].progress_apply(getLang)\n",
    "    df_reviews.to_csv('df_reviews.csv', index_label='index')\n",
    "else:\n",
    "    df_reviews = pd.read_csv('df_reviews.csv', index_col='index')"
>>>>>>> 55c5a7615532b040cf4e3b66125c46d15dbafcca
   ]
  },
  {
   "cell_type": "code",
<<<<<<< HEAD
   "execution_count": 97,
=======
   "execution_count": 32,
>>>>>>> 55c5a7615532b040cf4e3b66125c46d15dbafcca
   "metadata": {},
   "outputs": [
    {
     "data": {
      "text/html": [
<<<<<<< HEAD
       "<pre>✔️ 0 ns (2021-09-24T08:42:51/2021-09-24T08:42:51)</pre>"
=======
       "<pre>✔️ 62 ms (2021-09-15T19:42:33/2021-09-15T19:42:33)</pre>"
>>>>>>> 55c5a7615532b040cf4e3b66125c46d15dbafcca
      ],
      "text/plain": [
       "<IPython.core.display.HTML object>"
      ]
     },
     "metadata": {},
     "output_type": "display_data"
    },
    {
     "data": {
      "text/plain": [
<<<<<<< HEAD
       "(779307, 5)"
      ]
     },
     "execution_count": 97,
=======
       "array(['en', nan, 'so', 'pl', 'de', 'it', 'fr', 'ca', 'sw', 'tr', 'af',\n",
       "       'hr', 'tl', 'no', 'es', 'ro', 'vi', 'nl', 'sq', 'cy', 'pt', 'id',\n",
       "       'lv', 'et', 'hu', 'lt', 'da', 'sl', 'sk', 'fi', 'sv', 'cs', 'uk'],\n",
       "      dtype=object)"
      ]
     },
     "execution_count": 32,
>>>>>>> 55c5a7615532b040cf4e3b66125c46d15dbafcca
     "metadata": {},
     "output_type": "execute_result"
    }
   ],
   "source": [
<<<<<<< HEAD
    "df_reviews.shape"
=======
    "# Vemos los diferentes idiomas detectados\n",
    "df_reviews.lang.unique()"
>>>>>>> 55c5a7615532b040cf4e3b66125c46d15dbafcca
   ]
  },
  {
   "cell_type": "code",
<<<<<<< HEAD
   "execution_count": 98,
=======
   "execution_count": 43,
>>>>>>> 55c5a7615532b040cf4e3b66125c46d15dbafcca
   "metadata": {},
   "outputs": [
    {
     "data": {
      "text/html": [
<<<<<<< HEAD
       "<pre>✔️ 0 ns (2021-09-24T08:42:55/2021-09-24T08:42:55)</pre>"
=======
       "<pre>✔️ 156 ms (2021-09-15T19:49:59/2021-09-15T19:49:59)</pre>"
>>>>>>> 55c5a7615532b040cf4e3b66125c46d15dbafcca
      ],
      "text/plain": [
       "<IPython.core.display.HTML object>"
      ]
     },
     "metadata": {},
     "output_type": "display_data"
    },
    {
<<<<<<< HEAD
     "name": "stderr",
     "output_type": "stream",
     "text": [
      "[nltk_data] Downloading package stopwords to\n",
      "[nltk_data]     C:\\Users\\Jose\\AppData\\Roaming\\nltk_data...\n",
      "[nltk_data]   Package stopwords is already up-to-date!\n"
     ]
    }
   ],
   "source": [
    "nltk.download('stopwords')\n",
=======
     "data": {
      "text/plain": [
       "username           18\n",
       "product_id          0\n",
       "text                0\n",
       "found_funny    657709\n",
       "hours            2625\n",
       "lang             8201\n",
       "dtype: int64"
      ]
     },
     "execution_count": 43,
     "metadata": {},
     "output_type": "execute_result"
    }
   ],
   "source": [
    "df_reviews.isna().sum()"
   ]
  },
  {
   "cell_type": "code",
   "execution_count": 42,
   "metadata": {},
   "outputs": [
    {
     "data": {
      "text/html": [
       "<pre>✔️ 140 ms (2021-09-15T19:48:49/2021-09-15T19:48:49)</pre>"
      ],
      "text/plain": [
       "<IPython.core.display.HTML object>"
      ]
     },
     "metadata": {},
     "output_type": "display_data"
    },
    {
     "data": {
      "text/plain": [
       "lang\n",
       "af      7416\n",
       "ca      2816\n",
       "cs       367\n",
       "cy      4123\n",
       "da      3897\n",
       "de      8799\n",
       "en    685187\n",
       "es      3207\n",
       "et      1757\n",
       "fi       871\n",
       "fr      2617\n",
       "hr      1225\n",
       "hu       845\n",
       "id      2529\n",
       "it      2528\n",
       "lt       378\n",
       "lv       372\n",
       "nl      3131\n",
       "no      4051\n",
       "pl      2459\n",
       "pt      2390\n",
       "ro      3390\n",
       "sk       664\n",
       "sl      1324\n",
       "so     10802\n",
       "sq      1275\n",
       "sv       904\n",
       "sw      1579\n",
       "tl      5307\n",
       "tr      1802\n",
       "uk        15\n",
       "vi      1222\n",
       "Name: username, dtype: int64"
      ]
     },
     "execution_count": 42,
     "metadata": {},
     "output_type": "execute_result"
    }
   ],
   "source": [
    "df_reviews.groupby('lang').username.count()"
   ]
  },
  {
   "cell_type": "code",
   "execution_count": 44,
   "metadata": {},
   "outputs": [
    {
     "data": {
      "text/html": [
       "<pre>✔️ 266 ms (2021-09-15T19:56:06/2021-09-15T19:56:06)</pre>"
      ],
      "text/plain": [
       "<IPython.core.display.HTML object>"
      ]
     },
     "metadata": {},
     "output_type": "display_data"
    }
   ],
   "source": [
    "df_reviews = df_reviews.dropna()"
   ]
  },
  {
   "cell_type": "code",
   "execution_count": 45,
   "metadata": {},
   "outputs": [
    {
     "data": {
      "text/html": [
       "<pre>✔️ 32 ms (2021-09-15T19:56:12/2021-09-15T19:56:12)</pre>"
      ],
      "text/plain": [
       "<IPython.core.display.HTML object>"
      ]
     },
     "metadata": {},
     "output_type": "display_data"
    }
   ],
   "source": [
    "# Cargo un dataset con los nombres de los idiomas correspondiente a cada código\n",
    "code = pd.read_csv('lang_code3.csv')\n",
    "# Y lo convierto en diccionario\n",
    "code_dict = code.set_index('code').to_dict()['language_name']\n",
    "# Luego reemplazo el código por el nombre del idioma\n",
    "df_reviews['lang'] = df_reviews['lang'].map(code_dict)"
   ]
  },
  {
   "cell_type": "code",
   "execution_count": 46,
   "metadata": {},
   "outputs": [
    {
     "data": {
      "text/html": [
       "<pre>✔️ 62 ms (2021-09-15T19:56:19/2021-09-15T19:56:19)</pre>"
      ],
      "text/plain": [
       "<IPython.core.display.HTML object>"
      ]
     },
     "metadata": {},
     "output_type": "display_data"
    }
   ],
   "source": [
    "# Agrupo por idioma y ordeno por cantidad de instancias de cada uno\n",
    "idiomas = df_reviews.groupby('lang').count()['username'].sort_values(ascending=False)"
   ]
  },
  {
   "cell_type": "code",
   "execution_count": 47,
   "metadata": {},
   "outputs": [
    {
     "data": {
      "text/html": [
       "<pre>✔️ 16 ms (2021-09-15T19:56:21/2021-09-15T19:56:21)</pre>"
      ],
      "text/plain": [
       "<IPython.core.display.HTML object>"
      ]
     },
     "metadata": {},
     "output_type": "display_data"
    },
    {
     "data": {
      "text/plain": [
       "lang\n",
       "English      105833\n",
       "German         1367\n",
       "Somali         1329\n",
       "Afrikaans       950\n",
       "Tagalog         829\n",
       "Name: username, dtype: int64"
      ]
     },
     "execution_count": 47,
     "metadata": {},
     "output_type": "execute_result"
    }
   ],
   "source": [
    "# Veamos que idiomas tenemos\n",
    "idiomas.head()"
   ]
  },
  {
   "cell_type": "code",
   "execution_count": 48,
   "metadata": {},
   "outputs": [
    {
     "data": {
      "text/html": [
       "<pre>✔️ 844 ms (2021-09-15T19:56:26/2021-09-15T19:56:26)</pre>"
      ],
      "text/plain": [
       "<IPython.core.display.HTML object>"
      ]
     },
     "metadata": {},
     "output_type": "display_data"
    },
    {
     "data": {
      "image/png": "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\n",
      "text/plain": [
       "<Figure size 1800x432 with 1 Axes>"
      ]
     },
     "metadata": {},
     "output_type": "display_data"
    }
   ],
   "source": [
    "# Graficamos el conteo de los distintos idiomas encontrados en el dataset (además de Inglés)\n",
    "plt.figure(figsize=(25,6))\n",
    "sns.countplot(data=df_reviews, x='lang', order=idiomas.index[1:])\n",
    "plt.xticks(rotation=90)\n",
    "plt.show()"
   ]
  },
  {
   "cell_type": "markdown",
   "metadata": {},
   "source": [
    "Vimos claramante que el idioma predominantes es el inglés. Pero algo llamativo es que el segundo más abundante es el \"Somalí\". Vamos a analizar más en detalle, filtrando esas instancias."
   ]
  },
  {
   "cell_type": "code",
   "execution_count": 49,
   "metadata": {},
   "outputs": [
    {
     "data": {
      "text/html": [
       "<pre>✔️ 31 ms (2021-09-15T19:56:32/2021-09-15T19:56:32)</pre>"
      ],
      "text/plain": [
       "<IPython.core.display.HTML object>"
      ]
     },
     "metadata": {},
     "output_type": "display_data"
    },
    {
     "data": {
      "text/html": [
       "<div>\n",
       "<style scoped>\n",
       "    .dataframe tbody tr th:only-of-type {\n",
       "        vertical-align: middle;\n",
       "    }\n",
       "\n",
       "    .dataframe tbody tr th {\n",
       "        vertical-align: top;\n",
       "    }\n",
       "\n",
       "    .dataframe thead th {\n",
       "        text-align: right;\n",
       "    }\n",
       "</style>\n",
       "<table border=\"1\" class=\"dataframe\">\n",
       "  <thead>\n",
       "    <tr style=\"text-align: right;\">\n",
       "      <th></th>\n",
       "      <th>username</th>\n",
       "      <th>product_id</th>\n",
       "      <th>text</th>\n",
       "      <th>found_funny</th>\n",
       "      <th>hours</th>\n",
       "      <th>lang</th>\n",
       "    </tr>\n",
       "    <tr>\n",
       "      <th>index</th>\n",
       "      <th></th>\n",
       "      <th></th>\n",
       "      <th></th>\n",
       "      <th></th>\n",
       "      <th></th>\n",
       "      <th></th>\n",
       "    </tr>\n",
       "  </thead>\n",
       "  <tbody>\n",
       "    <tr>\n",
       "      <th>354</th>\n",
       "      <td>Santiago ♥D</td>\n",
       "      <td>308040</td>\n",
       "      <td>bad</td>\n",
       "      <td>1.0000</td>\n",
       "      <td>1.3000</td>\n",
       "      <td>Somali</td>\n",
       "    </tr>\n",
       "    <tr>\n",
       "      <th>445</th>\n",
       "      <td>brokensteelcache</td>\n",
       "      <td>224900</td>\n",
       "      <td>too good to play</td>\n",
       "      <td>1.0000</td>\n",
       "      <td>1.3000</td>\n",
       "      <td>Somali</td>\n",
       "    </tr>\n",
       "    <tr>\n",
       "      <th>1516</th>\n",
       "      <td>dragsobko</td>\n",
       "      <td>390340</td>\n",
       "      <td>good</td>\n",
       "      <td>8.0000</td>\n",
       "      <td>0.6000</td>\n",
       "      <td>Somali</td>\n",
       "    </tr>\n",
       "    <tr>\n",
       "      <th>1690</th>\n",
       "      <td>j0ny_brav0</td>\n",
       "      <td>13600</td>\n",
       "      <td>A Good Game</td>\n",
       "      <td>2.0000</td>\n",
       "      <td>8.0000</td>\n",
       "      <td>Somali</td>\n",
       "    </tr>\n",
       "    <tr>\n",
       "      <th>1701</th>\n",
       "      <td>Slayer Jim</td>\n",
       "      <td>233550</td>\n",
       "      <td>Mycaruba</td>\n",
       "      <td>2.0000</td>\n",
       "      <td>0.8000</td>\n",
       "      <td>Somali</td>\n",
       "    </tr>\n",
       "    <tr>\n",
       "      <th>2408</th>\n",
       "      <td>nikolasmg1921</td>\n",
       "      <td>356290</td>\n",
       "      <td>good game</td>\n",
       "      <td>2.0000</td>\n",
       "      <td>1.0000</td>\n",
       "      <td>Somali</td>\n",
       "    </tr>\n",
       "    <tr>\n",
       "      <th>3490</th>\n",
       "      <td>Rad Guy</td>\n",
       "      <td>234710</td>\n",
       "      <td>Good</td>\n",
       "      <td>1.0000</td>\n",
       "      <td>9.1000</td>\n",
       "      <td>Somali</td>\n",
       "    </tr>\n",
       "    <tr>\n",
       "      <th>3533</th>\n",
       "      <td>Rikizin</td>\n",
       "      <td>271590</td>\n",
       "      <td>Game gay</td>\n",
       "      <td>2.0000</td>\n",
       "      <td>9.5000</td>\n",
       "      <td>Somali</td>\n",
       "    </tr>\n",
       "    <tr>\n",
       "      <th>4506</th>\n",
       "      <td>NyanFluteMaster</td>\n",
       "      <td>291550</td>\n",
       "      <td>nwdx  ebctugybfcgsnuyi gbybtxayrfg</td>\n",
       "      <td>1.0000</td>\n",
       "      <td>159.7000</td>\n",
       "      <td>Somali</td>\n",
       "    </tr>\n",
       "    <tr>\n",
       "      <th>4746</th>\n",
       "      <td>♕SKAPIR♕</td>\n",
       "      <td>296300</td>\n",
       "      <td>waw game</td>\n",
       "      <td>1.0000</td>\n",
       "      <td>27.8000</td>\n",
       "      <td>Somali</td>\n",
       "    </tr>\n",
       "    <tr>\n",
       "      <th>4820</th>\n",
       "      <td>Nikolai</td>\n",
       "      <td>35140</td>\n",
       "      <td>Good game</td>\n",
       "      <td>4.0000</td>\n",
       "      <td>100.8000</td>\n",
       "      <td>Somali</td>\n",
       "    </tr>\n",
       "    <tr>\n",
       "      <th>5131</th>\n",
       "      <td>Jäger</td>\n",
       "      <td>427730</td>\n",
       "      <td>I ll show you who your daddy is</td>\n",
       "      <td>4.0000</td>\n",
       "      <td>2.5000</td>\n",
       "      <td>Somali</td>\n",
       "    </tr>\n",
       "    <tr>\n",
       "      <th>5246</th>\n",
       "      <td>NotaPyro</td>\n",
       "      <td>32440</td>\n",
       "      <td>Gud game</td>\n",
       "      <td>2.0000</td>\n",
       "      <td>3.1000</td>\n",
       "      <td>Somali</td>\n",
       "    </tr>\n",
       "    <tr>\n",
       "      <th>5303</th>\n",
       "      <td>Sasuke Uchiha</td>\n",
       "      <td>271590</td>\n",
       "      <td>good game</td>\n",
       "      <td>1.0000</td>\n",
       "      <td>12.2000</td>\n",
       "      <td>Somali</td>\n",
       "    </tr>\n",
       "    <tr>\n",
       "      <th>5359</th>\n",
       "      <td>Kyroshihazama</td>\n",
       "      <td>357290</td>\n",
       "      <td>good good</td>\n",
       "      <td>2.0000</td>\n",
       "      <td>1.8000</td>\n",
       "      <td>Somali</td>\n",
       "    </tr>\n",
       "    <tr>\n",
       "      <th>5411</th>\n",
       "      <td>The Amazing Fedora Seal</td>\n",
       "      <td>271590</td>\n",
       "      <td>game</td>\n",
       "      <td>2.0000</td>\n",
       "      <td>29.3000</td>\n",
       "      <td>Somali</td>\n",
       "    </tr>\n",
       "    <tr>\n",
       "      <th>7106</th>\n",
       "      <td>Agent Nein</td>\n",
       "      <td>233270</td>\n",
       "      <td>good</td>\n",
       "      <td>1.0000</td>\n",
       "      <td>9.9000</td>\n",
       "      <td>Somali</td>\n",
       "    </tr>\n",
       "    <tr>\n",
       "      <th>7257</th>\n",
       "      <td>Hamwan90</td>\n",
       "      <td>227940</td>\n",
       "      <td>Good   game</td>\n",
       "      <td>1.0000</td>\n",
       "      <td>0.1000</td>\n",
       "      <td>Somali</td>\n",
       "    </tr>\n",
       "    <tr>\n",
       "      <th>7293</th>\n",
       "      <td>Pinkman</td>\n",
       "      <td>38740</td>\n",
       "      <td>Good game</td>\n",
       "      <td>1.0000</td>\n",
       "      <td>4.4000</td>\n",
       "      <td>Somali</td>\n",
       "    </tr>\n",
       "    <tr>\n",
       "      <th>7695</th>\n",
       "      <td>Madman</td>\n",
       "      <td>291550</td>\n",
       "      <td>Good</td>\n",
       "      <td>7.0000</td>\n",
       "      <td>480.5000</td>\n",
       "      <td>Somali</td>\n",
       "    </tr>\n",
       "  </tbody>\n",
       "</table>\n",
       "</div>"
      ],
      "text/plain": [
       "                      username  product_id  \\\n",
       "index                                        \n",
       "354                Santiago ♥D      308040   \n",
       "445           brokensteelcache      224900   \n",
       "1516                 dragsobko      390340   \n",
       "1690                j0ny_brav0       13600   \n",
       "1701                Slayer Jim      233550   \n",
       "2408             nikolasmg1921      356290   \n",
       "3490                   Rad Guy      234710   \n",
       "3533                   Rikizin      271590   \n",
       "4506           NyanFluteMaster      291550   \n",
       "4746                  ♕SKAPIR♕      296300   \n",
       "4820                   Nikolai       35140   \n",
       "5131                     Jäger      427730   \n",
       "5246                  NotaPyro       32440   \n",
       "5303             Sasuke Uchiha      271590   \n",
       "5359             Kyroshihazama      357290   \n",
       "5411   The Amazing Fedora Seal      271590   \n",
       "7106                Agent Nein      233270   \n",
       "7257                  Hamwan90      227940   \n",
       "7293                   Pinkman       38740   \n",
       "7695                    Madman      291550   \n",
       "\n",
       "                                              text  found_funny    hours  \\\n",
       "index                                                                      \n",
       "354                                            bad       1.0000   1.3000   \n",
       "445                              too good to play        1.0000   1.3000   \n",
       "1516                                          good       8.0000   0.6000   \n",
       "1690                                  A Good Game        2.0000   8.0000   \n",
       "1701                                      Mycaruba       2.0000   0.8000   \n",
       "2408                                     good game       2.0000   1.0000   \n",
       "3490                                         Good        1.0000   9.1000   \n",
       "3533                                      Game gay       2.0000   9.5000   \n",
       "4506            nwdx  ebctugybfcgsnuyi gbybtxayrfg       1.0000 159.7000   \n",
       "4746                                      waw game       1.0000  27.8000   \n",
       "4820                                     Good game       4.0000 100.8000   \n",
       "5131   I ll show you who your daddy is                   4.0000   2.5000   \n",
       "5246                                      Gud game       2.0000   3.1000   \n",
       "5303                                    good game        1.0000  12.2000   \n",
       "5359                                     good good       2.0000   1.8000   \n",
       "5411                                          game       2.0000  29.3000   \n",
       "7106                                         good        1.0000   9.9000   \n",
       "7257                                   Good   game       1.0000   0.1000   \n",
       "7293                                  Good game          1.0000   4.4000   \n",
       "7695                                          Good       7.0000 480.5000   \n",
       "\n",
       "         lang  \n",
       "index          \n",
       "354    Somali  \n",
       "445    Somali  \n",
       "1516   Somali  \n",
       "1690   Somali  \n",
       "1701   Somali  \n",
       "2408   Somali  \n",
       "3490   Somali  \n",
       "3533   Somali  \n",
       "4506   Somali  \n",
       "4746   Somali  \n",
       "4820   Somali  \n",
       "5131   Somali  \n",
       "5246   Somali  \n",
       "5303   Somali  \n",
       "5359   Somali  \n",
       "5411   Somali  \n",
       "7106   Somali  \n",
       "7257   Somali  \n",
       "7293   Somali  \n",
       "7695   Somali  "
      ]
     },
     "execution_count": 49,
     "metadata": {},
     "output_type": "execute_result"
    }
   ],
   "source": [
    "df_reviews[df_reviews.lang == 'Somali'].head(20)"
   ]
  },
  {
   "cell_type": "markdown",
   "metadata": {},
   "source": [
    "Por lo que podemos observar, se trata de una mala predicción, ya que los comentarios están en inglés. Por alguna razón (quizás por las faltas de ortografía) los etiqueta como Somalí.\n",
    "De todos modos, siendo que la cantidad de comentarios predichos como Inglés representan un gran porcentaje, vamos a eliminar aquellas instancias en otro idioma."
   ]
  },
  {
   "cell_type": "code",
   "execution_count": 50,
   "metadata": {},
   "outputs": [
    {
     "data": {
      "text/html": [
       "<pre>✔️ 63 ms (2021-09-15T19:56:56/2021-09-15T19:56:56)</pre>"
      ],
      "text/plain": [
       "<IPython.core.display.HTML object>"
      ]
     },
     "metadata": {},
     "output_type": "display_data"
    },
    {
     "data": {
      "text/html": [
       "<div>\n",
       "<style scoped>\n",
       "    .dataframe tbody tr th:only-of-type {\n",
       "        vertical-align: middle;\n",
       "    }\n",
       "\n",
       "    .dataframe tbody tr th {\n",
       "        vertical-align: top;\n",
       "    }\n",
       "\n",
       "    .dataframe thead th {\n",
       "        text-align: right;\n",
       "    }\n",
       "</style>\n",
       "<table border=\"1\" class=\"dataframe\">\n",
       "  <thead>\n",
       "    <tr style=\"text-align: right;\">\n",
       "      <th></th>\n",
       "      <th>username</th>\n",
       "      <th>product_id</th>\n",
       "      <th>text</th>\n",
       "      <th>found_funny</th>\n",
       "      <th>hours</th>\n",
       "      <th>lang</th>\n",
       "    </tr>\n",
       "    <tr>\n",
       "      <th>index</th>\n",
       "      <th></th>\n",
       "      <th></th>\n",
       "      <th></th>\n",
       "      <th></th>\n",
       "      <th></th>\n",
       "      <th></th>\n",
       "    </tr>\n",
       "  </thead>\n",
       "  <tbody>\n",
       "    <tr>\n",
       "      <th>5</th>\n",
       "      <td>Szudof</td>\n",
       "      <td>288690</td>\n",
       "      <td>Pit   Hello  my name is dominik di...</td>\n",
       "      <td>3.0000</td>\n",
       "      <td>0.2000</td>\n",
       "      <td>English</td>\n",
       "    </tr>\n",
       "    <tr>\n",
       "      <th>7</th>\n",
       "      <td>LucaFox</td>\n",
       "      <td>620900</td>\n",
       "      <td>Very  very good game  I love dungeon crawlers ...</td>\n",
       "      <td>1.0000</td>\n",
       "      <td>4.0000</td>\n",
       "      <td>English</td>\n",
       "    </tr>\n",
       "    <tr>\n",
       "      <th>9</th>\n",
       "      <td>Devil Azite</td>\n",
       "      <td>671270</td>\n",
       "      <td>Putting a hat on your head has disasterous rep...</td>\n",
       "      <td>1.0000</td>\n",
       "      <td>0.1000</td>\n",
       "      <td>English</td>\n",
       "    </tr>\n",
       "    <tr>\n",
       "      <th>14</th>\n",
       "      <td>tehwave</td>\n",
       "      <td>671270</td>\n",
       "      <td>Queen Elizabeth said that I d like it  and she...</td>\n",
       "      <td>3.0000</td>\n",
       "      <td>0.1000</td>\n",
       "      <td>English</td>\n",
       "    </tr>\n",
       "    <tr>\n",
       "      <th>15</th>\n",
       "      <td>Hanzo</td>\n",
       "      <td>8880</td>\n",
       "      <td>Freidom force is game made in late   s by some...</td>\n",
       "      <td>3.0000</td>\n",
       "      <td>0.2000</td>\n",
       "      <td>English</td>\n",
       "    </tr>\n",
       "    <tr>\n",
       "      <th>...</th>\n",
       "      <td>...</td>\n",
       "      <td>...</td>\n",
       "      <td>...</td>\n",
       "      <td>...</td>\n",
       "      <td>...</td>\n",
       "      <td>...</td>\n",
       "    </tr>\n",
       "    <tr>\n",
       "      <th>779256</th>\n",
       "      <td>Noodle</td>\n",
       "      <td>252490</td>\n",
       "      <td>This is a great survival building game  it can...</td>\n",
       "      <td>1.0000</td>\n",
       "      <td>96.6000</td>\n",
       "      <td>English</td>\n",
       "    </tr>\n",
       "    <tr>\n",
       "      <th>779257</th>\n",
       "      <td>SGC | Atome</td>\n",
       "      <td>252490</td>\n",
       "      <td>Biggest surprise of      An absolutely brillia...</td>\n",
       "      <td>1.0000</td>\n",
       "      <td>111.7000</td>\n",
       "      <td>English</td>\n",
       "    </tr>\n",
       "    <tr>\n",
       "      <th>779258</th>\n",
       "      <td>beren</td>\n",
       "      <td>252490</td>\n",
       "      <td>What can I say about this game  Build  raid  g...</td>\n",
       "      <td>1.0000</td>\n",
       "      <td>254.6000</td>\n",
       "      <td>English</td>\n",
       "    </tr>\n",
       "    <tr>\n",
       "      <th>779278</th>\n",
       "      <td>KappaJ</td>\n",
       "      <td>252490</td>\n",
       "      <td>My friend gtf chased me around with a rock yel...</td>\n",
       "      <td>2.0000</td>\n",
       "      <td>248.9000</td>\n",
       "      <td>English</td>\n",
       "    </tr>\n",
       "    <tr>\n",
       "      <th>779306</th>\n",
       "      <td>Helk</td>\n",
       "      <td>252490</td>\n",
       "      <td>I love this game</td>\n",
       "      <td>36.0000</td>\n",
       "      <td>15375.0000</td>\n",
       "      <td>English</td>\n",
       "    </tr>\n",
       "  </tbody>\n",
       "</table>\n",
       "<p>105833 rows × 6 columns</p>\n",
       "</div>"
      ],
      "text/plain": [
       "           username  product_id  \\\n",
       "index                             \n",
       "5            Szudof      288690   \n",
       "7           LucaFox      620900   \n",
       "9       Devil Azite      671270   \n",
       "14          tehwave      671270   \n",
       "15            Hanzo        8880   \n",
       "...             ...         ...   \n",
       "779256       Noodle      252490   \n",
       "779257  SGC | Atome      252490   \n",
       "779258        beren      252490   \n",
       "779278       KappaJ      252490   \n",
       "779306         Helk      252490   \n",
       "\n",
       "                                                     text  found_funny  \\\n",
       "index                                                                    \n",
       "5                   Pit   Hello  my name is dominik di...       3.0000   \n",
       "7       Very  very good game  I love dungeon crawlers ...       1.0000   \n",
       "9       Putting a hat on your head has disasterous rep...       1.0000   \n",
       "14      Queen Elizabeth said that I d like it  and she...       3.0000   \n",
       "15      Freidom force is game made in late   s by some...       3.0000   \n",
       "...                                                   ...          ...   \n",
       "779256  This is a great survival building game  it can...       1.0000   \n",
       "779257  Biggest surprise of      An absolutely brillia...       1.0000   \n",
       "779258  What can I say about this game  Build  raid  g...       1.0000   \n",
       "779278  My friend gtf chased me around with a rock yel...       2.0000   \n",
       "779306                                  I love this game       36.0000   \n",
       "\n",
       "            hours     lang  \n",
       "index                       \n",
       "5          0.2000  English  \n",
       "7          4.0000  English  \n",
       "9          0.1000  English  \n",
       "14         0.1000  English  \n",
       "15         0.2000  English  \n",
       "...           ...      ...  \n",
       "779256    96.6000  English  \n",
       "779257   111.7000  English  \n",
       "779258   254.6000  English  \n",
       "779278   248.9000  English  \n",
       "779306 15375.0000  English  \n",
       "\n",
       "[105833 rows x 6 columns]"
      ]
     },
     "execution_count": 50,
     "metadata": {},
     "output_type": "execute_result"
    }
   ],
   "source": [
    "mask = df_reviews.lang == 'English'\n",
    "df_reviews.drop(df_reviews[~mask].index, inplace=True)\n",
    "df_reviews"
   ]
  },
  {
   "cell_type": "markdown",
   "metadata": {},
   "source": [
    "#### Merge de datasets"
   ]
  },
  {
   "cell_type": "code",
   "execution_count": 51,
   "metadata": {},
   "outputs": [
    {
     "data": {
      "text/html": [
       "<pre>✔️ 516 ms (2021-09-15T19:57:19/2021-09-15T19:57:20)</pre>"
      ],
      "text/plain": [
       "<IPython.core.display.HTML object>"
      ]
     },
     "metadata": {},
     "output_type": "display_data"
    },
    {
     "data": {
      "text/html": [
       "<div>\n",
       "<style scoped>\n",
       "    .dataframe tbody tr th:only-of-type {\n",
       "        vertical-align: middle;\n",
       "    }\n",
       "\n",
       "    .dataframe tbody tr th {\n",
       "        vertical-align: top;\n",
       "    }\n",
       "\n",
       "    .dataframe thead th {\n",
       "        text-align: right;\n",
       "    }\n",
       "</style>\n",
       "<table border=\"1\" class=\"dataframe\">\n",
       "  <thead>\n",
       "    <tr style=\"text-align: right;\">\n",
       "      <th></th>\n",
       "      <th>username</th>\n",
       "      <th>hours</th>\n",
       "      <th>product_id</th>\n",
       "      <th>date</th>\n",
       "      <th>text</th>\n",
       "      <th>publisher</th>\n",
       "      <th>genres</th>\n",
       "      <th>app_name</th>\n",
       "      <th>tags</th>\n",
       "      <th>specs</th>\n",
       "      <th>price</th>\n",
       "      <th>developer</th>\n",
       "      <th>sentiment</th>\n",
       "    </tr>\n",
       "  </thead>\n",
       "  <tbody>\n",
       "    <tr>\n",
       "      <th>0</th>\n",
       "      <td>Chaos Syren</td>\n",
       "      <td>0.1000</td>\n",
       "      <td>725280</td>\n",
       "      <td>2017-12-17</td>\n",
       "      <td>This would not be acceptable as an entertainme...</td>\n",
       "      <td>Vyacheslav Shilikhin</td>\n",
       "      <td>[Action, Adventure, Indie, Simulation]</td>\n",
       "      <td>Psi Project</td>\n",
       "      <td>[Action, Adventure, Indie, Simulation]</td>\n",
       "      <td>[Single-player, Steam Trading Cards]</td>\n",
       "      <td>2.9900</td>\n",
       "      <td>Vyacheslav Shilikhin</td>\n",
       "      <td>Positive</td>\n",
       "    </tr>\n",
       "    <tr>\n",
       "      <th>1</th>\n",
       "      <td>freakfantom</td>\n",
       "      <td>0.1000</td>\n",
       "      <td>725280</td>\n",
       "      <td>2017-11-12</td>\n",
       "      <td>Прикольная стрелялка. Взял дешево на распродаже.</td>\n",
       "      <td>Vyacheslav Shilikhin</td>\n",
       "      <td>[Action, Adventure, Indie, Simulation]</td>\n",
       "      <td>Psi Project</td>\n",
       "      <td>[Action, Adventure, Indie, Simulation]</td>\n",
       "      <td>[Single-player, Steam Trading Cards]</td>\n",
       "      <td>2.9900</td>\n",
       "      <td>Vyacheslav Shilikhin</td>\n",
       "      <td>Positive</td>\n",
       "    </tr>\n",
       "    <tr>\n",
       "      <th>2</th>\n",
       "      <td>Ariman1</td>\n",
       "      <td>13.2000</td>\n",
       "      <td>328100</td>\n",
       "      <td>2017-08-02</td>\n",
       "      <td>Addictive RPG ! Works fine on linux though it ...</td>\n",
       "      <td>KISS ltd</td>\n",
       "      <td>[Adventure, Indie, RPG]</td>\n",
       "      <td>Gunspell - Steam Edition</td>\n",
       "      <td>[Adventure, RPG, Indie, Puzzle, Match 3]</td>\n",
       "      <td>[Single-player]</td>\n",
       "      <td>14.9900</td>\n",
       "      <td>Ino-Co Plus</td>\n",
       "      <td>Mixed</td>\n",
       "    </tr>\n",
       "    <tr>\n",
       "      <th>3</th>\n",
       "      <td>dll3z</td>\n",
       "      <td>0.4000</td>\n",
       "      <td>328100</td>\n",
       "      <td>2017-03-07</td>\n",
       "      <td>do not buy this game</td>\n",
       "      <td>KISS ltd</td>\n",
       "      <td>[Adventure, Indie, RPG]</td>\n",
       "      <td>Gunspell - Steam Edition</td>\n",
       "      <td>[Adventure, RPG, Indie, Puzzle, Match 3]</td>\n",
       "      <td>[Single-player]</td>\n",
       "      <td>14.9900</td>\n",
       "      <td>Ino-Co Plus</td>\n",
       "      <td>Mixed</td>\n",
       "    </tr>\n",
       "    <tr>\n",
       "      <th>4</th>\n",
       "      <td>Nyazicat</td>\n",
       "      <td>2.2000</td>\n",
       "      <td>328100</td>\n",
       "      <td>2017-01-09</td>\n",
       "      <td>For some reason I entirely derped out and boug...</td>\n",
       "      <td>KISS ltd</td>\n",
       "      <td>[Adventure, Indie, RPG]</td>\n",
       "      <td>Gunspell - Steam Edition</td>\n",
       "      <td>[Adventure, RPG, Indie, Puzzle, Match 3]</td>\n",
       "      <td>[Single-player]</td>\n",
       "      <td>14.9900</td>\n",
       "      <td>Ino-Co Plus</td>\n",
       "      <td>Mixed</td>\n",
       "    </tr>\n",
       "  </tbody>\n",
       "</table>\n",
       "</div>"
      ],
      "text/plain": [
       "      username   hours  product_id        date  \\\n",
       "0  Chaos Syren  0.1000      725280  2017-12-17   \n",
       "1  freakfantom  0.1000      725280  2017-11-12   \n",
       "2      Ariman1 13.2000      328100  2017-08-02   \n",
       "3        dll3z  0.4000      328100  2017-03-07   \n",
       "4     Nyazicat  2.2000      328100  2017-01-09   \n",
       "\n",
       "                                                text             publisher  \\\n",
       "0  This would not be acceptable as an entertainme...  Vyacheslav Shilikhin   \n",
       "1   Прикольная стрелялка. Взял дешево на распродаже.  Vyacheslav Shilikhin   \n",
       "2  Addictive RPG ! Works fine on linux though it ...              KISS ltd   \n",
       "3                               do not buy this game              KISS ltd   \n",
       "4  For some reason I entirely derped out and boug...              KISS ltd   \n",
       "\n",
       "                                   genres                  app_name  \\\n",
       "0  [Action, Adventure, Indie, Simulation]               Psi Project   \n",
       "1  [Action, Adventure, Indie, Simulation]               Psi Project   \n",
       "2                 [Adventure, Indie, RPG]  Gunspell - Steam Edition   \n",
       "3                 [Adventure, Indie, RPG]  Gunspell - Steam Edition   \n",
       "4                 [Adventure, Indie, RPG]  Gunspell - Steam Edition   \n",
       "\n",
       "                                       tags  \\\n",
       "0    [Action, Adventure, Indie, Simulation]   \n",
       "1    [Action, Adventure, Indie, Simulation]   \n",
       "2  [Adventure, RPG, Indie, Puzzle, Match 3]   \n",
       "3  [Adventure, RPG, Indie, Puzzle, Match 3]   \n",
       "4  [Adventure, RPG, Indie, Puzzle, Match 3]   \n",
       "\n",
       "                                  specs   price             developer  \\\n",
       "0  [Single-player, Steam Trading Cards]  2.9900  Vyacheslav Shilikhin   \n",
       "1  [Single-player, Steam Trading Cards]  2.9900  Vyacheslav Shilikhin   \n",
       "2                       [Single-player] 14.9900           Ino-Co Plus   \n",
       "3                       [Single-player] 14.9900           Ino-Co Plus   \n",
       "4                       [Single-player] 14.9900           Ino-Co Plus   \n",
       "\n",
       "  sentiment  \n",
       "0  Positive  \n",
       "1  Positive  \n",
       "2     Mixed  \n",
       "3     Mixed  \n",
       "4     Mixed  "
      ]
     },
     "execution_count": 51,
     "metadata": {},
     "output_type": "execute_result"
    }
   ],
   "source": [
    "df = pd.merge(data_reviews, data_games, on=\"product_id\")\n",
    "df.head()"
   ]
  },
  {
   "cell_type": "code",
   "execution_count": 52,
   "metadata": {},
   "outputs": [
    {
     "data": {
      "text/html": [
       "<pre>✔️ 15 ms (2021-09-15T19:57:22/2021-09-15T19:57:22)</pre>"
      ],
      "text/plain": [
       "<IPython.core.display.HTML object>"
      ]
     },
     "metadata": {},
     "output_type": "display_data"
    },
    {
     "name": "stdout",
     "output_type": "stream",
     "text": [
      "(774825, 5)\n",
      "(32132, 9)\n",
      "(775469, 13)\n"
     ]
    }
   ],
   "source": [
    "print(data_reviews.shape)\n",
    "print(data_games.shape)\n",
    "print(df.shape)"
   ]
  },
  {
   "cell_type": "code",
   "execution_count": 53,
   "metadata": {},
   "outputs": [
    {
     "data": {
      "text/html": [
       "<pre>✔️ 31 ms (2021-09-15T19:58:03/2021-09-15T19:58:03)</pre>"
      ],
      "text/plain": [
       "<IPython.core.display.HTML object>"
      ]
     },
     "metadata": {},
     "output_type": "display_data"
    },
    {
     "data": {
      "text/plain": [
       "(12612,)"
      ]
     },
     "execution_count": 53,
     "metadata": {},
     "output_type": "execute_result"
    }
   ],
   "source": [
    "data_reviews.product_id.unique().shape"
   ]
  },
  {
   "cell_type": "code",
   "execution_count": 54,
   "metadata": {},
   "outputs": [
    {
     "data": {
      "text/html": [
       "<pre>✔️ 0 ns (2021-09-15T19:58:30/2021-09-15T19:58:30)</pre>"
      ],
      "text/plain": [
       "<IPython.core.display.HTML object>"
      ]
     },
     "metadata": {},
     "output_type": "display_data"
    },
    {
     "data": {
      "text/plain": [
       "(32131,)"
      ]
     },
     "execution_count": 54,
     "metadata": {},
     "output_type": "execute_result"
    }
   ],
   "source": [
    "data_games.product_id.unique().shape"
   ]
  },
  {
   "cell_type": "code",
   "execution_count": 55,
   "metadata": {},
   "outputs": [
    {
     "data": {
      "text/html": [
       "<pre>✔️ 125 ms (2021-09-15T19:58:37/2021-09-15T19:58:37)</pre>"
      ],
      "text/plain": [
       "<IPython.core.display.HTML object>"
      ]
     },
     "metadata": {},
     "output_type": "display_data"
    },
    {
     "data": {
      "text/plain": [
       "12612"
      ]
     },
     "execution_count": 55,
     "metadata": {},
     "output_type": "execute_result"
    }
   ],
   "source": [
    "len(list(set(data_reviews.product_id) & set(data_games.product_id)))"
   ]
  },
  {
   "cell_type": "code",
   "execution_count": 56,
   "metadata": {},
   "outputs": [
    {
     "data": {
      "text/html": [
       "<pre>✔️ 469 ms (2021-09-15T19:58:43/2021-09-15T19:58:43)</pre>"
      ],
      "text/plain": [
       "<IPython.core.display.HTML object>"
      ]
     },
     "metadata": {},
     "output_type": "display_data"
    },
    {
     "data": {
      "text/plain": [
       "username         0\n",
       "hours            0\n",
       "product_id       0\n",
       "date             0\n",
       "text             0\n",
       "publisher     7610\n",
       "genres        2207\n",
       "app_name         0\n",
       "tags             4\n",
       "specs         2253\n",
       "price         6624\n",
       "developer     3965\n",
       "sentiment      142\n",
       "dtype: int64"
      ]
     },
     "execution_count": 56,
     "metadata": {},
     "output_type": "execute_result"
    }
   ],
   "source": [
    "df.isna().sum()"
   ]
  },
  {
   "cell_type": "code",
   "execution_count": 57,
   "metadata": {},
   "outputs": [
    {
     "data": {
      "text/html": [
       "<pre>✔️ 63 ms (2021-09-15T19:59:03/2021-09-15T19:59:03)</pre>"
      ],
      "text/plain": [
       "<IPython.core.display.HTML object>"
      ]
     },
     "metadata": {},
     "output_type": "display_data"
    },
    {
     "data": {
      "text/plain": [
       "sentiment\n",
       "1 user reviews             2496\n",
       "2 user reviews             1756\n",
       "3 user reviews             1231\n",
       "4 user reviews              964\n",
       "5 user reviews              846\n",
       "6 user reviews              756\n",
       "7 user reviews              619\n",
       "8 user reviews              537\n",
       "9 user reviews              488\n",
       "Mixed                      4103\n",
       "Mostly Negative             802\n",
       "Mostly Positive            2744\n",
       "Negative                    123\n",
       "Overwhelmingly Negative       7\n",
       "Overwhelmingly Positive     302\n",
       "Positive                   3280\n",
       "Very Negative                29\n",
       "Very Positive              3868\n",
       "Name: app_name, dtype: int64"
      ]
     },
     "execution_count": 57,
     "metadata": {},
     "output_type": "execute_result"
    }
   ],
   "source": [
    "data_games.groupby('sentiment').count().app_name"
   ]
  },
  {
   "cell_type": "code",
   "execution_count": 59,
   "metadata": {},
   "outputs": [
    {
     "data": {
      "text/html": [
       "<pre>✔️ 0 ns (2021-09-15T20:00:26/2021-09-15T20:00:26)</pre>"
      ],
      "text/plain": [
       "<IPython.core.display.HTML object>"
      ]
     },
     "metadata": {},
     "output_type": "display_data"
    },
    {
     "name": "stdout",
     "output_type": "stream",
     "text": [
      "{'Overwhelmingly Positive': 9, 'Very Positive': 8, 'Mostly Positive': 7, 'Positive': 6, 'Mixed': 5, 'Negative': 4, 'Mostly Negative': 3, 'Very Negative': 2, 'Overwhelmingly Negative': 1}\n"
     ]
    },
    {
     "data": {
      "text/plain": [
       "dict"
      ]
     },
     "execution_count": 59,
     "metadata": {},
     "output_type": "execute_result"
    }
   ],
   "source": [
    "dict = {'Overwhelmingly Positive':9,\n",
    "       'Very Positive':8,\n",
    "       'Mostly Positive':7,\n",
    "       'Positive':6,\n",
    "       'Mixed':5,\n",
    "       'Negative':4,\n",
    "       'Mostly Negative':3,\n",
    "       'Very Negative':2,\n",
    "       'Overwhelmingly Negative':1,\n",
    "       }\n",
    "print(dict)\n",
    "type(dict)"
   ]
  },
  {
   "cell_type": "code",
   "execution_count": 60,
   "metadata": {},
   "outputs": [
    {
     "data": {
      "text/html": [
       "<pre>✔️ 46 ms (2021-09-15T20:00:28/2021-09-15T20:00:28)</pre>"
      ],
      "text/plain": [
       "<IPython.core.display.HTML object>"
      ]
     },
     "metadata": {},
     "output_type": "display_data"
    },
    {
     "data": {
      "text/plain": [
       "publisher     8050\n",
       "genres        3282\n",
       "app_name         0\n",
       "tags           162\n",
       "specs          669\n",
       "price         1376\n",
       "product_id       0\n",
       "developer     3297\n",
       "sentiment     7181\n",
       "dtype: int64"
      ]
     },
     "execution_count": 60,
     "metadata": {},
     "output_type": "execute_result"
    }
   ],
   "source": [
    "data_games.isna().sum()"
   ]
  },
  {
   "cell_type": "code",
   "execution_count": 61,
   "metadata": {},
   "outputs": [
    {
     "data": {
      "text/html": [
       "<pre>✔️ 31 ms (2021-09-15T20:00:38/2021-09-15T20:00:38)</pre>"
      ],
      "text/plain": [
       "<IPython.core.display.HTML object>"
      ]
     },
     "metadata": {},
     "output_type": "display_data"
    },
    {
     "data": {
      "text/html": [
       "<div>\n",
       "<style scoped>\n",
       "    .dataframe tbody tr th:only-of-type {\n",
       "        vertical-align: middle;\n",
       "    }\n",
       "\n",
       "    .dataframe tbody tr th {\n",
       "        vertical-align: top;\n",
       "    }\n",
       "\n",
       "    .dataframe thead th {\n",
       "        text-align: right;\n",
       "    }\n",
       "</style>\n",
       "<table border=\"1\" class=\"dataframe\">\n",
       "  <thead>\n",
       "    <tr style=\"text-align: right;\">\n",
       "      <th></th>\n",
       "      <th>publisher</th>\n",
       "      <th>genres</th>\n",
       "      <th>app_name</th>\n",
       "      <th>tags</th>\n",
       "      <th>specs</th>\n",
       "      <th>price</th>\n",
       "      <th>product_id</th>\n",
       "      <th>developer</th>\n",
       "      <th>sentiment</th>\n",
       "      <th>game_rating</th>\n",
       "    </tr>\n",
       "  </thead>\n",
       "  <tbody>\n",
       "    <tr>\n",
       "      <th>0</th>\n",
       "      <td>Kotoshiro</td>\n",
       "      <td>[Action, Casual, Indie, Simulation, Strategy]</td>\n",
       "      <td>Lost Summoner Kitty</td>\n",
       "      <td>[Strategy, Action, Indie, Casual, Simulation]</td>\n",
       "      <td>[Single-player]</td>\n",
       "      <td>4.9900</td>\n",
       "      <td>761140</td>\n",
       "      <td>Kotoshiro</td>\n",
       "      <td>NaN</td>\n",
       "      <td>NaN</td>\n",
       "    </tr>\n",
       "    <tr>\n",
       "      <th>1</th>\n",
       "      <td>Making Fun, Inc.</td>\n",
       "      <td>[Free to Play, Indie, RPG, Strategy]</td>\n",
       "      <td>Ironbound</td>\n",
       "      <td>[Free to Play, Strategy, Indie, RPG, Card Game...</td>\n",
       "      <td>[Single-player, Multi-player, Online Multi-Pla...</td>\n",
       "      <td>Free To Play</td>\n",
       "      <td>643980</td>\n",
       "      <td>Secret Level SRL</td>\n",
       "      <td>Mostly Positive</td>\n",
       "      <td>7.0000</td>\n",
       "    </tr>\n",
       "    <tr>\n",
       "      <th>2</th>\n",
       "      <td>Poolians.com</td>\n",
       "      <td>[Casual, Free to Play, Indie, Simulation, Sports]</td>\n",
       "      <td>Real Pool 3D - Poolians</td>\n",
       "      <td>[Free to Play, Simulation, Sports, Casual, Ind...</td>\n",
       "      <td>[Single-player, Multi-player, Online Multi-Pla...</td>\n",
       "      <td>Free to Play</td>\n",
       "      <td>670290</td>\n",
       "      <td>Poolians.com</td>\n",
       "      <td>Mostly Positive</td>\n",
       "      <td>7.0000</td>\n",
       "    </tr>\n",
       "    <tr>\n",
       "      <th>3</th>\n",
       "      <td>彼岸领域</td>\n",
       "      <td>[Action, Adventure, Casual]</td>\n",
       "      <td>弹炸人2222</td>\n",
       "      <td>[Action, Adventure, Casual]</td>\n",
       "      <td>[Single-player]</td>\n",
       "      <td>0.9900</td>\n",
       "      <td>767400</td>\n",
       "      <td>彼岸领域</td>\n",
       "      <td>NaN</td>\n",
       "      <td>NaN</td>\n",
       "    </tr>\n",
       "    <tr>\n",
       "      <th>4</th>\n",
       "      <td>NaN</td>\n",
       "      <td>NaN</td>\n",
       "      <td>Log Challenge</td>\n",
       "      <td>[Action, Indie, Casual, Sports]</td>\n",
       "      <td>[Single-player, Full controller support, HTC V...</td>\n",
       "      <td>2.9900</td>\n",
       "      <td>773570</td>\n",
       "      <td>NaN</td>\n",
       "      <td>NaN</td>\n",
       "      <td>NaN</td>\n",
       "    </tr>\n",
       "    <tr>\n",
       "      <th>...</th>\n",
       "      <td>...</td>\n",
       "      <td>...</td>\n",
       "      <td>...</td>\n",
       "      <td>...</td>\n",
       "      <td>...</td>\n",
       "      <td>...</td>\n",
       "      <td>...</td>\n",
       "      <td>...</td>\n",
       "      <td>...</td>\n",
       "      <td>...</td>\n",
       "    </tr>\n",
       "    <tr>\n",
       "      <th>32130</th>\n",
       "      <td>Ghost_RUS Games</td>\n",
       "      <td>[Casual, Indie, Simulation, Strategy]</td>\n",
       "      <td>Colony On Mars</td>\n",
       "      <td>[Strategy, Indie, Casual, Simulation]</td>\n",
       "      <td>[Single-player, Steam Achievements]</td>\n",
       "      <td>1.9900</td>\n",
       "      <td>773640</td>\n",
       "      <td>Nikita \"Ghost_RUS\"</td>\n",
       "      <td>NaN</td>\n",
       "      <td>NaN</td>\n",
       "    </tr>\n",
       "    <tr>\n",
       "      <th>32131</th>\n",
       "      <td>Sacada</td>\n",
       "      <td>[Casual, Indie, Strategy]</td>\n",
       "      <td>LOGistICAL: South Africa</td>\n",
       "      <td>[Strategy, Indie, Casual]</td>\n",
       "      <td>[Single-player, Steam Achievements, Steam Clou...</td>\n",
       "      <td>4.9900</td>\n",
       "      <td>733530</td>\n",
       "      <td>Sacada</td>\n",
       "      <td>NaN</td>\n",
       "      <td>NaN</td>\n",
       "    </tr>\n",
       "    <tr>\n",
       "      <th>32132</th>\n",
       "      <td>Laush Studio</td>\n",
       "      <td>[Indie, Racing, Simulation]</td>\n",
       "      <td>Russian Roads</td>\n",
       "      <td>[Indie, Simulation, Racing]</td>\n",
       "      <td>[Single-player, Steam Achievements, Steam Trad...</td>\n",
       "      <td>1.9900</td>\n",
       "      <td>610660</td>\n",
       "      <td>Laush Dmitriy Sergeevich</td>\n",
       "      <td>NaN</td>\n",
       "      <td>NaN</td>\n",
       "    </tr>\n",
       "    <tr>\n",
       "      <th>32133</th>\n",
       "      <td>SIXNAILS</td>\n",
       "      <td>[Casual, Indie]</td>\n",
       "      <td>EXIT 2 - Directions</td>\n",
       "      <td>[Indie, Casual, Puzzle, Singleplayer, Atmosphe...</td>\n",
       "      <td>[Single-player, Steam Achievements, Steam Cloud]</td>\n",
       "      <td>4.9900</td>\n",
       "      <td>658870</td>\n",
       "      <td>xropi,stev3ns</td>\n",
       "      <td>1 user reviews</td>\n",
       "      <td>NaN</td>\n",
       "    </tr>\n",
       "    <tr>\n",
       "      <th>32134</th>\n",
       "      <td>NaN</td>\n",
       "      <td>NaN</td>\n",
       "      <td>Maze Run VR</td>\n",
       "      <td>[Early Access, Adventure, Indie, Action, Simul...</td>\n",
       "      <td>[Single-player, Stats, Steam Leaderboards, HTC...</td>\n",
       "      <td>4.9900</td>\n",
       "      <td>681550</td>\n",
       "      <td>NaN</td>\n",
       "      <td>Positive</td>\n",
       "      <td>6.0000</td>\n",
       "    </tr>\n",
       "  </tbody>\n",
       "</table>\n",
       "<p>32132 rows × 10 columns</p>\n",
       "</div>"
      ],
      "text/plain": [
       "              publisher                                             genres  \\\n",
       "0             Kotoshiro      [Action, Casual, Indie, Simulation, Strategy]   \n",
       "1      Making Fun, Inc.               [Free to Play, Indie, RPG, Strategy]   \n",
       "2          Poolians.com  [Casual, Free to Play, Indie, Simulation, Sports]   \n",
       "3                  彼岸领域                        [Action, Adventure, Casual]   \n",
       "4                   NaN                                                NaN   \n",
       "...                 ...                                                ...   \n",
       "32130   Ghost_RUS Games              [Casual, Indie, Simulation, Strategy]   \n",
       "32131            Sacada                          [Casual, Indie, Strategy]   \n",
       "32132      Laush Studio                        [Indie, Racing, Simulation]   \n",
       "32133          SIXNAILS                                    [Casual, Indie]   \n",
       "32134               NaN                                                NaN   \n",
       "\n",
       "                       app_name  \\\n",
       "0           Lost Summoner Kitty   \n",
       "1                     Ironbound   \n",
       "2       Real Pool 3D - Poolians   \n",
       "3                       弹炸人2222   \n",
       "4                 Log Challenge   \n",
       "...                         ...   \n",
       "32130            Colony On Mars   \n",
       "32131  LOGistICAL: South Africa   \n",
       "32132             Russian Roads   \n",
       "32133       EXIT 2 - Directions   \n",
       "32134               Maze Run VR   \n",
       "\n",
       "                                                    tags  \\\n",
       "0          [Strategy, Action, Indie, Casual, Simulation]   \n",
       "1      [Free to Play, Strategy, Indie, RPG, Card Game...   \n",
       "2      [Free to Play, Simulation, Sports, Casual, Ind...   \n",
       "3                            [Action, Adventure, Casual]   \n",
       "4                        [Action, Indie, Casual, Sports]   \n",
       "...                                                  ...   \n",
       "32130              [Strategy, Indie, Casual, Simulation]   \n",
       "32131                          [Strategy, Indie, Casual]   \n",
       "32132                        [Indie, Simulation, Racing]   \n",
       "32133  [Indie, Casual, Puzzle, Singleplayer, Atmosphe...   \n",
       "32134  [Early Access, Adventure, Indie, Action, Simul...   \n",
       "\n",
       "                                                   specs         price  \\\n",
       "0                                        [Single-player]        4.9900   \n",
       "1      [Single-player, Multi-player, Online Multi-Pla...  Free To Play   \n",
       "2      [Single-player, Multi-player, Online Multi-Pla...  Free to Play   \n",
       "3                                        [Single-player]        0.9900   \n",
       "4      [Single-player, Full controller support, HTC V...        2.9900   \n",
       "...                                                  ...           ...   \n",
       "32130                [Single-player, Steam Achievements]        1.9900   \n",
       "32131  [Single-player, Steam Achievements, Steam Clou...        4.9900   \n",
       "32132  [Single-player, Steam Achievements, Steam Trad...        1.9900   \n",
       "32133   [Single-player, Steam Achievements, Steam Cloud]        4.9900   \n",
       "32134  [Single-player, Stats, Steam Leaderboards, HTC...        4.9900   \n",
       "\n",
       "       product_id                 developer        sentiment  game_rating  \n",
       "0          761140                 Kotoshiro              NaN          NaN  \n",
       "1          643980          Secret Level SRL  Mostly Positive       7.0000  \n",
       "2          670290              Poolians.com  Mostly Positive       7.0000  \n",
       "3          767400                      彼岸领域              NaN          NaN  \n",
       "4          773570                       NaN              NaN          NaN  \n",
       "...           ...                       ...              ...          ...  \n",
       "32130      773640        Nikita \"Ghost_RUS\"              NaN          NaN  \n",
       "32131      733530                    Sacada              NaN          NaN  \n",
       "32132      610660  Laush Dmitriy Sergeevich              NaN          NaN  \n",
       "32133      658870             xropi,stev3ns   1 user reviews          NaN  \n",
       "32134      681550                       NaN         Positive       6.0000  \n",
       "\n",
       "[32132 rows x 10 columns]"
      ]
     },
     "execution_count": 61,
     "metadata": {},
     "output_type": "execute_result"
    }
   ],
   "source": [
    "data_games['game_rating'] = data_games['sentiment'].map(dict)\n",
    "data_games"
   ]
  },
  {
   "cell_type": "markdown",
   "metadata": {},
   "source": [
    "### Tokenización"
   ]
  },
  {
   "cell_type": "code",
   "execution_count": 62,
   "metadata": {},
   "outputs": [
    {
     "data": {
      "text/html": [
       "<pre>✔️ 16 ms (2021-09-15T20:00:52/2021-09-15T20:00:52)</pre>"
      ],
      "text/plain": [
       "<IPython.core.display.HTML object>"
      ]
     },
     "metadata": {},
     "output_type": "display_data"
    }
   ],
   "source": [
>>>>>>> 55c5a7615532b040cf4e3b66125c46d15dbafcca
    "# Instanciamos el tokenizer\n",
    "tokenizer=RegexpTokenizer(\"\\w+\")\n",
    "\n",
    "# Importamos la función que nos permite Stemmizar de nltk y definimos el stemmer\n",
    "stemmer = PorterStemmer()\n",
    "\n",
    "# Traemos las stopwords\n",
<<<<<<< HEAD
    "stopwords = nltk.corpus.stopwords.words('english')\n",
    "\n",
    "# Importamos el lemmatizar de NLTK, y creamos el objeto\n",
    "wordnet_lemmatizer = WordNetLemmatizer()"
=======
    "stopwords = set(stopwords.words('english'))"
   ]
  },
  {
   "cell_type": "code",
   "execution_count": 63,
   "metadata": {},
   "outputs": [
    {
     "data": {
      "text/html": [
       "<pre>✔️ 0 ns (2021-09-15T20:00:56/2021-09-15T20:00:56)</pre>"
      ],
      "text/plain": [
       "<IPython.core.display.HTML object>"
      ]
     },
     "metadata": {},
     "output_type": "display_data"
    }
   ],
   "source": [
    "# Creamos método para aplicar la Normalizacion y luega el Stemming a cada instancia\n",
    "def processText(text):\n",
    "    # Vamos a reemplzar los caracteres que no sean letras por espacios\n",
    "    text=re.sub(\"[^a-zA-Z]\",\" \",str(text))\n",
    "    # Pasamos todo a minúsculas\n",
    "    text=text.lower()\n",
    "    # Tokenizamos para separar las palabras del titular\n",
    "    text=tokenizer.tokenize(text)\n",
    "    # Eliminamos las palabras de menos de 4 letras\n",
    "    text = [palabra for palabra in text if len(palabra)>3]\n",
    "    # Sacamos las Stopwords\n",
    "    text = [p for p in text if not p in stopwords]\n",
    "    \n",
    "    ## Hasta acá Normalizamos, ahora a stemmizar\n",
    "    \n",
    "    # Aplicamos la funcion para buscar la raiz de las palabras\n",
    "#     text = [stemmer.stem(t) for t in text]\n",
    "    # Por ultimo volvemos a unir el titular\n",
    "    text = \" \".join(text)\n",
    "    \n",
    "    return text"
   ]
  },
  {
   "cell_type": "code",
   "execution_count": 64,
   "metadata": {},
   "outputs": [
    {
     "data": {
      "text/html": [
       "<pre>✔️ 10 s (2021-09-15T20:01:01/2021-09-15T20:01:11)</pre>"
      ],
      "text/plain": [
       "<IPython.core.display.HTML object>"
      ]
     },
     "metadata": {},
     "output_type": "display_data"
    },
    {
     "data": {
      "application/vnd.jupyter.widget-view+json": {
       "model_id": "18d76ea5a8b74e8684ac6bc93b69ebe3",
       "version_major": 2,
       "version_minor": 0
      },
      "text/plain": [
       "  0%|          | 0/105833 [00:00<?, ?it/s]"
      ]
     },
     "metadata": {},
     "output_type": "display_data"
    }
   ],
   "source": [
    "# Aplicamos la transformación\n",
    "df_reviews['cleaned_text'] = df_reviews['text'].progress_apply(processText)"
   ]
  },
  {
   "cell_type": "code",
   "execution_count": 65,
   "metadata": {},
   "outputs": [
    {
     "data": {
      "text/html": [
       "<pre>✔️ 46 ms (2021-09-15T20:03:10/2021-09-15T20:03:10)</pre>"
      ],
      "text/plain": [
       "<IPython.core.display.HTML object>"
      ]
     },
     "metadata": {},
     "output_type": "display_data"
    },
    {
     "data": {
      "text/html": [
       "<div>\n",
       "<style scoped>\n",
       "    .dataframe tbody tr th:only-of-type {\n",
       "        vertical-align: middle;\n",
       "    }\n",
       "\n",
       "    .dataframe tbody tr th {\n",
       "        vertical-align: top;\n",
       "    }\n",
       "\n",
       "    .dataframe thead th {\n",
       "        text-align: right;\n",
       "    }\n",
       "</style>\n",
       "<table border=\"1\" class=\"dataframe\">\n",
       "  <thead>\n",
       "    <tr style=\"text-align: right;\">\n",
       "      <th></th>\n",
       "      <th>username</th>\n",
       "      <th>product_id</th>\n",
       "      <th>text</th>\n",
       "      <th>found_funny</th>\n",
       "      <th>hours</th>\n",
       "      <th>lang</th>\n",
       "      <th>cleaned_text</th>\n",
       "    </tr>\n",
       "    <tr>\n",
       "      <th>index</th>\n",
       "      <th></th>\n",
       "      <th></th>\n",
       "      <th></th>\n",
       "      <th></th>\n",
       "      <th></th>\n",
       "      <th></th>\n",
       "      <th></th>\n",
       "    </tr>\n",
       "  </thead>\n",
       "  <tbody>\n",
       "    <tr>\n",
       "      <th>369000</th>\n",
       "      <td>THE LIGHTNING WOLF</td>\n",
       "      <td>359550</td>\n",
       "      <td>fix your     ing game jesus christ im not reco...</td>\n",
       "      <td>1.0000</td>\n",
       "      <td>287.3000</td>\n",
       "      <td>English</td>\n",
       "      <td>game jesus christ recomend game toxic communti...</td>\n",
       "    </tr>\n",
       "    <tr>\n",
       "      <th>244260</th>\n",
       "      <td>Barkus Aurelius</td>\n",
       "      <td>228300</td>\n",
       "      <td>Neat story       gameplay  Combat is as deep a...</td>\n",
       "      <td>1.0000</td>\n",
       "      <td>0.7000</td>\n",
       "      <td>English</td>\n",
       "      <td>neat story gameplay combat deep bamham barkum ...</td>\n",
       "    </tr>\n",
       "    <tr>\n",
       "      <th>360821</th>\n",
       "      <td>Lil Mayo</td>\n",
       "      <td>225640</td>\n",
       "      <td>HOW TO FIX THE ISSUE WITH THE GAME NOT STARTIN...</td>\n",
       "      <td>7.0000</td>\n",
       "      <td>0.2000</td>\n",
       "      <td>English</td>\n",
       "      <td>issue game starting locate sacred sacred folde...</td>\n",
       "    </tr>\n",
       "    <tr>\n",
       "      <th>626728</th>\n",
       "      <td>Zoffix Znet</td>\n",
       "      <td>371660</td>\n",
       "      <td>Don t be dismayed by the  Mixed  rating  All t...</td>\n",
       "      <td>1.0000</td>\n",
       "      <td>65.1000</td>\n",
       "      <td>English</td>\n",
       "      <td>dismayed mixed rating negatives seen people co...</td>\n",
       "    </tr>\n",
       "    <tr>\n",
       "      <th>747951</th>\n",
       "      <td>Beautiful Itachi</td>\n",
       "      <td>730</td>\n",
       "      <td>Good but lot of hackers  still hackers get banned</td>\n",
       "      <td>1.0000</td>\n",
       "      <td>119.9000</td>\n",
       "      <td>English</td>\n",
       "      <td>good hackers still hackers banned</td>\n",
       "    </tr>\n",
       "  </tbody>\n",
       "</table>\n",
       "</div>"
      ],
      "text/plain": [
       "                  username  product_id  \\\n",
       "index                                    \n",
       "369000  THE LIGHTNING WOLF      359550   \n",
       "244260     Barkus Aurelius      228300   \n",
       "360821            Lil Mayo      225640   \n",
       "626728         Zoffix Znet      371660   \n",
       "747951    Beautiful Itachi         730   \n",
       "\n",
       "                                                     text  found_funny  \\\n",
       "index                                                                    \n",
       "369000  fix your     ing game jesus christ im not reco...       1.0000   \n",
       "244260  Neat story       gameplay  Combat is as deep a...       1.0000   \n",
       "360821  HOW TO FIX THE ISSUE WITH THE GAME NOT STARTIN...       7.0000   \n",
       "626728  Don t be dismayed by the  Mixed  rating  All t...       1.0000   \n",
       "747951  Good but lot of hackers  still hackers get banned       1.0000   \n",
       "\n",
       "          hours     lang                                       cleaned_text  \n",
       "index                                                                        \n",
       "369000 287.3000  English  game jesus christ recomend game toxic communti...  \n",
       "244260   0.7000  English  neat story gameplay combat deep bamham barkum ...  \n",
       "360821   0.2000  English  issue game starting locate sacred sacred folde...  \n",
       "626728  65.1000  English  dismayed mixed rating negatives seen people co...  \n",
       "747951 119.9000  English                  good hackers still hackers banned  "
      ]
     },
     "execution_count": 65,
     "metadata": {},
     "output_type": "execute_result"
    }
   ],
   "source": [
    "# Mostramos el dataset limpio\n",
    "df_reviews.loc[np.random.choice(df_reviews.index, size=5)]"
   ]
  },
  {
   "cell_type": "code",
   "execution_count": 66,
   "metadata": {},
   "outputs": [
    {
     "data": {
      "text/html": [
       "<pre>✔️ 281 ms (2021-09-15T20:03:12/2021-09-15T20:03:12)</pre>"
      ],
      "text/plain": [
       "<IPython.core.display.HTML object>"
      ]
     },
     "metadata": {},
     "output_type": "display_data"
    },
    {
     "name": "stderr",
     "output_type": "stream",
     "text": [
      "[nltk_data] Downloading package wordnet to\n",
      "[nltk_data]     C:\\Users\\elmai\\AppData\\Roaming\\nltk_data...\n",
      "[nltk_data]   Package wordnet is already up-to-date!\n"
     ]
    },
    {
     "data": {
      "text/plain": [
       "True"
      ]
     },
     "execution_count": 66,
     "metadata": {},
     "output_type": "execute_result"
    }
   ],
   "source": [
    "import nltk\n",
    "nltk.download('wordnet')"
   ]
  },
  {
   "cell_type": "code",
   "execution_count": 67,
   "metadata": {},
   "outputs": [
    {
     "data": {
      "text/html": [
       "<pre>✔️ 31 ms (2021-09-15T20:03:13/2021-09-15T20:03:13)</pre>"
      ],
      "text/plain": [
       "<IPython.core.display.HTML object>"
      ]
     },
     "metadata": {},
     "output_type": "display_data"
    },
    {
     "name": "stderr",
     "output_type": "stream",
     "text": [
      "[nltk_data] Downloading package averaged_perceptron_tagger to\n",
      "[nltk_data]     C:\\Users\\elmai\\AppData\\Roaming\\nltk_data...\n",
      "[nltk_data]   Package averaged_perceptron_tagger is already up-to-\n",
      "[nltk_data]       date!\n"
     ]
    },
    {
     "data": {
      "text/plain": [
       "True"
      ]
     },
     "execution_count": 67,
     "metadata": {},
     "output_type": "execute_result"
    }
   ],
   "source": [
    "nltk.download('averaged_perceptron_tagger')"
   ]
  },
  {
   "cell_type": "code",
   "execution_count": 68,
   "metadata": {},
   "outputs": [
    {
     "data": {
      "text/html": [
       "<pre>✔️ 31 ms (2021-09-15T20:03:20/2021-09-15T20:03:20)</pre>"
      ],
      "text/plain": [
       "<IPython.core.display.HTML object>"
      ]
     },
     "metadata": {},
     "output_type": "display_data"
    }
   ],
   "source": [
    "sia = SentimentIntensityAnalyzer()\n",
    "def polaridad(text):\n",
    "    return sia.polarity_scores(text)['compound']"
   ]
  },
  {
   "cell_type": "code",
   "execution_count": 69,
   "metadata": {},
   "outputs": [
    {
     "data": {
      "text/html": [
       "<pre>✔️ 2 min 27 s (2021-09-15T20:03:27/2021-09-15T20:05:54)</pre>"
      ],
      "text/plain": [
       "<IPython.core.display.HTML object>"
      ]
     },
     "metadata": {},
     "output_type": "display_data"
    },
    {
     "data": {
      "application/vnd.jupyter.widget-view+json": {
       "model_id": "7210454c7458456fb90476103900be28",
       "version_major": 2,
       "version_minor": 0
      },
      "text/plain": [
       "  0%|          | 0/105833 [00:00<?, ?it/s]"
      ]
     },
     "metadata": {},
     "output_type": "display_data"
    }
   ],
   "source": [
    "df_reviews['polarity'] = df_reviews['text'].progress_apply(polaridad)"
   ]
  },
  {
   "cell_type": "code",
   "execution_count": 153,
   "metadata": {},
   "outputs": [
    {
     "data": {
      "text/html": [
       "<pre>✔️ 16 ms (2021-09-12T19:55:32/2021-09-12T19:55:32)</pre>"
      ],
      "text/plain": [
       "<IPython.core.display.HTML object>"
      ]
     },
     "metadata": {},
     "output_type": "display_data"
    },
    {
     "data": {
      "text/html": [
       "<div>\n",
       "<style scoped>\n",
       "    .dataframe tbody tr th:only-of-type {\n",
       "        vertical-align: middle;\n",
       "    }\n",
       "\n",
       "    .dataframe tbody tr th {\n",
       "        vertical-align: top;\n",
       "    }\n",
       "\n",
       "    .dataframe thead th {\n",
       "        text-align: right;\n",
       "    }\n",
       "</style>\n",
       "<table border=\"1\" class=\"dataframe\">\n",
       "  <thead>\n",
       "    <tr style=\"text-align: right;\">\n",
       "      <th></th>\n",
       "      <th>username</th>\n",
       "      <th>product_id</th>\n",
       "      <th>text</th>\n",
       "      <th>found_funny</th>\n",
       "      <th>hours</th>\n",
       "      <th>lang</th>\n",
       "      <th>cleaned_text</th>\n",
       "      <th>pola</th>\n",
       "      <th>rating</th>\n",
       "      <th>polarity</th>\n",
       "    </tr>\n",
       "    <tr>\n",
       "      <th>index</th>\n",
       "      <th></th>\n",
       "      <th></th>\n",
       "      <th></th>\n",
       "      <th></th>\n",
       "      <th></th>\n",
       "      <th></th>\n",
       "      <th></th>\n",
       "      <th></th>\n",
       "      <th></th>\n",
       "      <th></th>\n",
       "    </tr>\n",
       "  </thead>\n",
       "  <tbody>\n",
       "    <tr>\n",
       "      <th>0</th>\n",
       "      <td>Chaos Syren</td>\n",
       "      <td>725280</td>\n",
       "      <td>This would not be acceptable as an entertainme...</td>\n",
       "      <td>NaN</td>\n",
       "      <td>0.1000</td>\n",
       "      <td>English</td>\n",
       "      <td>would acceptable entertainment even back graph...</td>\n",
       "      <td>0.2354</td>\n",
       "      <td>3.0885</td>\n",
       "      <td>0.2354</td>\n",
       "    </tr>\n",
       "    <tr>\n",
       "      <th>1</th>\n",
       "      <td>Ariman1</td>\n",
       "      <td>328100</td>\n",
       "      <td>Addictive RPG   Works fine on linux though it ...</td>\n",
       "      <td>NaN</td>\n",
       "      <td>13.2000</td>\n",
       "      <td>English</td>\n",
       "      <td>addictive works fine linux though minor bugs r...</td>\n",
       "      <td>0.2023</td>\n",
       "      <td>3.0057</td>\n",
       "      <td>0.2023</td>\n",
       "    </tr>\n",
       "    <tr>\n",
       "      <th>3</th>\n",
       "      <td>The_Cpt_FROGGY</td>\n",
       "      <td>631920</td>\n",
       "      <td>Somewhere on Zibylon                     Zibyl...</td>\n",
       "      <td>NaN</td>\n",
       "      <td>7.8000</td>\n",
       "      <td>English</td>\n",
       "      <td>somewhere zibylon zibylon command centre read ...</td>\n",
       "      <td>0.9895</td>\n",
       "      <td>4.9737</td>\n",
       "      <td>0.9895</td>\n",
       "    </tr>\n",
       "    <tr>\n",
       "      <th>4</th>\n",
       "      <td>the_maker988</td>\n",
       "      <td>35140</td>\n",
       "      <td>This game was way to linear for me  and compar...</td>\n",
       "      <td>NaN</td>\n",
       "      <td>8.2000</td>\n",
       "      <td>English</td>\n",
       "      <td>game linear compared others good dollars winte...</td>\n",
       "      <td>0.3818</td>\n",
       "      <td>3.4545</td>\n",
       "      <td>0.3818</td>\n",
       "    </tr>\n",
       "    <tr>\n",
       "      <th>5</th>\n",
       "      <td>Szudof</td>\n",
       "      <td>288690</td>\n",
       "      <td>Pit   Hello  my name is dominik di...</td>\n",
       "      <td>3.0000</td>\n",
       "      <td>0.2000</td>\n",
       "      <td>English</td>\n",
       "      <td>hello name dominik review bought sudoku detekt...</td>\n",
       "      <td>0.3400</td>\n",
       "      <td>3.3500</td>\n",
       "      <td>0.3400</td>\n",
       "    </tr>\n",
       "  </tbody>\n",
       "</table>\n",
       "</div>"
      ],
      "text/plain": [
       "             username  product_id  \\\n",
       "index                               \n",
       "0         Chaos Syren      725280   \n",
       "1             Ariman1      328100   \n",
       "3      The_Cpt_FROGGY      631920   \n",
       "4        the_maker988       35140   \n",
       "5              Szudof      288690   \n",
       "\n",
       "                                                    text  found_funny   hours  \\\n",
       "index                                                                           \n",
       "0      This would not be acceptable as an entertainme...          NaN  0.1000   \n",
       "1      Addictive RPG   Works fine on linux though it ...          NaN 13.2000   \n",
       "3      Somewhere on Zibylon                     Zibyl...          NaN  7.8000   \n",
       "4      This game was way to linear for me  and compar...          NaN  8.2000   \n",
       "5                  Pit   Hello  my name is dominik di...       3.0000  0.2000   \n",
       "\n",
       "          lang                                       cleaned_text   pola  \\\n",
       "index                                                                      \n",
       "0      English  would acceptable entertainment even back graph... 0.2354   \n",
       "1      English  addictive works fine linux though minor bugs r... 0.2023   \n",
       "3      English  somewhere zibylon zibylon command centre read ... 0.9895   \n",
       "4      English  game linear compared others good dollars winte... 0.3818   \n",
       "5      English  hello name dominik review bought sudoku detekt... 0.3400   \n",
       "\n",
       "       rating  polarity  \n",
       "index                    \n",
       "0      3.0885    0.2354  \n",
       "1      3.0057    0.2023  \n",
       "3      4.9737    0.9895  \n",
       "4      3.4545    0.3818  \n",
       "5      3.3500    0.3400  "
      ]
     },
     "execution_count": 153,
     "metadata": {},
     "output_type": "execute_result"
    }
   ],
   "source": [
    "df_reviews.head()"
   ]
  },
  {
   "cell_type": "code",
   "execution_count": 73,
   "metadata": {},
   "outputs": [
    {
     "data": {
      "text/html": [
       "<pre>✔️ 62 ms (2021-09-13T20:14:43/2021-09-13T20:14:43)</pre>"
      ],
      "text/plain": [
       "<IPython.core.display.HTML object>"
      ]
     },
     "metadata": {},
     "output_type": "display_data"
    },
    {
     "data": {
      "text/html": [
       "<div>\n",
       "<style scoped>\n",
       "    .dataframe tbody tr th:only-of-type {\n",
       "        vertical-align: middle;\n",
       "    }\n",
       "\n",
       "    .dataframe tbody tr th {\n",
       "        vertical-align: top;\n",
       "    }\n",
       "\n",
       "    .dataframe thead th {\n",
       "        text-align: right;\n",
       "    }\n",
       "</style>\n",
       "<table border=\"1\" class=\"dataframe\">\n",
       "  <thead>\n",
       "    <tr style=\"text-align: right;\">\n",
       "      <th></th>\n",
       "      <th>username</th>\n",
       "      <th>product_id</th>\n",
       "      <th>text</th>\n",
       "      <th>found_funny</th>\n",
       "      <th>hours</th>\n",
       "      <th>lang</th>\n",
       "      <th>polarity</th>\n",
       "      <th>rating</th>\n",
       "    </tr>\n",
       "    <tr>\n",
       "      <th>index</th>\n",
       "      <th></th>\n",
       "      <th></th>\n",
       "      <th></th>\n",
       "      <th></th>\n",
       "      <th></th>\n",
       "      <th></th>\n",
       "      <th></th>\n",
       "      <th></th>\n",
       "    </tr>\n",
       "  </thead>\n",
       "  <tbody>\n",
       "    <tr>\n",
       "      <th>0</th>\n",
       "      <td>Chaos Syren</td>\n",
       "      <td>725280</td>\n",
       "      <td>This would not be acceptable as an entertainme...</td>\n",
       "      <td>NaN</td>\n",
       "      <td>0.1000</td>\n",
       "      <td>English</td>\n",
       "      <td>0.2354</td>\n",
       "      <td>3.0885</td>\n",
       "    </tr>\n",
       "    <tr>\n",
       "      <th>1</th>\n",
       "      <td>Ariman1</td>\n",
       "      <td>328100</td>\n",
       "      <td>Addictive RPG   Works fine on linux though it ...</td>\n",
       "      <td>NaN</td>\n",
       "      <td>13.2000</td>\n",
       "      <td>English</td>\n",
       "      <td>0.2023</td>\n",
       "      <td>3.0057</td>\n",
       "    </tr>\n",
       "    <tr>\n",
       "      <th>3</th>\n",
       "      <td>The_Cpt_FROGGY</td>\n",
       "      <td>631920</td>\n",
       "      <td>Somewhere on Zibylon                     Zibyl...</td>\n",
       "      <td>NaN</td>\n",
       "      <td>7.8000</td>\n",
       "      <td>English</td>\n",
       "      <td>0.9895</td>\n",
       "      <td>4.9737</td>\n",
       "    </tr>\n",
       "    <tr>\n",
       "      <th>4</th>\n",
       "      <td>the_maker988</td>\n",
       "      <td>35140</td>\n",
       "      <td>This game was way to linear for me  and compar...</td>\n",
       "      <td>NaN</td>\n",
       "      <td>8.2000</td>\n",
       "      <td>English</td>\n",
       "      <td>0.3818</td>\n",
       "      <td>3.4545</td>\n",
       "    </tr>\n",
       "    <tr>\n",
       "      <th>5</th>\n",
       "      <td>Szudof</td>\n",
       "      <td>288690</td>\n",
       "      <td>Pit   Hello  my name is dominik di...</td>\n",
       "      <td>3.0000</td>\n",
       "      <td>0.2000</td>\n",
       "      <td>English</td>\n",
       "      <td>0.3400</td>\n",
       "      <td>3.3500</td>\n",
       "    </tr>\n",
       "    <tr>\n",
       "      <th>...</th>\n",
       "      <td>...</td>\n",
       "      <td>...</td>\n",
       "      <td>...</td>\n",
       "      <td>...</td>\n",
       "      <td>...</td>\n",
       "      <td>...</td>\n",
       "      <td>...</td>\n",
       "      <td>...</td>\n",
       "    </tr>\n",
       "    <tr>\n",
       "      <th>779301</th>\n",
       "      <td>SepticFalcon</td>\n",
       "      <td>252490</td>\n",
       "      <td>A good laugh with friends  cannot wait till mo...</td>\n",
       "      <td>NaN</td>\n",
       "      <td>334.9000</td>\n",
       "      <td>English</td>\n",
       "      <td>0.8625</td>\n",
       "      <td>4.6562</td>\n",
       "    </tr>\n",
       "    <tr>\n",
       "      <th>779302</th>\n",
       "      <td>Vidaar</td>\n",
       "      <td>252490</td>\n",
       "      <td>Summary  Rust is a survival game created by Fa...</td>\n",
       "      <td>NaN</td>\n",
       "      <td>783.5000</td>\n",
       "      <td>English</td>\n",
       "      <td>-0.9928</td>\n",
       "      <td>0.0180</td>\n",
       "    </tr>\n",
       "    <tr>\n",
       "      <th>779304</th>\n",
       "      <td>RancorZealot</td>\n",
       "      <td>252490</td>\n",
       "      <td>Should you buy RUST  Uh    YES  The BEST Survi...</td>\n",
       "      <td>NaN</td>\n",
       "      <td>203.5000</td>\n",
       "      <td>English</td>\n",
       "      <td>0.7510</td>\n",
       "      <td>4.3775</td>\n",
       "    </tr>\n",
       "    <tr>\n",
       "      <th>779305</th>\n",
       "      <td>Jerry</td>\n",
       "      <td>252490</td>\n",
       "      <td>Great game</td>\n",
       "      <td>NaN</td>\n",
       "      <td>139.8000</td>\n",
       "      <td>English</td>\n",
       "      <td>0.6249</td>\n",
       "      <td>4.0623</td>\n",
       "    </tr>\n",
       "    <tr>\n",
       "      <th>779306</th>\n",
       "      <td>Helk</td>\n",
       "      <td>252490</td>\n",
       "      <td>I love this game</td>\n",
       "      <td>36.0000</td>\n",
       "      <td>15375.0000</td>\n",
       "      <td>English</td>\n",
       "      <td>0.6369</td>\n",
       "      <td>4.0922</td>\n",
       "    </tr>\n",
       "  </tbody>\n",
       "</table>\n",
       "<p>685202 rows × 8 columns</p>\n",
       "</div>"
      ],
      "text/plain": [
       "              username  product_id  \\\n",
       "index                                \n",
       "0          Chaos Syren      725280   \n",
       "1              Ariman1      328100   \n",
       "3       The_Cpt_FROGGY      631920   \n",
       "4         the_maker988       35140   \n",
       "5               Szudof      288690   \n",
       "...                ...         ...   \n",
       "779301    SepticFalcon      252490   \n",
       "779302          Vidaar      252490   \n",
       "779304    RancorZealot      252490   \n",
       "779305           Jerry      252490   \n",
       "779306            Helk      252490   \n",
       "\n",
       "                                                     text  found_funny  \\\n",
       "index                                                                    \n",
       "0       This would not be acceptable as an entertainme...          NaN   \n",
       "1       Addictive RPG   Works fine on linux though it ...          NaN   \n",
       "3       Somewhere on Zibylon                     Zibyl...          NaN   \n",
       "4       This game was way to linear for me  and compar...          NaN   \n",
       "5                   Pit   Hello  my name is dominik di...       3.0000   \n",
       "...                                                   ...          ...   \n",
       "779301  A good laugh with friends  cannot wait till mo...          NaN   \n",
       "779302  Summary  Rust is a survival game created by Fa...          NaN   \n",
       "779304  Should you buy RUST  Uh    YES  The BEST Survi...          NaN   \n",
       "779305                                        Great game           NaN   \n",
       "779306                                  I love this game       36.0000   \n",
       "\n",
       "            hours     lang  polarity  rating  \n",
       "index                                         \n",
       "0          0.1000  English    0.2354  3.0885  \n",
       "1         13.2000  English    0.2023  3.0057  \n",
       "3          7.8000  English    0.9895  4.9737  \n",
       "4          8.2000  English    0.3818  3.4545  \n",
       "5          0.2000  English    0.3400  3.3500  \n",
       "...           ...      ...       ...     ...  \n",
       "779301   334.9000  English    0.8625  4.6562  \n",
       "779302   783.5000  English   -0.9928  0.0180  \n",
       "779304   203.5000  English    0.7510  4.3775  \n",
       "779305   139.8000  English    0.6249  4.0623  \n",
       "779306 15375.0000  English    0.6369  4.0922  \n",
       "\n",
       "[685202 rows x 8 columns]"
      ]
     },
     "execution_count": 73,
     "metadata": {},
     "output_type": "execute_result"
    }
   ],
   "source": [
    "# Creamos una columns de Rating entre 0 y 5, escalando la columna 'polarity'\n",
    "column=df_reviews[['polarity']]\n",
    "scaler = MinMaxScaler(feature_range=(0,5))\n",
    "df_reviews['rating'] = scaler.fit_transform(column)\n",
    "df_reviews"
>>>>>>> 55c5a7615532b040cf4e3b66125c46d15dbafcca
   ]
  },
  {
   "cell_type": "code",
<<<<<<< HEAD
   "execution_count": 99,
=======
   "execution_count": 71,
   "metadata": {},
   "outputs": [
    {
     "data": {
      "text/html": [
       "<pre>✔️ 328 ms (2021-09-15T20:12:53/2021-09-15T20:12:53)</pre>"
      ],
      "text/plain": [
       "<IPython.core.display.HTML object>"
      ]
     },
     "metadata": {},
     "output_type": "display_data"
    },
    {
     "data": {
      "text/html": [
       "<div>\n",
       "<style scoped>\n",
       "    .dataframe tbody tr th:only-of-type {\n",
       "        vertical-align: middle;\n",
       "    }\n",
       "\n",
       "    .dataframe tbody tr th {\n",
       "        vertical-align: top;\n",
       "    }\n",
       "\n",
       "    .dataframe thead th {\n",
       "        text-align: right;\n",
       "    }\n",
       "</style>\n",
       "<table border=\"1\" class=\"dataframe\">\n",
       "  <thead>\n",
       "    <tr style=\"text-align: right;\">\n",
       "      <th></th>\n",
       "      <th>username</th>\n",
       "      <th>count</th>\n",
       "    </tr>\n",
       "  </thead>\n",
       "  <tbody>\n",
       "    <tr>\n",
       "      <th>0</th>\n",
       "      <td>Communist \"Joseph Ballin\" Layton</td>\n",
       "      <td>42</td>\n",
       "    </tr>\n",
       "    <tr>\n",
       "      <th>1</th>\n",
       "      <td>Paradise Decay</td>\n",
       "      <td>39</td>\n",
       "    </tr>\n",
       "    <tr>\n",
       "      <th>2</th>\n",
       "      <td>Tom</td>\n",
       "      <td>37</td>\n",
       "    </tr>\n",
       "    <tr>\n",
       "      <th>3</th>\n",
       "      <td>VahidSlayerOfAll</td>\n",
       "      <td>36</td>\n",
       "    </tr>\n",
       "    <tr>\n",
       "      <th>4</th>\n",
       "      <td>Running-Target</td>\n",
       "      <td>36</td>\n",
       "    </tr>\n",
       "  </tbody>\n",
       "</table>\n",
       "</div>"
      ],
      "text/plain": [
       "                           username  count\n",
       "0  Communist \"Joseph Ballin\" Layton     42\n",
       "1                    Paradise Decay     39\n",
       "2                               Tom     37\n",
       "3                  VahidSlayerOfAll     36\n",
       "4                    Running-Target     36"
      ]
     },
     "execution_count": 71,
     "metadata": {},
     "output_type": "execute_result"
    }
   ],
   "source": [
    "reviews_count = df_reviews.groupby('username').count().text.sort_values(ascending=False).reset_index().rename(columns={'text':'count'})\n",
    "reviews_count.head()"
   ]
  },
  {
   "cell_type": "code",
   "execution_count": 72,
>>>>>>> 55c5a7615532b040cf4e3b66125c46d15dbafcca
   "metadata": {},
   "outputs": [
    {
     "data": {
      "text/html": [
<<<<<<< HEAD
       "<pre>✔️ 0 ns (2021-09-24T08:42:59/2021-09-24T08:42:59)</pre>"
=======
       "<pre>✔️ 18.4 s (2021-09-15T20:13:01/2021-09-15T20:13:19)</pre>"
>>>>>>> 55c5a7615532b040cf4e3b66125c46d15dbafcca
      ],
      "text/plain": [
       "<IPython.core.display.HTML object>"
      ]
     },
     "metadata": {},
     "output_type": "display_data"
<<<<<<< HEAD
    }
   ],
   "source": [
    "# Creo funcion para identificar el rol de cada palabra en el texto del comentario\n",
    "def get_wordnet_pos(word):\n",
    "    \"\"\"Map POS tag to first character lemmatize() accepts\"\"\"\n",
    "    tag = nltk.pos_tag([word])[0][1][0].upper()\n",
    "    tag_dict = {\"J\": wordnet.ADJ,\n",
    "                \"N\": wordnet.NOUN,\n",
    "                \"V\": wordnet.VERB,\n",
    "                \"R\": wordnet.ADV}\n",
    "\n",
    "    return tag_dict.get(tag, wordnet.NOUN)"
=======
    },
    {
     "name": "stderr",
     "output_type": "stream",
     "text": [
      "C:\\Users\\elmai\\.conda\\envs\\datascience\\lib\\site-packages\\matplotlib\\backends\\backend_agg.py:238: RuntimeWarning: Glyph 128039 missing from current font.\n",
      "  font.set_text(s, 0.0, flags=flags)\n",
      "C:\\Users\\elmai\\.conda\\envs\\datascience\\lib\\site-packages\\matplotlib\\backends\\backend_agg.py:238: RuntimeWarning: Glyph 10025 missing from current font.\n",
      "  font.set_text(s, 0.0, flags=flags)\n",
      "C:\\Users\\elmai\\.conda\\envs\\datascience\\lib\\site-packages\\matplotlib\\backends\\backend_agg.py:238: RuntimeWarning: Glyph 3640 missing from current font.\n",
      "  font.set_text(s, 0.0, flags=flags)\n",
      "C:\\Users\\elmai\\.conda\\envs\\datascience\\lib\\site-packages\\matplotlib\\backends\\backend_agg.py:238: RuntimeWarning: Glyph 9855 missing from current font.\n",
      "  font.set_text(s, 0.0, flags=flags)\n",
      "C:\\Users\\elmai\\.conda\\envs\\datascience\\lib\\site-packages\\matplotlib\\backends\\backend_agg.py:238: RuntimeWarning: Glyph 9891 missing from current font.\n",
      "  font.set_text(s, 0.0, flags=flags)\n",
      "C:\\Users\\elmai\\.conda\\envs\\datascience\\lib\\site-packages\\matplotlib\\backends\\backend_agg.py:238: RuntimeWarning: Glyph 128175 missing from current font.\n",
      "  font.set_text(s, 0.0, flags=flags)\n",
      "C:\\Users\\elmai\\.conda\\envs\\datascience\\lib\\site-packages\\matplotlib\\backends\\backend_agg.py:238: RuntimeWarning: Glyph 12415 missing from current font.\n",
      "  font.set_text(s, 0.0, flags=flags)\n",
      "C:\\Users\\elmai\\.conda\\envs\\datascience\\lib\\site-packages\\matplotlib\\backends\\backend_agg.py:238: RuntimeWarning: Glyph 29238 missing from current font.\n",
      "  font.set_text(s, 0.0, flags=flags)\n",
      "C:\\Users\\elmai\\.conda\\envs\\datascience\\lib\\site-packages\\matplotlib\\backends\\backend_agg.py:201: RuntimeWarning: Glyph 128039 missing from current font.\n",
      "  font.set_text(s, 0, flags=flags)\n",
      "C:\\Users\\elmai\\.conda\\envs\\datascience\\lib\\site-packages\\matplotlib\\backends\\backend_agg.py:201: RuntimeWarning: Glyph 10025 missing from current font.\n",
      "  font.set_text(s, 0, flags=flags)\n",
      "C:\\Users\\elmai\\.conda\\envs\\datascience\\lib\\site-packages\\matplotlib\\backends\\backend_agg.py:201: RuntimeWarning: Glyph 3640 missing from current font.\n",
      "  font.set_text(s, 0, flags=flags)\n",
      "C:\\Users\\elmai\\.conda\\envs\\datascience\\lib\\site-packages\\matplotlib\\backends\\backend_agg.py:201: RuntimeWarning: Glyph 9855 missing from current font.\n",
      "  font.set_text(s, 0, flags=flags)\n",
      "C:\\Users\\elmai\\.conda\\envs\\datascience\\lib\\site-packages\\matplotlib\\backends\\backend_agg.py:201: RuntimeWarning: Glyph 9891 missing from current font.\n",
      "  font.set_text(s, 0, flags=flags)\n",
      "C:\\Users\\elmai\\.conda\\envs\\datascience\\lib\\site-packages\\matplotlib\\backends\\backend_agg.py:201: RuntimeWarning: Glyph 128175 missing from current font.\n",
      "  font.set_text(s, 0, flags=flags)\n",
      "C:\\Users\\elmai\\.conda\\envs\\datascience\\lib\\site-packages\\matplotlib\\backends\\backend_agg.py:201: RuntimeWarning: Glyph 12415 missing from current font.\n",
      "  font.set_text(s, 0, flags=flags)\n",
      "C:\\Users\\elmai\\.conda\\envs\\datascience\\lib\\site-packages\\matplotlib\\backends\\backend_agg.py:201: RuntimeWarning: Glyph 29238 missing from current font.\n",
      "  font.set_text(s, 0, flags=flags)\n"
     ]
    },
    {
     "data": {
      "image/png": "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\n",
      "text/plain": [
       "<Figure size 2160x720 with 1 Axes>"
      ]
     },
     "metadata": {},
     "output_type": "display_data"
    }
   ],
   "source": [
    "plt.figure(figsize=(30,10))\n",
    "g = sns.barplot(data=reviews_count[:200], x='username', y='count')\n",
    "plt.xticks(rotation=90)\n",
    "plt.show()"
>>>>>>> 55c5a7615532b040cf4e3b66125c46d15dbafcca
   ]
  },
  {
   "cell_type": "code",
<<<<<<< HEAD
   "execution_count": 100,
=======
   "execution_count": 79,
>>>>>>> 55c5a7615532b040cf4e3b66125c46d15dbafcca
   "metadata": {},
   "outputs": [
    {
     "data": {
      "text/html": [
<<<<<<< HEAD
       "<pre>✔️ 0 ns (2021-09-24T08:43:18/2021-09-24T08:43:18)</pre>"
=======
       "<pre>✔️ 16 ms (2021-09-15T20:21:17/2021-09-15T20:21:17)</pre>"
>>>>>>> 55c5a7615532b040cf4e3b66125c46d15dbafcca
      ],
      "text/plain": [
       "<IPython.core.display.HTML object>"
      ]
     },
     "metadata": {},
     "output_type": "display_data"
<<<<<<< HEAD
    }
   ],
   "source": [
    "# Creamos método para aplicar la Normalizacion y luega el Stemming a cada instancia\n",
    "def processText(text):\n",
    "    \n",
    "    # Vamos a reemplzar los caracteres que no sean letras por espacios\n",
    "    text = re.sub(\"[^a-zA-Z]\",\" \",str(text))\n",
    "    \n",
    "    # Pasamos todo a minúsculas\n",
    "    text = text.lower()\n",
    "    \n",
    "    # Tokenizamos para separar las palabras del titular\n",
    "    text = tokenizer.tokenize(text)\n",
    "    \n",
    "    # Eliminamos las palabras de menos de 4 letras\n",
    "    text = [palabra for palabra in text if len(palabra) > 3]\n",
    "    \n",
    "    # Sacamos las Stopwords\n",
    "    text = [p for p in text if not p in stopwords]\n",
    "    \n",
    "    # Aplicamos el Lemmatizer (Esto puede tardar un ratito)\n",
    "#     text = [wordnet_lemmatizer.lemmatize(w, get_wordnet_pos(w)) for w in text]\n",
    "    \n",
    "    ## Hasta acá Normalizamos, ahora a stemmizar\n",
    "    # Aplicamos la funcion para buscar la raiz de las palabras\n",
    "#     text = [stemmer.stem(t) for t in text]\n",
    "    \n",
    "    # Por ultimo volvemos a unir el titular\n",
    "    text = \" \".join(text)\n",
    "    \n",
    "    return text"
=======
    },
    {
     "data": {
      "text/html": [
       "<div>\n",
       "<style scoped>\n",
       "    .dataframe tbody tr th:only-of-type {\n",
       "        vertical-align: middle;\n",
       "    }\n",
       "\n",
       "    .dataframe tbody tr th {\n",
       "        vertical-align: top;\n",
       "    }\n",
       "\n",
       "    .dataframe thead th {\n",
       "        text-align: right;\n",
       "    }\n",
       "</style>\n",
       "<table border=\"1\" class=\"dataframe\">\n",
       "  <thead>\n",
       "    <tr style=\"text-align: right;\">\n",
       "      <th></th>\n",
       "      <th>username</th>\n",
       "      <th>product_id</th>\n",
       "      <th>text</th>\n",
       "      <th>found_funny</th>\n",
       "      <th>hours</th>\n",
       "      <th>lang</th>\n",
       "      <th>cleaned_text</th>\n",
       "      <th>polarity</th>\n",
       "    </tr>\n",
       "    <tr>\n",
       "      <th>index</th>\n",
       "      <th></th>\n",
       "      <th></th>\n",
       "      <th></th>\n",
       "      <th></th>\n",
       "      <th></th>\n",
       "      <th></th>\n",
       "      <th></th>\n",
       "      <th></th>\n",
       "    </tr>\n",
       "  </thead>\n",
       "  <tbody>\n",
       "    <tr>\n",
       "      <th>5</th>\n",
       "      <td>Szudof</td>\n",
       "      <td>288690</td>\n",
       "      <td>Pit   Hello  my name is dominik di...</td>\n",
       "      <td>3.0000</td>\n",
       "      <td>0.2000</td>\n",
       "      <td>English</td>\n",
       "      <td>hello name dominik review bought sudoku detekt...</td>\n",
       "      <td>0.3400</td>\n",
       "    </tr>\n",
       "    <tr>\n",
       "      <th>7</th>\n",
       "      <td>LucaFox</td>\n",
       "      <td>620900</td>\n",
       "      <td>Very  very good game  I love dungeon crawlers ...</td>\n",
       "      <td>1.0000</td>\n",
       "      <td>4.0000</td>\n",
       "      <td>English</td>\n",
       "      <td>good game love dungeon crawlers roguelikes lig...</td>\n",
       "      <td>0.9986</td>\n",
       "    </tr>\n",
       "    <tr>\n",
       "      <th>9</th>\n",
       "      <td>Devil Azite</td>\n",
       "      <td>671270</td>\n",
       "      <td>Putting a hat on your head has disasterous rep...</td>\n",
       "      <td>1.0000</td>\n",
       "      <td>0.1000</td>\n",
       "      <td>English</td>\n",
       "      <td>putting head disasterous repercussions</td>\n",
       "      <td>0.0000</td>\n",
       "    </tr>\n",
       "    <tr>\n",
       "      <th>14</th>\n",
       "      <td>tehwave</td>\n",
       "      <td>671270</td>\n",
       "      <td>Queen Elizabeth said that I d like it  and she...</td>\n",
       "      <td>3.0000</td>\n",
       "      <td>0.1000</td>\n",
       "      <td>English</td>\n",
       "      <td>queen elizabeth said like right</td>\n",
       "      <td>0.3612</td>\n",
       "    </tr>\n",
       "    <tr>\n",
       "      <th>15</th>\n",
       "      <td>Hanzo</td>\n",
       "      <td>8880</td>\n",
       "      <td>Freidom force is game made in late   s by some...</td>\n",
       "      <td>3.0000</td>\n",
       "      <td>0.2000</td>\n",
       "      <td>English</td>\n",
       "      <td>freidom force game made late class project pub...</td>\n",
       "      <td>0.7184</td>\n",
       "    </tr>\n",
       "    <tr>\n",
       "      <th>...</th>\n",
       "      <td>...</td>\n",
       "      <td>...</td>\n",
       "      <td>...</td>\n",
       "      <td>...</td>\n",
       "      <td>...</td>\n",
       "      <td>...</td>\n",
       "      <td>...</td>\n",
       "      <td>...</td>\n",
       "    </tr>\n",
       "    <tr>\n",
       "      <th>779256</th>\n",
       "      <td>Noodle</td>\n",
       "      <td>252490</td>\n",
       "      <td>This is a great survival building game  it can...</td>\n",
       "      <td>1.0000</td>\n",
       "      <td>96.6000</td>\n",
       "      <td>English</td>\n",
       "      <td>great survival building game hold people serve...</td>\n",
       "      <td>0.3400</td>\n",
       "    </tr>\n",
       "    <tr>\n",
       "      <th>779257</th>\n",
       "      <td>SGC | Atome</td>\n",
       "      <td>252490</td>\n",
       "      <td>Biggest surprise of      An absolutely brillia...</td>\n",
       "      <td>1.0000</td>\n",
       "      <td>111.7000</td>\n",
       "      <td>English</td>\n",
       "      <td>biggest surprise absolutely brilliant concept ...</td>\n",
       "      <td>0.8858</td>\n",
       "    </tr>\n",
       "    <tr>\n",
       "      <th>779258</th>\n",
       "      <td>beren</td>\n",
       "      <td>252490</td>\n",
       "      <td>What can I say about this game  Build  raid  g...</td>\n",
       "      <td>1.0000</td>\n",
       "      <td>254.6000</td>\n",
       "      <td>English</td>\n",
       "      <td>game build raid raided repeat enjoyable going ...</td>\n",
       "      <td>0.9799</td>\n",
       "    </tr>\n",
       "    <tr>\n",
       "      <th>779278</th>\n",
       "      <td>KappaJ</td>\n",
       "      <td>252490</td>\n",
       "      <td>My friend gtf chased me around with a rock yel...</td>\n",
       "      <td>2.0000</td>\n",
       "      <td>248.9000</td>\n",
       "      <td>English</td>\n",
       "      <td>friend chased around rock yelling bakele kumel...</td>\n",
       "      <td>0.1027</td>\n",
       "    </tr>\n",
       "    <tr>\n",
       "      <th>779306</th>\n",
       "      <td>Helk</td>\n",
       "      <td>252490</td>\n",
       "      <td>I love this game</td>\n",
       "      <td>36.0000</td>\n",
       "      <td>15375.0000</td>\n",
       "      <td>English</td>\n",
       "      <td>love game</td>\n",
       "      <td>0.6369</td>\n",
       "    </tr>\n",
       "  </tbody>\n",
       "</table>\n",
       "<p>105833 rows × 8 columns</p>\n",
       "</div>"
      ],
      "text/plain": [
       "           username  product_id  \\\n",
       "index                             \n",
       "5            Szudof      288690   \n",
       "7           LucaFox      620900   \n",
       "9       Devil Azite      671270   \n",
       "14          tehwave      671270   \n",
       "15            Hanzo        8880   \n",
       "...             ...         ...   \n",
       "779256       Noodle      252490   \n",
       "779257  SGC | Atome      252490   \n",
       "779258        beren      252490   \n",
       "779278       KappaJ      252490   \n",
       "779306         Helk      252490   \n",
       "\n",
       "                                                     text  found_funny  \\\n",
       "index                                                                    \n",
       "5                   Pit   Hello  my name is dominik di...       3.0000   \n",
       "7       Very  very good game  I love dungeon crawlers ...       1.0000   \n",
       "9       Putting a hat on your head has disasterous rep...       1.0000   \n",
       "14      Queen Elizabeth said that I d like it  and she...       3.0000   \n",
       "15      Freidom force is game made in late   s by some...       3.0000   \n",
       "...                                                   ...          ...   \n",
       "779256  This is a great survival building game  it can...       1.0000   \n",
       "779257  Biggest surprise of      An absolutely brillia...       1.0000   \n",
       "779258  What can I say about this game  Build  raid  g...       1.0000   \n",
       "779278  My friend gtf chased me around with a rock yel...       2.0000   \n",
       "779306                                  I love this game       36.0000   \n",
       "\n",
       "            hours     lang                                       cleaned_text  \\\n",
       "index                                                                           \n",
       "5          0.2000  English  hello name dominik review bought sudoku detekt...   \n",
       "7          4.0000  English  good game love dungeon crawlers roguelikes lig...   \n",
       "9          0.1000  English             putting head disasterous repercussions   \n",
       "14         0.1000  English                    queen elizabeth said like right   \n",
       "15         0.2000  English  freidom force game made late class project pub...   \n",
       "...           ...      ...                                                ...   \n",
       "779256    96.6000  English  great survival building game hold people serve...   \n",
       "779257   111.7000  English  biggest surprise absolutely brilliant concept ...   \n",
       "779258   254.6000  English  game build raid raided repeat enjoyable going ...   \n",
       "779278   248.9000  English  friend chased around rock yelling bakele kumel...   \n",
       "779306 15375.0000  English                                          love game   \n",
       "\n",
       "        polarity  \n",
       "index             \n",
       "5         0.3400  \n",
       "7         0.9986  \n",
       "9         0.0000  \n",
       "14        0.3612  \n",
       "15        0.7184  \n",
       "...          ...  \n",
       "779256    0.3400  \n",
       "779257    0.8858  \n",
       "779258    0.9799  \n",
       "779278    0.1027  \n",
       "779306    0.6369  \n",
       "\n",
       "[105833 rows x 8 columns]"
      ]
     },
     "execution_count": 79,
     "metadata": {},
     "output_type": "execute_result"
    }
   ],
   "source": [
    "df_reviews"
>>>>>>> 55c5a7615532b040cf4e3b66125c46d15dbafcca
   ]
  },
  {
   "cell_type": "code",
<<<<<<< HEAD
   "execution_count": 156,
=======
   "execution_count": 77,
>>>>>>> 55c5a7615532b040cf4e3b66125c46d15dbafcca
   "metadata": {},
   "outputs": [
    {
     "data": {
      "text/html": [
<<<<<<< HEAD
       "<pre>✔️ 1 min 41 s (2021-09-24T09:34:38/2021-09-24T09:36:20)</pre>"
      ],
      "text/plain": [
       "<IPython.core.display.HTML object>"
      ]
     },
     "metadata": {},
     "output_type": "display_data"
    },
    {
     "data": {
      "application/vnd.jupyter.widget-view+json": {
       "model_id": "15832e063152472d8114abb17fb09d99",
       "version_major": 2,
       "version_minor": 0
      },
      "text/plain": [
       "  0%|          | 0/779307 [00:00<?, ?it/s]"
=======
       "<pre>✔️ 31 ms (2021-09-15T20:14:09/2021-09-15T20:14:09)</pre>"
      ],
      "text/plain": [
       "<IPython.core.display.HTML object>"
>>>>>>> 55c5a7615532b040cf4e3b66125c46d15dbafcca
      ]
     },
     "metadata": {},
     "output_type": "display_data"
<<<<<<< HEAD
    }
   ],
   "source": [
    "# Aplicamos la transformación\n",
    "if PROCESS_TEXT:\n",
    "    df_reviews['cleaned_text'] = df_reviews['text'].progress_apply(processText)\n",
    "    df_reviews.to_csv('df_reviews.csv', index_label='index')\n",
    "else:\n",
    "    df_reviews = pd.read_csv('df_reviews.csv')\n",
    "    df_reviews.drop(columns='index', inplace=True)"
=======
    },
    {
     "ename": "KeyError",
     "evalue": "\"Column 'rating' does not exist!\"",
     "output_type": "error",
     "traceback": [
      "\u001b[1;31m---------------------------------------------------------------------------\u001b[0m",
      "\u001b[1;31mKeyError\u001b[0m                                  Traceback (most recent call last)",
      "\u001b[1;32m~\\AppData\\Local\\Temp/ipykernel_17936/3592856554.py\u001b[0m in \u001b[0;36m<module>\u001b[1;34m\u001b[0m\n\u001b[1;32m----> 1\u001b[1;33m \u001b[0mdf_ratings\u001b[0m \u001b[1;33m=\u001b[0m \u001b[0mdf_reviews\u001b[0m\u001b[1;33m.\u001b[0m\u001b[0mgroupby\u001b[0m\u001b[1;33m(\u001b[0m\u001b[1;34m'product_id'\u001b[0m\u001b[1;33m)\u001b[0m\u001b[1;33m.\u001b[0m\u001b[0magg\u001b[0m\u001b[1;33m(\u001b[0m\u001b[1;33m{\u001b[0m\u001b[1;34m'rating'\u001b[0m\u001b[1;33m:\u001b[0m\u001b[1;33m[\u001b[0m\u001b[1;34m'count'\u001b[0m\u001b[1;33m,\u001b[0m\u001b[1;34m'mean'\u001b[0m\u001b[1;33m]\u001b[0m\u001b[1;33m}\u001b[0m\u001b[1;33m)\u001b[0m\u001b[1;33m.\u001b[0m\u001b[0mreset_index\u001b[0m\u001b[1;33m(\u001b[0m\u001b[1;33m)\u001b[0m\u001b[1;33m\u001b[0m\u001b[1;33m\u001b[0m\u001b[0m\n\u001b[0m\u001b[0;32m      2\u001b[0m \u001b[0mdf_ratings\u001b[0m\u001b[1;33m.\u001b[0m\u001b[0mcolumns\u001b[0m \u001b[1;33m=\u001b[0m \u001b[1;33m[\u001b[0m\u001b[1;34m'product_id'\u001b[0m\u001b[1;33m,\u001b[0m \u001b[1;34m'count'\u001b[0m\u001b[1;33m,\u001b[0m \u001b[1;34m'mean'\u001b[0m\u001b[1;33m]\u001b[0m\u001b[1;33m\u001b[0m\u001b[1;33m\u001b[0m\u001b[0m\n\u001b[0;32m      3\u001b[0m \u001b[0mdf_ratings\u001b[0m\u001b[1;33m.\u001b[0m\u001b[0msort_values\u001b[0m\u001b[1;33m(\u001b[0m\u001b[0mby\u001b[0m\u001b[1;33m=\u001b[0m\u001b[1;34m'mean'\u001b[0m\u001b[1;33m,\u001b[0m \u001b[0mascending\u001b[0m\u001b[1;33m=\u001b[0m\u001b[1;32mFalse\u001b[0m\u001b[1;33m,\u001b[0m \u001b[0minplace\u001b[0m\u001b[1;33m=\u001b[0m\u001b[1;32mTrue\u001b[0m\u001b[1;33m)\u001b[0m\u001b[1;33m\u001b[0m\u001b[1;33m\u001b[0m\u001b[0m\n\u001b[0;32m      4\u001b[0m \u001b[0mdf_ratings\u001b[0m\u001b[1;33m.\u001b[0m\u001b[0mreset_index\u001b[0m\u001b[1;33m(\u001b[0m\u001b[0minplace\u001b[0m\u001b[1;33m=\u001b[0m\u001b[1;32mTrue\u001b[0m\u001b[1;33m,\u001b[0m \u001b[0mdrop\u001b[0m\u001b[1;33m=\u001b[0m\u001b[1;32mTrue\u001b[0m\u001b[1;33m)\u001b[0m\u001b[1;33m\u001b[0m\u001b[1;33m\u001b[0m\u001b[0m\n\u001b[0;32m      5\u001b[0m \u001b[0mdf_ratings\u001b[0m\u001b[1;33m\u001b[0m\u001b[1;33m\u001b[0m\u001b[0m\n",
      "\u001b[1;32m~\\.conda\\envs\\datascience\\lib\\site-packages\\pandas\\core\\groupby\\generic.py\u001b[0m in \u001b[0;36maggregate\u001b[1;34m(self, func, engine, engine_kwargs, *args, **kwargs)\u001b[0m\n\u001b[0;32m    943\u001b[0m         \u001b[0mfunc\u001b[0m \u001b[1;33m=\u001b[0m \u001b[0mmaybe_mangle_lambdas\u001b[0m\u001b[1;33m(\u001b[0m\u001b[0mfunc\u001b[0m\u001b[1;33m)\u001b[0m\u001b[1;33m\u001b[0m\u001b[1;33m\u001b[0m\u001b[0m\n\u001b[0;32m    944\u001b[0m \u001b[1;33m\u001b[0m\u001b[0m\n\u001b[1;32m--> 945\u001b[1;33m         \u001b[0mresult\u001b[0m\u001b[1;33m,\u001b[0m \u001b[0mhow\u001b[0m \u001b[1;33m=\u001b[0m \u001b[0maggregate\u001b[0m\u001b[1;33m(\u001b[0m\u001b[0mself\u001b[0m\u001b[1;33m,\u001b[0m \u001b[0mfunc\u001b[0m\u001b[1;33m,\u001b[0m \u001b[1;33m*\u001b[0m\u001b[0margs\u001b[0m\u001b[1;33m,\u001b[0m \u001b[1;33m**\u001b[0m\u001b[0mkwargs\u001b[0m\u001b[1;33m)\u001b[0m\u001b[1;33m\u001b[0m\u001b[1;33m\u001b[0m\u001b[0m\n\u001b[0m\u001b[0;32m    946\u001b[0m         \u001b[1;32mif\u001b[0m \u001b[0mhow\u001b[0m \u001b[1;32mis\u001b[0m \u001b[1;32mNone\u001b[0m\u001b[1;33m:\u001b[0m\u001b[1;33m\u001b[0m\u001b[1;33m\u001b[0m\u001b[0m\n\u001b[0;32m    947\u001b[0m             \u001b[1;32mreturn\u001b[0m \u001b[0mresult\u001b[0m\u001b[1;33m\u001b[0m\u001b[1;33m\u001b[0m\u001b[0m\n",
      "\u001b[1;32m~\\.conda\\envs\\datascience\\lib\\site-packages\\pandas\\core\\aggregation.py\u001b[0m in \u001b[0;36maggregate\u001b[1;34m(obj, arg, *args, **kwargs)\u001b[0m\n\u001b[0;32m    580\u001b[0m     \u001b[1;32melif\u001b[0m \u001b[0mis_dict_like\u001b[0m\u001b[1;33m(\u001b[0m\u001b[0marg\u001b[0m\u001b[1;33m)\u001b[0m\u001b[1;33m:\u001b[0m\u001b[1;33m\u001b[0m\u001b[1;33m\u001b[0m\u001b[0m\n\u001b[0;32m    581\u001b[0m         \u001b[0marg\u001b[0m \u001b[1;33m=\u001b[0m \u001b[0mcast\u001b[0m\u001b[1;33m(\u001b[0m\u001b[0mAggFuncTypeDict\u001b[0m\u001b[1;33m,\u001b[0m \u001b[0marg\u001b[0m\u001b[1;33m)\u001b[0m\u001b[1;33m\u001b[0m\u001b[1;33m\u001b[0m\u001b[0m\n\u001b[1;32m--> 582\u001b[1;33m         \u001b[1;32mreturn\u001b[0m \u001b[0magg_dict_like\u001b[0m\u001b[1;33m(\u001b[0m\u001b[0mobj\u001b[0m\u001b[1;33m,\u001b[0m \u001b[0marg\u001b[0m\u001b[1;33m,\u001b[0m \u001b[0m_axis\u001b[0m\u001b[1;33m)\u001b[0m\u001b[1;33m,\u001b[0m \u001b[1;32mTrue\u001b[0m\u001b[1;33m\u001b[0m\u001b[1;33m\u001b[0m\u001b[0m\n\u001b[0m\u001b[0;32m    583\u001b[0m     \u001b[1;32melif\u001b[0m \u001b[0mis_list_like\u001b[0m\u001b[1;33m(\u001b[0m\u001b[0marg\u001b[0m\u001b[1;33m)\u001b[0m\u001b[1;33m:\u001b[0m\u001b[1;33m\u001b[0m\u001b[1;33m\u001b[0m\u001b[0m\n\u001b[0;32m    584\u001b[0m         \u001b[1;31m# we require a list, but not an 'str'\u001b[0m\u001b[1;33m\u001b[0m\u001b[1;33m\u001b[0m\u001b[1;33m\u001b[0m\u001b[0m\n",
      "\u001b[1;32m~\\.conda\\envs\\datascience\\lib\\site-packages\\pandas\\core\\aggregation.py\u001b[0m in \u001b[0;36magg_dict_like\u001b[1;34m(obj, arg, _axis)\u001b[0m\n\u001b[0;32m    744\u001b[0m                 \u001b[0misinstance\u001b[0m\u001b[1;33m(\u001b[0m\u001b[0mselected_obj\u001b[0m\u001b[1;33m,\u001b[0m \u001b[0mABCDataFrame\u001b[0m\u001b[1;33m)\u001b[0m \u001b[1;32mand\u001b[0m \u001b[0mk\u001b[0m \u001b[1;32mnot\u001b[0m \u001b[1;32min\u001b[0m \u001b[0mselected_obj\u001b[0m\u001b[1;33m.\u001b[0m\u001b[0mcolumns\u001b[0m\u001b[1;33m\u001b[0m\u001b[1;33m\u001b[0m\u001b[0m\n\u001b[0;32m    745\u001b[0m             ):\n\u001b[1;32m--> 746\u001b[1;33m                 \u001b[1;32mraise\u001b[0m \u001b[0mKeyError\u001b[0m\u001b[1;33m(\u001b[0m\u001b[1;34mf\"Column '{k}' does not exist!\"\u001b[0m\u001b[1;33m)\u001b[0m\u001b[1;33m\u001b[0m\u001b[1;33m\u001b[0m\u001b[0m\n\u001b[0m\u001b[0;32m    747\u001b[0m \u001b[1;33m\u001b[0m\u001b[0m\n\u001b[0;32m    748\u001b[0m         \u001b[0marg\u001b[0m \u001b[1;33m=\u001b[0m \u001b[0mnew_arg\u001b[0m\u001b[1;33m\u001b[0m\u001b[1;33m\u001b[0m\u001b[0m\n",
      "\u001b[1;31mKeyError\u001b[0m: \"Column 'rating' does not exist!\""
     ]
    }
   ],
   "source": [
    "df_ratings = df_reviews.groupby('product_id').agg({'rating':['count','mean']}).reset_index()\n",
    "df_ratings.columns = ['product_id', 'count', 'mean']\n",
    "df_ratings.sort_values(by='mean', ascending=False, inplace=True)\n",
    "df_ratings.reset_index(inplace=True, drop=True)\n",
    "df_ratings"
   ]
  },
  {
   "cell_type": "code",
   "execution_count": null,
   "metadata": {},
   "outputs": [],
   "source": [
    "df_filter = df_ratings[df_ratings['count'] >= 100]\n",
    "\n",
    "plt.figure(figsize=(7,2))\n",
    "sns.histplot(data=df_filter, x='mean')\n",
    "plt.ylabel('count')\n",
    "plt.xlabel('rating')\n",
    "plt.xticks(rotation=90)\n",
    "plt.show()\n",
    "\n",
    "x = df_filter.index\n",
    "y1 = df_filter['count']\n",
    "y2 = df_filter['mean']\n",
    "\n",
    "fig, ax1 = plt.subplots()\n",
    "\n",
    "ax2 = ax1.twinx()\n",
    "ax1.plot(x, y1, 'g-')\n",
    "ax2.plot(x, y2, 'b-')\n",
    "\n",
    "ax1.set_xlabel('game')\n",
    "ax1.set_ylabel('count', color='g')\n",
    "ax2.set_ylabel('rating', color='b')\n",
    "\n",
    "plt.show()"
>>>>>>> 55c5a7615532b040cf4e3b66125c46d15dbafcca
   ]
  },
  {
   "cell_type": "code",
<<<<<<< HEAD
   "execution_count": 157,
=======
   "execution_count": 40,
>>>>>>> 55c5a7615532b040cf4e3b66125c46d15dbafcca
   "metadata": {},
   "outputs": [
    {
     "data": {
      "text/html": [
<<<<<<< HEAD
       "<pre>✔️ 16 ms (2021-09-24T09:36:20/2021-09-24T09:36:20)</pre>"
=======
       "<pre>✔️ 47 ms (2021-09-12T17:06:42/2021-09-12T17:06:42)</pre>"
>>>>>>> 55c5a7615532b040cf4e3b66125c46d15dbafcca
      ],
      "text/plain": [
       "<IPython.core.display.HTML object>"
      ]
     },
     "metadata": {},
     "output_type": "display_data"
    },
    {
     "data": {
      "text/html": [
       "<div>\n",
       "<style scoped>\n",
       "    .dataframe tbody tr th:only-of-type {\n",
       "        vertical-align: middle;\n",
       "    }\n",
       "\n",
       "    .dataframe tbody tr th {\n",
       "        vertical-align: top;\n",
       "    }\n",
       "\n",
       "    .dataframe thead th {\n",
       "        text-align: right;\n",
       "    }\n",
       "</style>\n",
       "<table border=\"1\" class=\"dataframe\">\n",
       "  <thead>\n",
       "    <tr style=\"text-align: right;\">\n",
       "      <th></th>\n",
<<<<<<< HEAD
       "      <th>username</th>\n",
       "      <th>hours</th>\n",
       "      <th>product_id</th>\n",
       "      <th>text</th>\n",
       "      <th>user_id</th>\n",
       "      <th>cleaned_text</th>\n",
       "      <th>polarity</th>\n",
       "      <th>rating</th>\n",
=======
       "      <th>publisher</th>\n",
       "      <th>genres</th>\n",
       "      <th>app_name</th>\n",
       "      <th>title</th>\n",
       "      <th>url</th>\n",
       "      <th>release_date</th>\n",
       "      <th>tags</th>\n",
       "      <th>discount_price</th>\n",
       "      <th>reviews_url</th>\n",
       "      <th>specs</th>\n",
       "      <th>price</th>\n",
       "      <th>early_access</th>\n",
       "      <th>product_id</th>\n",
       "      <th>developer</th>\n",
       "      <th>sentiment</th>\n",
       "      <th>metascore</th>\n",
>>>>>>> 55c5a7615532b040cf4e3b66125c46d15dbafcca
       "    </tr>\n",
       "  </thead>\n",
       "  <tbody>\n",
       "    <tr>\n",
       "      <th>628250</th>\n",
       "      <td>3tHAn8907</td>\n",
       "      <td>32.1000</td>\n",
       "      <td>220</td>\n",
       "      <td>I am one of those gamers who needs to have a r...</td>\n",
       "      <td>7153</td>\n",
       "      <td>gamers needs realy good story many reasons lov...</td>\n",
       "      <td>0.9729</td>\n",
       "      <td>4.9322</td>\n",
       "    </tr>\n",
       "    <tr>\n",
       "      <th>772619</th>\n",
       "      <td>escrotor</td>\n",
       "      <td>21.4000</td>\n",
       "      <td>221100</td>\n",
       "      <td>fk this %^&amp;*</td>\n",
       "      <td>430909</td>\n",
       "      <td></td>\n",
       "      <td>0.0000</td>\n",
       "      <td>2.5000</td>\n",
       "    </tr>\n",
       "    <tr>\n",
       "      <th>760713</th>\n",
       "      <td>PSB Anxiety</td>\n",
       "      <td>526.3000</td>\n",
       "      <td>221100</td>\n",
       "      <td>♥♥♥♥♥</td>\n",
       "      <td>255010</td>\n",
       "      <td></td>\n",
       "      <td>0.0000</td>\n",
       "      <td>2.5000</td>\n",
       "    </tr>\n",
       "    <tr>\n",
       "      <th>526421</th>\n",
       "      <td>The Yurovsky family is ✡Jewish✡</td>\n",
       "      <td>70.0000</td>\n",
       "      <td>219640</td>\n",
       "      <td>Press C to win.</td>\n",
       "      <td>343225</td>\n",
       "      <td>press</td>\n",
       "      <td>0.0000</td>\n",
       "      <td>2.5000</td>\n",
       "    </tr>\n",
       "    <tr>\n",
       "      <th>88265</th>\n",
       "      <td>smelliott</td>\n",
       "      <td>1.2000</td>\n",
       "      <td>301970</td>\n",
       "      <td>Really hard but really fun.</td>\n",
       "      <td>495793</td>\n",
       "      <td>really hard really</td>\n",
       "      <td>-0.1761</td>\n",
       "      <td>2.0598</td>\n",
       "    </tr>\n",
       "  </tbody>\n",
       "</table>\n",
       "</div>"
      ],
      "text/plain": [
       "                               username    hours  product_id  \\\n",
       "628250                        3tHAn8907  32.1000         220   \n",
       "772619                         escrotor  21.4000      221100   \n",
       "760713                      PSB Anxiety 526.3000      221100   \n",
       "526421  The Yurovsky family is ✡Jewish✡  70.0000      219640   \n",
       "88265                         smelliott   1.2000      301970   \n",
       "\n",
       "                                                     text  user_id  \\\n",
       "628250  I am one of those gamers who needs to have a r...     7153   \n",
       "772619                                       fk this %^&*   430909   \n",
       "760713                                              ♥♥♥♥♥   255010   \n",
       "526421                                    Press C to win.   343225   \n",
       "88265                         Really hard but really fun.   495793   \n",
       "\n",
<<<<<<< HEAD
       "                                             cleaned_text  polarity  rating  \n",
       "628250  gamers needs realy good story many reasons lov...    0.9729  4.9322  \n",
       "772619                                                       0.0000  2.5000  \n",
       "760713                                                       0.0000  2.5000  \n",
       "526421                                              press    0.0000  2.5000  \n",
       "88265                                  really hard really   -0.1761  2.0598  "
      ]
     },
     "execution_count": 157,
=======
       "   early_access product_id         developer        sentiment metascore  \n",
       "0         False     761140         Kotoshiro              NaN       NaN  \n",
       "1         False     643980  Secret Level SRL  Mostly Positive       NaN  \n",
       "2         False     670290      Poolians.com  Mostly Positive       NaN  \n",
       "3         False     767400              彼岸领域              NaN       NaN  \n",
       "4         False     773570               NaN              NaN       NaN  "
      ]
     },
     "execution_count": 40,
>>>>>>> 55c5a7615532b040cf4e3b66125c46d15dbafcca
     "metadata": {},
     "output_type": "execute_result"
    }
   ],
   "source": [
<<<<<<< HEAD
    "# Mostramos el dataset limpio\n",
    "rand_list = np.random.choice(df_reviews.index, size=5)\n",
    "df_reviews.loc[rand_list]"
=======
    "df_games = data_games.copy()\n",
    "df_games.rename(columns={\"id\":\"product_id\"}, inplace=True)\n",
    "df_games.head()"
>>>>>>> 55c5a7615532b040cf4e3b66125c46d15dbafcca
   ]
  },
  {
   "cell_type": "code",
<<<<<<< HEAD
   "execution_count": 158,
=======
   "execution_count": 43,
>>>>>>> 55c5a7615532b040cf4e3b66125c46d15dbafcca
   "metadata": {},
   "outputs": [
    {
     "data": {
      "text/html": [
<<<<<<< HEAD
       "<pre>✔️ 63 ms (2021-09-24T09:36:20/2021-09-24T09:36:20)</pre>"
=======
       "<pre>✔️ 16 ms (2021-09-12T17:10:18/2021-09-12T17:10:18)</pre>"
>>>>>>> 55c5a7615532b040cf4e3b66125c46d15dbafcca
      ],
      "text/plain": [
       "<IPython.core.display.HTML object>"
      ]
     },
     "metadata": {},
     "output_type": "display_data"
<<<<<<< HEAD
    },
    {
     "name": "stderr",
     "output_type": "stream",
     "text": [
      "[nltk_data] Downloading package wordnet to\n",
      "[nltk_data]     C:\\Users\\Jose\\AppData\\Roaming\\nltk_data...\n",
      "[nltk_data]   Package wordnet is already up-to-date!\n",
      "[nltk_data] Downloading package averaged_perceptron_tagger to\n",
      "[nltk_data]     C:\\Users\\Jose\\AppData\\Roaming\\nltk_data...\n",
      "[nltk_data]   Package averaged_perceptron_tagger is already up-to-\n",
      "[nltk_data]       date!\n"
     ]
    },
    {
     "data": {
      "text/plain": [
       "True"
      ]
     },
     "execution_count": 158,
     "metadata": {},
     "output_type": "execute_result"
    }
   ],
   "source": [
    "import nltk\n",
    "nltk.download('wordnet')\n",
    "nltk.download('averaged_perceptron_tagger')"
=======
    }
   ],
   "source": [
    "from sklearn.preprocessing import MinMaxScaler\n",
    "datatypes = ['int16', 'int32', 'int64', 'float16', 'float32', 'float64']\n",
    "normarization = df_reviews.select_dtypes(include=datatypes)\n",
    "for col in normarization.columns:\n",
    "    MinMaxScaler(col)\n",
    "normarization = df_games.select_dtypes(include=datatypes)\n",
    "for col in normarization.columns:\n",
    "    MinMaxScaler(col)"
>>>>>>> 55c5a7615532b040cf4e3b66125c46d15dbafcca
   ]
  },
  {
   "cell_type": "code",
<<<<<<< HEAD
   "execution_count": 159,
=======
   "execution_count": 63,
>>>>>>> 55c5a7615532b040cf4e3b66125c46d15dbafcca
   "metadata": {},
   "outputs": [
    {
     "data": {
      "text/html": [
<<<<<<< HEAD
       "<pre>✔️ 16 ms (2021-09-24T09:36:20/2021-09-24T09:36:20)</pre>"
=======
       "<pre>✔️ 31 ms (2021-09-12T17:22:08/2021-09-12T17:22:08)</pre>"
>>>>>>> 55c5a7615532b040cf4e3b66125c46d15dbafcca
      ],
      "text/plain": [
       "<IPython.core.display.HTML object>"
      ]
     },
     "metadata": {},
     "output_type": "display_data"
<<<<<<< HEAD
    },
    {
     "name": "stderr",
     "output_type": "stream",
     "text": [
      "[nltk_data] Downloading package vader_lexicon to\n",
      "[nltk_data]     C:\\Users\\Jose\\AppData\\Roaming\\nltk_data...\n",
      "[nltk_data]   Package vader_lexicon is already up-to-date!\n"
     ]
    }
   ],
   "source": [
    "nltk.download('vader_lexicon')\n",
    "sia = SentimentIntensityAnalyzer()\n",
    "def polaridad(text):\n",
    "    return sia.polarity_scores(text)['compound']"
=======
    }
   ],
   "source": [
    "df_games = df_games.dropna(subset=['product_id'])"
>>>>>>> 55c5a7615532b040cf4e3b66125c46d15dbafcca
   ]
  },
  {
   "cell_type": "code",
<<<<<<< HEAD
   "execution_count": 160,
=======
   "execution_count": 64,
>>>>>>> 55c5a7615532b040cf4e3b66125c46d15dbafcca
   "metadata": {},
   "outputs": [
    {
     "data": {
      "text/html": [
<<<<<<< HEAD
       "<pre>✔️ 157 ms (2021-09-24T09:36:20/2021-09-24T09:36:20)</pre>"
=======
       "<pre>✔️ 47 ms (2021-09-12T17:22:09/2021-09-12T17:22:09)</pre>"
>>>>>>> 55c5a7615532b040cf4e3b66125c46d15dbafcca
      ],
      "text/plain": [
       "<IPython.core.display.HTML object>"
      ]
     },
     "metadata": {},
     "output_type": "display_data"
    },
    {
     "data": {
      "text/plain": [
<<<<<<< HEAD
       "username          18\n",
       "hours           2637\n",
       "product_id         0\n",
       "text            1839\n",
       "user_id            0\n",
       "cleaned_text       0\n",
       "polarity           0\n",
       "rating             0\n",
       "dtype: int64"
      ]
     },
     "execution_count": 160,
     "metadata": {},
     "output_type": "execute_result"
    }
   ],
   "source": [
    "df_reviews.isna().sum()"
   ]
  },
  {
   "cell_type": "code",
   "execution_count": 161,
   "metadata": {},
   "outputs": [
    {
     "data": {
      "text/html": [
       "<pre>✔️ 4 min 48 s (2021-09-24T09:36:20/2021-09-24T09:41:09)</pre>"
      ],
      "text/plain": [
       "<IPython.core.display.HTML object>"
      ]
     },
     "metadata": {},
     "output_type": "display_data"
    },
    {
     "data": {
      "application/vnd.jupyter.widget-view+json": {
       "model_id": "3b6790e622ae4dc2b277194f0c069d97",
       "version_major": 2,
       "version_minor": 0
      },
      "text/plain": [
       "  0%|          | 0/779307 [00:00<?, ?it/s]"
      ]
     },
     "metadata": {},
     "output_type": "display_data"
=======
       "publisher          8051\n",
       "genres             3282\n",
       "app_name              1\n",
       "title              2049\n",
       "url                   0\n",
       "release_date       2066\n",
       "tags                162\n",
       "discount_price    31909\n",
       "reviews_url           0\n",
       "specs               669\n",
       "price              1377\n",
       "early_access          0\n",
       "product_id            0\n",
       "developer          3298\n",
       "sentiment          7181\n",
       "metascore         29457\n",
       "dtype: int64"
      ]
     },
     "execution_count": 64,
     "metadata": {},
     "output_type": "execute_result"
>>>>>>> 55c5a7615532b040cf4e3b66125c46d15dbafcca
    }
   ],
   "source": [
    "if POLARITY:\n",
    "    df_reviews['polarity'] = df_reviews['cleaned_text'].progress_apply(polaridad)\n",
    "    df_reviews.to_csv('df_reviews.csv', index_label='index')\n",
    "else:\n",
    "    df_reviews = pd.read_csv('df_reviews.csv')\n",
    "    df_reviews.drop(columns='index', inplace=True)"
   ]
  },
  {
   "cell_type": "code",
<<<<<<< HEAD
   "execution_count": 162,
=======
   "execution_count": 65,
>>>>>>> 55c5a7615532b040cf4e3b66125c46d15dbafcca
   "metadata": {},
   "outputs": [
    {
     "data": {
      "text/html": [
<<<<<<< HEAD
       "<pre>✔️ 31 ms (2021-09-24T09:41:09/2021-09-24T09:41:09)</pre>"
      ],
      "text/plain": [
       "<IPython.core.display.HTML object>"
      ]
     },
     "metadata": {},
     "output_type": "display_data"
    },
    {
     "data": {
      "text/html": [
       "<div>\n",
       "<style scoped>\n",
       "    .dataframe tbody tr th:only-of-type {\n",
       "        vertical-align: middle;\n",
       "    }\n",
       "\n",
       "    .dataframe tbody tr th {\n",
       "        vertical-align: top;\n",
       "    }\n",
       "\n",
       "    .dataframe thead th {\n",
       "        text-align: right;\n",
       "    }\n",
       "</style>\n",
       "<table border=\"1\" class=\"dataframe\">\n",
       "  <thead>\n",
       "    <tr style=\"text-align: right;\">\n",
       "      <th></th>\n",
       "      <th>username</th>\n",
       "      <th>hours</th>\n",
       "      <th>product_id</th>\n",
       "      <th>text</th>\n",
       "      <th>user_id</th>\n",
       "      <th>cleaned_text</th>\n",
       "      <th>polarity</th>\n",
       "      <th>rating</th>\n",
       "    </tr>\n",
       "  </thead>\n",
       "  <tbody>\n",
       "    <tr>\n",
       "      <th>628250</th>\n",
       "      <td>3tHAn8907</td>\n",
       "      <td>32.1000</td>\n",
       "      <td>220</td>\n",
       "      <td>I am one of those gamers who needs to have a r...</td>\n",
       "      <td>7153</td>\n",
       "      <td>gamers needs realy good story many reasons lov...</td>\n",
       "      <td>0.9729</td>\n",
       "      <td>4.9322</td>\n",
       "    </tr>\n",
       "    <tr>\n",
       "      <th>772619</th>\n",
       "      <td>escrotor</td>\n",
       "      <td>21.4000</td>\n",
       "      <td>221100</td>\n",
       "      <td>fk this %^&amp;*</td>\n",
       "      <td>430909</td>\n",
       "      <td></td>\n",
       "      <td>0.0000</td>\n",
       "      <td>2.5000</td>\n",
       "    </tr>\n",
       "    <tr>\n",
       "      <th>760713</th>\n",
       "      <td>PSB Anxiety</td>\n",
       "      <td>526.3000</td>\n",
       "      <td>221100</td>\n",
       "      <td>♥♥♥♥♥</td>\n",
       "      <td>255010</td>\n",
       "      <td></td>\n",
       "      <td>0.0000</td>\n",
       "      <td>2.5000</td>\n",
       "    </tr>\n",
       "    <tr>\n",
       "      <th>526421</th>\n",
       "      <td>The Yurovsky family is ✡Jewish✡</td>\n",
       "      <td>70.0000</td>\n",
       "      <td>219640</td>\n",
       "      <td>Press C to win.</td>\n",
       "      <td>343225</td>\n",
       "      <td>press</td>\n",
       "      <td>0.0000</td>\n",
       "      <td>2.5000</td>\n",
       "    </tr>\n",
       "    <tr>\n",
       "      <th>88265</th>\n",
       "      <td>smelliott</td>\n",
       "      <td>1.2000</td>\n",
       "      <td>301970</td>\n",
       "      <td>Really hard but really fun.</td>\n",
       "      <td>495793</td>\n",
       "      <td>really hard really</td>\n",
       "      <td>-0.1761</td>\n",
       "      <td>2.0598</td>\n",
       "    </tr>\n",
       "  </tbody>\n",
       "</table>\n",
       "</div>"
      ],
      "text/plain": [
       "                               username    hours  product_id  \\\n",
       "628250                        3tHAn8907  32.1000         220   \n",
       "772619                         escrotor  21.4000      221100   \n",
       "760713                      PSB Anxiety 526.3000      221100   \n",
       "526421  The Yurovsky family is ✡Jewish✡  70.0000      219640   \n",
       "88265                         smelliott   1.2000      301970   \n",
       "\n",
       "                                                     text  user_id  \\\n",
       "628250  I am one of those gamers who needs to have a r...     7153   \n",
       "772619                                       fk this %^&*   430909   \n",
       "760713                                              ♥♥♥♥♥   255010   \n",
       "526421                                    Press C to win.   343225   \n",
       "88265                         Really hard but really fun.   495793   \n",
       "\n",
       "                                             cleaned_text  polarity  rating  \n",
       "628250  gamers needs realy good story many reasons lov...    0.9729  4.9322  \n",
       "772619                                                       0.0000  2.5000  \n",
       "760713                                                       0.0000  2.5000  \n",
       "526421                                              press    0.0000  2.5000  \n",
       "88265                                  really hard really   -0.1761  2.0598  "
      ]
     },
     "execution_count": 162,
     "metadata": {},
     "output_type": "execute_result"
    }
   ],
   "source": [
    "# Creamos una columns de Rating entre 0 y 5, escalando la columna 'polarity'\n",
    "column=df_reviews[['polarity']]\n",
    "scaler = MinMaxScaler(feature_range=(0,5))\n",
    "df_reviews['rating'] = scaler.fit_transform(column)\n",
    "# df_reviews['rating'] = round(df_reviews['rating'] * 4) / 4\n",
    "df_reviews.loc[rand_list]"
=======
       "<pre>✔️ 31 ms (2021-09-12T17:22:14/2021-09-12T17:22:14)</pre>"
      ],
      "text/plain": [
       "<IPython.core.display.HTML object>"
      ]
     },
     "metadata": {},
     "output_type": "display_data"
    }
   ],
   "source": [
    "df_games['product_id'] = df_games['product_id'].astype('int')"
   ]
  },
  {
   "cell_type": "code",
   "execution_count": 1,
   "metadata": {},
   "outputs": [
    {
     "ename": "NameError",
     "evalue": "name 'pd' is not defined",
     "output_type": "error",
     "traceback": [
      "\u001b[1;31m---------------------------------------------------------------------------\u001b[0m",
      "\u001b[1;31mNameError\u001b[0m                                 Traceback (most recent call last)",
      "\u001b[1;32m~\\AppData\\Local\\Temp/ipykernel_15788/2576924882.py\u001b[0m in \u001b[0;36m<module>\u001b[1;34m\u001b[0m\n\u001b[1;32m----> 1\u001b[1;33m \u001b[0mdf\u001b[0m \u001b[1;33m=\u001b[0m \u001b[0mpd\u001b[0m\u001b[1;33m.\u001b[0m\u001b[0mmerge\u001b[0m\u001b[1;33m(\u001b[0m\u001b[0mdf_reviews\u001b[0m\u001b[1;33m,\u001b[0m \u001b[0mdf_games\u001b[0m\u001b[1;33m,\u001b[0m \u001b[0mon\u001b[0m\u001b[1;33m=\u001b[0m\u001b[1;34m\"product_id\"\u001b[0m\u001b[1;33m)\u001b[0m\u001b[1;33m\u001b[0m\u001b[1;33m\u001b[0m\u001b[0m\n\u001b[0m\u001b[0;32m      2\u001b[0m \u001b[0mdf\u001b[0m\u001b[1;33m.\u001b[0m\u001b[0mhead\u001b[0m\u001b[1;33m(\u001b[0m\u001b[1;33m)\u001b[0m\u001b[1;33m\u001b[0m\u001b[1;33m\u001b[0m\u001b[0m\n",
      "\u001b[1;31mNameError\u001b[0m: name 'pd' is not defined"
     ]
    }
   ],
   "source": [
    "df = pd.merge(df_reviews, df_games, on=\"product_id\")\n",
    "df.head()"
>>>>>>> 55c5a7615532b040cf4e3b66125c46d15dbafcca
   ]
  },
  {
   "cell_type": "code",
<<<<<<< HEAD
   "execution_count": 163,
=======
   "execution_count": 70,
>>>>>>> 55c5a7615532b040cf4e3b66125c46d15dbafcca
   "metadata": {},
   "outputs": [
    {
     "data": {
      "text/html": [
<<<<<<< HEAD
       "<pre>✔️ 578 ms (2021-09-24T09:41:10/2021-09-24T09:41:10)</pre>"
=======
       "<pre>✔️ 15 ms (2021-09-12T17:23:22/2021-09-12T17:23:22)</pre>"
>>>>>>> 55c5a7615532b040cf4e3b66125c46d15dbafcca
      ],
      "text/plain": [
       "<IPython.core.display.HTML object>"
      ]
     },
     "metadata": {},
     "output_type": "display_data"
    },
    {
     "data": {
<<<<<<< HEAD
      "text/html": [
       "<div>\n",
       "<style scoped>\n",
       "    .dataframe tbody tr th:only-of-type {\n",
       "        vertical-align: middle;\n",
       "    }\n",
       "\n",
       "    .dataframe tbody tr th {\n",
       "        vertical-align: top;\n",
       "    }\n",
       "\n",
       "    .dataframe thead th {\n",
       "        text-align: right;\n",
       "    }\n",
       "</style>\n",
       "<table border=\"1\" class=\"dataframe\">\n",
       "  <thead>\n",
       "    <tr style=\"text-align: right;\">\n",
       "      <th></th>\n",
       "      <th>user_id</th>\n",
       "      <th>count</th>\n",
       "    </tr>\n",
       "  </thead>\n",
       "  <tbody>\n",
       "    <tr>\n",
       "      <th>0</th>\n",
       "      <td>5463</td>\n",
       "      <td>213</td>\n",
       "    </tr>\n",
       "    <tr>\n",
       "      <th>1</th>\n",
       "      <td>19181</td>\n",
       "      <td>189</td>\n",
       "    </tr>\n",
       "    <tr>\n",
       "      <th>2</th>\n",
       "      <td>65614</td>\n",
       "      <td>154</td>\n",
       "    </tr>\n",
       "    <tr>\n",
       "      <th>3</th>\n",
       "      <td>240929</td>\n",
       "      <td>143</td>\n",
       "    </tr>\n",
       "    <tr>\n",
       "      <th>4</th>\n",
       "      <td>215286</td>\n",
       "      <td>137</td>\n",
       "    </tr>\n",
       "  </tbody>\n",
       "</table>\n",
       "</div>"
      ],
      "text/plain": [
       "   user_id  count\n",
       "0     5463    213\n",
       "1    19181    189\n",
       "2    65614    154\n",
       "3   240929    143\n",
       "4   215286    137"
      ]
     },
     "execution_count": 163,
=======
      "text/plain": [
       "(685808, 22)"
      ]
     },
     "execution_count": 70,
>>>>>>> 55c5a7615532b040cf4e3b66125c46d15dbafcca
     "metadata": {},
     "output_type": "execute_result"
    }
   ],
   "source": [
<<<<<<< HEAD
    "reviews_count = df_reviews.groupby('user_id').count().text.sort_values(ascending=False).reset_index().rename(columns={'text':'count'})\n",
    "# reviews_count = df_reviews.groupby('user_id').count().text.sort_values(ascending=False).reset_index().rename(columns={'text':'count'})\n",
    "reviews_count.head()"
=======
    "df.shape"
>>>>>>> 55c5a7615532b040cf4e3b66125c46d15dbafcca
   ]
  },
  {
   "cell_type": "code",
<<<<<<< HEAD
   "execution_count": 164,
=======
   "execution_count": 69,
>>>>>>> 55c5a7615532b040cf4e3b66125c46d15dbafcca
   "metadata": {},
   "outputs": [
    {
     "data": {
      "text/html": [
<<<<<<< HEAD
       "<pre>✔️ 47 ms (2021-09-24T09:41:10/2021-09-24T09:41:10)</pre>"
      ],
      "text/plain": [
       "<IPython.core.display.HTML object>"
      ]
     },
     "metadata": {},
     "output_type": "display_data"
    },
    {
     "data": {
      "text/html": [
       "<div>\n",
       "<style scoped>\n",
       "    .dataframe tbody tr th:only-of-type {\n",
       "        vertical-align: middle;\n",
       "    }\n",
       "\n",
       "    .dataframe tbody tr th {\n",
       "        vertical-align: top;\n",
       "    }\n",
       "\n",
       "    .dataframe thead th {\n",
       "        text-align: right;\n",
       "    }\n",
       "</style>\n",
       "<table border=\"1\" class=\"dataframe\">\n",
       "  <thead>\n",
       "    <tr style=\"text-align: right;\">\n",
       "      <th></th>\n",
       "      <th>product_id</th>\n",
       "      <th>count</th>\n",
       "      <th>mean</th>\n",
       "    </tr>\n",
       "  </thead>\n",
       "  <tbody>\n",
       "    <tr>\n",
       "      <th>0</th>\n",
       "      <td>430930</td>\n",
       "      <td>1</td>\n",
       "      <td>4.9985</td>\n",
       "    </tr>\n",
       "    <tr>\n",
       "      <th>1</th>\n",
       "      <td>410370</td>\n",
       "      <td>1</td>\n",
       "      <td>4.9977</td>\n",
       "    </tr>\n",
       "    <tr>\n",
       "      <th>2</th>\n",
       "      <td>551520</td>\n",
       "      <td>1</td>\n",
       "      <td>4.9975</td>\n",
       "    </tr>\n",
       "    <tr>\n",
       "      <th>3</th>\n",
       "      <td>636910</td>\n",
       "      <td>1</td>\n",
       "      <td>4.9975</td>\n",
       "    </tr>\n",
       "    <tr>\n",
       "      <th>4</th>\n",
       "      <td>486810</td>\n",
       "      <td>1</td>\n",
       "      <td>4.9973</td>\n",
       "    </tr>\n",
       "    <tr>\n",
       "      <th>...</th>\n",
       "      <td>...</td>\n",
       "      <td>...</td>\n",
       "      <td>...</td>\n",
       "    </tr>\n",
       "    <tr>\n",
       "      <th>12660</th>\n",
       "      <td>679070</td>\n",
       "      <td>1</td>\n",
       "      <td>0.0180</td>\n",
       "    </tr>\n",
       "    <tr>\n",
       "      <th>12661</th>\n",
       "      <td>446250</td>\n",
       "      <td>1</td>\n",
       "      <td>0.0145</td>\n",
       "    </tr>\n",
       "    <tr>\n",
       "      <th>12662</th>\n",
       "      <td>661590</td>\n",
       "      <td>1</td>\n",
       "      <td>0.0103</td>\n",
       "    </tr>\n",
       "    <tr>\n",
       "      <th>12663</th>\n",
       "      <td>675720</td>\n",
       "      <td>1</td>\n",
       "      <td>0.0093</td>\n",
       "    </tr>\n",
       "    <tr>\n",
       "      <th>12664</th>\n",
       "      <td>732290</td>\n",
       "      <td>1</td>\n",
       "      <td>0.0045</td>\n",
       "    </tr>\n",
       "  </tbody>\n",
       "</table>\n",
       "<p>12665 rows × 3 columns</p>\n",
       "</div>"
      ],
      "text/plain": [
       "       product_id  count   mean\n",
       "0          430930      1 4.9985\n",
       "1          410370      1 4.9977\n",
       "2          551520      1 4.9975\n",
       "3          636910      1 4.9975\n",
       "4          486810      1 4.9973\n",
       "...           ...    ...    ...\n",
       "12660      679070      1 0.0180\n",
       "12661      446250      1 0.0145\n",
       "12662      661590      1 0.0103\n",
       "12663      675720      1 0.0093\n",
       "12664      732290      1 0.0045\n",
       "\n",
       "[12665 rows x 3 columns]"
      ]
     },
     "execution_count": 164,
     "metadata": {},
=======
       "<pre>✔️ 0 ns (2021-09-12T17:23:08/2021-09-12T17:23:08)</pre>"
      ],
      "text/plain": [
       "<IPython.core.display.HTML object>"
      ]
     },
     "metadata": {},
     "output_type": "display_data"
    },
    {
     "data": {
      "text/plain": [
       "(685202, 7)"
      ]
     },
     "execution_count": 69,
     "metadata": {},
>>>>>>> 55c5a7615532b040cf4e3b66125c46d15dbafcca
     "output_type": "execute_result"
    }
   ],
   "source": [
<<<<<<< HEAD
    "df_ratings = df_reviews.groupby('product_id').agg({'rating':['count','mean']}).reset_index()\n",
    "df_ratings.columns = ['product_id', 'count', 'mean']\n",
    "df_ratings.sort_values(by='mean', ascending=False, inplace=True)\n",
    "df_ratings.reset_index(inplace=True, drop=True)\n",
    "df_ratings"
=======
    "df_reviews.shape"
>>>>>>> 55c5a7615532b040cf4e3b66125c46d15dbafcca
   ]
  },
  {
   "cell_type": "code",
<<<<<<< HEAD
   "execution_count": 165,
=======
   "execution_count": 71,
>>>>>>> 55c5a7615532b040cf4e3b66125c46d15dbafcca
   "metadata": {},
   "outputs": [
    {
     "data": {
      "text/html": [
<<<<<<< HEAD
       "<pre>✔️ 500 ms (2021-09-24T09:41:10/2021-09-24T09:41:11)</pre>"
=======
       "<pre>✔️ 15 ms (2021-09-12T17:24:08/2021-09-12T17:24:08)</pre>"
>>>>>>> 55c5a7615532b040cf4e3b66125c46d15dbafcca
      ],
      "text/plain": [
       "<IPython.core.display.HTML object>"
      ]
     },
     "metadata": {},
     "output_type": "display_data"
    },
    {
     "data": {
<<<<<<< HEAD
      "image/png": "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\n",
      "text/plain": [
       "<Figure size 504x144 with 1 Axes>"
      ]
     },
     "metadata": {},
     "output_type": "display_data"
    },
    {
     "data": {
      "image/png": "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\n",
      "text/plain": [
       "<Figure size 432x288 with 2 Axes>"
      ]
     },
     "metadata": {},
     "output_type": "display_data"
    }
   ],
   "source": [
    "df_filter = df_ratings[df_ratings['count'] >= 1]\n",
    "\n",
    "plt.figure(figsize=(7,2))\n",
    "sns.histplot(data=df_filter, x='mean')\n",
    "plt.ylabel('count')\n",
    "plt.xlabel('rating')\n",
    "plt.xticks(rotation=90)\n",
    "plt.show()\n",
    "\n",
    "x = df_filter.index\n",
    "y1 = df_filter['count']\n",
    "y2 = df_filter['mean']\n",
    "\n",
    "fig, ax1 = plt.subplots()\n",
    "\n",
    "ax2 = ax1.twinx()\n",
    "ax1.plot(x, y1, 'g-')\n",
    "ax2.plot(x, y2, 'b-')\n",
    "\n",
    "ax1.set_xlabel('game')\n",
    "ax1.set_ylabel('count', color='g')\n",
    "ax2.set_ylabel('rating', color='b')\n",
    "\n",
    "plt.show()"
=======
      "text/plain": [
       "(32133, 16)"
      ]
     },
     "execution_count": 71,
     "metadata": {},
     "output_type": "execute_result"
    }
   ],
   "source": [
    "df_games.shape"
   ]
  },
  {
   "cell_type": "code",
   "execution_count": null,
   "metadata": {},
   "outputs": [],
   "source": [
    "df_games.shape"
   ]
  },
  {
   "cell_type": "code",
   "execution_count": null,
   "metadata": {},
   "outputs": [],
   "source": [
    "df_games.info()"
   ]
  },
  {
   "cell_type": "code",
   "execution_count": null,
   "metadata": {},
   "outputs": [],
   "source": [
    "df_games.isna().sum()"
   ]
  },
  {
   "cell_type": "code",
   "execution_count": null,
   "metadata": {},
   "outputs": [],
   "source": [
    "# Hay dos juegos que no tienen 'id' asociado\n",
    "# Veamos cuales son\n",
    "df_games[df_games.id.isna()]"
   ]
  },
  {
   "cell_type": "code",
   "execution_count": null,
   "metadata": {},
   "outputs": [],
   "source": [
    "# df_games.dropna(subset=['id'], axis=0, inplace=True)"
   ]
  },
  {
   "cell_type": "code",
   "execution_count": null,
   "metadata": {},
   "outputs": [],
   "source": [
    "df_games.isna().sum()"
   ]
  },
  {
   "cell_type": "code",
   "execution_count": null,
   "metadata": {},
   "outputs": [],
   "source": [
    "# Me quedo con las columnas: [app_name, release_date, tags, id, sentiment, metascore]\n",
    "# En vez de quedarme con 'title', para los nombres de los juegos me quedo con 'app_name', ya que title tiene muchos 'NaN'\n",
    "columns = ['app_name', 'release_date', 'tags', 'id', 'sentiment', 'metascore']\n",
    "\n",
    "df2_games = data_games[columns]\n",
    "df2_games.head()"
   ]
  },
  {
   "cell_type": "code",
   "execution_count": null,
   "metadata": {},
   "outputs": [],
   "source": [
    "# Verifico los tipos de datos\n",
    "df2_games.dtypes"
>>>>>>> 55c5a7615532b040cf4e3b66125c46d15dbafcca
   ]
  },
  {
   "cell_type": "code",
<<<<<<< HEAD
   "execution_count": 166,
   "metadata": {},
   "outputs": [
    {
     "data": {
      "text/html": [
       "<pre>✔️ 0 ns (2021-09-24T09:41:11/2021-09-24T09:41:11)</pre>"
      ],
      "text/plain": [
       "<IPython.core.display.HTML object>"
      ]
     },
     "metadata": {},
     "output_type": "display_data"
    },
    {
     "data": {
      "text/plain": [
       "(779307, 8)"
      ]
     },
     "execution_count": 166,
     "metadata": {},
     "output_type": "execute_result"
    }
   ],
   "source": [
    "df_reviews.shape"
   ]
  },
  {
   "cell_type": "code",
   "execution_count": 167,
   "metadata": {},
   "outputs": [
    {
     "data": {
      "text/html": [
       "<pre>✔️ 391 ms (2021-09-24T09:41:11/2021-09-24T09:41:12)</pre>"
      ],
      "text/plain": [
       "<IPython.core.display.HTML object>"
      ]
     },
     "metadata": {},
     "output_type": "display_data"
    }
   ],
   "source": [
    "df_reviews.cleaned_text = df_reviews.cleaned_text.str.strip()\n",
    "df_reviews.cleaned_text.replace('', np.nan, inplace=True)"
   ]
  },
  {
   "cell_type": "code",
   "execution_count": 168,
   "metadata": {},
   "outputs": [
    {
     "data": {
      "text/html": [
       "<pre>✔️ 172 ms (2021-09-24T09:41:12/2021-09-24T09:41:12)</pre>"
      ],
      "text/plain": [
       "<IPython.core.display.HTML object>"
      ]
     },
     "metadata": {},
     "output_type": "display_data"
    },
    {
     "data": {
      "text/plain": [
       "username           18\n",
       "hours            2637\n",
       "product_id          0\n",
       "text             1839\n",
       "user_id             0\n",
       "cleaned_text    26491\n",
       "polarity            0\n",
       "rating              0\n",
       "dtype: int64"
      ]
     },
     "execution_count": 168,
     "metadata": {},
     "output_type": "execute_result"
    }
   ],
   "source": [
    "df_reviews.isna().sum()"
   ]
  },
  {
   "cell_type": "code",
   "execution_count": 169,
   "metadata": {},
   "outputs": [
    {
     "data": {
      "text/html": [
       "<pre>✔️ 0 ns (2021-09-24T09:41:12/2021-09-24T09:41:12)</pre>"
      ],
      "text/plain": [
       "<IPython.core.display.HTML object>"
      ]
     },
     "metadata": {},
     "output_type": "display_data"
    }
   ],
   "source": [
    "# df_reviews.dropna(subset=['cleaned_text'], inplace=True)"
   ]
  },
  {
   "cell_type": "code",
   "execution_count": 170,
   "metadata": {},
   "outputs": [
    {
     "data": {
      "text/html": [
       "<pre>✔️ 1.88 s (2021-09-24T09:41:12/2021-09-24T09:41:14)</pre>"
      ],
      "text/plain": [
       "<IPython.core.display.HTML object>"
      ]
     },
     "metadata": {},
     "output_type": "display_data"
    },
    {
     "data": {
      "text/html": [
       "<div>\n",
       "<style scoped>\n",
       "    .dataframe tbody tr th:only-of-type {\n",
       "        vertical-align: middle;\n",
       "    }\n",
       "\n",
       "    .dataframe tbody tr th {\n",
       "        vertical-align: top;\n",
       "    }\n",
       "\n",
       "    .dataframe thead th {\n",
       "        text-align: right;\n",
       "    }\n",
       "</style>\n",
       "<table border=\"1\" class=\"dataframe\">\n",
       "  <thead>\n",
       "    <tr style=\"text-align: right;\">\n",
       "      <th></th>\n",
       "      <th>cleaned_text</th>\n",
       "      <th>rating</th>\n",
       "    </tr>\n",
       "    <tr>\n",
       "      <th>cleaned_text</th>\n",
       "      <th></th>\n",
       "      <th></th>\n",
       "    </tr>\n",
       "  </thead>\n",
       "  <tbody>\n",
       "    <tr>\n",
       "      <th>aaaa</th>\n",
       "      <td>11</td>\n",
       "      <td>2.5000</td>\n",
       "    </tr>\n",
       "    <tr>\n",
       "      <th>abandoned</th>\n",
       "      <td>21</td>\n",
       "      <td>1.3530</td>\n",
       "    </tr>\n",
       "    <tr>\n",
       "      <th>abandoned game</th>\n",
       "      <td>9</td>\n",
       "      <td>1.3530</td>\n",
       "    </tr>\n",
       "    <tr>\n",
       "      <th>abandonware</th>\n",
       "      <td>13</td>\n",
       "      <td>2.5000</td>\n",
       "    </tr>\n",
       "    <tr>\n",
       "      <th>aboard feels train</th>\n",
       "      <td>4</td>\n",
       "      <td>2.5645</td>\n",
       "    </tr>\n",
       "    <tr>\n",
       "      <th>...</th>\n",
       "      <td>...</td>\n",
       "      <td>...</td>\n",
       "    </tr>\n",
       "    <tr>\n",
       "      <th>zajebista</th>\n",
       "      <td>5</td>\n",
       "      <td>2.5000</td>\n",
       "    </tr>\n",
       "    <tr>\n",
       "      <th>zing</th>\n",
       "      <td>4</td>\n",
       "      <td>2.5000</td>\n",
       "    </tr>\n",
       "    <tr>\n",
       "      <th>zombie</th>\n",
       "      <td>4</td>\n",
       "      <td>2.5000</td>\n",
       "    </tr>\n",
       "    <tr>\n",
       "      <th>zombie game</th>\n",
       "      <td>4</td>\n",
       "      <td>2.5000</td>\n",
       "    </tr>\n",
       "    <tr>\n",
       "      <th>zombies</th>\n",
       "      <td>31</td>\n",
       "      <td>2.5000</td>\n",
       "    </tr>\n",
       "  </tbody>\n",
       "</table>\n",
       "<p>3397 rows × 2 columns</p>\n",
       "</div>"
      ],
      "text/plain": [
       "                    cleaned_text  rating\n",
       "cleaned_text                            \n",
       "aaaa                          11  2.5000\n",
       "abandoned                     21  1.3530\n",
       "abandoned game                 9  1.3530\n",
       "abandonware                   13  2.5000\n",
       "aboard feels train             4  2.5645\n",
       "...                          ...     ...\n",
       "zajebista                      5  2.5000\n",
       "zing                           4  2.5000\n",
       "zombie                         4  2.5000\n",
       "zombie game                    4  2.5000\n",
       "zombies                       31  2.5000\n",
       "\n",
       "[3397 rows x 2 columns]"
      ]
     },
     "execution_count": 170,
     "metadata": {},
     "output_type": "execute_result"
    }
   ],
   "source": [
    "df_rep = df_reviews.groupby('cleaned_text').agg({'cleaned_text':'count','rating':'mean'})\n",
    "df_rep[df_rep.cleaned_text > 3]\n",
    "# df_reviews[df_reviews.cleaned_text == 'addictive']"
   ]
  },
  {
   "cell_type": "markdown",
   "metadata": {},
   "source": [
    "## Filtro Colaborativo a partir de descomposición UV"
   ]
  },
  {
   "cell_type": "code",
   "execution_count": 171,
   "metadata": {},
   "outputs": [
    {
     "data": {
      "text/html": [
       "<pre>✔️ 16 ms (2021-09-24T09:41:14/2021-09-24T09:41:14)</pre>"
      ],
      "text/plain": [
       "<IPython.core.display.HTML object>"
      ]
     },
     "metadata": {},
     "output_type": "display_data"
    },
    {
     "data": {
      "text/html": [
       "<div>\n",
       "<style scoped>\n",
       "    .dataframe tbody tr th:only-of-type {\n",
       "        vertical-align: middle;\n",
       "    }\n",
       "\n",
       "    .dataframe tbody tr th {\n",
       "        vertical-align: top;\n",
       "    }\n",
       "\n",
       "    .dataframe thead th {\n",
       "        text-align: right;\n",
       "    }\n",
       "</style>\n",
       "<table border=\"1\" class=\"dataframe\">\n",
       "  <thead>\n",
       "    <tr style=\"text-align: right;\">\n",
       "      <th></th>\n",
       "      <th>username</th>\n",
       "      <th>hours</th>\n",
       "      <th>product_id</th>\n",
       "      <th>text</th>\n",
       "      <th>user_id</th>\n",
       "      <th>cleaned_text</th>\n",
       "      <th>polarity</th>\n",
       "      <th>rating</th>\n",
       "    </tr>\n",
       "  </thead>\n",
       "  <tbody>\n",
       "    <tr>\n",
       "      <th>628250</th>\n",
       "      <td>3tHAn8907</td>\n",
       "      <td>32.1000</td>\n",
       "      <td>220</td>\n",
       "      <td>I am one of those gamers who needs to have a r...</td>\n",
       "      <td>7153</td>\n",
       "      <td>gamers needs realy good story many reasons lov...</td>\n",
       "      <td>0.9729</td>\n",
       "      <td>4.9322</td>\n",
       "    </tr>\n",
       "    <tr>\n",
       "      <th>772619</th>\n",
       "      <td>escrotor</td>\n",
       "      <td>21.4000</td>\n",
       "      <td>221100</td>\n",
       "      <td>fk this %^&amp;*</td>\n",
       "      <td>430909</td>\n",
       "      <td>NaN</td>\n",
       "      <td>0.0000</td>\n",
       "      <td>2.5000</td>\n",
       "    </tr>\n",
       "    <tr>\n",
       "      <th>760713</th>\n",
       "      <td>PSB Anxiety</td>\n",
       "      <td>526.3000</td>\n",
       "      <td>221100</td>\n",
       "      <td>♥♥♥♥♥</td>\n",
       "      <td>255010</td>\n",
       "      <td>NaN</td>\n",
       "      <td>0.0000</td>\n",
       "      <td>2.5000</td>\n",
       "    </tr>\n",
       "    <tr>\n",
       "      <th>526421</th>\n",
       "      <td>The Yurovsky family is ✡Jewish✡</td>\n",
       "      <td>70.0000</td>\n",
       "      <td>219640</td>\n",
       "      <td>Press C to win.</td>\n",
       "      <td>343225</td>\n",
       "      <td>press</td>\n",
       "      <td>0.0000</td>\n",
       "      <td>2.5000</td>\n",
       "    </tr>\n",
       "    <tr>\n",
       "      <th>88265</th>\n",
       "      <td>smelliott</td>\n",
       "      <td>1.2000</td>\n",
       "      <td>301970</td>\n",
       "      <td>Really hard but really fun.</td>\n",
       "      <td>495793</td>\n",
       "      <td>really hard really</td>\n",
       "      <td>-0.1761</td>\n",
       "      <td>2.0598</td>\n",
       "    </tr>\n",
       "  </tbody>\n",
       "</table>\n",
       "</div>"
      ],
      "text/plain": [
       "                               username    hours  product_id  \\\n",
       "628250                        3tHAn8907  32.1000         220   \n",
       "772619                         escrotor  21.4000      221100   \n",
       "760713                      PSB Anxiety 526.3000      221100   \n",
       "526421  The Yurovsky family is ✡Jewish✡  70.0000      219640   \n",
       "88265                         smelliott   1.2000      301970   \n",
       "\n",
       "                                                     text  user_id  \\\n",
       "628250  I am one of those gamers who needs to have a r...     7153   \n",
       "772619                                       fk this %^&*   430909   \n",
       "760713                                              ♥♥♥♥♥   255010   \n",
       "526421                                    Press C to win.   343225   \n",
       "88265                         Really hard but really fun.   495793   \n",
       "\n",
       "                                             cleaned_text  polarity  rating  \n",
       "628250  gamers needs realy good story many reasons lov...    0.9729  4.9322  \n",
       "772619                                                NaN    0.0000  2.5000  \n",
       "760713                                                NaN    0.0000  2.5000  \n",
       "526421                                              press    0.0000  2.5000  \n",
       "88265                                  really hard really   -0.1761  2.0598  "
      ]
     },
     "execution_count": 171,
     "metadata": {},
     "output_type": "execute_result"
    }
   ],
   "source": [
    "df_reviews.loc[rand_list]"
   ]
  },
  {
   "cell_type": "markdown",
   "metadata": {},
   "source": [
    "#### Dataset y Train/Test Split"
   ]
  },
  {
   "cell_type": "code",
   "execution_count": 172,
   "metadata": {},
   "outputs": [
    {
     "data": {
      "text/html": [
       "<pre>✔️ 2.17 s (2021-09-24T09:41:14/2021-09-24T09:41:17)</pre>"
      ],
      "text/plain": [
       "<IPython.core.display.HTML object>"
      ]
     },
     "metadata": {},
     "output_type": "display_data"
    }
   ],
   "source": [
    "reader = Reader()\n",
    "data = Dataset.load_from_df(df_reviews[['user_id', 'product_id', 'rating']], reader)\n",
    "trainset, testset = train_test_split(data, random_state=42, test_size=.2)"
   ]
  },
  {
   "cell_type": "markdown",
   "metadata": {},
   "source": [
    "#### Entrenamiento"
   ]
  },
  {
   "cell_type": "code",
   "execution_count": 173,
   "metadata": {},
   "outputs": [
    {
     "data": {
      "text/html": [
       "<pre>✔️ 0 ns (2021-09-24T09:41:17/2021-09-24T09:41:17)</pre>"
      ],
      "text/plain": [
       "<IPython.core.display.HTML object>"
      ]
     },
     "metadata": {},
     "output_type": "display_data"
    }
   ],
   "source": [
    "from surprise import SVD, SVDpp, SlopeOne, BaselineOnly\n",
    "algo = SVD()"
   ]
  },
  {
   "cell_type": "code",
   "execution_count": 174,
   "metadata": {},
   "outputs": [
    {
     "data": {
      "text/html": [
       "<pre>✔️ 36.3 s (2021-09-24T09:41:17/2021-09-24T09:41:53)</pre>"
      ],
      "text/plain": [
       "<IPython.core.display.HTML object>"
      ]
     },
     "metadata": {},
     "output_type": "display_data"
    },
    {
     "data": {
      "text/plain": [
       "<surprise.prediction_algorithms.matrix_factorization.SVD at 0x20b1d050190>"
      ]
     },
     "execution_count": 174,
     "metadata": {},
     "output_type": "execute_result"
    }
   ],
   "source": [
    "algo.fit(trainset)"
   ]
  },
  {
   "cell_type": "code",
   "execution_count": 175,
   "metadata": {},
   "outputs": [
    {
     "data": {
      "text/html": [
       "<pre>✔️ 2.19 s (2021-09-24T09:41:53/2021-09-24T09:41:56)</pre>"
      ],
      "text/plain": [
       "<IPython.core.display.HTML object>"
      ]
     },
     "metadata": {},
     "output_type": "display_data"
    }
   ],
   "source": [
    "predictions = algo.test(testset)"
   ]
  },
  {
   "cell_type": "code",
   "execution_count": 176,
   "metadata": {},
   "outputs": [
    {
     "data": {
      "text/html": [
       "<pre>✔️ 250 ms (2021-09-24T09:41:56/2021-09-24T09:41:56)</pre>"
      ],
      "text/plain": [
       "<IPython.core.display.HTML object>"
      ]
     },
     "metadata": {},
     "output_type": "display_data"
    },
    {
     "name": "stdout",
     "output_type": "stream",
     "text": [
      "MAE:  1.0154\n",
      "RMSE: 1.2335\n"
     ]
    },
    {
     "data": {
      "text/plain": [
       "1.2335267051901972"
      ]
     },
     "execution_count": 176,
     "metadata": {},
     "output_type": "execute_result"
    }
   ],
   "source": [
    "accuracy.mae(predictions)\n",
    "accuracy.rmse(predictions)"
   ]
  },
  {
   "cell_type": "markdown",
   "metadata": {},
   "source": [
    "#### Optimizacion del Modelo"
   ]
  },
  {
   "cell_type": "markdown",
   "metadata": {},
   "source": [
    "##### Optimizacion con Grid Search"
   ]
  },
  {
   "cell_type": "code",
   "execution_count": null,
   "metadata": {},
   "outputs": [],
   "source": [
    "stop"
   ]
  },
  {
   "cell_type": "code",
   "execution_count": 177,
   "metadata": {},
   "outputs": [
    {
     "data": {
      "text/html": [
       "<pre>✔️ 54.7 s (2021-09-24T09:41:56/2021-09-24T09:42:51)</pre>"
      ],
      "text/plain": [
       "<IPython.core.display.HTML object>"
      ]
     },
     "metadata": {},
     "output_type": "display_data"
    },
    {
     "name": "stderr",
     "output_type": "stream",
     "text": [
      "[Parallel(n_jobs=-1)]: Using backend LokyBackend with 8 concurrent workers.\n",
      "[Parallel(n_jobs=-1)]: Done   2 tasks      | elapsed:   44.3s\n",
      "[Parallel(n_jobs=-1)]: Done  16 out of  19 | elapsed:   46.1s remaining:    8.6s\n"
     ]
    },
    {
     "ename": "KeyboardInterrupt",
     "evalue": "",
     "output_type": "error",
     "traceback": [
      "\u001b[1;31m---------------------------------------------------------------------------\u001b[0m",
      "\u001b[1;31mKeyboardInterrupt\u001b[0m                         Traceback (most recent call last)",
      "\u001b[1;32m<ipython-input-177-b88664a77b94>\u001b[0m in \u001b[0;36m<module>\u001b[1;34m\u001b[0m\n\u001b[0;32m     11\u001b[0m                   joblib_verbose =10)\n\u001b[0;32m     12\u001b[0m \u001b[1;33m\u001b[0m\u001b[0m\n\u001b[1;32m---> 13\u001b[1;33m \u001b[0mgs\u001b[0m\u001b[1;33m.\u001b[0m\u001b[0mfit\u001b[0m\u001b[1;33m(\u001b[0m\u001b[0mdata\u001b[0m\u001b[1;33m)\u001b[0m\u001b[1;33m\u001b[0m\u001b[1;33m\u001b[0m\u001b[0m\n\u001b[0m",
      "\u001b[1;32m~\\miniconda3\\envs\\datascience\\lib\\site-packages\\surprise\\model_selection\\search.py\u001b[0m in \u001b[0;36mfit\u001b[1;34m(self, data)\u001b[0m\n\u001b[0;32m     86\u001b[0m                                                        cv.split(data))\n\u001b[0;32m     87\u001b[0m         )\n\u001b[1;32m---> 88\u001b[1;33m         out = Parallel(n_jobs=self.n_jobs,\n\u001b[0m\u001b[0;32m     89\u001b[0m                        \u001b[0mpre_dispatch\u001b[0m\u001b[1;33m=\u001b[0m\u001b[0mself\u001b[0m\u001b[1;33m.\u001b[0m\u001b[0mpre_dispatch\u001b[0m\u001b[1;33m,\u001b[0m\u001b[1;33m\u001b[0m\u001b[1;33m\u001b[0m\u001b[0m\n\u001b[0;32m     90\u001b[0m                        verbose=self.joblib_verbose)(delayed_list)\n",
      "\u001b[1;32m~\\miniconda3\\envs\\datascience\\lib\\site-packages\\joblib\\parallel.py\u001b[0m in \u001b[0;36m__call__\u001b[1;34m(self, iterable)\u001b[0m\n\u001b[0;32m   1052\u001b[0m \u001b[1;33m\u001b[0m\u001b[0m\n\u001b[0;32m   1053\u001b[0m             \u001b[1;32mwith\u001b[0m \u001b[0mself\u001b[0m\u001b[1;33m.\u001b[0m\u001b[0m_backend\u001b[0m\u001b[1;33m.\u001b[0m\u001b[0mretrieval_context\u001b[0m\u001b[1;33m(\u001b[0m\u001b[1;33m)\u001b[0m\u001b[1;33m:\u001b[0m\u001b[1;33m\u001b[0m\u001b[1;33m\u001b[0m\u001b[0m\n\u001b[1;32m-> 1054\u001b[1;33m                 \u001b[0mself\u001b[0m\u001b[1;33m.\u001b[0m\u001b[0mretrieve\u001b[0m\u001b[1;33m(\u001b[0m\u001b[1;33m)\u001b[0m\u001b[1;33m\u001b[0m\u001b[1;33m\u001b[0m\u001b[0m\n\u001b[0m\u001b[0;32m   1055\u001b[0m             \u001b[1;31m# Make sure that we get a last message telling us we are done\u001b[0m\u001b[1;33m\u001b[0m\u001b[1;33m\u001b[0m\u001b[1;33m\u001b[0m\u001b[0m\n\u001b[0;32m   1056\u001b[0m             \u001b[0melapsed_time\u001b[0m \u001b[1;33m=\u001b[0m \u001b[0mtime\u001b[0m\u001b[1;33m.\u001b[0m\u001b[0mtime\u001b[0m\u001b[1;33m(\u001b[0m\u001b[1;33m)\u001b[0m \u001b[1;33m-\u001b[0m \u001b[0mself\u001b[0m\u001b[1;33m.\u001b[0m\u001b[0m_start_time\u001b[0m\u001b[1;33m\u001b[0m\u001b[1;33m\u001b[0m\u001b[0m\n",
      "\u001b[1;32m~\\miniconda3\\envs\\datascience\\lib\\site-packages\\joblib\\parallel.py\u001b[0m in \u001b[0;36mretrieve\u001b[1;34m(self)\u001b[0m\n\u001b[0;32m    931\u001b[0m             \u001b[1;32mtry\u001b[0m\u001b[1;33m:\u001b[0m\u001b[1;33m\u001b[0m\u001b[1;33m\u001b[0m\u001b[0m\n\u001b[0;32m    932\u001b[0m                 \u001b[1;32mif\u001b[0m \u001b[0mgetattr\u001b[0m\u001b[1;33m(\u001b[0m\u001b[0mself\u001b[0m\u001b[1;33m.\u001b[0m\u001b[0m_backend\u001b[0m\u001b[1;33m,\u001b[0m \u001b[1;34m'supports_timeout'\u001b[0m\u001b[1;33m,\u001b[0m \u001b[1;32mFalse\u001b[0m\u001b[1;33m)\u001b[0m\u001b[1;33m:\u001b[0m\u001b[1;33m\u001b[0m\u001b[1;33m\u001b[0m\u001b[0m\n\u001b[1;32m--> 933\u001b[1;33m                     \u001b[0mself\u001b[0m\u001b[1;33m.\u001b[0m\u001b[0m_output\u001b[0m\u001b[1;33m.\u001b[0m\u001b[0mextend\u001b[0m\u001b[1;33m(\u001b[0m\u001b[0mjob\u001b[0m\u001b[1;33m.\u001b[0m\u001b[0mget\u001b[0m\u001b[1;33m(\u001b[0m\u001b[0mtimeout\u001b[0m\u001b[1;33m=\u001b[0m\u001b[0mself\u001b[0m\u001b[1;33m.\u001b[0m\u001b[0mtimeout\u001b[0m\u001b[1;33m)\u001b[0m\u001b[1;33m)\u001b[0m\u001b[1;33m\u001b[0m\u001b[1;33m\u001b[0m\u001b[0m\n\u001b[0m\u001b[0;32m    934\u001b[0m                 \u001b[1;32melse\u001b[0m\u001b[1;33m:\u001b[0m\u001b[1;33m\u001b[0m\u001b[1;33m\u001b[0m\u001b[0m\n\u001b[0;32m    935\u001b[0m                     \u001b[0mself\u001b[0m\u001b[1;33m.\u001b[0m\u001b[0m_output\u001b[0m\u001b[1;33m.\u001b[0m\u001b[0mextend\u001b[0m\u001b[1;33m(\u001b[0m\u001b[0mjob\u001b[0m\u001b[1;33m.\u001b[0m\u001b[0mget\u001b[0m\u001b[1;33m(\u001b[0m\u001b[1;33m)\u001b[0m\u001b[1;33m)\u001b[0m\u001b[1;33m\u001b[0m\u001b[1;33m\u001b[0m\u001b[0m\n",
      "\u001b[1;32m~\\miniconda3\\envs\\datascience\\lib\\site-packages\\joblib\\_parallel_backends.py\u001b[0m in \u001b[0;36mwrap_future_result\u001b[1;34m(future, timeout)\u001b[0m\n\u001b[0;32m    540\u001b[0m         AsyncResults.get from multiprocessing.\"\"\"\n\u001b[0;32m    541\u001b[0m         \u001b[1;32mtry\u001b[0m\u001b[1;33m:\u001b[0m\u001b[1;33m\u001b[0m\u001b[1;33m\u001b[0m\u001b[0m\n\u001b[1;32m--> 542\u001b[1;33m             \u001b[1;32mreturn\u001b[0m \u001b[0mfuture\u001b[0m\u001b[1;33m.\u001b[0m\u001b[0mresult\u001b[0m\u001b[1;33m(\u001b[0m\u001b[0mtimeout\u001b[0m\u001b[1;33m=\u001b[0m\u001b[0mtimeout\u001b[0m\u001b[1;33m)\u001b[0m\u001b[1;33m\u001b[0m\u001b[1;33m\u001b[0m\u001b[0m\n\u001b[0m\u001b[0;32m    543\u001b[0m         \u001b[1;32mexcept\u001b[0m \u001b[0mCfTimeoutError\u001b[0m \u001b[1;32mas\u001b[0m \u001b[0me\u001b[0m\u001b[1;33m:\u001b[0m\u001b[1;33m\u001b[0m\u001b[1;33m\u001b[0m\u001b[0m\n\u001b[0;32m    544\u001b[0m             \u001b[1;32mraise\u001b[0m \u001b[0mTimeoutError\u001b[0m \u001b[1;32mfrom\u001b[0m \u001b[0me\u001b[0m\u001b[1;33m\u001b[0m\u001b[1;33m\u001b[0m\u001b[0m\n",
      "\u001b[1;32m~\\miniconda3\\envs\\datascience\\lib\\concurrent\\futures\\_base.py\u001b[0m in \u001b[0;36mresult\u001b[1;34m(self, timeout)\u001b[0m\n\u001b[0;32m    433\u001b[0m                 \u001b[1;32mreturn\u001b[0m \u001b[0mself\u001b[0m\u001b[1;33m.\u001b[0m\u001b[0m__get_result\u001b[0m\u001b[1;33m(\u001b[0m\u001b[1;33m)\u001b[0m\u001b[1;33m\u001b[0m\u001b[1;33m\u001b[0m\u001b[0m\n\u001b[0;32m    434\u001b[0m \u001b[1;33m\u001b[0m\u001b[0m\n\u001b[1;32m--> 435\u001b[1;33m             \u001b[0mself\u001b[0m\u001b[1;33m.\u001b[0m\u001b[0m_condition\u001b[0m\u001b[1;33m.\u001b[0m\u001b[0mwait\u001b[0m\u001b[1;33m(\u001b[0m\u001b[0mtimeout\u001b[0m\u001b[1;33m)\u001b[0m\u001b[1;33m\u001b[0m\u001b[1;33m\u001b[0m\u001b[0m\n\u001b[0m\u001b[0;32m    436\u001b[0m \u001b[1;33m\u001b[0m\u001b[0m\n\u001b[0;32m    437\u001b[0m             \u001b[1;32mif\u001b[0m \u001b[0mself\u001b[0m\u001b[1;33m.\u001b[0m\u001b[0m_state\u001b[0m \u001b[1;32min\u001b[0m \u001b[1;33m[\u001b[0m\u001b[0mCANCELLED\u001b[0m\u001b[1;33m,\u001b[0m \u001b[0mCANCELLED_AND_NOTIFIED\u001b[0m\u001b[1;33m]\u001b[0m\u001b[1;33m:\u001b[0m\u001b[1;33m\u001b[0m\u001b[1;33m\u001b[0m\u001b[0m\n",
      "\u001b[1;32m~\\miniconda3\\envs\\datascience\\lib\\threading.py\u001b[0m in \u001b[0;36mwait\u001b[1;34m(self, timeout)\u001b[0m\n\u001b[0;32m    310\u001b[0m         \u001b[1;32mtry\u001b[0m\u001b[1;33m:\u001b[0m    \u001b[1;31m# restore state no matter what (e.g., KeyboardInterrupt)\u001b[0m\u001b[1;33m\u001b[0m\u001b[1;33m\u001b[0m\u001b[0m\n\u001b[0;32m    311\u001b[0m             \u001b[1;32mif\u001b[0m \u001b[0mtimeout\u001b[0m \u001b[1;32mis\u001b[0m \u001b[1;32mNone\u001b[0m\u001b[1;33m:\u001b[0m\u001b[1;33m\u001b[0m\u001b[1;33m\u001b[0m\u001b[0m\n\u001b[1;32m--> 312\u001b[1;33m                 \u001b[0mwaiter\u001b[0m\u001b[1;33m.\u001b[0m\u001b[0macquire\u001b[0m\u001b[1;33m(\u001b[0m\u001b[1;33m)\u001b[0m\u001b[1;33m\u001b[0m\u001b[1;33m\u001b[0m\u001b[0m\n\u001b[0m\u001b[0;32m    313\u001b[0m                 \u001b[0mgotit\u001b[0m \u001b[1;33m=\u001b[0m \u001b[1;32mTrue\u001b[0m\u001b[1;33m\u001b[0m\u001b[1;33m\u001b[0m\u001b[0m\n\u001b[0;32m    314\u001b[0m             \u001b[1;32melse\u001b[0m\u001b[1;33m:\u001b[0m\u001b[1;33m\u001b[0m\u001b[1;33m\u001b[0m\u001b[0m\n",
      "\u001b[1;31mKeyboardInterrupt\u001b[0m: "
     ]
    }
   ],
   "source": [
    "param_grid = {'n_factors': [5,50,100,150],\n",
    "              'n_epochs': [5,10,20],\n",
    "              'lr_all': [0.001,0.002,0.005],\n",
    "              'reg_all': [0.002,0.02,0.2]}\n",
    "\n",
    "gs = RandomizedSearchCV(SVD,\n",
    "                  param_grid,\n",
    "                  measures=['rmse'],\n",
    "                  cv=3,\n",
    "                  n_jobs = -1,\n",
    "                  joblib_verbose =10)\n",
    "\n",
    "gs.fit(data)"
   ]
  },
  {
   "cell_type": "code",
   "execution_count": null,
   "metadata": {},
   "outputs": [],
   "source": [
    "print(gs.best_score['rmse'])\n",
    "print(gs.best_params['rmse'])"
   ]
  },
  {
   "cell_type": "markdown",
   "metadata": {},
   "source": [
    "##### Optimizacion manual"
   ]
  },
  {
   "cell_type": "code",
   "execution_count": null,
   "metadata": {},
   "outputs": [],
   "source": [
    "from surprise.model_selection import cross_validate\n",
    "\n",
    "rmse_test_means = []\n",
    "factores = [1,2,4,8,16,32,64,128]\n",
    "\n",
    "for factor in tqdm(factores):\n",
    "    print(f'\\nNúmero de Factores: {factor}')\n",
    "    algo = SVD(n_factors=factor)\n",
    "    cv = cross_validate(algo, data, measures=['RMSE'], cv = 3, verbose=True)\n",
    "    rmse_test_means.append(np.mean(cv['test_rmse']))"
   ]
  },
  {
   "cell_type": "code",
   "execution_count": null,
   "metadata": {},
   "outputs": [],
   "source": [
    "plt.scatter(factores, rmse_test_means)\n",
    "plt.xlabel('Numero de factores')\n",
    "plt.ylabel('Error RMSE')\n",
    "plt.show()"
   ]
  },
  {
   "cell_type": "markdown",
   "metadata": {},
   "source": [
    "### Optmizacion del Rating"
   ]
  },
  {
   "cell_type": "markdown",
   "metadata": {},
   "source": [
    "Una forma de mejorar la performance del modelo seria mejorar la calidad de los datos.\n",
    "Debido a que contamos con la informacion del tiempo dedicado a cada juego por parte de cada jugador, podriamos inferir que cuanto mas tiempo le ha didcado el usuario al juego en cuestion, mas interes y por ende mayor preferencia por el juego representa.\n",
    "Por todo esto, podriamos cuantificar las horas dedicadas a jugar dentro del rating: a mayor cantidad de tiempo, se le agregara un plus al rating calculado en base al comentario."
   ]
  },
  {
   "cell_type": "code",
   "execution_count": 178,
   "metadata": {},
   "outputs": [
    {
     "data": {
      "text/html": [
       "<pre>✔️ 15 ms (2021-09-24T10:08:32/2021-09-24T10:08:32)</pre>"
      ],
      "text/plain": [
       "<IPython.core.display.HTML object>"
      ]
     },
     "metadata": {},
     "output_type": "display_data"
    },
    {
     "data": {
      "text/html": [
       "<div>\n",
       "<style scoped>\n",
       "    .dataframe tbody tr th:only-of-type {\n",
       "        vertical-align: middle;\n",
       "    }\n",
       "\n",
       "    .dataframe tbody tr th {\n",
       "        vertical-align: top;\n",
       "    }\n",
       "\n",
       "    .dataframe thead th {\n",
       "        text-align: right;\n",
       "    }\n",
       "</style>\n",
       "<table border=\"1\" class=\"dataframe\">\n",
       "  <thead>\n",
       "    <tr style=\"text-align: right;\">\n",
       "      <th></th>\n",
       "      <th>username</th>\n",
       "      <th>hours</th>\n",
       "      <th>product_id</th>\n",
       "      <th>text</th>\n",
       "      <th>user_id</th>\n",
       "      <th>cleaned_text</th>\n",
       "      <th>polarity</th>\n",
       "      <th>rating</th>\n",
       "    </tr>\n",
       "  </thead>\n",
       "  <tbody>\n",
       "    <tr>\n",
       "      <th>0</th>\n",
       "      <td>Chaos Syren</td>\n",
       "      <td>0.1000</td>\n",
       "      <td>725280</td>\n",
       "      <td>This would not be acceptable as an entertainme...</td>\n",
       "      <td>62543</td>\n",
       "      <td>would acceptable entertainment even back graph...</td>\n",
       "      <td>0.7506</td>\n",
       "      <td>4.3765</td>\n",
       "    </tr>\n",
       "    <tr>\n",
       "      <th>1</th>\n",
       "      <td>Ariman1</td>\n",
       "      <td>13.2000</td>\n",
       "      <td>328100</td>\n",
       "      <td>Addictive RPG ! Works fine on linux though it ...</td>\n",
       "      <td>26902</td>\n",
       "      <td>addictive works fine linux though minor bugs r...</td>\n",
       "      <td>0.2023</td>\n",
       "      <td>3.0057</td>\n",
       "    </tr>\n",
       "    <tr>\n",
       "      <th>2</th>\n",
       "      <td>freakfantom</td>\n",
       "      <td>0.1000</td>\n",
       "      <td>725280</td>\n",
       "      <td>Прикольная стрелялка. Взял дешево на распродаже.</td>\n",
       "      <td>434602</td>\n",
       "      <td>NaN</td>\n",
       "      <td>0.0000</td>\n",
       "      <td>2.5000</td>\n",
       "    </tr>\n",
       "    <tr>\n",
       "      <th>3</th>\n",
       "      <td>The_Cpt_FROGGY</td>\n",
       "      <td>7.8000</td>\n",
       "      <td>631920</td>\n",
       "      <td>Somewhere on Zibylon:\\n~~~~~~~~~~~~~~~~~~\\nZib...</td>\n",
       "      <td>347902</td>\n",
       "      <td>somewhere zibylon zibylon command centre read ...</td>\n",
       "      <td>0.9729</td>\n",
       "      <td>4.9322</td>\n",
       "    </tr>\n",
       "    <tr>\n",
       "      <th>4</th>\n",
       "      <td>the_maker988</td>\n",
       "      <td>8.2000</td>\n",
       "      <td>35140</td>\n",
       "      <td>This game was way to linear for me, and compar...</td>\n",
       "      <td>503848</td>\n",
       "      <td>game linear compared others good dollars winte...</td>\n",
       "      <td>0.5859</td>\n",
       "      <td>3.9647</td>\n",
       "    </tr>\n",
       "  </tbody>\n",
       "</table>\n",
       "</div>"
      ],
      "text/plain": [
       "         username   hours  product_id  \\\n",
       "0     Chaos Syren  0.1000      725280   \n",
       "1         Ariman1 13.2000      328100   \n",
       "2     freakfantom  0.1000      725280   \n",
       "3  The_Cpt_FROGGY  7.8000      631920   \n",
       "4    the_maker988  8.2000       35140   \n",
       "\n",
       "                                                text  user_id  \\\n",
       "0  This would not be acceptable as an entertainme...    62543   \n",
       "1  Addictive RPG ! Works fine on linux though it ...    26902   \n",
       "2   Прикольная стрелялка. Взял дешево на распродаже.   434602   \n",
       "3  Somewhere on Zibylon:\\n~~~~~~~~~~~~~~~~~~\\nZib...   347902   \n",
       "4  This game was way to linear for me, and compar...   503848   \n",
       "\n",
       "                                        cleaned_text  polarity  rating  \n",
       "0  would acceptable entertainment even back graph...    0.7506  4.3765  \n",
       "1  addictive works fine linux though minor bugs r...    0.2023  3.0057  \n",
       "2                                                NaN    0.0000  2.5000  \n",
       "3  somewhere zibylon zibylon command centre read ...    0.9729  4.9322  \n",
       "4  game linear compared others good dollars winte...    0.5859  3.9647  "
      ]
     },
     "execution_count": 178,
     "metadata": {},
     "output_type": "execute_result"
    }
   ],
   "source": [
    "df_reviews.head()"
   ]
  },
  {
   "cell_type": "code",
   "execution_count": 179,
   "metadata": {},
   "outputs": [
    {
     "data": {
      "text/html": [
       "<pre>✔️ 47 ms (2021-09-24T10:08:33/2021-09-24T10:08:33)</pre>"
      ],
      "text/plain": [
       "<IPython.core.display.HTML object>"
      ]
     },
     "metadata": {},
     "output_type": "display_data"
    },
    {
     "data": {
      "text/html": [
       "<div>\n",
       "<style scoped>\n",
       "    .dataframe tbody tr th:only-of-type {\n",
       "        vertical-align: middle;\n",
       "    }\n",
       "\n",
       "    .dataframe tbody tr th {\n",
       "        vertical-align: top;\n",
       "    }\n",
       "\n",
       "    .dataframe thead th {\n",
       "        text-align: right;\n",
       "    }\n",
       "</style>\n",
       "<table border=\"1\" class=\"dataframe\">\n",
       "  <thead>\n",
       "    <tr style=\"text-align: right;\">\n",
       "      <th></th>\n",
       "      <th>minimo</th>\n",
       "      <th>maximo</th>\n",
       "    </tr>\n",
       "    <tr>\n",
       "      <th>product_id</th>\n",
       "      <th></th>\n",
       "      <th></th>\n",
       "    </tr>\n",
       "  </thead>\n",
       "  <tbody>\n",
       "    <tr>\n",
       "      <th>224600</th>\n",
       "      <td>0.2000</td>\n",
       "      <td>28164.0000</td>\n",
       "    </tr>\n",
       "    <tr>\n",
       "      <th>8500</th>\n",
       "      <td>0.1000</td>\n",
       "      <td>23184.2000</td>\n",
       "    </tr>\n",
       "    <tr>\n",
       "      <th>320</th>\n",
       "      <td>0.1000</td>\n",
       "      <td>20573.3000</td>\n",
       "    </tr>\n",
       "    <tr>\n",
       "      <th>363970</th>\n",
       "      <td>0.0000</td>\n",
       "      <td>20018.9000</td>\n",
       "    </tr>\n",
       "    <tr>\n",
       "      <th>24010</th>\n",
       "      <td>0.1000</td>\n",
       "      <td>19205.2000</td>\n",
       "    </tr>\n",
       "    <tr>\n",
       "      <th>...</th>\n",
       "      <td>...</td>\n",
       "      <td>...</td>\n",
       "    </tr>\n",
       "    <tr>\n",
       "      <th>598390</th>\n",
       "      <td>NaN</td>\n",
       "      <td>NaN</td>\n",
       "    </tr>\n",
       "    <tr>\n",
       "      <th>604090</th>\n",
       "      <td>NaN</td>\n",
       "      <td>NaN</td>\n",
       "    </tr>\n",
       "    <tr>\n",
       "      <th>625660</th>\n",
       "      <td>NaN</td>\n",
       "      <td>NaN</td>\n",
       "    </tr>\n",
       "    <tr>\n",
       "      <th>645180</th>\n",
       "      <td>NaN</td>\n",
       "      <td>NaN</td>\n",
       "    </tr>\n",
       "    <tr>\n",
       "      <th>666200</th>\n",
       "      <td>NaN</td>\n",
       "      <td>NaN</td>\n",
       "    </tr>\n",
       "  </tbody>\n",
       "</table>\n",
       "<p>12665 rows × 2 columns</p>\n",
       "</div>"
      ],
      "text/plain": [
       "            minimo     maximo\n",
       "product_id                   \n",
       "224600      0.2000 28164.0000\n",
       "8500        0.1000 23184.2000\n",
       "320         0.1000 20573.3000\n",
       "363970      0.0000 20018.9000\n",
       "24010       0.1000 19205.2000\n",
       "...            ...        ...\n",
       "598390         NaN        NaN\n",
       "604090         NaN        NaN\n",
       "625660         NaN        NaN\n",
       "645180         NaN        NaN\n",
       "666200         NaN        NaN\n",
       "\n",
       "[12665 rows x 2 columns]"
      ]
     },
     "execution_count": 179,
     "metadata": {},
     "output_type": "execute_result"
    }
   ],
   "source": [
    "# Creamos un dataframe con las cantidad de horas minima y maxima dedicada a cada juego.\n",
    "df_hours = df_reviews.groupby('product_id').hours.agg(minimo=np.min, maximo=np.max).sort_values(by='maximo', ascending=False)\n",
    "df_hours"
   ]
  },
  {
   "cell_type": "code",
   "execution_count": 180,
   "metadata": {},
   "outputs": [
    {
     "data": {
      "text/html": [
       "<pre>✔️ 16 ms (2021-09-24T10:08:36/2021-09-24T10:08:36)</pre>"
      ],
      "text/plain": [
       "<IPython.core.display.HTML object>"
      ]
     },
     "metadata": {},
     "output_type": "display_data"
    },
    {
     "data": {
      "text/plain": [
       "minimo    45\n",
       "maximo    45\n",
       "dtype: int64"
      ]
     },
     "execution_count": 180,
     "metadata": {},
     "output_type": "execute_result"
    }
   ],
   "source": [
    "# Vemos que hay missings. Vamos a ver cuantos hay.\n",
    "df_hours.isna().sum()"
   ]
  },
  {
   "cell_type": "code",
   "execution_count": 181,
   "metadata": {},
   "outputs": [
    {
     "data": {
      "text/html": [
       "<pre>✔️ 15 ms (2021-09-24T10:08:36/2021-09-24T10:08:36)</pre>"
      ],
      "text/plain": [
       "<IPython.core.display.HTML object>"
      ]
     },
     "metadata": {},
     "output_type": "display_data"
    },
    {
     "data": {
      "text/html": [
       "<div>\n",
       "<style scoped>\n",
       "    .dataframe tbody tr th:only-of-type {\n",
       "        vertical-align: middle;\n",
       "    }\n",
       "\n",
       "    .dataframe tbody tr th {\n",
       "        vertical-align: top;\n",
       "    }\n",
       "\n",
       "    .dataframe thead th {\n",
       "        text-align: right;\n",
       "    }\n",
       "</style>\n",
       "<table border=\"1\" class=\"dataframe\">\n",
       "  <thead>\n",
       "    <tr style=\"text-align: right;\">\n",
       "      <th></th>\n",
       "      <th>minimo</th>\n",
       "      <th>maximo</th>\n",
       "    </tr>\n",
       "    <tr>\n",
       "      <th>product_id</th>\n",
       "      <th></th>\n",
       "      <th></th>\n",
       "    </tr>\n",
       "  </thead>\n",
       "  <tbody>\n",
       "    <tr>\n",
       "      <th>224600</th>\n",
       "      <td>0.2000</td>\n",
       "      <td>28164.0000</td>\n",
       "    </tr>\n",
       "    <tr>\n",
       "      <th>8500</th>\n",
       "      <td>0.1000</td>\n",
       "      <td>23184.2000</td>\n",
       "    </tr>\n",
       "    <tr>\n",
       "      <th>320</th>\n",
       "      <td>0.1000</td>\n",
       "      <td>20573.3000</td>\n",
       "    </tr>\n",
       "    <tr>\n",
       "      <th>363970</th>\n",
       "      <td>0.0000</td>\n",
       "      <td>20018.9000</td>\n",
       "    </tr>\n",
       "    <tr>\n",
       "      <th>24010</th>\n",
       "      <td>0.1000</td>\n",
       "      <td>19205.2000</td>\n",
       "    </tr>\n",
       "    <tr>\n",
       "      <th>...</th>\n",
       "      <td>...</td>\n",
       "      <td>...</td>\n",
       "    </tr>\n",
       "    <tr>\n",
       "      <th>598390</th>\n",
       "      <td>0.0000</td>\n",
       "      <td>1.0000</td>\n",
       "    </tr>\n",
       "    <tr>\n",
       "      <th>604090</th>\n",
       "      <td>0.0000</td>\n",
       "      <td>1.0000</td>\n",
       "    </tr>\n",
       "    <tr>\n",
       "      <th>625660</th>\n",
       "      <td>0.0000</td>\n",
       "      <td>1.0000</td>\n",
       "    </tr>\n",
       "    <tr>\n",
       "      <th>645180</th>\n",
       "      <td>0.0000</td>\n",
       "      <td>1.0000</td>\n",
       "    </tr>\n",
       "    <tr>\n",
       "      <th>666200</th>\n",
       "      <td>0.0000</td>\n",
       "      <td>1.0000</td>\n",
       "    </tr>\n",
       "  </tbody>\n",
       "</table>\n",
       "<p>12665 rows × 2 columns</p>\n",
       "</div>"
      ],
      "text/plain": [
       "            minimo     maximo\n",
       "product_id                   \n",
       "224600      0.2000 28164.0000\n",
       "8500        0.1000 23184.2000\n",
       "320         0.1000 20573.3000\n",
       "363970      0.0000 20018.9000\n",
       "24010       0.1000 19205.2000\n",
       "...            ...        ...\n",
       "598390      0.0000     1.0000\n",
       "604090      0.0000     1.0000\n",
       "625660      0.0000     1.0000\n",
       "645180      0.0000     1.0000\n",
       "666200      0.0000     1.0000\n",
       "\n",
       "[12665 rows x 2 columns]"
      ]
     },
     "execution_count": 181,
     "metadata": {},
     "output_type": "execute_result"
    }
   ],
   "source": [
    "# Rellenamos los minimos con 0 y los maximos con 1\n",
    "df_hours.minimo.fillna(0, inplace=True)\n",
    "df_hours.maximo.fillna(1, inplace=True)\n",
    "df_hours"
   ]
  },
  {
   "cell_type": "code",
   "execution_count": 182,
   "metadata": {},
   "outputs": [
    {
     "data": {
      "text/html": [
       "<pre>✔️ 15 ms (2021-09-24T10:08:36/2021-09-24T10:08:36)</pre>"
      ],
      "text/plain": [
       "<IPython.core.display.HTML object>"
      ]
     },
     "metadata": {},
     "output_type": "display_data"
    }
   ],
   "source": [
    "def topMax(index):\n",
    "    top = df_reviews[df_reviews.product_id==index].quantile(.95).hours\n",
    "    if np.isnan(top):\n",
    "        top = 1\n",
    "    return top"
   ]
  },
  {
   "cell_type": "code",
   "execution_count": 183,
   "metadata": {},
   "outputs": [
    {
     "data": {
      "text/html": [
       "<pre>✔️ 0 ns (2021-09-24T10:08:38/2021-09-24T10:08:38)</pre>"
      ],
      "text/plain": [
       "<IPython.core.display.HTML object>"
      ]
     },
     "metadata": {},
     "output_type": "display_data"
    }
   ],
   "source": [
    "df_hours.reset_index(inplace=True)"
   ]
  },
  {
   "cell_type": "code",
   "execution_count": 184,
   "metadata": {},
   "outputs": [
    {
     "data": {
      "text/html": [
       "<pre>✔️ 26.2 s (2021-09-24T10:08:39/2021-09-24T10:09:05)</pre>"
      ],
      "text/plain": [
       "<IPython.core.display.HTML object>"
      ]
     },
     "metadata": {},
     "output_type": "display_data"
    },
    {
     "data": {
      "application/vnd.jupyter.widget-view+json": {
       "model_id": "de7ed8ee871e41c5bdf2659a69a56259",
       "version_major": 2,
       "version_minor": 0
      },
      "text/plain": [
       "  0%|          | 0/12665 [00:00<?, ?it/s]"
      ]
     },
     "metadata": {},
     "output_type": "display_data"
    },
    {
     "data": {
      "text/html": [
       "<div>\n",
       "<style scoped>\n",
       "    .dataframe tbody tr th:only-of-type {\n",
       "        vertical-align: middle;\n",
       "    }\n",
       "\n",
       "    .dataframe tbody tr th {\n",
       "        vertical-align: top;\n",
       "    }\n",
       "\n",
       "    .dataframe thead th {\n",
       "        text-align: right;\n",
       "    }\n",
       "</style>\n",
       "<table border=\"1\" class=\"dataframe\">\n",
       "  <thead>\n",
       "    <tr style=\"text-align: right;\">\n",
       "      <th></th>\n",
       "      <th>product_id</th>\n",
       "      <th>minimo</th>\n",
       "      <th>maximo</th>\n",
       "      <th>top</th>\n",
       "    </tr>\n",
       "  </thead>\n",
       "  <tbody>\n",
       "    <tr>\n",
       "      <th>21</th>\n",
       "      <td>466170</td>\n",
       "      <td>0.6000</td>\n",
       "      <td>12384.0000</td>\n",
       "      <td>8529.2300</td>\n",
       "    </tr>\n",
       "    <tr>\n",
       "      <th>47</th>\n",
       "      <td>385020</td>\n",
       "      <td>4.2000</td>\n",
       "      <td>9110.3000</td>\n",
       "      <td>8200.3700</td>\n",
       "    </tr>\n",
       "    <tr>\n",
       "      <th>51</th>\n",
       "      <td>444970</td>\n",
       "      <td>0.5000</td>\n",
       "      <td>8783.4000</td>\n",
       "      <td>5952.6350</td>\n",
       "    </tr>\n",
       "    <tr>\n",
       "      <th>98</th>\n",
       "      <td>408030</td>\n",
       "      <td>0.1000</td>\n",
       "      <td>6406.2000</td>\n",
       "      <td>5491.2000</td>\n",
       "    </tr>\n",
       "    <tr>\n",
       "      <th>12</th>\n",
       "      <td>39210</td>\n",
       "      <td>0.1000</td>\n",
       "      <td>15639.6000</td>\n",
       "      <td>5159.7000</td>\n",
       "    </tr>\n",
       "    <tr>\n",
       "      <th>...</th>\n",
       "      <td>...</td>\n",
       "      <td>...</td>\n",
       "      <td>...</td>\n",
       "      <td>...</td>\n",
       "    </tr>\n",
       "    <tr>\n",
       "      <th>12616</th>\n",
       "      <td>44620</td>\n",
       "      <td>0.0000</td>\n",
       "      <td>0.0000</td>\n",
       "      <td>0.0000</td>\n",
       "    </tr>\n",
       "    <tr>\n",
       "      <th>12617</th>\n",
       "      <td>355950</td>\n",
       "      <td>0.0000</td>\n",
       "      <td>0.0000</td>\n",
       "      <td>0.0000</td>\n",
       "    </tr>\n",
       "    <tr>\n",
       "      <th>12618</th>\n",
       "      <td>331181</td>\n",
       "      <td>0.0000</td>\n",
       "      <td>0.0000</td>\n",
       "      <td>0.0000</td>\n",
       "    </tr>\n",
       "    <tr>\n",
       "      <th>12619</th>\n",
       "      <td>8650</td>\n",
       "      <td>0.0000</td>\n",
       "      <td>0.0000</td>\n",
       "      <td>0.0000</td>\n",
       "    </tr>\n",
       "    <tr>\n",
       "      <th>12615</th>\n",
       "      <td>8690</td>\n",
       "      <td>0.0000</td>\n",
       "      <td>0.0000</td>\n",
       "      <td>0.0000</td>\n",
       "    </tr>\n",
       "  </tbody>\n",
       "</table>\n",
       "<p>12665 rows × 4 columns</p>\n",
       "</div>"
      ],
      "text/plain": [
       "       product_id  minimo     maximo       top\n",
       "21         466170  0.6000 12384.0000 8529.2300\n",
       "47         385020  4.2000  9110.3000 8200.3700\n",
       "51         444970  0.5000  8783.4000 5952.6350\n",
       "98         408030  0.1000  6406.2000 5491.2000\n",
       "12          39210  0.1000 15639.6000 5159.7000\n",
       "...           ...     ...        ...       ...\n",
       "12616       44620  0.0000     0.0000    0.0000\n",
       "12617      355950  0.0000     0.0000    0.0000\n",
       "12618      331181  0.0000     0.0000    0.0000\n",
       "12619        8650  0.0000     0.0000    0.0000\n",
       "12615        8690  0.0000     0.0000    0.0000\n",
       "\n",
       "[12665 rows x 4 columns]"
      ]
     },
     "execution_count": 184,
     "metadata": {},
     "output_type": "execute_result"
    }
   ],
   "source": [
    "df_hours['top'] = df_hours.product_id.progress_apply(topMax)\n",
    "df_hours.sort_values(by='top', ascending=False)"
   ]
  },
  {
   "cell_type": "code",
   "execution_count": 185,
   "metadata": {},
   "outputs": [
    {
     "data": {
      "text/html": [
       "<pre>✔️ 453 ms (2021-09-24T10:09:05/2021-09-24T10:09:05)</pre>"
      ],
      "text/plain": [
       "<IPython.core.display.HTML object>"
      ]
     },
     "metadata": {},
     "output_type": "display_data"
    },
    {
     "data": {
      "text/plain": [
       "(779307, 11)"
      ]
     },
     "execution_count": 185,
     "metadata": {},
     "output_type": "execute_result"
    }
   ],
   "source": [
    "df_2 = pd.merge(df_reviews, df_hours, left_on='product_id', right_on='product_id')\n",
    "df_2.shape"
   ]
  },
  {
   "cell_type": "code",
   "execution_count": 186,
   "metadata": {},
   "outputs": [
    {
     "data": {
      "text/html": [
       "<pre>✔️ 47 ms (2021-09-24T10:09:06/2021-09-24T10:09:06)</pre>"
      ],
      "text/plain": [
       "<IPython.core.display.HTML object>"
      ]
     },
     "metadata": {},
     "output_type": "display_data"
    },
    {
     "data": {
      "text/html": [
       "<div>\n",
       "<style scoped>\n",
       "    .dataframe tbody tr th:only-of-type {\n",
       "        vertical-align: middle;\n",
       "    }\n",
       "\n",
       "    .dataframe tbody tr th {\n",
       "        vertical-align: top;\n",
       "    }\n",
       "\n",
       "    .dataframe thead th {\n",
       "        text-align: right;\n",
       "    }\n",
       "</style>\n",
       "<table border=\"1\" class=\"dataframe\">\n",
       "  <thead>\n",
       "    <tr style=\"text-align: right;\">\n",
       "      <th></th>\n",
       "      <th>username</th>\n",
       "      <th>hours</th>\n",
       "      <th>product_id</th>\n",
       "      <th>text</th>\n",
       "      <th>user_id</th>\n",
       "      <th>cleaned_text</th>\n",
       "      <th>polarity</th>\n",
       "      <th>rating</th>\n",
       "      <th>minimo</th>\n",
       "      <th>maximo</th>\n",
       "      <th>top</th>\n",
       "      <th>h</th>\n",
       "    </tr>\n",
       "  </thead>\n",
       "  <tbody>\n",
       "    <tr>\n",
       "      <th>0</th>\n",
       "      <td>Chaos Syren</td>\n",
       "      <td>0.1000</td>\n",
       "      <td>725280</td>\n",
       "      <td>This would not be acceptable as an entertainme...</td>\n",
       "      <td>62543</td>\n",
       "      <td>would acceptable entertainment even back graph...</td>\n",
       "      <td>0.7506</td>\n",
       "      <td>4.3765</td>\n",
       "      <td>0.1000</td>\n",
       "      <td>0.1000</td>\n",
       "      <td>0.1000</td>\n",
       "      <td>0.0000</td>\n",
       "    </tr>\n",
       "    <tr>\n",
       "      <th>1</th>\n",
       "      <td>freakfantom</td>\n",
       "      <td>0.1000</td>\n",
       "      <td>725280</td>\n",
       "      <td>Прикольная стрелялка. Взял дешево на распродаже.</td>\n",
       "      <td>434602</td>\n",
       "      <td>NaN</td>\n",
       "      <td>0.0000</td>\n",
       "      <td>2.5000</td>\n",
       "      <td>0.1000</td>\n",
       "      <td>0.1000</td>\n",
       "      <td>0.1000</td>\n",
       "      <td>0.0000</td>\n",
       "    </tr>\n",
       "    <tr>\n",
       "      <th>2</th>\n",
       "      <td>Ariman1</td>\n",
       "      <td>13.2000</td>\n",
       "      <td>328100</td>\n",
       "      <td>Addictive RPG ! Works fine on linux though it ...</td>\n",
       "      <td>26902</td>\n",
       "      <td>addictive works fine linux though minor bugs r...</td>\n",
       "      <td>0.2023</td>\n",
       "      <td>3.0057</td>\n",
       "      <td>0.4000</td>\n",
       "      <td>13.2000</td>\n",
       "      <td>10.3800</td>\n",
       "      <td>1.0000</td>\n",
       "    </tr>\n",
       "    <tr>\n",
       "      <th>3</th>\n",
       "      <td>dll3z</td>\n",
       "      <td>0.4000</td>\n",
       "      <td>328100</td>\n",
       "      <td>do not buy this game</td>\n",
       "      <td>425512</td>\n",
       "      <td>game</td>\n",
       "      <td>0.0000</td>\n",
       "      <td>2.5000</td>\n",
       "      <td>0.4000</td>\n",
       "      <td>13.2000</td>\n",
       "      <td>10.3800</td>\n",
       "      <td>-1.0000</td>\n",
       "    </tr>\n",
       "    <tr>\n",
       "      <th>4</th>\n",
       "      <td>Nyazicat</td>\n",
       "      <td>2.2000</td>\n",
       "      <td>328100</td>\n",
       "      <td>For some reason I entirely derped out and boug...</td>\n",
       "      <td>247073</td>\n",
       "      <td>reason entirely derped bought indiegala bundle...</td>\n",
       "      <td>0.8066</td>\n",
       "      <td>4.5165</td>\n",
       "      <td>0.4000</td>\n",
       "      <td>13.2000</td>\n",
       "      <td>10.3800</td>\n",
       "      <td>-0.6393</td>\n",
       "    </tr>\n",
       "    <tr>\n",
       "      <th>...</th>\n",
       "      <td>...</td>\n",
       "      <td>...</td>\n",
       "      <td>...</td>\n",
       "      <td>...</td>\n",
       "      <td>...</td>\n",
       "      <td>...</td>\n",
       "      <td>...</td>\n",
       "      <td>...</td>\n",
       "      <td>...</td>\n",
       "      <td>...</td>\n",
       "      <td>...</td>\n",
       "      <td>...</td>\n",
       "    </tr>\n",
       "    <tr>\n",
       "      <th>779302</th>\n",
       "      <td>rt974</td>\n",
       "      <td>9.4000</td>\n",
       "      <td>518790</td>\n",
       "      <td>Hi,\\nI discovered this game yesterday on my pe...</td>\n",
       "      <td>488569</td>\n",
       "      <td>discovered game yesterday personal queue surpr...</td>\n",
       "      <td>0.9811</td>\n",
       "      <td>4.9527</td>\n",
       "      <td>0.1000</td>\n",
       "      <td>1502.5000</td>\n",
       "      <td>179.9200</td>\n",
       "      <td>-0.8966</td>\n",
       "    </tr>\n",
       "    <tr>\n",
       "      <th>779303</th>\n",
       "      <td>Fallenglory</td>\n",
       "      <td>35.8000</td>\n",
       "      <td>518790</td>\n",
       "      <td>The Hunter was and is still the most realistic...</td>\n",
       "      <td>115945</td>\n",
       "      <td>hunter still realistic hunting release call wi...</td>\n",
       "      <td>0.9688</td>\n",
       "      <td>4.9220</td>\n",
       "      <td>0.1000</td>\n",
       "      <td>1502.5000</td>\n",
       "      <td>179.9200</td>\n",
       "      <td>-0.6029</td>\n",
       "    </tr>\n",
       "    <tr>\n",
       "      <th>779304</th>\n",
       "      <td>GooseMan</td>\n",
       "      <td>32.4000</td>\n",
       "      <td>518790</td>\n",
       "      <td>Very good!</td>\n",
       "      <td>137066</td>\n",
       "      <td>good</td>\n",
       "      <td>0.4404</td>\n",
       "      <td>3.6010</td>\n",
       "      <td>0.1000</td>\n",
       "      <td>1502.5000</td>\n",
       "      <td>179.9200</td>\n",
       "      <td>-0.6408</td>\n",
       "    </tr>\n",
       "    <tr>\n",
       "      <th>779305</th>\n",
       "      <td>lazyboy82</td>\n",
       "      <td>96.9000</td>\n",
       "      <td>518790</td>\n",
       "      <td>Update after 60+ hours:\\nI decided to quit the...</td>\n",
       "      <td>459107</td>\n",
       "      <td>update hours decided quit game simply unfinish...</td>\n",
       "      <td>0.9669</td>\n",
       "      <td>4.9173</td>\n",
       "      <td>0.1000</td>\n",
       "      <td>1502.5000</td>\n",
       "      <td>179.9200</td>\n",
       "      <td>0.0766</td>\n",
       "    </tr>\n",
       "    <tr>\n",
       "      <th>779306</th>\n",
       "      <td>Parad0x +x</td>\n",
       "      <td>1.3000</td>\n",
       "      <td>518790</td>\n",
       "      <td>I would recommend this to any hunter loving fa...</td>\n",
       "      <td>257136</td>\n",
       "      <td>would recommend hunter loving havnt played muc...</td>\n",
       "      <td>0.8658</td>\n",
       "      <td>4.6645</td>\n",
       "      <td>0.1000</td>\n",
       "      <td>1502.5000</td>\n",
       "      <td>179.9200</td>\n",
       "      <td>-0.9867</td>\n",
       "    </tr>\n",
       "  </tbody>\n",
       "</table>\n",
       "<p>779307 rows × 12 columns</p>\n",
       "</div>"
      ],
      "text/plain": [
       "           username   hours  product_id  \\\n",
       "0       Chaos Syren  0.1000      725280   \n",
       "1       freakfantom  0.1000      725280   \n",
       "2           Ariman1 13.2000      328100   \n",
       "3             dll3z  0.4000      328100   \n",
       "4          Nyazicat  2.2000      328100   \n",
       "...             ...     ...         ...   \n",
       "779302        rt974  9.4000      518790   \n",
       "779303  Fallenglory 35.8000      518790   \n",
       "779304     GooseMan 32.4000      518790   \n",
       "779305    lazyboy82 96.9000      518790   \n",
       "779306   Parad0x +x  1.3000      518790   \n",
       "\n",
       "                                                     text  user_id  \\\n",
       "0       This would not be acceptable as an entertainme...    62543   \n",
       "1        Прикольная стрелялка. Взял дешево на распродаже.   434602   \n",
       "2       Addictive RPG ! Works fine on linux though it ...    26902   \n",
       "3                                    do not buy this game   425512   \n",
       "4       For some reason I entirely derped out and boug...   247073   \n",
       "...                                                   ...      ...   \n",
       "779302  Hi,\\nI discovered this game yesterday on my pe...   488569   \n",
       "779303  The Hunter was and is still the most realistic...   115945   \n",
       "779304                                         Very good!   137066   \n",
       "779305  Update after 60+ hours:\\nI decided to quit the...   459107   \n",
       "779306  I would recommend this to any hunter loving fa...   257136   \n",
       "\n",
       "                                             cleaned_text  polarity  rating  \\\n",
       "0       would acceptable entertainment even back graph...    0.7506  4.3765   \n",
       "1                                                     NaN    0.0000  2.5000   \n",
       "2       addictive works fine linux though minor bugs r...    0.2023  3.0057   \n",
       "3                                                    game    0.0000  2.5000   \n",
       "4       reason entirely derped bought indiegala bundle...    0.8066  4.5165   \n",
       "...                                                   ...       ...     ...   \n",
       "779302  discovered game yesterday personal queue surpr...    0.9811  4.9527   \n",
       "779303  hunter still realistic hunting release call wi...    0.9688  4.9220   \n",
       "779304                                               good    0.4404  3.6010   \n",
       "779305  update hours decided quit game simply unfinish...    0.9669  4.9173   \n",
       "779306  would recommend hunter loving havnt played muc...    0.8658  4.6645   \n",
       "\n",
       "        minimo    maximo      top       h  \n",
       "0       0.1000    0.1000   0.1000  0.0000  \n",
       "1       0.1000    0.1000   0.1000  0.0000  \n",
       "2       0.4000   13.2000  10.3800  1.0000  \n",
       "3       0.4000   13.2000  10.3800 -1.0000  \n",
       "4       0.4000   13.2000  10.3800 -0.6393  \n",
       "...        ...       ...      ...     ...  \n",
       "779302  0.1000 1502.5000 179.9200 -0.8966  \n",
       "779303  0.1000 1502.5000 179.9200 -0.6029  \n",
       "779304  0.1000 1502.5000 179.9200 -0.6408  \n",
       "779305  0.1000 1502.5000 179.9200  0.0766  \n",
       "779306  0.1000 1502.5000 179.9200 -0.9867  \n",
       "\n",
       "[779307 rows x 12 columns]"
      ]
     },
     "execution_count": 186,
     "metadata": {},
     "output_type": "execute_result"
    }
   ],
   "source": [
    "df_2['h'] = np.minimum((df_2['hours']-df_2['minimo'])/(df_2['top']-df_2['minimo'])*2-1, 1)\n",
    "df_2['h'] = df_2['h'].fillna(0)\n",
    "df_2"
   ]
  },
  {
   "cell_type": "code",
   "execution_count": 187,
   "metadata": {},
   "outputs": [
    {
     "data": {
      "text/html": [
       "<pre>✔️ 406 ms (2021-09-24T10:09:06/2021-09-24T10:09:06)</pre>"
      ],
      "text/plain": [
       "<IPython.core.display.HTML object>"
      ]
     },
     "metadata": {},
     "output_type": "display_data"
    },
    {
     "data": {
      "text/html": [
       "<div>\n",
       "<style scoped>\n",
       "    .dataframe tbody tr th:only-of-type {\n",
       "        vertical-align: middle;\n",
       "    }\n",
       "\n",
       "    .dataframe tbody tr th {\n",
       "        vertical-align: top;\n",
       "    }\n",
       "\n",
       "    .dataframe thead th {\n",
       "        text-align: right;\n",
       "    }\n",
       "</style>\n",
       "<table border=\"1\" class=\"dataframe\">\n",
       "  <thead>\n",
       "    <tr style=\"text-align: right;\">\n",
       "      <th></th>\n",
       "      <th>hours</th>\n",
       "      <th>product_id</th>\n",
       "      <th>user_id</th>\n",
       "      <th>polarity</th>\n",
       "      <th>rating</th>\n",
       "      <th>minimo</th>\n",
       "      <th>maximo</th>\n",
       "      <th>top</th>\n",
       "      <th>h</th>\n",
       "    </tr>\n",
       "  </thead>\n",
       "  <tbody>\n",
       "    <tr>\n",
       "      <th>count</th>\n",
       "      <td>776670.0000</td>\n",
       "      <td>779307.0000</td>\n",
       "      <td>779307.0000</td>\n",
       "      <td>779307.0000</td>\n",
       "      <td>779307.0000</td>\n",
       "      <td>779307.0000</td>\n",
       "      <td>779307.0000</td>\n",
       "      <td>779307.0000</td>\n",
       "      <td>779307.0000</td>\n",
       "    </tr>\n",
       "    <tr>\n",
       "      <th>mean</th>\n",
       "      <td>111.8438</td>\n",
       "      <td>251489.8221</td>\n",
       "      <td>263410.8997</td>\n",
       "      <td>0.4105</td>\n",
       "      <td>3.5262</td>\n",
       "      <td>0.2094</td>\n",
       "      <td>3232.0331</td>\n",
       "      <td>422.9222</td>\n",
       "      <td>-0.4642</td>\n",
       "    </tr>\n",
       "    <tr>\n",
       "      <th>std</th>\n",
       "      <td>390.1454</td>\n",
       "      <td>149975.3705</td>\n",
       "      <td>154077.9124</td>\n",
       "      <td>0.5087</td>\n",
       "      <td>1.2717</td>\n",
       "      <td>3.2968</td>\n",
       "      <td>4553.5067</td>\n",
       "      <td>660.8255</td>\n",
       "      <td>0.5690</td>\n",
       "    </tr>\n",
       "    <tr>\n",
       "      <th>min</th>\n",
       "      <td>0.0000</td>\n",
       "      <td>10.0000</td>\n",
       "      <td>0.0000</td>\n",
       "      <td>-1.0000</td>\n",
       "      <td>0.0000</td>\n",
       "      <td>0.0000</td>\n",
       "      <td>0.0000</td>\n",
       "      <td>0.0000</td>\n",
       "      <td>-1.0000</td>\n",
       "    </tr>\n",
       "    <tr>\n",
       "      <th>25%</th>\n",
       "      <td>4.0000</td>\n",
       "      <td>203770.0000</td>\n",
       "      <td>130630.5000</td>\n",
       "      <td>0.0000</td>\n",
       "      <td>2.5000</td>\n",
       "      <td>0.1000</td>\n",
       "      <td>210.0000</td>\n",
       "      <td>36.8400</td>\n",
       "      <td>-0.9083</td>\n",
       "    </tr>\n",
       "    <tr>\n",
       "      <th>50%</th>\n",
       "      <td>15.3000</td>\n",
       "      <td>252490.0000</td>\n",
       "      <td>260874.0000</td>\n",
       "      <td>0.5719</td>\n",
       "      <td>3.9297</td>\n",
       "      <td>0.1000</td>\n",
       "      <td>1184.2000</td>\n",
       "      <td>120.1850</td>\n",
       "      <td>-0.6651</td>\n",
       "    </tr>\n",
       "    <tr>\n",
       "      <th>75%</th>\n",
       "      <td>59.6000</td>\n",
       "      <td>346110.0000</td>\n",
       "      <td>391979.5000</td>\n",
       "      <td>0.8540</td>\n",
       "      <td>4.6350</td>\n",
       "      <td>0.1000</td>\n",
       "      <td>4491.6000</td>\n",
       "      <td>527.1200</td>\n",
       "      <td>-0.2194</td>\n",
       "    </tr>\n",
       "    <tr>\n",
       "      <th>max</th>\n",
       "      <td>28164.0000</td>\n",
       "      <td>773900.0000</td>\n",
       "      <td>540338.0000</td>\n",
       "      <td>1.0000</td>\n",
       "      <td>5.0000</td>\n",
       "      <td>1476.5000</td>\n",
       "      <td>28164.0000</td>\n",
       "      <td>8529.2300</td>\n",
       "      <td>1.0000</td>\n",
       "    </tr>\n",
       "  </tbody>\n",
       "</table>\n",
       "</div>"
      ],
      "text/plain": [
       "            hours  product_id     user_id    polarity      rating      minimo  \\\n",
       "count 776670.0000 779307.0000 779307.0000 779307.0000 779307.0000 779307.0000   \n",
       "mean     111.8438 251489.8221 263410.8997      0.4105      3.5262      0.2094   \n",
       "std      390.1454 149975.3705 154077.9124      0.5087      1.2717      3.2968   \n",
       "min        0.0000     10.0000      0.0000     -1.0000      0.0000      0.0000   \n",
       "25%        4.0000 203770.0000 130630.5000      0.0000      2.5000      0.1000   \n",
       "50%       15.3000 252490.0000 260874.0000      0.5719      3.9297      0.1000   \n",
       "75%       59.6000 346110.0000 391979.5000      0.8540      4.6350      0.1000   \n",
       "max    28164.0000 773900.0000 540338.0000      1.0000      5.0000   1476.5000   \n",
       "\n",
       "           maximo         top           h  \n",
       "count 779307.0000 779307.0000 779307.0000  \n",
       "mean    3232.0331    422.9222     -0.4642  \n",
       "std     4553.5067    660.8255      0.5690  \n",
       "min        0.0000      0.0000     -1.0000  \n",
       "25%      210.0000     36.8400     -0.9083  \n",
       "50%     1184.2000    120.1850     -0.6651  \n",
       "75%     4491.6000    527.1200     -0.2194  \n",
       "max    28164.0000   8529.2300      1.0000  "
      ]
     },
     "execution_count": 187,
     "metadata": {},
     "output_type": "execute_result"
    }
   ],
   "source": [
    "df_2.describe()"
   ]
  },
  {
   "cell_type": "code",
   "execution_count": 188,
   "metadata": {},
   "outputs": [
    {
     "data": {
      "text/html": [
       "<pre>✔️ 422 ms (2021-09-24T10:09:06/2021-09-24T10:09:07)</pre>"
      ],
      "text/plain": [
       "<IPython.core.display.HTML object>"
      ]
     },
     "metadata": {},
     "output_type": "display_data"
    },
    {
     "data": {
      "image/png": "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\n",
      "text/plain": [
       "<Figure size 504x144 with 1 Axes>"
      ]
     },
     "metadata": {},
     "output_type": "display_data"
    }
   ],
   "source": [
    "plt.figure(figsize=(7,2))\n",
    "sns.histplot(data=df_2, x='h')\n",
    "plt.ylabel('count')\n",
    "plt.xlabel('hours')\n",
    "plt.xticks(rotation=90)\n",
    "plt.show()"
   ]
  },
  {
   "cell_type": "code",
   "execution_count": 189,
   "metadata": {},
   "outputs": [
    {
     "data": {
      "text/html": [
       "<pre>✔️ 500 ms (2021-09-24T10:09:07/2021-09-24T10:09:07)</pre>"
      ],
      "text/plain": [
       "<IPython.core.display.HTML object>"
      ]
     },
     "metadata": {},
     "output_type": "display_data"
    },
    {
     "data": {
      "image/png": "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\n",
      "text/plain": [
       "<Figure size 504x144 with 1 Axes>"
      ]
     },
     "metadata": {},
     "output_type": "display_data"
    }
   ],
   "source": [
    "df_2['h_rating'] = df_2['rating'] + df_2['h']\n",
    "\n",
    "plt.figure(figsize=(7,2))\n",
    "sns.histplot(data=df_2, x='h_rating')\n",
    "plt.ylabel('count')\n",
    "plt.xlabel('hours')\n",
    "plt.xticks(rotation=90)\n",
    "plt.show()"
   ]
  },
  {
   "cell_type": "code",
   "execution_count": 190,
   "metadata": {},
   "outputs": [
    {
     "data": {
      "text/html": [
       "<pre>✔️ 484 ms (2021-09-24T10:09:08/2021-09-24T10:09:08)</pre>"
      ],
      "text/plain": [
       "<IPython.core.display.HTML object>"
      ]
     },
     "metadata": {},
     "output_type": "display_data"
    },
    {
     "data": {
      "image/png": "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\n",
      "text/plain": [
       "<Figure size 504x144 with 1 Axes>"
      ]
     },
     "metadata": {},
     "output_type": "display_data"
    }
   ],
   "source": [
    "df_2['h_rating'] = scaler.fit_transform(df_2[['h_rating']])\n",
    "\n",
    "plt.figure(figsize=(7,2))\n",
    "sns.histplot(data=df_2, x='h_rating')\n",
    "plt.ylabel('count')\n",
    "plt.xlabel('hours')\n",
    "plt.xticks(rotation=90)\n",
    "plt.show()"
   ]
  },
  {
   "cell_type": "code",
   "execution_count": 191,
   "metadata": {},
   "outputs": [
    {
     "data": {
      "text/html": [
       "<pre>✔️ 47 ms (2021-09-24T10:09:08/2021-09-24T10:09:08)</pre>"
      ],
      "text/plain": [
       "<IPython.core.display.HTML object>"
      ]
     },
     "metadata": {},
     "output_type": "display_data"
    },
    {
     "data": {
      "text/html": [
       "<div>\n",
       "<style scoped>\n",
       "    .dataframe tbody tr th:only-of-type {\n",
       "        vertical-align: middle;\n",
       "    }\n",
       "\n",
       "    .dataframe tbody tr th {\n",
       "        vertical-align: top;\n",
       "    }\n",
       "\n",
       "    .dataframe thead th {\n",
       "        text-align: right;\n",
       "    }\n",
       "</style>\n",
       "<table border=\"1\" class=\"dataframe\">\n",
       "  <thead>\n",
       "    <tr style=\"text-align: right;\">\n",
       "      <th></th>\n",
       "      <th>product_id</th>\n",
       "      <th>count</th>\n",
       "      <th>mean</th>\n",
       "    </tr>\n",
       "  </thead>\n",
       "  <tbody>\n",
       "    <tr>\n",
       "      <th>0</th>\n",
       "      <td>414370</td>\n",
       "      <td>3</td>\n",
       "      <td>4.4631</td>\n",
       "    </tr>\n",
       "    <tr>\n",
       "      <th>1</th>\n",
       "      <td>367430</td>\n",
       "      <td>3</td>\n",
       "      <td>4.4515</td>\n",
       "    </tr>\n",
       "    <tr>\n",
       "      <th>2</th>\n",
       "      <td>307430</td>\n",
       "      <td>3</td>\n",
       "      <td>4.4051</td>\n",
       "    </tr>\n",
       "    <tr>\n",
       "      <th>3</th>\n",
       "      <td>337890</td>\n",
       "      <td>3</td>\n",
       "      <td>4.4015</td>\n",
       "    </tr>\n",
       "    <tr>\n",
       "      <th>4</th>\n",
       "      <td>391960</td>\n",
       "      <td>3</td>\n",
       "      <td>4.3888</td>\n",
       "    </tr>\n",
       "    <tr>\n",
       "      <th>...</th>\n",
       "      <td>...</td>\n",
       "      <td>...</td>\n",
       "      <td>...</td>\n",
       "    </tr>\n",
       "    <tr>\n",
       "      <th>12660</th>\n",
       "      <td>679070</td>\n",
       "      <td>1</td>\n",
       "      <td>0.7271</td>\n",
       "    </tr>\n",
       "    <tr>\n",
       "      <th>12661</th>\n",
       "      <td>446250</td>\n",
       "      <td>1</td>\n",
       "      <td>0.7246</td>\n",
       "    </tr>\n",
       "    <tr>\n",
       "      <th>12662</th>\n",
       "      <td>661590</td>\n",
       "      <td>1</td>\n",
       "      <td>0.7216</td>\n",
       "    </tr>\n",
       "    <tr>\n",
       "      <th>12663</th>\n",
       "      <td>675720</td>\n",
       "      <td>1</td>\n",
       "      <td>0.7209</td>\n",
       "    </tr>\n",
       "    <tr>\n",
       "      <th>12664</th>\n",
       "      <td>732290</td>\n",
       "      <td>1</td>\n",
       "      <td>0.7175</td>\n",
       "    </tr>\n",
       "  </tbody>\n",
       "</table>\n",
       "<p>12665 rows × 3 columns</p>\n",
       "</div>"
      ],
      "text/plain": [
       "       product_id  count   mean\n",
       "0          414370      3 4.4631\n",
       "1          367430      3 4.4515\n",
       "2          307430      3 4.4051\n",
       "3          337890      3 4.4015\n",
       "4          391960      3 4.3888\n",
       "...           ...    ...    ...\n",
       "12660      679070      1 0.7271\n",
       "12661      446250      1 0.7246\n",
       "12662      661590      1 0.7216\n",
       "12663      675720      1 0.7209\n",
       "12664      732290      1 0.7175\n",
       "\n",
       "[12665 rows x 3 columns]"
      ]
     },
     "execution_count": 191,
     "metadata": {},
     "output_type": "execute_result"
    }
   ],
   "source": [
    "df_ratings = df_2.groupby('product_id').agg({'h_rating':['count','mean']}).reset_index()\n",
    "df_ratings.columns = ['product_id', 'count', 'mean']\n",
    "df_ratings.sort_values(by='mean', ascending=False, inplace=True)\n",
    "df_ratings.reset_index(inplace=True, drop=True)\n",
    "df_ratings"
   ]
  },
  {
   "cell_type": "code",
   "execution_count": 192,
   "metadata": {},
   "outputs": [
    {
     "data": {
      "text/html": [
       "<pre>✔️ 218 ms (2021-09-24T10:09:08/2021-09-24T10:09:09)</pre>"
      ],
      "text/plain": [
       "<IPython.core.display.HTML object>"
      ]
     },
     "metadata": {},
     "output_type": "display_data"
    },
    {
     "data": {
      "image/png": "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\n",
      "text/plain": [
       "<Figure size 504x144 with 1 Axes>"
      ]
     },
     "metadata": {},
     "output_type": "display_data"
    }
   ],
=======
   "execution_count": null,
   "metadata": {},
   "outputs": [],
>>>>>>> 55c5a7615532b040cf4e3b66125c46d15dbafcca
   "source": [
    "df_filter = df_ratings[df_ratings['count'] >= 1]\n",
    "\n",
    "plt.figure(figsize=(7,2))\n",
    "sns.histplot(data=df_filter, x='mean')\n",
    "plt.ylabel('count')\n",
    "plt.xlabel('rating')\n",
    "plt.xticks(rotation=90)\n",
    "plt.show()"
   ]
  },
  {
   "cell_type": "markdown",
   "metadata": {},
   "source": [
    "#### Dataset y Train/Test Split"
   ]
  },
  {
   "cell_type": "code",
   "execution_count": 193,
   "metadata": {},
   "outputs": [
    {
     "data": {
      "text/html": [
       "<pre>✔️ 3.38 s (2021-09-24T10:09:09/2021-09-24T10:09:12)</pre>"
      ],
      "text/plain": [
       "<IPython.core.display.HTML object>"
      ]
     },
     "metadata": {},
     "output_type": "display_data"
    }
   ],
   "source": [
    "reader = Reader()\n",
    "data = Dataset.load_from_df(df_2[['user_id', 'product_id', 'h_rating']], reader)\n",
    "trainset, testset = train_test_split(data, random_state=42, test_size=.2)"
   ]
  },
  {
   "cell_type": "markdown",
   "metadata": {},
   "source": [
    "#### Entrenamiento"
   ]
  },
  {
   "cell_type": "code",
   "execution_count": 194,
   "metadata": {},
   "outputs": [
    {
     "data": {
      "text/html": [
       "<pre>✔️ 0 ns (2021-09-24T10:09:12/2021-09-24T10:09:12)</pre>"
      ],
      "text/plain": [
       "<IPython.core.display.HTML object>"
      ]
     },
     "metadata": {},
     "output_type": "display_data"
    }
   ],
   "source": [
    "from surprise import SVD, SVDpp, SlopeOne, BaselineOnly\n",
    "algo = SVD()"
   ]
  },
  {
   "cell_type": "code",
   "execution_count": 195,
   "metadata": {},
   "outputs": [
    {
     "data": {
      "text/html": [
       "<pre>✔️ 35.9 s (2021-09-24T10:09:12/2021-09-24T10:09:48)</pre>"
      ],
      "text/plain": [
       "<IPython.core.display.HTML object>"
      ]
     },
     "metadata": {},
     "output_type": "display_data"
    },
    {
     "data": {
      "text/plain": [
       "<surprise.prediction_algorithms.matrix_factorization.SVD at 0x20c246f2490>"
      ]
     },
     "execution_count": 195,
     "metadata": {},
     "output_type": "execute_result"
    }
   ],
   "source": [
    "algo.fit(trainset)"
   ]
  },
  {
   "cell_type": "code",
   "execution_count": 196,
   "metadata": {},
   "outputs": [
    {
     "data": {
      "text/html": [
       "<pre>✔️ 968 ms (2021-09-24T10:09:48/2021-09-24T10:09:49)</pre>"
      ],
      "text/plain": [
       "<IPython.core.display.HTML object>"
      ]
     },
     "metadata": {},
     "output_type": "display_data"
    }
   ],
   "source": [
    "predictions = algo.test(testset)"
   ]
  },
  {
   "cell_type": "code",
   "execution_count": 197,
   "metadata": {},
   "outputs": [
    {
     "data": {
      "text/html": [
       "<pre>✔️ 219 ms (2021-09-24T10:09:50/2021-09-24T10:09:50)</pre>"
      ],
      "text/plain": [
       "<IPython.core.display.HTML object>"
      ]
     },
     "metadata": {},
     "output_type": "display_data"
    },
    {
     "name": "stdout",
     "output_type": "stream",
     "text": [
      "MAE:  0.8022\n",
      "RMSE: 0.9969\n"
     ]
    },
    {
     "data": {
      "text/plain": [
       "0.9969400551242307"
      ]
     },
     "execution_count": 197,
     "metadata": {},
     "output_type": "execute_result"
    }
   ],
   "source": [
    "accuracy.mae(predictions)\n",
    "accuracy.rmse(predictions)"
   ]
  },
  {
   "cell_type": "code",
   "execution_count": 198,
   "metadata": {},
   "outputs": [
    {
     "data": {
      "text/html": [
       "<pre>✔️ 5.8 s (2021-09-24T10:09:50/2021-09-24T10:09:56)</pre>"
      ],
      "text/plain": [
       "<IPython.core.display.HTML object>"
      ]
     },
     "metadata": {},
     "output_type": "display_data"
    },
    {
     "data": {
      "image/png": "iVBORw0KGgoAAAANSUhEUgAAAcEAAACoCAYAAACYN1XOAAAAOXRFWHRTb2Z0d2FyZQBNYXRwbG90bGliIHZlcnNpb24zLjQuMywgaHR0cHM6Ly9tYXRwbG90bGliLm9yZy/MnkTPAAAACXBIWXMAAAsTAAALEwEAmpwYAAAYO0lEQVR4nO3de1SUdeIG8GcGGF1vkJ6FARGp3U1yRWvLtBUUucU1EEMZM9qyi2uCHpct3FSkVAIFjhGVdtEkBVxDxEBMT0K6phvKsY7iugdURLm5KOio3Ob9/eE6K4H8ZmCYd2be53OO5zjvDC/P15nXZ967TBAEAURERBIkFzsAERGRWFiCREQkWSxBIiKSLJYgERFJFkuQiIgkiyVIRESSZS12AEObMmUKRo8eLXYMIiIyIZcvX8bx48e7Tbe4Ehw9ejTy8vLEjkFERCYkIiKix+ncHEpERJLFEiQiIsliCRIRkWRZ3D7B81fVUH36Q7/nI5fJsP3VqQZIREREpsriShAADHFJcA14XXEiIkvHzaFERCRZLEEiIpIsliAREUkWS5CIiCSLJUhERJLFEiQiIsliCRIRkWSxBImISLJYgkREJFksQSIikiyWIBERSZZRS3DPnj147rnnEBYWhqioKPz8888AgE8++QQBAQHw8/NDRkYGhP9e/LOpqQmvvvoqgoKCEBISgpMnTxozLhERWTijXUC7qqoK69evR15eHuzt7VFaWoqYmBgkJiaiuLgYeXl5sLKywoIFC/Cb3/wGQUFBSExMxFNPPYWFCxeioqICr7/+Or799lv86le/MlZsIiKyYEZbE1QoFFizZg3s7e0BABMmTMDVq1dRXFyMkJAQDBkyBIMGDUJERAQKCgrQ0dGBkpISzJkzBwDw2GOPwdXVFYcPHzZWZCIisnBGWxN0dnaGs7MzAEAQBCQlJcHb2xsNDQ3w8PDQvk6pVKK+vh7Xrl2DRqPByJEjtc85ODigrq7OWJGJiMjCGf3AmFu3bmHJkiWorq7GmjVrtPv/uoSSy6HRaHr8eSsrq4GOSEREEmHUErxy5QqioqJgZWWFbdu2YcSIEXB0dERjY6P2NfX19VAqlRg1ahQAoLm5uctzDg4OxoxMREQWzGgleP36dcyfPx/+/v5IT0/H4MGDAQA+Pj4oKCjArVu30NbWhry8PPj6+sLa2hpeXl7Izc0FAJw9exaVlZWYMmWKsSITEZGFM9o+wezsbNTW1uLAgQM4cOCAdvrWrVvh7++PyMhItLe3w8fHB+Hh4QCAhIQErFixAiEhIZDJZEhJScHw4cONFZmIiCycTOhpp5wZe2L6sxg3f3W/5yOTAdmvPdP/QEREJLqIiAjk5eV1m84rxhARkWSxBImISLJYgkREJFksQSIikiyWIBERSRZLkIiIJIslSEREksUSJCIiyWIJEhGRZLEEiYhIsliCREQkWSxBIiKSLJYgERFJls4l6OPjg+vXr3ebXl9fj2ee4d0WiIjI/PR6P8GioiKUlJQAAC5fvoyEhAQMGjSoy2uuXLkCa2uj3ZaQiIjIYHpdE5w6dSqsrKxgZWV198VyufbxvT9ubm746KOPjBKWiIjIkHpdhRs5ciSSkpIAAKNHj8Yrr7yCIUOGGCUYERHRQNN5O+bixYvR0tKCsrIydHR04Jc3pOd+QSIiMjc6l2B+fj5Wr16NO3fudHtOJpOhoqLCoMGIiIgGms4lmJ6ejjlz5iA2NhbDhg0byExERERGofMpEi0tLYiOjmYBEhGRxdC5BL29vfHtt98OZBYiIiKj0nlz6MiRI5Geno7CwkK4uLjAxsamy/MpKSkGD0dERDSQdC7BmzdvIiQkZCCzEBERGZXOJXjvfEEiIiJLoXMJbty4sdfnlyxZ0u8wRERExqRzCZaVlXV53NnZiZqaGrS0tCAwMNDgwYiIiAaaziWYlZXV4/Tk5GR0dHQYLBAREZGx9Pt+gvPmzcPu3bsNkYWIiMio+l2Chw4dwuDBgw2RhYiIyKh03hw6Y8YMyGSyLtPUajVu3ryJt99+2+DBiIiIBprOJbh06dIuj2UyGWxsbDBhwgSMHTvW0LmIiIgGnM4lOGvWLAB3T5q/ePEiOjs7MXbsWNja2g5YOCIiooGkcwm2tbUhOTkZubm56OzshCAIsLa2RnBwMN577z0oFIqBzElERGRwOh8Yk5ycjO+//x4ff/wxfvzxR/zzn/9EZmYmysvLkZ6ervMvFAQB8fHx+PzzzwHcPd9wzZo1CAgIgJ+fH7Kzs7WvvXDhAubNm4egoCA8//zzqKys1GNoREREvdO5BAsLC7F27Vp4enpi2LBhGDFiBGbMmIH33nsPBQUFOs2jsrISL730Evbt26edlpOTg4sXL+Kbb77Brl278OWXX+Knn34CAMTFxUGlUqGoqAgxMTGIjY3tdkd7IiKivtK5BAVBwEMPPdRtup2dHW7duqXTPLZv346IiIguV5g5ePAgIiIiYG1tDVtbWwQHB6OgoAD19fWoqqpCcHAwgLtHp96+fRtnzpzRNTIREVGvdC7BqVOnYsOGDbhx44Z2WktLC9LS0jBlyhSd5rFq1SqEh4d3mVZbWwtHR0ftY6VSibq6OtTW1sLe3h5y+f8iOjg4oK6uTtfIREREvdL5wJi//e1viI6OxvTp0+Hi4gIAqK6uhqurKzIzM/scoKfNm3K5HBqNpsfXW1lZ9fl3ERER3U/nEnRwcMCf//xnAEBjYyMGDRqETz/9FK+//jqcnJz6HMDR0RGNjY3ax/X19VAqlXBycsLVq1chCIL2JP17zxERERmCzptDN23ahHXr1sHa2hqvvfYaoqOjERkZidWrV2Pbtm19DuDj44Ovv/4aHR0daGlpQWFhIXx9faFUKuHi4oKioiIAwOHDhyGXy/Hoo4/2+XcRERHdT+c1wezsbKSlpcHDw0M7LTY2FpMmTUJiYiKio6P7FEClUqG6uhphYWFob2/H3Llz8fTTTwMA0tLSsHLlSnz88cdQKBTYuHFjl32ERERE/aFzCba0tHQ5gOUeZ2dnNDU16fVL33///f8FsLbGO++80+PrXF1dH3gLJyIiov7SebVq8uTJ2LhxI9RqtXaaWq1GZmYmnnzyyQEJR0RENJB0XhNcuXIlFixYAA8PD+0Fs6urq+Ho6IiPPvpowAISERENFJ1L0NnZGXv37sXRo0dRWVkJGxsbjB07Fp6entxPR0REZknnEgQAhUIBLy8veHl5DVAcIiIi4+EqHBERSZZea4JSIpMBL3x2DJp+XrBbLpNh+6tTDZSKiIgMiSXYC40goL83rdCAd70gIjJV3BxKRESSxRIkIiLJYgkSEZFksQSJiEiyWIJERCRZLEEiIpIsniIxwHi+IRGR6WIJGgHPNyQiMk3cHEpERJLFEiQiIsliCRIRkWSxBImISLJYgkREJFksQSIikiyWIBERSRZLkIiIJIslSEREksUSJCIiyWIJEhGRZPHaoWaCF+ImIjI8lqAZ4YW4iYgMiyUoMVyjJCL6H5agBHGNkojoLh4YQ0REksUSJCIiyeLmUBKdIfZRWsllEAT0ez4A93cSSQlLkPrEUAfYWMllhtlH+d95GKADub+TSEJYgtRnhiovS8YjcYlMm8nvEywpKUFoaCieffZZxMbG4ubNm2JHItLZ/Wuoff1j6V8UiMRk0muCTU1NWL58ObKzs+Hq6or169djw4YNWL16tdjRyIIZclOvKeUx5BqlKe3HNdU1ZVN7z6hnJl2CR44cgbu7O1xdXQEAKpUKYWFhSEhIgExmmP9giHpiapt6Te3cTlPaj2vofbgmta/bBPdPW1q5m3QJ1tXVQalUah8rlUrcvHkTarUaw4YNe+DPGaIf5TIZBPT/Q8j5mNd8TDGToeZjJZfhxc+PG+Q/eLlMZnHjujcvQzHEv5Eh3zNDrHUb8t/HUPr772PSJajRaHqcLpc/eFemovU6WvetH6hIRERkABFFxv19ly9f7nG6SZego6MjTp06pX1cX18PW1tbDBky5IE/c/z4cWNEIyIiC2DSR4d6eHjg1KlTuHDhAgAgJycHPj4+4oYiIiKLIRME0z7+urS0FKmpqWhvb4eLiwuSk5NhZ2cndiwiIrIAJl+CREREA8WkN4cSERENJJYgERFJFkuQiIgky2JKUK1W486dO2LHICIiM2LS5wn+f9RqNTZs2IC9e/dCrVYDAEaMGAEfHx/Ex8djxIgRIifUT3FxMQoKClBXVwcrKysolUr4+PggPDxc7GhkAVpbW3H48GHU1dVBLpdDqVTi6aef7vXqS6aqvr4e+/btQ319vXYsXl5eGDNmjNjR+qSioqLL+zJu3DixI+nNXD9fZn106NKlS+Hs7AyVSqW9vFpdXR1yc3Nx7tw5fPLJJyIn1N2HH36I48ePIyIiQjuW+vp65OXlwd3dHX/9619FTqg/S1iwAfNduO9XXl6OJUuWwNXVFQ4ODgDufr6qqqqwfv16PPPMMyIn1N3BgweRmJgIDw+PLmM5cuQI3n77bYSEhIicUHdVVVWIjY3FrVu3uiz3VlZW+OCDD+Dm5iZyQt2Y9edLMGMBAQEPfC4oKMiISfrP399faG1t7Ta9tbVV8Pf3FyFR31VWVgrBwcHCzJkzBZVKJahUKsHb21vw8/MTKioqxI6nl5MnTwqenp7Ciy++KMTFxQlxcXHCiy++KEybNk04evSo2PF0FhIS0uO/fUVFhRAaGipCor4LCAgQrly50m16bW2tEBgYKEKivouMjBRKS0u7Tf/++++F2bNni5Cob8z582XWm0NtbGxw6dKlbptAqqurYW1tXkOTy+UQelgp7+zshI2NjQiJ+i4+Ph5vvfUWpk+f3mX64cOHsWLFCuzatUukZPpbtWoVNm/e3O0b+dmzZ/HWW2+hoKBApGT60Wg0Pa5VuLm59fi5M2UymQyOjo7dpiuVyl6vK2yK1Gp1t+UEADw9PZGSkiJCor4x58+XeTXFLyxbtgxz587FxIkTtZsSGhoa8NNPP2HdunUip9NPWFgYVCoVQkJCtGNpbGzE3r178dxzz4mcTj+WsmAD5r1w38/JyQmbN29GZGQkHnroIQDAjRs3kJOTg9GjR4ucTj+PPfYYVq1ahTlz5mjLsLGxEbm5uRg/frzI6fRjZ2eHoqIiBAUFdZleVFRkVlfGMufPl1nvEwTu3nj3H//4B2prayEIAhwdHeHh4YGRI0eKHU1vpaWlOHjwoHYsTk5O8PHxgZeXl9jR9PLCCy/ghRde6HHBzs7ORlZWlkjJ9Pfaa69h8uTJPS7cJ06cMJv9zk1NTXj33XdRUlICQRC0Be7l5YWEhASMGjVK5IS6u3PnDjIyMrTLikaj0S4rMTExvV5g39RcvHgRcXFxOH/+POzt7QHcLXQXFxekp6fDxcVF5IS6MefPl9mXoKVYtmwZ0tLSUFtbi0WLFqG6uhqCIMDNzQ1paWld7qto6ixlwQbMe+HuSWdnJ65duwaNRoNRo0bByspK7EiEuweR1NXVaQv93sEl5sYcP18sQRMxa9Ys7N69G7GxsZg0aRIWLFgAANi+fTu+++47fP755yIn1J+lLNiAeS7cv9TTKTi+vr4ICwsTO5pevvjiC7zyyitoa2tDamoqDhw4ABsbGwQFBWHRokVmtw/9559/RkFBQZfTPXx9ffHUU0+JHU1n33zzDUJCQiAIArKysrq8J88//7zY8XrFEjQR90owLCwMe/bs6fJccHAwCgsLRUrWN5awYAPmvXDfz5JOwbm3rCQlJaG2thZvvPEGNBoNtm7diqFDh+Ldd98VO6LOcnJy8OWXXyI4OLjLqQVFRUWYM2cO/vSnP4kbUEf33pPMzEwcOXIEL7/8MgRBwFdffYUnn3wSS5cuFTvigxnvQFTqjZeXl1BeXi7ExMQIFy5c0E6vqakRQkJCREymv+zsbCEgIEDIyMgQdu7cKezcuVPIyMgQAgMDhS1btogdTy/h4eGCIAjChx9+KERFRQn79+8XiouLhfnz5wvp6enihtODJZ2Cc+89CQkJ6TKmjo4OsxuLv7+/0Nzc3G16c3OzWY3l3nsSGhoq3LhxQzv99u3bJj8Osz461JI8++yzeP/993HmzBm0trZi06ZN2LNnD9atW4cVK1aIHU8vW7Zswd///vduV+yJjo5GZGSk2Xy7vd/+/fuxY8cO7QnyM2bMQFhYmGl/w72PJZ2C097ejs7OTtjb26OjowMKhQIA0NHRYXabqeVyOYYPH95t+tChQ83ufQHuHu06ePBg7WOFQmHyp6uZdjoJiY+PBwC0tbWhoaEBwN3D8L/66iv87ne/EzOa3ixtwQbMc+G+X2+n4ISGhoqcTj8KhQJTp07FkCFDkJiYiOTkZJSVlSElJQUzZ84UO55epk2bhoULFyIiIkJ7ukdDQwN27dqFP/7xjyKn011tbS0CAgIgl8uRnJyMd955B//617/wwQcf4PHHHxc7Xq+4T5AMbu3ataiuru62YH/99ddwcXHB8uXLRU6ou6lTp8LOzg5yuRzTpk3TLtwZGRmwtbXF2rVrxY6os9LSUuzfvx+NjY3QaDRwdHSEj48P/vCHP8DW1lbseHq5ffs2Tpw4gfb2dsycOROHDh1CXV0dgoKCzGosGo0GOTk5XU6NcnBwgL+/P6Kiosxqzfb8+fMoLy9HZ2cnIiMjkZ+fj8rKSrz55ptdvkCaGvP5KktmY/ny5cjOzkZubm6387hUKpXY8fRy7NixLgs3cPdqMa6urli8eLHI6XR3+vRprF69Go2NjfDx8cHatWu1m3bvHdRgLk6fPo3Fixfj6tWr8Pb2xuTJk7VrgOY2luvXr+Ps2bNwd3dHQkICFixYgB9//BHNzc3w8vIy+RPN72lqasLWrVthZ2eH2bNnw9fXF1euXMGjjz6KqKgokx4H1wSJJEClUmHhwoVwd3dHUlISLl26hG3btkGhUCA8PBz5+fliR9TZvbFMmDABSUlJqKmpMduxvPnmm3BxcUFDQwPKysqwePFizJ49GwUFBdi3bx82bdokdkSdmPM4WIJkcFu2bOn1+ZdfftlISfrPUsbyyzWk2NhY2NjYIDU11eyKw5LGEhoair1796K1tRUzZszAsWPHtM+Z01qtOY+Dm0PJ4M6dO4fi4mIEBASIHaXfLGUsGo0G//nPf7RXuElOTkZUVBQyMzMhk8lETqcfSxqLIAhQq9UYOnQo1qxZo51+/fp1dHR0iJhMP2Y9DrHOzSDLFh0dLezZs0fsGAZhCWPJz88XPDw8hJKSEu20y5cvCzNnzhTGjx8vYjL9WdJYsrKyBG9vb6Gjo0M7raysTJg+fbqQnZ0tYjL9mPM4uDmUBkRlZSV27NiBlStXih2l3yxlLOfPn4dCoehykEJzczOys7OxcOFCEZPpz5LGcvr0afz+97/XPq6urkZDQ4PZXV3JXMfBEiQiIskyrztQEhERGRBLkIiIJIslSGSiampqMG7cOFy8eFHsKEQWiyVIRESSxRIkIiLJYgkSmbjvvvsOfn5+mDhxIt544w1cu3YNAFBeXg6VSoXHH38c3t7e2L59u/Zn4uPjERcX12U+48aNw9GjRwEA3t7eSElJgYeHB4KCgtDR0YGNGzfC09MT7u7umDt3LsrLy403SCKRsASJTFxeXh5SU1ORlZWFM2fOYPPmzaisrMRLL72EyZMnY/fu3YiJicH69euxb98+nedbUFCAzz77DKmpqTh06BC2b9+ODRs2oKioCOPHj0dsbCw0Gs0AjoxIfLxsGpGJi4uLw8SJEwEAgYGBOHv2LHbu3Ilx48Zh2bJlAICHH34YlZWV+OyzzxAYGKjTfENDQ+Hm5gYAOH78OKytreHk5IQxY8bgL3/5C/z9/aHRaCCX87syWS5+uolM3JgxY7R/Hz58OFpbW1FZWYlJkyZ1ed0TTzyBqqoqned7/9VWgoODMXz4cPj5+SEyMhJZWVn47W9/a1Y3DibqC5YgkYn75Y1VBUHo8SalGo1Ge8/DX15IuqeLGA8aNEj791//+tcoLCzEp59+ikmTJiE3NxezZs1CfX29IYZAZLJYgkRm6JFHHsGpU6e6TCsvL8fDDz8MALCxsYFardY+d+nSpV7nV1JSgtzcXHh6emLFihXYv38/1Go1Tpw4YfjwRCaEJUhkhubNm4dz584hLS0N58+fR35+Pnbs2IH58+cDANzd3XHs2DH88MMP+Pe//401a9ZAoVA8cH4ajQYpKSkoLi5GTU0NCgoK0NbWpt1nSGSpuMGfyAwplUps2rQJKSkp+OKLL+Dk5IT4+HhERkYCAMLCwnDy5EksWrQIw4YNQ2xsLKqrqx84P29vbyxduhQpKSloaGiAi4sLUlNT8cgjjxhrSESi4F0kiIhIsrg5lIiIJIslSEREksUSJCIiyWIJEhGRZLEEiYhIsliCREQkWSxBIiKSLJYgERFJFkuQiIgk6/8Av11Go6eKiZsAAAAASUVORK5CYII=\n",
      "text/plain": [
       "<Figure size 504x144 with 1 Axes>"
      ]
     },
     "metadata": {},
     "output_type": "display_data"
    },
    {
     "data": {
      "image/png": "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\n",
      "text/plain": [
       "<Figure size 504x144 with 1 Axes>"
      ]
     },
     "metadata": {},
     "output_type": "display_data"
    },
    {
     "data": {
      "image/png": "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\n",
      "text/plain": [
       "<Figure size 504x144 with 1 Axes>"
      ]
     },
     "metadata": {},
     "output_type": "display_data"
    },
    {
     "data": {
      "image/png": "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\n",
      "text/plain": [
       "<Figure size 504x144 with 1 Axes>"
      ]
     },
     "metadata": {},
     "output_type": "display_data"
    },
    {
     "data": {
      "image/png": "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\n",
      "text/plain": [
       "<Figure size 504x144 with 1 Axes>"
      ]
     },
     "metadata": {},
     "output_type": "display_data"
    }
   ],
   "source": [
    "# Exploremos las densidaes de distribucion de horas de los juegos con mas horas\n",
    "\n",
    "for product_id in df_hours[:5].product_id:    \n",
    "    plt.figure(figsize=(7,2))\n",
    "    sns.histplot(data=df_reviews[df_reviews.product_id==product_id], x='hours')\n",
    "    plt.ylabel('count')\n",
    "    plt.xlabel('hours')\n",
    "    plt.xlim(0,df_hours[df_hours.product_id==product_id].top.values[0])\n",
    "    plt.xticks(rotation=90)\n",
    "    plt.show()"
   ]
  },
  {
   "cell_type": "code",
   "execution_count": 199,
   "metadata": {},
   "outputs": [
    {
     "data": {
      "text/html": [
       "<pre>✔️ 859 ms (2021-09-24T10:09:56/2021-09-24T10:09:57)</pre>"
      ],
      "text/plain": [
       "<IPython.core.display.HTML object>"
      ]
     },
     "metadata": {},
     "output_type": "display_data"
    },
    {
     "data": {
      "image/png": "iVBORw0KGgoAAAANSUhEUgAAAbsAAAChCAYAAABeUxFXAAAAOXRFWHRTb2Z0d2FyZQBNYXRwbG90bGliIHZlcnNpb24zLjQuMywgaHR0cHM6Ly9tYXRwbG90bGliLm9yZy/MnkTPAAAACXBIWXMAAAsTAAALEwEAmpwYAAARqklEQVR4nO3deVDU9ePH8RfLOYZgdriLCHaN1oR2ZxOmw6qJaChFSuNo5VTaGPmzmrBDbcQDBBzHKE3t0EzpQMFQyA5tuuyiY8q0oQIPXOmwTRxC2P394bjfIa8Vlv3sfnw+ZpxhP5/l42vXnX35eb8/R4jb7XYLAAATsxgdAACAzkbZAQBMj7IDAJgeZQcAMD3KDgBgepQdAMD0wowO0F433nijevbsaXQMAECA2Lt3r7Zv337CdUFbdj179lRpaanRMQAAASIjI+Ok6xjGBACYHmUHADA9yg4AYHpBO2e339mk/yupNjqGV3rERCkn9XKjYwDAWStoy+5Iq1v1fzcZHQMAEAQYxgQAmB5l5wchIUYnAICzW9AOYwaT86MjtWDzDjmcwTPsyjwjADOh7PzE4WxijhEADMIwJgDA9Cg7AIDpUXYAANOj7AAApkfZAQBMj7IDAJgeZQcAMD3KDgBgen4tu7KyMt12221KT0/XuHHj9P3330uSli5dquHDh2vo0KFasmSJ3G63P2MBAEzOb1dQ+eWXX7Rw4UKVlpbqwgsv1LZt2/TQQw/pmWeeUWVlpUpLSxUaGqpJkybpkksu0YgRI/wVDQBgcn7bs4uIiFBubq4uvPBCSdKVV16p33//XZWVlRo5cqS6dOmiyMhIZWRkqLy83F+xAABnAb/t2cXHxys+Pl6S5Ha7NX/+fKWkpOjAgQNKTk72PM9qtcrhcPgrFgDgLOD3A1QOHz6shx9+WHV1dcrNzT3h/JzFwnEzAADf8Wur7Nu3T+PGjVNoaKhWrVqlmJgY2Ww2NTQ0eJ7jcDhktVr9GQsAYHJ+K7uDBw9q/PjxGjZsmBYtWqSoqChJkt1uV3l5uQ4fPqzm5maVlpZqyJAh/ooFADgL+G3Obu3ataqvr9eWLVu0ZcsWz/KXX35Zw4YNU2Zmpo4cOSK73a7Ro0f7KxYA4Czgt7KbMmWKpkyZcsJ1kydP1uTJk/0VBQBwluFIEACA6VF2AADTo+xwQiEhRicAAN/x25wdgsv50ZFasHmHHM4mo6N4rUdMlHJSLzc6BoAARNnhpBzOJtX/HTxlBwAnwzAmAMD0KDsAgOlRdgAA06PsAACmR9kBAEyPsgMAmB5lBwAwPa/Lzm636+DBg8ctdzgcuummm3yZCQAAnzrlSeWbNm3S1q1bJUl79+7VrFmzFBkZ2eY5+/btU1gY56YDAALXKffsBgwYoNDQUIWGhh59ssXieXzsT9++ffXcc8/5JSwAAO1xyl2y7t27a/78+ZKknj176t5771WXLl38EgwAAF/xevxx6tSpcjqd+vLLL9XS0iK3291mPfN2AIBA5XXZbdiwQbNnz1ZT0/EXBg4JCdGOHTt8GgwAAF/xuuwWLVqkO++8U9nZ2YqOju7MTAAA+JTXpx44nU5NmDCBogMABB2vyy4lJUXvvPNOZ2YBAKBTeD2M2b17dy1atEgVFRVKSEhQeHh4m/X5+fk+DwcAgC94XXaHDh3SyJEjOzMLAACdwuuyO3a+HRCoQkKMTgAgUHlddosXLz7l+ocffrjDYYCOOD86Ugs275DDefzpMYGoR0yUclIvNzoGcFbwuuy+/PLLNo9bW1u1Z88eOZ1Opaam+jwY0B4OZ5Pq/w6OsgPgP16X3erVq0+4PC8vTy0tLT4LBACAr3X4fnZ33XWX1q9f74ssAAB0ig6X3QcffKCoqChfZAEAoFN4PYw5aNAghfzncLfGxkYdOnRIjz/+uM+DAQDgK16X3bRp09o8DgkJUXh4uK688kolJib6OhcAAD7jddmNGTNG0tGTy2tra9Xa2qrExETFxsZ2WjgAAHzB67Jrbm5WXl6eSkpK1NraKrfbrbCwMKWlpWnOnDmKiIjozJwAALSb1weo5OXl6cMPP9Tzzz+vL774Qp9//rmKi4tVXV2tRYsWdWZGAAA6xOuyq6io0Ny5czVw4EBFR0crJiZGgwYN0pw5c1ReXu71X+h2u5WTk6OVK1dKOnpyem5uroYPH66hQ4dq7dq1Z/4qAAA4Ba/Lzu1269xzzz1uebdu3XT48GGvtlFTU6OJEydq8+bNnmXr1q1TbW2t3n77bb355pt65ZVX9N1333kbCwCA0/K67AYMGKCCggL9888/nmVOp1NFRUW68cYbvdrGmjVrlJGR0ebyYu+++64yMjIUFham2NhYpaWlndGeIgAAp+P1ASpPPPGEJkyYoFtuuUUJCQmSpLq6OvXu3VvFxcVebWPmzJmSpM8++8yzrL6+XjabzfPYarVq586d3sYCAOC0vC67Hj16aMqUKZKkhoYGRUZGavny5br//vsVFxfX7gBut/u4ZRZLhy/sAgCAh9dlt2zZMq1cuVIzZ87UfffdJ0k6ePCgZs+erYaGBk2YMKFdAWw2mxoaGjyPHQ6HrFZru7YFAMCJeL0LtXbtWhUVFbW5W3l2drby8/P18ssvtzuA3W7XW2+9pZaWFjmdTlVUVGjIkCHt3h4AAP/l9Z6d0+lsM7d2THx8vP788892B8jKylJdXZ3S09N15MgRjR07VjfccEO7twcAwH95XXbXX3+9Fi9erPnz5+ucc86RdPRC0MXFxbr22mvP6C9dsGDB/wKEhenJJ588o98HAOBMeF12Tz/9tCZNmqTk5GTPhZ/r6upks9n03HPPdVpAAAA6yuuyi4+P18aNG/XJJ5+opqZG4eHhSkxM1MCBAzl6EgAQ0LwuO0mKiIjQ4MGDNXjw4E6KAwCA77FLBgAwPcoOAGB6lB0AwPQoOwCA6VF2AADTo+wAAKZH2QEATI+yAwCYHmUHADA9yg4AYHqUHQDA9Cg7AIDpUXYAANOj7AAApkfZAQBMj7IDAJgeZQcAMD3KDgBgepQdAMD0KDsAgOlRdgAA06PsAACmR9kBAEyPsgMAmB5lBwAwPcoOAGB6YUYHAAAEvwWbd8jhbDI6xklRdgCADnM4m1T/d+CWHcOYAADTo+wAg4SEGJ0AOHswjAkY5PzoyICf5/ivHjFRykm93OgYphdsn4vLbTFGRzitgCi7rVu3qrCwUM3NzerTp4/mzZun6Ohoo2MBnS7Q5zlgjGD7XFzQNdLoCKdl+DDmn3/+qRkzZmjJkiWqqqpSr169VFBQYHQsAICJGL5n99FHHykpKUm9e/eWJGVlZSk9PV2zZs1SyCkmNcJDQ2SLjfJTyo45PzpSliCboCFz5wu2vNLRYUx0vmB7nwPls1x7inWGl93+/ftltVo9j61Wqw4dOqTGxsZTDmW2/vOHakvm+CNih53qHyBQkbnzBVte6WjmjOVGp0CgCZTP8t69e0+6zvCyc7lcJ1xusZx6hHX79u2dEQcAYEKGz9nZbDY1NDR4HjscDsXGxqpLly4GpgIAmInhZZecnKxvv/1Wv/32myRp3bp1stvtxoYCAJhKiNvtdhsdYtu2bSosLNSRI0eUkJCgvLw8devWzehYAACTCIiyAwCgMxk+jAkAQGej7AAApkfZAQBML6jKrrGxUU1NwXO9uEC3d+9eORwOo2MAQKcz/KTy02lsbFRBQYE2btyoxsZGSVJMTIzsdrtycnIUExP4V9sOFNOnT1dRUZHq6+v14IMPqq6uTm63W3379lVRUVGbK9kACE6VlZUqLy/X/v37FRoaKqvVKrvdrtGjRxsdzVABfzTmtGnTFB8fr6ysLM+X8f79+1VSUqJdu3Zp6dKlBicMHmPGjNH69euVnZ2t/v37a9KkSZKkNWvW6P3339fKlSsNThh8vv/+e5WXl8vhcMhischqtWrIkCG67rrrjI4WVN5++22NHDlSLpdLr776qrZs2aLw8HCNGDFCd9xxh9Hxgsazzz6r7du3KyMjw/N96XA4VFpaqqSkJD322GMGJzROwJddamqqNm/efMJ1aWlpqqio8HOi4HWs7NLT01VWVtZmHe/lmVu3bp1eeeUVpaWlqUePHpKOfrFs2rRJd955p+6++25jAwaRY5/N4uJiffTRR7rnnnvkdrv16quv6tprr9W0adOMjhgUbr31Vm3cuFERERFtljc3N2vUqFGqqqoyKJnxAn4YMzw8XLt371avXr3aLK+rq1NYWMDHDygHDx7UN998o8TERNXW1ioxMVHS0bm7012LFMd76aWX9MYbbxw3lD5hwgRlZmZSdu1QVVWl1157zXMR+EGDBik9PZ2y85LFYtGJ9l9aW1sVHh5uQKLAEfBtMX36dI0dO1b9+vXz7JYfOHBA3333nebNm2dwuuBy6623asGCBfrxxx/177//atmyZSorK9O8efP01FNPGR0v6FgsFnXt2vW45eecc85Z/8XSXt26dVNU1P9ubxMREcF/as9Aenq6srKyNHLkSM/3ZUNDgzZu3KhRo0YZnM5YAT+MKR29wevHH3+s+vp6ud1u2Ww2JScnq3v37kZHC0rNzc06cOCA4uPjtXPnTlksFl122WVGxwo6c+fOVV1dnTIyMmSz2SQd/Y/YW2+9pYSEBM2YMcPghMFjwIAB6tatmywWi26++WY9+eST2rlzp5YsWaLY2FjNnTvX6IhBY9u2baqqqlJDQ4NcLpdsNpvsdruuueYaxcbGGh3PMEFRdkAgcrlcWrt2rd577z3V19fL5XIpLi5OdrtdWVlZCg0NNTpiUPn1119VXV2t1tZWZWZmqqysTD///LOmTp3aZm8PJ/fDDz9o6tSpamhokN1u19y5cz1DwsfmRc9WlB0AmERWVpYmT56spKQkzZ8/X7t379aqVasUERGh0aNHa8OGDUZHNAyD4UA7vfTSS6dcf8899/gpSfDjvfSNpqYmDRo0SJK0cOFCZWdna8aMGSosLDQ4mfEoO6Cddu3apcrKSg0fPtzoKEGP99I3XC6X/vjjD5133nmSpLy8PI0bN07FxcUKCQkxOJ2xGMYEOmDixIm6/fbbddtttxkdJejxXnZcWVmZCgoKlJub69nD27dvn8aPHy+Hw6EffvjB4ITG4eQqoANmzpypb7/91ugYpsB72XHp6elatWqVLr30Us+yuLg4rV+/Xg899JCByYzHnh0AwPTYswMAmB5lBwAwPcoOMNCePXvUp08f1dbWGh0FMDXKDgBgepQdAMD0KDsgALz//vsaOnSo+vXrpwceeEB//fWXJKm6ulpZWVm66qqrlJKSojVr1nh+JycnR48++mib7fTp00effPKJJCklJUX5+flKTk7WiBEj1NLSosWLF2vgwIFKSkrS2LFjVV1d7b8XCRiIsgMCQGlpqQoLC7V69Wr9+OOPeuGFF1RTU6OJEyfq+uuv95wntXDhwpPezPhEysvLtWLFChUWFuqDDz7QmjVrVFBQoE2bNumKK65Qdna2XC5XJ74yIDBwuTAgADz66KPq16+fJCk1NVU//fSTXn/9dfXp00fTp0+XJF100UWqqanRihUrlJqa6tV2R40apb59+0qStm/frrCwMMXFxalXr1565JFHNGzYMLlcLm7eC9PjEw4EgF69enl+7tq1q/7991/V1NSof//+bZ539dVX65dffvF6uz179vT8nJaWpq5du2ro0KHKzMzU6tWrdemll3JzVJwVKDsgAPz33ndut/uE93BzuVxqbW2VpOMu7NvS0nLc8yMjIz0/X3DBBaqoqNDy5cvVv39/lZSUaMyYMXI4HL54CUBAo+yAAHXxxRcfd63I6upqXXTRRZKk8PBwNTY2etbt3r37lNvbunWrSkpKNHDgQD311FOqqqpSY2OjvvrqK9+HBwIMZQcEqLvuuku7du1SUVGRfv31V23YsEGvvfaaxo8fL0lKSkrSZ599pk8//VQ///yzcnNzFRERcdLtuVwu5efnq7KyUnv27FF5ebmam5s9c3qAmTFYDwQoq9WqZcuWKT8/Xy+++KLi4uKUk5OjzMxMSUevcP/111/rwQcfVHR0tLKzs1VXV3fS7aWkpGjatGnKz8/XgQMHlJCQoMLCQl188cX+ekmAYbjrAQDA9BjGBACYHmUHADA9yg4AYHqUHQDA9Cg7AIDpUXYAANOj7AAApkfZAQBMj7IDAJje/wOA9RoDSzleIQAAAABJRU5ErkJggg==\n",
      "text/plain": [
       "<Figure size 504x144 with 1 Axes>"
      ]
     },
     "metadata": {},
     "output_type": "display_data"
    },
    {
     "data": {
      "image/png": "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\n",
      "text/plain": [
       "<Figure size 504x144 with 1 Axes>"
      ]
     },
     "metadata": {},
     "output_type": "display_data"
    },
    {
     "data": {
      "image/png": "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\n",
      "text/plain": [
       "<Figure size 504x144 with 1 Axes>"
      ]
     },
     "metadata": {},
     "output_type": "display_data"
    },
    {
     "data": {
      "image/png": "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\n",
      "text/plain": [
       "<Figure size 504x144 with 1 Axes>"
      ]
     },
     "metadata": {},
     "output_type": "display_data"
    },
    {
     "data": {
      "image/png": "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\n",
      "text/plain": [
       "<Figure size 504x144 with 1 Axes>"
      ]
     },
     "metadata": {},
     "output_type": "display_data"
    }
   ],
   "source": [
    "for product_id in df_hours[1500:1505].product_id:    \n",
    "    plt.figure(figsize=(7,2))\n",
    "    sns.histplot(data=df_reviews[df_reviews.product_id==product_id], x='hours')\n",
    "    plt.ylabel('count')\n",
    "    plt.xlabel('hours')\n",
    "    plt.xlim(0,df_hours[df_hours.product_id==product_id].top.values[0])\n",
    "    plt.xticks(rotation=90)\n",
    "    plt.show()"
   ]
  },
  {
   "cell_type": "code",
   "execution_count": null,
   "metadata": {},
   "outputs": [],
   "source": []
  },
  {
   "cell_type": "code",
   "execution_count": null,
   "metadata": {},
   "outputs": [],
   "source": []
  }
 ],
 "metadata": {
  "celltoolbar": "Attachments",
  "colab": {
   "collapsed_sections": [],
   "name": "Copy of DS_Proyecto_03_SR.ipynb",
   "provenance": [
    {
     "file_id": "1byeX_htRp3NqV08X3eLlWIp02cnPb_WP",
     "timestamp": 1627943542515
    }
   ]
  },
  "kernelspec": {
   "display_name": "Python 3",
   "language": "python",
   "name": "python3"
  },
  "language_info": {
   "codemirror_mode": {
    "name": "ipython",
    "version": 3
   },
   "file_extension": ".py",
   "mimetype": "text/x-python",
   "name": "python",
   "nbconvert_exporter": "python",
   "pygments_lexer": "ipython3",
   "version": "3.9.2"
  },
  "toc-autonumbering": false,
  "toc-showcode": false,
  "toc-showmarkdowntxt": false,
  "toc-showtags": false
 },
 "nbformat": 4,
 "nbformat_minor": 4
}
