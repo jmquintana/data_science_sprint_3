{
 "cells": [
  {
   "cell_type": "markdown",
   "metadata": {
    "id": "gzJLet17WTzh"
   },
   "source": [
    "# Proyecto 03 - Sistemas de Recomendación\n",
    "\n",
    "## Dataset: STEAM\n",
    "\n",
    "**Recuerda descargar el dataset de [aquí](https://github.com/kang205/SASRec). Son dos archivos, uno de calificaciones y otro de información sobre los juegos.**\n",
    "\n",
    "En este notebook te dejamos unas celdas para que puedas comenzar a trabajar con este dataset. Sin embargo, **deberás** modificarlas para hacer un mejor manejo de datos. Algunas cosas a las que deberás prestar atención (tal vez no a todas):\n",
    "1. Tipos de datos: elige tipos de datos apropiados para cada columna.\n",
    "2. Descartar columnas poco informativas.\n",
    "3. Guardar en memoria datasets preprocesados para no tener que repetir código que tarde en correr.\n",
    "\n",
    "### Exploración de datos\n",
    "\n",
    "Dedícale un buen tiempo a hacer un Análisis Exploratorio de Datos. Elige preguntas que creas que puedas responder con este dataset. Por ejemplo, ¿cuáles son los juegos más populares?¿Y los menos populares?\n",
    "\n",
    "### Filtro Colaborativo\n",
    "\n",
    "Deberás implementar un sistema de recomendación colaborativo para este dataset. Ten en cuenta:\n",
    "\n",
    "1. Haz todas las transformaciones de datos que consideres necesarias. Justifica.\n",
    "1. Evalúa de forma apropiada sus resultados. Justifica la métrica elegida.\n",
    "1. Elige un modelo benchmark y compara tus resultados con este modelo.\n",
    "1. Optimiza los hiperparámetros de tu modelo.\n",
    "\n",
    "Puedes implementar un filtro colaborativo a partir de la similitud coseno o índice de Jaccard. ¿Puedes utilizar los métodos de la librería Surprise? Si no es así, busca implementaciones (por ejemplo, nuevas librerías) que sean apropiadas.\n",
    "\n",
    "Para comenzar a trabajar, puedes asumir que cada entrada es un enlace entre una persona usuaria y un item, **independientemente** de si la crítica es buena o mala. \n",
    "\n",
    "### Para pensar, investigar y, opcionalmente, implementar\n",
    "1. ¿Cómo harías para ponerle un valor a la calificación?\n",
    "1. ¿Cómo harías para agregar contenido? Por ejemplo, cuentas con el género, precio, fecha de lanzamiento y más información de los juegos.\n",
    "1. ¿Hay algo que te gustaría investigar o probar?\n",
    "\n",
    "### **¡Tómate tiempo para investigar y leer mucho!**"
   ]
  },
  {
   "cell_type": "code",
<<<<<<< HEAD
   "execution_count": 2,
=======
   "execution_count": 4,
>>>>>>> 8fc0c4141e975876075e6bd418e426caf195b73e
   "metadata": {},
   "outputs": [],
   "source": [
    "# Importamos las librerías que vamos a necesitar\n",
    "import numpy as np\n",
    "import pandas as pd\n",
    "import matplotlib.pyplot as plt\n",
    "import matplotlib.ticker as ticker\n",
    "import seaborn as sns\n",
    "from tqdm.notebook import tqdm\n",
    "import gzip\n",
    "from langdetect import detect\n",
    "from textblob import TextBlob\n",
    "from wordcloud import WordCloud\n",
    "import re\n",
    "from nltk.tokenize import RegexpTokenizer\n",
    "from nltk.stem import PorterStemmer\n",
    "from nltk.corpus import stopwords"
   ]
  },
  {
   "cell_type": "code",
<<<<<<< HEAD
   "execution_count": 52,
   "metadata": {},
   "outputs": [
    {
     "name": "stdout",
     "output_type": "stream",
     "text": [
      "time: 0 ns (started: 2021-09-07 20:05:44 -03:00)\n"
     ]
    }
   ],
   "source": [
    "# Le doy formato a los gráficos\n",
    "# sns.set_style(\"darkgrid\")\n",
    "sns.set_style(\"white\")\n",
=======
   "execution_count": 5,
   "metadata": {},
   "outputs": [],
   "source": [
    "# Le doy formato a los gráficos\n",
    "sns.set_style(\"darkgrid\")\n",
>>>>>>> 8fc0c4141e975876075e6bd418e426caf195b73e
    "plt.rc('font', size=10)\n",
    "plt.rc('axes', titlesize=16)\n",
    "plt.rc('figure', titlesize=16)\n",
    "plt.rc('axes', labelsize=14) \n",
    "plt.rc('xtick', labelsize=12) \n",
    "plt.rc('ytick', labelsize=12) "
   ]
  },
  {
   "cell_type": "code",
<<<<<<< HEAD
   "execution_count": 4,
=======
   "execution_count": 26,
>>>>>>> 8fc0c4141e975876075e6bd418e426caf195b73e
   "metadata": {},
   "outputs": [
    {
     "data": {
      "text/html": [
       "<style>.container { width:100% !important; }</style>"
      ],
      "text/plain": [
       "<IPython.core.display.HTML object>"
      ]
     },
     "metadata": {},
     "output_type": "display_data"
    },
    {
     "name": "stdout",
     "output_type": "stream",
     "text": [
<<<<<<< HEAD
      "time: 0 ns (started: 2021-09-07 19:57:11 -03:00)\n"
=======
      "The autotime extension is already loaded. To reload it, use:\n",
      "  %reload_ext autotime\n",
      "time: 0 ns (started: 2021-08-22 20:42:29 -03:00)\n"
>>>>>>> 8fc0c4141e975876075e6bd418e426caf195b73e
     ]
    }
   ],
   "source": [
    "#Seteamos para que no utilice notacion cientifica\n",
    "pd.options.display.float_format = '{:.4f}'.format\n",
    "#Seteo para que el máximo de columnas que muestra al levantar una base sean 500\n",
    "pd.set_option('display.max_columns',500)\n",
    "#Estos códigos hacen que la visualización de la consola abarque toda la pantalla (sin los recortes a los costados). Tambien hacen que al mostrar dataframes podamos ver todas las columnas que tiene.\n",
    "from IPython.core.display import display, HTML\n",
    "display(HTML(\"<style>.container { width:100% !important; }</style>\"))\n",
    "# Instanciamos método para ver el progreso de las operaciones sobre sobre los dataframes\n",
    "tqdm.pandas()\n",
    "# Indicador de tiempo de ejecución\n",
    "%load_ext autotime"
   ]
  },
  {
   "cell_type": "code",
<<<<<<< HEAD
   "execution_count": 5,
=======
   "execution_count": 77,
>>>>>>> 8fc0c4141e975876075e6bd418e426caf195b73e
   "metadata": {},
   "outputs": [
    {
     "name": "stdout",
     "output_type": "stream",
     "text": [
<<<<<<< HEAD
      "time: 0 ns (started: 2021-09-07 19:57:11 -03:00)\n"
=======
      "time: 0 ns (started: 2021-08-22 21:14:03 -03:00)\n"
>>>>>>> 8fc0c4141e975876075e6bd418e426caf195b73e
     ]
    }
   ],
   "source": [
    "# Definimos si queres procesar el dataset crudo\n",
    "READ_RAW = False\n",
<<<<<<< HEAD
    "DETECT_LANG = False\n",
    "GET_SUBJECTIVITY = False\n",
    "GET_POLARITY = False"
=======
    "DETECT_LANG = True"
>>>>>>> 8fc0c4141e975876075e6bd418e426caf195b73e
   ]
  },
  {
   "cell_type": "code",
<<<<<<< HEAD
   "execution_count": 6,
=======
   "execution_count": 23,
>>>>>>> 8fc0c4141e975876075e6bd418e426caf195b73e
   "metadata": {
    "id": "lWZhtUxEWTzj"
   },
   "outputs": [
    {
     "name": "stdout",
     "output_type": "stream",
     "text": [
<<<<<<< HEAD
      "time: 0 ns (started: 2021-09-07 19:57:11 -03:00)\n"
=======
      "time: 0 ns (started: 2021-08-22 20:42:08 -03:00)\n"
>>>>>>> 8fc0c4141e975876075e6bd418e426caf195b73e
     ]
    }
   ],
   "source": [
    "def parse(path):\n",
    "    g = gzip.open(path, 'r')\n",
    "    for l in g:\n",
    "        yield eval(l)"
   ]
  },
  {
   "cell_type": "markdown",
   "metadata": {
    "id": "BmEM25k4WTzw"
   },
   "source": [
    "**Reviews**"
   ]
  },
  {
   "cell_type": "code",
<<<<<<< HEAD
   "execution_count": 7,
=======
   "execution_count": 6,
>>>>>>> 8fc0c4141e975876075e6bd418e426caf195b73e
   "metadata": {
    "id": "abAXItn1WTz0"
   },
   "outputs": [
    {
<<<<<<< HEAD
     "name": "stdout",
     "output_type": "stream",
     "text": [
      "time: 0 ns (started: 2021-09-07 19:57:11 -03:00)\n"
=======
     "data": {
      "application/vnd.jupyter.widget-view+json": {
       "model_id": "8c473c32831a4e20a65aa8541f4f9e8c",
       "version_major": 2,
       "version_minor": 0
      },
      "text/plain": [
       "0it [00:00, ?it/s]"
      ]
     },
     "metadata": {},
     "output_type": "display_data"
    },
    {
     "name": "stdout",
     "output_type": "stream",
     "text": [
      "time: 8min 47s (started: 2021-08-21 21:58:45 -03:00)\n"
>>>>>>> 8fc0c4141e975876075e6bd418e426caf195b73e
     ]
    }
   ],
   "source": [
    "if READ_RAW:\n",
    "    contador = 0\n",
    "    data_reviews = []\n",
    "    # Vamos a guardar una de cada 10 reviews para no llenar la memoria RAM. Si pones n = 3, \n",
    "    # abrira uno de cada tres, y asi.\n",
    "    n = 10\n",
    "    for l in tqdm(parse('steam_reviews.json.gz')):\n",
    "        if contador%n == 0:\n",
    "            data_reviews.append(l)\n",
    "        else:\n",
    "            pass\n",
    "        contador += 1\n",
    "    data_reviews = pd.DataFrame(data_reviews)"
   ]
  },
  {
   "cell_type": "code",
<<<<<<< HEAD
   "execution_count": 8,
=======
   "execution_count": 18,
>>>>>>> 8fc0c4141e975876075e6bd418e426caf195b73e
   "metadata": {},
   "outputs": [
    {
     "name": "stdout",
     "output_type": "stream",
     "text": [
<<<<<<< HEAD
      "time: 7.27 s (started: 2021-09-07 19:57:11 -03:00)\n"
=======
      "time: 7.58 s (started: 2021-08-22 20:41:42 -03:00)\n"
>>>>>>> 8fc0c4141e975876075e6bd418e426caf195b73e
     ]
    }
   ],
   "source": [
    "if READ_RAW:\n",
    "    data_reviews.to_csv('data_reviews.csv', index_label='index')\n",
    "else:\n",
    "    data_reviews = pd.read_csv('data_reviews.csv')\n",
    "    data_reviews.drop(columns='index', inplace=True)"
   ]
  },
  {
   "cell_type": "code",
<<<<<<< HEAD
   "execution_count": 9,
=======
   "execution_count": 19,
>>>>>>> 8fc0c4141e975876075e6bd418e426caf195b73e
   "metadata": {
    "id": "j24F0ZaYWT0E"
   },
   "outputs": [
    {
     "data": {
      "text/html": [
       "<div>\n",
       "<style scoped>\n",
       "    .dataframe tbody tr th:only-of-type {\n",
       "        vertical-align: middle;\n",
       "    }\n",
       "\n",
       "    .dataframe tbody tr th {\n",
       "        vertical-align: top;\n",
       "    }\n",
       "\n",
       "    .dataframe thead th {\n",
       "        text-align: right;\n",
       "    }\n",
       "</style>\n",
       "<table border=\"1\" class=\"dataframe\">\n",
       "  <thead>\n",
       "    <tr style=\"text-align: right;\">\n",
       "      <th></th>\n",
       "      <th>username</th>\n",
       "      <th>hours</th>\n",
       "      <th>products</th>\n",
       "      <th>product_id</th>\n",
       "      <th>page_order</th>\n",
       "      <th>date</th>\n",
       "      <th>text</th>\n",
       "      <th>early_access</th>\n",
       "      <th>page</th>\n",
       "      <th>user_id</th>\n",
       "      <th>compensation</th>\n",
       "      <th>found_funny</th>\n",
       "    </tr>\n",
       "  </thead>\n",
       "  <tbody>\n",
       "    <tr>\n",
       "      <th>0</th>\n",
       "      <td>Chaos Syren</td>\n",
       "      <td>0.1000</td>\n",
       "      <td>41.0000</td>\n",
       "      <td>725280</td>\n",
       "      <td>0</td>\n",
       "      <td>2017-12-17</td>\n",
       "      <td>This would not be acceptable as an entertainme...</td>\n",
       "      <td>False</td>\n",
       "      <td>1</td>\n",
       "      <td>NaN</td>\n",
       "      <td>NaN</td>\n",
       "      <td>NaN</td>\n",
       "    </tr>\n",
       "    <tr>\n",
       "      <th>1</th>\n",
       "      <td>Ariman1</td>\n",
       "      <td>13.2000</td>\n",
       "      <td>1386.0000</td>\n",
       "      <td>328100</td>\n",
       "      <td>2</td>\n",
       "      <td>2017-08-02</td>\n",
       "      <td>Addictive RPG ! Works fine on linux though it ...</td>\n",
       "      <td>False</td>\n",
       "      <td>1</td>\n",
       "      <td>NaN</td>\n",
       "      <td>NaN</td>\n",
       "      <td>NaN</td>\n",
       "    </tr>\n",
       "    <tr>\n",
       "      <th>2</th>\n",
       "      <td>freakfantom</td>\n",
       "      <td>0.1000</td>\n",
       "      <td>1706.0000</td>\n",
       "      <td>725280</td>\n",
       "      <td>5</td>\n",
       "      <td>2017-11-12</td>\n",
       "      <td>Прикольная стрелялка. Взял дешево на распродаже.</td>\n",
       "      <td>False</td>\n",
       "      <td>1</td>\n",
       "      <td>NaN</td>\n",
       "      <td>NaN</td>\n",
       "      <td>NaN</td>\n",
       "    </tr>\n",
       "    <tr>\n",
       "      <th>3</th>\n",
       "      <td>The_Cpt_FROGGY</td>\n",
       "      <td>7.8000</td>\n",
       "      <td>2217.0000</td>\n",
       "      <td>631920</td>\n",
       "      <td>0</td>\n",
       "      <td>2017-12-11</td>\n",
       "      <td>Somewhere on Zibylon:\\n~~~~~~~~~~~~~~~~~~\\nZib...</td>\n",
       "      <td>False</td>\n",
       "      <td>1</td>\n",
       "      <td>76561198003030368.0000</td>\n",
       "      <td>Product received for free</td>\n",
       "      <td>NaN</td>\n",
       "    </tr>\n",
       "    <tr>\n",
       "      <th>4</th>\n",
       "      <td>the_maker988</td>\n",
       "      <td>8.2000</td>\n",
       "      <td>18.0000</td>\n",
       "      <td>35140</td>\n",
       "      <td>7</td>\n",
       "      <td>2018-01-02</td>\n",
       "      <td>This game was way to linear for me, and compar...</td>\n",
       "      <td>False</td>\n",
       "      <td>1</td>\n",
       "      <td>76561198353396848.0000</td>\n",
       "      <td>NaN</td>\n",
       "      <td>NaN</td>\n",
       "    </tr>\n",
       "    <tr>\n",
       "      <th>5</th>\n",
       "      <td>Szudof</td>\n",
       "      <td>0.2000</td>\n",
       "      <td>155.0000</td>\n",
       "      <td>288690</td>\n",
       "      <td>0</td>\n",
       "      <td>2016-08-31</td>\n",
       "      <td>&lt;23:32:55&gt; \"Pit\": Hello, my name is dominik di...</td>\n",
       "      <td>False</td>\n",
       "      <td>1</td>\n",
       "      <td>NaN</td>\n",
       "      <td>Product received for free</td>\n",
       "      <td>3.0000</td>\n",
       "    </tr>\n",
       "    <tr>\n",
       "      <th>6</th>\n",
       "      <td>Vonder</td>\n",
       "      <td>2.7000</td>\n",
       "      <td>264.0000</td>\n",
       "      <td>35600</td>\n",
       "      <td>3</td>\n",
       "      <td>2017-04-15</td>\n",
       "      <td>I like the art style and the idea but what a b...</td>\n",
       "      <td>False</td>\n",
       "      <td>1</td>\n",
       "      <td>76561198113497328.0000</td>\n",
       "      <td>NaN</td>\n",
       "      <td>NaN</td>\n",
       "    </tr>\n",
       "    <tr>\n",
       "      <th>7</th>\n",
       "      <td>LucaFox</td>\n",
       "      <td>4.0000</td>\n",
       "      <td>136.0000</td>\n",
       "      <td>620900</td>\n",
       "      <td>3</td>\n",
       "      <td>2017-09-11</td>\n",
       "      <td>Very, very good game. I love dungeon crawlers,...</td>\n",
       "      <td>False</td>\n",
       "      <td>1</td>\n",
       "      <td>76561198146674480.0000</td>\n",
       "      <td>NaN</td>\n",
       "      <td>1.0000</td>\n",
       "    </tr>\n",
       "    <tr>\n",
       "      <th>8</th>\n",
       "      <td>rampage1209</td>\n",
       "      <td>34.8000</td>\n",
       "      <td>3.0000</td>\n",
       "      <td>1840</td>\n",
       "      <td>4</td>\n",
       "      <td>2018-01-04</td>\n",
       "      <td>WAY PAST COOL</td>\n",
       "      <td>False</td>\n",
       "      <td>1</td>\n",
       "      <td>76561198080474368.0000</td>\n",
       "      <td>NaN</td>\n",
       "      <td>NaN</td>\n",
       "    </tr>\n",
       "    <tr>\n",
       "      <th>9</th>\n",
       "      <td>Devil Azite</td>\n",
       "      <td>0.1000</td>\n",
       "      <td>548.0000</td>\n",
       "      <td>671270</td>\n",
       "      <td>5</td>\n",
       "      <td>2017-07-09</td>\n",
       "      <td>Putting a hat on your head has disasterous rep...</td>\n",
       "      <td>False</td>\n",
       "      <td>1</td>\n",
       "      <td>NaN</td>\n",
       "      <td>Product received for free</td>\n",
       "      <td>1.0000</td>\n",
       "    </tr>\n",
       "    <tr>\n",
       "      <th>10</th>\n",
       "      <td>MrNinjaSquirrel</td>\n",
       "      <td>1.2000</td>\n",
       "      <td>1720.0000</td>\n",
       "      <td>288690</td>\n",
       "      <td>2</td>\n",
       "      <td>2014-12-17</td>\n",
       "      <td>\"It's like Sudoku, but as a ball!\"\\nI have to ...</td>\n",
       "      <td>False</td>\n",
       "      <td>1</td>\n",
       "      <td>NaN</td>\n",
       "      <td>NaN</td>\n",
       "      <td>NaN</td>\n",
       "    </tr>\n",
       "    <tr>\n",
       "      <th>11</th>\n",
       "      <td>Puddle</td>\n",
       "      <td>1.2000</td>\n",
       "      <td>511.0000</td>\n",
       "      <td>308040</td>\n",
       "      <td>5</td>\n",
       "      <td>2017-12-30</td>\n",
       "      <td>IF THIS GAME IS NOT ON SALE DO NOT PURCHASE!!!...</td>\n",
       "      <td>False</td>\n",
       "      <td>1</td>\n",
       "      <td>76561197991103056.0000</td>\n",
       "      <td>NaN</td>\n",
       "      <td>NaN</td>\n",
       "    </tr>\n",
       "    <tr>\n",
       "      <th>12</th>\n",
       "      <td>JKDarkseid</td>\n",
       "      <td>3.0000</td>\n",
       "      <td>468.0000</td>\n",
       "      <td>302390</td>\n",
       "      <td>4</td>\n",
       "      <td>2016-12-02</td>\n",
       "      <td>I want to recommend this as a little point and...</td>\n",
       "      <td>False</td>\n",
       "      <td>1</td>\n",
       "      <td>NaN</td>\n",
       "      <td>NaN</td>\n",
       "      <td>NaN</td>\n",
       "    </tr>\n",
       "    <tr>\n",
       "      <th>13</th>\n",
       "      <td>Sir Dan the Super Chivalrous</td>\n",
       "      <td>27.0000</td>\n",
       "      <td>16.0000</td>\n",
       "      <td>506510</td>\n",
       "      <td>5</td>\n",
       "      <td>2017-12-19</td>\n",
       "      <td>is more than a love letter to SNES era RPGS. T...</td>\n",
       "      <td>False</td>\n",
       "      <td>1</td>\n",
       "      <td>NaN</td>\n",
       "      <td>NaN</td>\n",
       "      <td>NaN</td>\n",
       "    </tr>\n",
       "    <tr>\n",
       "      <th>14</th>\n",
       "      <td>tehwave</td>\n",
       "      <td>0.1000</td>\n",
       "      <td>424.0000</td>\n",
       "      <td>671270</td>\n",
       "      <td>8</td>\n",
       "      <td>2017-07-05</td>\n",
       "      <td>Queen Elizabeth said that I'd like it, and she...</td>\n",
       "      <td>False</td>\n",
       "      <td>1</td>\n",
       "      <td>NaN</td>\n",
       "      <td>Product received for free</td>\n",
       "      <td>3.0000</td>\n",
       "    </tr>\n",
       "    <tr>\n",
       "      <th>15</th>\n",
       "      <td>Hanzo</td>\n",
       "      <td>0.2000</td>\n",
       "      <td>531.0000</td>\n",
       "      <td>8880</td>\n",
       "      <td>6</td>\n",
       "      <td>2017-09-09</td>\n",
       "      <td>Freidom force is game made in late 70s by some...</td>\n",
       "      <td>False</td>\n",
       "      <td>1</td>\n",
       "      <td>NaN</td>\n",
       "      <td>NaN</td>\n",
       "      <td>3.0000</td>\n",
       "    </tr>\n",
       "    <tr>\n",
       "      <th>16</th>\n",
       "      <td>Harry</td>\n",
       "      <td>0.4000</td>\n",
       "      <td>353.0000</td>\n",
       "      <td>302390</td>\n",
       "      <td>7</td>\n",
       "      <td>2016-02-09</td>\n",
       "      <td>Be afraid!\\nBe very afraid...\\nWhy?\\nWell, cer...</td>\n",
       "      <td>False</td>\n",
       "      <td>1</td>\n",
       "      <td>76561198080323680.0000</td>\n",
       "      <td>NaN</td>\n",
       "      <td>8.0000</td>\n",
       "    </tr>\n",
       "    <tr>\n",
       "      <th>17</th>\n",
       "      <td>Erenussocrates</td>\n",
       "      <td>1.3000</td>\n",
       "      <td>853.0000</td>\n",
       "      <td>363520</td>\n",
       "      <td>8</td>\n",
       "      <td>2017-08-28</td>\n",
       "      <td>It was dull, and worse than my expectations.</td>\n",
       "      <td>False</td>\n",
       "      <td>1</td>\n",
       "      <td>76561198060601872.0000</td>\n",
       "      <td>NaN</td>\n",
       "      <td>NaN</td>\n",
       "    </tr>\n",
       "    <tr>\n",
       "      <th>18</th>\n",
       "      <td>MLGarbage</td>\n",
       "      <td>9.5000</td>\n",
       "      <td>38.0000</td>\n",
       "      <td>35140</td>\n",
       "      <td>1</td>\n",
       "      <td>2018-01-02</td>\n",
       "      <td>Fun Game. I played shadow of mordor before pla...</td>\n",
       "      <td>False</td>\n",
       "      <td>2</td>\n",
       "      <td>76561198292325104.0000</td>\n",
       "      <td>NaN</td>\n",
       "      <td>NaN</td>\n",
       "    </tr>\n",
       "    <tr>\n",
       "      <th>19</th>\n",
       "      <td>dll3z</td>\n",
       "      <td>0.4000</td>\n",
       "      <td>314.0000</td>\n",
       "      <td>328100</td>\n",
       "      <td>5</td>\n",
       "      <td>2017-03-07</td>\n",
       "      <td>do not buy this game</td>\n",
       "      <td>False</td>\n",
       "      <td>2</td>\n",
       "      <td>NaN</td>\n",
       "      <td>NaN</td>\n",
       "      <td>NaN</td>\n",
       "    </tr>\n",
       "  </tbody>\n",
       "</table>\n",
       "</div>"
      ],
      "text/plain": [
       "                        username   hours  products  product_id  page_order  \\\n",
       "0                    Chaos Syren  0.1000   41.0000      725280           0   \n",
       "1                        Ariman1 13.2000 1386.0000      328100           2   \n",
       "2                    freakfantom  0.1000 1706.0000      725280           5   \n",
       "3                 The_Cpt_FROGGY  7.8000 2217.0000      631920           0   \n",
       "4                   the_maker988  8.2000   18.0000       35140           7   \n",
       "5                         Szudof  0.2000  155.0000      288690           0   \n",
       "6                         Vonder  2.7000  264.0000       35600           3   \n",
       "7                        LucaFox  4.0000  136.0000      620900           3   \n",
       "8                    rampage1209 34.8000    3.0000        1840           4   \n",
       "9                    Devil Azite  0.1000  548.0000      671270           5   \n",
       "10               MrNinjaSquirrel  1.2000 1720.0000      288690           2   \n",
       "11                        Puddle  1.2000  511.0000      308040           5   \n",
       "12                    JKDarkseid  3.0000  468.0000      302390           4   \n",
       "13  Sir Dan the Super Chivalrous 27.0000   16.0000      506510           5   \n",
       "14                       tehwave  0.1000  424.0000      671270           8   \n",
       "15                         Hanzo  0.2000  531.0000        8880           6   \n",
       "16                         Harry  0.4000  353.0000      302390           7   \n",
       "17                Erenussocrates  1.3000  853.0000      363520           8   \n",
       "18                     MLGarbage  9.5000   38.0000       35140           1   \n",
       "19                         dll3z  0.4000  314.0000      328100           5   \n",
       "\n",
       "          date                                               text  \\\n",
       "0   2017-12-17  This would not be acceptable as an entertainme...   \n",
       "1   2017-08-02  Addictive RPG ! Works fine on linux though it ...   \n",
       "2   2017-11-12   Прикольная стрелялка. Взял дешево на распродаже.   \n",
       "3   2017-12-11  Somewhere on Zibylon:\\n~~~~~~~~~~~~~~~~~~\\nZib...   \n",
       "4   2018-01-02  This game was way to linear for me, and compar...   \n",
       "5   2016-08-31  <23:32:55> \"Pit\": Hello, my name is dominik di...   \n",
       "6   2017-04-15  I like the art style and the idea but what a b...   \n",
       "7   2017-09-11  Very, very good game. I love dungeon crawlers,...   \n",
       "8   2018-01-04                                      WAY PAST COOL   \n",
       "9   2017-07-09  Putting a hat on your head has disasterous rep...   \n",
       "10  2014-12-17  \"It's like Sudoku, but as a ball!\"\\nI have to ...   \n",
       "11  2017-12-30  IF THIS GAME IS NOT ON SALE DO NOT PURCHASE!!!...   \n",
       "12  2016-12-02  I want to recommend this as a little point and...   \n",
       "13  2017-12-19  is more than a love letter to SNES era RPGS. T...   \n",
       "14  2017-07-05  Queen Elizabeth said that I'd like it, and she...   \n",
       "15  2017-09-09  Freidom force is game made in late 70s by some...   \n",
       "16  2016-02-09  Be afraid!\\nBe very afraid...\\nWhy?\\nWell, cer...   \n",
       "17  2017-08-28       It was dull, and worse than my expectations.   \n",
       "18  2018-01-02  Fun Game. I played shadow of mordor before pla...   \n",
       "19  2017-03-07                               do not buy this game   \n",
       "\n",
       "    early_access  page                user_id               compensation  \\\n",
       "0          False     1                    NaN                        NaN   \n",
       "1          False     1                    NaN                        NaN   \n",
       "2          False     1                    NaN                        NaN   \n",
       "3          False     1 76561198003030368.0000  Product received for free   \n",
       "4          False     1 76561198353396848.0000                        NaN   \n",
       "5          False     1                    NaN  Product received for free   \n",
       "6          False     1 76561198113497328.0000                        NaN   \n",
       "7          False     1 76561198146674480.0000                        NaN   \n",
       "8          False     1 76561198080474368.0000                        NaN   \n",
       "9          False     1                    NaN  Product received for free   \n",
       "10         False     1                    NaN                        NaN   \n",
       "11         False     1 76561197991103056.0000                        NaN   \n",
       "12         False     1                    NaN                        NaN   \n",
       "13         False     1                    NaN                        NaN   \n",
       "14         False     1                    NaN  Product received for free   \n",
       "15         False     1                    NaN                        NaN   \n",
       "16         False     1 76561198080323680.0000                        NaN   \n",
       "17         False     1 76561198060601872.0000                        NaN   \n",
       "18         False     2 76561198292325104.0000                        NaN   \n",
       "19         False     2                    NaN                        NaN   \n",
       "\n",
       "    found_funny  \n",
       "0           NaN  \n",
       "1           NaN  \n",
       "2           NaN  \n",
       "3           NaN  \n",
       "4           NaN  \n",
       "5        3.0000  \n",
       "6           NaN  \n",
       "7        1.0000  \n",
       "8           NaN  \n",
       "9        1.0000  \n",
       "10          NaN  \n",
       "11          NaN  \n",
       "12          NaN  \n",
       "13          NaN  \n",
       "14       3.0000  \n",
       "15       3.0000  \n",
       "16       8.0000  \n",
       "17          NaN  \n",
       "18          NaN  \n",
       "19          NaN  "
      ]
     },
<<<<<<< HEAD
     "execution_count": 9,
=======
     "execution_count": 19,
>>>>>>> 8fc0c4141e975876075e6bd418e426caf195b73e
     "metadata": {},
     "output_type": "execute_result"
    },
    {
     "name": "stdout",
     "output_type": "stream",
     "text": [
<<<<<<< HEAD
      "time: 78 ms (started: 2021-09-07 19:57:18 -03:00)\n"
=======
      "time: 16 ms (started: 2021-08-22 20:41:49 -03:00)\n"
>>>>>>> 8fc0c4141e975876075e6bd418e426caf195b73e
     ]
    }
   ],
   "source": [
    "data_reviews.head(20)"
   ]
  },
  {
   "cell_type": "code",
<<<<<<< HEAD
   "execution_count": 10,
=======
   "execution_count": 37,
>>>>>>> 8fc0c4141e975876075e6bd418e426caf195b73e
   "metadata": {
    "id": "8F-EVRZ4WT0L"
   },
   "outputs": [
    {
     "data": {
      "text/plain": [
       "username            18\n",
<<<<<<< HEAD
       "hours             2637\n",
       "products          1566\n",
       "product_id           0\n",
       "page_order           0\n",
       "date                 0\n",
       "text              1839\n",
       "early_access         0\n",
       "page                 0\n",
       "user_id         461967\n",
       "compensation    764719\n",
       "found_funny     659143\n",
       "dtype: int64"
      ]
     },
     "execution_count": 10,
=======
       "hours             2625\n",
       "products          1564\n",
       "product_id           0\n",
       "page_order           0\n",
       "date                 0\n",
       "text                 0\n",
       "early_access         0\n",
       "page                 0\n",
       "user_id         460624\n",
       "compensation    762923\n",
       "found_funny     657709\n",
       "dtype: int64"
      ]
     },
     "execution_count": 37,
>>>>>>> 8fc0c4141e975876075e6bd418e426caf195b73e
     "metadata": {},
     "output_type": "execute_result"
    },
    {
     "name": "stdout",
     "output_type": "stream",
     "text": [
<<<<<<< HEAD
      "time: 187 ms (started: 2021-09-07 19:57:18 -03:00)\n"
=======
      "time: 203 ms (started: 2021-08-22 20:54:33 -03:00)\n"
>>>>>>> 8fc0c4141e975876075e6bd418e426caf195b73e
     ]
    }
   ],
   "source": [
    "data_reviews.isna().sum()"
   ]
  },
  {
   "cell_type": "code",
<<<<<<< HEAD
   "execution_count": 11,
=======
   "execution_count": 36,
>>>>>>> 8fc0c4141e975876075e6bd418e426caf195b73e
   "metadata": {},
   "outputs": [
    {
     "name": "stdout",
     "output_type": "stream",
     "text": [
<<<<<<< HEAD
      "time: 203 ms (started: 2021-09-07 19:57:19 -03:00)\n"
=======
      "time: 235 ms (started: 2021-08-22 20:54:29 -03:00)\n"
>>>>>>> 8fc0c4141e975876075e6bd418e426caf195b73e
     ]
    }
   ],
   "source": [
    "data_reviews.dropna(subset=['text'], axis=0, inplace=True)"
   ]
  },
  {
   "cell_type": "code",
<<<<<<< HEAD
   "execution_count": 12,
=======
   "execution_count": 38,
>>>>>>> 8fc0c4141e975876075e6bd418e426caf195b73e
   "metadata": {},
   "outputs": [
    {
     "data": {
      "text/plain": [
       "username            18\n",
       "hours             2625\n",
       "products          1564\n",
       "product_id           0\n",
       "page_order           0\n",
       "date                 0\n",
       "text                 0\n",
       "early_access         0\n",
       "page                 0\n",
       "user_id         460624\n",
       "compensation    762923\n",
       "found_funny     657709\n",
       "dtype: int64"
      ]
     },
<<<<<<< HEAD
     "execution_count": 12,
=======
     "execution_count": 38,
>>>>>>> 8fc0c4141e975876075e6bd418e426caf195b73e
     "metadata": {},
     "output_type": "execute_result"
    },
    {
     "name": "stdout",
     "output_type": "stream",
     "text": [
<<<<<<< HEAD
      "time: 172 ms (started: 2021-09-07 19:57:19 -03:00)\n"
=======
      "time: 171 ms (started: 2021-08-22 20:54:44 -03:00)\n"
>>>>>>> 8fc0c4141e975876075e6bd418e426caf195b73e
     ]
    }
   ],
   "source": [
    "data_reviews.isna().sum()"
   ]
  },
  {
   "cell_type": "markdown",
   "metadata": {
    "id": "04ed3teRWT0T"
   },
   "source": [
    "**Games**"
   ]
  },
  {
   "cell_type": "code",
<<<<<<< HEAD
   "execution_count": 13,
=======
   "execution_count": 24,
>>>>>>> 8fc0c4141e975876075e6bd418e426caf195b73e
   "metadata": {
    "id": "8wRb24Y5WT0U"
   },
   "outputs": [
    {
     "name": "stdout",
     "output_type": "stream",
     "text": [
<<<<<<< HEAD
      "time: 3.12 s (started: 2021-09-07 19:57:19 -03:00)\n"
=======
      "time: 3.34 s (started: 2021-08-22 20:42:12 -03:00)\n"
>>>>>>> 8fc0c4141e975876075e6bd418e426caf195b73e
     ]
    }
   ],
   "source": [
    "data_games = []\n",
    "for l in parse('steam_games.json.gz'):\n",
    "    data_games.append(l)\n",
    "data_games = pd.DataFrame(data_games)"
   ]
  },
  {
   "cell_type": "code",
<<<<<<< HEAD
   "execution_count": 14,
=======
   "execution_count": 25,
>>>>>>> 8fc0c4141e975876075e6bd418e426caf195b73e
   "metadata": {
    "id": "sVR0Cs6SWT0b"
   },
   "outputs": [
    {
     "data": {
      "text/html": [
       "<div>\n",
       "<style scoped>\n",
       "    .dataframe tbody tr th:only-of-type {\n",
       "        vertical-align: middle;\n",
       "    }\n",
       "\n",
       "    .dataframe tbody tr th {\n",
       "        vertical-align: top;\n",
       "    }\n",
       "\n",
       "    .dataframe thead th {\n",
       "        text-align: right;\n",
       "    }\n",
       "</style>\n",
       "<table border=\"1\" class=\"dataframe\">\n",
       "  <thead>\n",
       "    <tr style=\"text-align: right;\">\n",
       "      <th></th>\n",
       "      <th>publisher</th>\n",
       "      <th>genres</th>\n",
       "      <th>app_name</th>\n",
       "      <th>title</th>\n",
       "      <th>url</th>\n",
       "      <th>release_date</th>\n",
       "      <th>tags</th>\n",
       "      <th>discount_price</th>\n",
       "      <th>reviews_url</th>\n",
       "      <th>specs</th>\n",
       "      <th>price</th>\n",
       "      <th>early_access</th>\n",
       "      <th>id</th>\n",
       "      <th>developer</th>\n",
       "      <th>sentiment</th>\n",
       "      <th>metascore</th>\n",
       "    </tr>\n",
       "  </thead>\n",
       "  <tbody>\n",
       "    <tr>\n",
       "      <th>0</th>\n",
       "      <td>Kotoshiro</td>\n",
       "      <td>[Action, Casual, Indie, Simulation, Strategy]</td>\n",
       "      <td>Lost Summoner Kitty</td>\n",
       "      <td>Lost Summoner Kitty</td>\n",
       "      <td>http://store.steampowered.com/app/761140/Lost_...</td>\n",
       "      <td>2018-01-04</td>\n",
       "      <td>[Strategy, Action, Indie, Casual, Simulation]</td>\n",
       "      <td>4.4900</td>\n",
       "      <td>http://steamcommunity.com/app/761140/reviews/?...</td>\n",
       "      <td>[Single-player]</td>\n",
       "      <td>4.9900</td>\n",
       "      <td>False</td>\n",
       "      <td>761140</td>\n",
       "      <td>Kotoshiro</td>\n",
       "      <td>NaN</td>\n",
       "      <td>NaN</td>\n",
       "    </tr>\n",
       "    <tr>\n",
       "      <th>1</th>\n",
       "      <td>Making Fun, Inc.</td>\n",
       "      <td>[Free to Play, Indie, RPG, Strategy]</td>\n",
       "      <td>Ironbound</td>\n",
       "      <td>Ironbound</td>\n",
       "      <td>http://store.steampowered.com/app/643980/Ironb...</td>\n",
       "      <td>2018-01-04</td>\n",
       "      <td>[Free to Play, Strategy, Indie, RPG, Card Game...</td>\n",
       "      <td>NaN</td>\n",
       "      <td>http://steamcommunity.com/app/643980/reviews/?...</td>\n",
       "      <td>[Single-player, Multi-player, Online Multi-Pla...</td>\n",
       "      <td>Free To Play</td>\n",
       "      <td>False</td>\n",
       "      <td>643980</td>\n",
       "      <td>Secret Level SRL</td>\n",
       "      <td>Mostly Positive</td>\n",
       "      <td>NaN</td>\n",
       "    </tr>\n",
       "    <tr>\n",
       "      <th>2</th>\n",
       "      <td>Poolians.com</td>\n",
       "      <td>[Casual, Free to Play, Indie, Simulation, Sports]</td>\n",
       "      <td>Real Pool 3D - Poolians</td>\n",
       "      <td>Real Pool 3D - Poolians</td>\n",
       "      <td>http://store.steampowered.com/app/670290/Real_...</td>\n",
       "      <td>2017-07-24</td>\n",
       "      <td>[Free to Play, Simulation, Sports, Casual, Ind...</td>\n",
       "      <td>NaN</td>\n",
       "      <td>http://steamcommunity.com/app/670290/reviews/?...</td>\n",
       "      <td>[Single-player, Multi-player, Online Multi-Pla...</td>\n",
       "      <td>Free to Play</td>\n",
       "      <td>False</td>\n",
       "      <td>670290</td>\n",
       "      <td>Poolians.com</td>\n",
       "      <td>Mostly Positive</td>\n",
       "      <td>NaN</td>\n",
       "    </tr>\n",
       "    <tr>\n",
       "      <th>3</th>\n",
       "      <td>彼岸领域</td>\n",
       "      <td>[Action, Adventure, Casual]</td>\n",
       "      <td>弹炸人2222</td>\n",
       "      <td>弹炸人2222</td>\n",
       "      <td>http://store.steampowered.com/app/767400/2222/</td>\n",
       "      <td>2017-12-07</td>\n",
       "      <td>[Action, Adventure, Casual]</td>\n",
       "      <td>0.8300</td>\n",
       "      <td>http://steamcommunity.com/app/767400/reviews/?...</td>\n",
       "      <td>[Single-player]</td>\n",
       "      <td>0.9900</td>\n",
       "      <td>False</td>\n",
       "      <td>767400</td>\n",
       "      <td>彼岸领域</td>\n",
       "      <td>NaN</td>\n",
       "      <td>NaN</td>\n",
       "    </tr>\n",
       "    <tr>\n",
       "      <th>4</th>\n",
       "      <td>NaN</td>\n",
       "      <td>NaN</td>\n",
       "      <td>Log Challenge</td>\n",
       "      <td>NaN</td>\n",
       "      <td>http://store.steampowered.com/app/773570/Log_C...</td>\n",
       "      <td>NaN</td>\n",
       "      <td>[Action, Indie, Casual, Sports]</td>\n",
       "      <td>1.7900</td>\n",
       "      <td>http://steamcommunity.com/app/773570/reviews/?...</td>\n",
       "      <td>[Single-player, Full controller support, HTC V...</td>\n",
       "      <td>2.9900</td>\n",
       "      <td>False</td>\n",
       "      <td>773570</td>\n",
       "      <td>NaN</td>\n",
       "      <td>NaN</td>\n",
       "      <td>NaN</td>\n",
       "    </tr>\n",
       "  </tbody>\n",
       "</table>\n",
       "</div>"
      ],
      "text/plain": [
       "          publisher                                             genres  \\\n",
       "0         Kotoshiro      [Action, Casual, Indie, Simulation, Strategy]   \n",
       "1  Making Fun, Inc.               [Free to Play, Indie, RPG, Strategy]   \n",
       "2      Poolians.com  [Casual, Free to Play, Indie, Simulation, Sports]   \n",
       "3              彼岸领域                        [Action, Adventure, Casual]   \n",
       "4               NaN                                                NaN   \n",
       "\n",
       "                  app_name                    title  \\\n",
       "0      Lost Summoner Kitty      Lost Summoner Kitty   \n",
       "1                Ironbound                Ironbound   \n",
       "2  Real Pool 3D - Poolians  Real Pool 3D - Poolians   \n",
       "3                  弹炸人2222                  弹炸人2222   \n",
       "4            Log Challenge                      NaN   \n",
       "\n",
       "                                                 url release_date  \\\n",
       "0  http://store.steampowered.com/app/761140/Lost_...   2018-01-04   \n",
       "1  http://store.steampowered.com/app/643980/Ironb...   2018-01-04   \n",
       "2  http://store.steampowered.com/app/670290/Real_...   2017-07-24   \n",
       "3     http://store.steampowered.com/app/767400/2222/   2017-12-07   \n",
       "4  http://store.steampowered.com/app/773570/Log_C...          NaN   \n",
       "\n",
       "                                                tags  discount_price  \\\n",
       "0      [Strategy, Action, Indie, Casual, Simulation]          4.4900   \n",
       "1  [Free to Play, Strategy, Indie, RPG, Card Game...             NaN   \n",
       "2  [Free to Play, Simulation, Sports, Casual, Ind...             NaN   \n",
       "3                        [Action, Adventure, Casual]          0.8300   \n",
       "4                    [Action, Indie, Casual, Sports]          1.7900   \n",
       "\n",
       "                                         reviews_url  \\\n",
       "0  http://steamcommunity.com/app/761140/reviews/?...   \n",
       "1  http://steamcommunity.com/app/643980/reviews/?...   \n",
       "2  http://steamcommunity.com/app/670290/reviews/?...   \n",
       "3  http://steamcommunity.com/app/767400/reviews/?...   \n",
       "4  http://steamcommunity.com/app/773570/reviews/?...   \n",
       "\n",
       "                                               specs         price  \\\n",
       "0                                    [Single-player]        4.9900   \n",
       "1  [Single-player, Multi-player, Online Multi-Pla...  Free To Play   \n",
       "2  [Single-player, Multi-player, Online Multi-Pla...  Free to Play   \n",
       "3                                    [Single-player]        0.9900   \n",
       "4  [Single-player, Full controller support, HTC V...        2.9900   \n",
       "\n",
       "   early_access      id         developer        sentiment metascore  \n",
       "0         False  761140         Kotoshiro              NaN       NaN  \n",
       "1         False  643980  Secret Level SRL  Mostly Positive       NaN  \n",
       "2         False  670290      Poolians.com  Mostly Positive       NaN  \n",
       "3         False  767400              彼岸领域              NaN       NaN  \n",
       "4         False  773570               NaN              NaN       NaN  "
      ]
     },
<<<<<<< HEAD
     "execution_count": 14,
=======
     "execution_count": 25,
>>>>>>> 8fc0c4141e975876075e6bd418e426caf195b73e
     "metadata": {},
     "output_type": "execute_result"
    },
    {
     "name": "stdout",
     "output_type": "stream",
     "text": [
<<<<<<< HEAD
      "time: 15 ms (started: 2021-09-07 19:57:22 -03:00)\n"
=======
      "time: 16 ms (started: 2021-08-22 20:42:16 -03:00)\n"
>>>>>>> 8fc0c4141e975876075e6bd418e426caf195b73e
     ]
    }
   ],
   "source": [
    "data_games.head()"
   ]
  },
  {
   "cell_type": "markdown",
   "metadata": {},
   "source": [
    "Vamos a reducir las columnas de *'data_reviews'*"
   ]
  },
  {
   "cell_type": "code",
<<<<<<< HEAD
   "execution_count": 15,
=======
   "execution_count": 39,
>>>>>>> 8fc0c4141e975876075e6bd418e426caf195b73e
   "metadata": {},
   "outputs": [
    {
     "data": {
      "text/plain": [
       "Index(['username', 'hours', 'products', 'product_id', 'page_order', 'date',\n",
       "       'text', 'early_access', 'page', 'user_id', 'compensation',\n",
       "       'found_funny'],\n",
       "      dtype='object')"
      ]
     },
<<<<<<< HEAD
     "execution_count": 15,
=======
     "execution_count": 39,
>>>>>>> 8fc0c4141e975876075e6bd418e426caf195b73e
     "metadata": {},
     "output_type": "execute_result"
    },
    {
     "name": "stdout",
     "output_type": "stream",
     "text": [
<<<<<<< HEAD
      "time: 0 ns (started: 2021-09-07 19:57:22 -03:00)\n"
=======
      "time: 0 ns (started: 2021-08-22 20:55:09 -03:00)\n"
>>>>>>> 8fc0c4141e975876075e6bd418e426caf195b73e
     ]
    }
   ],
   "source": [
    "data_reviews.columns"
   ]
  },
  {
   "cell_type": "code",
<<<<<<< HEAD
   "execution_count": 16,
=======
   "execution_count": 72,
>>>>>>> 8fc0c4141e975876075e6bd418e426caf195b73e
   "metadata": {},
   "outputs": [
    {
     "data": {
      "text/html": [
       "<div>\n",
       "<style scoped>\n",
       "    .dataframe tbody tr th:only-of-type {\n",
       "        vertical-align: middle;\n",
       "    }\n",
       "\n",
       "    .dataframe tbody tr th {\n",
       "        vertical-align: top;\n",
       "    }\n",
       "\n",
       "    .dataframe thead th {\n",
       "        text-align: right;\n",
       "    }\n",
       "</style>\n",
       "<table border=\"1\" class=\"dataframe\">\n",
       "  <thead>\n",
       "    <tr style=\"text-align: right;\">\n",
       "      <th></th>\n",
       "      <th>username</th>\n",
       "      <th>product_id</th>\n",
       "      <th>text</th>\n",
       "      <th>found_funny</th>\n",
       "      <th>hours</th>\n",
       "    </tr>\n",
       "  </thead>\n",
       "  <tbody>\n",
       "    <tr>\n",
       "      <th>0</th>\n",
       "      <td>Chaos Syren</td>\n",
       "      <td>725280</td>\n",
       "      <td>This would not be acceptable as an entertainme...</td>\n",
       "      <td>NaN</td>\n",
       "      <td>0.1000</td>\n",
       "    </tr>\n",
       "    <tr>\n",
       "      <th>1</th>\n",
       "      <td>Ariman1</td>\n",
       "      <td>328100</td>\n",
       "      <td>Addictive RPG ! Works fine on linux though it ...</td>\n",
       "      <td>NaN</td>\n",
       "      <td>13.2000</td>\n",
       "    </tr>\n",
       "    <tr>\n",
       "      <th>2</th>\n",
       "      <td>freakfantom</td>\n",
       "      <td>725280</td>\n",
       "      <td>Прикольная стрелялка. Взял дешево на распродаже.</td>\n",
       "      <td>NaN</td>\n",
       "      <td>0.1000</td>\n",
       "    </tr>\n",
       "    <tr>\n",
       "      <th>3</th>\n",
       "      <td>The_Cpt_FROGGY</td>\n",
       "      <td>631920</td>\n",
       "      <td>Somewhere on Zibylon:\\n~~~~~~~~~~~~~~~~~~\\nZib...</td>\n",
       "      <td>NaN</td>\n",
       "      <td>7.8000</td>\n",
       "    </tr>\n",
       "    <tr>\n",
       "      <th>4</th>\n",
       "      <td>the_maker988</td>\n",
       "      <td>35140</td>\n",
       "      <td>This game was way to linear for me, and compar...</td>\n",
       "      <td>NaN</td>\n",
       "      <td>8.2000</td>\n",
       "    </tr>\n",
       "  </tbody>\n",
       "</table>\n",
       "</div>"
      ],
      "text/plain": [
       "         username  product_id  \\\n",
       "0     Chaos Syren      725280   \n",
       "1         Ariman1      328100   \n",
       "2     freakfantom      725280   \n",
       "3  The_Cpt_FROGGY      631920   \n",
       "4    the_maker988       35140   \n",
       "\n",
       "                                                text  found_funny   hours  \n",
       "0  This would not be acceptable as an entertainme...          NaN  0.1000  \n",
       "1  Addictive RPG ! Works fine on linux though it ...          NaN 13.2000  \n",
       "2   Прикольная стрелялка. Взял дешево на распродаже.          NaN  0.1000  \n",
       "3  Somewhere on Zibylon:\\n~~~~~~~~~~~~~~~~~~\\nZib...          NaN  7.8000  \n",
       "4  This game was way to linear for me, and compar...          NaN  8.2000  "
      ]
     },
<<<<<<< HEAD
     "execution_count": 16,
=======
     "execution_count": 72,
>>>>>>> 8fc0c4141e975876075e6bd418e426caf195b73e
     "metadata": {},
     "output_type": "execute_result"
    },
    {
     "name": "stdout",
     "output_type": "stream",
     "text": [
<<<<<<< HEAD
      "time: 47 ms (started: 2021-09-07 19:57:22 -03:00)\n"
=======
      "time: 47 ms (started: 2021-08-22 21:11:59 -03:00)\n"
>>>>>>> 8fc0c4141e975876075e6bd418e426caf195b73e
     ]
    }
   ],
   "source": [
    "df_reviews = data_reviews[['username', 'product_id', 'text', 'found_funny', 'hours']]\n",
    "df_reviews.head()"
   ]
  },
  {
   "cell_type": "code",
<<<<<<< HEAD
   "execution_count": 17,
=======
   "execution_count": 73,
>>>>>>> 8fc0c4141e975876075e6bd418e426caf195b73e
   "metadata": {},
   "outputs": [
    {
     "name": "stdout",
     "output_type": "stream",
     "text": [
<<<<<<< HEAD
      "time: 0 ns (started: 2021-09-07 19:57:22 -03:00)\n"
=======
      "time: 0 ns (started: 2021-08-22 21:11:59 -03:00)\n"
>>>>>>> 8fc0c4141e975876075e6bd418e426caf195b73e
     ]
    }
   ],
   "source": [
    "# Creamos método para eliminar los caracteres que no sean letras\n",
    "def cleanText(text):\n",
    "    # Vamos a reemplzar los caracteres que no sean letras por espacios\n",
    "    text = re.sub(\"[^A-Za-z]\",\" \",str(text))\n",
    "    return text"
   ]
  },
  {
   "cell_type": "code",
<<<<<<< HEAD
   "execution_count": 18,
=======
   "execution_count": 74,
>>>>>>> 8fc0c4141e975876075e6bd418e426caf195b73e
   "metadata": {},
   "outputs": [
    {
     "data": {
      "application/vnd.jupyter.widget-view+json": {
<<<<<<< HEAD
       "model_id": "8602fc0bb58241b5b7588a890987bcdf",
=======
       "model_id": "ff9a68170fff46259bd27855be8521c8",
>>>>>>> 8fc0c4141e975876075e6bd418e426caf195b73e
       "version_major": 2,
       "version_minor": 0
      },
      "text/plain": [
       "  0%|          | 0/777468 [00:00<?, ?it/s]"
      ]
     },
     "metadata": {},
     "output_type": "display_data"
    },
    {
     "name": "stdout",
     "output_type": "stream",
     "text": [
<<<<<<< HEAD
      "time: 24.8 s (started: 2021-09-07 19:57:22 -03:00)\n"
=======
      "time: 23.8 s (started: 2021-08-22 21:12:00 -03:00)\n"
>>>>>>> 8fc0c4141e975876075e6bd418e426caf195b73e
     ]
    },
    {
     "name": "stderr",
     "output_type": "stream",
     "text": [
<<<<<<< HEAD
      "C:\\Users\\elmai\\AppData\\Local\\Temp/ipykernel_9780/3370166507.py:2: SettingWithCopyWarning: \n",
=======
      "C:\\Users\\elmai\\AppData\\Local\\Temp/ipykernel_32/3662698852.py:1: SettingWithCopyWarning: \n",
>>>>>>> 8fc0c4141e975876075e6bd418e426caf195b73e
      "A value is trying to be set on a copy of a slice from a DataFrame.\n",
      "Try using .loc[row_indexer,col_indexer] = value instead\n",
      "\n",
      "See the caveats in the documentation: https://pandas.pydata.org/pandas-docs/stable/user_guide/indexing.html#returning-a-view-versus-a-copy\n",
      "  df_reviews['text'] = df_reviews['text'].progress_apply(cleanText)\n"
     ]
    }
   ],
   "source": [
    "# Aplicamos el método a la columna de texto\n",
    "df_reviews['text'] = df_reviews['text'].progress_apply(cleanText)"
   ]
  },
  {
   "cell_type": "code",
<<<<<<< HEAD
   "execution_count": 19,
=======
   "execution_count": 75,
>>>>>>> 8fc0c4141e975876075e6bd418e426caf195b73e
   "metadata": {},
   "outputs": [
    {
     "data": {
      "text/html": [
       "<div>\n",
       "<style scoped>\n",
       "    .dataframe tbody tr th:only-of-type {\n",
       "        vertical-align: middle;\n",
       "    }\n",
       "\n",
       "    .dataframe tbody tr th {\n",
       "        vertical-align: top;\n",
       "    }\n",
       "\n",
       "    .dataframe thead th {\n",
       "        text-align: right;\n",
       "    }\n",
       "</style>\n",
       "<table border=\"1\" class=\"dataframe\">\n",
       "  <thead>\n",
       "    <tr style=\"text-align: right;\">\n",
       "      <th></th>\n",
       "      <th>username</th>\n",
       "      <th>product_id</th>\n",
       "      <th>text</th>\n",
       "      <th>found_funny</th>\n",
       "      <th>hours</th>\n",
       "    </tr>\n",
       "  </thead>\n",
       "  <tbody>\n",
       "    <tr>\n",
       "      <th>0</th>\n",
       "      <td>Chaos Syren</td>\n",
       "      <td>725280</td>\n",
       "      <td>This would not be acceptable as an entertainme...</td>\n",
       "      <td>NaN</td>\n",
       "      <td>0.1000</td>\n",
       "    </tr>\n",
       "    <tr>\n",
       "      <th>1</th>\n",
       "      <td>Ariman1</td>\n",
       "      <td>328100</td>\n",
       "      <td>Addictive RPG   Works fine on linux though it ...</td>\n",
       "      <td>NaN</td>\n",
       "      <td>13.2000</td>\n",
       "    </tr>\n",
       "    <tr>\n",
       "      <th>2</th>\n",
       "      <td>freakfantom</td>\n",
       "      <td>725280</td>\n",
       "      <td></td>\n",
       "      <td>NaN</td>\n",
       "      <td>0.1000</td>\n",
       "    </tr>\n",
       "    <tr>\n",
       "      <th>3</th>\n",
       "      <td>The_Cpt_FROGGY</td>\n",
       "      <td>631920</td>\n",
       "      <td>Somewhere on Zibylon                     Zibyl...</td>\n",
       "      <td>NaN</td>\n",
       "      <td>7.8000</td>\n",
       "    </tr>\n",
       "    <tr>\n",
       "      <th>4</th>\n",
       "      <td>the_maker988</td>\n",
       "      <td>35140</td>\n",
       "      <td>This game was way to linear for me  and compar...</td>\n",
       "      <td>NaN</td>\n",
       "      <td>8.2000</td>\n",
       "    </tr>\n",
       "    <tr>\n",
       "      <th>...</th>\n",
       "      <td>...</td>\n",
       "      <td>...</td>\n",
       "      <td>...</td>\n",
       "      <td>...</td>\n",
       "      <td>...</td>\n",
       "    </tr>\n",
       "    <tr>\n",
       "      <th>779302</th>\n",
       "      <td>Vidaar</td>\n",
       "      <td>252490</td>\n",
       "      <td>Summary  Rust is a survival game created by Fa...</td>\n",
       "      <td>NaN</td>\n",
       "      <td>783.5000</td>\n",
       "    </tr>\n",
       "    <tr>\n",
       "      <th>779303</th>\n",
       "      <td>Nikolai Belinski</td>\n",
       "      <td>252490</td>\n",
       "      <td>Coolest Game Eva</td>\n",
       "      <td>NaN</td>\n",
       "      <td>55.1000</td>\n",
       "    </tr>\n",
       "    <tr>\n",
       "      <th>779304</th>\n",
       "      <td>RancorZealot</td>\n",
       "      <td>252490</td>\n",
       "      <td>Should you buy RUST  Uh    YES  The BEST Survi...</td>\n",
       "      <td>NaN</td>\n",
       "      <td>203.5000</td>\n",
       "    </tr>\n",
       "    <tr>\n",
       "      <th>779305</th>\n",
       "      <td>Jerry</td>\n",
       "      <td>252490</td>\n",
       "      <td>Great game</td>\n",
       "      <td>NaN</td>\n",
       "      <td>139.8000</td>\n",
       "    </tr>\n",
       "    <tr>\n",
       "      <th>779306</th>\n",
       "      <td>Helk</td>\n",
       "      <td>252490</td>\n",
       "      <td>I love this game</td>\n",
       "      <td>36.0000</td>\n",
       "      <td>15375.0000</td>\n",
       "    </tr>\n",
       "  </tbody>\n",
       "</table>\n",
       "<p>777468 rows × 5 columns</p>\n",
       "</div>"
      ],
      "text/plain": [
       "                username  product_id  \\\n",
       "0            Chaos Syren      725280   \n",
       "1                Ariman1      328100   \n",
       "2            freakfantom      725280   \n",
       "3         The_Cpt_FROGGY      631920   \n",
       "4           the_maker988       35140   \n",
       "...                  ...         ...   \n",
       "779302            Vidaar      252490   \n",
       "779303  Nikolai Belinski      252490   \n",
       "779304      RancorZealot      252490   \n",
       "779305             Jerry      252490   \n",
       "779306              Helk      252490   \n",
       "\n",
       "                                                     text  found_funny  \\\n",
       "0       This would not be acceptable as an entertainme...          NaN   \n",
       "1       Addictive RPG   Works fine on linux though it ...          NaN   \n",
       "2                                                                  NaN   \n",
       "3       Somewhere on Zibylon                     Zibyl...          NaN   \n",
       "4       This game was way to linear for me  and compar...          NaN   \n",
       "...                                                   ...          ...   \n",
       "779302  Summary  Rust is a survival game created by Fa...          NaN   \n",
       "779303                                   Coolest Game Eva          NaN   \n",
       "779304  Should you buy RUST  Uh    YES  The BEST Survi...          NaN   \n",
       "779305                                        Great game           NaN   \n",
       "779306                                  I love this game       36.0000   \n",
       "\n",
       "            hours  \n",
       "0          0.1000  \n",
       "1         13.2000  \n",
       "2          0.1000  \n",
       "3          7.8000  \n",
       "4          8.2000  \n",
       "...           ...  \n",
       "779302   783.5000  \n",
       "779303    55.1000  \n",
       "779304   203.5000  \n",
       "779305   139.8000  \n",
       "779306 15375.0000  \n",
       "\n",
       "[777468 rows x 5 columns]"
      ]
     },
<<<<<<< HEAD
     "execution_count": 19,
=======
     "execution_count": 75,
>>>>>>> 8fc0c4141e975876075e6bd418e426caf195b73e
     "metadata": {},
     "output_type": "execute_result"
    },
    {
     "name": "stdout",
     "output_type": "stream",
     "text": [
<<<<<<< HEAD
      "time: 16 ms (started: 2021-09-07 19:57:47 -03:00)\n"
=======
      "time: 15 ms (started: 2021-08-22 21:12:24 -03:00)\n"
>>>>>>> 8fc0c4141e975876075e6bd418e426caf195b73e
     ]
    }
   ],
   "source": [
    "df_reviews"
   ]
  },
  {
   "cell_type": "markdown",
   "metadata": {},
   "source": [
    "Detectar idioma del texto"
   ]
  },
  {
   "cell_type": "code",
<<<<<<< HEAD
   "execution_count": 20,
=======
   "execution_count": 76,
>>>>>>> 8fc0c4141e975876075e6bd418e426caf195b73e
   "metadata": {},
   "outputs": [
    {
     "name": "stdout",
     "output_type": "stream",
     "text": [
<<<<<<< HEAD
      "time: 0 ns (started: 2021-09-07 19:57:47 -03:00)\n"
=======
      "time: 0 ns (started: 2021-08-22 21:12:50 -03:00)\n"
>>>>>>> 8fc0c4141e975876075e6bd418e426caf195b73e
     ]
    }
   ],
   "source": [
    "# Creamos función para detectar idioma\n",
    "def getLang(text):\n",
    "    try:\n",
    "        lang = detect(text)                                     \n",
    "    except:\n",
    "        lang = np.NaN\n",
    "    return lang"
   ]
  },
  {
   "cell_type": "code",
<<<<<<< HEAD
   "execution_count": 21,
   "metadata": {},
   "outputs": [
    {
     "name": "stdout",
     "output_type": "stream",
     "text": [
      "time: 0 ns (started: 2021-09-07 19:57:47 -03:00)\n"
=======
   "execution_count": 80,
   "metadata": {},
   "outputs": [
    {
     "data": {
      "application/vnd.jupyter.widget-view+json": {
       "model_id": "189d256523a34217b02c33e9f7e4a7f1",
       "version_major": 2,
       "version_minor": 0
      },
      "text/plain": [
       "  0%|          | 0/777468 [00:00<?, ?it/s]"
      ]
     },
     "metadata": {},
     "output_type": "display_data"
    },
    {
     "name": "stdout",
     "output_type": "stream",
     "text": [
      "time: 1h 44min 16s (started: 2021-08-22 21:14:49 -03:00)\n"
     ]
    },
    {
     "name": "stderr",
     "output_type": "stream",
     "text": [
      "C:\\Users\\elmai\\AppData\\Local\\Temp/ipykernel_32/763176423.py:2: SettingWithCopyWarning: \n",
      "A value is trying to be set on a copy of a slice from a DataFrame.\n",
      "Try using .loc[row_indexer,col_indexer] = value instead\n",
      "\n",
      "See the caveats in the documentation: https://pandas.pydata.org/pandas-docs/stable/user_guide/indexing.html#returning-a-view-versus-a-copy\n",
      "  df_reviews['lang'] = df_reviews['text'].progress_apply(getLang)\n"
>>>>>>> 8fc0c4141e975876075e6bd418e426caf195b73e
     ]
    }
   ],
   "source": [
    "if DETECT_LANG:\n",
    "    df_reviews['lang'] = df_reviews['text'].progress_apply(getLang)"
   ]
  },
  {
   "cell_type": "code",
<<<<<<< HEAD
   "execution_count": 22,
=======
   "execution_count": 81,
>>>>>>> 8fc0c4141e975876075e6bd418e426caf195b73e
   "metadata": {},
   "outputs": [
    {
     "name": "stdout",
     "output_type": "stream",
     "text": [
<<<<<<< HEAD
      "time: 7.09 s (started: 2021-09-07 19:57:47 -03:00)\n"
=======
      "time: 8.89 s (started: 2021-08-22 23:09:16 -03:00)\n"
>>>>>>> 8fc0c4141e975876075e6bd418e426caf195b73e
     ]
    }
   ],
   "source": [
    "if DETECT_LANG:\n",
    "    df_reviews.to_csv('df_reviews.csv', index_label='index')\n",
    "else:\n",
    "    df_reviews = pd.read_csv('df_reviews.csv', index_col='index')"
   ]
  },
  {
   "cell_type": "code",
<<<<<<< HEAD
   "execution_count": 23,
=======
   "execution_count": 83,
>>>>>>> 8fc0c4141e975876075e6bd418e426caf195b73e
   "metadata": {},
   "outputs": [
    {
     "data": {
      "text/plain": [
       "array(['en', nan, 'so', 'pl', 'de', 'it', 'fr', 'ca', 'sw', 'tr', 'af',\n",
       "       'hr', 'tl', 'no', 'es', 'ro', 'vi', 'nl', 'sq', 'cy', 'pt', 'id',\n",
       "       'lv', 'et', 'hu', 'lt', 'da', 'sl', 'sk', 'fi', 'sv', 'cs', 'uk'],\n",
       "      dtype=object)"
      ]
     },
<<<<<<< HEAD
     "execution_count": 23,
=======
     "execution_count": 83,
>>>>>>> 8fc0c4141e975876075e6bd418e426caf195b73e
     "metadata": {},
     "output_type": "execute_result"
    },
    {
     "name": "stdout",
     "output_type": "stream",
     "text": [
<<<<<<< HEAD
      "time: 47 ms (started: 2021-09-07 19:57:54 -03:00)\n"
=======
      "time: 32 ms (started: 2021-08-22 23:09:33 -03:00)\n"
>>>>>>> 8fc0c4141e975876075e6bd418e426caf195b73e
     ]
    }
   ],
   "source": [
    "df_reviews.lang.unique()"
   ]
  },
  {
   "cell_type": "code",
<<<<<<< HEAD
   "execution_count": 24,
=======
   "execution_count": 84,
>>>>>>> 8fc0c4141e975876075e6bd418e426caf195b73e
   "metadata": {},
   "outputs": [
    {
     "name": "stdout",
     "output_type": "stream",
     "text": [
<<<<<<< HEAD
      "time: 94 ms (started: 2021-09-07 19:57:54 -03:00)\n"
=======
      "time: 438 ms (started: 2021-08-22 23:09:43 -03:00)\n"
     ]
    },
    {
     "name": "stderr",
     "output_type": "stream",
     "text": [
      "C:\\Users\\elmai\\AppData\\Local\\Temp/ipykernel_32/204944570.py:3: SettingWithCopyWarning: \n",
      "A value is trying to be set on a copy of a slice from a DataFrame.\n",
      "Try using .loc[row_indexer,col_indexer] = value instead\n",
      "\n",
      "See the caveats in the documentation: https://pandas.pydata.org/pandas-docs/stable/user_guide/indexing.html#returning-a-view-versus-a-copy\n",
      "  df_reviews['lang'] = df_reviews['lang'].map(code_dict)\n"
>>>>>>> 8fc0c4141e975876075e6bd418e426caf195b73e
     ]
    }
   ],
   "source": [
    "code = pd.read_csv('lang_code3.csv')\n",
    "code_dict = code.set_index('code').to_dict()['language_name']\n",
    "df_reviews['lang'] = df_reviews['lang'].map(code_dict)"
   ]
  },
  {
   "cell_type": "code",
<<<<<<< HEAD
   "execution_count": 25,
=======
   "execution_count": 85,
>>>>>>> 8fc0c4141e975876075e6bd418e426caf195b73e
   "metadata": {},
   "outputs": [
    {
     "name": "stdout",
     "output_type": "stream",
     "text": [
<<<<<<< HEAD
      "time: 218 ms (started: 2021-09-07 19:57:54 -03:00)\n"
=======
      "time: 312 ms (started: 2021-08-22 23:09:46 -03:00)\n"
>>>>>>> 8fc0c4141e975876075e6bd418e426caf195b73e
     ]
    }
   ],
   "source": [
    "idiomas = df_reviews.groupby('lang').count()['username'].sort_values(ascending=False)"
   ]
  },
  {
   "cell_type": "code",
<<<<<<< HEAD
   "execution_count": 26,
=======
   "execution_count": 86,
>>>>>>> 8fc0c4141e975876075e6bd418e426caf195b73e
   "metadata": {},
   "outputs": [
    {
     "data": {
      "text/plain": [
       "Index(['English', 'Somali', 'German', 'Afrikaans', 'Tagalog', 'Welsh',\n",
       "       'Norwegian', 'Danish', 'Romanian', 'Spanish', 'Dutch', 'Catalan',\n",
       "       'French', 'Indonesian', 'Italian', 'Polish', 'Portuguese', 'Turkish',\n",
       "       'Estonian', 'Swahili', 'Slovenian', 'Albanian', 'Croatian',\n",
       "       'Vietnamese', 'Swedish', 'Finnish', 'Hungarian', 'Slovak', 'Lithuanian',\n",
       "       'Latvian', 'Czech', 'Ukrainian'],\n",
       "      dtype='object', name='lang')"
      ]
     },
<<<<<<< HEAD
     "execution_count": 26,
=======
     "execution_count": 86,
>>>>>>> 8fc0c4141e975876075e6bd418e426caf195b73e
     "metadata": {},
     "output_type": "execute_result"
    },
    {
     "name": "stdout",
     "output_type": "stream",
     "text": [
<<<<<<< HEAD
      "time: 16 ms (started: 2021-09-07 19:57:55 -03:00)\n"
=======
      "time: 0 ns (started: 2021-08-22 23:09:51 -03:00)\n"
>>>>>>> 8fc0c4141e975876075e6bd418e426caf195b73e
     ]
    }
   ],
   "source": [
    "idiomas.index"
   ]
  },
  {
   "cell_type": "code",
<<<<<<< HEAD
   "execution_count": 27,
=======
   "execution_count": 88,
>>>>>>> 8fc0c4141e975876075e6bd418e426caf195b73e
   "metadata": {},
   "outputs": [
    {
     "data": {
<<<<<<< HEAD
      "image/png": "iVBORw0KGgoAAAANSUhEUgAABcIAAAGsCAYAAAD+P9TtAAAAOXRFWHRTb2Z0d2FyZQBNYXRwbG90bGliIHZlcnNpb24zLjMuNCwgaHR0cHM6Ly9tYXRwbG90bGliLm9yZy8QVMy6AAAACXBIWXMAAAsTAAALEwEAmpwYAACCHElEQVR4nOzdf3zP9f7/8ft7mylnx4+V/aCQCqdOTUREfswi5ueMEdIvIr9DivmZH41whJQS5TcbEaOMsKJOSn5EqZzhxMaRYYxt772+f/ju/fG2jXVO3q/X693terl0Od6v197b/f067/f79Xo9Xs/X4+kwDMMQAAAAAAAAAABeysfsAAAAAAAAAAAA3EwUwgEAAAAAAAAAXo1COAAAAAAAAADAq1EIBwAAAAAAAAB4NQrhAAAAAAAAAACv5md2AKt75JFHVL58ebNjAAAAAAAAAACu49dff9VXX31V4DoK4TdQvnx5rVq1yuwYAAAAAAAAAIDriIqKKnQdrVEAAAAAAAAAAF6NQjgAAAAAAAAAwKtRCAcAAAAAAAAAeDUK4QAAAAAAAAAAr+axyTI/+ugjzZ8/3/X4/PnzSktL07Zt2/TOO+8oOTlZTqdTzz77rDp37ixJSklJ0YgRI3TmzBmVKFFCcXFxuvvuuyVJ8fHxev/995WTk6O6desqNjZWxYoVU2ZmpmJjY3XgwAHl5uZq6NChioiIkCTt2bNH48aN08WLFxUUFKQpU6YoKCjIU5sAAAAAAAAAAGACj40Ib9u2rdasWaM1a9YoPj5eZcuW1ciRI/XJJ58oJSVF69atU3x8vD744APt3btXkjRkyBB16tRJiYmJ6tevnwYMGCDDMHTo0CHNnDlTixYt0saNG3X+/HktWLBAkjRz5kyVKFFCGzZs0Pz58zV27FilpqYqKytL/fv31/Dhw7VhwwY1a9ZMI0aM8NTLBwAAAAAAAACYxJTWKO+++64CAwPVqVMnJSUlKSoqSn5+fipVqpQiIyO1du1apaWl6fDhw4qMjJQkNWzYUBcvXtSBAwe0efNmhYeHKzAwUD4+PoqJidHatWslSUlJSerQoYMkqVy5cqpXr542bNigffv2KSAgQDVr1pQkRUdHa+fOnTpz5owZmwAAAAAAAAAA4CEea42S57ffftP8+fO1atUqSdKJEycUGhrqWh8SEqIff/xRJ06cUFBQkHx8/q9WHxwcrNTUVJ04cUJ33HGH23PS0tIK/H15zwkKClJISIhrub+/vwIDA5WWlqYyZcrctNcLAAAAAAAAADCXx0eEr1ixQk2aNNGdd94pSTIMQw6Hw7XeMAz5+PgoNzfXbXneOl9fXxmGkW95XsH82t8n6Ya/DwAAAAAAAADgvTxeCE9MTFRUVJTrcWhoqE6ePOl6fPLkSYWEhKhcuXI6deqUW9E7b11hz7ne77t2eXZ2ttLT0xUcHHxTXicAAAAAAAAAwBo8Wgg/e/asjh49qoceesi1rEmTJkpISFBOTo7OnTun9evXKyIiQiEhIapQoYISExMlScnJyfLx8VGVKlUUHh6uLVu26PTp0zIMQ8uXL1dERITr9y1fvlySlJqaquTkZDVu3FhhYWFKT0/Xt99+K0lKSEhQ9erVVbJkSU9uAgAAAAAAAACAh3m0R/iRI0dUtmxZFStWzLWsc+fOOnr0qNq0aaPs7GzFxMSodu3akqRp06Zp5MiRmjNnjvz9/TVjxgz5+PioWrVq6tOnj7p3767s7GyFhYWpR48ekqR+/fppzJgxioyMlNPp1NChQ1WhQgVJ0qxZszRu3DhlZmaqdOnSiouL8+TLBwAAAAAAAACYwGFc23AbbqKiolwTewIAAAAAAAAArOl6tVyP9wgHAAAAAAAAAMCTKIT/TkaO0+wILlbKAgAAAAAAAABW5dEe4d7A4eerU3MWmR1DklS2d1ezIwAAAAAAAACA5TEiHAAAAAAAAADg1SiEAwAAAAAAAAC8GoVwAAAAAAAAAIBXoxAOAAAAAAAAAPBqFMIBAAAAAAAAAF6NQjgAAAAAAAAAwKtRCAcAAAAAAAAAeDUK4QAAAAAAAAAAr0YhHAAAAAAAAADg1SiEAwAAAAAAAAC8GoVwAAAAAAAAAIBXoxAOAAAAAAAAAPBqFMIBAAAAAAAAAF6NQjgAAAAAAAAAwKtRCAcAAAAAAAAAeDUK4QAAAAAAAAAAr0YhHAAAAAAAAADg1SiEAwAAAAAAAAC8GoVwAAAAAAAAAIBXoxAOAAAAAAAAAPBqFMIBAAAAAAAAAF6NQjgAAAAAAAAAwKtRCAcAAAAAAAAAeDUK4QAAAAAAAAAAr0YhHAAAAAAAAADg1SiEAwAAAAAAAAC8GoVwAAAAAAAAAIBXoxAOAAAAAAAAAPBqFMIBAAAAAAAAAF6NQjgAAAAAAAAAwKtRCAcAAAAAAAAAeDUK4QAAAAAAAAAAr0YhHAAAAAAAAADg1TxaCP/xxx/VrVs3tW3bVlFRUdq/f7+cTqcmTJigJ554Qo8//riWLl3q+vmUlBR16dJFLVq0UHR0tH755RfXuvj4eLVo0UJNmzbV6NGjlZ2dLUnKzMzU4MGD1bx5czVr1kxJSUmu5+zZs0ft27dX8+bN1b17d508edJzLx4AAAAAAAAAYAqPFcIzMzP13HPP6fnnn9dHH32kF198UUOGDNGyZcuUkpKidevWKT4+Xh988IH27t0rSRoyZIg6deqkxMRE9evXTwMGDJBhGDp06JBmzpypRYsWaePGjTp//rwWLFggSZo5c6ZKlCihDRs2aP78+Ro7dqxSU1OVlZWl/v37a/jw4dqwYYOaNWumESNGeOrlAwAAAAAAAABM4rFC+BdffKE777xTDRs2lCQ1adJE//jHP5SUlKSoqCj5+fmpVKlSioyM1Nq1a5WWlqbDhw8rMjJSktSwYUNdvHhRBw4c0ObNmxUeHq7AwED5+PgoJiZGa9eulSQlJSWpQ4cOkqRy5cqpXr162rBhg/bt26eAgADVrFlTkhQdHa2dO3fqzJkzntoEAAAAAAAAAAATeKwQ/q9//Utly5bV8OHDFRUVpWeeeUZOp1MnTpxQaGio6+dCQkKUmpqqEydOKCgoSD4+/xcxODjYte7a56SlpUlSvnV5z0lNTVVISIhrub+/vwIDA13PAwAAAAAAAAB4Jz9P/aGcnBxt27ZNH374ocLCwpSUlKSePXuqePHicjgcrp8zDEM+Pj7Kzc11W563ztfXV4Zh5FueVzA3DCPf8270+wAAAAAAAAAA3stjI8KDgoJ09913KywsTJIUEREhp9OpO++8023SypMnTyokJETlypXTqVOn3IreeetCQ0MLfI6kQtdduzw7O1vp6ekKDg6+aa8ZAAAAAAAAAGA+jxXCGzRooH//+9/av3+/JOnrr7+Ww+FQRESEEhISlJOTo3Pnzmn9+vWKiIhQSEiIKlSooMTERElScnKyfHx8VKVKFYWHh2vLli06ffq0DMPQ8uXLFRERIelK7/Hly5dLklJTU5WcnKzGjRsrLCxM6enp+vbbbyVJCQkJql69ukqWLOmpTQAAAAAAAAAAMIHHWqOULVtWs2fP1tixY5WZmSl/f3/NnDlT1atX19GjR9WmTRtlZ2crJiZGtWvXliRNmzZNI0eO1Jw5c+Tv768ZM2bIx8dH1apVU58+fdS9e3dlZ2crLCxMPXr0kCT169dPY8aMUWRkpJxOp4YOHaoKFSpIkmbNmqVx48YpMzNTpUuXVlxcnKdePgAAAAAAAADAJA7j2obbcBMVFaVVq1a5LTs1Z5FJadyV7d3V7AgAAAAAAAAAYAkF1XLzeKw1CgAAAAAAAAAAZqAQDgAAAAAAAADwahTCAQAAAAAAAABejUI4AAAAAAAAAMCrUQgHAAAAAAAAAHg1CuEAAAAAAAAAAK9GIRwAAAAAAAAA4NUohAMAAAAAAAAAvBqFcAAAAAAAAACAV6MQDgAAAAAAAADwahTCAQAAAAAAAABejUI4AAAAAAAAAMCrUQgHAAAAAAAAAHg1CuEAAAAAAAAAAK9GIRwAAAAAAAAA4NUohAMAAAAAAAAAvBqFcAAAAAAAAACAV6MQDgAAAAAAAADwahTCAQAAAAAAAABejUI4AAAAAAAAAMCrUQgHAAAAAAAAAHg1CuEAAAAAAAAAAK9GIRwAAAAAAAAA4NUohAMAAAAAAAAAvBqFcAAAAAAAAACAV6MQDgAAAAAAAADwahTCAQAAAAAAAABejUI4AAAAAAAAAMCrUQgHAAAAAAAAAHg1CuEAAAAAAAAAAK9GIRwAAAAAAAAA4NUohAMAAAAAAAAAvBqFcAAAAAAAAACAV6MQDgAAAAAAAADwahTCAQAAAAAAAABejUI4AAAAAAAAAMCrUQgHAAAAAAAAAHg1P0/+sddff10bN25UqVKlJEl33XWXpk6dqtdff13JyclyOp169tln1blzZ0lSSkqKRowYoTNnzqhEiRKKi4vT3XffLUmKj4/X+++/r5ycHNWtW1exsbEqVqyYMjMzFRsbqwMHDig3N1dDhw5VRESEJGnPnj0aN26cLl68qKCgIE2ZMkVBQUGe3AQAAAAAAAAAAA/zaCF89+7dmjZtmmrUqOFatnjxYqWkpGjdunW6cOGCYmJidP/99+vBBx/UkCFD1L17d7Vq1Urbtm3TgAED9PHHH+unn37SzJkztXr1apUuXVpDhgzRggUL1KNHD82cOVMlSpTQhg0bdPz4ccXExOjvf/+7AgMD1b9/f02bNk01a9bUkiVLNGLECL377rue3AQAAAAAAAAAAA/zWGuUrKwsHThwQO+9955atWqlfv366fjx40pKSlJUVJT8/PxUqlQpRUZGau3atUpLS9Phw4cVGRkpSWrYsKEuXryoAwcOaPPmzQoPD1dgYKB8fHwUExOjtWvXSpKSkpLUoUMHSVK5cuVUr149bdiwQfv27VNAQIBq1qwpSYqOjtbOnTt15swZT20CAAAAAAAAAIAJPFYIT0tLU506dTRw4ECtXbtWYWFhevHFF3X8+HGFhoa6fi4kJESpqak6ceKEgoKC5OPzfxGDg4Nd6659TlpamiTlW5f3nNTUVIWEhLiW+/v7KzAw0PU8AAAAAAAAAIB38lgh/M4779S7776rKlWqyOFw6LnnntPRo0f173//Ww6Hw/VzhmHIx8dHubm5bsvz1vn6+sowjHzL8wrmhmHke96Nfh8AAAAAAAAAwHt5rBD+ww8/6KOPPnJbZhiGatWqpZMnT7qWnTx5UiEhISpXrpxOnTrlVvTOWxcaGlrgcyQVuu7a5dnZ2UpPT1dwcPAf/VIBAAAAAAAAABbisUK4j4+PJkyYoGPHjkmSlixZoqpVq6pJkyZKSEhQTk6Ozp07p/Xr1ysiIkIhISGqUKGCEhMTJUnJycny8fFRlSpVFB4eri1btuj06dMyDEPLly9XRESEJKlJkyZavny5JCk1NVXJyclq3LixwsLClJ6erm+//VaSlJCQoOrVq6tkyZKe2gQAAAAAAAAAABP4eeoPValSRbGxserdu7ecTqdCQkI0bdo0BQUF6ejRo2rTpo2ys7MVExOj2rVrS5KmTZumkSNHas6cOfL399eMGTPk4+OjatWqqU+fPurevbuys7MVFhamHj16SJL69eunMWPGKDIyUk6nU0OHDlWFChUkSbNmzdK4ceOUmZmp0qVLKy4uzlMvHwAAAAAAAABgEodxbcNtuImKitKqVavclp2as8ikNO7K9u5qdgQAAAAAAAAAsISCarl5PNYaBQAAAAAAAAAAM1AIBwAAAAAAAAB4NQrhAAAAAAAAAACvRiEcAAAAAAAAAODVKIQDAAAAAAAAALwahXAAAAAAAAAAgFejEA4AAAAAAAAA8GoUwgEAAAAAAAAAXo1COAAAAAAAAADAq1EIBwAAAAAAAAB4NQrhAAAAAAAAAACvRiEcAAAAAAAAAODVKIQDAAAAAAAAALwahXAAAAAAAAAAgFejEA4AAAAAAAAA8GoUwgEAAAAAAAAAXo1COAAAAAAAAADAq1EIBwAAAAAAAAB4NQrhAAAAAAAAAACvRiEcAAAAAAAAAODVKIQDAAAAAAAAALwahXAAAAAAAAAAgFejEA4AAAAAAAAA8GoUwgEAAAAAAAAAXo1COAAAAAAAAADAq1EIBwAAAAAAAAB4NQrhAAAAAAAAAACvRiEcAAAAAAAAAODVKIQDAAAAAAAAALwahXAAAAAAAAAAgFejEA4AAAAAAAAA8GoUwgEAAAAAAAAAXo1COAAAAAAAAADAq1EIBwAAAAAAAAB4NQrhAAAAAAAAAACvRiEcAAAAAAAAAODVPF4IT0pK0kMPPSRJcjqdmjBhgp544gk9/vjjWrp0qevnUlJS1KVLF7Vo0ULR0dH65ZdfXOvi4+PVokULNW3aVKNHj1Z2drYkKTMzU4MHD1bz5s3VrFkzJSUluZ6zZ88etW/fXs2bN1f37t118uRJD71iAAAAAAAAAICZPFoIT0lJUVxcnOvxsmXLlJKSonXr1ik+Pl4ffPCB9u7dK0kaMmSIOnXqpMTERPXr108DBgyQYRg6dOiQZs6cqUWLFmnjxo06f/68FixYIEmaOXOmSpQooQ0bNmj+/PkaO3asUlNTlZWVpf79+2v48OHasGGDmjVrphEjRnjypQMAAAAAAAAATOKxQnhmZqaGDh2qV155xbUsKSlJUVFR8vPzU6lSpRQZGam1a9cqLS1Nhw8fVmRkpCSpYcOGunjxog4cOKDNmzcrPDxcgYGB8vHxUUxMjNauXev6fR06dJAklStXTvXq1dOGDRu0b98+BQQEqGbNmpKk6Oho7dy5U2fOnPHUywcAAAAAAAAAmMRjhfBRo0YpJiZGVatWdS07ceKEQkNDXY9DQkKUmpqqEydOKCgoSD4+/xcvODjYte7a56SlpRX4+/Kek5qaqpCQENdyf39/BQYGup4HAAAAAAAAAPBeHimEL168WH5+foqOjnZbbhiGHA6H22MfHx/l5ua6Lc9b5+vrK8Mw8i3PK5hf+/sk3fD3AQAAAAAAAAC8m58n/sjq1at16dIltWnTRtnZ2a5/BwcHu01aefLkSYWEhKhcuXI6deqUW2E7b11oaGiBz5HkWnf77be71lWrVi3fc7Kzs5Wenq7g4GBPvHwAAAAAAAAAgIk8MiI8Pj5e69at05o1azR37lzdcsstWrNmjR5//HElJCQoJydH586d0/r16xUREaGQkBBVqFBBiYmJkqTk5GT5+PioSpUqCg8P15YtW3T69GkZhqHly5crIiJCktSkSRMtX75ckpSamqrk5GQ1btxYYWFhSk9P17fffitJSkhIUPXq1VWyZElPvHwAAAAAAAAAgImKPCK8SZMmSkhIUOnSpd2Wp6WlqW3bttq5c+fv/uOdO3fW0aNHXSPFY2JiVLt2bUnStGnTNHLkSM2ZM0f+/v6aMWOGfHx8VK1aNfXp00fdu3dXdna2wsLC1KNHD0lSv379NGbMGEVGRsrpdGro0KGqUKGCJGnWrFkaN26cMjMzVbp0acXFxf3uvAAAAAAAAAAA+3EY1zbdvkpiYqK2bt0qSVq7dq2aNWum4sWLu/3M8ePHdeTIESUnJ9/UoGaJiorSqlWr3JadmrPIpDTuyvbuanYEAAAAAAAAALCEgmq5ea7bGqVOnTry9fV1TSrp4+Pjepz3X7Vq1fTWW2/98akBAAAAAAAAAPgDXLc1SmBgoCZNmiRJKl++vJ599lmVKFHCI8EAAAAAAAAAAPgjFLlHeN++fXXu3Dnt2rVLOTk5urajSt26df/wcAAAAAAAAAAA/K+KXAhfvXq1xo4dq0uXLuVb53A4dPDgwT80GAAAAAAAAAAAf4QiF8LffvttRUdHa+DAgQoICLiZmQAAAAAAAAAA+MNcd7LMq508eVJdu3alCA4AAAAAAAAAsJUiF8LDw8O1ZcuWm5kFAAAAAAAAAIA/XJFbowQGBmr69Olav369KlSooGLFirmtnzx58h8eDgAAAAAAAACA/1WRC+EZGRlq2bLlzcwCAAAAAAAAAMAfrsiF8EmTJt3MHAAAAAAAAAAA3BRFLoTPmDHjuusHDBjwP4cBAAAAAAAAAOCPVuRC+K5du9weO51O/fvf/9a5c+fUokWLPzwYAAAAAAAAAAB/hCIXwhcuXFjg8ri4OOXk5PxhgQAAAAAAAAAA+CP5/K+/4Mknn9Tq1av/iCwAAAAAAAAAAPzh/udC+MaNG3XLLbf8EVkAAAAAAAAAAPjDFbk1SsOGDeVwONyWXbhwQRkZGRo2bNgfHgwAAAAAAAAAgD9CkQvhAwcOdHvscDhUrFgxPfDAA6pQocIfnQsAAAAAAAAAgD9EkQvh7dq1kyRlZGToyJEjcjqdqlixokqVKnXTwgEAAAAAAAAA8L8qciE8KytLcXFxWr58uZxOpwzDkJ+fnyIjI/Xaa6/J39//ZuYEAAAAAAAAAOC/UuTJMuPi4rR9+3bNmTNHX3/9tf75z39q9uzZ2r17t6ZPn34zMwIAAAAAAAAA8F8r8ojw9evX680331Tt2rVdyxo2bKhbbrlFL730EhNmAgAAAAAAAAAsqcgjwg3DUJkyZfItL126tC5evPiHhgIAAAAAAAAA4I9S5EJ4nTp19MYbb+j8+fOuZefOndO0adP0yCOP3JRwAAAAAAAAAAD8r4rcGmX48OF66qmn1KBBA1WoUEGSdPToUVWqVEmzZ8++aQEBAAAAAAAAAPhfFLkQHhwcrN69e0uSTp06JX9/f7333nvq2bOnypUrd9MCAgAAAAAAAADwvyhyIfydd97RvHnzNGrUKPXo0UOSdPbsWY0ZM0anTp3SU089ddNCAgAAAAAAAADw3ypyj/ClS5dq2rRpatmypWtZ//79NXnyZC1YsOBmZAMAAAAAAAAA4H9W5EL4uXPnFBoamm/5HXfcod9+++0PDQUAAAAAAAAAwB+lyIXwWrVqacaMGbpw4YJr2YULFzR79mzVrFnzpoQDAAAAAAAAAOB/VeQe4SNHjtRzzz2n+vXrq2LFipKko0ePKjQ0VG+99dZNCwgAAAAAAAAAwP+iyIXwO+64Qx9//LF27NihX375RcWKFVPFihX12GOPycenyAPLAQAAAAAAAADwqCIXwiXJ399fjRo1UqNGjW5SHAAAAAAAAAAA/lgM5QYAAAAAAAAAeDUK4QAAAAAAAAAAr0YhHAAAAAAAAADg1SiEAwAAAAAAAAC8mkcL4YsWLVJkZKRatmyp3r176/Tp03I6nZowYYKeeOIJPf7441q6dKnr51NSUtSlSxe1aNFC0dHR+uWXX1zr4uPj1aJFCzVt2lSjR49Wdna2JCkzM1ODBw9W8+bN1axZMyUlJbmes2fPHrVv317NmzdX9+7ddfLkSc+9eAAAAAAAAACAKTxWCN+/f7/ef/99LVu2TOvWrVOlSpU0Y8YMLVu2TCkpKVq3bp3i4+P1wQcfaO/evZKkIUOGqFOnTkpMTFS/fv00YMAAGYahQ4cOaebMmVq0aJE2btyo8+fPa8GCBZKkmTNnqkSJEtqwYYPmz5+vsWPHKjU1VVlZWerfv7+GDx+uDRs2qFmzZhoxYoSnXj4AAAAAAAAAwCQeK4T//e9/1yeffKK//vWvunz5stLS0lS6dGklJSUpKipKfn5+KlWqlCIjI7V27VqlpaXp8OHDioyMlCQ1bNhQFy9e1IEDB7R582aFh4crMDBQPj4+iomJ0dq1ayVJSUlJ6tChgySpXLlyqlevnjZs2KB9+/YpICBANWvWlCRFR0dr586dOnPmjKc2AQAAAAAAAADABB5tjVKsWDElJSWpQYMG+vrrrxUVFaUTJ04oNDTU9TMhISFKTU3ViRMnFBQUJB+f/4sYHBzsWnftc9LS0iQp37q856SmpiokJMS13N/fX4GBga7nAQAAAAAAAAC8k5+n/2BERIQiIiK0YsUKPffcc/Lz85PD4XCtNwxDPj4+ys3NdVuet87X11eGYeRbnlcwNwwj3/Nu9PsAAAAAAAAAAN7LYyPCjxw5ol27drket2/fXsePH1dQUJDbpJUnT55USEiIypUrp1OnTrkVvfPWhYaGFvgcSYWuu3Z5dna20tPTFRwcfFNeLwAAAAAAAADAGjxWCD916pReeukl/fbbb5Kkjz/+WPfee6+aNm2qhIQE5eTk6Ny5c1q/fr0iIiIUEhKiChUqKDExUZKUnJwsHx8fValSReHh4dqyZYtOnz4twzC0fPlyRURESJKaNGmi5cuXS5JSU1OVnJysxo0bKywsTOnp6fr2228lSQkJCapevbpKlizpqU0AAAAAAAAAADCBx1qjPPzww+rVq5eeeuop+fr6KigoSLNnz1ZoaKiOHj2qNm3aKDs7WzExMapdu7Ykadq0aRo5cqTmzJkjf39/zZgxQz4+PqpWrZr69Omj7t27Kzs7W2FhYerRo4ckqV+/fhozZowiIyPldDo1dOhQVahQQZI0a9YsjRs3TpmZmSpdurTi4uI89fIBAAAAAAAAACZxGNc23IabqKgorVq1ym3ZqTmLTErjrmzvrmZHAAAAAAAAAABLKKiWm8djrVEAAAAAAAAAADADhXAAAAAAAAAAgFejEA4AAAAAAAAA8GoUwgEAAAAAAAAAXo1COAAAAAAAAADAq1EIBwAAAAAAAAB4NQrhAAAAAAAAAACvRiEcAAAAAAAAAODVKIQDAAAAAAAAALwahXAAAAAAAAAAgFejEA4AAAAAAAAA8GoUwgEAAAAAAAAAXo1COAAAAAAAAADAq1EIBwAAAAAAAAB4NQrhAAAAAAAAAACvRiEcAAAAAAAAAODVKIQDAAAAAAAAALwahXAAAAAAAAAAgFejEA4AAAAAAAAA8GoUwgEAAAAAAAAAXo1COAAAAAAAAADAq1EIBwAAAAAAAAB4NQrhAAAAAAAAAACvRiEcAAAAAAAAAODVKIQDAAAAAAAAALwahXAAAAAAAAAAgFejEA4AAAAAAAAA8GoUwgEAAAAAAAAAXo1COAAAAAAAAADAq1EIBwAAAAAAAAB4NQrhAAAAAAAAAACvRiEcAAAAAAAAAODVKIQDAAAAAAAAALwahXAAAAAAAAAAgFejEA4AAAAAAAAA8GoUwgEAAAAAAAAAXo1COAAAAAAAAADAq3m0EL5mzRq1bt1abdq0UadOnbRv3z45nU5NmDBBTzzxhB5//HEtXbrU9fMpKSnq0qWLWrRooejoaP3yyy+udfHx8WrRooWaNm2q0aNHKzs7W5KUmZmpwYMHq3nz5mrWrJmSkpJcz9mzZ4/at2+v5s2bq3v37jp58qTnXjwAAAAAAAAAwBQeK4QfPnxYU6ZM0Xvvvac1a9aod+/e6tevn5YtW6aUlBStW7dO8fHx+uCDD7R3715J0pAhQ9SpUyclJiaqX79+GjBggAzD0KFDhzRz5kwtWrRIGzdu1Pnz57VgwQJJ0syZM1WiRAlt2LBB8+fP19ixY5WamqqsrCz1799fw4cP14YNG9SsWTONGDHCUy8fAAAAAAAAAGASjxXC/f39NX78eAUFBUmS/v73v+s///mPNm7cqKioKPn5+alUqVKKjIzU2rVrlZaWpsOHDysyMlKS1LBhQ128eFEHDhzQ5s2bFR4ersDAQPn4+CgmJkZr166VJCUlJalDhw6SpHLlyqlevXrasGGD9u3bp4CAANWsWVOSFB0drZ07d+rMmTOe2gQAAAAAAAAAABN4rBB+xx13qFGjRpIkwzA0adIkhYeH69SpUwoNDXX9XEhIiFJTU3XixAkFBQXJx+f/IgYHB7vWXfuctLQ0Scq3Lu85qampCgkJcS339/dXYGCg63kAAAAAAAAAAO/k8ckyL168qAEDBujo0aMaP368DMOQw+FwrTcMQz4+PsrNzXVbnrfO19dXhmHkW55XML/290m64e8DAAAAAAAAAHgvjxbCjx8/rk6dOsnX11cffvihSpYsqdDQULdJK0+ePKmQkBCVK1dOp06dcit6560r7DmSCl137fLs7Gylp6crODj4Zr5kAAAAAAAAAIDJPFYIz8jIULdu3dS0aVNNnz5dt9xyiySpSZMmSkhIUE5Ojs6dO6f169crIiJCISEhqlChghITEyVJycnJ8vHxUZUqVRQeHq4tW7bo9OnTMgxDy5cvV0REhOv3LV++XJKUmpqq5ORkNW7cWGFhYUpPT9e3334rSUpISFD16tVVsmRJT20CAAAAAAAAAIAJ/Dz1hxYvXqzjx49r06ZN2rRpk2v5vHnzdPToUbVp00bZ2dmKiYlR7dq1JUnTpk3TyJEjNWfOHPn7+2vGjBny8fFRtWrV1KdPH3Xv3l3Z2dkKCwtTjx49JEn9+vXTmDFjFBkZKafTqaFDh6pChQqSpFmzZmncuHHKzMxU6dKlFRcX56mXDwAAAAAAAAAwicO4tuE23ERFRWnVqlVuy07NWWRSGndle3c1OwIAAAAAAAAAWEJBtdw8Hp8sEwAAAAAAAAAAT6IQDgAAAAAAAADwahTCAQAAAAAAAABejUI4AAAAAAAAAMCrUQgHAAAAAAAAAHg1CuEAAAAAAAAAAK9GIRwAAAAAAAAA4NUohAMAAAAAAAAAvBqFcAAAAAAAAACAV6MQDgAAAAAAAADwahTCAQAAAAAAAABejUI4AAAAAAAAAMCrUQgHAAAAAAAAAHg1CuEAAAAAAAAAAK9GIRwAAAAAAAAA4NUohAMAAAAAAAAAvBqFcAAAAAAAAACAV6MQDgAAAAAAAADwahTCAQAAAAAAAABejUI4AAAAAAAAAMCrUQgHAAAAAAAAAHg1CuEAAAAAAAAAAK9GIRwAAAAAAAAA4NUohAMAAAAAAAAAvBqFcAAAAAAAAACAV6MQDgAAAAAAAADwahTCAQAAAAAAAABejUI4AAAAAAAAAMCrUQgHAAAAAAAAAHg1CuEAAAAAAAAAAK9GIRwAAAAAAAAA4NUohAMAAAAAAAAAvBqFcAAAAAAAAACAV6MQDgAAAAAAAADwahTCAQAAAAAAAABejUI4AAAAAAAAAMCrebQQbhiGhg0bpnnz5kmSnE6nJkyYoCeeeEKPP/64li5d6vrZlJQUdenSRS1atFB0dLR++eUX17r4+Hi1aNFCTZs21ejRo5WdnS1JyszM1ODBg9W8eXM1a9ZMSUlJrufs2bNH7du3V/PmzdW9e3edPHnSQ68aAAAAAAAAAGAmjxXCf/nlF3Xv3l2ffPKJa9myZcuUkpKidevWKT4+Xh988IH27t0rSRoyZIg6deqkxMRE9evXTwMGDJBhGDp06JBmzpypRYsWaePGjTp//rwWLFggSZo5c6ZKlCihDRs2aP78+Ro7dqxSU1OVlZWl/v37a/jw4dqwYYOaNWumESNGeOqlAwAAAAAAAABM5LFC+OLFi9WhQwc98cQTrmVJSUmKioqSn5+fSpUqpcjISK1du1ZpaWk6fPiwIiMjJUkNGzbUxYsXdeDAAW3evFnh4eEKDAyUj4+PYmJitHbtWtfv69ChgySpXLlyqlevnjZs2KB9+/YpICBANWvWlCRFR0dr586dOnPmjKdePgAAAAAAAADAJB4rhI8aNUqtWrVyW3bixAmFhoa6HoeEhCg1NVUnTpxQUFCQfHz+L15wcLBr3bXPSUtLK/D35T0nNTVVISEhruX+/v4KDAx0PQ8AAAAAAAAA4L1MnSzTMAw5HA63xz4+PsrNzXVbnrfO19dXhmHkW55XML/290m64e8DAAAAAAAAAHg3UwvhoaGhbpNWnjx5UiEhISpXrpxOnTrlVvTOW1fYc673+65dnp2drfT0dAUHB9/MlwcAAAAAAAAAsABTC+FNmjRRQkKCcnJydO7cOa1fv14REREKCQlRhQoVlJiYKElKTk6Wj4+PqlSpovDwcG3ZskWnT5+WYRhavny5IiIiXL9v+fLlkqTU1FQlJyercePGCgsLU3p6ur799ltJUkJCgqpXr66SJUua88IBAAAAAAAAAB7jZ+Yf79y5s44ePao2bdooOztbMTExql27tiRp2rRpGjlypObMmSN/f3/NmDFDPj4+qlatmvr06aPu3bsrOztbYWFh6tGjhySpX79+GjNmjCIjI+V0OjV06FBVqFBBkjRr1iyNGzdOmZmZKl26tOLi4kx73QAAAAAAAAAAz3EY1zbdhpuoqCitWrXKbdmpOYtMSuOubO+uZkcAAAAAAAAAAEsoqJabx9TWKAAAAAAAAAAA3GwUwgEAAAAAAAAAXo1COAAAAAAAAADAq1EIBwAAAAAAAAB4NQrhAAAAAAAAAACvRiEcAAAAAAAAAODVKIQDAAAAAAAAALwahXAAAAAAAAAAgFejEA4AAAAAAAAA8GoUwgEAAAAAAAAAXo1COAAAAAAAAADAq1EIBwAAAAAAAAB4NQrhAAAAAAAAAACvRiEcAAAAAAAAAODVKIQDAAAAAAAAALwahXAAAAAAAAAAgFejEA4AAAAAAAAA8GoUwgEAAAAAAAAAXo1COAAAAAAAAADAq1EIBwAAAAAAAAB4NQrhAAAAAAAAAACvRiEcAAAAAAAAAODVKIQDAAAAAAAAALwahXAAAAAAAAAAgFejEA4AAAAAAAAA8GoUwgEAAAAAAAAAXo1COAAAAAAAAADAq1EIBwAAAAAAAAB4NQrhAAAAAAAAAACvRiEcAAAAAAAAAODVKIQDAAAAAAAAALwahXAAAAAAAAAAgFejEA4AAAAAAAAA8GoUwgEAAAAAAAAAXo1COAAAAAAAAADAq1EI93JGTo7ZEVyslAUAAAAAAADAn4ef2QE8bevWrZo6daqysrJUtWpVTZw4UQEBAWbHumkcfn46+fZMs2NIkoJ69bvueiMnWw6/Yh5Kc31FyZKbkyUfP38PJbo+K2UBAAAAAAAArOZPVQj/7bff9Oqrr2rp0qWqVKmSpkyZojfeeENjxowxOxokOfyK6cRbw8yOIUkKfTHuhj/j4+evn2e18UCaG7un75ob/oyViuVWygIAAAAAAADv96cqhH/++ed64IEHVKlSJUlS586d1aZNG40ePVoOh8PccMBN5uPnr6/faWV2DElSrRc+vu56Z06WfC1SKC9KFjvltVNWScpxZsnP1xp5i5LFTnmznVkqZpGsRcmS5cySv0Xy3ihLljNb/r7WuMOpKFmynDny97XGIWFRslglr52ySkXN65S/r6+HEl2flbIAAADAO1jjyNxDUlNTFRIS4nocEhKijIwMXbhwwavbowB24+vnry3vRZodQ5IU/vz6G/6Mr5+/1rzf3ANpbqzNsxuuu97Xz1+LFzTzUJrr6/L0Jzf8GT9ff72z0Bp5X+hWtLxTlloj79DO189bzNdfw+Kf8FCa64uL3njDn/H39VfrNdbIu7bN9fP6+xZTi48GeyjN9SW2nXrDn/H39VOL1ZM8kObGEtu9esOf8ff1U+Qq89u+rY+6fss36f9nTZjngTQ3tr79czf8GX9fX7WMX+yBNDe2LrrLdddbqVBelCz2y5srf1/zp5MqSg6rZJW8L2+O05CfrzUGjBUli9NpyNcieYuSxSp5i5Ij12nIxwJZpaJlyc0x5ONnkbw3yGLkGHJYJGtRshg5uXL4WeM7rChZrJK3aFmdcvhZ41jBSln+aA7DMAyzQ3jK22+/rRMnTmjs2LGSpJycHN1///3avXu3SpQoUeBzHnnkEZUvX96TMQEAAAAAAAAAv9Ovv/6qr776qsB1f6oR4aGhodqzZ4/rcVpamkqVKlVoEVxSoRsOAAAAAAAAAGAP5t8f4EH169fXnj17lJKSIklatmyZmjRpYm4oAAAAAAAAAMBN9adqjSJJ27Zt09SpU5Wdna0KFSooLi5OpUuXNjsWAAAAAAAAAOAm+dMVwgEAAAAAAAAAfy5/qtYoAAAAAAAAAIA/HwrhAAAAAAAAAACvRiEcAAAAAAAAAODVKIQDJsjIyJAkHThwQB999JGys7NNTgQAAAAAAAB4LybL9LBvvvlGv/32m67e7E2bNjUxETxtxowZOnr0qAYPHqzo6Gjdc889uvPOOzVhwgSzo3kFu33G/vnPf+rs2bO2yWu37WsnbNubx26fMwAArvaf//xHy5YtU3p6utvy2NhYcwIVAfte2JVd3rspKSmqVKmS27L33ntPzz//vDmBisAu29aO0tLSdPr0abdte//995uYyLr8zA7wZzJixAht377d7cvK4XBY6oM/YcIEjRgxQr169Spw/dtvv+3hREVjp4PDbdu2afHixVq+fLkiIyM1YsQItW/f3uxYBQoPD5fD4XA9djgcuvXWW3XvvffqlVdeUVBQkInp8rPDZ+xqsbGx2r59uypWrOhaZuW8dtq+hw8f1rvvvqv09HS3gwGrfofZadtKV75zV65cqdOnT7stt+J3rt0+Z5cuXdKnn36a76LIM888Y2IqmMFOn7NTp05pxIgROnLkiBYvXqxhw4Zp0qRJljtOkKRNmzZp8uTJrs+YYRhyOBz69ttvzY5WILvszzp37qylS5fqoYcecjt2tPL2tcu2laShQ4fqlltu0X333ee2fa3KTvve3Nxcvf/++/rpp580cuRILV68WM8//7x8fX3NjlYoux0r2Gl/Zqf3bs+ePbVw4UIFBwfr+PHjevnll5WZmWnZQridtq1kr33E9OnTNX/+fN1+++2uZQ6HQ5s3bzYxVeHM3rYUwj1o586d2rRpk2655RazoxSqbt26kqRmzZqZnOT3sdvB4a233qodO3YoJiZGkpSVlWVyooJFRETowoUL6tKli3x8fBQfH68LFy6oatWqGjVqlOV2Anb4jF1t586dSkxMVEBAgNlRisRO2/eVV17Rgw8+qFq1atniO8FO21aSBg0apJIlS6patWqW3752+5wNHjxYJ06cUJUqVSy/bSV7XYhOSkrSxIkTXSORrFygk+z1ORs7dqwiIiK0aNEilSpVStWqVVNsbKzmzp1rdrR8pkyZomHDhtliu0r22Z/NmDFDkrRu3TqTkxSdXbatJKWmpmrDhg1mxygyO+178y6M7du3T5KUnJysU6dOWXI/lsduxwp22p/Z6b370ksv6fnnn1enTp00c+ZMde3aVb179zY7VqHstG0le+0jPv74Y23ZssWtEG5lZm9bCuEedPvtt1u+yFGjRg2lp6ercePGZkf5Xex0cFimTBmNGTNG+/fv14wZM/TGG29YcsSUJO3atUurVq1yPY6NjVV0dLQmTZqkhIQEE5MVzA6fsauFhoba5kBAstf2zczMtPQJzLXstG2lK8XPhQsXmh2jSOz2OTt06JA++eQT+fjYYxoXO12InjJlil555RVbZJXs9Tn79ddf1bFjRy1ZskTFihXT0KFD1apVK7NjFSggIEARERFmxygyu+zPvvvuu+uuL1++vGeC/A522baSVK5cOV28eFElSpQwO0qR2Gnfu3PnTq1evVpRUVEKCAjQ+++/rzZt2pgd67rsdqxgp/2Znd67TzzxhJxOp4YNG6Z58+bpkUceMTvSddlp20r22keUKVPGNkVwyfxtSyHcAz799FNJUqVKldS3b1+1aNFCfn7/t+mtdCtInTp1XCeHebcoOBwO16ipgwcPmhmvUHY6OIyLi9OKFSv0zjvv6NZbb5XD4VBcXJzZsQp04cIFZWRkuHZYGRkZunTpksmp8rPTZ+xqNWrU0KBBg9S4cWO3IqjV8tpx+1asWFEnT5607EWmPHbctpJUtmxZpaenq3Tp0mZHuSG7fM7y3HbbbcrJyZG/v7/ZUYrETheiS5Ysadn/3wtip8+Zw+FQbm6u63FGRobbYyt54IEHlJSUZJtiuF32Z9crcln11ne7bFtJCgoKUtu2bVW7dm23fZlVizR22vf6+fm5FZT9/f3djsWsyG7HCnban9nhvXttG9tSpUppzJgxrpYjVrtrO48dtu3V7LCP+P777yVJ9913n8aPH69WrVq5fX9ZtUe42dvW2t/wXuLaA8OlS5e6/m21A8MffvjB7Aj/FTsdHN5+++16/vnnlZmZqfT0dD333HNmRypU+/bt1bFjRz3xxBMyDEOffvqpOnTooIULF6py5cpmx3Ox02fsart375YkrVy50rXMinntuH1zc3PVsmVL3X///SpevLhrudUODO22bcePHy9J8vX1VYcOHfToo4+qWLFirvVW/M61y+ds/vz5kq6cLHbr1k1NmjRx27ZW7ftppwvRYWFh2rZtmxo2bGh2lOuy4+esadOmGjJkiM6fP69ly5Zp5cqVat68udmx3OT1rnY6nVq+fLmr2GX1Fjl23Z/ZgV22rXRlRL0VR9UXxi77XkmqUqWKFi9eLKfTqcOHD2vBggWqVq2a2bEKZLdjBTvuz+zw3r22ja1d2traYdtezQ77iH79+rk93rJli+vfVu4Rbva2dRhXdyaHR2VnZ7vtCKwkKytL27Zt04ULFyRJTqdTR48e1aBBg0xOVrBZs2YVuLxv374eTnJjS5cu1aRJk5SdnS1Jlh9t//nnn2vbtm3y8/NTw4YNVadOHe3fv1+VKlWy/K1NVv6MeQMrb9/Vq1cXuLxdu3YeTvLfseq2Ley7No8Vv3Pt4tVXX73u+kmTJnkoye/z6quv6ptvvrHFhejHH39cx44dU7FixVSsWDHLFkDt+jn76KOPtHXrVuXm5qp+/frq0KGDpVrQ/Prrr9ddb9Uio132ZxMmTNCIESPyjVTMY6XCQR67bNvC2OUipNVlZGRo4sSJ2rp1q5xOp+rXr6/Y2FiVKVPG7Gj52O1Ywa77M7syDENHjhxRpUqVzI7iFey2j7hw4YL+8pe/6PLly8rIyNBtt91mdqRCmb1tKYR70K5du/TPf/5Tzz//vLp06aJDhw5p0qRJatGihdnR8unTp4+OHTumU6dO6b777tOePXtUu3ZtvfXWW2ZHKzKrHhxGRERoxowZlr1N5Vp79uzR9u3blZOTo3r16ql27dpmRyqUnT5jkpSSkqJFixbp4sWLMgxDubm5OnLkiJYtW2Z2tALZbftezeoHhnbbttnZ2dqwYYNat26tU6dOaf369Xrqqacs2avSbp8zSfr6669Vq1Ytpaena9euXZZu4WCnC9GFFUKtWgC9Wlpamo4dO6aHH37Y7Cg3ZPWsmZmZ+vHHH1W9enUtXbpU+/btU9++fVWuXDmzoxWJVfdnW7ZsUXh4uOknt/8Lq25b6cpkv2+++abbviw9Pd01wtJq7LjvzWPVwQiFycrK0n/+8x/bfIdZfR9hp/fusmXLNHnyZGVmZrqWBQYG6osvvjAxVeHstG0LYuV9RGJiov7xj3/o008/1b/+9S89+eSTmjBhgsLDw82OViSe3rbWO2P1YlOmTFH16tWVlJSk0qVLa/369Xr//ffNjlWggwcPatWqVWrSpImGDx+upUuX6uzZs2bHKlRSUpJat26tiIgINWnSRI0bN1a9evXMjlWg22+/3TZF8I8++kj9+/fX+fPndeHCBQ0ePFgrVqwwO1ah7PQZk67M+J6dna3du3erfPny+vnnn1WlShWzYxXKTtt32bJlqlGjhv72t7/pb3/7m+677z516dLF7FiFstO2laRx48Zp69atkiQfHx998803mjhxormhCmG3z9n06dP15ptvSpIuXbqkuXPnWvoidN++ffP99+yzz5odq0Dly5fX2bNndeLECR0/flzHjh2z7MmidOUOssGDB+u3335TVFSURowYoalTp5odq0BLliyxTdZXX31Vmzdv1t69e/Xee+8pNDRUI0eONDtWoeyyP8s72W7Xrp1at26t8PBwNW7c2PWfFdll20rS5MmT1atXL4WGhmr06NF67LHH1KlTJ7NjFcpO+95du3bprbfeUlZWljp06KCHH35YiYmJZse6rk2bNum1115TRkaGnnjiCbVp00YffPCB2bEKZaf9mZ3eu3PnztX8+fPVsGFDrV69Wv3797f04Ak7bVvJXvuIt99+Wx9++KEk6a677tKqVas0c+ZMk1MVzuxtSyHcg5xOpx599FHt2LFDERERuuOOOyw7kVBQUJD8/PxUqVIlHTp0SPfee6/Onz9vdqxC2engsH79+lqyZInS0tKUnp7u+s+KFixYoJUrV2r48OGKjY1VfHy86wvWiuz0GZOu3L40duxY1a9fXw0aNND8+fP13XffmR2rUHbavnY7MLTTtpWu9PibNm2apCsTNs2YMUNfffWVyakKZrfP2ebNm10XQUJCQrRo0SJLn5Db6UJ0bGysnnvuOfXs2VMjR47Us88+q48//tjsWIVauXKlXn31VW3cuFHh4eFav369ZQv38fHxtsl67NgxDR48WJ999pnatWunfv36WfY4TLLf/mzJkiV66KGHVKdOHdWtW9f1v1Zkp2176623qkWLFqpevbqKFy+uMWPGuC5IW5Gd9r12G4wgSe+88446duyoTz/9VNWrV9dnn32mNWvWmB2rUHban9npvVu6dGmFhYXpb3/7m06fPq3evXvr66+/NjtWoey0bSV77SNyc3MVEhLiehwaGmrpc0mzty2FcA/Kzc3V3r17tXXrVj366KM6dOiQq0+01ZQoUUIff/yxqlWrpg0bNujHH3/UxYsXzY5VKDsdHM6dO1fjxo1z9du28glCbm6u20y+wcHBlmx9kMdOnzFJrpnTK1asqJ9++kklS5a0VD/Va9lp+9rtwNBO21a6cttwVlaW63FOTo6Jaa7Pbp+za2/JLlasmKXz2ulC9I4dO7R582Y9/vjjrgPwq/uaW43D4dDtt9+unTt3qm7duvLz87PsSY2dsuZ9X33++eeqU6eOnE6npY9x7bY/mzdvnpYvX66DBw/q4MGD+uGHHyw7D46dtm3x4sWVlZWlChUq6ODBg/Lx8bH0vsFO+167DUaQrrQRqFq1qnbs2KEGDRooICBAVu54a6d9hJ3eu35+fjp79qwqVqyovXv3SrryfrYqO21byV77iMDAQC1btkw5OTlyOp2Kj4/X7bffbnasQpm9ba1b0fJCvXr10uDBgxUdHa0777xTvXr10sCBA82OVaBRo0bp4MGDqlevnnx8fNS1a1fL3uos2evgcO/evfrhhx/c/rPyCUJSUpLrcVJSkkqVKmViouuz02dMunIQMGHCBNWoUUOLFi3SwoULLV1QtNP2tduBoZ22rSQ1atRIzz33nOLj45WQkKAXXnhBDRo0MDtWgez2OatRo4YGDx6snTt36ssvv9Srr76qsLAws2MVyk4XosuWLasSJUqocuXKOnTokB555BGlpqaaHatQ/v7+evfdd/XPf/5T9erV05IlS3TrrbeaHatAdspavXp1tWjRQpcuXVKNGjX09NNP69FHHzU7VqHstj8rVaqU/va3v5kdo0jstG3Dw8PVs2dPNWjQQAsWLFC/fv0sOZljHjvte+02GEG60pYuMTFRn3/+uerVq6dt27ZZ9txXstc+wk7v3Y4dO+qFF15Qo0aNtHz5ckVFRenuu+82O1ah7LRtJXvtI8aNG6cVK1bowQcf1IMPPqgVK1ZozJgxZscqlNnblskyTeR0OuXr62t2DK/w9ttv68svv1RcXJxiYmL0wAMP6LffftPixYvNjpZPVlaWtm3bpgsXLki68j44evSoBg0aZHKy/H766Se9+OKLrpGfxYoV06xZs1StWjWTkxWN1T9jmZmZ2r59u5o1a6YlS5boiy++0LPPPquaNWuaHa1IrLx94+PjFR8fr7fffltt27ZVYGCggoODNWfOHLOjFYmVt610Jd/ixYu1c+dO+fn5qW7duurcubMlT8Ls9jm7ePGiZsyY4bZt+/bta9kTxo4dO2rRokVas2aNLly4oKefflotWrSwZDuXrl27asCAATp79qy2b9+uoUOHqm3bttq8ebPZ0Qr0yy+/6P3339fjjz+uRo0aafDgwXrxxRcteZJ7+PBhzZs3zxZZnU6ndu/erapVq+qvf/2rtm7dqoYNG1ry+0uyz/4sr73Mm2++qQoVKqhly5by8/Nzrc8bCWgldtm2eY4fP65y5crpwIED+vrrr9WyZUvddtttZscqkJ32vZ9++qmmTJmiyMhIDRw4UOHh4RoxYoSaNGlidrRC7dq1S7NmzVLz5s0VExOjTp06aejQoZbcvpK99md2eu8ahqHMzEyVKFFCaWlp2rdvn+rXr2/Zu93stG0l++0jJOns2bPy9fVVQECA2VGuy+xtSyHcAyZMmKARI0aoV69eBa5/++23PZzoxr766ivNnTs33wSZ8fHxJiW6MbscHPbp00fHjh3TqVOndN9992nPnj2qXbu2ZSdDczqdSklJkdPpVOXKld1OaqyisM9WHqt9xjIyMhQQEFBoT1KrnSza8TtMulJQvPrA8LHHHlPx4sXNjuXGrtt2yZIlevLJJ92WzZ07Vz179jQpUX436vlrtc+ZXdnpQvR3332nhQsX6vXXX1eXLl30/fffq2fPnhowYIDZ0bzCpUuXdOTIEVWpUkWXLl2y3MWbvFvyP/300wLXN23a1MOJis4O+7Nq1arJ4XAU2J7B4XBY9u5Hq29bu71v7XaMWxCrD0bAzWHH926DBg0UHR2t9u3bq3z58mbHKZQdt20eq+8j8ly4cEFvvPGGDh8+rBkzZmjatGkaNmyY/vKXv5gdrVBmblvrVbS8UF7/52bNmpmcpOhiY2PVrVs3VahQwewoRXby5En99NNPkqRKlSpp//79atiwocmp8jt48KA+/fRTjRkzRs8884xyc3Mtd9vK+PHjr7s+NjbWQ0mKxk6fLUnq1q2bVq9erTp16uQ7abTiyaKdvsPWrFmjNm3aaP78+fnWLVmyRM8884wJqQpnp20rSUuXLtWlS5e0YMECXb582bU8Oztby5Yts1QhvLDPl2EYlvyc5cmbiPTs2bNu2a06qWOvXr3UunVrBQcH66233nJdiLai6tWrq3r16pKkFStW6Pz58/rrX/9qbqgCdO7cWUuXLtVDDz1U4Cjlb7/91oRU1/fdd9+pb9++8vPz07Jly9SmTRvNmTNHNWrUMDuay/r161W3bl0tXLgw3zqHw2G5gqLd9mc//PCD2RGKzE7b1m7v24KOca2+7z116pRGjBihI0eOaPHixRo2bJgmTZrkNk+SVQwYMEAzZsxQq1atClxvtWMFO+3P7PjenT9/vlavXq0nn3xS99xzjzp06KCIiAjLDVyz27a10z4iz/jx4xUUFKTTp0+rePHiysjI0KhRozR16lSzo7mxyra11ifES9WoUUPp6elq3Lix2VGK7LbbbtNTTz1ldowiGzRokHbt2uV2wOJwOCxZCA8KCpKfn58qVaqkQ4cOqXnz5jp//rzZsdxY+apsQdq1a+f6d2pqqn788UfVr19faWlpKleunInJCrZ69WpJ9jlpDA8Pl3RlO2dlZSkzM9OyE/IcOXJEknTo0CGTkxSNnbatdKWf26FDh3Tp0iW3bezr66tXXnnFxGT52eXzda1Ro0YpKipK9913n2VbNUj5Rynu379f0pVZ6r/55htLFWfsdufFjBkzJEnr1q0zOUnRTZ48WQsWLNCQIUMUEhKiyZMna8KECUpISDA7mkveRf4FCxbkG+157NgxMyJdl932Z3ns0ALQTts2731bUCHcivKOcQ8cOCAfH/fpyG50p5ZZxo4dq4iICC1atEilSpVStWrVFBsbq7lz55odLZ8ePXpIkkaOHGlykqKx0/4s770bHx+vv//97yanKZq7775bQ4YM0UsvvaTk5GTNnj1b48aN044dO8yO5sZu57522kfkOXjwoCZNmqRt27bp1ltv1RtvvGHJgSlW2bYUwj2goFFpeax4BUy6UpxZvHixHnvsMbcrilYsKkpXTsA3b94sf39/s6PcUIkSJfTxxx+rWrVqWrFihSpXrqyLFy+aHctN3759C11ntaxX27Ztm0aPHi0fHx8tW7ZMkZGRmjJliiIiIsyOVqBZs2a5PXY4HLr11lt177336rHHHjMpVeGWLVumiRMnuiYQsuJV/P79+0uSJk2aZHKS38cO21aSOnTooA4dOigpKcmyn6tr2aEoczU/Pz9LjjS5lp1GKdrtzovvvvvuuuutePvzpUuXdM8997geN2zYUNOnTzcxUeFeeeUVTZkyxfV45cqVmjJliv75z3+amCo/u+7PBg0aVGALQCux47Y9fPiw3n33XaWnp7udU1rtQl6e9u3bu4pfebp27WrJguivv/6qjh07asmSJSpWrJiGDh1a6IhrswUGBur48eO64447zI5SJHmD1MqXL69//vOf+e52s+L+bOjQodqwYYPZMYrs9OnTWrt2rVavXi3DMNS7d2+zIxUqMzNTGzduzPc+sNpxb94+okWLFpY8Jy/ItRcenU5nvmVWYJX9L4VwD7DLla+rnTlzRtOmTXPr7+hwOCx1+9LVKleurJycHFsUwkeNGqUVK1Zo6NChio+PV9euXS1bkElKStKbb76pixcvyjAM5ebmKj09Xbt37zY7WoFmzZqlFStWqGfPngoKCtKSJUs0bNgwyxbsDh06pN27d6tZs2by9fXVpk2bVL58eW3YsEF79+5Vnz59zI7o5r333tPSpUt1//33mx3lhuzWXsJO21a6MnqyoFvarHYgK9mjKHO1e++9Vz/++KOqVq1qdpTrKmyUYnZ2tooVK2ZGpELZ7c686438tNpFhjx+fn46e/as6y6Gw4cPm5yocFlZWRo/frxefPFFjRgxQseOHdN7771ndqxC2W1/ZocWgHnstG1feeUVPfjgg6pVq5al7xbq3r279u3bp0uXLrm1RsrNzdUDDzxgYrLCORwO5ebmuh5nZGS4PbaSyMhI1wC7S5cu6S9/+Yt8fX117tw53Xbbbfr888/Njlig2NhYbd++XRUrVnQts+r+rGrVqvr4449Vs2ZNlShRwrXcindM9+rVS7t371ZERIRee+01hYWFmR3pul5++WX9+uuvqlKliqW/x/LMnDlTo0ePVvv27RUdHa3g4GCzIxWqVq1amjJlii5duqTk5GQtXrzY0uc7Zu9/KYR7kJ1Gf3722Wf6/PPPdfvtt5sdpUhiYmLUunVrPfTQQ24j2M2+0lSQSpUq6eWXX5Yk/eMf/zA3zA1MnjxZAwcO1NKlS9WjRw8lJSVZesIFp9Pp1h7nb3/7m6V3sqdPn9aqVatUtmxZSVcOZgYMGKDFixerffv2liuE33777bYp1NqlvUQeO21byf12tqysLH399deuUbdWY6eijHTlIkP79u1Vrlw5twljrFiYkaRdu3bpn//8p55//nl16dJFhw4d0qRJk9SiRQuzo7nk3ZknyXWwbeXelNcWwnNycmQYhuUuMFytd+/e6tq1q/7zn//opZde0hdffKFx48aZHatA06ZN04ABAxQREaHOnTtrxowZlh5IYbf9mR1aAOax07bNzMy03Bw9BZk9e7bS09M1fPhwt/MwPz8/1/Gu1TRt2lRDhgzR+fPntWzZMq1cuVLNmzc3O1aB8gYjjRo1So888ogiIyMlSZs3b1ZSUpKZ0a5r586dSkxMVEBAgNlRbmjz5s3auHGj2zIrHitIV+7inzp1qqXPz6/2448/KjEx0XI9zAuzYsUK/fLLL1q1apU6duyoatWqufqwW82QIUM0d+5c/fWvf9X06dP12GOPWa6WcDWz97/2eAd6CTuN/rztttsUGBhodowimzlzpurXr2+LyT13796tuXPnuo2y/ve//62tW7eaHS2fW2+9VS1atNDBgwdVvHhxjRkzRpGRkRo2bJjZ0Qp066236vjx464v0127dllyVuc86enpbicFZcqUUXp6uvz9/S15gFC/fn0tWbJETZo0cduuVhwhYZf2EnnstG2l/BcZ09LSNGLECJPSXJ+dijKSLHuHUGGmTJmiAQMGKCkpSaVLl9b69es1cOBASxXC7XhnnnTlYukrr7yinTt3yul0ukb7WHFEUuPGjVW5cmV98cUXys3NVZ8+fXT33XebHctNXj97SXriiSf03XffyeFwuI6/rDgyUbLf/swOLQDz2GnbVqxYUSdPnrTkBI5XCwgIUEBAgD788EO35YZh6MiRI6pUqZI5wa6jV69e+uijj5Sbm6sdO3YoJiZGHTp0MDvWde3fv9/tYmOTJk3yDbqzktDQUFsUwSVp3759Zkcosvbt2+v999/X9u3blZOTo3r16qlXr16WPI+UpJCQELMj/G533323hg4dqmbNmmn8+PF66aWXtHfvXrNj5XPixAn16dPHrab42WefWfZuSLP3v9b8hHgpO43+rFKlip588kk1btzYbZSMVQ8WfXx8LD3C72qxsbFq06aNPvnkE3Xq1EmbN2+27MlX8eLFlZWVpQoVKujgwYN65JFHLDliJiMjQwEBARoyZIieffZZnTp1SjExMUpJSdHMmTPNjleoO++8U1OnTlXHjh0lXZmcpUKFCtqzZ48le3rNnTtXWVlZbgfeVh0hYZf2EnnstG0LEhwcrF9//dXsGAWyU1FGkmrXrq29e/fqwIEDioqK0vfff6+HHnrI7FiFcjqdevTRRxUbG6uIiAjdcccdlr2l3G794seNG6ewsDBNnTpVTqdTCxcu1JgxYzRnzhyzo+WTnp6uUqVKuV0ASU9Pt9TFvGtH2t91113as2eP9uzZY9lb9CX77c+ubQHYrVs3y37G7LRtc3Nz1bJlS91///1uF8yt2iN82bJlmjx5sjIzM13LAgMD9cUXX5iYqnBt27ZV27ZtzY5RZLm5ufrqq6/0yCOPSJK2b99uyXO0PDVq1NCgQYPUuHFj3XLLLa7lVvzetdOxwvTp03Xw4EF1795dubm5Wr58uSZPnqzhw4ebHa1AVapU0VNPPaXHHnvM7X1g1RrT1f3XnU6noqOj9c4775gdq0BPPPGEBg8erOeee8617M0337RsIdzs/S+FcA+y0+jPS5cu6a677lJKSorZUYrk/vvv19atW9WoUSOzo9yQw+FQz549debMGVWuXFmtWrVS+/btzY5VoPDwcPXs2VNxcXGKiYnRN998ozJlypgdK5+6deuqZs2aatSokeLi4pSenq7c3FyFhYVZ+s6GiRMnavz48WrXrp38/PzUqFEjjR8/XomJiZYcdW/Fq9+FsVt7CTttW0lu/cENw9D+/ft12223mZiocHYqykjSqlWrNG/ePF2+fFmPP/64XnzxRQ0aNMh1wcxqcnNztXfvXm3dulUvvPCCDh065Jr01Wrs1i8+JSVFM2bMcD3u37+/6zZ4q7m6/UyesmXLavv27SYlyi+vEL548WJ16dLF5DRFZ7f92ZdffqnnnntODofD8i0A7bRtH3/8cT3++ONmxyiyuXPnav78+ZozZ44GDhyozz77TKmpqWbHKlBiYqJmzJihc+fOuS3fuXOnSYluLDY2VgMHDlSxYsVkGIYMw9Ds2bPNjlWovJYuK1eudC2z6gVIOx0rbN++XQkJCa7WaY0aNVLr1q0tWwi/cOGCKlasqKNHj5odpUiaNm2qpk2batSoUXr44YfNjnNdd9xxh7Zu3apjx45p9OjRrhaAVmX2/tda1VcvZ6fRn3m3vf/666/Kyclxm9jCinbs2KEVK1aoWLFirgMCq07umdfDq0KFCvrpp59Us2ZNy/3/n6dXr15q3bq1goOD9dZbb+nrr79Wy5YtzY6Vz7Zt2/Tll19q586dWrRokXx8fNSwYUP5+/urdu3alu2rGhgY6JokolSpUq7lTz75pImpCmenERJWzHQ9dtq2knuPcIfDodDQUNfcB1bz888/55uX4aOPPjIv0A0sXLhQy5cvV9euXXXbbbdp1apVev755y1bCO/Vq5cGDx6s6Oho3XnnnQoPD7dsmxy79YvPycnR5cuXXScImZmZlh3xd3X7maysLK1bt07/+te/TExUuKVLl9qqEG7V/UBh9u/fr9mzZ6tixYpq1qyZmjZtasl2PpK9tm27du3cHue1GrGq0qVLKywsTH/72990+vRp9e7d21Its642ZcoUxcbG2qLFZp6HH35Yn332met4rGrVqpYbWHe1600CbTV2Ola4dv4Qf39/y573Stacv+16Ro4cme9OkY8++siSd4/85S9/0bx58zRkyBD17t1b06dPt2yNSTJ//2vdb0svdPXoT19fXzVu3Niyoz+PHDmiF198USdPnlRubq7KlCmjd955x3L9HvO88cYblp2A5VoPPPCABg4cqAEDBuiFF15QSkqKZQ9cri0WlSpVSrt27dI999xjqfdCYGCgWrRo4TrA/vXXX7Vjxw5NmTJFR44ccY1CsJrDhw+rb9++On/+vOLj4/X0009r1qxZltq2V7PTCInatWsrPT1dmZmZMgzDVVi2Kjtt202bNunw4cM6dOiQbrnlFlWtWlXNmjWzXN+/LVu2KCcnR5MnT3aNlpKuFBdnzpxpyYNY6Uqrr6v7aIaGhsrX19fERNeXN1omz6ZNmyyb12794iMjI/X0008rKipKDodDCQkJatasmdmxbsjf319RUVGKiorS4MGDzY6Tz1133aXY2Fg9/PDDKlGihGu5FUcmSlf2Z3v27FFycrKys7NVr149y+4fJGn8+PGSpO+++05btmxR586dFRQUpGXLlpmcLD87taKyW6sRPz8/nT17VhUrVtTevXtVr149OZ1Os2MVqHz58mrSpInZMX6XCxcuaOrUqfrll180Y8YMjRs3TsOGDbPspImHDx/Wu+++q/T0dLdRqlZs7WOnY4Vq1app4sSJ6tq1qxwOhxYtWqQqVaqYHatQdpkrLe8cYtasWfrLX/5im3MIf39/zZgxQ+PHj1e3bt10+fJlsyPl88svv+juu+82/bvKmtU3L5U3+vNaVhz9OW7cOD3//POu0QcJCQkaO3ZsvolPrOKVV17JN7uzVY0YMUJ79uzRXXfdpeHDh2vHjh0Fvi+sYM2aNfruu+9Up04d+fr6aufOnbrzzjt17tw5vfDCC4qJiTE7optjx45py5Yt+uKLL3TgwAHdf//9lh1FKV05WRwxYoRr8rOuXbtq1KhRWrx4sdnRCmSnERIzZszQ3LlzJUm+vr7Kzs7WPffcY8nbnSX7bNsNGzZo+vTp6t+/v6pVqyaHw6F9+/ZpwoQJunz5sqUKSQcPHtSXX36p06dPu+27/Pz89PTTT5sX7AZKly6tgwcPukb+rl271u2OEas5deqURowYoSNHjmjx4sUaNmyYJk2aZMkJ3ezUL/7QoUO65557JMk1AWVUVJSio6NNTlaw9PR017/z2iVd22bAKtLT05Wenu42mtaqt+hLVwYlTJ8+XU2bNpVhGBo8eLD69etn2eObrKws7dq1S59//rmrSHvvvfeanKpgdmpFZadWI5LUsWNHvfDCC3r77bfVtm1bbdq0ybIDPdq2bau4uDg1aNDAbXBSrVq1TEx1fePHj1dQUJBOnz6t4sWLKyMjQ6NGjdLUqVPNjlagV155RQ8++KBq1apl2Tub8tjpWGH06NF67bXX1KlTJ+Xm5qp+/foaOXKk2bEKZZe50ux4DpHXDtbhcGjYsGFasGCBpk+fbnKq/CZPnqx33nlH/fr1y7fO4XBo8+bNngliwGO+/fZbo2vXrkarVq2Mli1buv6zojZt2uRbZtWshmEYzz77rPHNN98YTqfT7Cg3tHv3brfHmZmZxpgxY8wJcwPPPPOM8fPPP7seHz161OjZs6dx/vx5o1WrViYmczdt2jSjZcuWRuPGjY1Ro0YZn332mXHp0iWzY91Qu3btDMNw/7y1bt3apDQ3FhMTYxiGYbz77rtGYmKiYRiGpd4HV2vcuLGRlpZmDBo0yDhx4oSxevVqY+DAgWbHKpRdtm2nTp2MX3/9Nd/yw4cPG506dTIh0Y0tWrTI7Ai/y88//2xERkYaDzzwgFGvXj0jPDzc+OGHH8yOVag+ffoYy5cvN1q1amVkZWUZkydPNnr06GF2rAL961//MuLi4ozc3FxjwIABRq1atYwlS5aYHSuf+Ph4o1atWkZ0dLRRu3ZtY/v27WZHuqGqVasa1apVM6pWrWpUrVrVePTRR43169ebHcsrtGnTxkhLS3M9Tk1NNSIjI01MdH0PPPCAUb9+fWPevHnG4cOHzY5zXW3btjXOnz/vOg47fvy40aJFC3NDFSLvmPEf//iH8fnnnxuGYRjNmzc3M9INXbhwwTCMK+/ZTZs2GZmZmSYnKtiQIUOM2rVru52fW/m81zD+79wh73+dTqel3w9W355XO3z4sNuxwsMPP2wsXrzY7FheIW/f9frrrxu7du0yMjMzLfudaxj2OIe4fPmy8fLLLxuffvqpa1nPnj2NYcOGGSdOnDAxmbUxItyDRo0apaioKN13332WvxLqdDqVnp6u0qVLS5J+++03cwPdwC+//KInn3xSfn5+8vf3t3SP8EGDBmnu3Lm69957tXfvXg0dOtSyIyROnTrllu3OO+9UWlqaAgICLHXr+zvvvOOa2LN69epmx/ldLl++7Po+OHXqlHJzc01OVDg7jZAIDAxUUFCQKleurB9++EFt27bVu+++a3asQtll2164cEHlypXLt/yuu+6y5O13ktShQwdt2rTJNv3XL126pDVr1iglJUVOp1N33XWXpfs9/vrrr+rYsaOWLFmiYsWKaejQoWrVqpXZsQpkl37xCxcu1Mcff6zg4GDt3r1b06dP12OPPWZ2rOu6uke41eW17rhWbGysh5MUTW5urtsdFsHBwZbu+zlx4kQlJydryZIl2rFjh+rXr6969epZclS4nVpR2anViHTlfbt48WJt375dOTk5qlevnho1amR2rAIdOHBA27dvd5uwzequ/Q5wOp2W/l6oWLGiTp48acm7xa5111135TtWsJobHWdZ9Q5YO82VJtnjHOLNN99URkaGatSo4Vo2btw4jR07VkuXLrVU1qv99ttvWrt2rS5cuOBqk3PkyBGP3dVCIdyD/Pz89Mwzz5gdo0i6du2qmJgYNW/eXA6HQ4mJierevbvZsQpl1VYSBZkyZYr69OmjiIgIrV69WsOGDbNsn6lSpUpp+fLlio6OlmEYSkhIUOnSpfWvf/3LUgXbjRs36rPPPtPUqVOVkpLiOtiuX7++2wmO1XTu3FnPPfecTp8+ralTp2r9+vV6/vnnzY5VqFGjRmnlypUaOnSoEhIS1K1bN8vuXP38/HT06FFVrlxZu3btUv369S1bqJWubNsVK1Zo6NChio+PV9euXfXSSy+ZHSuf6xUIDIvOTG6n/uuSNGTIEG3YsMGyF0iv5XA43PYHGRkZlto/SPbsF583ueBDDz2kM2fOmJzmxmbNmuX22OFw6NZbb9W9995ruSJ+3iAPScrOztZnn31m6e+E0qVLKykpSREREZKkpKQkS7dLatmypWti9c2bN2vq1KmKi4vTwYMHTU6Wn51aUdmp1YgkTZ06VT/88IO6d++u3NxcLV++XJMnT9bw4cPNjpbP7bffrpycHFsVwmvVqqUpU6bo0qVLSk5O1uLFi/XII4+YHatQubm5atmype6//3637WzFHuHh4eFugxav3p+98sorlijmjxw5Uk6nU7m5uSpWrJjOnz+vnJwcpaen66677jI7XqHsNFeaZI9ziK1btyo+Pl633HKLa1lwcLAmT56smJgYy56rDxw4ULfccot+/vlnPfroo9qxY4dq1qzpsb/vMKx65uqFXn75ZT333HOqWrWq2VGuyzAM5eTk6JtvvtFnn32mzz77TM8//7wl++VdbePGjTp48KB69eqlzZs3uw7Creirr75Sr169NH/+fEuPYD569Khefvll7d27Vw6HQzVq1NDrr7+ujz/+WJUqVdITTzxhdsR8zp07p+3bt+uzzz7Trl27VLlyZc2fP9/sWIX6+uuvtXXrVldft3r16pkdqUCbNm3Se++9p0OHDunWW29VlSpV9Mwzz6hhw4ZmRyvQZ599pgULFmjOnDlq27atLl68qIYNG2rChAlmR7uus2fPytfX17IXcNq1a6fVq1f/7nVmCg8PL7D/ulUvoA4cOFBNmjRRzZo13Sbyu7p4ZyVvv/22Dh06pD179qhHjx5auXKlGjdurL59+5odzWX27Nn68ssvtX//fv397393Lffz81N4eLi6detmYrr8rv0stW3b1pIj16/Wv39/7d69W82aNZOvr682bdqk8uXL69KlS2rUqJH69OljdsRCZWRkqHfv3lq4cKHZUQr0008/6cUXX1RWVpYcDof8/Pw0e/Zsy55PfPnll9q+fbuSk5OVlZWliIgIPf7445Y83v3ll180YMAAHT16VCVLllTx4sX11ltvWXbbXrx4USVKlFBaWpr27dun+vXruxU/rKR169ZKSEhw3dGUlZWl1q1bW3JOp5dfflnffvutHn30Ufn7+7uWW/UuEenKRby5c+dq69atcjqdeuyxx/Tiiy9atph/vWNHq5k4caIuXLigLl26yMfHR/Hx8bpw4YKqVq2qL7/80hLF+59//lk9e/bUyJEjVbduXdd2zMjI0Ouvv27Z80nDMLRnzx5Vr15dW7du1Y4dO9SpUydVrlzZ7GgFssM5hB3PzSQpIiJCSUlJGjNmjDp16qQyZcroxRdfVEJCgkf+vnUvv3ihY8eOqX379ipXrpzbTspKt65c+6U6ZswY+fr6aubMmSpfvrxlv1Tnzp2rL774QqmpqXr66ac1a9YsHTlyxFInXtfewuTn56fevXvr9ttvl2St90GeChUqaNmyZTp37px8fX1dtzP16tXL5GSFO378uH777TdlZWWpWLFilr7d6qWXXlLTpk3Vt29f3XrrrWbHKVRhEyROnDjRchMk5mncuLEaN24s6cqkr0eOHFG1atVMTlW4w4cPa+jQoa6RaTVq1FBcXFyBbUjM9OOPP7rdepfHMAxlZWWZkOjGgoKC5Ofnp0qVKunQoUNq3ry5zp8/b3asQm3evDlfocDhcFhyNKV0ZX/w0UcfKTc3Vzt27FBMTIw6dOhgdiw3jRo1UsOGDbVt2zbL3pp/PVZvpydJp0+f1qpVq1S2bFlJV94XAwYM0OLFi9W+fXtLHY9dKyAgQCdPnjQ7RqFKliypjRs3utolVa5cWSkpKWbHKpBhGHrttdcUGRmpKVOm6MiRI6pataoqVapkdrQCVa5c2TatqHJzc7V27Vrt2LFDfn5+atCggWWL4NKV98LV29Lf39+y27ZChQqqUKGC2TF+l4SEBHXq1MnS363SlcJsQECA65jcDnbt2qVVq1a5HsfGxio6OlqTJk3yWJHuRiZPnqyBAweqcePGrkzr1q3TyZMnNWjQIMvWbM6ePatKlSopPT1d1atXt+QF0qvZ4RzCx8fH9Tm7WkZGhnJyckxKdWN5NbC8bdu6dWuP5qUQ7kFWvS3hatd+qTocDq1fv15paWmW/lJdv369Vq5cqY4dO6pMmTJasWKFYmJiLHVwYOUZnAuTkpKiRYsW6eLFi269m5YtW2Z2NDcLFy7UV199pa+//lqlSpVSgwYNFB0drUceecTSJwmNGjXSxo0b9dprr6lGjRpq2rSpGjdubLnRwB9++KEWLFjgVpS9++67FRYWpuHDh1uyEH7q1CmtXr1a6enprmVr16519fyzmldffVUdOnRQ+/btZRiGli9frhEjRljuboZNmzaZHeF3s0v/9Tz79u0zO8Lv1rZtW0u2F8nTr18/ORwOGYbhdnKbN5+Ix2aoL6JrLzhdunRJNWrUsPT8J+np6a4iuCSVKVNG6enp8vf3t8xtz1lZWfL393frEW4Yhr7//ntLjkbL23/16NFDCxcu1G233eZa3rdvX8uNrLXjCMWGDRsqOjpa7du3V/ny5c2Oc12vv/66fvjhB7Vu3VqGYWjFihVKSUnRwIEDzY5WoGrVqmnixInq2rWrHA6HFi1apCpVqpgdq0AF3cFk5eMESdq/f79mz56tihUrqlmzZmratKmrpZaVdOvWTatXr1adOnXcLurm7c+seJH/woULboXFjIwMXbp0yeRU7k6cOKHWrVtLunKneZMmTeTr66vQ0FBlZGSYnK5wee+DvP//Jals2bLavn27yckKZodziJYtWyo2NlYTJ0503Ul68eJFxcbGWvIcPc9tt92m9957T9WrV9fMmTMVEBDg0c+ZNY5Mvdzx48dVrly5AvsJWe1DX9CXqo+Pj+W/VPMmycxTsmRJy5x45bntttt099136/vvvzc7SpENHjxYf//737V7925FRkbqs88+0/333292rHy2bdumBg0aaMiQIZYddVSQ1q1bq3Xr1srOztbGjRs1bdo0jRgxQnv37jU7mhs7TpDYu3dvhYSE6M477zQ7SpFkZmaqU6dOrsfdunXTihUrTExUMKsXCgpydf91K/e2HzlypF577TVJVyaQCQwMNDlR0SQlJWnixIk6e/asW594KxVrt2zZYnaE38WOF5zuvPNOTZ061dVGLz4+XhUqVNCePXssc2dWTEyMVq9ena/NUN6+2GoGDx6sL774QpLcev/6+vpasjWdHUcoLliwQKtWrdKTTz6pe+65Rx06dFBERITlziEkaceOHfroo49c2Vq3bq2oqCjLFsJHjx6t8ePHq1OnTjIMQ/Xr17fsoKCkpCS9+eabbgN/0tPTtXv3brOjFSrvgt53332nLVu2qHPnzgoKCrLcYKW8tgx2mlC5ffv26tixo5544gkZhqFPP/1UHTp00MKFCy1z0fTq/eru3bvd2vhY9dxMcn8fZGVlad26dfrXv/5lYqLru3YOp27duqlfv35mx3LTvXt3jR492jUpdW5urn755Re1atXKUoNCrzVu3DitX79eDz/8sP7+97/rzTff1JAhQzz29623l/dCffr0ce0E+vXrp5kzZ7rWTZ8+XQ0aNDArWj52/VINDQ3V1q1b5XA4dPnyZb3//vuWK9hMnjxZ77zzToFfnlYckSZdKYCOHTtWEyZMUIMGDfTUU0+pa9euZsfK57333jM7wn/ln//8p7744gvt2LFDJ0+eVJ06dVS/fn2zY+VjxwkSs7Oz803eZmWVK1fWt99+6xoFeujQId1xxx0mp7K3rKwsjRw5UhEREa47AS5evKjw8HDLte6QrozuyvPcc89ZtqfftaZMmaJXXnlF9913ny1aeNiB1Y5fimLixIkaP3682rVrJ19fXzVu3Fjjx49XYmKihg0bZnY8Sf+3v7JS//rrmTdvnqQrdwxNmjTJ5DQ3ZscRipUrV9aQIUP00ksvKTk5WbNnz9a4ceO0Y8cOs6Pl85e//EVOp9NVCHc4HG7zSFjNO++8o9dff93sGEWSdxFn6dKl6tGjh5KSklztIK0qKytLu3bt0ueff+66YHbvvfeanCo/O17k79mzp/72t79p+/bt8vPz08iRI1WnTh3t37/fMj3NS5UqpR9++EEZGRk6deqUatWqJenKIAQr3hlQEH9/f0VFRSkqKkqDBw82O06BKlWq5DqH+Mc//iFJqlGjhqXmlvHx8dFrr72mXr166fvvv5ePj48efPBBS0zqej1xcXGaPHmyJGno0KEaOnSoR/8+hXAPuLpQdOzYsULXWYFdv1RHjhypl19+WT/++KMeeughhYWF6Y033jA7lpt33nlHkjR8+HBFRESYnOb68m4fzhs1VbFiRf3000968MEHKXT8gZ566imVLVtWvXv3VseOHS05Asmu7r//fh06dMiyt+Fe6/jx4+rWrZuqVq0qPz8/HThwQGXLlnXNLWDFOQSs7s0331RGRoZbi4lx48Zp7NixmjlzpuVGhV99PGC1Y4PrKVmypKVvvYRnBAYGatq0afmWP/nkkyakKdjly5d14MCBQj9fVrzjTbpykeHYsWO68847tXXrVn3//fd66qmn9Ne//tXsaG7sOpjm9OnTWrt2rVavXi3DMNS7d2+zI7nJa5F2++23q0uXLmrTpo18fHyUmJhomdGpBdm6datli1vXuvXWW9WiRQsdPHhQxYsX15gxYxQZGWmZi3gFefjhh1WqVCk988wz+sc//qG77rrL7EgFurrdm50u8leuXFm33Xaba3/x/fffu022bbaXXnpJTz/9tDIyMjRkyBCVKFFC8+bN09tvv63Zs2ebHa9QV7esNAxD+/fv17lz58wL9F+w6jF6+fLlbTWQ4uDBg24tcjyNqosHXP1/7rX/R1utqGjHL9XU1FRdvHhRH3zwgSZNmqTz588rICDA1YDfaqZPn275Qnje7cMVK1bUhAkT1K5dO40YMUIXL1609KQLdrN9+3YlJyfr888/17x581SlShXVr19fXbp0MTuaGztOkFijRg21bdtWZcuWdbvAYMU7LwzD0IABA1SsWDGdP39eOTk5Sk9Pt+xJjV1s3bpV8fHxbvMEBAcHa/LkyYqJibFcIfxqVjs2uJ6wsDBt27ZNDRs2NDsKTFTYJNpvv/22h5MU7tixY+rXr1+BJ7FWvTNPutJiQrpy8Tw2NlaPPfaYhg8f7naHqRXYcTBNr169tHv3bkVEROi1115TWFiY2ZHyOXTokKQrFx1LliypAwcOSJLlJ3e844479Oyzz6pGjRpuo6ufeeYZE1MVrHjx4srKylKFChV08OBBPfLII5bfD0+cOFHJyclasmSJduzYofr167taI1iVVQuI15oxY4bef/9917wMkvX2EdWrV9f27dt16dIllSxZUpL00EMPaeXKlZZuE3p1j3DpSuvYESNGmJzq97H6d4NdBAUFKTIyUmFhYW77iKsvot9MFMI9wC5f+pL9vlT37t2rF154Qa+++qoqV66szz77TK1bt9a3336rxYsX69lnnzU7Yj5VqlTRnDlz9PDDD7vd0milkUh579kxY8Zo+/btuu+++9ShQwd98cUXGjdunMnpvEdQUJDat2+vxo0ba+vWrXrvvfe0a9cuyxXC7divdt68eXrjjTcsf6J49eRiNWvWdJtcbNKkSZZslWMXxYoVK3Cy3ICAALc5JawiNzfX1Wfb6XTm67l9bV9jq9i2bZsWLVqkYsWKqVixYpae0BE3T7NmzVz/zs7O1ieffGKp0XOSdM899+ijjz4yO8bvtn//fsXHx2vu3Llq166dBg8erKioKLNj5WPHwTTh4eGaOnWqpdtg2KEtTkHy9lm//vqrLl++rOLFi5sb6DrCw8PVs2dPxcXFKSYmRt98843KlCljdqzratmypVq2bCnpyiCPqVOnKi4uzpKTT+axSwFxzZo1+vTTTy17AS+Pv7+/2/FsQYOWrMZOveJxcz300EN66KGHTPv7FMI94Hont06n0+R0+dnpS3XGjBmaPn266tSpI+lK/7y+ffvq119/Vf/+/S1ZCN+zZ4/27NmjlStXupZZ7Srz1bcP33HHHfr+++8VFhZmyZEydjZjxgwlJycrNTVVjRs31rBhw/Too4+aHSsfO91mladkyZJq0aKF2TFu6EaTi1EI/+/5+PgoIyNDAQEBbsszMjIseWfLoUOHVKdOHdfxwdWT4zkcDsue3C5YsMDsCLCAa/umtmvXzlI9NO3MMAz5+Pjoiy++cI28v3Tpksmp8rPbYBrpyqR477//vrZv366cnBzVq1dPvXr1slSrurwWaQVxOBxau3atB9Pc2NXzczz++OOSpBdeeEH+/v6uCR6tplevXmrdurWCg4P11ltv6euvv3YVma3qyy+/dN1ZmpWVpYiICE2cONHsWPnY8SJ/aGio5YvgdnXp0iV9+umn+u2339zeB1a7U+Shhx4q8MKNYRiW3P/aUefOnd3uupCkjRs3euzvW2cv78VudHKL/96xY8dcRXDp/0Yyly9fXmfPnjUrVoH+8Y9/aODAgZo8ebIefvhhs+Ncl11vH7abgwcP6pVXXlHNmjX5LviD1alTR3FxcWratKnbhT0r3Xkh2XNyMbto2bKlYmNjNXHiRNfdNxcvXlRsbKwle1rbdZRM+fLllZiYqOTkZGVnZ6t+/fpq27at2bFgMsMwdPLkSbNjuLH6sVdhKlSooB49eujf//63ateurcGDB6tq1apmxyqQnQbTSFfaFR48eFDdu3dXbm6uli9frsmTJ2v48OFmR3MZOXJkvmU5OTn67bffLHkh0m7zc+T597//re+//16GYSg0NFTffPONJY8VpCvfr6+99poiIyM1ZcoUHTlyRFWrVrXkBSc7XuSvW7euJk+erCZNmrjdWWi1cwg7eumll5SamqoqVapY+tx33bp1Zkfwes8995wWLVqkgIAAZWRkaMyYMfrmm2/0xBNPeOTvUwj3ALue3NrBtbe3L1682PXvvNEoVrFu3Tp17txZ48aN08KFC/MVma10Rdyutw/bTUpKim1PzK0ub3LJTz75xLXMihdx7Dq5mB10795do0ePdvXMzM3N1S+//KJWrVqpT58+ZsfzGvPmzdPatWvVrl07GYah+fPn6/jx43rxxRfNjgYPurZH+KFDh1w9oq3CU30n/2iTJk3Spk2bVLNmTRUrVkwPP/xwvhH4+O9s375dCQkJKlasmCSpUaNGat26taUK4bVr13b9++zZs1q+fLkWL16sixcvWvKuCzvOzxEbG6vt27erYsWKrmUOh8OShfCrW+rVrVvXraXe66+/rnr16pmc0J0d6yCrVq2S5D461YrnEHb0008/6ZNPPnE7/7EiO94NbTdt27ZVz5499cILL2jMmDGqU6eO6/zdEyiEw9ZKlCih1NRUhYSESJKrx9+JEycK7A1rpnr16qlRo0YyDMPtarh0pRiWN/kN/jyqVaumjz/+WDVr1nTrF2+liyJ2tWXLFrMjFIkdJxezCx8fH7322mvq1auXvv/+e/n4+OjBBx9UUFCQ2dG8ykcffaSlS5e6WtBER0erY8eOFML/ZK7uEe5wONS5c2c99thjJiayv+PHj6tcuXIqUaKE2rRp41reuXNnbd++XQ0aNDAxnXcwDMNVBJeuDLC5+rFVHD58WB988IHWrl2r8uXL69KlS9qyZYv++te/mh0tH7vNzyFJO3fuVGJiYr5WalZ0o5Z6ViuE25FdziHs6LbbblNOTo5lvwvgOU8//bRycnLUq1cvvfnmm65WWp5CIRy21rFjRw0ePFhvvvmmq8fQ2bNn9eqrr+rJJ580OZ27sWPHauzYserSpYtr5HpOTo42btxouVsbGaXsGZs3b87XC8uqtwnazcWLFzV58mS3vp8jRoyw3EmOHScXs5vy5cszsuMmu/pz9de//tVS/XXhGUeOHNHAgQPdlo0fP962o7CtoE+fPlq9erUkqV+/fpo5c6Zr3fTp0ymE/wGqVaumiRMnqmvXrnI4HFq0aJGqVKlidiw3PXv21P79+9WiRQt9+OGHeuCBBxQeHm7JIrhkv/k5pCs9oa12fFgYWurdfPPnzy9wudX6WNtJ3jYtW7asunXrpiZNmrhddGTb/nlcPVeEYRi6/fbb9eGHH+qrr76S5Lm79zhTga1FR0fr6NGjatKkie6++245HA4dPnxYTz31lGUnOVm8eLHlb23kxNUz9u3bZ3YErzVp0iQ5nU7Nnj1bTqdTS5Ys0Wuvvaa4uDizo7mx4+RiwNXKly+vDz74wHXxefHixSpXrpzJqeApb775ps6dO6fExES3Ikx2drY+//xzjif+B1e30Dt27Fih6/DfGz16tF577TV16tRJubm5ql+/foE9uc104MAB3X///br33ntdrTus3FvXbvNzSFd62Q8aNEiNGzd2G81uxby01Lv5Dh065Pp3VlaWvv76a9WtW9fERPaXt00DAgIUEBCgf/3rXyYnglmuvfM9JibGlBwUwmF7L730krp3767du3dLkqVvfT98+LA+/PBDrVmzxvK3NuLmy83N1bx589xGLffq1YvRlH+APXv2aO3ata7H48ePV2RkpImJCme3ycWAq40dO1ZDhgzR5MmTJUlhYWGaMmWKyangKWFhYdq3b598fHzcTm58fX31xhtvmBfMC1xd7Ly28GnlQqidBAQEWO4C+bW2bt2qTz/9VEuXLtWECRPUqFEjSxc87Tg/R9455MqVK13LrNojnJZ6N9+kSZPcHqelpWnEiBEmpfEOeds0KSlJERERbuuYl+zPpW/fvmZHkEQhHF7itttuy/elajV2u7URN9/UqVP1ww8/qHv37srNzdXy5csVFxfHwdYfwOl0Kjc31zVyJjc3V76+vianArxPcHCwFi5cqMzMTOXm5rrm6sCfQ8OGDdWwYUNJ1jm58RaM+r55WrVqdd31npyw60b8/PzUokULtWjRQj///LOWLVumy5cvq2nTpnrmmWfUuXNnsyO6seP8HEOHDtWDDz7otmzHjh0mpbk+Wup5XnBwsH799VezY9jali1blJOTo8mTJ8swDNf+LScnRzNnzlTbtm3NDQiP6datm9vFfF9fX5UuXVoNGzb06PuAQjjgIXa7tRE3X3JyshISElw90ho1auTq+4f/Td26dTVw4EDXCeLSpUtVu3Ztk1MB3uPVV1+97vprR1TBu23cuJFC+B8sNzdXZ8+elWEYcjqdrn9LVy724r83cuRI1wXzYsWK6fz588rJyVF6erruuusus+MV6p577lFsbKwGDx6stWvXatmyZZYrhOexw/wcBw4ckGEYGjZsmKZOnepWnBszZow+/fRTkxPmR0u9m+/qHuGGYWj//v2uucjw3zl48KC+/PJLnT59Wh9++KFruZ+fn55++mnzgsHjunbt6vY4NzdXp0+f1sKFC3XmzBmP9Yt3GAw3ADwiJyfHdWvjnj171KhRI3377bf6/PPPzY4Gk7Rq1SrfqKOCluH3y8nJ0VtvvaXk5GQ5nU499thj6tOnD7OUA3+Q999/X9KV27GPHz+u1q1by9fXV4mJibrzzjtdrVLw59CvXz+VKlVKDz/8sKsvsGTNHrt2Ua1aNTkcjgJHhjOx9v/m559/Vs+ePTVy5EjVrVtX7dq1k3RlQsfXX39d9erVMzkhPGHkyJH64osvdPLkSbcR635+fnr88cc1dOhQE9PBLNde6A8MDFS3bt0UEhJiUiLvsXjxYnXp0sXsGLCgs2fPqlu3bm6tTW8mCuGACfJubVyzZo3KlCljyVsbcfMNHTpUZcqUUdeuXeVwOLRw4UKdPn1aU6dONTuaV/riiy84uQX+YJ07d9b777+vW2+9VdKVybqeeuopLV++3ORk8KSCJv12OBxuI78Aq+jZs6datmyp1q1bKyEhQe+9957WrVunkydPatCgQVq2bJnZEeFB06dP16BBg8yOAXitNWvWqE2bNnr//fcLvCPeU6OAYW1t2rTRmjVrPPK3aI0CmMBOtzbi5hk9erTGjx+vzp07Kzc3V/Xr19eoUaPMjmVr+/fv1/jx41W6dGlNnDhRgYGBOn78uCZOnKjt27dr7969ZkcEvMrp06fd7rRwOBw6c+aMiYlghoULF0q6cjeOYRiull+AFZ04ccLViu6rr75SkyZN5Ovrq9DQUGVkZJicDp42aNAgbdy4UT/88INeeOEFbd68WS1btjQ7FjysV69e113/9ttveyiJ9zly5Igk6aeffsq37sKFCxTCIcMwlJOT47G/RyEcMNGtt96qmJgYxcTEmB0FHnT1LXcOh0MNGjRwPY6Li9PEiRPNiOUVxo4dq+bNm+v48eOaM2eOHnnkEb3yyisKCwvz2BVm4M+kbt26ev7559WyZUsZhqE1a9YoPDzc7FjwsNOnT2vYsGH68ssv5XQ6VatWLU2ZMkXBwcFmRwPyyZtIW5J2796t2NhY1+PLly+bEQkmmjt3rr744gulpqaqe/fumjVrlo4cOaI+ffqYHQ0e1KxZM9e/33zzTfXv39/ENN4lb1sWNH9MjRo1PB0HJkpPTy9w2cKFC1W9enWP5aAQDgAedu+99+ZbdubMGX3wwQeWn1jI6s6fP69nn31WTqdTzZo104YNGzR27FhFRkaaHQ3wSiNHjtTixYu1adMmSVLz5s3VqVMnk1PB08aNG6fq1atr2rRpcjqdWrhwocaMGaM5c+aYHQ3Ip1SpUvrhhx+UkZGhU6dOqVatWpKuzHnAxZs/n/Xr12vlypXq2LGjypQpoxUrVigmJoZC+J9M3lwBkvTBBx+4PcbNQ6fmP5c6deq4zX/icDgUGBioBg0aaPjw4R7LQSEcADzs2WefdXu8Y8cODRs2TK1atXIblYTfL69Psa+vry5fvqy5c+fqvvvuMzkV4L38/PzUuXNntW3b1nVQe+7cOZUuXdrcYPColJQUzZgxw/W4f//+XICEZb300kt6+umnlZGRoSFDhqhEiRKaN2+e3n77bc2ePdvsePAwPz8/txZfJUuWlJ8fZZI/s4L6WOPmYFv/ufzwww9mR5BEIRwATJOTk6OpU6dq9erVGjt2rNstefjvXD2qoEyZMhTBgZts6dKlmjRpkrKzsyVd+Qw6HA4dPHjQ5GTwpJycHF2+fFnFixeXJGVmZnJyC8uqXr26tm/frkuXLqlkyZKSpIceekgrV65UpUqVzA0HjwsNDdXWrVvlcDiUlZWlefPmcYcmAHgxCuEAYIKUlBS99NJL+stf/qKPPvpIISEhZkfyCrm5uTp79qyrIH71vyUxShX4g82bN09Lly7V/fffb3YUmCgyMlJPP/20oqKi5HA4lJCQwMVdWJq/v7/bKGD61P55jRw5Ui+//LJ+/PFHVa9eXWFhYXrjjTfMjgUPu7p3sdPp5BziD/TQQw8VeHHcMAxdunTJhET4s3MYNOUBAI9KSEhQXFycnnnmGfXu3dvsOF6lWrVqbn3HrsYoVeCP16lTJy1btszsGDDRoUOHlJKSop9//lmHDh1Sbm6uHnvsMUVHRzMqHIBtZGZmyul0KiAgwOwoMAHnEDfPr7/+et313IEBT6MQDgAeVq1aNfn4+Kh48eJuRYK8lgLffvutiekAoOhmzZqlwMBANWnSxNUWQ2Lk1J9F3oXdihUr6ujRo3rjjTf02GOPmR0LAG7o3XffVY8ePfTaa68VeNGOeXsAwDtRCAcAD+OqOABv8eCDDyorK0uSXCOpGDn159G2bVu98847Cg4O1u7duzV9+nR9+OGHZscCgBt64IEHNHfuXO3atavAQnjfvn1NSAUAuNnoEQ4AHkahG4Ddff/995KkJUuWmJwEZgsODpZ0pQfomTNnTE4DAEUzaNAgjRs3TpL05JNPql27drRFAYA/AQrhAAAA+F369esnSflG0eWNCN+8ebMZseBh1/7/7+vra1ISAPh9nn32WT377LP6+uuvtXz5cr311ltq1qyZunTponvvvdfseACAm4RCOAAAAH6XLVu2mB0BFsTkmADsplatWqpVq5bS09O1Zs0aDRs2TAEBAbR5AgAvRSEcAAAAwO/2448/qkaNGq7Hly5dUo0aNZj8GYDt+Pv7q0SJEv+vvbsHqbKNwwB++WaQKNRiQ0NDRJ6gDwxKCHQyHGopTkGnWioaoiCKhlwMoqU1gtJZKihBB4eiKSGKPqCkiEiI7GOJhgYVLN/tQO87vL3k6eTT7zc9z3nuG657vTj87zQ3NxvzBFBgLssEAAD+N5c/Awvdo0ePcuPGjdy5cydbt25NpVLJli1b6h0LgBpRhAMAAAB/jIGBgdy8eTNTU1PZvXt39uzZk+XLl9c7FgA1ZjQKAAAA8Me4e/duTpw4kW3btrnoF+AP4h/hAAAAAAAU2l/1DgAAAAAAALWkCAcAAAAAoNAU4QAAsMBNTk6mra0tb968qXcUAAD4LSnCAQAAAAAoNEU4AAAAAACFpggHAIACef36dQ4fPpz29vasX78+e/fuzatXr5Ik9+/fT1dXV65fv56urq50dHTk9OnTmZ6eru4fGRlJd3d3Nm7cmFOnTuXkyZO5ePFivY4DAADzQhEOAAAFMTc3l6NHj2bFihUZHh7OtWvX8u3bt1y4cKG65tOnTxkdHU1/f3/Onz+fW7duZWhoKEny8OHD9Pb25uDBgxkaGkpTU1NGR0frdRwAAJg3jfUOAAAAzI/p6emUy+VUKpU0NzcnSXbu3JkrV65U18zOzqa3tzdtbW0plUrp7OzMs2fPkiRXr15NT09PKpVKkuTs2bMZGxv79QcBAIB5pggHAICCaGpqSqVSyfDwcMbHxzMxMZHnz59n2bJl361buXJl9bmlpSWzs7NJkpcvX6ZcLle/NTY2Zt26db8kOwAA1JIiHAAACmJmZiblcjlLly5Nd3d3duzYkYmJifT393+3bvHixd+9z83NJUkWLVpUff7nNwAAWMgU4QAAUBAPHjzIx48fMzIyUi27x8bGfrjMXr16dcbHx6vvX79+zYsXL1IqlWqSFwAAfhVFOAAAFESpVMrU1FRu376dDRs25N69exkcHMySJUt+aP/+/ftz4MCBdHR0ZPPmzRkcHMy7d+/S0NBQ4+QAAFBbinAAACiI1tbWHDt2LOfOncvMzEzWrFmTvr6+nDlzJu/fv//P/e3t7enr68ulS5fy+fPn9PT0ZNOmTf8apQIAAAtNw5yhfwAAQJKnT5+mpaUlq1atqv62ffv2HDp0KLt27apjMgAA+Dl/1TsAAADwe3jy5EmOHDmSx48f5+3bt7l8+XI+fPiQzs7OekcDAICfYjQKAACQJNm3b18mJydz/PjxfPnyJWvXrs3AwEBaW1vrHQ0AAH6K0SgAAAAAABSa0SgAAAAAABSaIhwAAAAAgEJThAMAAAAAUGiKcAAAAAAACk0RDgAAAABAof0NTISgtdadzzUAAAAASUVORK5CYII=\n",
=======
      "image/png": "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\n",
>>>>>>> 8fc0c4141e975876075e6bd418e426caf195b73e
      "text/plain": [
       "<Figure size 1800x432 with 1 Axes>"
      ]
     },
     "metadata": {},
     "output_type": "display_data"
    },
    {
     "name": "stdout",
     "output_type": "stream",
     "text": [
<<<<<<< HEAD
      "time: 1.05 s (started: 2021-09-07 19:57:55 -03:00)\n"
=======
      "time: 985 ms (started: 2021-08-22 23:09:58 -03:00)\n"
>>>>>>> 8fc0c4141e975876075e6bd418e426caf195b73e
     ]
    }
   ],
   "source": [
    "# Graficamos el conteo de los distintos idiomas encontrados en el dataset\n",
    "plt.figure(figsize=(25,6))\n",
    "sns.countplot(data=df_reviews, x='lang', order=idiomas.index[0:])\n",
    "plt.xticks(rotation=90)\n",
    "plt.show()"
   ]
  },
  {
   "cell_type": "markdown",
   "metadata": {},
   "source": [
    "Vemos claramante que el idioma predominantes es el inglés. Algo llamativo es que el segundo más abundante es el \"Somalí\". Vamos a analizar más en detalle, filtrando esas instancias."
   ]
  },
  {
   "cell_type": "code",
<<<<<<< HEAD
   "execution_count": 28,
=======
   "execution_count": 91,
>>>>>>> 8fc0c4141e975876075e6bd418e426caf195b73e
   "metadata": {},
   "outputs": [
    {
     "data": {
      "text/html": [
       "<div>\n",
       "<style scoped>\n",
       "    .dataframe tbody tr th:only-of-type {\n",
       "        vertical-align: middle;\n",
       "    }\n",
       "\n",
       "    .dataframe tbody tr th {\n",
       "        vertical-align: top;\n",
       "    }\n",
       "\n",
       "    .dataframe thead th {\n",
       "        text-align: right;\n",
       "    }\n",
       "</style>\n",
       "<table border=\"1\" class=\"dataframe\">\n",
       "  <thead>\n",
       "    <tr style=\"text-align: right;\">\n",
       "      <th></th>\n",
       "      <th>username</th>\n",
       "      <th>product_id</th>\n",
       "      <th>text</th>\n",
       "      <th>found_funny</th>\n",
       "      <th>hours</th>\n",
       "      <th>lang</th>\n",
       "    </tr>\n",
<<<<<<< HEAD
       "    <tr>\n",
       "      <th>index</th>\n",
       "      <th></th>\n",
       "      <th></th>\n",
       "      <th></th>\n",
       "      <th></th>\n",
       "      <th></th>\n",
       "      <th></th>\n",
       "    </tr>\n",
=======
>>>>>>> 8fc0c4141e975876075e6bd418e426caf195b73e
       "  </thead>\n",
       "  <tbody>\n",
       "    <tr>\n",
       "      <th>31</th>\n",
       "      <td>JessetheGengar</td>\n",
       "      <td>302390</td>\n",
       "      <td>baaaddddddd</td>\n",
       "      <td>NaN</td>\n",
       "      <td>0.4000</td>\n",
       "      <td>Somali</td>\n",
       "    </tr>\n",
       "    <tr>\n",
       "      <th>247</th>\n",
       "      <td>69:The Best Position</td>\n",
       "      <td>271590</td>\n",
       "      <td>good</td>\n",
       "      <td>NaN</td>\n",
       "      <td>176.3000</td>\n",
       "      <td>Somali</td>\n",
       "    </tr>\n",
       "    <tr>\n",
       "      <th>354</th>\n",
       "      <td>Santiago ♥D</td>\n",
       "      <td>308040</td>\n",
       "      <td>bad</td>\n",
       "      <td>1.0000</td>\n",
       "      <td>1.3000</td>\n",
       "      <td>Somali</td>\n",
       "    </tr>\n",
       "    <tr>\n",
       "      <th>445</th>\n",
       "      <td>brokensteelcache</td>\n",
       "      <td>224900</td>\n",
       "      <td>too good to play</td>\n",
       "      <td>1.0000</td>\n",
       "      <td>1.3000</td>\n",
       "      <td>Somali</td>\n",
       "    </tr>\n",
       "    <tr>\n",
       "      <th>601</th>\n",
       "      <td>𝖊𝖃𝖔 | Psycocat</td>\n",
       "      <td>308040</td>\n",
       "      <td>good game</td>\n",
       "      <td>NaN</td>\n",
       "      <td>3.2000</td>\n",
       "      <td>Somali</td>\n",
       "    </tr>\n",
       "    <tr>\n",
       "      <th>617</th>\n",
       "      <td>Vukishaa</td>\n",
       "      <td>308040</td>\n",
       "      <td>good</td>\n",
       "      <td>NaN</td>\n",
       "      <td>3.3000</td>\n",
       "      <td>Somali</td>\n",
       "    </tr>\n",
       "    <tr>\n",
       "      <th>698</th>\n",
       "      <td>Dicather</td>\n",
       "      <td>441050</td>\n",
       "      <td>YEAH IT CAN INTO SPACE</td>\n",
       "      <td>NaN</td>\n",
       "      <td>1.6000</td>\n",
       "      <td>Somali</td>\n",
       "    </tr>\n",
       "    <tr>\n",
       "      <th>718</th>\n",
       "      <td>MyAcidicPapaya</td>\n",
       "      <td>341720</td>\n",
       "      <td>good</td>\n",
       "      <td>NaN</td>\n",
       "      <td>0.8000</td>\n",
       "      <td>Somali</td>\n",
       "    </tr>\n",
       "    <tr>\n",
       "      <th>741</th>\n",
       "      <td>✪ B1ACKOUT</td>\n",
       "      <td>271590</td>\n",
       "      <td>good game</td>\n",
       "      <td>NaN</td>\n",
       "      <td>12.1000</td>\n",
       "      <td>Somali</td>\n",
       "    </tr>\n",
       "    <tr>\n",
       "      <th>951</th>\n",
       "      <td>L0lHeLetMeUseHisLapTop</td>\n",
       "      <td>291550</td>\n",
       "      <td>gud</td>\n",
       "      <td>NaN</td>\n",
       "      <td>19.4000</td>\n",
       "      <td>Somali</td>\n",
       "    </tr>\n",
       "    <tr>\n",
       "      <th>1075</th>\n",
       "      <td>Tobias Kjær Henriksen</td>\n",
       "      <td>313040</td>\n",
       "      <td>Yaaaas queen</td>\n",
       "      <td>NaN</td>\n",
       "      <td>5.7000</td>\n",
       "      <td>Somali</td>\n",
       "    </tr>\n",
       "    <tr>\n",
       "      <th>1092</th>\n",
       "      <td>Scrappy!</td>\n",
       "      <td>35140</td>\n",
       "      <td>game</td>\n",
       "      <td>NaN</td>\n",
       "      <td>0.5000</td>\n",
       "      <td>Somali</td>\n",
       "    </tr>\n",
       "    <tr>\n",
       "      <th>1238</th>\n",
       "      <td>Fac3 ツ ۞ CSGOEmpire.com</td>\n",
       "      <td>363490</td>\n",
       "      <td>aye</td>\n",
       "      <td>NaN</td>\n",
       "      <td>3.0000</td>\n",
       "      <td>Somali</td>\n",
       "    </tr>\n",
       "    <tr>\n",
       "      <th>1396</th>\n",
       "      <td>Discriminatory Pawn</td>\n",
       "      <td>310370</td>\n",
       "      <td>Bad</td>\n",
       "      <td>NaN</td>\n",
       "      <td>0.1000</td>\n",
       "      <td>Somali</td>\n",
       "    </tr>\n",
       "    <tr>\n",
       "      <th>1516</th>\n",
       "      <td>dragsobko</td>\n",
       "      <td>390340</td>\n",
       "      <td>good</td>\n",
       "      <td>8.0000</td>\n",
       "      <td>0.6000</td>\n",
       "      <td>Somali</td>\n",
       "    </tr>\n",
       "    <tr>\n",
       "      <th>1550</th>\n",
       "      <td>BlackSwag™</td>\n",
       "      <td>271590</td>\n",
       "      <td>Good game</td>\n",
       "      <td>NaN</td>\n",
       "      <td>4.6000</td>\n",
       "      <td>Somali</td>\n",
       "    </tr>\n",
       "    <tr>\n",
       "      <th>1568</th>\n",
       "      <td>StephenL721</td>\n",
       "      <td>310370</td>\n",
       "      <td>A good game</td>\n",
       "      <td>NaN</td>\n",
       "      <td>0.5000</td>\n",
       "      <td>Somali</td>\n",
       "    </tr>\n",
       "    <tr>\n",
       "      <th>1631</th>\n",
       "      <td>Trippy_Boy</td>\n",
       "      <td>271860</td>\n",
       "      <td>Good game</td>\n",
       "      <td>NaN</td>\n",
       "      <td>1.6000</td>\n",
       "      <td>Somali</td>\n",
       "    </tr>\n",
       "    <tr>\n",
       "      <th>1690</th>\n",
       "      <td>j0ny_brav0</td>\n",
       "      <td>13600</td>\n",
       "      <td>A Good Game</td>\n",
       "      <td>2.0000</td>\n",
       "      <td>8.0000</td>\n",
       "      <td>Somali</td>\n",
       "    </tr>\n",
       "    <tr>\n",
       "      <th>1698</th>\n",
       "      <td>reading is for faggots</td>\n",
       "      <td>745880</td>\n",
       "      <td>good</td>\n",
       "      <td>NaN</td>\n",
       "      <td>2.0000</td>\n",
       "      <td>Somali</td>\n",
       "    </tr>\n",
       "  </tbody>\n",
       "</table>\n",
       "</div>"
      ],
      "text/plain": [
<<<<<<< HEAD
       "                      username  product_id  \\\n",
       "index                                        \n",
       "31              JessetheGengar      302390   \n",
       "247       69:The Best Position      271590   \n",
       "354                Santiago ♥D      308040   \n",
       "445           brokensteelcache      224900   \n",
       "601             𝖊𝖃𝖔 | Psycocat      308040   \n",
       "617                   Vukishaa      308040   \n",
       "698                   Dicather      441050   \n",
       "718             MyAcidicPapaya      341720   \n",
       "741                 ✪ B1ACKOUT      271590   \n",
       "951     L0lHeLetMeUseHisLapTop      291550   \n",
       "1075     Tobias Kjær Henriksen      313040   \n",
       "1092                  Scrappy!       35140   \n",
       "1238   Fac3 ツ ۞ CSGOEmpire.com      363490   \n",
       "1396       Discriminatory Pawn      310370   \n",
       "1516                 dragsobko      390340   \n",
       "1550                BlackSwag™      271590   \n",
       "1568               StephenL721      310370   \n",
       "1631                Trippy_Boy      271860   \n",
       "1690                j0ny_brav0       13600   \n",
       "1698    reading is for faggots      745880   \n",
       "\n",
       "                                     text  found_funny    hours    lang  \n",
       "index                                                                    \n",
       "31                            baaaddddddd          NaN   0.4000  Somali  \n",
       "247                                  good          NaN 176.3000  Somali  \n",
       "354                                   bad       1.0000   1.3000  Somali  \n",
       "445                     too good to play        1.0000   1.3000  Somali  \n",
       "601                          good game             NaN   3.2000  Somali  \n",
       "617                                  good          NaN   3.3000  Somali  \n",
       "698         YEAH IT CAN INTO SPACE                 NaN   1.6000  Somali  \n",
       "718                                  good          NaN   0.8000  Somali  \n",
       "741                             good game          NaN  12.1000  Somali  \n",
       "951                                   gud          NaN  19.4000  Somali  \n",
       "1075                         Yaaaas queen          NaN   5.7000  Somali  \n",
       "1092                                 game          NaN   0.5000  Somali  \n",
       "1238                                 aye           NaN   3.0000  Somali  \n",
       "1396                                 Bad           NaN   0.1000  Somali  \n",
       "1516                                 good       8.0000   0.6000  Somali  \n",
       "1550                            Good game          NaN   4.6000  Somali  \n",
       "1568                         A good game           NaN   0.5000  Somali  \n",
       "1631                      Good game                NaN   1.6000  Somali  \n",
       "1690                         A Good Game        2.0000   8.0000  Somali  \n",
       "1698                          good                 NaN   2.0000  Somali  "
      ]
     },
     "execution_count": 28,
=======
       "                     username  product_id                                text  \\\n",
       "31             JessetheGengar      302390                         baaaddddddd   \n",
       "247      69:The Best Position      271590                                good   \n",
       "354               Santiago ♥D      308040                                 bad   \n",
       "445          brokensteelcache      224900                   too good to play    \n",
       "601            𝖊𝖃𝖔 | Psycocat      308040                        good game      \n",
       "617                  Vukishaa      308040                                good   \n",
       "698                  Dicather      441050       YEAH IT CAN INTO SPACE          \n",
       "718            MyAcidicPapaya      341720                                good   \n",
       "741                ✪ B1ACKOUT      271590                           good game   \n",
       "951    L0lHeLetMeUseHisLapTop      291550                                 gud   \n",
       "1075    Tobias Kjær Henriksen      313040                        Yaaaas queen   \n",
       "1092                 Scrappy!       35140                                game   \n",
       "1238  Fac3 ツ ۞ CSGOEmpire.com      363490                                aye    \n",
       "1396      Discriminatory Pawn      310370                                Bad    \n",
       "1516                dragsobko      390340                                good   \n",
       "1550               BlackSwag™      271590                           Good game   \n",
       "1568              StephenL721      310370                        A good game    \n",
       "1631               Trippy_Boy      271860                     Good game         \n",
       "1690               j0ny_brav0       13600                        A Good Game    \n",
       "1698   reading is for faggots      745880                         good          \n",
       "\n",
       "      found_funny    hours    lang  \n",
       "31            NaN   0.4000  Somali  \n",
       "247           NaN 176.3000  Somali  \n",
       "354        1.0000   1.3000  Somali  \n",
       "445        1.0000   1.3000  Somali  \n",
       "601           NaN   3.2000  Somali  \n",
       "617           NaN   3.3000  Somali  \n",
       "698           NaN   1.6000  Somali  \n",
       "718           NaN   0.8000  Somali  \n",
       "741           NaN  12.1000  Somali  \n",
       "951           NaN  19.4000  Somali  \n",
       "1075          NaN   5.7000  Somali  \n",
       "1092          NaN   0.5000  Somali  \n",
       "1238          NaN   3.0000  Somali  \n",
       "1396          NaN   0.1000  Somali  \n",
       "1516       8.0000   0.6000  Somali  \n",
       "1550          NaN   4.6000  Somali  \n",
       "1568          NaN   0.5000  Somali  \n",
       "1631          NaN   1.6000  Somali  \n",
       "1690       2.0000   8.0000  Somali  \n",
       "1698          NaN   2.0000  Somali  "
      ]
     },
     "execution_count": 91,
>>>>>>> 8fc0c4141e975876075e6bd418e426caf195b73e
     "metadata": {},
     "output_type": "execute_result"
    },
    {
     "name": "stdout",
     "output_type": "stream",
     "text": [
<<<<<<< HEAD
      "time: 78 ms (started: 2021-09-07 19:57:56 -03:00)\n"
=======
      "time: 78 ms (started: 2021-08-22 23:10:27 -03:00)\n"
>>>>>>> 8fc0c4141e975876075e6bd418e426caf195b73e
     ]
    }
   ],
   "source": [
    "df_reviews[df_reviews.lang == 'Somali'].head(20)"
   ]
  },
  {
   "cell_type": "markdown",
   "metadata": {},
   "source": [
    "Por lo que podemos observar, se trata de una mala predicción, ya que los comentarios están en inglés. Por alguna razón (quizás por las faltas de ortografía) los etiqueta como Somalí.\n",
    "De todos modos, siendo que la cantidad de comentarios predichos como Inglés representan un gran porcentaje, vamos a eliminar aquellas instancias en otro idioma."
   ]
  },
  {
   "cell_type": "code",
<<<<<<< HEAD
   "execution_count": 29,
   "metadata": {},
   "outputs": [
    {
=======
   "execution_count": 92,
   "metadata": {},
   "outputs": [
    {
     "name": "stderr",
     "output_type": "stream",
     "text": [
      "C:\\Users\\elmai\\.conda\\envs\\datascience\\lib\\site-packages\\pandas\\core\\frame.py:4308: SettingWithCopyWarning: \n",
      "A value is trying to be set on a copy of a slice from a DataFrame\n",
      "\n",
      "See the caveats in the documentation: https://pandas.pydata.org/pandas-docs/stable/user_guide/indexing.html#returning-a-view-versus-a-copy\n",
      "  return super().drop(\n"
     ]
    },
    {
>>>>>>> 8fc0c4141e975876075e6bd418e426caf195b73e
     "data": {
      "text/html": [
       "<div>\n",
       "<style scoped>\n",
       "    .dataframe tbody tr th:only-of-type {\n",
       "        vertical-align: middle;\n",
       "    }\n",
       "\n",
       "    .dataframe tbody tr th {\n",
       "        vertical-align: top;\n",
       "    }\n",
       "\n",
       "    .dataframe thead th {\n",
       "        text-align: right;\n",
       "    }\n",
       "</style>\n",
       "<table border=\"1\" class=\"dataframe\">\n",
       "  <thead>\n",
       "    <tr style=\"text-align: right;\">\n",
       "      <th></th>\n",
       "      <th>username</th>\n",
       "      <th>product_id</th>\n",
       "      <th>text</th>\n",
       "      <th>found_funny</th>\n",
       "      <th>hours</th>\n",
       "      <th>lang</th>\n",
       "    </tr>\n",
<<<<<<< HEAD
       "    <tr>\n",
       "      <th>index</th>\n",
       "      <th></th>\n",
       "      <th></th>\n",
       "      <th></th>\n",
       "      <th></th>\n",
       "      <th></th>\n",
       "      <th></th>\n",
       "    </tr>\n",
=======
>>>>>>> 8fc0c4141e975876075e6bd418e426caf195b73e
       "  </thead>\n",
       "  <tbody>\n",
       "    <tr>\n",
       "      <th>0</th>\n",
       "      <td>Chaos Syren</td>\n",
       "      <td>725280</td>\n",
       "      <td>This would not be acceptable as an entertainme...</td>\n",
       "      <td>NaN</td>\n",
       "      <td>0.1000</td>\n",
       "      <td>English</td>\n",
       "    </tr>\n",
       "    <tr>\n",
       "      <th>1</th>\n",
       "      <td>Ariman1</td>\n",
       "      <td>328100</td>\n",
       "      <td>Addictive RPG   Works fine on linux though it ...</td>\n",
       "      <td>NaN</td>\n",
       "      <td>13.2000</td>\n",
       "      <td>English</td>\n",
       "    </tr>\n",
       "    <tr>\n",
       "      <th>3</th>\n",
       "      <td>The_Cpt_FROGGY</td>\n",
       "      <td>631920</td>\n",
       "      <td>Somewhere on Zibylon                     Zibyl...</td>\n",
       "      <td>NaN</td>\n",
       "      <td>7.8000</td>\n",
       "      <td>English</td>\n",
       "    </tr>\n",
       "    <tr>\n",
       "      <th>4</th>\n",
       "      <td>the_maker988</td>\n",
       "      <td>35140</td>\n",
       "      <td>This game was way to linear for me  and compar...</td>\n",
       "      <td>NaN</td>\n",
       "      <td>8.2000</td>\n",
       "      <td>English</td>\n",
       "    </tr>\n",
       "    <tr>\n",
       "      <th>5</th>\n",
       "      <td>Szudof</td>\n",
       "      <td>288690</td>\n",
       "      <td>Pit   Hello  my name is dominik di...</td>\n",
       "      <td>3.0000</td>\n",
       "      <td>0.2000</td>\n",
       "      <td>English</td>\n",
       "    </tr>\n",
       "    <tr>\n",
       "      <th>...</th>\n",
       "      <td>...</td>\n",
       "      <td>...</td>\n",
       "      <td>...</td>\n",
       "      <td>...</td>\n",
       "      <td>...</td>\n",
       "      <td>...</td>\n",
       "    </tr>\n",
       "    <tr>\n",
       "      <th>779301</th>\n",
       "      <td>SepticFalcon</td>\n",
       "      <td>252490</td>\n",
       "      <td>A good laugh with friends  cannot wait till mo...</td>\n",
       "      <td>NaN</td>\n",
       "      <td>334.9000</td>\n",
       "      <td>English</td>\n",
       "    </tr>\n",
       "    <tr>\n",
       "      <th>779302</th>\n",
       "      <td>Vidaar</td>\n",
       "      <td>252490</td>\n",
       "      <td>Summary  Rust is a survival game created by Fa...</td>\n",
       "      <td>NaN</td>\n",
       "      <td>783.5000</td>\n",
       "      <td>English</td>\n",
       "    </tr>\n",
       "    <tr>\n",
       "      <th>779304</th>\n",
       "      <td>RancorZealot</td>\n",
       "      <td>252490</td>\n",
       "      <td>Should you buy RUST  Uh    YES  The BEST Survi...</td>\n",
       "      <td>NaN</td>\n",
       "      <td>203.5000</td>\n",
       "      <td>English</td>\n",
       "    </tr>\n",
       "    <tr>\n",
       "      <th>779305</th>\n",
       "      <td>Jerry</td>\n",
       "      <td>252490</td>\n",
       "      <td>Great game</td>\n",
       "      <td>NaN</td>\n",
       "      <td>139.8000</td>\n",
       "      <td>English</td>\n",
       "    </tr>\n",
       "    <tr>\n",
       "      <th>779306</th>\n",
       "      <td>Helk</td>\n",
       "      <td>252490</td>\n",
       "      <td>I love this game</td>\n",
       "      <td>36.0000</td>\n",
       "      <td>15375.0000</td>\n",
       "      <td>English</td>\n",
       "    </tr>\n",
       "  </tbody>\n",
       "</table>\n",
       "<p>685202 rows × 6 columns</p>\n",
       "</div>"
      ],
      "text/plain": [
       "              username  product_id  \\\n",
<<<<<<< HEAD
       "index                                \n",
=======
>>>>>>> 8fc0c4141e975876075e6bd418e426caf195b73e
       "0          Chaos Syren      725280   \n",
       "1              Ariman1      328100   \n",
       "3       The_Cpt_FROGGY      631920   \n",
       "4         the_maker988       35140   \n",
       "5               Szudof      288690   \n",
       "...                ...         ...   \n",
       "779301    SepticFalcon      252490   \n",
       "779302          Vidaar      252490   \n",
       "779304    RancorZealot      252490   \n",
       "779305           Jerry      252490   \n",
       "779306            Helk      252490   \n",
       "\n",
       "                                                     text  found_funny  \\\n",
<<<<<<< HEAD
       "index                                                                    \n",
=======
>>>>>>> 8fc0c4141e975876075e6bd418e426caf195b73e
       "0       This would not be acceptable as an entertainme...          NaN   \n",
       "1       Addictive RPG   Works fine on linux though it ...          NaN   \n",
       "3       Somewhere on Zibylon                     Zibyl...          NaN   \n",
       "4       This game was way to linear for me  and compar...          NaN   \n",
       "5                   Pit   Hello  my name is dominik di...       3.0000   \n",
       "...                                                   ...          ...   \n",
       "779301  A good laugh with friends  cannot wait till mo...          NaN   \n",
       "779302  Summary  Rust is a survival game created by Fa...          NaN   \n",
       "779304  Should you buy RUST  Uh    YES  The BEST Survi...          NaN   \n",
       "779305                                        Great game           NaN   \n",
       "779306                                  I love this game       36.0000   \n",
       "\n",
       "            hours     lang  \n",
<<<<<<< HEAD
       "index                       \n",
=======
>>>>>>> 8fc0c4141e975876075e6bd418e426caf195b73e
       "0          0.1000  English  \n",
       "1         13.2000  English  \n",
       "3          7.8000  English  \n",
       "4          8.2000  English  \n",
       "5          0.2000  English  \n",
       "...           ...      ...  \n",
       "779301   334.9000  English  \n",
       "779302   783.5000  English  \n",
       "779304   203.5000  English  \n",
       "779305   139.8000  English  \n",
       "779306 15375.0000  English  \n",
       "\n",
       "[685202 rows x 6 columns]"
      ]
     },
<<<<<<< HEAD
     "execution_count": 29,
=======
     "execution_count": 92,
>>>>>>> 8fc0c4141e975876075e6bd418e426caf195b73e
     "metadata": {},
     "output_type": "execute_result"
    },
    {
     "name": "stdout",
     "output_type": "stream",
     "text": [
<<<<<<< HEAD
      "time: 187 ms (started: 2021-09-07 19:57:56 -03:00)\n"
=======
      "time: 203 ms (started: 2021-08-22 23:11:04 -03:00)\n"
>>>>>>> 8fc0c4141e975876075e6bd418e426caf195b73e
     ]
    }
   ],
   "source": [
    "mask = df_reviews.lang == 'English'\n",
    "df_reviews.drop(df_reviews[~mask].index, inplace=True)\n",
    "df_reviews"
   ]
  },
  {
   "cell_type": "code",
<<<<<<< HEAD
   "execution_count": 30,
=======
   "execution_count": 93,
>>>>>>> 8fc0c4141e975876075e6bd418e426caf195b73e
   "metadata": {},
   "outputs": [
    {
     "name": "stdout",
     "output_type": "stream",
     "text": [
<<<<<<< HEAD
      "time: 0 ns (started: 2021-09-07 19:57:56 -03:00)\n"
=======
      "time: 31 ms (started: 2021-08-22 23:11:19 -03:00)\n"
>>>>>>> 8fc0c4141e975876075e6bd418e426caf195b73e
     ]
    }
   ],
   "source": [
    "# Instanciamos el tokenizer\n",
    "tokenizer=RegexpTokenizer(\"\\w+\")\n",
    "\n",
    "# Importamos la función que nos permite Stemmizar de nltk y definimos el stemmer\n",
    "stemmer = PorterStemmer()\n",
    "\n",
    "# Traemos las stopwords\n",
    "stopwords = set(stopwords.words('english'))"
   ]
  },
  {
   "cell_type": "code",
<<<<<<< HEAD
   "execution_count": 31,
=======
   "execution_count": 94,
>>>>>>> 8fc0c4141e975876075e6bd418e426caf195b73e
   "metadata": {},
   "outputs": [
    {
     "name": "stdout",
     "output_type": "stream",
     "text": [
<<<<<<< HEAD
      "time: 0 ns (started: 2021-09-07 19:57:56 -03:00)\n"
=======
      "time: 0 ns (started: 2021-08-22 23:11:20 -03:00)\n"
>>>>>>> 8fc0c4141e975876075e6bd418e426caf195b73e
     ]
    }
   ],
   "source": [
    "# Creamos método para aplicar la Normalizacion y luega el Stemming a cada instancia\n",
    "def processText(text):\n",
    "    # Vamos a reemplzar los caracteres que no sean letras por espacios\n",
    "    text=re.sub(\"[^a-zA-Z]\",\" \",str(text))\n",
    "    # Pasamos todo a minúsculas\n",
    "    text=text.lower()\n",
    "    # Tokenizamos para separar las palabras del titular\n",
    "    text=tokenizer.tokenize(text)\n",
    "    # Eliminamos las palabras de menos de 4 letras\n",
    "    text = [palabra for palabra in text if len(palabra)>3]\n",
    "    # Sacamos las Stopwords\n",
    "    text = [p for p in text if not p in stopwords]\n",
    "    \n",
    "    ## Hasta acá Normalizamos, ahora a stemmizar\n",
    "    \n",
    "    # Aplicamos la funcion para buscar la raiz de las palabras\n",
    "#     text = [stemmer.stem(t) for t in text]\n",
    "    # Por ultimo volvemos a unir el titular\n",
    "    text = \" \".join(text)\n",
    "    \n",
    "    return text"
   ]
  },
  {
   "cell_type": "code",
<<<<<<< HEAD
   "execution_count": 32,
=======
   "execution_count": 95,
>>>>>>> 8fc0c4141e975876075e6bd418e426caf195b73e
   "metadata": {},
   "outputs": [
    {
     "data": {
      "application/vnd.jupyter.widget-view+json": {
<<<<<<< HEAD
       "model_id": "f55d40c839f74ca6a502d13cd7695d59",
=======
       "model_id": "3229c1021a7a4bc099fadd9fc1014a11",
>>>>>>> 8fc0c4141e975876075e6bd418e426caf195b73e
       "version_major": 2,
       "version_minor": 0
      },
      "text/plain": [
       "  0%|          | 0/685202 [00:00<?, ?it/s]"
      ]
     },
     "metadata": {},
     "output_type": "display_data"
    },
    {
     "name": "stdout",
     "output_type": "stream",
     "text": [
<<<<<<< HEAD
      "time: 48 s (started: 2021-09-07 19:57:56 -03:00)\n"
=======
      "time: 43.3 s (started: 2021-08-22 23:11:28 -03:00)\n"
     ]
    },
    {
     "name": "stderr",
     "output_type": "stream",
     "text": [
      "C:\\Users\\elmai\\AppData\\Local\\Temp/ipykernel_32/1392708714.py:2: SettingWithCopyWarning: \n",
      "A value is trying to be set on a copy of a slice from a DataFrame.\n",
      "Try using .loc[row_indexer,col_indexer] = value instead\n",
      "\n",
      "See the caveats in the documentation: https://pandas.pydata.org/pandas-docs/stable/user_guide/indexing.html#returning-a-view-versus-a-copy\n",
      "  df_reviews['cleaned_text'] = df_reviews['text'].progress_apply(processText)\n"
>>>>>>> 8fc0c4141e975876075e6bd418e426caf195b73e
     ]
    }
   ],
   "source": [
    "# Aplicamos la transformación\n",
    "df_reviews['cleaned_text'] = df_reviews['text'].progress_apply(processText)"
   ]
  },
  {
   "cell_type": "code",
<<<<<<< HEAD
   "execution_count": 34,
=======
   "execution_count": 96,
>>>>>>> 8fc0c4141e975876075e6bd418e426caf195b73e
   "metadata": {},
   "outputs": [
    {
     "data": {
      "text/html": [
       "<div>\n",
       "<style scoped>\n",
       "    .dataframe tbody tr th:only-of-type {\n",
       "        vertical-align: middle;\n",
       "    }\n",
       "\n",
       "    .dataframe tbody tr th {\n",
       "        vertical-align: top;\n",
       "    }\n",
       "\n",
       "    .dataframe thead th {\n",
       "        text-align: right;\n",
       "    }\n",
       "</style>\n",
       "<table border=\"1\" class=\"dataframe\">\n",
       "  <thead>\n",
       "    <tr style=\"text-align: right;\">\n",
       "      <th></th>\n",
       "      <th>username</th>\n",
       "      <th>product_id</th>\n",
       "      <th>text</th>\n",
       "      <th>found_funny</th>\n",
       "      <th>hours</th>\n",
       "      <th>lang</th>\n",
       "      <th>cleaned_text</th>\n",
       "    </tr>\n",
<<<<<<< HEAD
       "    <tr>\n",
       "      <th>index</th>\n",
       "      <th></th>\n",
       "      <th></th>\n",
       "      <th></th>\n",
       "      <th></th>\n",
       "      <th></th>\n",
       "      <th></th>\n",
       "      <th></th>\n",
       "    </tr>\n",
       "  </thead>\n",
       "  <tbody>\n",
       "    <tr>\n",
       "      <th>347749</th>\n",
       "      <td>Matvei</td>\n",
       "      <td>107410</td>\n",
       "      <td>Suffers from glichers  But spent     hrs on it...</td>\n",
       "      <td>1.0000</td>\n",
       "      <td>1746.9000</td>\n",
       "      <td>English</td>\n",
       "      <td>suffers glichers spent speaks</td>\n",
       "    </tr>\n",
       "    <tr>\n",
       "      <th>762890</th>\n",
       "      <td>Silos</td>\n",
       "      <td>391540</td>\n",
       "      <td>Just buy the game   You  Will  Laugh   And exp...</td>\n",
       "      <td>NaN</td>\n",
       "      <td>17.6000</td>\n",
       "      <td>English</td>\n",
       "      <td>game laugh experience feels</td>\n",
       "    </tr>\n",
       "    <tr>\n",
       "      <th>652198</th>\n",
       "      <td>Cammy the Duck</td>\n",
       "      <td>249130</td>\n",
       "      <td>This game is really fun  I didn t know anythin...</td>\n",
       "      <td>NaN</td>\n",
       "      <td>16.6000</td>\n",
       "      <td>English</td>\n",
       "      <td>game really know anything marvel playing slowl...</td>\n",
       "    </tr>\n",
       "    <tr>\n",
       "      <th>746653</th>\n",
       "      <td>CoyoteBongwater</td>\n",
       "      <td>457140</td>\n",
       "      <td>I purchased this game because markiplier made ...</td>\n",
       "      <td>NaN</td>\n",
       "      <td>53.0000</td>\n",
       "      <td>English</td>\n",
       "      <td>purchased game markiplier made look really tel...</td>\n",
       "    </tr>\n",
       "    <tr>\n",
       "      <th>552399</th>\n",
       "      <td>Crust</td>\n",
       "      <td>433950</td>\n",
       "      <td>For    Cents  a good deal  but im afraid there...</td>\n",
       "      <td>NaN</td>\n",
       "      <td>0.2000</td>\n",
       "      <td>English</td>\n",
       "      <td>cents good deal afraid theres much else decent...</td>\n",
=======
       "  </thead>\n",
       "  <tbody>\n",
       "    <tr>\n",
       "      <th>709864</th>\n",
       "      <td>[LOST] Spedsnaz</td>\n",
       "      <td>214950</td>\n",
       "      <td>Still has glitches even though  emperor Editio...</td>\n",
       "      <td>NaN</td>\n",
       "      <td>209.4000</td>\n",
       "      <td>English</td>\n",
       "      <td>still glitches even though emperor edition unl...</td>\n",
       "    </tr>\n",
       "    <tr>\n",
       "      <th>553964</th>\n",
       "      <td>Terror Terje</td>\n",
       "      <td>575950</td>\n",
       "      <td>Great maps and gameplay</td>\n",
       "      <td>NaN</td>\n",
       "      <td>0.5000</td>\n",
       "      <td>English</td>\n",
       "      <td>great maps gameplay</td>\n",
       "    </tr>\n",
       "    <tr>\n",
       "      <th>411294</th>\n",
       "      <td>Tar171</td>\n",
       "      <td>18500</td>\n",
       "      <td>fun little game to waste time with</td>\n",
       "      <td>NaN</td>\n",
       "      <td>25.0000</td>\n",
       "      <td>English</td>\n",
       "      <td>little game waste time</td>\n",
       "    </tr>\n",
       "    <tr>\n",
       "      <th>356581</th>\n",
       "      <td>Life</td>\n",
       "      <td>284160</td>\n",
       "      <td>One of the best driving and crashing simulator...</td>\n",
       "      <td>NaN</td>\n",
       "      <td>115.6000</td>\n",
       "      <td>English</td>\n",
       "      <td>best driving crashing simulators seen would re...</td>\n",
       "    </tr>\n",
       "    <tr>\n",
       "      <th>392411</th>\n",
       "      <td>Ryerson</td>\n",
       "      <td>440</td>\n",
       "      <td>freshness      spookiness would recommend</td>\n",
       "      <td>NaN</td>\n",
       "      <td>955.3000</td>\n",
       "      <td>English</td>\n",
       "      <td>freshness spookiness would recommend</td>\n",
>>>>>>> 8fc0c4141e975876075e6bd418e426caf195b73e
       "    </tr>\n",
       "  </tbody>\n",
       "</table>\n",
       "</div>"
      ],
      "text/plain": [
       "               username  product_id  \\\n",
<<<<<<< HEAD
       "index                                 \n",
       "347749           Matvei      107410   \n",
       "762890            Silos      391540   \n",
       "652198   Cammy the Duck      249130   \n",
       "746653  CoyoteBongwater      457140   \n",
       "552399            Crust      433950   \n",
       "\n",
       "                                                     text  found_funny  \\\n",
       "index                                                                    \n",
       "347749  Suffers from glichers  But spent     hrs on it...       1.0000   \n",
       "762890  Just buy the game   You  Will  Laugh   And exp...          NaN   \n",
       "652198  This game is really fun  I didn t know anythin...          NaN   \n",
       "746653  I purchased this game because markiplier made ...          NaN   \n",
       "552399  For    Cents  a good deal  but im afraid there...          NaN   \n",
       "\n",
       "           hours     lang                                       cleaned_text  \n",
       "index                                                                         \n",
       "347749 1746.9000  English                      suffers glichers spent speaks  \n",
       "762890   17.6000  English                        game laugh experience feels  \n",
       "652198   16.6000  English  game really know anything marvel playing slowl...  \n",
       "746653   53.0000  English  purchased game markiplier made look really tel...  \n",
       "552399    0.2000  English  cents good deal afraid theres much else decent...  "
      ]
     },
     "execution_count": 34,
=======
       "709864  [LOST] Spedsnaz      214950   \n",
       "553964     Terror Terje      575950   \n",
       "411294           Tar171       18500   \n",
       "356581             Life      284160   \n",
       "392411          Ryerson         440   \n",
       "\n",
       "                                                     text  found_funny  \\\n",
       "709864  Still has glitches even though  emperor Editio...          NaN   \n",
       "553964                           Great maps and gameplay           NaN   \n",
       "411294                 fun little game to waste time with          NaN   \n",
       "356581  One of the best driving and crashing simulator...          NaN   \n",
       "392411          freshness      spookiness would recommend          NaN   \n",
       "\n",
       "          hours     lang                                       cleaned_text  \n",
       "709864 209.4000  English  still glitches even though emperor edition unl...  \n",
       "553964   0.5000  English                                great maps gameplay  \n",
       "411294  25.0000  English                             little game waste time  \n",
       "356581 115.6000  English  best driving crashing simulators seen would re...  \n",
       "392411 955.3000  English               freshness spookiness would recommend  "
      ]
     },
     "execution_count": 96,
>>>>>>> 8fc0c4141e975876075e6bd418e426caf195b73e
     "metadata": {},
     "output_type": "execute_result"
    },
    {
     "name": "stdout",
     "output_type": "stream",
     "text": [
<<<<<<< HEAD
      "time: 16 ms (started: 2021-09-07 19:59:06 -03:00)\n"
=======
      "time: 125 ms (started: 2021-08-22 23:12:11 -03:00)\n"
>>>>>>> 8fc0c4141e975876075e6bd418e426caf195b73e
     ]
    }
   ],
   "source": [
    "# Mostramos el dataset limpio\n",
    "df_reviews.iloc[np.random.choice(df_reviews.index, size=5)]"
   ]
  },
  {
   "cell_type": "code",
<<<<<<< HEAD
   "execution_count": 35,
=======
   "execution_count": 97,
>>>>>>> 8fc0c4141e975876075e6bd418e426caf195b73e
   "metadata": {},
   "outputs": [
    {
     "data": {
      "text/html": [
       "<div>\n",
       "<style scoped>\n",
       "    .dataframe tbody tr th:only-of-type {\n",
       "        vertical-align: middle;\n",
       "    }\n",
       "\n",
       "    .dataframe tbody tr th {\n",
       "        vertical-align: top;\n",
       "    }\n",
       "\n",
       "    .dataframe thead th {\n",
       "        text-align: right;\n",
       "    }\n",
       "</style>\n",
       "<table border=\"1\" class=\"dataframe\">\n",
       "  <thead>\n",
       "    <tr style=\"text-align: right;\">\n",
       "      <th></th>\n",
       "      <th>username</th>\n",
       "      <th>product_id</th>\n",
       "      <th>text</th>\n",
       "      <th>found_funny</th>\n",
       "      <th>hours</th>\n",
       "      <th>lang</th>\n",
       "      <th>cleaned_text</th>\n",
       "    </tr>\n",
<<<<<<< HEAD
       "    <tr>\n",
       "      <th>index</th>\n",
       "      <th></th>\n",
       "      <th></th>\n",
       "      <th></th>\n",
       "      <th></th>\n",
       "      <th></th>\n",
       "      <th></th>\n",
       "      <th></th>\n",
       "    </tr>\n",
=======
>>>>>>> 8fc0c4141e975876075e6bd418e426caf195b73e
       "  </thead>\n",
       "  <tbody>\n",
       "    <tr>\n",
       "      <th>0</th>\n",
       "      <td>Chaos Syren</td>\n",
       "      <td>725280</td>\n",
       "      <td>This would not be acceptable as an entertainme...</td>\n",
       "      <td>NaN</td>\n",
       "      <td>0.1000</td>\n",
       "      <td>English</td>\n",
       "      <td>would acceptable entertainment even back graph...</td>\n",
       "    </tr>\n",
       "    <tr>\n",
       "      <th>1</th>\n",
       "      <td>Ariman1</td>\n",
       "      <td>328100</td>\n",
       "      <td>Addictive RPG   Works fine on linux though it ...</td>\n",
       "      <td>NaN</td>\n",
       "      <td>13.2000</td>\n",
       "      <td>English</td>\n",
       "      <td>addictive works fine linux though minor bugs r...</td>\n",
       "    </tr>\n",
       "    <tr>\n",
       "      <th>3</th>\n",
       "      <td>The_Cpt_FROGGY</td>\n",
       "      <td>631920</td>\n",
       "      <td>Somewhere on Zibylon                     Zibyl...</td>\n",
       "      <td>NaN</td>\n",
       "      <td>7.8000</td>\n",
       "      <td>English</td>\n",
       "      <td>somewhere zibylon zibylon command centre read ...</td>\n",
       "    </tr>\n",
       "    <tr>\n",
       "      <th>4</th>\n",
       "      <td>the_maker988</td>\n",
       "      <td>35140</td>\n",
       "      <td>This game was way to linear for me  and compar...</td>\n",
       "      <td>NaN</td>\n",
       "      <td>8.2000</td>\n",
       "      <td>English</td>\n",
       "      <td>game linear compared others good dollars winte...</td>\n",
       "    </tr>\n",
       "    <tr>\n",
       "      <th>5</th>\n",
       "      <td>Szudof</td>\n",
       "      <td>288690</td>\n",
       "      <td>Pit   Hello  my name is dominik di...</td>\n",
       "      <td>3.0000</td>\n",
       "      <td>0.2000</td>\n",
       "      <td>English</td>\n",
       "      <td>hello name dominik review bought sudoku detekt...</td>\n",
       "    </tr>\n",
       "    <tr>\n",
       "      <th>6</th>\n",
       "      <td>Vonder</td>\n",
       "      <td>35600</td>\n",
       "      <td>I like the art style and the idea but what a b...</td>\n",
       "      <td>NaN</td>\n",
       "      <td>2.7000</td>\n",
       "      <td>English</td>\n",
       "      <td>like style idea boring miserable excuse puzzle...</td>\n",
       "    </tr>\n",
       "    <tr>\n",
       "      <th>7</th>\n",
       "      <td>LucaFox</td>\n",
       "      <td>620900</td>\n",
       "      <td>Very  very good game  I love dungeon crawlers ...</td>\n",
       "      <td>1.0000</td>\n",
       "      <td>4.0000</td>\n",
       "      <td>English</td>\n",
       "      <td>good game love dungeon crawlers roguelikes lig...</td>\n",
       "    </tr>\n",
       "    <tr>\n",
       "      <th>8</th>\n",
       "      <td>rampage1209</td>\n",
       "      <td>1840</td>\n",
       "      <td>WAY PAST COOL</td>\n",
       "      <td>NaN</td>\n",
       "      <td>34.8000</td>\n",
       "      <td>English</td>\n",
       "      <td>past cool</td>\n",
       "    </tr>\n",
       "    <tr>\n",
       "      <th>9</th>\n",
       "      <td>Devil Azite</td>\n",
       "      <td>671270</td>\n",
       "      <td>Putting a hat on your head has disasterous rep...</td>\n",
       "      <td>1.0000</td>\n",
       "      <td>0.1000</td>\n",
       "      <td>English</td>\n",
       "      <td>putting head disasterous repercussions</td>\n",
       "    </tr>\n",
       "    <tr>\n",
       "      <th>10</th>\n",
       "      <td>MrNinjaSquirrel</td>\n",
       "      <td>288690</td>\n",
       "      <td>It s like Sudoku  but as a ball   I have to i...</td>\n",
       "      <td>NaN</td>\n",
       "      <td>1.2000</td>\n",
       "      <td>English</td>\n",
       "      <td>like sudoku ball imagine sort brainstorming ex...</td>\n",
       "    </tr>\n",
       "  </tbody>\n",
       "</table>\n",
       "</div>"
      ],
      "text/plain": [
<<<<<<< HEAD
       "              username  product_id  \\\n",
       "index                                \n",
       "0          Chaos Syren      725280   \n",
       "1              Ariman1      328100   \n",
       "3       The_Cpt_FROGGY      631920   \n",
       "4         the_maker988       35140   \n",
       "5               Szudof      288690   \n",
       "6               Vonder       35600   \n",
       "7              LucaFox      620900   \n",
       "8          rampage1209        1840   \n",
       "9          Devil Azite      671270   \n",
       "10     MrNinjaSquirrel      288690   \n",
       "\n",
       "                                                    text  found_funny   hours  \\\n",
       "index                                                                           \n",
       "0      This would not be acceptable as an entertainme...          NaN  0.1000   \n",
       "1      Addictive RPG   Works fine on linux though it ...          NaN 13.2000   \n",
       "3      Somewhere on Zibylon                     Zibyl...          NaN  7.8000   \n",
       "4      This game was way to linear for me  and compar...          NaN  8.2000   \n",
       "5                  Pit   Hello  my name is dominik di...       3.0000  0.2000   \n",
       "6      I like the art style and the idea but what a b...          NaN  2.7000   \n",
       "7      Very  very good game  I love dungeon crawlers ...       1.0000  4.0000   \n",
       "8                                          WAY PAST COOL          NaN 34.8000   \n",
       "9      Putting a hat on your head has disasterous rep...       1.0000  0.1000   \n",
       "10      It s like Sudoku  but as a ball   I have to i...          NaN  1.2000   \n",
       "\n",
       "          lang                                       cleaned_text  \n",
       "index                                                              \n",
       "0      English  would acceptable entertainment even back graph...  \n",
       "1      English  addictive works fine linux though minor bugs r...  \n",
       "3      English  somewhere zibylon zibylon command centre read ...  \n",
       "4      English  game linear compared others good dollars winte...  \n",
       "5      English  hello name dominik review bought sudoku detekt...  \n",
       "6      English  like style idea boring miserable excuse puzzle...  \n",
       "7      English  good game love dungeon crawlers roguelikes lig...  \n",
       "8      English                                          past cool  \n",
       "9      English             putting head disasterous repercussions  \n",
       "10     English  like sudoku ball imagine sort brainstorming ex...  "
      ]
     },
     "execution_count": 35,
=======
       "           username  product_id  \\\n",
       "0       Chaos Syren      725280   \n",
       "1           Ariman1      328100   \n",
       "3    The_Cpt_FROGGY      631920   \n",
       "4      the_maker988       35140   \n",
       "5            Szudof      288690   \n",
       "6            Vonder       35600   \n",
       "7           LucaFox      620900   \n",
       "8       rampage1209        1840   \n",
       "9       Devil Azite      671270   \n",
       "10  MrNinjaSquirrel      288690   \n",
       "\n",
       "                                                 text  found_funny   hours  \\\n",
       "0   This would not be acceptable as an entertainme...          NaN  0.1000   \n",
       "1   Addictive RPG   Works fine on linux though it ...          NaN 13.2000   \n",
       "3   Somewhere on Zibylon                     Zibyl...          NaN  7.8000   \n",
       "4   This game was way to linear for me  and compar...          NaN  8.2000   \n",
       "5               Pit   Hello  my name is dominik di...       3.0000  0.2000   \n",
       "6   I like the art style and the idea but what a b...          NaN  2.7000   \n",
       "7   Very  very good game  I love dungeon crawlers ...       1.0000  4.0000   \n",
       "8                                       WAY PAST COOL          NaN 34.8000   \n",
       "9   Putting a hat on your head has disasterous rep...       1.0000  0.1000   \n",
       "10   It s like Sudoku  but as a ball   I have to i...          NaN  1.2000   \n",
       "\n",
       "       lang                                       cleaned_text  \n",
       "0   English  would acceptable entertainment even back graph...  \n",
       "1   English  addictive works fine linux though minor bugs r...  \n",
       "3   English  somewhere zibylon zibylon command centre read ...  \n",
       "4   English  game linear compared others good dollars winte...  \n",
       "5   English  hello name dominik review bought sudoku detekt...  \n",
       "6   English  like style idea boring miserable excuse puzzle...  \n",
       "7   English  good game love dungeon crawlers roguelikes lig...  \n",
       "8   English                                          past cool  \n",
       "9   English             putting head disasterous repercussions  \n",
       "10  English  like sudoku ball imagine sort brainstorming ex...  "
      ]
     },
     "execution_count": 97,
>>>>>>> 8fc0c4141e975876075e6bd418e426caf195b73e
     "metadata": {},
     "output_type": "execute_result"
    },
    {
     "name": "stdout",
     "output_type": "stream",
     "text": [
<<<<<<< HEAD
      "time: 16 ms (started: 2021-09-07 19:59:07 -03:00)\n"
=======
      "time: 16 ms (started: 2021-08-22 23:12:35 -03:00)\n"
>>>>>>> 8fc0c4141e975876075e6bd418e426caf195b73e
     ]
    }
   ],
   "source": [
    "df_reviews.head(10)"
   ]
  },
  {
   "cell_type": "code",
<<<<<<< HEAD
   "execution_count": 36,
=======
   "execution_count": 98,
>>>>>>> 8fc0c4141e975876075e6bd418e426caf195b73e
   "metadata": {},
   "outputs": [
    {
     "name": "stderr",
     "output_type": "stream",
     "text": [
      "[nltk_data] Downloading package wordnet to\n",
      "[nltk_data]     C:\\Users\\elmai\\AppData\\Roaming\\nltk_data...\n",
      "[nltk_data]   Package wordnet is already up-to-date!\n"
     ]
    },
    {
     "data": {
      "text/plain": [
       "True"
      ]
     },
<<<<<<< HEAD
     "execution_count": 36,
=======
     "execution_count": 98,
>>>>>>> 8fc0c4141e975876075e6bd418e426caf195b73e
     "metadata": {},
     "output_type": "execute_result"
    },
    {
     "name": "stdout",
     "output_type": "stream",
     "text": [
<<<<<<< HEAD
      "time: 250 ms (started: 2021-09-07 19:59:08 -03:00)\n"
=======
      "time: 343 ms (started: 2021-08-22 23:12:39 -03:00)\n"
>>>>>>> 8fc0c4141e975876075e6bd418e426caf195b73e
     ]
    }
   ],
   "source": [
    "import nltk\n",
    "nltk.download('wordnet')"
   ]
  },
  {
   "cell_type": "code",
<<<<<<< HEAD
   "execution_count": 37,
=======
   "execution_count": 99,
>>>>>>> 8fc0c4141e975876075e6bd418e426caf195b73e
   "metadata": {},
   "outputs": [
    {
     "name": "stderr",
     "output_type": "stream",
     "text": [
      "[nltk_data] Downloading package averaged_perceptron_tagger to\n",
      "[nltk_data]     C:\\Users\\elmai\\AppData\\Roaming\\nltk_data...\n",
      "[nltk_data]   Package averaged_perceptron_tagger is already up-to-\n",
      "[nltk_data]       date!\n"
     ]
    },
    {
     "data": {
      "text/plain": [
       "True"
      ]
     },
<<<<<<< HEAD
     "execution_count": 37,
=======
     "execution_count": 99,
>>>>>>> 8fc0c4141e975876075e6bd418e426caf195b73e
     "metadata": {},
     "output_type": "execute_result"
    },
    {
     "name": "stdout",
     "output_type": "stream",
     "text": [
<<<<<<< HEAD
      "time: 15 ms (started: 2021-09-07 19:59:09 -03:00)\n"
=======
      "time: 47 ms (started: 2021-08-22 23:12:40 -03:00)\n"
>>>>>>> 8fc0c4141e975876075e6bd418e426caf195b73e
     ]
    }
   ],
   "source": [
    "nltk.download('averaged_perceptron_tagger')"
   ]
  },
  {
   "cell_type": "code",
<<<<<<< HEAD
   "execution_count": 38,
=======
   "execution_count": 100,
>>>>>>> 8fc0c4141e975876075e6bd418e426caf195b73e
   "metadata": {},
   "outputs": [
    {
     "name": "stdout",
     "output_type": "stream",
     "text": [
<<<<<<< HEAD
      "time: 0 ns (started: 2021-09-07 19:59:09 -03:00)\n"
=======
      "time: 0 ns (started: 2021-08-22 23:12:43 -03:00)\n"
>>>>>>> 8fc0c4141e975876075e6bd418e426caf195b73e
     ]
    }
   ],
   "source": [
    "def subjectivity(text):\n",
    "    return TextBlob(text).sentiment.subjectivity\n",
    "\n",
    "\n",
    "def polarity(text):\n",
    "    return TextBlob(text).sentiment.polarity"
   ]
  },
  {
   "cell_type": "code",
<<<<<<< HEAD
   "execution_count": 39,
   "metadata": {},
   "outputs": [
    {
     "name": "stdout",
     "output_type": "stream",
     "text": [
      "time: 9.78 s (started: 2021-09-07 19:59:10 -03:00)\n"
=======
   "execution_count": 101,
   "metadata": {},
   "outputs": [
    {
     "data": {
      "application/vnd.jupyter.widget-view+json": {
       "model_id": "7627c07ba6f5474c9e3a9a0390cb1d7b",
       "version_major": 2,
       "version_minor": 0
      },
      "text/plain": [
       "  0%|          | 0/685202 [00:00<?, ?it/s]"
      ]
     },
     "metadata": {},
     "output_type": "display_data"
    },
    {
     "name": "stdout",
     "output_type": "stream",
     "text": [
      "time: 5min 38s (started: 2021-08-22 23:13:04 -03:00)\n"
     ]
    },
    {
     "name": "stderr",
     "output_type": "stream",
     "text": [
      "C:\\Users\\elmai\\AppData\\Local\\Temp/ipykernel_32/3315775322.py:1: SettingWithCopyWarning: \n",
      "A value is trying to be set on a copy of a slice from a DataFrame.\n",
      "Try using .loc[row_indexer,col_indexer] = value instead\n",
      "\n",
      "See the caveats in the documentation: https://pandas.pydata.org/pandas-docs/stable/user_guide/indexing.html#returning-a-view-versus-a-copy\n",
      "  df_reviews['subj'] = df_reviews['text'].progress_apply(subjectivity)\n"
>>>>>>> 8fc0c4141e975876075e6bd418e426caf195b73e
     ]
    }
   ],
   "source": [
<<<<<<< HEAD
    "if GET_SUBJECTIVITY:\n",
    "    df_reviews['subj'] = df_reviews['text'].progress_apply(subjectivity)\n",
    "    df_reviews.to_csv('df2_reviews.csv', index_label='index')\n",
    "else:\n",
    "    df2_reviews = pd.read_csv('df2_reviews.csv')"
=======
    "df_reviews['subj'] = df_reviews['text'].progress_apply(subjectivity)"
>>>>>>> 8fc0c4141e975876075e6bd418e426caf195b73e
   ]
  },
  {
   "cell_type": "code",
<<<<<<< HEAD
   "execution_count": 40,
   "metadata": {},
   "outputs": [
    {
     "name": "stdout",
     "output_type": "stream",
     "text": [
      "time: 9.78 s (started: 2021-09-07 19:59:20 -03:00)\n"
=======
   "execution_count": 102,
   "metadata": {},
   "outputs": [
    {
     "data": {
      "application/vnd.jupyter.widget-view+json": {
       "model_id": "dbe64a6f3f4548e3a442294701d73f90",
       "version_major": 2,
       "version_minor": 0
      },
      "text/plain": [
       "  0%|          | 0/685202 [00:00<?, ?it/s]"
      ]
     },
     "metadata": {},
     "output_type": "display_data"
    },
    {
     "name": "stdout",
     "output_type": "stream",
     "text": [
      "time: 6min 4s (started: 2021-08-22 23:18:43 -03:00)\n"
     ]
    },
    {
     "name": "stderr",
     "output_type": "stream",
     "text": [
      "C:\\Users\\elmai\\AppData\\Local\\Temp/ipykernel_32/362596473.py:1: SettingWithCopyWarning: \n",
      "A value is trying to be set on a copy of a slice from a DataFrame.\n",
      "Try using .loc[row_indexer,col_indexer] = value instead\n",
      "\n",
      "See the caveats in the documentation: https://pandas.pydata.org/pandas-docs/stable/user_guide/indexing.html#returning-a-view-versus-a-copy\n",
      "  df_reviews['pola'] = df_reviews['text'].progress_apply(polarity)\n"
>>>>>>> 8fc0c4141e975876075e6bd418e426caf195b73e
     ]
    }
   ],
   "source": [
<<<<<<< HEAD
    "if GET_POLARITY:\n",
    "    df_reviews['pola'] = df_reviews['text'].progress_apply(polarity)\n",
    "    df_reviews.to_csv('df2_reviews.csv', index_label='index')\n",
    "else:\n",
    "    df2_reviews = pd.read_csv('df2_reviews.csv')"
=======
    "df_reviews['pola'] = df_reviews['text'].progress_apply(polarity)"
>>>>>>> 8fc0c4141e975876075e6bd418e426caf195b73e
   ]
  },
  {
   "cell_type": "code",
<<<<<<< HEAD
   "execution_count": 41,
=======
   "execution_count": 103,
>>>>>>> 8fc0c4141e975876075e6bd418e426caf195b73e
   "metadata": {},
   "outputs": [
    {
     "data": {
      "text/html": [
       "<div>\n",
       "<style scoped>\n",
       "    .dataframe tbody tr th:only-of-type {\n",
       "        vertical-align: middle;\n",
       "    }\n",
       "\n",
       "    .dataframe tbody tr th {\n",
       "        vertical-align: top;\n",
       "    }\n",
       "\n",
       "    .dataframe thead th {\n",
       "        text-align: right;\n",
       "    }\n",
       "</style>\n",
       "<table border=\"1\" class=\"dataframe\">\n",
       "  <thead>\n",
       "    <tr style=\"text-align: right;\">\n",
       "      <th></th>\n",
<<<<<<< HEAD
       "      <th>index</th>\n",
=======
>>>>>>> 8fc0c4141e975876075e6bd418e426caf195b73e
       "      <th>username</th>\n",
       "      <th>product_id</th>\n",
       "      <th>text</th>\n",
       "      <th>found_funny</th>\n",
       "      <th>hours</th>\n",
       "      <th>lang</th>\n",
       "      <th>cleaned_text</th>\n",
       "      <th>subj</th>\n",
       "      <th>pola</th>\n",
       "    </tr>\n",
       "  </thead>\n",
       "  <tbody>\n",
       "    <tr>\n",
<<<<<<< HEAD
       "      <th>405255</th>\n",
       "      <td>461728</td>\n",
       "      <td>Comrade Bear</td>\n",
       "      <td>70000</td>\n",
       "      <td>It s Day of Defeat with dinosaurs  but that s ...</td>\n",
       "      <td>NaN</td>\n",
       "      <td>5.9000</td>\n",
       "      <td>English</td>\n",
       "      <td>defeat dinosaurs makes great</td>\n",
       "      <td>0.7500</td>\n",
       "      <td>0.8000</td>\n",
       "    </tr>\n",
       "    <tr>\n",
       "      <th>589424</th>\n",
       "      <td>669003</td>\n",
       "      <td>Americelt</td>\n",
       "      <td>269290</td>\n",
       "      <td>Works great with all of my games  No ads or wa...</td>\n",
       "      <td>NaN</td>\n",
       "      <td>8.7000</td>\n",
       "      <td>English</td>\n",
       "      <td>works great games watermarks even works steam ...</td>\n",
       "      <td>0.7500</td>\n",
       "      <td>0.8000</td>\n",
       "    </tr>\n",
       "    <tr>\n",
       "      <th>293786</th>\n",
       "      <td>333230</td>\n",
       "      <td>ѼKurashikkurioѼ</td>\n",
       "      <td>238460</td>\n",
       "      <td>Grab a friend and Hammer through the most hear...</td>\n",
       "      <td>NaN</td>\n",
       "      <td>11.1000</td>\n",
       "      <td>English</td>\n",
       "      <td>grab friend hammer heart warming horrible stor...</td>\n",
       "      <td>0.7500</td>\n",
       "      <td>-0.2500</td>\n",
       "    </tr>\n",
       "    <tr>\n",
       "      <th>506783</th>\n",
       "      <td>576094</td>\n",
       "      <td>RubberHide</td>\n",
       "      <td>442080</td>\n",
       "      <td>its great</td>\n",
       "      <td>NaN</td>\n",
       "      <td>9.8000</td>\n",
       "      <td>English</td>\n",
       "      <td>great</td>\n",
       "      <td>0.7500</td>\n",
       "      <td>0.8000</td>\n",
       "    </tr>\n",
       "    <tr>\n",
       "      <th>627015</th>\n",
       "      <td>711610</td>\n",
       "      <td>Canget</td>\n",
       "      <td>49520</td>\n",
       "      <td>Great times been here</td>\n",
       "      <td>NaN</td>\n",
       "      <td>31.6000</td>\n",
       "      <td>English</td>\n",
       "      <td>great times</td>\n",
       "      <td>0.7500</td>\n",
       "      <td>0.8000</td>\n",
       "    </tr>\n",
       "    <tr>\n",
       "      <th>99137</th>\n",
       "      <td>112836</td>\n",
       "      <td>Galilaios</td>\n",
       "      <td>39140</td>\n",
       "      <td>One of the most beloved Jrpgs</td>\n",
       "      <td>NaN</td>\n",
       "      <td>1.6000</td>\n",
       "      <td>English</td>\n",
       "      <td>beloved jrpgs</td>\n",
       "      <td>0.7500</td>\n",
       "      <td>0.6000</td>\n",
       "    </tr>\n",
       "    <tr>\n",
       "      <th>260119</th>\n",
       "      <td>294760</td>\n",
       "      <td>Lostmind76</td>\n",
       "      <td>8980</td>\n",
       "      <td>A great looting and killing spree with humor a...</td>\n",
       "      <td>NaN</td>\n",
       "      <td>50.5000</td>\n",
       "      <td>English</td>\n",
       "      <td>great looting killing spree humor great weapons</td>\n",
       "      <td>0.7500</td>\n",
       "      <td>0.8000</td>\n",
       "    </tr>\n",
       "    <tr>\n",
       "      <th>379834</th>\n",
       "      <td>433319</td>\n",
       "      <td>Tophatphil (twitch.tv/toefat)</td>\n",
       "      <td>322500</td>\n",
       "      <td>It s the most innovative shooter I ve played ...</td>\n",
       "      <td>NaN</td>\n",
       "      <td>3.3000</td>\n",
       "      <td>English</td>\n",
       "      <td>innovative shooter played years</td>\n",
       "      <td>0.7500</td>\n",
       "      <td>0.5000</td>\n",
       "    </tr>\n",
       "    <tr>\n",
       "      <th>247921</th>\n",
       "      <td>280887</td>\n",
       "      <td>Xenon (Xe)</td>\n",
       "      <td>244870</td>\n",
       "      <td>Difficult AF and challenging  but a good rage ...</td>\n",
       "      <td>NaN</td>\n",
       "      <td>0.7000</td>\n",
       "      <td>English</td>\n",
       "      <td>difficult challenging good rage game</td>\n",
       "      <td>0.7500</td>\n",
       "      <td>0.0750</td>\n",
       "    </tr>\n",
       "    <tr>\n",
       "      <th>647822</th>\n",
       "      <td>735885</td>\n",
       "      <td>uplasenko</td>\n",
       "      <td>518030</td>\n",
       "      <td>Nice for practicing aim  but PLEASE add invert...</td>\n",
       "      <td>NaN</td>\n",
       "      <td>10.0000</td>\n",
       "      <td>English</td>\n",
       "      <td>nice practicing please invert mouse option mus...</td>\n",
       "      <td>0.7500</td>\n",
       "      <td>0.5500</td>\n",
       "    </tr>\n",
       "    <tr>\n",
       "      <th>318331</th>\n",
       "      <td>360675</td>\n",
       "      <td>Zealot780</td>\n",
       "      <td>254200</td>\n",
       "      <td>an upgrade from the original on xbox</td>\n",
       "      <td>NaN</td>\n",
       "      <td>5.0000</td>\n",
       "      <td>English</td>\n",
       "      <td>upgrade original xbox</td>\n",
       "      <td>0.7500</td>\n",
       "      <td>0.3750</td>\n",
       "    </tr>\n",
       "    <tr>\n",
       "      <th>376157</th>\n",
       "      <td>429182</td>\n",
       "      <td>Szabe</td>\n",
       "      <td>348450</td>\n",
       "      <td>These asset store models are great</td>\n",
       "      <td>1.0000</td>\n",
       "      <td>0.7000</td>\n",
       "      <td>English</td>\n",
       "      <td>asset store models great</td>\n",
       "      <td>0.7500</td>\n",
       "      <td>0.8000</td>\n",
       "    </tr>\n",
       "    <tr>\n",
       "      <th>28187</th>\n",
       "      <td>32483</td>\n",
       "      <td>assiprinz</td>\n",
       "      <td>244930</td>\n",
       "      <td>would totally microtransact again</td>\n",
       "      <td>NaN</td>\n",
       "      <td>4.9000</td>\n",
       "      <td>English</td>\n",
       "      <td>would totally microtransact</td>\n",
       "      <td>0.7500</td>\n",
       "      <td>0.0000</td>\n",
       "    </tr>\n",
       "    <tr>\n",
       "      <th>464689</th>\n",
       "      <td>529366</td>\n",
       "      <td>123</td>\n",
       "      <td>346110</td>\n",
       "      <td>once was great</td>\n",
       "      <td>1.0000</td>\n",
       "      <td>734.5000</td>\n",
       "      <td>English</td>\n",
       "      <td>great</td>\n",
       "      <td>0.7500</td>\n",
       "      <td>0.8000</td>\n",
       "    </tr>\n",
       "    <tr>\n",
       "      <th>144820</th>\n",
       "      <td>164704</td>\n",
       "      <td>Aurulien</td>\n",
       "      <td>237850</td>\n",
       "      <td>A must play for any TLJ series fan  Great stor...</td>\n",
       "      <td>NaN</td>\n",
       "      <td>43.1000</td>\n",
       "      <td>English</td>\n",
       "      <td>must play series great story characters dialog...</td>\n",
       "      <td>0.7500</td>\n",
       "      <td>0.8000</td>\n",
       "    </tr>\n",
       "    <tr>\n",
       "      <th>641420</th>\n",
       "      <td>728358</td>\n",
       "      <td>Gryndhol</td>\n",
       "      <td>9500</td>\n",
       "      <td>One of the most important parts of my childhood</td>\n",
       "      <td>NaN</td>\n",
       "      <td>28.1000</td>\n",
       "      <td>English</td>\n",
       "      <td>important parts childhood</td>\n",
       "      <td>0.7500</td>\n",
       "      <td>0.4500</td>\n",
       "    </tr>\n",
       "    <tr>\n",
       "      <th>640361</th>\n",
       "      <td>727111</td>\n",
       "      <td>Gordikk</td>\n",
       "      <td>71250</td>\n",
       "      <td>storyline wasn t complicated enough   Co...</td>\n",
       "      <td>7.0000</td>\n",
       "      <td>34.4000</td>\n",
       "      <td>English</td>\n",
       "      <td>storyline complicated enough could used time t...</td>\n",
       "      <td>0.7500</td>\n",
       "      <td>-0.2500</td>\n",
       "    </tr>\n",
       "    <tr>\n",
       "      <th>496217</th>\n",
       "      <td>564383</td>\n",
       "      <td>Guybrush T</td>\n",
       "      <td>221910</td>\n",
       "      <td>great stuff</td>\n",
       "      <td>NaN</td>\n",
       "      <td>10.6000</td>\n",
       "      <td>English</td>\n",
       "      <td>great stuff</td>\n",
=======
       "      <th>0</th>\n",
       "      <td>Chaos Syren</td>\n",
       "      <td>725280</td>\n",
       "      <td>This would not be acceptable as an entertainme...</td>\n",
       "      <td>NaN</td>\n",
       "      <td>0.1000</td>\n",
       "      <td>English</td>\n",
       "      <td>would acceptable entertainment even back graph...</td>\n",
       "      <td>0.0000</td>\n",
       "      <td>0.0000</td>\n",
       "    </tr>\n",
       "    <tr>\n",
       "      <th>1</th>\n",
       "      <td>Ariman1</td>\n",
       "      <td>328100</td>\n",
       "      <td>Addictive RPG   Works fine on linux though it ...</td>\n",
       "      <td>NaN</td>\n",
       "      <td>13.2000</td>\n",
       "      <td>English</td>\n",
       "      <td>addictive works fine linux though minor bugs r...</td>\n",
       "      <td>0.4250</td>\n",
       "      <td>0.0417</td>\n",
       "    </tr>\n",
       "    <tr>\n",
       "      <th>3</th>\n",
       "      <td>The_Cpt_FROGGY</td>\n",
       "      <td>631920</td>\n",
       "      <td>Somewhere on Zibylon                     Zibyl...</td>\n",
       "      <td>NaN</td>\n",
       "      <td>7.8000</td>\n",
       "      <td>English</td>\n",
       "      <td>somewhere zibylon zibylon command centre read ...</td>\n",
       "      <td>0.5484</td>\n",
       "      <td>0.1652</td>\n",
       "    </tr>\n",
       "    <tr>\n",
       "      <th>4</th>\n",
       "      <td>the_maker988</td>\n",
       "      <td>35140</td>\n",
       "      <td>This game was way to linear for me  and compar...</td>\n",
       "      <td>NaN</td>\n",
       "      <td>8.2000</td>\n",
       "      <td>English</td>\n",
       "      <td>game linear compared others good dollars winte...</td>\n",
       "      <td>0.3688</td>\n",
       "      <td>0.1187</td>\n",
       "    </tr>\n",
       "    <tr>\n",
       "      <th>5</th>\n",
       "      <td>Szudof</td>\n",
       "      <td>288690</td>\n",
       "      <td>Pit   Hello  my name is dominik di...</td>\n",
       "      <td>3.0000</td>\n",
       "      <td>0.2000</td>\n",
       "      <td>English</td>\n",
       "      <td>hello name dominik review bought sudoku detekt...</td>\n",
       "      <td>0.5333</td>\n",
       "      <td>-0.1200</td>\n",
       "    </tr>\n",
       "    <tr>\n",
       "      <th>...</th>\n",
       "      <td>...</td>\n",
       "      <td>...</td>\n",
       "      <td>...</td>\n",
       "      <td>...</td>\n",
       "      <td>...</td>\n",
       "      <td>...</td>\n",
       "      <td>...</td>\n",
       "      <td>...</td>\n",
       "      <td>...</td>\n",
       "    </tr>\n",
       "    <tr>\n",
       "      <th>779301</th>\n",
       "      <td>SepticFalcon</td>\n",
       "      <td>252490</td>\n",
       "      <td>A good laugh with friends  cannot wait till mo...</td>\n",
       "      <td>NaN</td>\n",
       "      <td>334.9000</td>\n",
       "      <td>English</td>\n",
       "      <td>good laugh friends cannot wait till added</td>\n",
       "      <td>0.4000</td>\n",
       "      <td>0.5000</td>\n",
       "    </tr>\n",
       "    <tr>\n",
       "      <th>779302</th>\n",
       "      <td>Vidaar</td>\n",
       "      <td>252490</td>\n",
       "      <td>Summary  Rust is a survival game created by Fa...</td>\n",
       "      <td>NaN</td>\n",
       "      <td>783.5000</td>\n",
       "      <td>English</td>\n",
       "      <td>summary rust survival game created facepunch s...</td>\n",
       "      <td>0.5183</td>\n",
       "      <td>-0.2125</td>\n",
       "    </tr>\n",
       "    <tr>\n",
       "      <th>779304</th>\n",
       "      <td>RancorZealot</td>\n",
       "      <td>252490</td>\n",
       "      <td>Should you buy RUST  Uh    YES  The BEST Survi...</td>\n",
       "      <td>NaN</td>\n",
       "      <td>203.5000</td>\n",
       "      <td>English</td>\n",
       "      <td>rust best survival sandbox game market playing...</td>\n",
       "      <td>0.4085</td>\n",
       "      <td>0.1573</td>\n",
       "    </tr>\n",
       "    <tr>\n",
       "      <th>779305</th>\n",
       "      <td>Jerry</td>\n",
       "      <td>252490</td>\n",
       "      <td>Great game</td>\n",
       "      <td>NaN</td>\n",
       "      <td>139.8000</td>\n",
       "      <td>English</td>\n",
       "      <td>great game</td>\n",
       "      <td>0.5750</td>\n",
       "      <td>0.2000</td>\n",
       "    </tr>\n",
       "    <tr>\n",
       "      <th>779306</th>\n",
       "      <td>Helk</td>\n",
       "      <td>252490</td>\n",
       "      <td>I love this game</td>\n",
       "      <td>36.0000</td>\n",
       "      <td>15375.0000</td>\n",
       "      <td>English</td>\n",
       "      <td>love game</td>\n",
       "      <td>0.5000</td>\n",
       "      <td>0.0500</td>\n",
       "    </tr>\n",
       "  </tbody>\n",
       "</table>\n",
       "<p>685202 rows × 9 columns</p>\n",
       "</div>"
      ],
      "text/plain": [
       "              username  product_id  \\\n",
       "0          Chaos Syren      725280   \n",
       "1              Ariman1      328100   \n",
       "3       The_Cpt_FROGGY      631920   \n",
       "4         the_maker988       35140   \n",
       "5               Szudof      288690   \n",
       "...                ...         ...   \n",
       "779301    SepticFalcon      252490   \n",
       "779302          Vidaar      252490   \n",
       "779304    RancorZealot      252490   \n",
       "779305           Jerry      252490   \n",
       "779306            Helk      252490   \n",
       "\n",
       "                                                     text  found_funny  \\\n",
       "0       This would not be acceptable as an entertainme...          NaN   \n",
       "1       Addictive RPG   Works fine on linux though it ...          NaN   \n",
       "3       Somewhere on Zibylon                     Zibyl...          NaN   \n",
       "4       This game was way to linear for me  and compar...          NaN   \n",
       "5                   Pit   Hello  my name is dominik di...       3.0000   \n",
       "...                                                   ...          ...   \n",
       "779301  A good laugh with friends  cannot wait till mo...          NaN   \n",
       "779302  Summary  Rust is a survival game created by Fa...          NaN   \n",
       "779304  Should you buy RUST  Uh    YES  The BEST Survi...          NaN   \n",
       "779305                                        Great game           NaN   \n",
       "779306                                  I love this game       36.0000   \n",
       "\n",
       "            hours     lang                                       cleaned_text  \\\n",
       "0          0.1000  English  would acceptable entertainment even back graph...   \n",
       "1         13.2000  English  addictive works fine linux though minor bugs r...   \n",
       "3          7.8000  English  somewhere zibylon zibylon command centre read ...   \n",
       "4          8.2000  English  game linear compared others good dollars winte...   \n",
       "5          0.2000  English  hello name dominik review bought sudoku detekt...   \n",
       "...           ...      ...                                                ...   \n",
       "779301   334.9000  English          good laugh friends cannot wait till added   \n",
       "779302   783.5000  English  summary rust survival game created facepunch s...   \n",
       "779304   203.5000  English  rust best survival sandbox game market playing...   \n",
       "779305   139.8000  English                                         great game   \n",
       "779306 15375.0000  English                                          love game   \n",
       "\n",
       "         subj    pola  \n",
       "0      0.0000  0.0000  \n",
       "1      0.4250  0.0417  \n",
       "3      0.5484  0.1652  \n",
       "4      0.3688  0.1187  \n",
       "5      0.5333 -0.1200  \n",
       "...       ...     ...  \n",
       "779301 0.4000  0.5000  \n",
       "779302 0.5183 -0.2125  \n",
       "779304 0.4085  0.1573  \n",
       "779305 0.5750  0.2000  \n",
       "779306 0.5000  0.0500  \n",
       "\n",
       "[685202 rows x 9 columns]"
      ]
     },
     "execution_count": 103,
     "metadata": {},
     "output_type": "execute_result"
    },
    {
     "name": "stdout",
     "output_type": "stream",
     "text": [
      "time: 31 ms (started: 2021-08-22 23:24:47 -03:00)\n"
     ]
    }
   ],
   "source": [
    "df_reviews"
   ]
  },
  {
   "cell_type": "code",
   "execution_count": 104,
   "metadata": {},
   "outputs": [
    {
     "data": {
      "text/html": [
       "<div>\n",
       "<style scoped>\n",
       "    .dataframe tbody tr th:only-of-type {\n",
       "        vertical-align: middle;\n",
       "    }\n",
       "\n",
       "    .dataframe tbody tr th {\n",
       "        vertical-align: top;\n",
       "    }\n",
       "\n",
       "    .dataframe thead th {\n",
       "        text-align: right;\n",
       "    }\n",
       "</style>\n",
       "<table border=\"1\" class=\"dataframe\">\n",
       "  <thead>\n",
       "    <tr style=\"text-align: right;\">\n",
       "      <th></th>\n",
       "      <th>username</th>\n",
       "      <th>product_id</th>\n",
       "      <th>text</th>\n",
       "      <th>found_funny</th>\n",
       "      <th>hours</th>\n",
       "      <th>lang</th>\n",
       "      <th>cleaned_text</th>\n",
       "      <th>subj</th>\n",
       "      <th>pola</th>\n",
       "    </tr>\n",
       "  </thead>\n",
       "  <tbody>\n",
       "    <tr>\n",
       "      <th>331076</th>\n",
       "      <td>purwadinugroho86</td>\n",
       "      <td>291410</td>\n",
       "      <td>Get rid of the key system  and its better than...</td>\n",
       "      <td>NaN</td>\n",
       "      <td>100.6000</td>\n",
       "      <td>English</td>\n",
       "      <td>system better blizzard</td>\n",
       "      <td>0.7500</td>\n",
       "      <td>0.2500</td>\n",
       "    </tr>\n",
       "    <tr>\n",
       "      <th>525580</th>\n",
       "      <td>littleleoness</td>\n",
       "      <td>363970</td>\n",
       "      <td>It s ok  I guess  Psych  I m obsessed</td>\n",
       "      <td>NaN</td>\n",
       "      <td>15.0000</td>\n",
       "      <td>English</td>\n",
       "      <td>guess psych obsessed</td>\n",
       "      <td>0.7500</td>\n",
       "      <td>0.0000</td>\n",
       "    </tr>\n",
       "    <tr>\n",
       "      <th>482076</th>\n",
       "      <td>Korven Kuningas</td>\n",
       "      <td>627690</td>\n",
       "      <td>It s the rp added ver of clicker heroes  It s ...</td>\n",
       "      <td>NaN</td>\n",
       "      <td>392.8000</td>\n",
       "      <td>English</td>\n",
       "      <td>added clicker heroes always nice heroes forgot...</td>\n",
       "      <td>0.7500</td>\n",
       "      <td>0.5500</td>\n",
       "    </tr>\n",
       "    <tr>\n",
       "      <th>258167</th>\n",
       "      <td>Blind and Deaf With Parkinsons</td>\n",
       "      <td>365590</td>\n",
       "      <td>A pretty boring repetitive experience unless y...</td>\n",
       "      <td>1.0000</td>\n",
       "      <td>31.3000</td>\n",
       "      <td>English</td>\n",
       "      <td>pretty boring repetitive experience unless fri...</td>\n",
       "      <td>0.7500</td>\n",
       "      <td>-0.3333</td>\n",
       "    </tr>\n",
       "    <tr>\n",
       "      <th>171304</th>\n",
       "      <td>patandspooky</td>\n",
       "      <td>203630</td>\n",
       "      <td>I love this game   It is Civ Lite with magic  ...</td>\n",
       "      <td>NaN</td>\n",
       "      <td>151.2000</td>\n",
       "      <td>English</td>\n",
       "      <td>love game lite magic drawback lack achiements ...</td>\n",
       "      <td>0.7500</td>\n",
       "      <td>0.1500</td>\n",
       "    </tr>\n",
       "    <tr>\n",
       "      <th>735498</th>\n",
       "      <td>whydavid</td>\n",
       "      <td>220440</td>\n",
       "      <td>Gameplay is smooth and the story is existent c...</td>\n",
       "      <td>NaN</td>\n",
       "      <td>16.6000</td>\n",
       "      <td>English</td>\n",
       "      <td>gameplay smooth story existent compared predec...</td>\n",
       "      <td>0.7500</td>\n",
       "      <td>0.2000</td>\n",
       "    </tr>\n",
       "    <tr>\n",
       "      <th>171850</th>\n",
       "      <td>Teh_Bucket</td>\n",
       "      <td>274290</td>\n",
       "      <td>very nice looking random number generator</td>\n",
       "      <td>4.0000</td>\n",
       "      <td>0.6000</td>\n",
       "      <td>English</td>\n",
       "      <td>nice looking random number generator</td>\n",
       "      <td>0.7500</td>\n",
       "      <td>0.1400</td>\n",
       "    </tr>\n",
       "    <tr>\n",
       "      <th>31641</th>\n",
       "      <td>Connor  gamdom.com</td>\n",
       "      <td>271590</td>\n",
       "      <td>They fked up  modes were great</td>\n",
       "      <td>NaN</td>\n",
       "      <td>152.5000</td>\n",
       "      <td>English</td>\n",
       "      <td>fked modes great</td>\n",
>>>>>>> 8fc0c4141e975876075e6bd418e426caf195b73e
       "      <td>0.7500</td>\n",
       "      <td>0.8000</td>\n",
       "    </tr>\n",
       "    <tr>\n",
<<<<<<< HEAD
       "      <th>139151</th>\n",
       "      <td>158522</td>\n",
       "      <td>ryN</td>\n",
       "      <td>319630</td>\n",
       "      <td>With great power comes great        t       n...</td>\n",
       "      <td>1.0000</td>\n",
       "      <td>7.2000</td>\n",
       "      <td>English</td>\n",
       "      <td>great power comes great emoji</td>\n",
       "      <td>0.7500</td>\n",
       "      <td>0.8000</td>\n",
       "    </tr>\n",
       "    <tr>\n",
       "      <th>202111</th>\n",
       "      <td>229578</td>\n",
       "      <td>Adam Hates Life</td>\n",
       "      <td>262060</td>\n",
       "      <td>Get it  It s     ing great</td>\n",
       "      <td>4.0000</td>\n",
       "      <td>102.8000</td>\n",
       "      <td>English</td>\n",
       "      <td>great</td>\n",
=======
       "      <th>590844</th>\n",
       "      <td>Zangston</td>\n",
       "      <td>10500</td>\n",
       "      <td>Just play Napoleon  Total War</td>\n",
       "      <td>1.0000</td>\n",
       "      <td>0.9000</td>\n",
       "      <td>English</td>\n",
       "      <td>play napoleon total</td>\n",
       "      <td>0.7500</td>\n",
       "      <td>0.0000</td>\n",
       "    </tr>\n",
       "    <tr>\n",
       "      <th>618721</th>\n",
       "      <td>Corpse Run</td>\n",
       "      <td>282440</td>\n",
       "      <td>Great investment</td>\n",
       "      <td>NaN</td>\n",
       "      <td>1.5000</td>\n",
       "      <td>English</td>\n",
       "      <td>great investment</td>\n",
>>>>>>> 8fc0c4141e975876075e6bd418e426caf195b73e
       "      <td>0.7500</td>\n",
       "      <td>0.8000</td>\n",
       "    </tr>\n",
       "    <tr>\n",
<<<<<<< HEAD
       "      <th>626111</th>\n",
       "      <td>710613</td>\n",
       "      <td>vincent the manmelter</td>\n",
       "      <td>225540</td>\n",
       "      <td>It were great</td>\n",
       "      <td>NaN</td>\n",
       "      <td>60.4000</td>\n",
       "      <td>English</td>\n",
       "      <td>great</td>\n",
=======
       "      <th>417699</th>\n",
       "      <td>Paragon</td>\n",
       "      <td>249050</td>\n",
       "      <td>Pick it up  Play with friends Have a great tim...</td>\n",
       "      <td>NaN</td>\n",
       "      <td>22.9000</td>\n",
       "      <td>English</td>\n",
       "      <td>pick play friends great time</td>\n",
>>>>>>> 8fc0c4141e975876075e6bd418e426caf195b73e
       "      <td>0.7500</td>\n",
       "      <td>0.8000</td>\n",
       "    </tr>\n",
       "    <tr>\n",
<<<<<<< HEAD
       "      <th>57970</th>\n",
       "      <td>66076</td>\n",
       "      <td>Edgy The Clown</td>\n",
       "      <td>17570</td>\n",
       "      <td>Great for furry roleplay</td>\n",
       "      <td>NaN</td>\n",
       "      <td>42.8000</td>\n",
       "      <td>English</td>\n",
       "      <td>great furry roleplay</td>\n",
=======
       "      <th>31601</th>\n",
       "      <td>Zaty</td>\n",
       "      <td>200710</td>\n",
       "      <td>Great dungeon crawler</td>\n",
       "      <td>NaN</td>\n",
       "      <td>110.8000</td>\n",
       "      <td>English</td>\n",
       "      <td>great dungeon crawler</td>\n",
>>>>>>> 8fc0c4141e975876075e6bd418e426caf195b73e
       "      <td>0.7500</td>\n",
       "      <td>0.8000</td>\n",
       "    </tr>\n",
       "    <tr>\n",
<<<<<<< HEAD
       "      <th>621237</th>\n",
       "      <td>705124</td>\n",
       "      <td>aaaaaaaaaaaaaaaaaaaaaaaaaaaaaah</td>\n",
       "      <td>362890</td>\n",
       "      <td>YOU CAN T DRINK THE SODA TO REGAIN   HELTH LIK...</td>\n",
       "      <td>15.0000</td>\n",
       "      <td>13.6000</td>\n",
       "      <td>English</td>\n",
       "      <td>drink soda regain helth like original</td>\n",
       "      <td>0.7500</td>\n",
       "      <td>0.3750</td>\n",
       "    </tr>\n",
       "    <tr>\n",
       "      <th>121464</th>\n",
       "      <td>138237</td>\n",
       "      <td>Jenicorth The Apocalypse of ANUS</td>\n",
       "      <td>104900</td>\n",
       "      <td>Great</td>\n",
       "      <td>NaN</td>\n",
       "      <td>8.1000</td>\n",
       "      <td>English</td>\n",
       "      <td>great</td>\n",
       "      <td>0.7500</td>\n",
       "      <td>0.8000</td>\n",
       "    </tr>\n",
       "    <tr>\n",
       "      <th>548413</th>\n",
       "      <td>622770</td>\n",
       "      <td>NetQvist</td>\n",
       "      <td>219990</td>\n",
       "      <td>Great</td>\n",
       "      <td>NaN</td>\n",
       "      <td>194.1000</td>\n",
       "      <td>English</td>\n",
       "      <td>great</td>\n",
       "      <td>0.7500</td>\n",
       "      <td>0.8000</td>\n",
       "    </tr>\n",
       "    <tr>\n",
       "      <th>474667</th>\n",
       "      <td>540549</td>\n",
       "      <td>That's my Kind of Night</td>\n",
       "      <td>251170</td>\n",
       "      <td>Great for mind games with friends</td>\n",
       "      <td>NaN</td>\n",
       "      <td>21.0000</td>\n",
       "      <td>English</td>\n",
       "      <td>great mind games friends</td>\n",
       "      <td>0.7500</td>\n",
       "      <td>0.8000</td>\n",
       "    </tr>\n",
       "    <tr>\n",
       "      <th>265397</th>\n",
       "      <td>300858</td>\n",
       "      <td>Spooky Skeletons</td>\n",
       "      <td>201810</td>\n",
       "      <td>Great shooting  great voice work  great gamepl...</td>\n",
       "      <td>NaN</td>\n",
       "      <td>28.6000</td>\n",
       "      <td>English</td>\n",
       "      <td>great shooting great voice work great gameplay...</td>\n",
=======
       "      <th>625197</th>\n",
       "      <td>Waste of Semen</td>\n",
       "      <td>394280</td>\n",
       "      <td>Sloppy made  A lot of things not making any se...</td>\n",
       "      <td>NaN</td>\n",
       "      <td>10.6000</td>\n",
       "      <td>English</td>\n",
       "      <td>sloppy made things making sense</td>\n",
       "      <td>0.7500</td>\n",
       "      <td>-0.4167</td>\n",
       "    </tr>\n",
       "    <tr>\n",
       "      <th>625210</th>\n",
       "      <td>Dominck</td>\n",
       "      <td>6060</td>\n",
       "      <td>amazing for the time it was made  This was the...</td>\n",
       "      <td>NaN</td>\n",
       "      <td>0.4000</td>\n",
       "      <td>English</td>\n",
       "      <td>amazing time made firs real game remeber playing</td>\n",
       "      <td>0.7500</td>\n",
       "      <td>0.0000</td>\n",
       "    </tr>\n",
       "    <tr>\n",
       "      <th>618673</th>\n",
       "      <td>mellll</td>\n",
       "      <td>206420</td>\n",
       "      <td>This Game is an unusual combination Between cr...</td>\n",
       "      <td>NaN</td>\n",
       "      <td>20.9000</td>\n",
       "      <td>English</td>\n",
       "      <td>game unusual combination crazy adventure prett...</td>\n",
       "      <td>0.7500</td>\n",
       "      <td>0.0583</td>\n",
       "    </tr>\n",
       "    <tr>\n",
       "      <th>400114</th>\n",
       "      <td>RelanoDoosevelt</td>\n",
       "      <td>310080</td>\n",
       "      <td>Most of the birds were p nice</td>\n",
       "      <td>NaN</td>\n",
       "      <td>4.7000</td>\n",
       "      <td>English</td>\n",
       "      <td>birds nice</td>\n",
       "      <td>0.7500</td>\n",
       "      <td>0.5500</td>\n",
       "    </tr>\n",
       "    <tr>\n",
       "      <th>335576</th>\n",
       "      <td>twitch.tv/Marijuana_Merlin</td>\n",
       "      <td>369530</td>\n",
       "      <td>Mount and Blade  Total War in space  If that d...</td>\n",
       "      <td>4.0000</td>\n",
       "      <td>37.6000</td>\n",
       "      <td>English</td>\n",
       "      <td>mount blade total space sell know</td>\n",
       "      <td>0.7500</td>\n",
       "      <td>0.0000</td>\n",
       "    </tr>\n",
       "    <tr>\n",
       "      <th>168393</th>\n",
       "      <td>Willass</td>\n",
       "      <td>251990</td>\n",
       "      <td>Just a great VN  might be one of my favs  Cheers</td>\n",
       "      <td>NaN</td>\n",
       "      <td>9.4000</td>\n",
       "      <td>English</td>\n",
       "      <td>great might favs cheers</td>\n",
>>>>>>> 8fc0c4141e975876075e6bd418e426caf195b73e
       "      <td>0.7500</td>\n",
       "      <td>0.8000</td>\n",
       "    </tr>\n",
       "    <tr>\n",
<<<<<<< HEAD
       "      <th>260816</th>\n",
       "      <td>295571</td>\n",
       "      <td>Zak Has A Shitty PC</td>\n",
       "      <td>431960</td>\n",
       "      <td>great for having hentai or anime as your backg...</td>\n",
       "      <td>NaN</td>\n",
       "      <td>184.9000</td>\n",
       "      <td>English</td>\n",
       "      <td>great hentai anime background</td>\n",
=======
       "      <th>618526</th>\n",
       "      <td>raviel</td>\n",
       "      <td>463350</td>\n",
       "      <td>i don t find it great thats all</td>\n",
       "      <td>2.0000</td>\n",
       "      <td>1.8000</td>\n",
       "      <td>English</td>\n",
       "      <td>find great thats</td>\n",
>>>>>>> 8fc0c4141e975876075e6bd418e426caf195b73e
       "      <td>0.7500</td>\n",
       "      <td>0.8000</td>\n",
       "    </tr>\n",
       "    <tr>\n",
<<<<<<< HEAD
       "      <th>262903</th>\n",
       "      <td>297995</td>\n",
       "      <td>FluffyRug</td>\n",
       "      <td>270550</td>\n",
       "      <td>hey nice game you got going good to play with ...</td>\n",
       "      <td>NaN</td>\n",
       "      <td>10.0000</td>\n",
       "      <td>English</td>\n",
       "      <td>nice game going good play frends sandbox mode ...</td>\n",
       "      <td>0.7500</td>\n",
       "      <td>0.2250</td>\n",
       "    </tr>\n",
       "    <tr>\n",
       "      <th>507724</th>\n",
       "      <td>577152</td>\n",
       "      <td>Fabulous</td>\n",
       "      <td>292120</td>\n",
       "      <td>Could be much worse I guess  Wait for a sale u...</td>\n",
       "      <td>NaN</td>\n",
       "      <td>18.1000</td>\n",
       "      <td>English</td>\n",
       "      <td>could much worse guess wait sale unless absolu...</td>\n",
       "      <td>0.7500</td>\n",
       "      <td>-0.1000</td>\n",
       "    </tr>\n",
       "    <tr>\n",
       "      <th>643686</th>\n",
       "      <td>731017</td>\n",
       "      <td>Thundersauce</td>\n",
       "      <td>50300</td>\n",
       "      <td>Great story line</td>\n",
       "      <td>NaN</td>\n",
       "      <td>20.8000</td>\n",
       "      <td>English</td>\n",
       "      <td>great story line</td>\n",
=======
       "      <th>625315</th>\n",
       "      <td>Risa (Snaek) (Periweeb)</td>\n",
       "      <td>282900</td>\n",
       "      <td>are you a gamer  good youll like the humor are...</td>\n",
       "      <td>NaN</td>\n",
       "      <td>126.0000</td>\n",
       "      <td>English</td>\n",
       "      <td>gamer good youll like humor weeb perfect like ...</td>\n",
       "      <td>0.7500</td>\n",
       "      <td>0.5750</td>\n",
       "    </tr>\n",
       "    <tr>\n",
       "      <th>171783</th>\n",
       "      <td>combinations</td>\n",
       "      <td>45760</td>\n",
       "      <td>ing lame because i bought ultra street fig...</td>\n",
       "      <td>3.0000</td>\n",
       "      <td>30.0000</td>\n",
       "      <td>English</td>\n",
       "      <td>lame bought ultra street fighter steam instead...</td>\n",
       "      <td>0.7500</td>\n",
       "      <td>-0.5000</td>\n",
       "    </tr>\n",
       "    <tr>\n",
       "      <th>258015</th>\n",
       "      <td>Varendus</td>\n",
       "      <td>373420</td>\n",
       "      <td>Great music  and RPG  Would Recommend   ...</td>\n",
       "      <td>NaN</td>\n",
       "      <td>144.9000</td>\n",
       "      <td>English</td>\n",
       "      <td>great music would recommend ripkirill</td>\n",
>>>>>>> 8fc0c4141e975876075e6bd418e426caf195b73e
       "      <td>0.7500</td>\n",
       "      <td>0.8000</td>\n",
       "    </tr>\n",
       "    <tr>\n",
<<<<<<< HEAD
       "      <th>260118</th>\n",
       "      <td>294759</td>\n",
       "      <td>GetthatForce!</td>\n",
       "      <td>257510</td>\n",
       "      <td>Great stuff   Get it</td>\n",
       "      <td>NaN</td>\n",
       "      <td>67.8000</td>\n",
       "      <td>English</td>\n",
       "      <td>great stuff</td>\n",
=======
       "      <th>171807</th>\n",
       "      <td>dbovy</td>\n",
       "      <td>481510</td>\n",
       "      <td>Incredable great characters</td>\n",
       "      <td>NaN</td>\n",
       "      <td>25.8000</td>\n",
       "      <td>English</td>\n",
       "      <td>incredable great characters</td>\n",
>>>>>>> 8fc0c4141e975876075e6bd418e426caf195b73e
       "      <td>0.7500</td>\n",
       "      <td>0.8000</td>\n",
       "    </tr>\n",
       "    <tr>\n",
<<<<<<< HEAD
       "      <th>240959</th>\n",
       "      <td>273054</td>\n",
       "      <td>u touch my horn i break ur face</td>\n",
       "      <td>234670</td>\n",
       "      <td>great graphics</td>\n",
       "      <td>NaN</td>\n",
       "      <td>43.1000</td>\n",
       "      <td>English</td>\n",
       "      <td>great graphics</td>\n",
       "      <td>0.7500</td>\n",
       "      <td>0.8000</td>\n",
       "    </tr>\n",
       "    <tr>\n",
       "      <th>203969</th>\n",
       "      <td>231708</td>\n",
       "      <td>ZyNkS</td>\n",
       "      <td>99900</td>\n",
       "      <td>Great</td>\n",
       "      <td>NaN</td>\n",
       "      <td>56.0000</td>\n",
       "      <td>English</td>\n",
       "      <td>great</td>\n",
=======
       "      <th>644383</th>\n",
       "      <td>One Sneaky Penguin</td>\n",
       "      <td>239140</td>\n",
       "      <td>Simply awesome  I wasnt ready for it to end</td>\n",
       "      <td>NaN</td>\n",
       "      <td>45.2000</td>\n",
       "      <td>English</td>\n",
       "      <td>simply awesome wasnt ready</td>\n",
       "      <td>0.7500</td>\n",
       "      <td>0.6000</td>\n",
       "    </tr>\n",
       "    <tr>\n",
       "      <th>330393</th>\n",
       "      <td>Aphlait</td>\n",
       "      <td>359550</td>\n",
       "      <td>Its a great tactical shooter and team shooter ...</td>\n",
       "      <td>1.0000</td>\n",
       "      <td>414.2000</td>\n",
       "      <td>English</td>\n",
       "      <td>great tactical shooter team shooter great</td>\n",
>>>>>>> 8fc0c4141e975876075e6bd418e426caf195b73e
       "      <td>0.7500</td>\n",
       "      <td>0.8000</td>\n",
       "    </tr>\n",
       "    <tr>\n",
<<<<<<< HEAD
       "      <th>505125</th>\n",
       "      <td>574264</td>\n",
       "      <td>Order for Same-Day Shipping</td>\n",
       "      <td>96100</td>\n",
       "      <td>As rage inducing as it looks  but a good kind ...</td>\n",
       "      <td>NaN</td>\n",
       "      <td>0.6000</td>\n",
       "      <td>English</td>\n",
       "      <td>rage inducing looks good kind rage</td>\n",
       "      <td>0.7500</td>\n",
       "      <td>0.6500</td>\n",
       "    </tr>\n",
       "    <tr>\n",
       "      <th>294050</th>\n",
       "      <td>333519</td>\n",
       "      <td>Morkon</td>\n",
       "      <td>333640</td>\n",
       "      <td>You Imbue the door with life  The Door says   ...</td>\n",
       "      <td>1.0000</td>\n",
       "      <td>176.3000</td>\n",
       "      <td>English</td>\n",
       "      <td>imbue door life door says door dies also fight...</td>\n",
       "      <td>0.7500</td>\n",
       "      <td>-0.4250</td>\n",
       "    </tr>\n",
       "    <tr>\n",
       "      <th>180786</th>\n",
       "      <td>205309</td>\n",
       "      <td>Ik Drinkt De Erg Goed Melk</td>\n",
       "      <td>334230</td>\n",
       "      <td>Great</td>\n",
       "      <td>NaN</td>\n",
       "      <td>19.3000</td>\n",
=======
       "      <th>335649</th>\n",
       "      <td>terribleperson</td>\n",
       "      <td>477730</td>\n",
       "      <td>Eador Imperium is weird and wonderful and stil...</td>\n",
       "      <td>NaN</td>\n",
       "      <td>361.5000</td>\n",
       "      <td>English</td>\n",
       "      <td>eador imperium weird wonderful still getting b...</td>\n",
       "      <td>0.7500</td>\n",
       "      <td>0.2031</td>\n",
       "    </tr>\n",
       "    <tr>\n",
       "      <th>18348</th>\n",
       "      <td>Skyes - I ban you with Overwatch</td>\n",
       "      <td>365300</td>\n",
       "      <td>Exellent graphics and total immersion  A  must...</td>\n",
       "      <td>1.0000</td>\n",
       "      <td>0.7000</td>\n",
       "      <td>English</td>\n",
       "      <td>exellent graphics total immersion must</td>\n",
       "      <td>0.7500</td>\n",
       "      <td>0.0000</td>\n",
       "    </tr>\n",
       "    <tr>\n",
       "      <th>239203</th>\n",
       "      <td>THG</td>\n",
       "      <td>377160</td>\n",
       "      <td>Great</td>\n",
       "      <td>NaN</td>\n",
       "      <td>103.5000</td>\n",
>>>>>>> 8fc0c4141e975876075e6bd418e426caf195b73e
       "      <td>English</td>\n",
       "      <td>great</td>\n",
       "      <td>0.7500</td>\n",
       "      <td>0.8000</td>\n",
       "    </tr>\n",
       "    <tr>\n",
<<<<<<< HEAD
       "      <th>666895</th>\n",
       "      <td>757986</td>\n",
       "      <td>AngelInTheHeaven</td>\n",
       "      <td>252490</td>\n",
       "      <td>i cant play rust because i open the steam wtf</td>\n",
       "      <td>NaN</td>\n",
       "      <td>450.8000</td>\n",
       "      <td>English</td>\n",
       "      <td>cant play rust open steam</td>\n",
       "      <td>0.7500</td>\n",
       "      <td>-0.2500</td>\n",
       "    </tr>\n",
       "    <tr>\n",
       "      <th>142746</th>\n",
       "      <td>162414</td>\n",
       "      <td>ThusSpokeZarathustra</td>\n",
       "      <td>409660</td>\n",
       "      <td>Made me an angry nerd  Mission Accomplished</td>\n",
       "      <td>4.0000</td>\n",
       "      <td>10.5000</td>\n",
       "      <td>English</td>\n",
       "      <td>made angry nerd mission accomplished</td>\n",
       "      <td>0.7500</td>\n",
       "      <td>-0.1500</td>\n",
       "    </tr>\n",
       "    <tr>\n",
       "      <th>53253</th>\n",
       "      <td>60792</td>\n",
       "      <td>thunderbolt3v</td>\n",
       "      <td>387990</td>\n",
       "      <td>Love the game   Perfect for the creative types...</td>\n",
       "      <td>NaN</td>\n",
       "      <td>4.6000</td>\n",
       "      <td>English</td>\n",
       "      <td>love game perfect creative types grew engrosse...</td>\n",
       "      <td>0.7500</td>\n",
       "      <td>0.4000</td>\n",
       "    </tr>\n",
       "    <tr>\n",
       "      <th>260141</th>\n",
       "      <td>294785</td>\n",
       "      <td>Mo</td>\n",
       "      <td>201810</td>\n",
       "      <td>Great singleplayer shooter</td>\n",
       "      <td>NaN</td>\n",
       "      <td>9.8000</td>\n",
       "      <td>English</td>\n",
       "      <td>great singleplayer shooter</td>\n",
=======
       "      <th>400260</th>\n",
       "      <td>Jrex</td>\n",
       "      <td>394360</td>\n",
       "      <td>HOI  in a nutshell  X beats Y if A leaves B al...</td>\n",
       "      <td>NaN</td>\n",
       "      <td>129.9000</td>\n",
       "      <td>English</td>\n",
       "      <td>nutshell beats leaves alone watch mention plan...</td>\n",
       "      <td>0.7500</td>\n",
       "      <td>0.0000</td>\n",
       "    </tr>\n",
       "    <tr>\n",
       "      <th>777506</th>\n",
       "      <td>Gunter TK</td>\n",
       "      <td>252490</td>\n",
       "      <td>Amazing even for a beta  love the graphics and...</td>\n",
       "      <td>NaN</td>\n",
       "      <td>72.5000</td>\n",
       "      <td>English</td>\n",
       "      <td>amazing even beta love graphics people</td>\n",
       "      <td>0.7500</td>\n",
       "      <td>0.5500</td>\n",
       "    </tr>\n",
       "    <tr>\n",
       "      <th>714890</th>\n",
       "      <td>Mr.SC</td>\n",
       "      <td>225540</td>\n",
       "      <td>BOOM BOOM BOOM      and BOOM     AND the beaut...</td>\n",
       "      <td>NaN</td>\n",
       "      <td>8.6000</td>\n",
       "      <td>English</td>\n",
       "      <td>boom boom boom boom beautiful scenery feel bor...</td>\n",
       "      <td>0.7500</td>\n",
       "      <td>0.1625</td>\n",
       "    </tr>\n",
       "    <tr>\n",
       "      <th>106335</th>\n",
       "      <td>Blyatman</td>\n",
       "      <td>20920</td>\n",
       "      <td>Great story driven rpg  lack of side quests th...</td>\n",
       "      <td>NaN</td>\n",
       "      <td>38.9000</td>\n",
       "      <td>English</td>\n",
       "      <td>great story driven lack side quests</td>\n",
>>>>>>> 8fc0c4141e975876075e6bd418e426caf195b73e
       "      <td>0.7500</td>\n",
       "      <td>0.8000</td>\n",
       "    </tr>\n",
       "    <tr>\n",
<<<<<<< HEAD
       "      <th>195971</th>\n",
       "      <td>222384</td>\n",
       "      <td>Captain Manspooge Warwhistle</td>\n",
       "      <td>211820</td>\n",
       "      <td>Great story Mark  D</td>\n",
       "      <td>NaN</td>\n",
       "      <td>33.5000</td>\n",
       "      <td>English</td>\n",
       "      <td>great story mark</td>\n",
=======
       "      <th>279</th>\n",
       "      <td>Drauchenfyre</td>\n",
       "      <td>35140</td>\n",
       "      <td>Finally  a superhero videogame that lives up t...</td>\n",
       "      <td>NaN</td>\n",
       "      <td>11.1000</td>\n",
       "      <td>English</td>\n",
       "      <td>finally superhero videogame lives hype keep co...</td>\n",
       "      <td>0.7500</td>\n",
       "      <td>0.2500</td>\n",
       "    </tr>\n",
       "    <tr>\n",
       "      <th>116177</th>\n",
       "      <td>gabrielwinck</td>\n",
       "      <td>281990</td>\n",
       "      <td>Space is great again</td>\n",
       "      <td>2.0000</td>\n",
       "      <td>65.6000</td>\n",
       "      <td>English</td>\n",
       "      <td>space great</td>\n",
>>>>>>> 8fc0c4141e975876075e6bd418e426caf195b73e
       "      <td>0.7500</td>\n",
       "      <td>0.8000</td>\n",
       "    </tr>\n",
       "    <tr>\n",
<<<<<<< HEAD
       "      <th>210841</th>\n",
       "      <td>239484</td>\n",
       "      <td>Dave</td>\n",
       "      <td>505040</td>\n",
       "      <td>you literally need rust to enjoy this software...</td>\n",
       "      <td>NaN</td>\n",
       "      <td>2.6000</td>\n",
       "      <td>English</td>\n",
       "      <td>literally need rust enjoy software designed bu...</td>\n",
       "      <td>0.7500</td>\n",
       "      <td>-0.2000</td>\n",
       "    </tr>\n",
       "    <tr>\n",
       "      <th>51854</th>\n",
       "      <td>59210</td>\n",
       "      <td>old man jenkins</td>\n",
       "      <td>2400</td>\n",
       "      <td>get on a boat and kill rich people  basically ...</td>\n",
       "      <td>NaN</td>\n",
       "      <td>28.4000</td>\n",
       "      <td>English</td>\n",
       "      <td>boat kill rich people basically somalian pirat...</td>\n",
       "      <td>0.7500</td>\n",
       "      <td>0.3750</td>\n",
       "    </tr>\n",
       "    <tr>\n",
       "      <th>358080</th>\n",
       "      <td>409012</td>\n",
       "      <td>Cyka Man</td>\n",
       "      <td>408740</td>\n",
       "      <td>Its a great idea  but its just not ready  This...</td>\n",
       "      <td>NaN</td>\n",
       "      <td>1.4000</td>\n",
       "      <td>English</td>\n",
       "      <td>great idea ready needs alot work gets boring</td>\n",
       "      <td>0.7500</td>\n",
       "      <td>-0.1000</td>\n",
       "    </tr>\n",
       "    <tr>\n",
       "      <th>315874</th>\n",
       "      <td>357844</td>\n",
       "      <td>Schwifty Rick</td>\n",
       "      <td>208580</td>\n",
       "      <td>The gameplay is great  and so is the story line</td>\n",
       "      <td>NaN</td>\n",
       "      <td>59.6000</td>\n",
       "      <td>English</td>\n",
       "      <td>gameplay great story line</td>\n",
=======
       "      <th>625005</th>\n",
       "      <td>stoney</td>\n",
       "      <td>206420</td>\n",
       "      <td>Would rate      because of stupid glitches and...</td>\n",
       "      <td>NaN</td>\n",
       "      <td>11.3000</td>\n",
       "      <td>English</td>\n",
       "      <td>would rate stupid glitches many side quests pe...</td>\n",
       "      <td>0.7500</td>\n",
       "      <td>-0.1500</td>\n",
       "    </tr>\n",
       "    <tr>\n",
       "      <th>488273</th>\n",
       "      <td>Mai Waifu</td>\n",
       "      <td>316600</td>\n",
       "      <td>Great  challenging bullet hell  would definite...</td>\n",
       "      <td>NaN</td>\n",
       "      <td>2.4000</td>\n",
       "      <td>English</td>\n",
       "      <td>great challenging bullet hell would definitely...</td>\n",
       "      <td>0.7500</td>\n",
       "      <td>0.4333</td>\n",
       "    </tr>\n",
       "    <tr>\n",
       "      <th>525441</th>\n",
       "      <td>Yahz</td>\n",
       "      <td>346110</td>\n",
       "      <td>refunded terrible optimization ignoring the co...</td>\n",
       "      <td>NaN</td>\n",
       "      <td>0.6000</td>\n",
       "      <td>English</td>\n",
       "      <td>refunded terrible optimization ignoring commun...</td>\n",
       "      <td>0.7500</td>\n",
       "      <td>-0.2500</td>\n",
       "    </tr>\n",
       "    <tr>\n",
       "      <th>715062</th>\n",
       "      <td>Hey it's Ramza</td>\n",
       "      <td>386360</td>\n",
       "      <td>Great Moba  Great F P system  Gold star</td>\n",
       "      <td>1.0000</td>\n",
       "      <td>331.6000</td>\n",
       "      <td>English</td>\n",
       "      <td>great moba great system gold star</td>\n",
>>>>>>> 8fc0c4141e975876075e6bd418e426caf195b73e
       "      <td>0.7500</td>\n",
       "      <td>0.8000</td>\n",
       "    </tr>\n",
       "    <tr>\n",
<<<<<<< HEAD
       "      <th>53040</th>\n",
       "      <td>60555</td>\n",
       "      <td>D. Mouse</td>\n",
       "      <td>338170</td>\n",
       "      <td>Absolute gem  Fast  pure gameplay  Very funny ...</td>\n",
       "      <td>NaN</td>\n",
       "      <td>16.5000</td>\n",
       "      <td>English</td>\n",
       "      <td>absolute fast pure gameplay funny friends</td>\n",
       "      <td>0.7500</td>\n",
       "      <td>0.2348</td>\n",
       "    </tr>\n",
       "    <tr>\n",
       "      <th>424448</th>\n",
       "      <td>483683</td>\n",
       "      <td>MAGG!Fr4sh</td>\n",
       "      <td>40970</td>\n",
       "      <td>If you love strategy games this will be the pe...</td>\n",
       "      <td>NaN</td>\n",
       "      <td>123.9000</td>\n",
       "      <td>English</td>\n",
       "      <td>love strategy games perfect game opportunity b...</td>\n",
       "      <td>0.7500</td>\n",
       "      <td>0.4250</td>\n",
       "    </tr>\n",
       "    <tr>\n",
       "      <th>545642</th>\n",
       "      <td>619651</td>\n",
       "      <td>Carlos Danger</td>\n",
       "      <td>26800</td>\n",
       "      <td>Nuclear warfare has never been more adorable</td>\n",
       "      <td>NaN</td>\n",
       "      <td>NaN</td>\n",
       "      <td>English</td>\n",
       "      <td>nuclear warfare never adorable</td>\n",
       "      <td>0.7500</td>\n",
       "      <td>0.5000</td>\n",
       "    </tr>\n",
       "    <tr>\n",
       "      <th>8900</th>\n",
       "      <td>10304</td>\n",
       "      <td>John Paul Patton</td>\n",
       "      <td>271590</td>\n",
       "      <td>despite of loading simulator  it still great f...</td>\n",
       "      <td>NaN</td>\n",
       "      <td>76.3000</td>\n",
       "      <td>English</td>\n",
       "      <td>despite loading simulator still great story</td>\n",
       "      <td>0.7500</td>\n",
       "      <td>0.8000</td>\n",
       "    </tr>\n",
       "  </tbody>\n",
       "</table>\n",
       "</div>"
      ],
      "text/plain": [
       "         index                          username  product_id  \\\n",
       "405255  461728                      Comrade Bear       70000   \n",
       "589424  669003                         Americelt      269290   \n",
       "293786  333230                   ѼKurashikkurioѼ      238460   \n",
       "506783  576094                        RubberHide      442080   \n",
       "627015  711610                            Canget       49520   \n",
       "99137   112836                         Galilaios       39140   \n",
       "260119  294760                        Lostmind76        8980   \n",
       "379834  433319     Tophatphil (twitch.tv/toefat)      322500   \n",
       "247921  280887                        Xenon (Xe)      244870   \n",
       "647822  735885                         uplasenko      518030   \n",
       "318331  360675                         Zealot780      254200   \n",
       "376157  429182                             Szabe      348450   \n",
       "28187    32483                         assiprinz      244930   \n",
       "464689  529366                               123      346110   \n",
       "144820  164704                          Aurulien      237850   \n",
       "641420  728358                          Gryndhol        9500   \n",
       "640361  727111                           Gordikk       71250   \n",
       "496217  564383                        Guybrush T      221910   \n",
       "139151  158522                               ryN      319630   \n",
       "202111  229578                   Adam Hates Life      262060   \n",
       "626111  710613             vincent the manmelter      225540   \n",
       "57970    66076                    Edgy The Clown       17570   \n",
       "621237  705124   aaaaaaaaaaaaaaaaaaaaaaaaaaaaaah      362890   \n",
       "121464  138237  Jenicorth The Apocalypse of ANUS      104900   \n",
       "548413  622770                          NetQvist      219990   \n",
       "474667  540549           That's my Kind of Night      251170   \n",
       "265397  300858                  Spooky Skeletons      201810   \n",
       "260816  295571               Zak Has A Shitty PC      431960   \n",
       "262903  297995                         FluffyRug      270550   \n",
       "507724  577152                          Fabulous      292120   \n",
       "643686  731017                      Thundersauce       50300   \n",
       "260118  294759                     GetthatForce!      257510   \n",
       "240959  273054   u touch my horn i break ur face      234670   \n",
       "203969  231708                             ZyNkS       99900   \n",
       "505125  574264       Order for Same-Day Shipping       96100   \n",
       "294050  333519                            Morkon      333640   \n",
       "180786  205309        Ik Drinkt De Erg Goed Melk      334230   \n",
       "666895  757986                  AngelInTheHeaven      252490   \n",
       "142746  162414              ThusSpokeZarathustra      409660   \n",
       "53253    60792                     thunderbolt3v      387990   \n",
       "260141  294785                                Mo      201810   \n",
       "195971  222384      Captain Manspooge Warwhistle      211820   \n",
       "210841  239484                              Dave      505040   \n",
       "51854    59210                   old man jenkins        2400   \n",
       "358080  409012                          Cyka Man      408740   \n",
       "315874  357844                     Schwifty Rick      208580   \n",
       "53040    60555                          D. Mouse      338170   \n",
       "424448  483683                        MAGG!Fr4sh       40970   \n",
       "545642  619651                     Carlos Danger       26800   \n",
       "8900     10304                  John Paul Patton      271590   \n",
       "\n",
       "                                                     text  found_funny  \\\n",
       "405255  It s Day of Defeat with dinosaurs  but that s ...          NaN   \n",
       "589424  Works great with all of my games  No ads or wa...          NaN   \n",
       "293786  Grab a friend and Hammer through the most hear...          NaN   \n",
       "506783                                         its great           NaN   \n",
       "627015                         Great times been here               NaN   \n",
       "99137                       One of the most beloved Jrpgs          NaN   \n",
       "260119  A great looting and killing spree with humor a...          NaN   \n",
       "379834   It s the most innovative shooter I ve played ...          NaN   \n",
       "247921  Difficult AF and challenging  but a good rage ...          NaN   \n",
       "647822  Nice for practicing aim  but PLEASE add invert...          NaN   \n",
       "318331               an upgrade from the original on xbox          NaN   \n",
       "376157                These asset store models are great        1.0000   \n",
       "28187                   would totally microtransact again          NaN   \n",
       "464689                                     once was great       1.0000   \n",
       "144820  A must play for any TLJ series fan  Great stor...          NaN   \n",
       "641420    One of the most important parts of my childhood          NaN   \n",
       "640361        storyline wasn t complicated enough   Co...       7.0000   \n",
       "496217                                        great stuff          NaN   \n",
       "139151   With great power comes great        t       n...       1.0000   \n",
       "202111                        Get it  It s     ing great        4.0000   \n",
       "626111                                      It were great          NaN   \n",
       "57970                      Great for furry roleplay                NaN   \n",
       "621237  YOU CAN T DRINK THE SODA TO REGAIN   HELTH LIK...      15.0000   \n",
       "121464                                             Great           NaN   \n",
       "548413                                              Great          NaN   \n",
       "474667                 Great for mind games with friends           NaN   \n",
       "265397  Great shooting  great voice work  great gamepl...          NaN   \n",
       "260816  great for having hentai or anime as your backg...          NaN   \n",
       "262903  hey nice game you got going good to play with ...          NaN   \n",
       "507724  Could be much worse I guess  Wait for a sale u...          NaN   \n",
       "643686                                  Great story line           NaN   \n",
       "260118                              Great stuff   Get it           NaN   \n",
       "240959                                     great graphics          NaN   \n",
       "203969                                         Great               NaN   \n",
       "505125  As rage inducing as it looks  but a good kind ...          NaN   \n",
       "294050  You Imbue the door with life  The Door says   ...       1.0000   \n",
       "180786                      Great                                  NaN   \n",
       "666895     i cant play rust because i open the steam wtf           NaN   \n",
       "142746       Made me an angry nerd  Mission Accomplished        4.0000   \n",
       "53253   Love the game   Perfect for the creative types...          NaN   \n",
       "260141                         Great singleplayer shooter          NaN   \n",
       "195971                                Great story Mark  D          NaN   \n",
       "210841  you literally need rust to enjoy this software...          NaN   \n",
       "51854   get on a boat and kill rich people  basically ...          NaN   \n",
       "358080  Its a great idea  but its just not ready  This...          NaN   \n",
       "315874   The gameplay is great  and so is the story line           NaN   \n",
       "53040   Absolute gem  Fast  pure gameplay  Very funny ...          NaN   \n",
       "424448  If you love strategy games this will be the pe...          NaN   \n",
       "545642       Nuclear warfare has never been more adorable          NaN   \n",
       "8900    despite of loading simulator  it still great f...          NaN   \n",
       "\n",
       "          hours     lang                                       cleaned_text  \\\n",
       "405255   5.9000  English                       defeat dinosaurs makes great   \n",
       "589424   8.7000  English  works great games watermarks even works steam ...   \n",
       "293786  11.1000  English  grab friend hammer heart warming horrible stor...   \n",
       "506783   9.8000  English                                              great   \n",
       "627015  31.6000  English                                        great times   \n",
       "99137    1.6000  English                                      beloved jrpgs   \n",
       "260119  50.5000  English    great looting killing spree humor great weapons   \n",
       "379834   3.3000  English                    innovative shooter played years   \n",
       "247921   0.7000  English               difficult challenging good rage game   \n",
       "647822  10.0000  English  nice practicing please invert mouse option mus...   \n",
       "318331   5.0000  English                              upgrade original xbox   \n",
       "376157   0.7000  English                           asset store models great   \n",
       "28187    4.9000  English                        would totally microtransact   \n",
       "464689 734.5000  English                                              great   \n",
       "144820  43.1000  English  must play series great story characters dialog...   \n",
       "641420  28.1000  English                          important parts childhood   \n",
       "640361  34.4000  English  storyline complicated enough could used time t...   \n",
       "496217  10.6000  English                                        great stuff   \n",
       "139151   7.2000  English                      great power comes great emoji   \n",
       "202111 102.8000  English                                              great   \n",
       "626111  60.4000  English                                              great   \n",
       "57970   42.8000  English                               great furry roleplay   \n",
       "621237  13.6000  English              drink soda regain helth like original   \n",
       "121464   8.1000  English                                              great   \n",
       "548413 194.1000  English                                              great   \n",
       "474667  21.0000  English                           great mind games friends   \n",
       "265397  28.6000  English  great shooting great voice work great gameplay...   \n",
       "260816 184.9000  English                      great hentai anime background   \n",
       "262903  10.0000  English  nice game going good play frends sandbox mode ...   \n",
       "507724  18.1000  English  could much worse guess wait sale unless absolu...   \n",
       "643686  20.8000  English                                   great story line   \n",
       "260118  67.8000  English                                        great stuff   \n",
       "240959  43.1000  English                                     great graphics   \n",
       "203969  56.0000  English                                              great   \n",
       "505125   0.6000  English                 rage inducing looks good kind rage   \n",
       "294050 176.3000  English  imbue door life door says door dies also fight...   \n",
       "180786  19.3000  English                                              great   \n",
       "666895 450.8000  English                          cant play rust open steam   \n",
       "142746  10.5000  English               made angry nerd mission accomplished   \n",
       "53253    4.6000  English  love game perfect creative types grew engrosse...   \n",
       "260141   9.8000  English                         great singleplayer shooter   \n",
       "195971  33.5000  English                                   great story mark   \n",
       "210841   2.6000  English  literally need rust enjoy software designed bu...   \n",
       "51854   28.4000  English  boat kill rich people basically somalian pirat...   \n",
       "358080   1.4000  English       great idea ready needs alot work gets boring   \n",
       "315874  59.6000  English                          gameplay great story line   \n",
       "53040   16.5000  English          absolute fast pure gameplay funny friends   \n",
       "424448 123.9000  English  love strategy games perfect game opportunity b...   \n",
       "545642      NaN  English                     nuclear warfare never adorable   \n",
       "8900    76.3000  English        despite loading simulator still great story   \n",
       "\n",
       "         subj    pola  \n",
       "405255 0.7500  0.8000  \n",
       "589424 0.7500  0.8000  \n",
       "293786 0.7500 -0.2500  \n",
       "506783 0.7500  0.8000  \n",
       "627015 0.7500  0.8000  \n",
       "99137  0.7500  0.6000  \n",
       "260119 0.7500  0.8000  \n",
       "379834 0.7500  0.5000  \n",
       "247921 0.7500  0.0750  \n",
       "647822 0.7500  0.5500  \n",
       "318331 0.7500  0.3750  \n",
       "376157 0.7500  0.8000  \n",
       "28187  0.7500  0.0000  \n",
       "464689 0.7500  0.8000  \n",
       "144820 0.7500  0.8000  \n",
       "641420 0.7500  0.4500  \n",
       "640361 0.7500 -0.2500  \n",
       "496217 0.7500  0.8000  \n",
       "139151 0.7500  0.8000  \n",
       "202111 0.7500  0.8000  \n",
       "626111 0.7500  0.8000  \n",
       "57970  0.7500  0.8000  \n",
       "621237 0.7500  0.3750  \n",
       "121464 0.7500  0.8000  \n",
       "548413 0.7500  0.8000  \n",
       "474667 0.7500  0.8000  \n",
       "265397 0.7500  0.8000  \n",
       "260816 0.7500  0.8000  \n",
       "262903 0.7500  0.2250  \n",
       "507724 0.7500 -0.1000  \n",
       "643686 0.7500  0.8000  \n",
       "260118 0.7500  0.8000  \n",
       "240959 0.7500  0.8000  \n",
       "203969 0.7500  0.8000  \n",
       "505125 0.7500  0.6500  \n",
       "294050 0.7500 -0.4250  \n",
       "180786 0.7500  0.8000  \n",
       "666895 0.7500 -0.2500  \n",
       "142746 0.7500 -0.1500  \n",
       "53253  0.7500  0.4000  \n",
       "260141 0.7500  0.8000  \n",
       "195971 0.7500  0.8000  \n",
       "210841 0.7500 -0.2000  \n",
       "51854  0.7500  0.3750  \n",
       "358080 0.7500 -0.1000  \n",
       "315874 0.7500  0.8000  \n",
       "53040  0.7500  0.2348  \n",
       "424448 0.7500  0.4250  \n",
       "545642 0.7500  0.5000  \n",
       "8900   0.7500  0.8000  "
      ]
     },
     "execution_count": 41,
     "metadata": {},
     "output_type": "execute_result"
    },
    {
     "name": "stdout",
     "output_type": "stream",
     "text": [
      "time: 500 ms (started: 2021-09-07 19:59:30 -03:00)\n"
     ]
    }
   ],
   "source": [
    "df2_reviews.sort_values(by='subj').iloc[650000:650050]"
   ]
  },
  {
   "cell_type": "code",
   "execution_count": 42,
   "metadata": {},
   "outputs": [
    {
     "name": "stdout",
     "output_type": "stream",
     "text": [
      "time: 94 ms (started: 2021-09-07 19:59:30 -03:00)\n"
     ]
    }
   ],
   "source": [
    "df2_reviews.drop('index', axis=1, inplace=True)"
   ]
  },
  {
   "cell_type": "code",
   "execution_count": 77,
   "metadata": {},
   "outputs": [
    {
     "name": "stderr",
     "output_type": "stream",
     "text": [
      "C:\\Users\\elmai\\.conda\\envs\\datascience\\lib\\site-packages\\seaborn\\_decorators.py:36: FutureWarning: Pass the following variables as keyword args: x, y. From version 0.12, the only valid positional argument will be `data`, and passing other arguments without an explicit keyword will result in an error or misinterpretation.\n",
      "  warnings.warn(\n"
     ]
    },
    {
     "data": {
      "text/plain": [
       "<Figure size 1440x864 with 0 Axes>"
      ]
     },
     "metadata": {},
     "output_type": "display_data"
    },
    {
     "data": {
      "image/png": "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\n",
      "text/plain": [
       "<Figure size 432x432 with 4 Axes>"
      ]
     },
     "metadata": {},
     "output_type": "display_data"
    },
    {
     "name": "stdout",
     "output_type": "stream",
     "text": [
      "time: 5.66 s (started: 2021-09-07 20:22:14 -03:00)\n"
     ]
    }
   ],
   "source": [
    "# Graficamos para ver la distribución de las variables calculadas.\n",
    "\n",
    "x = df2_reviews.subj[::100]\n",
    "y = df2_reviews.pola[::100]\n",
    "\n",
    "plt.figure(figsize=(20,12))\n",
    "kdeplot = sns.jointplot(x, y, kind=\"kde\", cbar=True, cmap=\"Blues\", fill=True)\n",
    "\n",
    "plt.subplots_adjust(left=0.1, right=1, top=1, bottom=0.1)\n",
    "\n",
    "pos_joint_ax = kdeplot.ax_joint.get_position()\n",
    "pos_marg_x_ax = kdeplot.ax_marg_x.get_position()\n",
    "kdeplot.ax_joint.set_position([pos_joint_ax.x0, pos_joint_ax.y0, pos_marg_x_ax.width,\n",
    "                               pos_joint_ax.height])\n",
    "kdeplot.fig.axes[-1].set_position([1.05, pos_joint_ax.y0, .07, pos_joint_ax.height])\n",
    "\n",
    "# get the current colorbar ticks\n",
    "cbar_ticks = kdeplot.fig.axes[-1].get_yticks()\n",
    "# get the maximum value of the colorbar\n",
    "_, cbar_max = kdeplot.fig.axes[-1].get_ylim()\n",
    "# change the labels (not the ticks themselves) to a percentage\n",
    "kdeplot.fig.axes[-1].set_yticklabels([f'{t / cbar_max * 100:.0f} %' for t in cbar_ticks])\n",
    "\n",
    "kdeplot.fig.axes[0].set_xlabel(\"Subjectividad\")\n",
    "kdeplot.fig.axes[0].set_ylabel(\"Polaridad\")\n",
    "\n",
    "plt.show()"
   ]
  },
  {
   "cell_type": "code",
   "execution_count": 78,
   "metadata": {},
   "outputs": [
    {
     "data": {
      "text/plain": [
       "username             0\n",
       "product_id           0\n",
       "text                 0\n",
       "found_funny     579033\n",
       "hours             2277\n",
       "lang                 0\n",
       "cleaned_text      3122\n",
       "subj                 0\n",
       "pola                 0\n",
       "dtype: int64"
      ]
     },
     "execution_count": 78,
     "metadata": {},
     "output_type": "execute_result"
    },
    {
     "name": "stdout",
     "output_type": "stream",
     "text": [
      "time: 375 ms (started: 2021-09-07 20:22:44 -03:00)\n"
     ]
    }
   ],
   "source": [
    "df2_reviews.dropna(axis=0, subset=['username'], inplace=True)\n",
    "df2_reviews.isna().sum()"
   ]
  },
  {
   "cell_type": "code",
   "execution_count": 79,
   "metadata": {},
   "outputs": [
    {
     "data": {
      "text/html": [
       "<div>\n",
       "<style scoped>\n",
       "    .dataframe tbody tr th:only-of-type {\n",
       "        vertical-align: middle;\n",
       "    }\n",
       "\n",
       "    .dataframe tbody tr th {\n",
       "        vertical-align: top;\n",
       "    }\n",
       "\n",
       "    .dataframe thead th {\n",
       "        text-align: right;\n",
       "    }\n",
       "</style>\n",
       "<table border=\"1\" class=\"dataframe\">\n",
       "  <thead>\n",
       "    <tr style=\"text-align: right;\">\n",
       "      <th></th>\n",
       "      <th>username</th>\n",
       "      <th>count</th>\n",
       "    </tr>\n",
       "  </thead>\n",
       "  <tbody>\n",
       "    <tr>\n",
       "      <th>0</th>\n",
       "      <td>123</td>\n",
       "      <td>185</td>\n",
       "    </tr>\n",
       "    <tr>\n",
       "      <th>1</th>\n",
       "      <td>Alex</td>\n",
       "      <td>166</td>\n",
       "    </tr>\n",
       "    <tr>\n",
       "      <th>2</th>\n",
       "      <td>Chris</td>\n",
       "      <td>142</td>\n",
       "    </tr>\n",
       "    <tr>\n",
       "      <th>3</th>\n",
       "      <td>Nick</td>\n",
       "      <td>125</td>\n",
       "    </tr>\n",
       "    <tr>\n",
       "      <th>4</th>\n",
       "      <td>Matt</td>\n",
       "      <td>122</td>\n",
       "    </tr>\n",
       "  </tbody>\n",
       "</table>\n",
       "</div>"
      ],
      "text/plain": [
       "  username  count\n",
       "0      123    185\n",
       "1     Alex    166\n",
       "2    Chris    142\n",
       "3     Nick    125\n",
       "4     Matt    122"
      ]
     },
     "execution_count": 79,
     "metadata": {},
     "output_type": "execute_result"
    },
    {
     "name": "stdout",
     "output_type": "stream",
     "text": [
      "time: 1.55 s (started: 2021-09-07 20:22:54 -03:00)\n"
     ]
    }
   ],
   "source": [
    "reviews_count = df2_reviews.groupby('username').count().text.sort_values(ascending=False).reset_index().rename(columns={'text':'count'})\n",
    "reviews_count.head()"
   ]
  },
  {
   "cell_type": "code",
   "execution_count": 80,
   "metadata": {},
   "outputs": [
    {
     "name": "stderr",
     "output_type": "stream",
     "text": [
      "C:\\Users\\elmai\\.conda\\envs\\datascience\\lib\\site-packages\\matplotlib\\backends\\backend_agg.py:238: RuntimeWarning: Glyph 3640 missing from current font.\n",
      "  font.set_text(s, 0.0, flags=flags)\n",
      "C:\\Users\\elmai\\.conda\\envs\\datascience\\lib\\site-packages\\matplotlib\\backends\\backend_agg.py:238: RuntimeWarning: Glyph 12415 missing from current font.\n",
      "  font.set_text(s, 0.0, flags=flags)\n",
      "C:\\Users\\elmai\\.conda\\envs\\datascience\\lib\\site-packages\\matplotlib\\backends\\backend_agg.py:238: RuntimeWarning: Glyph 29238 missing from current font.\n",
      "  font.set_text(s, 0.0, flags=flags)\n",
      "C:\\Users\\elmai\\.conda\\envs\\datascience\\lib\\site-packages\\matplotlib\\backends\\backend_agg.py:238: RuntimeWarning: Glyph 9855 missing from current font.\n",
      "  font.set_text(s, 0.0, flags=flags)\n",
      "C:\\Users\\elmai\\.conda\\envs\\datascience\\lib\\site-packages\\matplotlib\\backends\\backend_agg.py:238: RuntimeWarning: Glyph 20039 missing from current font.\n",
      "  font.set_text(s, 0.0, flags=flags)\n",
      "C:\\Users\\elmai\\.conda\\envs\\datascience\\lib\\site-packages\\matplotlib\\backends\\backend_agg.py:238: RuntimeWarning: Glyph 20034 missing from current font.\n",
      "  font.set_text(s, 0.0, flags=flags)\n",
      "C:\\Users\\elmai\\.conda\\envs\\datascience\\lib\\site-packages\\matplotlib\\backends\\backend_agg.py:238: RuntimeWarning: Glyph 12562 missing from current font.\n",
      "  font.set_text(s, 0.0, flags=flags)\n",
      "C:\\Users\\elmai\\.conda\\envs\\datascience\\lib\\site-packages\\matplotlib\\backends\\backend_agg.py:238: RuntimeWarning: Glyph 23610 missing from current font.\n",
      "  font.set_text(s, 0.0, flags=flags)\n",
      "C:\\Users\\elmai\\.conda\\envs\\datascience\\lib\\site-packages\\matplotlib\\backends\\backend_agg.py:238: RuntimeWarning: Glyph 21314 missing from current font.\n",
      "  font.set_text(s, 0.0, flags=flags)\n",
      "C:\\Users\\elmai\\.conda\\envs\\datascience\\lib\\site-packages\\matplotlib\\backends\\backend_agg.py:238: RuntimeWarning: Glyph 21316 missing from current font.\n",
      "  font.set_text(s, 0.0, flags=flags)\n",
      "C:\\Users\\elmai\\.conda\\envs\\datascience\\lib\\site-packages\\matplotlib\\backends\\backend_agg.py:238: RuntimeWarning: Glyph 20008 missing from current font.\n",
      "  font.set_text(s, 0.0, flags=flags)\n",
      "C:\\Users\\elmai\\.conda\\envs\\datascience\\lib\\site-packages\\matplotlib\\backends\\backend_agg.py:238: RuntimeWarning: Glyph 21274 missing from current font.\n",
      "  font.set_text(s, 0.0, flags=flags)\n",
      "C:\\Users\\elmai\\.conda\\envs\\datascience\\lib\\site-packages\\matplotlib\\backends\\backend_agg.py:201: RuntimeWarning: Glyph 3640 missing from current font.\n",
      "  font.set_text(s, 0, flags=flags)\n",
      "C:\\Users\\elmai\\.conda\\envs\\datascience\\lib\\site-packages\\matplotlib\\backends\\backend_agg.py:201: RuntimeWarning: Glyph 12415 missing from current font.\n",
      "  font.set_text(s, 0, flags=flags)\n",
      "C:\\Users\\elmai\\.conda\\envs\\datascience\\lib\\site-packages\\matplotlib\\backends\\backend_agg.py:201: RuntimeWarning: Glyph 29238 missing from current font.\n",
      "  font.set_text(s, 0, flags=flags)\n",
      "C:\\Users\\elmai\\.conda\\envs\\datascience\\lib\\site-packages\\matplotlib\\backends\\backend_agg.py:201: RuntimeWarning: Glyph 9855 missing from current font.\n",
      "  font.set_text(s, 0, flags=flags)\n",
      "C:\\Users\\elmai\\.conda\\envs\\datascience\\lib\\site-packages\\matplotlib\\backends\\backend_agg.py:201: RuntimeWarning: Glyph 20039 missing from current font.\n",
      "  font.set_text(s, 0, flags=flags)\n",
      "C:\\Users\\elmai\\.conda\\envs\\datascience\\lib\\site-packages\\matplotlib\\backends\\backend_agg.py:201: RuntimeWarning: Glyph 20034 missing from current font.\n",
      "  font.set_text(s, 0, flags=flags)\n",
      "C:\\Users\\elmai\\.conda\\envs\\datascience\\lib\\site-packages\\matplotlib\\backends\\backend_agg.py:201: RuntimeWarning: Glyph 12562 missing from current font.\n",
      "  font.set_text(s, 0, flags=flags)\n",
      "C:\\Users\\elmai\\.conda\\envs\\datascience\\lib\\site-packages\\matplotlib\\backends\\backend_agg.py:201: RuntimeWarning: Glyph 23610 missing from current font.\n",
      "  font.set_text(s, 0, flags=flags)\n",
      "C:\\Users\\elmai\\.conda\\envs\\datascience\\lib\\site-packages\\matplotlib\\backends\\backend_agg.py:201: RuntimeWarning: Glyph 21314 missing from current font.\n",
      "  font.set_text(s, 0, flags=flags)\n",
      "C:\\Users\\elmai\\.conda\\envs\\datascience\\lib\\site-packages\\matplotlib\\backends\\backend_agg.py:201: RuntimeWarning: Glyph 21316 missing from current font.\n",
      "  font.set_text(s, 0, flags=flags)\n",
      "C:\\Users\\elmai\\.conda\\envs\\datascience\\lib\\site-packages\\matplotlib\\backends\\backend_agg.py:201: RuntimeWarning: Glyph 20008 missing from current font.\n",
      "  font.set_text(s, 0, flags=flags)\n",
      "C:\\Users\\elmai\\.conda\\envs\\datascience\\lib\\site-packages\\matplotlib\\backends\\backend_agg.py:201: RuntimeWarning: Glyph 21274 missing from current font.\n",
      "  font.set_text(s, 0, flags=flags)\n"
     ]
    },
    {
     "data": {
      "image/png": "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\n",
      "text/plain": [
       "<Figure size 2160x720 with 1 Axes>"
      ]
     },
     "metadata": {},
     "output_type": "display_data"
    },
    {
     "name": "stdout",
     "output_type": "stream",
     "text": [
      "time: 14.5 s (started: 2021-09-07 20:22:58 -03:00)\n"
     ]
    }
   ],
   "source": [
    "plt.figure(figsize=(30,10))\n",
    "g = sns.barplot(data=reviews_count[:200], x='username', y='count')\n",
    "plt.xticks(rotation=90)\n",
    "plt.show()"
   ]
  },
  {
   "cell_type": "code",
   "execution_count": 191,
   "metadata": {},
   "outputs": [
    {
     "name": "stdout",
     "output_type": "stream",
     "text": [
      "time: 9.2 s (started: 2021-09-07 22:55:25 -03:00)\n"
     ]
    }
   ],
   "source": [
    "df2_reviews['rating'] = df2_reviews.apply(lambda x: (x['pola'] + 1) * 5/2 , axis=1)"
   ]
  },
  {
   "cell_type": "code",
   "execution_count": 192,
   "metadata": {},
   "outputs": [
    {
     "data": {
      "text/html": [
       "<div>\n",
       "<style scoped>\n",
       "    .dataframe tbody tr th:only-of-type {\n",
       "        vertical-align: middle;\n",
       "    }\n",
       "\n",
       "    .dataframe tbody tr th {\n",
       "        vertical-align: top;\n",
       "    }\n",
       "\n",
       "    .dataframe thead th {\n",
       "        text-align: right;\n",
       "    }\n",
       "</style>\n",
       "<table border=\"1\" class=\"dataframe\">\n",
       "  <thead>\n",
       "    <tr style=\"text-align: right;\">\n",
       "      <th></th>\n",
       "      <th>username</th>\n",
       "      <th>product_id</th>\n",
       "      <th>text</th>\n",
       "      <th>found_funny</th>\n",
       "      <th>hours</th>\n",
       "      <th>lang</th>\n",
       "      <th>cleaned_text</th>\n",
       "      <th>subj</th>\n",
       "      <th>pola</th>\n",
       "      <th>rating</th>\n",
       "    </tr>\n",
       "  </thead>\n",
       "  <tbody>\n",
       "    <tr>\n",
       "      <th>0</th>\n",
       "      <td>Chaos Syren</td>\n",
       "      <td>725280</td>\n",
       "      <td>This would not be acceptable as an entertainme...</td>\n",
       "      <td>NaN</td>\n",
       "      <td>0.1000</td>\n",
       "      <td>English</td>\n",
       "      <td>would acceptable entertainment even back graph...</td>\n",
       "      <td>0.0000</td>\n",
       "      <td>0.0000</td>\n",
       "      <td>2.5000</td>\n",
       "    </tr>\n",
       "    <tr>\n",
       "      <th>1</th>\n",
       "      <td>Ariman1</td>\n",
       "      <td>328100</td>\n",
       "      <td>Addictive RPG   Works fine on linux though it ...</td>\n",
       "      <td>NaN</td>\n",
       "      <td>13.2000</td>\n",
       "      <td>English</td>\n",
       "      <td>addictive works fine linux though minor bugs r...</td>\n",
       "      <td>0.4250</td>\n",
       "      <td>0.0417</td>\n",
       "      <td>2.6042</td>\n",
       "    </tr>\n",
       "    <tr>\n",
       "      <th>2</th>\n",
       "      <td>The_Cpt_FROGGY</td>\n",
       "      <td>631920</td>\n",
       "      <td>Somewhere on Zibylon                     Zibyl...</td>\n",
       "      <td>NaN</td>\n",
       "      <td>7.8000</td>\n",
       "      <td>English</td>\n",
       "      <td>somewhere zibylon zibylon command centre read ...</td>\n",
       "      <td>0.5484</td>\n",
       "      <td>0.1652</td>\n",
       "      <td>2.9130</td>\n",
       "    </tr>\n",
       "    <tr>\n",
       "      <th>3</th>\n",
       "      <td>the_maker988</td>\n",
       "      <td>35140</td>\n",
       "      <td>This game was way to linear for me  and compar...</td>\n",
       "      <td>NaN</td>\n",
       "      <td>8.2000</td>\n",
       "      <td>English</td>\n",
       "      <td>game linear compared others good dollars winte...</td>\n",
       "      <td>0.3688</td>\n",
       "      <td>0.1187</td>\n",
       "      <td>2.7969</td>\n",
       "    </tr>\n",
       "    <tr>\n",
       "      <th>4</th>\n",
       "      <td>Szudof</td>\n",
       "      <td>288690</td>\n",
       "      <td>Pit   Hello  my name is dominik di...</td>\n",
       "      <td>3.0000</td>\n",
       "      <td>0.2000</td>\n",
       "      <td>English</td>\n",
       "      <td>hello name dominik review bought sudoku detekt...</td>\n",
       "      <td>0.5333</td>\n",
       "      <td>-0.1200</td>\n",
       "      <td>2.2000</td>\n",
       "    </tr>\n",
       "    <tr>\n",
       "      <th>...</th>\n",
       "      <td>...</td>\n",
       "      <td>...</td>\n",
       "      <td>...</td>\n",
       "      <td>...</td>\n",
       "      <td>...</td>\n",
       "      <td>...</td>\n",
       "      <td>...</td>\n",
       "      <td>...</td>\n",
       "      <td>...</td>\n",
       "      <td>...</td>\n",
       "    </tr>\n",
       "    <tr>\n",
       "      <th>685197</th>\n",
       "      <td>SepticFalcon</td>\n",
       "      <td>252490</td>\n",
       "      <td>A good laugh with friends  cannot wait till mo...</td>\n",
       "      <td>NaN</td>\n",
       "      <td>334.9000</td>\n",
       "      <td>English</td>\n",
       "      <td>good laugh friends cannot wait till added</td>\n",
       "      <td>0.4000</td>\n",
       "      <td>0.5000</td>\n",
       "      <td>3.7500</td>\n",
       "    </tr>\n",
       "    <tr>\n",
       "      <th>685198</th>\n",
       "      <td>Vidaar</td>\n",
       "      <td>252490</td>\n",
       "      <td>Summary  Rust is a survival game created by Fa...</td>\n",
       "      <td>NaN</td>\n",
       "      <td>783.5000</td>\n",
       "      <td>English</td>\n",
       "      <td>summary rust survival game created facepunch s...</td>\n",
       "      <td>0.5183</td>\n",
       "      <td>-0.2125</td>\n",
       "      <td>1.9688</td>\n",
       "    </tr>\n",
       "    <tr>\n",
       "      <th>685199</th>\n",
       "      <td>RancorZealot</td>\n",
       "      <td>252490</td>\n",
       "      <td>Should you buy RUST  Uh    YES  The BEST Survi...</td>\n",
       "      <td>NaN</td>\n",
       "      <td>203.5000</td>\n",
       "      <td>English</td>\n",
       "      <td>rust best survival sandbox game market playing...</td>\n",
       "      <td>0.4085</td>\n",
       "      <td>0.1573</td>\n",
       "      <td>2.8934</td>\n",
       "    </tr>\n",
       "    <tr>\n",
       "      <th>685200</th>\n",
       "      <td>Jerry</td>\n",
       "      <td>252490</td>\n",
       "      <td>Great game</td>\n",
       "      <td>NaN</td>\n",
       "      <td>139.8000</td>\n",
       "      <td>English</td>\n",
       "      <td>great game</td>\n",
       "      <td>0.5750</td>\n",
       "      <td>0.2000</td>\n",
       "      <td>3.0000</td>\n",
       "    </tr>\n",
       "    <tr>\n",
       "      <th>685201</th>\n",
       "      <td>Helk</td>\n",
       "      <td>252490</td>\n",
       "      <td>I love this game</td>\n",
       "      <td>36.0000</td>\n",
       "      <td>15375.0000</td>\n",
       "      <td>English</td>\n",
       "      <td>love game</td>\n",
       "      <td>0.5000</td>\n",
       "      <td>0.0500</td>\n",
       "      <td>2.6250</td>\n",
       "    </tr>\n",
       "  </tbody>\n",
       "</table>\n",
       "<p>685187 rows × 10 columns</p>\n",
       "</div>"
      ],
      "text/plain": [
       "              username  product_id  \\\n",
       "0          Chaos Syren      725280   \n",
       "1              Ariman1      328100   \n",
       "2       The_Cpt_FROGGY      631920   \n",
       "3         the_maker988       35140   \n",
       "4               Szudof      288690   \n",
       "...                ...         ...   \n",
       "685197    SepticFalcon      252490   \n",
       "685198          Vidaar      252490   \n",
       "685199    RancorZealot      252490   \n",
       "685200           Jerry      252490   \n",
       "685201            Helk      252490   \n",
       "\n",
       "                                                     text  found_funny  \\\n",
       "0       This would not be acceptable as an entertainme...          NaN   \n",
       "1       Addictive RPG   Works fine on linux though it ...          NaN   \n",
       "2       Somewhere on Zibylon                     Zibyl...          NaN   \n",
       "3       This game was way to linear for me  and compar...          NaN   \n",
       "4                   Pit   Hello  my name is dominik di...       3.0000   \n",
       "...                                                   ...          ...   \n",
       "685197  A good laugh with friends  cannot wait till mo...          NaN   \n",
       "685198  Summary  Rust is a survival game created by Fa...          NaN   \n",
       "685199  Should you buy RUST  Uh    YES  The BEST Survi...          NaN   \n",
       "685200                                        Great game           NaN   \n",
       "685201                                  I love this game       36.0000   \n",
       "\n",
       "            hours     lang                                       cleaned_text  \\\n",
       "0          0.1000  English  would acceptable entertainment even back graph...   \n",
       "1         13.2000  English  addictive works fine linux though minor bugs r...   \n",
       "2          7.8000  English  somewhere zibylon zibylon command centre read ...   \n",
       "3          8.2000  English  game linear compared others good dollars winte...   \n",
       "4          0.2000  English  hello name dominik review bought sudoku detekt...   \n",
       "...           ...      ...                                                ...   \n",
       "685197   334.9000  English          good laugh friends cannot wait till added   \n",
       "685198   783.5000  English  summary rust survival game created facepunch s...   \n",
       "685199   203.5000  English  rust best survival sandbox game market playing...   \n",
       "685200   139.8000  English                                         great game   \n",
       "685201 15375.0000  English                                          love game   \n",
       "\n",
       "         subj    pola  rating  \n",
       "0      0.0000  0.0000  2.5000  \n",
       "1      0.4250  0.0417  2.6042  \n",
       "2      0.5484  0.1652  2.9130  \n",
       "3      0.3688  0.1187  2.7969  \n",
       "4      0.5333 -0.1200  2.2000  \n",
       "...       ...     ...     ...  \n",
       "685197 0.4000  0.5000  3.7500  \n",
       "685198 0.5183 -0.2125  1.9688  \n",
       "685199 0.4085  0.1573  2.8934  \n",
       "685200 0.5750  0.2000  3.0000  \n",
       "685201 0.5000  0.0500  2.6250  \n",
       "\n",
       "[685187 rows x 10 columns]"
      ]
     },
     "execution_count": 192,
     "metadata": {},
     "output_type": "execute_result"
    },
    {
     "name": "stdout",
     "output_type": "stream",
     "text": [
      "time: 15 ms (started: 2021-09-07 22:55:34 -03:00)\n"
     ]
    }
   ],
   "source": [
    "df2_reviews"
   ]
  },
  {
   "cell_type": "code",
   "execution_count": 193,
   "metadata": {},
   "outputs": [
    {
     "data": {
      "text/html": [
       "<div>\n",
       "<style scoped>\n",
       "    .dataframe tbody tr th:only-of-type {\n",
       "        vertical-align: middle;\n",
       "    }\n",
       "\n",
       "    .dataframe tbody tr th {\n",
       "        vertical-align: top;\n",
       "    }\n",
       "\n",
       "    .dataframe thead th {\n",
       "        text-align: right;\n",
       "    }\n",
       "</style>\n",
       "<table border=\"1\" class=\"dataframe\">\n",
       "  <thead>\n",
       "    <tr style=\"text-align: right;\">\n",
       "      <th></th>\n",
       "      <th>product_id</th>\n",
       "      <th>count</th>\n",
       "      <th>mean</th>\n",
       "    </tr>\n",
       "  </thead>\n",
       "  <tbody>\n",
       "    <tr>\n",
       "      <th>0</th>\n",
       "      <td>422030</td>\n",
       "      <td>1</td>\n",
       "      <td>5.0000</td>\n",
       "    </tr>\n",
       "    <tr>\n",
       "      <th>1</th>\n",
       "      <td>608470</td>\n",
       "      <td>1</td>\n",
       "      <td>5.0000</td>\n",
       "    </tr>\n",
       "    <tr>\n",
       "      <th>2</th>\n",
       "      <td>413460</td>\n",
       "      <td>1</td>\n",
       "      <td>5.0000</td>\n",
       "    </tr>\n",
       "    <tr>\n",
       "      <th>3</th>\n",
       "      <td>323000</td>\n",
       "      <td>1</td>\n",
       "      <td>5.0000</td>\n",
       "    </tr>\n",
       "    <tr>\n",
       "      <th>4</th>\n",
       "      <td>413910</td>\n",
       "      <td>1</td>\n",
       "      <td>5.0000</td>\n",
       "    </tr>\n",
       "    <tr>\n",
       "      <th>...</th>\n",
       "      <td>...</td>\n",
       "      <td>...</td>\n",
       "      <td>...</td>\n",
       "    </tr>\n",
       "    <tr>\n",
       "      <th>12491</th>\n",
       "      <td>410540</td>\n",
       "      <td>1</td>\n",
       "      <td>0.5000</td>\n",
       "    </tr>\n",
       "    <tr>\n",
       "      <th>12492</th>\n",
       "      <td>659460</td>\n",
       "      <td>1</td>\n",
       "      <td>0.0000</td>\n",
       "    </tr>\n",
       "    <tr>\n",
       "      <th>12493</th>\n",
       "      <td>698320</td>\n",
       "      <td>1</td>\n",
       "      <td>0.0000</td>\n",
       "    </tr>\n",
       "    <tr>\n",
       "      <th>12494</th>\n",
       "      <td>737870</td>\n",
       "      <td>1</td>\n",
       "      <td>0.0000</td>\n",
       "    </tr>\n",
       "    <tr>\n",
       "      <th>12495</th>\n",
       "      <td>400360</td>\n",
       "      <td>1</td>\n",
       "      <td>0.0000</td>\n",
       "    </tr>\n",
       "  </tbody>\n",
       "</table>\n",
       "<p>12496 rows × 3 columns</p>\n",
       "</div>"
      ],
      "text/plain": [
       "       product_id  count   mean\n",
       "0          422030      1 5.0000\n",
       "1          608470      1 5.0000\n",
       "2          413460      1 5.0000\n",
       "3          323000      1 5.0000\n",
       "4          413910      1 5.0000\n",
       "...           ...    ...    ...\n",
       "12491      410540      1 0.5000\n",
       "12492      659460      1 0.0000\n",
       "12493      698320      1 0.0000\n",
       "12494      737870      1 0.0000\n",
       "12495      400360      1 0.0000\n",
       "\n",
       "[12496 rows x 3 columns]"
      ]
     },
     "execution_count": 193,
     "metadata": {},
     "output_type": "execute_result"
    },
    {
     "name": "stdout",
     "output_type": "stream",
     "text": [
      "time: 63 ms (started: 2021-09-07 22:55:34 -03:00)\n"
     ]
    }
   ],
   "source": [
    "df_ratings = df2_reviews.groupby('product_id').agg({'rating':['count','mean']}).reset_index()\n",
    "df_ratings.columns = ['product_id', 'count', 'mean']\n",
    "df_ratings.sort_values(by='mean', ascending=False, inplace=True)\n",
    "df_ratings.reset_index(inplace=True, drop=True)\n",
    "df_ratings"
   ]
  },
  {
   "cell_type": "code",
   "execution_count": 225,
   "metadata": {},
   "outputs": [
    {
     "data": {
      "image/png": "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\n",
      "text/plain": [
       "<Figure size 504x144 with 1 Axes>"
      ]
     },
     "metadata": {},
     "output_type": "display_data"
    },
    {
     "data": {
      "image/png": "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\n",
      "text/plain": [
       "<Figure size 432x288 with 2 Axes>"
      ]
     },
     "metadata": {},
     "output_type": "display_data"
    },
    {
     "name": "stdout",
     "output_type": "stream",
     "text": [
      "time: 656 ms (started: 2021-09-07 23:15:56 -03:00)\n"
     ]
    }
   ],
   "source": [
    "df_filter = df_ratings[df_ratings['count'] > 100]\n",
    "\n",
    "plt.figure(figsize=(7,2))\n",
    "sns.histplot(data=df_filter, x='mean')\n",
    "plt.ylabel('count')\n",
    "plt.xlabel('rating')\n",
    "plt.xticks(rotation=90)\n",
    "plt.show()\n",
    "\n",
    "x = df_filter.index\n",
    "y1 = df_filter['count']\n",
    "y2 = df_filter['mean']\n",
    "\n",
    "fig, ax1 = plt.subplots()\n",
    "\n",
    "ax2 = ax1.twinx()\n",
    "ax1.plot(x, y1, 'g-')\n",
    "ax2.plot(x, y2, 'b-')\n",
    "\n",
    "ax1.set_xlabel('game')\n",
    "ax1.set_ylabel('count', color='g')\n",
    "ax2.set_ylabel('rating', color='b')\n",
    "\n",
    "plt.show()"
   ]
  },
  {
   "cell_type": "code",
   "execution_count": 314,
   "metadata": {},
   "outputs": [
    {
     "data": {
      "text/html": [
       "<div>\n",
       "<style scoped>\n",
       "    .dataframe tbody tr th:only-of-type {\n",
       "        vertical-align: middle;\n",
       "    }\n",
       "\n",
       "    .dataframe tbody tr th {\n",
       "        vertical-align: top;\n",
       "    }\n",
       "\n",
       "    .dataframe thead th {\n",
       "        text-align: right;\n",
       "    }\n",
       "</style>\n",
       "<table border=\"1\" class=\"dataframe\">\n",
       "  <thead>\n",
       "    <tr style=\"text-align: right;\">\n",
       "      <th></th>\n",
       "      <th>publisher</th>\n",
       "      <th>genres</th>\n",
       "      <th>app_name</th>\n",
       "      <th>title</th>\n",
       "      <th>url</th>\n",
       "      <th>release_date</th>\n",
       "      <th>tags</th>\n",
       "      <th>discount_price</th>\n",
       "      <th>reviews_url</th>\n",
       "      <th>specs</th>\n",
       "      <th>price</th>\n",
       "      <th>early_access</th>\n",
       "      <th>id</th>\n",
       "      <th>developer</th>\n",
       "      <th>sentiment</th>\n",
       "      <th>metascore</th>\n",
       "    </tr>\n",
       "  </thead>\n",
       "  <tbody>\n",
       "    <tr>\n",
       "      <th>0</th>\n",
       "      <td>Kotoshiro</td>\n",
       "      <td>[Action, Casual, Indie, Simulation, Strategy]</td>\n",
       "      <td>Lost Summoner Kitty</td>\n",
       "      <td>Lost Summoner Kitty</td>\n",
       "      <td>http://store.steampowered.com/app/761140/Lost_...</td>\n",
       "      <td>2018-01-04</td>\n",
       "      <td>[Strategy, Action, Indie, Casual, Simulation]</td>\n",
       "      <td>4.4900</td>\n",
       "      <td>http://steamcommunity.com/app/761140/reviews/?...</td>\n",
       "      <td>[Single-player]</td>\n",
       "      <td>4.9900</td>\n",
       "      <td>False</td>\n",
       "      <td>761140</td>\n",
       "      <td>Kotoshiro</td>\n",
       "      <td>NaN</td>\n",
       "      <td>NaN</td>\n",
       "    </tr>\n",
       "    <tr>\n",
       "      <th>1</th>\n",
       "      <td>Making Fun, Inc.</td>\n",
       "      <td>[Free to Play, Indie, RPG, Strategy]</td>\n",
       "      <td>Ironbound</td>\n",
       "      <td>Ironbound</td>\n",
       "      <td>http://store.steampowered.com/app/643980/Ironb...</td>\n",
       "      <td>2018-01-04</td>\n",
       "      <td>[Free to Play, Strategy, Indie, RPG, Card Game...</td>\n",
       "      <td>NaN</td>\n",
       "      <td>http://steamcommunity.com/app/643980/reviews/?...</td>\n",
       "      <td>[Single-player, Multi-player, Online Multi-Pla...</td>\n",
       "      <td>Free To Play</td>\n",
       "      <td>False</td>\n",
       "      <td>643980</td>\n",
       "      <td>Secret Level SRL</td>\n",
       "      <td>Mostly Positive</td>\n",
       "      <td>NaN</td>\n",
       "    </tr>\n",
       "    <tr>\n",
       "      <th>2</th>\n",
       "      <td>Poolians.com</td>\n",
       "      <td>[Casual, Free to Play, Indie, Simulation, Sports]</td>\n",
       "      <td>Real Pool 3D - Poolians</td>\n",
       "      <td>Real Pool 3D - Poolians</td>\n",
       "      <td>http://store.steampowered.com/app/670290/Real_...</td>\n",
       "      <td>2017-07-24</td>\n",
       "      <td>[Free to Play, Simulation, Sports, Casual, Ind...</td>\n",
       "      <td>NaN</td>\n",
       "      <td>http://steamcommunity.com/app/670290/reviews/?...</td>\n",
       "      <td>[Single-player, Multi-player, Online Multi-Pla...</td>\n",
       "      <td>Free to Play</td>\n",
       "      <td>False</td>\n",
       "      <td>670290</td>\n",
       "      <td>Poolians.com</td>\n",
       "      <td>Mostly Positive</td>\n",
       "      <td>NaN</td>\n",
       "    </tr>\n",
       "    <tr>\n",
       "      <th>3</th>\n",
       "      <td>彼岸领域</td>\n",
       "      <td>[Action, Adventure, Casual]</td>\n",
       "      <td>弹炸人2222</td>\n",
       "      <td>弹炸人2222</td>\n",
       "      <td>http://store.steampowered.com/app/767400/2222/</td>\n",
       "      <td>2017-12-07</td>\n",
       "      <td>[Action, Adventure, Casual]</td>\n",
       "      <td>0.8300</td>\n",
       "      <td>http://steamcommunity.com/app/767400/reviews/?...</td>\n",
       "      <td>[Single-player]</td>\n",
       "      <td>0.9900</td>\n",
       "      <td>False</td>\n",
       "      <td>767400</td>\n",
       "      <td>彼岸领域</td>\n",
       "      <td>NaN</td>\n",
       "      <td>NaN</td>\n",
       "    </tr>\n",
       "    <tr>\n",
       "      <th>4</th>\n",
       "      <td>NaN</td>\n",
       "      <td>NaN</td>\n",
       "      <td>Log Challenge</td>\n",
       "      <td>NaN</td>\n",
       "      <td>http://store.steampowered.com/app/773570/Log_C...</td>\n",
       "      <td>NaN</td>\n",
       "      <td>[Action, Indie, Casual, Sports]</td>\n",
       "      <td>1.7900</td>\n",
       "      <td>http://steamcommunity.com/app/773570/reviews/?...</td>\n",
       "      <td>[Single-player, Full controller support, HTC V...</td>\n",
       "      <td>2.9900</td>\n",
       "      <td>False</td>\n",
       "      <td>773570</td>\n",
       "      <td>NaN</td>\n",
       "      <td>NaN</td>\n",
       "      <td>NaN</td>\n",
       "    </tr>\n",
       "    <tr>\n",
       "      <th>...</th>\n",
       "      <td>...</td>\n",
       "      <td>...</td>\n",
       "      <td>...</td>\n",
       "      <td>...</td>\n",
       "      <td>...</td>\n",
       "      <td>...</td>\n",
       "      <td>...</td>\n",
       "      <td>...</td>\n",
       "      <td>...</td>\n",
       "      <td>...</td>\n",
       "      <td>...</td>\n",
       "      <td>...</td>\n",
       "      <td>...</td>\n",
       "      <td>...</td>\n",
       "      <td>...</td>\n",
       "      <td>...</td>\n",
       "    </tr>\n",
       "    <tr>\n",
       "      <th>32130</th>\n",
       "      <td>Ghost_RUS Games</td>\n",
       "      <td>[Casual, Indie, Simulation, Strategy]</td>\n",
       "      <td>Colony On Mars</td>\n",
       "      <td>Colony On Mars</td>\n",
       "      <td>http://store.steampowered.com/app/773640/Colon...</td>\n",
       "      <td>2018-01-04</td>\n",
       "      <td>[Strategy, Indie, Casual, Simulation]</td>\n",
       "      <td>1.4900</td>\n",
       "      <td>http://steamcommunity.com/app/773640/reviews/?...</td>\n",
       "      <td>[Single-player, Steam Achievements]</td>\n",
       "      <td>1.9900</td>\n",
       "      <td>False</td>\n",
       "      <td>773640</td>\n",
       "      <td>Nikita \"Ghost_RUS\"</td>\n",
       "      <td>NaN</td>\n",
       "      <td>NaN</td>\n",
       "    </tr>\n",
       "    <tr>\n",
       "      <th>32131</th>\n",
       "      <td>Sacada</td>\n",
       "      <td>[Casual, Indie, Strategy]</td>\n",
       "      <td>LOGistICAL: South Africa</td>\n",
       "      <td>LOGistICAL: South Africa</td>\n",
       "      <td>http://store.steampowered.com/app/733530/LOGis...</td>\n",
       "      <td>2018-01-04</td>\n",
       "      <td>[Strategy, Indie, Casual]</td>\n",
       "      <td>4.2400</td>\n",
       "      <td>http://steamcommunity.com/app/733530/reviews/?...</td>\n",
       "      <td>[Single-player, Steam Achievements, Steam Clou...</td>\n",
       "      <td>4.9900</td>\n",
       "      <td>False</td>\n",
       "      <td>733530</td>\n",
       "      <td>Sacada</td>\n",
       "      <td>NaN</td>\n",
       "      <td>NaN</td>\n",
       "    </tr>\n",
       "    <tr>\n",
       "      <th>32132</th>\n",
       "      <td>Laush Studio</td>\n",
       "      <td>[Indie, Racing, Simulation]</td>\n",
       "      <td>Russian Roads</td>\n",
       "      <td>Russian Roads</td>\n",
       "      <td>http://store.steampowered.com/app/610660/Russi...</td>\n",
       "      <td>2018-01-04</td>\n",
       "      <td>[Indie, Simulation, Racing]</td>\n",
       "      <td>1.3900</td>\n",
       "      <td>http://steamcommunity.com/app/610660/reviews/?...</td>\n",
       "      <td>[Single-player, Steam Achievements, Steam Trad...</td>\n",
       "      <td>1.9900</td>\n",
       "      <td>False</td>\n",
       "      <td>610660</td>\n",
       "      <td>Laush Dmitriy Sergeevich</td>\n",
       "      <td>NaN</td>\n",
       "      <td>NaN</td>\n",
       "    </tr>\n",
       "    <tr>\n",
       "      <th>32133</th>\n",
       "      <td>SIXNAILS</td>\n",
       "      <td>[Casual, Indie]</td>\n",
       "      <td>EXIT 2 - Directions</td>\n",
       "      <td>EXIT 2 - Directions</td>\n",
       "      <td>http://store.steampowered.com/app/658870/EXIT_...</td>\n",
       "      <td>2017-09-02</td>\n",
       "      <td>[Indie, Casual, Puzzle, Singleplayer, Atmosphe...</td>\n",
       "      <td>NaN</td>\n",
       "      <td>http://steamcommunity.com/app/658870/reviews/?...</td>\n",
       "      <td>[Single-player, Steam Achievements, Steam Cloud]</td>\n",
       "      <td>4.9900</td>\n",
       "      <td>False</td>\n",
       "      <td>658870</td>\n",
       "      <td>xropi,stev3ns</td>\n",
       "      <td>1 user reviews</td>\n",
       "      <td>NaN</td>\n",
       "    </tr>\n",
       "    <tr>\n",
       "      <th>32134</th>\n",
       "      <td>NaN</td>\n",
       "      <td>NaN</td>\n",
       "      <td>Maze Run VR</td>\n",
       "      <td>NaN</td>\n",
       "      <td>http://store.steampowered.com/app/681550/Maze_...</td>\n",
       "      <td>NaN</td>\n",
       "      <td>[Early Access, Adventure, Indie, Action, Simul...</td>\n",
       "      <td>NaN</td>\n",
       "      <td>http://steamcommunity.com/app/681550/reviews/?...</td>\n",
       "      <td>[Single-player, Stats, Steam Leaderboards, HTC...</td>\n",
       "      <td>4.9900</td>\n",
       "      <td>True</td>\n",
       "      <td>681550</td>\n",
       "      <td>NaN</td>\n",
       "      <td>Positive</td>\n",
       "      <td>NaN</td>\n",
       "    </tr>\n",
       "  </tbody>\n",
       "</table>\n",
       "<p>32133 rows × 16 columns</p>\n",
       "</div>"
      ],
      "text/plain": [
       "              publisher                                             genres  \\\n",
       "0             Kotoshiro      [Action, Casual, Indie, Simulation, Strategy]   \n",
       "1      Making Fun, Inc.               [Free to Play, Indie, RPG, Strategy]   \n",
       "2          Poolians.com  [Casual, Free to Play, Indie, Simulation, Sports]   \n",
       "3                  彼岸领域                        [Action, Adventure, Casual]   \n",
       "4                   NaN                                                NaN   \n",
       "...                 ...                                                ...   \n",
       "32130   Ghost_RUS Games              [Casual, Indie, Simulation, Strategy]   \n",
       "32131            Sacada                          [Casual, Indie, Strategy]   \n",
       "32132      Laush Studio                        [Indie, Racing, Simulation]   \n",
       "32133          SIXNAILS                                    [Casual, Indie]   \n",
       "32134               NaN                                                NaN   \n",
       "\n",
       "                       app_name                     title  \\\n",
       "0           Lost Summoner Kitty       Lost Summoner Kitty   \n",
       "1                     Ironbound                 Ironbound   \n",
       "2       Real Pool 3D - Poolians   Real Pool 3D - Poolians   \n",
       "3                       弹炸人2222                   弹炸人2222   \n",
       "4                 Log Challenge                       NaN   \n",
       "...                         ...                       ...   \n",
       "32130            Colony On Mars            Colony On Mars   \n",
       "32131  LOGistICAL: South Africa  LOGistICAL: South Africa   \n",
       "32132             Russian Roads             Russian Roads   \n",
       "32133       EXIT 2 - Directions       EXIT 2 - Directions   \n",
       "32134               Maze Run VR                       NaN   \n",
       "\n",
       "                                                     url release_date  \\\n",
       "0      http://store.steampowered.com/app/761140/Lost_...   2018-01-04   \n",
       "1      http://store.steampowered.com/app/643980/Ironb...   2018-01-04   \n",
       "2      http://store.steampowered.com/app/670290/Real_...   2017-07-24   \n",
       "3         http://store.steampowered.com/app/767400/2222/   2017-12-07   \n",
       "4      http://store.steampowered.com/app/773570/Log_C...          NaN   \n",
       "...                                                  ...          ...   \n",
       "32130  http://store.steampowered.com/app/773640/Colon...   2018-01-04   \n",
       "32131  http://store.steampowered.com/app/733530/LOGis...   2018-01-04   \n",
       "32132  http://store.steampowered.com/app/610660/Russi...   2018-01-04   \n",
       "32133  http://store.steampowered.com/app/658870/EXIT_...   2017-09-02   \n",
       "32134  http://store.steampowered.com/app/681550/Maze_...          NaN   \n",
       "\n",
       "                                                    tags  discount_price  \\\n",
       "0          [Strategy, Action, Indie, Casual, Simulation]          4.4900   \n",
       "1      [Free to Play, Strategy, Indie, RPG, Card Game...             NaN   \n",
       "2      [Free to Play, Simulation, Sports, Casual, Ind...             NaN   \n",
       "3                            [Action, Adventure, Casual]          0.8300   \n",
       "4                        [Action, Indie, Casual, Sports]          1.7900   \n",
       "...                                                  ...             ...   \n",
       "32130              [Strategy, Indie, Casual, Simulation]          1.4900   \n",
       "32131                          [Strategy, Indie, Casual]          4.2400   \n",
       "32132                        [Indie, Simulation, Racing]          1.3900   \n",
       "32133  [Indie, Casual, Puzzle, Singleplayer, Atmosphe...             NaN   \n",
       "32134  [Early Access, Adventure, Indie, Action, Simul...             NaN   \n",
       "\n",
       "                                             reviews_url  \\\n",
       "0      http://steamcommunity.com/app/761140/reviews/?...   \n",
       "1      http://steamcommunity.com/app/643980/reviews/?...   \n",
       "2      http://steamcommunity.com/app/670290/reviews/?...   \n",
       "3      http://steamcommunity.com/app/767400/reviews/?...   \n",
       "4      http://steamcommunity.com/app/773570/reviews/?...   \n",
       "...                                                  ...   \n",
       "32130  http://steamcommunity.com/app/773640/reviews/?...   \n",
       "32131  http://steamcommunity.com/app/733530/reviews/?...   \n",
       "32132  http://steamcommunity.com/app/610660/reviews/?...   \n",
       "32133  http://steamcommunity.com/app/658870/reviews/?...   \n",
       "32134  http://steamcommunity.com/app/681550/reviews/?...   \n",
       "\n",
       "                                                   specs         price  \\\n",
       "0                                        [Single-player]        4.9900   \n",
       "1      [Single-player, Multi-player, Online Multi-Pla...  Free To Play   \n",
       "2      [Single-player, Multi-player, Online Multi-Pla...  Free to Play   \n",
       "3                                        [Single-player]        0.9900   \n",
       "4      [Single-player, Full controller support, HTC V...        2.9900   \n",
       "...                                                  ...           ...   \n",
       "32130                [Single-player, Steam Achievements]        1.9900   \n",
       "32131  [Single-player, Steam Achievements, Steam Clou...        4.9900   \n",
       "32132  [Single-player, Steam Achievements, Steam Trad...        1.9900   \n",
       "32133   [Single-player, Steam Achievements, Steam Cloud]        4.9900   \n",
       "32134  [Single-player, Stats, Steam Leaderboards, HTC...        4.9900   \n",
       "\n",
       "       early_access      id                 developer        sentiment  \\\n",
       "0             False  761140                 Kotoshiro              NaN   \n",
       "1             False  643980          Secret Level SRL  Mostly Positive   \n",
       "2             False  670290              Poolians.com  Mostly Positive   \n",
       "3             False  767400                      彼岸领域              NaN   \n",
       "4             False  773570                       NaN              NaN   \n",
       "...             ...     ...                       ...              ...   \n",
       "32130         False  773640        Nikita \"Ghost_RUS\"              NaN   \n",
       "32131         False  733530                    Sacada              NaN   \n",
       "32132         False  610660  Laush Dmitriy Sergeevich              NaN   \n",
       "32133         False  658870             xropi,stev3ns   1 user reviews   \n",
       "32134          True  681550                       NaN         Positive   \n",
       "\n",
       "      metascore  \n",
       "0           NaN  \n",
       "1           NaN  \n",
       "2           NaN  \n",
       "3           NaN  \n",
       "4           NaN  \n",
       "...         ...  \n",
       "32130       NaN  \n",
       "32131       NaN  \n",
       "32132       NaN  \n",
       "32133       NaN  \n",
       "32134       NaN  \n",
       "\n",
       "[32133 rows x 16 columns]"
      ]
     },
     "execution_count": 314,
     "metadata": {},
     "output_type": "execute_result"
    },
    {
     "name": "stdout",
     "output_type": "stream",
     "text": [
      "time: 31 ms (started: 2021-09-08 00:00:51 -03:00)\n"
     ]
    }
   ],
   "source": [
    "data_games"
   ]
  },
  {
   "cell_type": "code",
   "execution_count": 315,
   "metadata": {},
   "outputs": [
    {
     "name": "stdout",
     "output_type": "stream",
     "text": [
      "time: 31 ms (started: 2021-09-08 00:00:52 -03:00)\n"
     ]
    }
   ],
   "source": [
    "data_games.dropna(subset=['id'], axis=0, inplace=True)"
   ]
  },
  {
   "cell_type": "code",
   "execution_count": 316,
   "metadata": {},
   "outputs": [
    {
     "data": {
      "text/plain": [
       "publisher          8051\n",
       "genres             3282\n",
       "app_name              1\n",
       "title              2049\n",
       "url                   0\n",
       "release_date       2066\n",
       "tags                162\n",
       "discount_price    31909\n",
       "reviews_url           0\n",
       "specs               669\n",
       "price              1377\n",
       "early_access          0\n",
       "id                    0\n",
       "developer          3298\n",
       "sentiment          7181\n",
       "metascore         29457\n",
       "dtype: int64"
      ]
     },
     "execution_count": 316,
     "metadata": {},
     "output_type": "execute_result"
    },
    {
     "name": "stdout",
     "output_type": "stream",
     "text": [
      "time: 47 ms (started: 2021-09-08 00:00:56 -03:00)\n"
     ]
    }
   ],
   "source": [
    "data_games.isna().sum()"
   ]
  },
  {
   "cell_type": "code",
   "execution_count": 337,
   "metadata": {},
   "outputs": [
    {
     "data": {
      "text/plain": [
       "0        761140\n",
       "1        643980\n",
       "2        670290\n",
       "3        767400\n",
       "4        773570\n",
       "          ...  \n",
       "32130    773640\n",
       "32131    733530\n",
       "32132    610660\n",
       "32133    658870\n",
       "32134    681550\n",
       "Name: id, Length: 32133, dtype: int64"
      ]
     },
     "execution_count": 337,
     "metadata": {},
     "output_type": "execute_result"
    },
    {
     "name": "stdout",
     "output_type": "stream",
     "text": [
      "time: 31 ms (started: 2021-09-08 00:07:30 -03:00)\n"
     ]
    }
   ],
   "source": [
    "df_games = data_games.copy()\n",
    "df_games.id.astype('int64')"
   ]
  },
  {
   "cell_type": "code",
   "execution_count": 338,
   "metadata": {},
   "outputs": [
    {
     "data": {
      "text/plain": [
       "publisher          object\n",
       "genres             object\n",
       "app_name           object\n",
       "title              object\n",
       "url                object\n",
       "release_date       object\n",
       "tags               object\n",
       "discount_price    float64\n",
       "reviews_url        object\n",
       "specs              object\n",
       "price              object\n",
       "early_access         bool\n",
       "id                 object\n",
       "developer          object\n",
       "sentiment          object\n",
       "metascore          object\n",
       "dtype: object"
      ]
     },
     "execution_count": 338,
     "metadata": {},
     "output_type": "execute_result"
    },
    {
     "name": "stdout",
     "output_type": "stream",
     "text": [
      "time: 15 ms (started: 2021-09-08 00:07:30 -03:00)\n"
     ]
    }
   ],
   "source": [
    "df_games.dtypes"
   ]
  },
  {
   "cell_type": "code",
   "execution_count": 318,
   "metadata": {},
   "outputs": [
    {
     "name": "stdout",
     "output_type": "stream",
     "text": [
      "time: 15 ms (started: 2021-09-08 00:01:05 -03:00)\n"
     ]
    }
   ],
   "source": [
    "df_games = data_games.set_index('id')"
   ]
  },
  {
   "cell_type": "code",
   "execution_count": 319,
   "metadata": {},
   "outputs": [
    {
     "ename": "KeyError",
     "evalue": "\"None of [Int64Index([431960, 245550, 365670, 374570, 387290, 107100,  35700,  35720,\\n            317400, 237930,\\n            ...\\n            382850, 457330, 240720, 227160, 258180, 335330, 292630,  34830,\\n            316390, 242800],\\n           dtype='int64', name='id', length=1150)] are in the [index]\"",
     "output_type": "error",
     "traceback": [
      "\u001b[1;31m---------------------------------------------------------------------------\u001b[0m",
      "\u001b[1;31mKeyError\u001b[0m                                  Traceback (most recent call last)",
      "\u001b[1;32m~\\AppData\\Local\\Temp/ipykernel_9780/3258931966.py\u001b[0m in \u001b[0;36m<module>\u001b[1;34m\u001b[0m\n\u001b[1;32m----> 1\u001b[1;33m \u001b[0mdf_filter\u001b[0m\u001b[1;33m[\u001b[0m\u001b[1;34m'title'\u001b[0m\u001b[1;33m]\u001b[0m \u001b[1;33m=\u001b[0m \u001b[0mdf_games\u001b[0m\u001b[1;33m[\u001b[0m\u001b[1;34m'title'\u001b[0m\u001b[1;33m]\u001b[0m\u001b[1;33m.\u001b[0m\u001b[0mloc\u001b[0m\u001b[1;33m[\u001b[0m\u001b[0mdf_filter\u001b[0m\u001b[1;33m.\u001b[0m\u001b[0mproduct_id\u001b[0m\u001b[1;33m]\u001b[0m\u001b[1;33m.\u001b[0m\u001b[0mvalues\u001b[0m\u001b[1;33m\u001b[0m\u001b[1;33m\u001b[0m\u001b[0m\n\u001b[0m\u001b[0;32m      2\u001b[0m \u001b[0mdf_filter\u001b[0m\u001b[1;33m.\u001b[0m\u001b[0mhead\u001b[0m\u001b[1;33m(\u001b[0m\u001b[1;36m10\u001b[0m\u001b[1;33m)\u001b[0m\u001b[1;33m\u001b[0m\u001b[1;33m\u001b[0m\u001b[0m\n",
      "\u001b[1;32m~\\.conda\\envs\\datascience\\lib\\site-packages\\pandas\\core\\indexing.py\u001b[0m in \u001b[0;36m__getitem__\u001b[1;34m(self, key)\u001b[0m\n\u001b[0;32m    893\u001b[0m \u001b[1;33m\u001b[0m\u001b[0m\n\u001b[0;32m    894\u001b[0m             \u001b[0mmaybe_callable\u001b[0m \u001b[1;33m=\u001b[0m \u001b[0mcom\u001b[0m\u001b[1;33m.\u001b[0m\u001b[0mapply_if_callable\u001b[0m\u001b[1;33m(\u001b[0m\u001b[0mkey\u001b[0m\u001b[1;33m,\u001b[0m \u001b[0mself\u001b[0m\u001b[1;33m.\u001b[0m\u001b[0mobj\u001b[0m\u001b[1;33m)\u001b[0m\u001b[1;33m\u001b[0m\u001b[1;33m\u001b[0m\u001b[0m\n\u001b[1;32m--> 895\u001b[1;33m             \u001b[1;32mreturn\u001b[0m \u001b[0mself\u001b[0m\u001b[1;33m.\u001b[0m\u001b[0m_getitem_axis\u001b[0m\u001b[1;33m(\u001b[0m\u001b[0mmaybe_callable\u001b[0m\u001b[1;33m,\u001b[0m \u001b[0maxis\u001b[0m\u001b[1;33m=\u001b[0m\u001b[0maxis\u001b[0m\u001b[1;33m)\u001b[0m\u001b[1;33m\u001b[0m\u001b[1;33m\u001b[0m\u001b[0m\n\u001b[0m\u001b[0;32m    896\u001b[0m \u001b[1;33m\u001b[0m\u001b[0m\n\u001b[0;32m    897\u001b[0m     \u001b[1;32mdef\u001b[0m \u001b[0m_is_scalar_access\u001b[0m\u001b[1;33m(\u001b[0m\u001b[0mself\u001b[0m\u001b[1;33m,\u001b[0m \u001b[0mkey\u001b[0m\u001b[1;33m:\u001b[0m \u001b[0mTuple\u001b[0m\u001b[1;33m)\u001b[0m\u001b[1;33m:\u001b[0m\u001b[1;33m\u001b[0m\u001b[1;33m\u001b[0m\u001b[0m\n",
      "\u001b[1;32m~\\.conda\\envs\\datascience\\lib\\site-packages\\pandas\\core\\indexing.py\u001b[0m in \u001b[0;36m_getitem_axis\u001b[1;34m(self, key, axis)\u001b[0m\n\u001b[0;32m   1111\u001b[0m                     \u001b[1;32mraise\u001b[0m \u001b[0mValueError\u001b[0m\u001b[1;33m(\u001b[0m\u001b[1;34m\"Cannot index with multidimensional key\"\u001b[0m\u001b[1;33m)\u001b[0m\u001b[1;33m\u001b[0m\u001b[1;33m\u001b[0m\u001b[0m\n\u001b[0;32m   1112\u001b[0m \u001b[1;33m\u001b[0m\u001b[0m\n\u001b[1;32m-> 1113\u001b[1;33m                 \u001b[1;32mreturn\u001b[0m \u001b[0mself\u001b[0m\u001b[1;33m.\u001b[0m\u001b[0m_getitem_iterable\u001b[0m\u001b[1;33m(\u001b[0m\u001b[0mkey\u001b[0m\u001b[1;33m,\u001b[0m \u001b[0maxis\u001b[0m\u001b[1;33m=\u001b[0m\u001b[0maxis\u001b[0m\u001b[1;33m)\u001b[0m\u001b[1;33m\u001b[0m\u001b[1;33m\u001b[0m\u001b[0m\n\u001b[0m\u001b[0;32m   1114\u001b[0m \u001b[1;33m\u001b[0m\u001b[0m\n\u001b[0;32m   1115\u001b[0m             \u001b[1;31m# nested tuple slicing\u001b[0m\u001b[1;33m\u001b[0m\u001b[1;33m\u001b[0m\u001b[1;33m\u001b[0m\u001b[0m\n",
      "\u001b[1;32m~\\.conda\\envs\\datascience\\lib\\site-packages\\pandas\\core\\indexing.py\u001b[0m in \u001b[0;36m_getitem_iterable\u001b[1;34m(self, key, axis)\u001b[0m\n\u001b[0;32m   1051\u001b[0m \u001b[1;33m\u001b[0m\u001b[0m\n\u001b[0;32m   1052\u001b[0m         \u001b[1;31m# A collection of keys\u001b[0m\u001b[1;33m\u001b[0m\u001b[1;33m\u001b[0m\u001b[1;33m\u001b[0m\u001b[0m\n\u001b[1;32m-> 1053\u001b[1;33m         \u001b[0mkeyarr\u001b[0m\u001b[1;33m,\u001b[0m \u001b[0mindexer\u001b[0m \u001b[1;33m=\u001b[0m \u001b[0mself\u001b[0m\u001b[1;33m.\u001b[0m\u001b[0m_get_listlike_indexer\u001b[0m\u001b[1;33m(\u001b[0m\u001b[0mkey\u001b[0m\u001b[1;33m,\u001b[0m \u001b[0maxis\u001b[0m\u001b[1;33m,\u001b[0m \u001b[0mraise_missing\u001b[0m\u001b[1;33m=\u001b[0m\u001b[1;32mFalse\u001b[0m\u001b[1;33m)\u001b[0m\u001b[1;33m\u001b[0m\u001b[1;33m\u001b[0m\u001b[0m\n\u001b[0m\u001b[0;32m   1054\u001b[0m         return self.obj._reindex_with_indexers(\n\u001b[0;32m   1055\u001b[0m             \u001b[1;33m{\u001b[0m\u001b[0maxis\u001b[0m\u001b[1;33m:\u001b[0m \u001b[1;33m[\u001b[0m\u001b[0mkeyarr\u001b[0m\u001b[1;33m,\u001b[0m \u001b[0mindexer\u001b[0m\u001b[1;33m]\u001b[0m\u001b[1;33m}\u001b[0m\u001b[1;33m,\u001b[0m \u001b[0mcopy\u001b[0m\u001b[1;33m=\u001b[0m\u001b[1;32mTrue\u001b[0m\u001b[1;33m,\u001b[0m \u001b[0mallow_dups\u001b[0m\u001b[1;33m=\u001b[0m\u001b[1;32mTrue\u001b[0m\u001b[1;33m\u001b[0m\u001b[1;33m\u001b[0m\u001b[0m\n",
      "\u001b[1;32m~\\.conda\\envs\\datascience\\lib\\site-packages\\pandas\\core\\indexing.py\u001b[0m in \u001b[0;36m_get_listlike_indexer\u001b[1;34m(self, key, axis, raise_missing)\u001b[0m\n\u001b[0;32m   1264\u001b[0m             \u001b[0mkeyarr\u001b[0m\u001b[1;33m,\u001b[0m \u001b[0mindexer\u001b[0m\u001b[1;33m,\u001b[0m \u001b[0mnew_indexer\u001b[0m \u001b[1;33m=\u001b[0m \u001b[0max\u001b[0m\u001b[1;33m.\u001b[0m\u001b[0m_reindex_non_unique\u001b[0m\u001b[1;33m(\u001b[0m\u001b[0mkeyarr\u001b[0m\u001b[1;33m)\u001b[0m\u001b[1;33m\u001b[0m\u001b[1;33m\u001b[0m\u001b[0m\n\u001b[0;32m   1265\u001b[0m \u001b[1;33m\u001b[0m\u001b[0m\n\u001b[1;32m-> 1266\u001b[1;33m         \u001b[0mself\u001b[0m\u001b[1;33m.\u001b[0m\u001b[0m_validate_read_indexer\u001b[0m\u001b[1;33m(\u001b[0m\u001b[0mkeyarr\u001b[0m\u001b[1;33m,\u001b[0m \u001b[0mindexer\u001b[0m\u001b[1;33m,\u001b[0m \u001b[0maxis\u001b[0m\u001b[1;33m,\u001b[0m \u001b[0mraise_missing\u001b[0m\u001b[1;33m=\u001b[0m\u001b[0mraise_missing\u001b[0m\u001b[1;33m)\u001b[0m\u001b[1;33m\u001b[0m\u001b[1;33m\u001b[0m\u001b[0m\n\u001b[0m\u001b[0;32m   1267\u001b[0m         \u001b[1;32mreturn\u001b[0m \u001b[0mkeyarr\u001b[0m\u001b[1;33m,\u001b[0m \u001b[0mindexer\u001b[0m\u001b[1;33m\u001b[0m\u001b[1;33m\u001b[0m\u001b[0m\n\u001b[0;32m   1268\u001b[0m \u001b[1;33m\u001b[0m\u001b[0m\n",
      "\u001b[1;32m~\\.conda\\envs\\datascience\\lib\\site-packages\\pandas\\core\\indexing.py\u001b[0m in \u001b[0;36m_validate_read_indexer\u001b[1;34m(self, key, indexer, axis, raise_missing)\u001b[0m\n\u001b[0;32m   1306\u001b[0m             \u001b[1;32mif\u001b[0m \u001b[0mmissing\u001b[0m \u001b[1;33m==\u001b[0m \u001b[0mlen\u001b[0m\u001b[1;33m(\u001b[0m\u001b[0mindexer\u001b[0m\u001b[1;33m)\u001b[0m\u001b[1;33m:\u001b[0m\u001b[1;33m\u001b[0m\u001b[1;33m\u001b[0m\u001b[0m\n\u001b[0;32m   1307\u001b[0m                 \u001b[0maxis_name\u001b[0m \u001b[1;33m=\u001b[0m \u001b[0mself\u001b[0m\u001b[1;33m.\u001b[0m\u001b[0mobj\u001b[0m\u001b[1;33m.\u001b[0m\u001b[0m_get_axis_name\u001b[0m\u001b[1;33m(\u001b[0m\u001b[0maxis\u001b[0m\u001b[1;33m)\u001b[0m\u001b[1;33m\u001b[0m\u001b[1;33m\u001b[0m\u001b[0m\n\u001b[1;32m-> 1308\u001b[1;33m                 \u001b[1;32mraise\u001b[0m \u001b[0mKeyError\u001b[0m\u001b[1;33m(\u001b[0m\u001b[1;34mf\"None of [{key}] are in the [{axis_name}]\"\u001b[0m\u001b[1;33m)\u001b[0m\u001b[1;33m\u001b[0m\u001b[1;33m\u001b[0m\u001b[0m\n\u001b[0m\u001b[0;32m   1309\u001b[0m \u001b[1;33m\u001b[0m\u001b[0m\n\u001b[0;32m   1310\u001b[0m             \u001b[0max\u001b[0m \u001b[1;33m=\u001b[0m \u001b[0mself\u001b[0m\u001b[1;33m.\u001b[0m\u001b[0mobj\u001b[0m\u001b[1;33m.\u001b[0m\u001b[0m_get_axis\u001b[0m\u001b[1;33m(\u001b[0m\u001b[0maxis\u001b[0m\u001b[1;33m)\u001b[0m\u001b[1;33m\u001b[0m\u001b[1;33m\u001b[0m\u001b[0m\n",
      "\u001b[1;31mKeyError\u001b[0m: \"None of [Int64Index([431960, 245550, 365670, 374570, 387290, 107100,  35700,  35720,\\n            317400, 237930,\\n            ...\\n            382850, 457330, 240720, 227160, 258180, 335330, 292630,  34830,\\n            316390, 242800],\\n           dtype='int64', name='id', length=1150)] are in the [index]\""
     ]
    },
    {
     "name": "stdout",
     "output_type": "stream",
     "text": [
      "time: 32 ms (started: 2021-09-08 00:01:07 -03:00)\n"
     ]
    }
   ],
   "source": [
    "df_filter['title'] = df_games['title'].loc[df_filter.product_id].values\n",
    "df_filter.head(10)"
   ]
  },
  {
   "cell_type": "code",
   "execution_count": 322,
   "metadata": {},
   "outputs": [
    {
     "data": {
      "text/plain": [
       "publisher          object\n",
       "genres             object\n",
       "app_name           object\n",
       "title              object\n",
       "url                object\n",
       "release_date       object\n",
       "tags               object\n",
       "discount_price    float64\n",
       "reviews_url        object\n",
       "specs              object\n",
       "price              object\n",
       "early_access         bool\n",
       "developer          object\n",
       "sentiment          object\n",
       "metascore          object\n",
       "dtype: object"
      ]
     },
     "execution_count": 322,
     "metadata": {},
     "output_type": "execute_result"
    },
    {
     "name": "stdout",
     "output_type": "stream",
     "text": [
      "time: 0 ns (started: 2021-09-08 00:01:50 -03:00)\n"
     ]
    }
   ],
   "source": [
    "df_games.dtypes"
   ]
  },
  {
   "cell_type": "code",
   "execution_count": 300,
   "metadata": {},
   "outputs": [
    {
     "data": {
      "text/plain": [
       "296      431960\n",
       "420      245550\n",
       "496      365670\n",
       "540      374570\n",
       "887      387290\n",
       "          ...  \n",
       "11126    335330\n",
       "11196    292630\n",
       "11267     34830\n",
       "11279    316390\n",
       "11693    242800\n",
       "Name: product_id, Length: 1150, dtype: int64"
      ]
     },
     "execution_count": 300,
=======
       "      <th>330758</th>\n",
       "      <td>xXxSlushiexXx</td>\n",
       "      <td>221680</td>\n",
       "      <td>Great for teaching guitar</td>\n",
       "      <td>NaN</td>\n",
       "      <td>19.3000</td>\n",
       "      <td>English</td>\n",
       "      <td>great teaching guitar</td>\n",
       "      <td>0.7500</td>\n",
       "      <td>0.8000</td>\n",
       "    </tr>\n",
       "    <tr>\n",
       "      <th>238739</th>\n",
       "      <td>AnalBlaster</td>\n",
       "      <td>377160</td>\n",
       "      <td>Runs great on my      dollar AlienWare Laptop</td>\n",
       "      <td>NaN</td>\n",
       "      <td>153.4000</td>\n",
       "      <td>English</td>\n",
       "      <td>runs great dollar alienware laptop</td>\n",
       "      <td>0.7500</td>\n",
       "      <td>0.8000</td>\n",
       "    </tr>\n",
       "    <tr>\n",
       "      <th>689760</th>\n",
       "      <td>Smacka My Paca</td>\n",
       "      <td>395170</td>\n",
       "      <td>Its a damn cycle  Now I feel terrible  Anyway ...</td>\n",
       "      <td>NaN</td>\n",
       "      <td>2.2000</td>\n",
       "      <td>English</td>\n",
       "      <td>damn cycle feel terrible anyway nice game good</td>\n",
       "      <td>0.7500</td>\n",
       "      <td>0.0200</td>\n",
       "    </tr>\n",
       "    <tr>\n",
       "      <th>488371</th>\n",
       "      <td>kinomedia</td>\n",
       "      <td>203770</td>\n",
       "      <td>Still one of the great strategy games of the d...</td>\n",
       "      <td>NaN</td>\n",
       "      <td>387.4000</td>\n",
       "      <td>English</td>\n",
       "      <td>still great strategy games decade</td>\n",
       "      <td>0.7500</td>\n",
       "      <td>0.8000</td>\n",
       "    </tr>\n",
       "    <tr>\n",
       "      <th>735412</th>\n",
       "      <td>SneakyCereal</td>\n",
       "      <td>361420</td>\n",
       "      <td>if you have AMD Radeon drivers like me you wil...</td>\n",
       "      <td>NaN</td>\n",
       "      <td>1.4000</td>\n",
       "      <td>English</td>\n",
       "      <td>radeon drivers like likely problems running as...</td>\n",
       "      <td>0.7500</td>\n",
       "      <td>0.2500</td>\n",
       "    </tr>\n",
       "    <tr>\n",
       "      <th>171574</th>\n",
       "      <td>Paral3x</td>\n",
       "      <td>313120</td>\n",
       "      <td>Good game  nice and challenging at times  woul...</td>\n",
       "      <td>NaN</td>\n",
       "      <td>29.1000</td>\n",
       "      <td>English</td>\n",
       "      <td>good game nice challenging times would great m...</td>\n",
       "      <td>0.7500</td>\n",
       "      <td>0.4400</td>\n",
       "    </tr>\n",
       "    <tr>\n",
       "      <th>330810</th>\n",
       "      <td>Alex Hynes</td>\n",
       "      <td>7600</td>\n",
       "      <td>Built a railway  forgot about my stock  Banker...</td>\n",
       "      <td>NaN</td>\n",
       "      <td>12.9000</td>\n",
       "      <td>English</td>\n",
       "      <td>built railway forgot stock bankers bought took...</td>\n",
       "      <td>0.7500</td>\n",
       "      <td>0.8000</td>\n",
       "    </tr>\n",
       "    <tr>\n",
       "      <th>335452</th>\n",
       "      <td>6170nihak</td>\n",
       "      <td>359550</td>\n",
       "      <td>Potato sever but great gaming experience</td>\n",
       "      <td>NaN</td>\n",
       "      <td>81.2000</td>\n",
       "      <td>English</td>\n",
       "      <td>potato sever great gaming experience</td>\n",
       "      <td>0.7500</td>\n",
       "      <td>0.8000</td>\n",
       "    </tr>\n",
       "    <tr>\n",
       "      <th>234127</th>\n",
       "      <td>Lizard</td>\n",
       "      <td>211820</td>\n",
       "      <td>Great game  even in though it just got release...</td>\n",
       "      <td>NaN</td>\n",
       "      <td>33.9000</td>\n",
       "      <td>English</td>\n",
       "      <td>great game even though released already amazin...</td>\n",
       "      <td>0.7500</td>\n",
       "      <td>0.4000</td>\n",
       "    </tr>\n",
       "    <tr>\n",
       "      <th>188745</th>\n",
       "      <td>dusk_raidz</td>\n",
       "      <td>10680</td>\n",
       "      <td>I      My Pants Running Thru The Marine Missio...</td>\n",
       "      <td>NaN</td>\n",
       "      <td>23.0000</td>\n",
       "      <td>English</td>\n",
       "      <td>pants running thru marine missions disoriented...</td>\n",
       "      <td>0.7500</td>\n",
       "      <td>-0.2500</td>\n",
       "    </tr>\n",
       "    <tr>\n",
       "      <th>171590</th>\n",
       "      <td>Chronovore</td>\n",
       "      <td>203630</td>\n",
       "      <td>A pretty good game and a great Master of Magic...</td>\n",
       "      <td>NaN</td>\n",
       "      <td>12.3000</td>\n",
       "      <td>English</td>\n",
       "      <td>pretty good game great master magic clone pret...</td>\n",
       "      <td>0.7500</td>\n",
       "      <td>0.2714</td>\n",
       "    </tr>\n",
       "    <tr>\n",
       "      <th>481697</th>\n",
       "      <td>(FAT) Lonegun121</td>\n",
       "      <td>415740</td>\n",
       "      <td>OmniBus is an Everybus  Yet  OmniBus is a hero...</td>\n",
       "      <td>NaN</td>\n",
       "      <td>1.6000</td>\n",
       "      <td>English</td>\n",
       "      <td>omnibus everybus omnibus hero omnibus good omn...</td>\n",
       "      <td>0.7500</td>\n",
       "      <td>0.7000</td>\n",
       "    </tr>\n",
       "  </tbody>\n",
       "</table>\n",
       "</div>"
      ],
      "text/plain": [
       "                                username  product_id  \\\n",
       "331076                  purwadinugroho86      291410   \n",
       "525580                     littleleoness      363970   \n",
       "482076                   Korven Kuningas      627690   \n",
       "258167    Blind and Deaf With Parkinsons      365590   \n",
       "171304                      patandspooky      203630   \n",
       "735498                          whydavid      220440   \n",
       "171850                        Teh_Bucket      274290   \n",
       "31641                 Connor  gamdom.com      271590   \n",
       "590844                          Zangston       10500   \n",
       "618721                        Corpse Run      282440   \n",
       "417699                           Paragon      249050   \n",
       "31601                               Zaty      200710   \n",
       "625197                    Waste of Semen      394280   \n",
       "625210                           Dominck        6060   \n",
       "618673                            mellll      206420   \n",
       "400114                   RelanoDoosevelt      310080   \n",
       "335576        twitch.tv/Marijuana_Merlin      369530   \n",
       "168393                           Willass      251990   \n",
       "618526                            raviel      463350   \n",
       "625315           Risa (Snaek) (Periweeb)      282900   \n",
       "171783                      combinations       45760   \n",
       "258015                          Varendus      373420   \n",
       "171807                             dbovy      481510   \n",
       "644383                One Sneaky Penguin      239140   \n",
       "330393                           Aphlait      359550   \n",
       "335649                    terribleperson      477730   \n",
       "18348   Skyes - I ban you with Overwatch      365300   \n",
       "239203                               THG      377160   \n",
       "400260                              Jrex      394360   \n",
       "777506                         Gunter TK      252490   \n",
       "714890                             Mr.SC      225540   \n",
       "106335                          Blyatman       20920   \n",
       "279                         Drauchenfyre       35140   \n",
       "116177                      gabrielwinck      281990   \n",
       "625005                            stoney      206420   \n",
       "488273                         Mai Waifu      316600   \n",
       "525441                              Yahz      346110   \n",
       "715062                    Hey it's Ramza      386360   \n",
       "330758                     xXxSlushiexXx      221680   \n",
       "238739                       AnalBlaster      377160   \n",
       "689760                    Smacka My Paca      395170   \n",
       "488371                         kinomedia      203770   \n",
       "735412                      SneakyCereal      361420   \n",
       "171574                           Paral3x      313120   \n",
       "330810                        Alex Hynes        7600   \n",
       "335452                         6170nihak      359550   \n",
       "234127                            Lizard      211820   \n",
       "188745                        dusk_raidz       10680   \n",
       "171590                        Chronovore      203630   \n",
       "481697                  (FAT) Lonegun121      415740   \n",
       "\n",
       "                                                     text  found_funny  \\\n",
       "331076  Get rid of the key system  and its better than...          NaN   \n",
       "525580             It s ok  I guess  Psych  I m obsessed           NaN   \n",
       "482076  It s the rp added ver of clicker heroes  It s ...          NaN   \n",
       "258167  A pretty boring repetitive experience unless y...       1.0000   \n",
       "171304  I love this game   It is Civ Lite with magic  ...          NaN   \n",
       "735498  Gameplay is smooth and the story is existent c...          NaN   \n",
       "171850          very nice looking random number generator       4.0000   \n",
       "31641                    They fked up  modes were great            NaN   \n",
       "590844                     Just play Napoleon  Total War        1.0000   \n",
       "618721                                  Great investment           NaN   \n",
       "417699  Pick it up  Play with friends Have a great tim...          NaN   \n",
       "31601                            Great dungeon crawler             NaN   \n",
       "625197  Sloppy made  A lot of things not making any se...          NaN   \n",
       "625210  amazing for the time it was made  This was the...          NaN   \n",
       "618673  This Game is an unusual combination Between cr...          NaN   \n",
       "400114                      Most of the birds were p nice          NaN   \n",
       "335576  Mount and Blade  Total War in space  If that d...       4.0000   \n",
       "168393  Just a great VN  might be one of my favs  Cheers           NaN   \n",
       "618526                    i don t find it great thats all       2.0000   \n",
       "625315  are you a gamer  good youll like the humor are...          NaN   \n",
       "171783      ing lame because i bought ultra street fig...       3.0000   \n",
       "258015        Great music  and RPG  Would Recommend   ...          NaN   \n",
       "171807                        Incredable great characters          NaN   \n",
       "644383       Simply awesome  I wasnt ready for it to end           NaN   \n",
       "330393  Its a great tactical shooter and team shooter ...       1.0000   \n",
       "335649  Eador Imperium is weird and wonderful and stil...          NaN   \n",
       "18348   Exellent graphics and total immersion  A  must...       1.0000   \n",
       "239203                                              Great          NaN   \n",
       "400260  HOI  in a nutshell  X beats Y if A leaves B al...          NaN   \n",
       "777506  Amazing even for a beta  love the graphics and...          NaN   \n",
       "714890  BOOM BOOM BOOM      and BOOM     AND the beaut...          NaN   \n",
       "106335  Great story driven rpg  lack of side quests th...          NaN   \n",
       "279     Finally  a superhero videogame that lives up t...          NaN   \n",
       "116177                              Space is great again        2.0000   \n",
       "625005  Would rate      because of stupid glitches and...          NaN   \n",
       "488273  Great  challenging bullet hell  would definite...          NaN   \n",
       "525441  refunded terrible optimization ignoring the co...          NaN   \n",
       "715062            Great Moba  Great F P system  Gold star       1.0000   \n",
       "330758                         Great for teaching guitar           NaN   \n",
       "238739     Runs great on my      dollar AlienWare Laptop           NaN   \n",
       "689760  Its a damn cycle  Now I feel terrible  Anyway ...          NaN   \n",
       "488371  Still one of the great strategy games of the d...          NaN   \n",
       "735412  if you have AMD Radeon drivers like me you wil...          NaN   \n",
       "171574  Good game  nice and challenging at times  woul...          NaN   \n",
       "330810  Built a railway  forgot about my stock  Banker...          NaN   \n",
       "335452           Potato sever but great gaming experience          NaN   \n",
       "234127  Great game  even in though it just got release...          NaN   \n",
       "188745  I      My Pants Running Thru The Marine Missio...          NaN   \n",
       "171590  A pretty good game and a great Master of Magic...          NaN   \n",
       "481697  OmniBus is an Everybus  Yet  OmniBus is a hero...          NaN   \n",
       "\n",
       "          hours     lang                                       cleaned_text  \\\n",
       "331076 100.6000  English                             system better blizzard   \n",
       "525580  15.0000  English                               guess psych obsessed   \n",
       "482076 392.8000  English  added clicker heroes always nice heroes forgot...   \n",
       "258167  31.3000  English  pretty boring repetitive experience unless fri...   \n",
       "171304 151.2000  English  love game lite magic drawback lack achiements ...   \n",
       "735498  16.6000  English  gameplay smooth story existent compared predec...   \n",
       "171850   0.6000  English               nice looking random number generator   \n",
       "31641  152.5000  English                                   fked modes great   \n",
       "590844   0.9000  English                                play napoleon total   \n",
       "618721   1.5000  English                                   great investment   \n",
       "417699  22.9000  English                       pick play friends great time   \n",
       "31601  110.8000  English                              great dungeon crawler   \n",
       "625197  10.6000  English                    sloppy made things making sense   \n",
       "625210   0.4000  English   amazing time made firs real game remeber playing   \n",
       "618673  20.9000  English  game unusual combination crazy adventure prett...   \n",
       "400114   4.7000  English                                         birds nice   \n",
       "335576  37.6000  English                  mount blade total space sell know   \n",
       "168393   9.4000  English                            great might favs cheers   \n",
       "618526   1.8000  English                                   find great thats   \n",
       "625315 126.0000  English  gamer good youll like humor weeb perfect like ...   \n",
       "171783  30.0000  English  lame bought ultra street fighter steam instead...   \n",
       "258015 144.9000  English              great music would recommend ripkirill   \n",
       "171807  25.8000  English                        incredable great characters   \n",
       "644383  45.2000  English                         simply awesome wasnt ready   \n",
       "330393 414.2000  English          great tactical shooter team shooter great   \n",
       "335649 361.5000  English  eador imperium weird wonderful still getting b...   \n",
       "18348    0.7000  English             exellent graphics total immersion must   \n",
       "239203 103.5000  English                                              great   \n",
       "400260 129.9000  English  nutshell beats leaves alone watch mention plan...   \n",
       "777506  72.5000  English             amazing even beta love graphics people   \n",
       "714890   8.6000  English  boom boom boom boom beautiful scenery feel bor...   \n",
       "106335  38.9000  English                great story driven lack side quests   \n",
       "279     11.1000  English  finally superhero videogame lives hype keep co...   \n",
       "116177  65.6000  English                                        space great   \n",
       "625005  11.3000  English  would rate stupid glitches many side quests pe...   \n",
       "488273   2.4000  English  great challenging bullet hell would definitely...   \n",
       "525441   0.6000  English  refunded terrible optimization ignoring commun...   \n",
       "715062 331.6000  English                  great moba great system gold star   \n",
       "330758  19.3000  English                              great teaching guitar   \n",
       "238739 153.4000  English                 runs great dollar alienware laptop   \n",
       "689760   2.2000  English     damn cycle feel terrible anyway nice game good   \n",
       "488371 387.4000  English                  still great strategy games decade   \n",
       "735412   1.4000  English  radeon drivers like likely problems running as...   \n",
       "171574  29.1000  English  good game nice challenging times would great m...   \n",
       "330810  12.9000  English  built railway forgot stock bankers bought took...   \n",
       "335452  81.2000  English               potato sever great gaming experience   \n",
       "234127  33.9000  English  great game even though released already amazin...   \n",
       "188745  23.0000  English  pants running thru marine missions disoriented...   \n",
       "171590  12.3000  English  pretty good game great master magic clone pret...   \n",
       "481697   1.6000  English  omnibus everybus omnibus hero omnibus good omn...   \n",
       "\n",
       "         subj    pola  \n",
       "331076 0.7500  0.2500  \n",
       "525580 0.7500  0.0000  \n",
       "482076 0.7500  0.5500  \n",
       "258167 0.7500 -0.3333  \n",
       "171304 0.7500  0.1500  \n",
       "735498 0.7500  0.2000  \n",
       "171850 0.7500  0.1400  \n",
       "31641  0.7500  0.8000  \n",
       "590844 0.7500  0.0000  \n",
       "618721 0.7500  0.8000  \n",
       "417699 0.7500  0.8000  \n",
       "31601  0.7500  0.8000  \n",
       "625197 0.7500 -0.4167  \n",
       "625210 0.7500  0.0000  \n",
       "618673 0.7500  0.0583  \n",
       "400114 0.7500  0.5500  \n",
       "335576 0.7500  0.0000  \n",
       "168393 0.7500  0.8000  \n",
       "618526 0.7500  0.8000  \n",
       "625315 0.7500  0.5750  \n",
       "171783 0.7500 -0.5000  \n",
       "258015 0.7500  0.8000  \n",
       "171807 0.7500  0.8000  \n",
       "644383 0.7500  0.6000  \n",
       "330393 0.7500  0.8000  \n",
       "335649 0.7500  0.2031  \n",
       "18348  0.7500  0.0000  \n",
       "239203 0.7500  0.8000  \n",
       "400260 0.7500  0.0000  \n",
       "777506 0.7500  0.5500  \n",
       "714890 0.7500  0.1625  \n",
       "106335 0.7500  0.8000  \n",
       "279    0.7500  0.2500  \n",
       "116177 0.7500  0.8000  \n",
       "625005 0.7500 -0.1500  \n",
       "488273 0.7500  0.4333  \n",
       "525441 0.7500 -0.2500  \n",
       "715062 0.7500  0.8000  \n",
       "330758 0.7500  0.8000  \n",
       "238739 0.7500  0.8000  \n",
       "689760 0.7500  0.0200  \n",
       "488371 0.7500  0.8000  \n",
       "735412 0.7500  0.2500  \n",
       "171574 0.7500  0.4400  \n",
       "330810 0.7500  0.8000  \n",
       "335452 0.7500  0.8000  \n",
       "234127 0.7500  0.4000  \n",
       "188745 0.7500 -0.2500  \n",
       "171590 0.7500  0.2714  \n",
       "481697 0.7500  0.7000  "
      ]
     },
     "execution_count": 104,
>>>>>>> 8fc0c4141e975876075e6bd418e426caf195b73e
     "metadata": {},
     "output_type": "execute_result"
    },
    {
     "name": "stdout",
     "output_type": "stream",
     "text": [
<<<<<<< HEAD
      "time: 15 ms (started: 2021-09-07 23:57:31 -03:00)\n"
=======
      "time: 500 ms (started: 2021-08-22 23:24:47 -03:00)\n"
>>>>>>> 8fc0c4141e975876075e6bd418e426caf195b73e
     ]
    }
   ],
   "source": [
<<<<<<< HEAD
    "df_filter.product_id"
=======
    "df_reviews.sort_values(by='subj').iloc[650000:650050]"
>>>>>>> 8fc0c4141e975876075e6bd418e426caf195b73e
   ]
  },
  {
   "cell_type": "code",
<<<<<<< HEAD
   "execution_count": 305,
=======
   "execution_count": 105,
>>>>>>> 8fc0c4141e975876075e6bd418e426caf195b73e
   "metadata": {},
   "outputs": [
    {
     "data": {
<<<<<<< HEAD
      "text/plain": [
       "'Lost Summoner Kitty'"
      ]
     },
     "execution_count": 305,
     "metadata": {},
     "output_type": "execute_result"
=======
      "image/png": "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\n",
      "text/plain": [
       "<Figure size 720x720 with 1 Axes>"
      ]
     },
     "metadata": {},
     "output_type": "display_data"
>>>>>>> 8fc0c4141e975876075e6bd418e426caf195b73e
    },
    {
     "name": "stdout",
     "output_type": "stream",
     "text": [
<<<<<<< HEAD
      "time: 0 ns (started: 2021-09-07 23:58:57 -03:00)\n"
=======
      "time: 1.58 s (started: 2021-08-22 23:24:47 -03:00)\n"
>>>>>>> 8fc0c4141e975876075e6bd418e426caf195b73e
     ]
    }
   ],
   "source": [
<<<<<<< HEAD
    "df_games['title'].loc['761140']"
=======
    "plt.figure(figsize=(10,10))\n",
    "g = sns.scatterplot(data=df_reviews, x='subj', y='pola')\n",
    "# g = sns.histplot(data=df_reviews, x='pola')\n",
    "# g.set(ylim=(0, 10000))\n",
    "plt.show()"
>>>>>>> 8fc0c4141e975876075e6bd418e426caf195b73e
   ]
  }
 ],
 "metadata": {
  "celltoolbar": "Attachments",
  "colab": {
   "collapsed_sections": [],
   "name": "Copy of DS_Proyecto_03_SR.ipynb",
   "provenance": [
    {
     "file_id": "1byeX_htRp3NqV08X3eLlWIp02cnPb_WP",
     "timestamp": 1627943542515
    }
   ]
  },
  "kernelspec": {
   "display_name": "Python 3",
   "language": "python",
   "name": "python3"
  },
  "language_info": {
   "codemirror_mode": {
    "name": "ipython",
    "version": 3
   },
   "file_extension": ".py",
   "mimetype": "text/x-python",
   "name": "python",
   "nbconvert_exporter": "python",
   "pygments_lexer": "ipython3",
   "version": "3.9.2"
<<<<<<< HEAD
  },
  "toc-autonumbering": false,
  "toc-showcode": false,
  "toc-showmarkdowntxt": true,
  "toc-showtags": false
 },
 "nbformat": 4,
 "nbformat_minor": 4
=======
  }
 },
 "nbformat": 4,
 "nbformat_minor": 1
>>>>>>> 8fc0c4141e975876075e6bd418e426caf195b73e
}
