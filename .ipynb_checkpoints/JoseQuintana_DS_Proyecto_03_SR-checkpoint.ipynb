{
 "cells": [
  {
   "cell_type": "markdown",
   "metadata": {
    "id": "gzJLet17WTzh"
   },
   "source": [
    "# Proyecto 03 - Sistemas de Recomendación\n",
    "\n",
    "## Dataset: STEAM\n",
    "\n",
    "**Recuerda descargar el dataset de [aquí](https://github.com/kang205/SASRec). Son dos archivos, uno de calificaciones y otro de información sobre los juegos.**\n",
    "\n",
    "En este notebook te dejamos unas celdas para que puedas comenzar a trabajar con este dataset. Sin embargo, **deberás** modificarlas para hacer un mejor manejo de datos. Algunas cosas a las que deberás prestar atención (tal vez no a todas):\n",
    "1. Tipos de datos: elige tipos de datos apropiados para cada columna.\n",
    "2. Descartar columnas poco informativas.\n",
    "3. Guardar en memoria datasets preprocesados para no tener que repetir código que tarde en correr.\n",
    "\n",
    "### Exploración de datos\n",
    "\n",
    "Dedícale un buen tiempo a hacer un Análisis Exploratorio de Datos. Elige preguntas que creas que puedas responder con este dataset. Por ejemplo, ¿cuáles son los juegos más populares?¿Y los menos populares?\n",
    "\n",
    "### Filtro Colaborativo\n",
    "\n",
    "Deberás implementar un sistema de recomendación colaborativo para este dataset. Ten en cuenta:\n",
    "\n",
    "1. Haz todas las transformaciones de datos que consideres necesarias. Justifica.\n",
    "1. Evalúa de forma apropiada sus resultados. Justifica la métrica elegida.\n",
    "1. Elige un modelo benchmark y compara tus resultados con este modelo.\n",
    "1. Optimiza los hiperparámetros de tu modelo.\n",
    "\n",
    "Puedes implementar un filtro colaborativo a partir de la similitud coseno o índice de Jaccard. ¿Puedes utilizar los métodos de la librería Surprise? Si no es así, busca implementaciones (por ejemplo, nuevas librerías) que sean apropiadas.\n",
    "\n",
    "Para comenzar a trabajar, puedes asumir que cada entrada es un enlace entre una persona usuaria y un item, **independientemente** de si la crítica es buena o mala. \n",
    "\n",
    "### Para pensar, investigar y, opcionalmente, implementar\n",
    "1. ¿Cómo harías para ponerle un valor a la calificación?\n",
    "1. ¿Cómo harías para agregar contenido? Por ejemplo, cuentas con el género, precio, fecha de lanzamiento y más información de los juegos.\n",
    "1. ¿Hay algo que te gustaría investigar o probar?\n",
    "\n",
    "### **¡Tómate tiempo para investigar y leer mucho!**"
   ]
  },
  {
   "cell_type": "code",
   "execution_count": 1,
   "metadata": {},
   "outputs": [],
   "source": [
    "# Importamos las librerías que vamos a necesitar\n",
    "import numpy as np\n",
    "import pandas as pd\n",
    "import matplotlib.pyplot as plt\n",
    "import matplotlib.ticker as ticker\n",
    "import seaborn as sns\n",
    "from tqdm.notebook import tqdm\n",
    "import gzip\n",
    "from langdetect import detect\n",
    "from textblob import TextBlob\n",
    "from wordcloud import WordCloud\n",
    "import re\n",
    "from nltk.tokenize import RegexpTokenizer\n",
    "from nltk.stem import PorterStemmer\n",
    "from nltk.corpus import stopwords"
   ]
  },
  {
   "cell_type": "code",
   "execution_count": 2,
   "metadata": {},
   "outputs": [],
   "source": [
    "# Le doy formato a los gráficos\n",
    "sns.set_style(\"darkgrid\")\n",
    "plt.rc('font', size=10)\n",
    "plt.rc('axes', titlesize=16)\n",
    "plt.rc('figure', titlesize=16)\n",
    "plt.rc('axes', labelsize=14) \n",
    "plt.rc('xtick', labelsize=12) \n",
    "plt.rc('ytick', labelsize=12) "
   ]
  },
  {
   "cell_type": "code",
   "execution_count": 3,
   "metadata": {},
   "outputs": [
    {
     "data": {
      "text/html": [
       "<style>.container { width:100% !important; }</style>"
      ],
      "text/plain": [
       "<IPython.core.display.HTML object>"
      ]
     },
     "metadata": {},
     "output_type": "display_data"
    },
    {
     "name": "stdout",
     "output_type": "stream",
     "text": [
      "time: 0 ns (started: 2021-08-21 21:58:45 -03:00)\n"
     ]
    }
   ],
   "source": [
    "#Seteamos para que no utilice notacion cientifica\n",
    "pd.options.display.float_format = '{:.4f}'.format\n",
    "#Seteo para que el máximo de columnas que muestra al levantar una base sean 500\n",
    "pd.set_option('display.max_columns',500)\n",
    "#Estos códigos hacen que la visualización de la consola abarque toda la pantalla (sin los recortes a los costados). Tambien hacen que al mostrar dataframes podamos ver todas las columnas que tiene.\n",
    "from IPython.core.display import display, HTML\n",
    "display(HTML(\"<style>.container { width:100% !important; }</style>\"))\n",
    "# Instanciamos método para ver el progreso de las operaciones sobre sobre los dataframes\n",
    "tqdm.pandas()\n",
    "# Indicador de tiempo de ejecución\n",
    "%load_ext autotime"
   ]
  },
  {
   "cell_type": "code",
   "execution_count": 4,
   "metadata": {},
   "outputs": [
    {
     "name": "stdout",
     "output_type": "stream",
     "text": [
      "time: 0 ns (started: 2021-08-21 21:58:45 -03:00)\n"
     ]
    }
   ],
   "source": [
    "# Definimos si queres procesar el dataset crudo\n",
    "READ_RAW = True\n",
    "DETECT_LANG = True"
   ]
  },
  {
   "cell_type": "code",
   "execution_count": 5,
   "metadata": {
    "id": "lWZhtUxEWTzj"
   },
   "outputs": [
    {
     "name": "stdout",
     "output_type": "stream",
     "text": [
      "time: 0 ns (started: 2021-08-21 21:58:45 -03:00)\n"
     ]
    }
   ],
   "source": [
    "def parse(path):\n",
    "    g = gzip.open(path, 'r')\n",
    "    for l in g:\n",
    "        yield eval(l)"
   ]
  },
  {
   "cell_type": "markdown",
   "metadata": {
    "id": "BmEM25k4WTzw"
   },
   "source": [
    "**Reviews**"
   ]
  },
  {
   "cell_type": "code",
   "execution_count": 6,
   "metadata": {
    "id": "abAXItn1WTz0"
   },
   "outputs": [
    {
     "data": {
      "application/vnd.jupyter.widget-view+json": {
       "model_id": "8c473c32831a4e20a65aa8541f4f9e8c",
       "version_major": 2,
       "version_minor": 0
      },
      "text/plain": [
       "0it [00:00, ?it/s]"
      ]
     },
     "metadata": {},
     "output_type": "display_data"
    },
    {
     "name": "stdout",
     "output_type": "stream",
     "text": [
      "time: 8min 47s (started: 2021-08-21 21:58:45 -03:00)\n"
     ]
    }
   ],
   "source": [
    "if READ_RAW:\n",
    "    contador = 0\n",
    "    data_reviews = []\n",
    "    # Vamos a guardar una de cada 10 reviews para no llenar la memoria RAM. Si pones n = 3, \n",
    "    # abrira uno de cada tres, y asi.\n",
    "    n = 10\n",
    "    for l in tqdm(parse('steam_reviews.json.gz')):\n",
    "        if contador%n == 0:\n",
    "            data_reviews.append(l)\n",
    "        else:\n",
    "            pass\n",
    "        contador += 1\n",
    "    data_reviews = pd.DataFrame(data_reviews)"
   ]
  },
  {
   "cell_type": "code",
   "execution_count": 7,
   "metadata": {},
   "outputs": [
    {
     "name": "stdout",
     "output_type": "stream",
     "text": [
      "time: 14.5 s (started: 2021-08-21 22:07:33 -03:00)\n"
     ]
    }
   ],
   "source": [
    "if READ_RAW:\n",
    "    data_reviews.to_csv('data_reviews.csv', index_label='index')\n",
    "else:\n",
    "    data_reviews = pd.read_csv('data_reviews.csv', index_label='index')"
   ]
  },
  {
   "cell_type": "code",
   "execution_count": 8,
   "metadata": {
    "id": "j24F0ZaYWT0E"
   },
   "outputs": [
    {
     "data": {
      "text/html": [
       "<div>\n",
       "<style scoped>\n",
       "    .dataframe tbody tr th:only-of-type {\n",
       "        vertical-align: middle;\n",
       "    }\n",
       "\n",
       "    .dataframe tbody tr th {\n",
       "        vertical-align: top;\n",
       "    }\n",
       "\n",
       "    .dataframe thead th {\n",
       "        text-align: right;\n",
       "    }\n",
       "</style>\n",
       "<table border=\"1\" class=\"dataframe\">\n",
       "  <thead>\n",
       "    <tr style=\"text-align: right;\">\n",
       "      <th></th>\n",
       "      <th>username</th>\n",
       "      <th>hours</th>\n",
       "      <th>products</th>\n",
       "      <th>product_id</th>\n",
       "      <th>page_order</th>\n",
       "      <th>date</th>\n",
       "      <th>text</th>\n",
       "      <th>early_access</th>\n",
       "      <th>page</th>\n",
       "      <th>user_id</th>\n",
       "      <th>compensation</th>\n",
       "      <th>found_funny</th>\n",
       "    </tr>\n",
       "  </thead>\n",
       "  <tbody>\n",
       "    <tr>\n",
       "      <th>0</th>\n",
       "      <td>Chaos Syren</td>\n",
       "      <td>0.1000</td>\n",
       "      <td>41.0000</td>\n",
       "      <td>725280</td>\n",
       "      <td>0</td>\n",
       "      <td>2017-12-17</td>\n",
       "      <td>This would not be acceptable as an entertainme...</td>\n",
       "      <td>False</td>\n",
       "      <td>1</td>\n",
       "      <td>NaN</td>\n",
       "      <td>NaN</td>\n",
       "      <td>NaN</td>\n",
       "    </tr>\n",
       "    <tr>\n",
       "      <th>1</th>\n",
       "      <td>Ariman1</td>\n",
       "      <td>13.2000</td>\n",
       "      <td>1386.0000</td>\n",
       "      <td>328100</td>\n",
       "      <td>2</td>\n",
       "      <td>2017-08-02</td>\n",
       "      <td>Addictive RPG ! Works fine on linux though it ...</td>\n",
       "      <td>False</td>\n",
       "      <td>1</td>\n",
       "      <td>NaN</td>\n",
       "      <td>NaN</td>\n",
       "      <td>NaN</td>\n",
       "    </tr>\n",
       "    <tr>\n",
       "      <th>2</th>\n",
       "      <td>freakfantom</td>\n",
       "      <td>0.1000</td>\n",
       "      <td>1706.0000</td>\n",
       "      <td>725280</td>\n",
       "      <td>5</td>\n",
       "      <td>2017-11-12</td>\n",
       "      <td>Прикольная стрелялка. Взял дешево на распродаже.</td>\n",
       "      <td>False</td>\n",
       "      <td>1</td>\n",
       "      <td>NaN</td>\n",
       "      <td>NaN</td>\n",
       "      <td>NaN</td>\n",
       "    </tr>\n",
       "    <tr>\n",
       "      <th>3</th>\n",
       "      <td>The_Cpt_FROGGY</td>\n",
       "      <td>7.8000</td>\n",
       "      <td>2217.0000</td>\n",
       "      <td>631920</td>\n",
       "      <td>0</td>\n",
       "      <td>2017-12-11</td>\n",
       "      <td>Somewhere on Zibylon:\\n~~~~~~~~~~~~~~~~~~\\nZib...</td>\n",
       "      <td>False</td>\n",
       "      <td>1</td>\n",
       "      <td>76561198003030375</td>\n",
       "      <td>Product received for free</td>\n",
       "      <td>NaN</td>\n",
       "    </tr>\n",
       "    <tr>\n",
       "      <th>4</th>\n",
       "      <td>the_maker988</td>\n",
       "      <td>8.2000</td>\n",
       "      <td>18.0000</td>\n",
       "      <td>35140</td>\n",
       "      <td>7</td>\n",
       "      <td>2018-01-02</td>\n",
       "      <td>This game was way to linear for me, and compar...</td>\n",
       "      <td>False</td>\n",
       "      <td>1</td>\n",
       "      <td>76561198353396844</td>\n",
       "      <td>NaN</td>\n",
       "      <td>NaN</td>\n",
       "    </tr>\n",
       "    <tr>\n",
       "      <th>5</th>\n",
       "      <td>Szudof</td>\n",
       "      <td>0.2000</td>\n",
       "      <td>155.0000</td>\n",
       "      <td>288690</td>\n",
       "      <td>0</td>\n",
       "      <td>2016-08-31</td>\n",
       "      <td>&lt;23:32:55&gt; \"Pit\": Hello, my name is dominik di...</td>\n",
       "      <td>False</td>\n",
       "      <td>1</td>\n",
       "      <td>NaN</td>\n",
       "      <td>Product received for free</td>\n",
       "      <td>3.0000</td>\n",
       "    </tr>\n",
       "    <tr>\n",
       "      <th>6</th>\n",
       "      <td>Vonder</td>\n",
       "      <td>2.7000</td>\n",
       "      <td>264.0000</td>\n",
       "      <td>35600</td>\n",
       "      <td>3</td>\n",
       "      <td>2017-04-15</td>\n",
       "      <td>I like the art style and the idea but what a b...</td>\n",
       "      <td>False</td>\n",
       "      <td>1</td>\n",
       "      <td>76561198113497324</td>\n",
       "      <td>NaN</td>\n",
       "      <td>NaN</td>\n",
       "    </tr>\n",
       "    <tr>\n",
       "      <th>7</th>\n",
       "      <td>LucaFox</td>\n",
       "      <td>4.0000</td>\n",
       "      <td>136.0000</td>\n",
       "      <td>620900</td>\n",
       "      <td>3</td>\n",
       "      <td>2017-09-11</td>\n",
       "      <td>Very, very good game. I love dungeon crawlers,...</td>\n",
       "      <td>False</td>\n",
       "      <td>1</td>\n",
       "      <td>76561198146674484</td>\n",
       "      <td>NaN</td>\n",
       "      <td>1.0000</td>\n",
       "    </tr>\n",
       "    <tr>\n",
       "      <th>8</th>\n",
       "      <td>rampage1209</td>\n",
       "      <td>34.8000</td>\n",
       "      <td>3.0000</td>\n",
       "      <td>1840</td>\n",
       "      <td>4</td>\n",
       "      <td>2018-01-04</td>\n",
       "      <td>WAY PAST COOL</td>\n",
       "      <td>False</td>\n",
       "      <td>1</td>\n",
       "      <td>76561198080474371</td>\n",
       "      <td>NaN</td>\n",
       "      <td>NaN</td>\n",
       "    </tr>\n",
       "    <tr>\n",
       "      <th>9</th>\n",
       "      <td>Devil Azite</td>\n",
       "      <td>0.1000</td>\n",
       "      <td>548.0000</td>\n",
       "      <td>671270</td>\n",
       "      <td>5</td>\n",
       "      <td>2017-07-09</td>\n",
       "      <td>Putting a hat on your head has disasterous rep...</td>\n",
       "      <td>False</td>\n",
       "      <td>1</td>\n",
       "      <td>NaN</td>\n",
       "      <td>Product received for free</td>\n",
       "      <td>1.0000</td>\n",
       "    </tr>\n",
       "    <tr>\n",
       "      <th>10</th>\n",
       "      <td>MrNinjaSquirrel</td>\n",
       "      <td>1.2000</td>\n",
       "      <td>1720.0000</td>\n",
       "      <td>288690</td>\n",
       "      <td>2</td>\n",
       "      <td>2014-12-17</td>\n",
       "      <td>\"It's like Sudoku, but as a ball!\"\\nI have to ...</td>\n",
       "      <td>False</td>\n",
       "      <td>1</td>\n",
       "      <td>NaN</td>\n",
       "      <td>NaN</td>\n",
       "      <td>NaN</td>\n",
       "    </tr>\n",
       "    <tr>\n",
       "      <th>11</th>\n",
       "      <td>Puddle</td>\n",
       "      <td>1.2000</td>\n",
       "      <td>511.0000</td>\n",
       "      <td>308040</td>\n",
       "      <td>5</td>\n",
       "      <td>2017-12-30</td>\n",
       "      <td>IF THIS GAME IS NOT ON SALE DO NOT PURCHASE!!!...</td>\n",
       "      <td>False</td>\n",
       "      <td>1</td>\n",
       "      <td>76561197991103051</td>\n",
       "      <td>NaN</td>\n",
       "      <td>NaN</td>\n",
       "    </tr>\n",
       "    <tr>\n",
       "      <th>12</th>\n",
       "      <td>JKDarkseid</td>\n",
       "      <td>3.0000</td>\n",
       "      <td>468.0000</td>\n",
       "      <td>302390</td>\n",
       "      <td>4</td>\n",
       "      <td>2016-12-02</td>\n",
       "      <td>I want to recommend this as a little point and...</td>\n",
       "      <td>False</td>\n",
       "      <td>1</td>\n",
       "      <td>NaN</td>\n",
       "      <td>NaN</td>\n",
       "      <td>NaN</td>\n",
       "    </tr>\n",
       "    <tr>\n",
       "      <th>13</th>\n",
       "      <td>Sir Dan the Super Chivalrous</td>\n",
       "      <td>27.0000</td>\n",
       "      <td>16.0000</td>\n",
       "      <td>506510</td>\n",
       "      <td>5</td>\n",
       "      <td>2017-12-19</td>\n",
       "      <td>is more than a love letter to SNES era RPGS. T...</td>\n",
       "      <td>False</td>\n",
       "      <td>1</td>\n",
       "      <td>NaN</td>\n",
       "      <td>NaN</td>\n",
       "      <td>NaN</td>\n",
       "    </tr>\n",
       "    <tr>\n",
       "      <th>14</th>\n",
       "      <td>tehwave</td>\n",
       "      <td>0.1000</td>\n",
       "      <td>424.0000</td>\n",
       "      <td>671270</td>\n",
       "      <td>8</td>\n",
       "      <td>2017-07-05</td>\n",
       "      <td>Queen Elizabeth said that I'd like it, and she...</td>\n",
       "      <td>False</td>\n",
       "      <td>1</td>\n",
       "      <td>NaN</td>\n",
       "      <td>Product received for free</td>\n",
       "      <td>3.0000</td>\n",
       "    </tr>\n",
       "    <tr>\n",
       "      <th>15</th>\n",
       "      <td>Hanzo</td>\n",
       "      <td>0.2000</td>\n",
       "      <td>531.0000</td>\n",
       "      <td>8880</td>\n",
       "      <td>6</td>\n",
       "      <td>2017-09-09</td>\n",
       "      <td>Freidom force is game made in late 70s by some...</td>\n",
       "      <td>False</td>\n",
       "      <td>1</td>\n",
       "      <td>NaN</td>\n",
       "      <td>NaN</td>\n",
       "      <td>3.0000</td>\n",
       "    </tr>\n",
       "    <tr>\n",
       "      <th>16</th>\n",
       "      <td>Harry</td>\n",
       "      <td>0.4000</td>\n",
       "      <td>353.0000</td>\n",
       "      <td>302390</td>\n",
       "      <td>7</td>\n",
       "      <td>2016-02-09</td>\n",
       "      <td>Be afraid!\\nBe very afraid...\\nWhy?\\nWell, cer...</td>\n",
       "      <td>False</td>\n",
       "      <td>1</td>\n",
       "      <td>76561198080323687</td>\n",
       "      <td>NaN</td>\n",
       "      <td>8.0000</td>\n",
       "    </tr>\n",
       "    <tr>\n",
       "      <th>17</th>\n",
       "      <td>Erenussocrates</td>\n",
       "      <td>1.3000</td>\n",
       "      <td>853.0000</td>\n",
       "      <td>363520</td>\n",
       "      <td>8</td>\n",
       "      <td>2017-08-28</td>\n",
       "      <td>It was dull, and worse than my expectations.</td>\n",
       "      <td>False</td>\n",
       "      <td>1</td>\n",
       "      <td>76561198060601878</td>\n",
       "      <td>NaN</td>\n",
       "      <td>NaN</td>\n",
       "    </tr>\n",
       "    <tr>\n",
       "      <th>18</th>\n",
       "      <td>MLGarbage</td>\n",
       "      <td>9.5000</td>\n",
       "      <td>38.0000</td>\n",
       "      <td>35140</td>\n",
       "      <td>1</td>\n",
       "      <td>2018-01-02</td>\n",
       "      <td>Fun Game. I played shadow of mordor before pla...</td>\n",
       "      <td>False</td>\n",
       "      <td>2</td>\n",
       "      <td>76561198292325099</td>\n",
       "      <td>NaN</td>\n",
       "      <td>NaN</td>\n",
       "    </tr>\n",
       "    <tr>\n",
       "      <th>19</th>\n",
       "      <td>dll3z</td>\n",
       "      <td>0.4000</td>\n",
       "      <td>314.0000</td>\n",
       "      <td>328100</td>\n",
       "      <td>5</td>\n",
       "      <td>2017-03-07</td>\n",
       "      <td>do not buy this game</td>\n",
       "      <td>False</td>\n",
       "      <td>2</td>\n",
       "      <td>NaN</td>\n",
       "      <td>NaN</td>\n",
       "      <td>NaN</td>\n",
       "    </tr>\n",
       "  </tbody>\n",
       "</table>\n",
       "</div>"
      ],
      "text/plain": [
       "                        username   hours  products product_id  page_order  \\\n",
       "0                    Chaos Syren  0.1000   41.0000     725280           0   \n",
       "1                        Ariman1 13.2000 1386.0000     328100           2   \n",
       "2                    freakfantom  0.1000 1706.0000     725280           5   \n",
       "3                 The_Cpt_FROGGY  7.8000 2217.0000     631920           0   \n",
       "4                   the_maker988  8.2000   18.0000      35140           7   \n",
       "5                         Szudof  0.2000  155.0000     288690           0   \n",
       "6                         Vonder  2.7000  264.0000      35600           3   \n",
       "7                        LucaFox  4.0000  136.0000     620900           3   \n",
       "8                    rampage1209 34.8000    3.0000       1840           4   \n",
       "9                    Devil Azite  0.1000  548.0000     671270           5   \n",
       "10               MrNinjaSquirrel  1.2000 1720.0000     288690           2   \n",
       "11                        Puddle  1.2000  511.0000     308040           5   \n",
       "12                    JKDarkseid  3.0000  468.0000     302390           4   \n",
       "13  Sir Dan the Super Chivalrous 27.0000   16.0000     506510           5   \n",
       "14                       tehwave  0.1000  424.0000     671270           8   \n",
       "15                         Hanzo  0.2000  531.0000       8880           6   \n",
       "16                         Harry  0.4000  353.0000     302390           7   \n",
       "17                Erenussocrates  1.3000  853.0000     363520           8   \n",
       "18                     MLGarbage  9.5000   38.0000      35140           1   \n",
       "19                         dll3z  0.4000  314.0000     328100           5   \n",
       "\n",
       "          date                                               text  \\\n",
       "0   2017-12-17  This would not be acceptable as an entertainme...   \n",
       "1   2017-08-02  Addictive RPG ! Works fine on linux though it ...   \n",
       "2   2017-11-12   Прикольная стрелялка. Взял дешево на распродаже.   \n",
       "3   2017-12-11  Somewhere on Zibylon:\\n~~~~~~~~~~~~~~~~~~\\nZib...   \n",
       "4   2018-01-02  This game was way to linear for me, and compar...   \n",
       "5   2016-08-31  <23:32:55> \"Pit\": Hello, my name is dominik di...   \n",
       "6   2017-04-15  I like the art style and the idea but what a b...   \n",
       "7   2017-09-11  Very, very good game. I love dungeon crawlers,...   \n",
       "8   2018-01-04                                      WAY PAST COOL   \n",
       "9   2017-07-09  Putting a hat on your head has disasterous rep...   \n",
       "10  2014-12-17  \"It's like Sudoku, but as a ball!\"\\nI have to ...   \n",
       "11  2017-12-30  IF THIS GAME IS NOT ON SALE DO NOT PURCHASE!!!...   \n",
       "12  2016-12-02  I want to recommend this as a little point and...   \n",
       "13  2017-12-19  is more than a love letter to SNES era RPGS. T...   \n",
       "14  2017-07-05  Queen Elizabeth said that I'd like it, and she...   \n",
       "15  2017-09-09  Freidom force is game made in late 70s by some...   \n",
       "16  2016-02-09  Be afraid!\\nBe very afraid...\\nWhy?\\nWell, cer...   \n",
       "17  2017-08-28       It was dull, and worse than my expectations.   \n",
       "18  2018-01-02  Fun Game. I played shadow of mordor before pla...   \n",
       "19  2017-03-07                               do not buy this game   \n",
       "\n",
       "    early_access  page            user_id               compensation  \\\n",
       "0          False     1                NaN                        NaN   \n",
       "1          False     1                NaN                        NaN   \n",
       "2          False     1                NaN                        NaN   \n",
       "3          False     1  76561198003030375  Product received for free   \n",
       "4          False     1  76561198353396844                        NaN   \n",
       "5          False     1                NaN  Product received for free   \n",
       "6          False     1  76561198113497324                        NaN   \n",
       "7          False     1  76561198146674484                        NaN   \n",
       "8          False     1  76561198080474371                        NaN   \n",
       "9          False     1                NaN  Product received for free   \n",
       "10         False     1                NaN                        NaN   \n",
       "11         False     1  76561197991103051                        NaN   \n",
       "12         False     1                NaN                        NaN   \n",
       "13         False     1                NaN                        NaN   \n",
       "14         False     1                NaN  Product received for free   \n",
       "15         False     1                NaN                        NaN   \n",
       "16         False     1  76561198080323687                        NaN   \n",
       "17         False     1  76561198060601878                        NaN   \n",
       "18         False     2  76561198292325099                        NaN   \n",
       "19         False     2                NaN                        NaN   \n",
       "\n",
       "    found_funny  \n",
       "0           NaN  \n",
       "1           NaN  \n",
       "2           NaN  \n",
       "3           NaN  \n",
       "4           NaN  \n",
       "5        3.0000  \n",
       "6           NaN  \n",
       "7        1.0000  \n",
       "8           NaN  \n",
       "9        1.0000  \n",
       "10          NaN  \n",
       "11          NaN  \n",
       "12          NaN  \n",
       "13          NaN  \n",
       "14       3.0000  \n",
       "15       3.0000  \n",
       "16       8.0000  \n",
       "17          NaN  \n",
       "18          NaN  \n",
       "19          NaN  "
      ]
     },
     "execution_count": 8,
     "metadata": {},
     "output_type": "execute_result"
    },
    {
     "name": "stdout",
     "output_type": "stream",
     "text": [
      "time: 16 ms (started: 2021-08-21 22:07:47 -03:00)\n"
     ]
    }
   ],
   "source": [
    "data_reviews.head(20)"
   ]
  },
  {
   "cell_type": "code",
   "execution_count": 9,
   "metadata": {
    "id": "8F-EVRZ4WT0L"
   },
   "outputs": [
    {
     "data": {
      "text/plain": [
       "username             0\n",
       "hours             2637\n",
       "products          1566\n",
       "product_id           0\n",
       "page_order           0\n",
       "date                 0\n",
       "text                 0\n",
       "early_access         0\n",
       "page                 0\n",
       "user_id         461967\n",
       "compensation    764719\n",
       "found_funny     659143\n",
       "dtype: int64"
      ]
     },
     "execution_count": 9,
     "metadata": {},
     "output_type": "execute_result"
    },
    {
     "name": "stdout",
     "output_type": "stream",
     "text": [
      "time: 359 ms (started: 2021-08-21 22:07:47 -03:00)\n"
     ]
    }
   ],
   "source": [
    "data_reviews.isna().sum()"
   ]
  },
  {
   "cell_type": "markdown",
   "metadata": {
    "id": "04ed3teRWT0T"
   },
   "source": [
    "**Games**"
   ]
  },
  {
   "cell_type": "code",
   "execution_count": 10,
   "metadata": {
    "id": "8wRb24Y5WT0U"
   },
   "outputs": [
    {
     "name": "stdout",
     "output_type": "stream",
     "text": [
      "time: 3.98 s (started: 2021-08-21 22:07:48 -03:00)\n"
     ]
    }
   ],
   "source": [
    "data_games = []\n",
    "for l in parse('steam_games.json.gz'):\n",
    "    data_games.append(l)\n",
    "data_games = pd.DataFrame(data_games)"
   ]
  },
  {
   "cell_type": "code",
   "execution_count": 11,
   "metadata": {
    "id": "sVR0Cs6SWT0b"
   },
   "outputs": [
    {
     "data": {
      "text/html": [
       "<div>\n",
       "<style scoped>\n",
       "    .dataframe tbody tr th:only-of-type {\n",
       "        vertical-align: middle;\n",
       "    }\n",
       "\n",
       "    .dataframe tbody tr th {\n",
       "        vertical-align: top;\n",
       "    }\n",
       "\n",
       "    .dataframe thead th {\n",
       "        text-align: right;\n",
       "    }\n",
       "</style>\n",
       "<table border=\"1\" class=\"dataframe\">\n",
       "  <thead>\n",
       "    <tr style=\"text-align: right;\">\n",
       "      <th></th>\n",
       "      <th>publisher</th>\n",
       "      <th>genres</th>\n",
       "      <th>app_name</th>\n",
       "      <th>title</th>\n",
       "      <th>url</th>\n",
       "      <th>release_date</th>\n",
       "      <th>tags</th>\n",
       "      <th>discount_price</th>\n",
       "      <th>reviews_url</th>\n",
       "      <th>specs</th>\n",
       "      <th>price</th>\n",
       "      <th>early_access</th>\n",
       "      <th>id</th>\n",
       "      <th>developer</th>\n",
       "      <th>sentiment</th>\n",
       "      <th>metascore</th>\n",
       "    </tr>\n",
       "  </thead>\n",
       "  <tbody>\n",
       "    <tr>\n",
       "      <th>0</th>\n",
       "      <td>Kotoshiro</td>\n",
       "      <td>[Action, Casual, Indie, Simulation, Strategy]</td>\n",
       "      <td>Lost Summoner Kitty</td>\n",
       "      <td>Lost Summoner Kitty</td>\n",
       "      <td>http://store.steampowered.com/app/761140/Lost_...</td>\n",
       "      <td>2018-01-04</td>\n",
       "      <td>[Strategy, Action, Indie, Casual, Simulation]</td>\n",
       "      <td>4.4900</td>\n",
       "      <td>http://steamcommunity.com/app/761140/reviews/?...</td>\n",
       "      <td>[Single-player]</td>\n",
       "      <td>4.9900</td>\n",
       "      <td>False</td>\n",
       "      <td>761140</td>\n",
       "      <td>Kotoshiro</td>\n",
       "      <td>NaN</td>\n",
       "      <td>NaN</td>\n",
       "    </tr>\n",
       "    <tr>\n",
       "      <th>1</th>\n",
       "      <td>Making Fun, Inc.</td>\n",
       "      <td>[Free to Play, Indie, RPG, Strategy]</td>\n",
       "      <td>Ironbound</td>\n",
       "      <td>Ironbound</td>\n",
       "      <td>http://store.steampowered.com/app/643980/Ironb...</td>\n",
       "      <td>2018-01-04</td>\n",
       "      <td>[Free to Play, Strategy, Indie, RPG, Card Game...</td>\n",
       "      <td>NaN</td>\n",
       "      <td>http://steamcommunity.com/app/643980/reviews/?...</td>\n",
       "      <td>[Single-player, Multi-player, Online Multi-Pla...</td>\n",
       "      <td>Free To Play</td>\n",
       "      <td>False</td>\n",
       "      <td>643980</td>\n",
       "      <td>Secret Level SRL</td>\n",
       "      <td>Mostly Positive</td>\n",
       "      <td>NaN</td>\n",
       "    </tr>\n",
       "    <tr>\n",
       "      <th>2</th>\n",
       "      <td>Poolians.com</td>\n",
       "      <td>[Casual, Free to Play, Indie, Simulation, Sports]</td>\n",
       "      <td>Real Pool 3D - Poolians</td>\n",
       "      <td>Real Pool 3D - Poolians</td>\n",
       "      <td>http://store.steampowered.com/app/670290/Real_...</td>\n",
       "      <td>2017-07-24</td>\n",
       "      <td>[Free to Play, Simulation, Sports, Casual, Ind...</td>\n",
       "      <td>NaN</td>\n",
       "      <td>http://steamcommunity.com/app/670290/reviews/?...</td>\n",
       "      <td>[Single-player, Multi-player, Online Multi-Pla...</td>\n",
       "      <td>Free to Play</td>\n",
       "      <td>False</td>\n",
       "      <td>670290</td>\n",
       "      <td>Poolians.com</td>\n",
       "      <td>Mostly Positive</td>\n",
       "      <td>NaN</td>\n",
       "    </tr>\n",
       "    <tr>\n",
       "      <th>3</th>\n",
       "      <td>彼岸领域</td>\n",
       "      <td>[Action, Adventure, Casual]</td>\n",
       "      <td>弹炸人2222</td>\n",
       "      <td>弹炸人2222</td>\n",
       "      <td>http://store.steampowered.com/app/767400/2222/</td>\n",
       "      <td>2017-12-07</td>\n",
       "      <td>[Action, Adventure, Casual]</td>\n",
       "      <td>0.8300</td>\n",
       "      <td>http://steamcommunity.com/app/767400/reviews/?...</td>\n",
       "      <td>[Single-player]</td>\n",
       "      <td>0.9900</td>\n",
       "      <td>False</td>\n",
       "      <td>767400</td>\n",
       "      <td>彼岸领域</td>\n",
       "      <td>NaN</td>\n",
       "      <td>NaN</td>\n",
       "    </tr>\n",
       "    <tr>\n",
       "      <th>4</th>\n",
       "      <td>NaN</td>\n",
       "      <td>NaN</td>\n",
       "      <td>Log Challenge</td>\n",
       "      <td>NaN</td>\n",
       "      <td>http://store.steampowered.com/app/773570/Log_C...</td>\n",
       "      <td>NaN</td>\n",
       "      <td>[Action, Indie, Casual, Sports]</td>\n",
       "      <td>1.7900</td>\n",
       "      <td>http://steamcommunity.com/app/773570/reviews/?...</td>\n",
       "      <td>[Single-player, Full controller support, HTC V...</td>\n",
       "      <td>2.9900</td>\n",
       "      <td>False</td>\n",
       "      <td>773570</td>\n",
       "      <td>NaN</td>\n",
       "      <td>NaN</td>\n",
       "      <td>NaN</td>\n",
       "    </tr>\n",
       "  </tbody>\n",
       "</table>\n",
       "</div>"
      ],
      "text/plain": [
       "          publisher                                             genres  \\\n",
       "0         Kotoshiro      [Action, Casual, Indie, Simulation, Strategy]   \n",
       "1  Making Fun, Inc.               [Free to Play, Indie, RPG, Strategy]   \n",
       "2      Poolians.com  [Casual, Free to Play, Indie, Simulation, Sports]   \n",
       "3              彼岸领域                        [Action, Adventure, Casual]   \n",
       "4               NaN                                                NaN   \n",
       "\n",
       "                  app_name                    title  \\\n",
       "0      Lost Summoner Kitty      Lost Summoner Kitty   \n",
       "1                Ironbound                Ironbound   \n",
       "2  Real Pool 3D - Poolians  Real Pool 3D - Poolians   \n",
       "3                  弹炸人2222                  弹炸人2222   \n",
       "4            Log Challenge                      NaN   \n",
       "\n",
       "                                                 url release_date  \\\n",
       "0  http://store.steampowered.com/app/761140/Lost_...   2018-01-04   \n",
       "1  http://store.steampowered.com/app/643980/Ironb...   2018-01-04   \n",
       "2  http://store.steampowered.com/app/670290/Real_...   2017-07-24   \n",
       "3     http://store.steampowered.com/app/767400/2222/   2017-12-07   \n",
       "4  http://store.steampowered.com/app/773570/Log_C...          NaN   \n",
       "\n",
       "                                                tags  discount_price  \\\n",
       "0      [Strategy, Action, Indie, Casual, Simulation]          4.4900   \n",
       "1  [Free to Play, Strategy, Indie, RPG, Card Game...             NaN   \n",
       "2  [Free to Play, Simulation, Sports, Casual, Ind...             NaN   \n",
       "3                        [Action, Adventure, Casual]          0.8300   \n",
       "4                    [Action, Indie, Casual, Sports]          1.7900   \n",
       "\n",
       "                                         reviews_url  \\\n",
       "0  http://steamcommunity.com/app/761140/reviews/?...   \n",
       "1  http://steamcommunity.com/app/643980/reviews/?...   \n",
       "2  http://steamcommunity.com/app/670290/reviews/?...   \n",
       "3  http://steamcommunity.com/app/767400/reviews/?...   \n",
       "4  http://steamcommunity.com/app/773570/reviews/?...   \n",
       "\n",
       "                                               specs         price  \\\n",
       "0                                    [Single-player]        4.9900   \n",
       "1  [Single-player, Multi-player, Online Multi-Pla...  Free To Play   \n",
       "2  [Single-player, Multi-player, Online Multi-Pla...  Free to Play   \n",
       "3                                    [Single-player]        0.9900   \n",
       "4  [Single-player, Full controller support, HTC V...        2.9900   \n",
       "\n",
       "   early_access      id         developer        sentiment metascore  \n",
       "0         False  761140         Kotoshiro              NaN       NaN  \n",
       "1         False  643980  Secret Level SRL  Mostly Positive       NaN  \n",
       "2         False  670290      Poolians.com  Mostly Positive       NaN  \n",
       "3         False  767400              彼岸领域              NaN       NaN  \n",
       "4         False  773570               NaN              NaN       NaN  "
      ]
     },
     "execution_count": 11,
     "metadata": {},
     "output_type": "execute_result"
    },
    {
     "name": "stdout",
     "output_type": "stream",
     "text": [
      "time: 47 ms (started: 2021-08-21 22:07:52 -03:00)\n"
     ]
    }
   ],
   "source": [
    "data_games.head()"
   ]
  },
  {
   "cell_type": "markdown",
   "metadata": {},
   "source": [
    "Vamos a reducir las columnas de *'data_reviews'*"
   ]
  },
  {
   "cell_type": "code",
   "execution_count": 12,
   "metadata": {},
   "outputs": [
    {
     "data": {
      "text/plain": [
       "Index(['username', 'hours', 'products', 'product_id', 'page_order', 'date',\n",
       "       'text', 'early_access', 'page', 'user_id', 'compensation',\n",
       "       'found_funny'],\n",
       "      dtype='object')"
      ]
     },
     "execution_count": 12,
     "metadata": {},
     "output_type": "execute_result"
    },
    {
     "name": "stdout",
     "output_type": "stream",
     "text": [
      "time: 0 ns (started: 2021-08-21 22:07:52 -03:00)\n"
     ]
    }
   ],
   "source": [
    "data_reviews.columns"
   ]
  },
  {
   "cell_type": "code",
   "execution_count": 13,
   "metadata": {},
   "outputs": [
    {
     "data": {
      "text/html": [
       "<div>\n",
       "<style scoped>\n",
       "    .dataframe tbody tr th:only-of-type {\n",
       "        vertical-align: middle;\n",
       "    }\n",
       "\n",
       "    .dataframe tbody tr th {\n",
       "        vertical-align: top;\n",
       "    }\n",
       "\n",
       "    .dataframe thead th {\n",
       "        text-align: right;\n",
       "    }\n",
       "</style>\n",
       "<table border=\"1\" class=\"dataframe\">\n",
       "  <thead>\n",
       "    <tr style=\"text-align: right;\">\n",
       "      <th></th>\n",
       "      <th>username</th>\n",
       "      <th>product_id</th>\n",
       "      <th>text</th>\n",
       "      <th>found_funny</th>\n",
       "      <th>hours</th>\n",
       "    </tr>\n",
       "  </thead>\n",
       "  <tbody>\n",
       "    <tr>\n",
       "      <th>0</th>\n",
       "      <td>Chaos Syren</td>\n",
       "      <td>725280</td>\n",
       "      <td>This would not be acceptable as an entertainme...</td>\n",
       "      <td>NaN</td>\n",
       "      <td>0.1000</td>\n",
       "    </tr>\n",
       "    <tr>\n",
       "      <th>1</th>\n",
       "      <td>Ariman1</td>\n",
       "      <td>328100</td>\n",
       "      <td>Addictive RPG ! Works fine on linux though it ...</td>\n",
       "      <td>NaN</td>\n",
       "      <td>13.2000</td>\n",
       "    </tr>\n",
       "    <tr>\n",
       "      <th>2</th>\n",
       "      <td>freakfantom</td>\n",
       "      <td>725280</td>\n",
       "      <td>Прикольная стрелялка. Взял дешево на распродаже.</td>\n",
       "      <td>NaN</td>\n",
       "      <td>0.1000</td>\n",
       "    </tr>\n",
       "    <tr>\n",
       "      <th>3</th>\n",
       "      <td>The_Cpt_FROGGY</td>\n",
       "      <td>631920</td>\n",
       "      <td>Somewhere on Zibylon:\\n~~~~~~~~~~~~~~~~~~\\nZib...</td>\n",
       "      <td>NaN</td>\n",
       "      <td>7.8000</td>\n",
       "    </tr>\n",
       "    <tr>\n",
       "      <th>4</th>\n",
       "      <td>the_maker988</td>\n",
       "      <td>35140</td>\n",
       "      <td>This game was way to linear for me, and compar...</td>\n",
       "      <td>NaN</td>\n",
       "      <td>8.2000</td>\n",
       "    </tr>\n",
       "  </tbody>\n",
       "</table>\n",
       "</div>"
      ],
      "text/plain": [
       "         username product_id  \\\n",
       "0     Chaos Syren     725280   \n",
       "1         Ariman1     328100   \n",
       "2     freakfantom     725280   \n",
       "3  The_Cpt_FROGGY     631920   \n",
       "4    the_maker988      35140   \n",
       "\n",
       "                                                text  found_funny   hours  \n",
       "0  This would not be acceptable as an entertainme...          NaN  0.1000  \n",
       "1  Addictive RPG ! Works fine on linux though it ...          NaN 13.2000  \n",
       "2   Прикольная стрелялка. Взял дешево на распродаже.          NaN  0.1000  \n",
       "3  Somewhere on Zibylon:\\n~~~~~~~~~~~~~~~~~~\\nZib...          NaN  7.8000  \n",
       "4  This game was way to linear for me, and compar...          NaN  8.2000  "
      ]
     },
     "execution_count": 13,
     "metadata": {},
     "output_type": "execute_result"
    },
    {
     "name": "stdout",
     "output_type": "stream",
     "text": [
      "time: 63 ms (started: 2021-08-21 22:07:52 -03:00)\n"
     ]
    }
   ],
   "source": [
    "df_reviews = data_reviews[['username', 'product_id', 'text', 'found_funny', 'hours']]\n",
    "df_reviews.head()"
   ]
  },
  {
   "cell_type": "markdown",
   "metadata": {},
   "source": [
    "Detectar idioma del texto"
   ]
  },
  {
   "cell_type": "code",
   "execution_count": 14,
   "metadata": {
    "scrolled": true
   },
   "outputs": [
    {
     "data": {
      "application/vnd.jupyter.widget-view+json": {
       "model_id": "8c689db886534e36ad888ccc6eda091d",
       "version_major": 2,
       "version_minor": 0
      },
      "text/plain": [
       "  0%|          | 0/779307 [00:00<?, ?it/s]"
      ]
     },
     "metadata": {},
     "output_type": "display_data"
    },
    {
     "name": "stdout",
     "output_type": "stream",
     "text": [
      "time: 1h 58min 46s (started: 2021-08-21 22:07:52 -03:00)\n"
     ]
    },
    {
     "name": "stderr",
     "output_type": "stream",
     "text": [
      "C:\\Users\\elmai\\AppData\\Local\\Temp/ipykernel_21032/1615007869.py:11: SettingWithCopyWarning: \n",
      "A value is trying to be set on a copy of a slice from a DataFrame.\n",
      "Try using .loc[row_indexer,col_indexer] = value instead\n",
      "\n",
      "See the caveats in the documentation: https://pandas.pydata.org/pandas-docs/stable/user_guide/indexing.html#returning-a-view-versus-a-copy\n",
      "  df_reviews['language'] = language\n"
     ]
    }
   ],
   "source": [
    "if DETECT_LANG:\n",
    "    language = []\n",
    "    for text in tqdm(df_reviews['text']):\n",
    "        try:\n",
    "            lang = detect(text)                                     \n",
    "        except:\n",
    "            lang = np.NaN\n",
    "\n",
    "        language.append(lang)\n",
    "\n",
    "    df_reviews['language'] = language\n",
    "    df_reviews"
   ]
  },
  {
   "cell_type": "code",
   "execution_count": 15,
   "metadata": {},
   "outputs": [
    {
     "name": "stdout",
     "output_type": "stream",
     "text": [
      "time: 11.3 s (started: 2021-08-22 00:06:39 -03:00)\n"
     ]
    }
   ],
   "source": [
    "if DETECT_LANG:\n",
    "    df_reviews.to_csv('df_reviews.csv', index_label='index')\n",
    "else:\n",
    "    df_reviews = pd.read_csv('df_reviews.csv', index_col='index')"
   ]
  },
  {
   "cell_type": "code",
   "execution_count": 16,
   "metadata": {},
   "outputs": [
    {
     "data": {
      "text/plain": [
       "array(['en', 'ru', 'so', 'pl', 'de', 'it', 'fr', 'ca', 'sl', 'tr', 'sw',\n",
       "       nan, 'hr', 'tl', 'no', 'es', 'ro', 'af', 'vi', 'pt', 'nl', 'sq',\n",
       "       'cy', 'et', 'id', 'lv', 'ja', 'lt', 'ko', 'th', 'da', 'hu', 'sk',\n",
       "       'el', 'zh-cn', 'fi', 'ar', 'sv', 'bg', 'cs', 'he', 'uk', 'fa',\n",
       "       'mk', 'zh-tw', 'bn', 'ta', 'kn'], dtype=object)"
      ]
     },
     "execution_count": 16,
     "metadata": {},
     "output_type": "execute_result"
    },
    {
     "name": "stdout",
     "output_type": "stream",
     "text": [
      "time: 47 ms (started: 2021-08-22 00:06:50 -03:00)\n"
     ]
    }
   ],
   "source": [
    "df_reviews.language.unique()"
   ]
  },
  {
   "cell_type": "code",
   "execution_count": 17,
   "metadata": {},
   "outputs": [
    {
     "name": "stdout",
     "output_type": "stream",
     "text": [
      "time: 109 ms (started: 2021-08-22 00:06:50 -03:00)\n"
     ]
    },
    {
     "name": "stderr",
     "output_type": "stream",
     "text": [
      "C:\\Users\\elmai\\AppData\\Local\\Temp/ipykernel_21032/1916846118.py:3: SettingWithCopyWarning: \n",
      "A value is trying to be set on a copy of a slice from a DataFrame.\n",
      "Try using .loc[row_indexer,col_indexer] = value instead\n",
      "\n",
      "See the caveats in the documentation: https://pandas.pydata.org/pandas-docs/stable/user_guide/indexing.html#returning-a-view-versus-a-copy\n",
      "  df_reviews['language'] = df_reviews['language'].map(code_dict)\n"
     ]
    }
   ],
   "source": [
    "code = pd.read_csv('lang_code3.csv')\n",
    "code_dict = code.set_index('code').to_dict()['language_name']\n",
    "df_reviews['language'] = df_reviews['language'].map(code_dict)"
   ]
  },
  {
   "cell_type": "code",
   "execution_count": 18,
   "metadata": {},
   "outputs": [
    {
     "name": "stdout",
     "output_type": "stream",
     "text": [
      "time: 422 ms (started: 2021-08-22 00:06:50 -03:00)\n"
     ]
    }
   ],
   "source": [
    "idiomas = df_reviews.groupby('language').count()['username'].sort_values(ascending=False)"
   ]
  },
  {
   "cell_type": "code",
   "execution_count": 19,
   "metadata": {},
   "outputs": [
    {
     "data": {
      "text/plain": [
       "Index(['English', 'Somali', 'German', 'Afrikaans', 'Tagalog', 'Welsh',\n",
       "       'Norwegian', 'Danish', 'Romanian', 'Spanish', 'Dutch', 'Catalan',\n",
       "       'Indonesian', 'French', 'Polish', 'Italian', 'Portuguese', 'Turkish',\n",
       "       'Estonian', 'Russian', 'Swahili', 'Slovenian', 'Albanian', 'Vietnamese',\n",
       "       'Croatian', 'Swedish', 'Finnish', 'Hungarian', 'Slovak', 'Czech',\n",
       "       'Latvian', 'Lithuanian', 'Thai', 'Japanese', 'Korean', 'Arabic',\n",
       "       'Bulgarian', 'Ukrainian', 'Macedonian', 'Greek', 'Hebrew', 'Persian',\n",
       "       'Tamil', 'Bengali', 'Kannada'],\n",
       "      dtype='object', name='language')"
      ]
     },
     "execution_count": 19,
     "metadata": {},
     "output_type": "execute_result"
    },
    {
     "name": "stdout",
     "output_type": "stream",
     "text": [
      "time: 0 ns (started: 2021-08-22 00:06:50 -03:00)\n"
     ]
    }
   ],
   "source": [
    "idiomas.index"
   ]
  },
  {
   "cell_type": "code",
   "execution_count": 20,
   "metadata": {},
   "outputs": [
    {
     "data": {
      "image/png": "[encoded data removed]",
      "text/plain": [
       "<Figure size 1800x432 with 1 Axes>"
      ]
     },
     "metadata": {},
     "output_type": "display_data"
    },
    {
     "name": "stdout",
     "output_type": "stream",
     "text": [
      "time: 1.83 s (started: 2021-08-22 00:06:50 -03:00)\n"
     ]
    }
   ],
   "source": [
    "# Graficamos el conteo de los distintos idiomas encontrados en el dataset\n",
    "plt.figure(figsize=(25,6))\n",
    "sns.countplot(data=df_reviews, x='language', order=idiomas.index[0:])\n",
    "plt.xticks(rotation=90)\n",
    "plt.show()"
   ]
  },
  {
   "cell_type": "markdown",
   "metadata": {},
   "source": [
    "Vemos claramante que el idioma predominantes es el inglés. Algo llamativo es que el segundo más abundante es el \"Somalí\". Vamos a analizar más en detalle, filtrando esas instancias."
   ]
  },
  {
   "cell_type": "code",
   "execution_count": 21,
   "metadata": {},
   "outputs": [
    {
     "data": {
      "text/html": [
       "<div>\n",
       "<style scoped>\n",
       "    .dataframe tbody tr th:only-of-type {\n",
       "        vertical-align: middle;\n",
       "    }\n",
       "\n",
       "    .dataframe tbody tr th {\n",
       "        vertical-align: top;\n",
       "    }\n",
       "\n",
       "    .dataframe thead th {\n",
       "        text-align: right;\n",
       "    }\n",
       "</style>\n",
       "<table border=\"1\" class=\"dataframe\">\n",
       "  <thead>\n",
       "    <tr style=\"text-align: right;\">\n",
       "      <th></th>\n",
       "      <th>username</th>\n",
       "      <th>product_id</th>\n",
       "      <th>text</th>\n",
       "      <th>found_funny</th>\n",
       "      <th>hours</th>\n",
       "      <th>language</th>\n",
       "    </tr>\n",
       "  </thead>\n",
       "  <tbody>\n",
       "    <tr>\n",
       "      <th>31</th>\n",
       "      <td>JessetheGengar</td>\n",
       "      <td>302390</td>\n",
       "      <td>baaaddddddd</td>\n",
       "      <td>NaN</td>\n",
       "      <td>0.4000</td>\n",
       "      <td>Somali</td>\n",
       "    </tr>\n",
       "    <tr>\n",
       "      <th>247</th>\n",
       "      <td>69:The Best Position</td>\n",
       "      <td>271590</td>\n",
       "      <td>good</td>\n",
       "      <td>NaN</td>\n",
       "      <td>176.3000</td>\n",
       "      <td>Somali</td>\n",
       "    </tr>\n",
       "    <tr>\n",
       "      <th>316</th>\n",
       "      <td>Smokeing Fags And Selling Bags</td>\n",
       "      <td>271590</td>\n",
       "      <td>good♥♥♥♥♥♥very good</td>\n",
       "      <td>NaN</td>\n",
       "      <td>2.6000</td>\n",
       "      <td>Somali</td>\n",
       "    </tr>\n",
       "    <tr>\n",
       "      <th>354</th>\n",
       "      <td>Santiago ♥D</td>\n",
       "      <td>308040</td>\n",
       "      <td>bad</td>\n",
       "      <td>1.0000</td>\n",
       "      <td>1.3000</td>\n",
       "      <td>Somali</td>\n",
       "    </tr>\n",
       "    <tr>\n",
       "      <th>601</th>\n",
       "      <td>𝖊𝖃𝖔 | Psycocat</td>\n",
       "      <td>308040</td>\n",
       "      <td>good game :)</td>\n",
       "      <td>NaN</td>\n",
       "      <td>3.2000</td>\n",
       "      <td>Somali</td>\n",
       "    </tr>\n",
       "  </tbody>\n",
       "</table>\n",
       "</div>"
      ],
      "text/plain": [
       "                           username product_id                 text  \\\n",
       "31                   JessetheGengar     302390          baaaddddddd   \n",
       "247            69:The Best Position     271590                 good   \n",
       "316  Smokeing Fags And Selling Bags     271590  good♥♥♥♥♥♥very good   \n",
       "354                     Santiago ♥D     308040                  bad   \n",
       "601                  𝖊𝖃𝖔 | Psycocat     308040         good game :)   \n",
       "\n",
       "     found_funny    hours language  \n",
       "31           NaN   0.4000   Somali  \n",
       "247          NaN 176.3000   Somali  \n",
       "316          NaN   2.6000   Somali  \n",
       "354       1.0000   1.3000   Somali  \n",
       "601          NaN   3.2000   Somali  "
      ]
     },
     "execution_count": 21,
     "metadata": {},
     "output_type": "execute_result"
    },
    {
     "name": "stdout",
     "output_type": "stream",
     "text": [
      "time: 78 ms (started: 2021-08-22 00:06:52 -03:00)\n"
     ]
    }
   ],
   "source": [
    "df_reviews[df_reviews.language == 'Somali'].head(5)"
   ]
  },
  {
   "cell_type": "markdown",
   "metadata": {},
   "source": [
    "Por lo que podemos observar, se trata de una mala predicción, ya que los comentarios están en inglés. Por alguna razón (quizás por las faltas de ortografía) los etiqueta como Somalí.\n",
    "De todos modos, siendo que la cantidad de comentarios predichos como Inglés representan un gran porcentaje, vamos a eliminar aquellas instancias en otro idioma."
   ]
  },
  {
   "cell_type": "code",
   "execution_count": 22,
   "metadata": {},
   "outputs": [
    {
     "name": "stderr",
     "output_type": "stream",
     "text": [
      "C:\\Users\\elmai\\.conda\\envs\\datascience\\lib\\site-packages\\pandas\\core\\frame.py:4308: SettingWithCopyWarning: \n",
      "A value is trying to be set on a copy of a slice from a DataFrame\n",
      "\n",
      "See the caveats in the documentation: https://pandas.pydata.org/pandas-docs/stable/user_guide/indexing.html#returning-a-view-versus-a-copy\n",
      "  return super().drop(\n"
     ]
    },
    {
     "data": {
      "text/html": [
       "<div>\n",
       "<style scoped>\n",
       "    .dataframe tbody tr th:only-of-type {\n",
       "        vertical-align: middle;\n",
       "    }\n",
       "\n",
       "    .dataframe tbody tr th {\n",
       "        vertical-align: top;\n",
       "    }\n",
       "\n",
       "    .dataframe thead th {\n",
       "        text-align: right;\n",
       "    }\n",
       "</style>\n",
       "<table border=\"1\" class=\"dataframe\">\n",
       "  <thead>\n",
       "    <tr style=\"text-align: right;\">\n",
       "      <th></th>\n",
       "      <th>username</th>\n",
       "      <th>product_id</th>\n",
       "      <th>text</th>\n",
       "      <th>found_funny</th>\n",
       "      <th>hours</th>\n",
       "      <th>language</th>\n",
       "    </tr>\n",
       "  </thead>\n",
       "  <tbody>\n",
       "    <tr>\n",
       "      <th>0</th>\n",
       "      <td>Chaos Syren</td>\n",
       "      <td>725280</td>\n",
       "      <td>This would not be acceptable as an entertainme...</td>\n",
       "      <td>NaN</td>\n",
       "      <td>0.1000</td>\n",
       "      <td>English</td>\n",
       "    </tr>\n",
       "    <tr>\n",
       "      <th>1</th>\n",
       "      <td>Ariman1</td>\n",
       "      <td>328100</td>\n",
       "      <td>Addictive RPG ! Works fine on linux though it ...</td>\n",
       "      <td>NaN</td>\n",
       "      <td>13.2000</td>\n",
       "      <td>English</td>\n",
       "    </tr>\n",
       "    <tr>\n",
       "      <th>3</th>\n",
       "      <td>The_Cpt_FROGGY</td>\n",
       "      <td>631920</td>\n",
       "      <td>Somewhere on Zibylon:\\n~~~~~~~~~~~~~~~~~~\\nZib...</td>\n",
       "      <td>NaN</td>\n",
       "      <td>7.8000</td>\n",
       "      <td>English</td>\n",
       "    </tr>\n",
       "    <tr>\n",
       "      <th>4</th>\n",
       "      <td>the_maker988</td>\n",
       "      <td>35140</td>\n",
       "      <td>This game was way to linear for me, and compar...</td>\n",
       "      <td>NaN</td>\n",
       "      <td>8.2000</td>\n",
       "      <td>English</td>\n",
       "    </tr>\n",
       "    <tr>\n",
       "      <th>5</th>\n",
       "      <td>Szudof</td>\n",
       "      <td>288690</td>\n",
       "      <td>&lt;23:32:55&gt; \"Pit\": Hello, my name is dominik di...</td>\n",
       "      <td>3.0000</td>\n",
       "      <td>0.2000</td>\n",
       "      <td>English</td>\n",
       "    </tr>\n",
       "    <tr>\n",
       "      <th>...</th>\n",
       "      <td>...</td>\n",
       "      <td>...</td>\n",
       "      <td>...</td>\n",
       "      <td>...</td>\n",
       "      <td>...</td>\n",
       "      <td>...</td>\n",
       "    </tr>\n",
       "    <tr>\n",
       "      <th>779301</th>\n",
       "      <td>SepticFalcon</td>\n",
       "      <td>252490</td>\n",
       "      <td>A good laugh with friends, cannot wait till mo...</td>\n",
       "      <td>NaN</td>\n",
       "      <td>334.9000</td>\n",
       "      <td>English</td>\n",
       "    </tr>\n",
       "    <tr>\n",
       "      <th>779302</th>\n",
       "      <td>Vidaar</td>\n",
       "      <td>252490</td>\n",
       "      <td>Summary: Rust is a survival game created by Fa...</td>\n",
       "      <td>NaN</td>\n",
       "      <td>783.5000</td>\n",
       "      <td>English</td>\n",
       "    </tr>\n",
       "    <tr>\n",
       "      <th>779304</th>\n",
       "      <td>RancorZealot</td>\n",
       "      <td>252490</td>\n",
       "      <td>Should you buy RUST? Uh... YES. The BEST Survi...</td>\n",
       "      <td>NaN</td>\n",
       "      <td>203.5000</td>\n",
       "      <td>English</td>\n",
       "    </tr>\n",
       "    <tr>\n",
       "      <th>779305</th>\n",
       "      <td>Jerry</td>\n",
       "      <td>252490</td>\n",
       "      <td>Great game!</td>\n",
       "      <td>NaN</td>\n",
       "      <td>139.8000</td>\n",
       "      <td>English</td>\n",
       "    </tr>\n",
       "    <tr>\n",
       "      <th>779306</th>\n",
       "      <td>Helk</td>\n",
       "      <td>252490</td>\n",
       "      <td>I love this game!</td>\n",
       "      <td>36.0000</td>\n",
       "      <td>15375.0000</td>\n",
       "      <td>English</td>\n",
       "    </tr>\n",
       "  </tbody>\n",
       "</table>\n",
       "<p>684133 rows × 6 columns</p>\n",
       "</div>"
      ],
      "text/plain": [
       "              username product_id  \\\n",
       "0          Chaos Syren     725280   \n",
       "1              Ariman1     328100   \n",
       "3       The_Cpt_FROGGY     631920   \n",
       "4         the_maker988      35140   \n",
       "5               Szudof     288690   \n",
       "...                ...        ...   \n",
       "779301    SepticFalcon     252490   \n",
       "779302          Vidaar     252490   \n",
       "779304    RancorZealot     252490   \n",
       "779305           Jerry     252490   \n",
       "779306            Helk     252490   \n",
       "\n",
       "                                                     text  found_funny  \\\n",
       "0       This would not be acceptable as an entertainme...          NaN   \n",
       "1       Addictive RPG ! Works fine on linux though it ...          NaN   \n",
       "3       Somewhere on Zibylon:\\n~~~~~~~~~~~~~~~~~~\\nZib...          NaN   \n",
       "4       This game was way to linear for me, and compar...          NaN   \n",
       "5       <23:32:55> \"Pit\": Hello, my name is dominik di...       3.0000   \n",
       "...                                                   ...          ...   \n",
       "779301  A good laugh with friends, cannot wait till mo...          NaN   \n",
       "779302  Summary: Rust is a survival game created by Fa...          NaN   \n",
       "779304  Should you buy RUST? Uh... YES. The BEST Survi...          NaN   \n",
       "779305                                        Great game!          NaN   \n",
       "779306                                  I love this game!      36.0000   \n",
       "\n",
       "            hours language  \n",
       "0          0.1000  English  \n",
       "1         13.2000  English  \n",
       "3          7.8000  English  \n",
       "4          8.2000  English  \n",
       "5          0.2000  English  \n",
       "...           ...      ...  \n",
       "779301   334.9000  English  \n",
       "779302   783.5000  English  \n",
       "779304   203.5000  English  \n",
       "779305   139.8000  English  \n",
       "779306 15375.0000  English  \n",
       "\n",
       "[684133 rows x 6 columns]"
      ]
     },
     "execution_count": 22,
     "metadata": {},
     "output_type": "execute_result"
    },
    {
     "name": "stdout",
     "output_type": "stream",
     "text": [
      "time: 578 ms (started: 2021-08-22 00:06:52 -03:00)\n"
     ]
    }
   ],
   "source": [
    "mask = df_reviews.language == 'English'\n",
    "df_reviews.drop(df_reviews[~mask].index, inplace=True)\n",
    "df_reviews"
   ]
  },
  {
   "cell_type": "code",
   "execution_count": 23,
   "metadata": {},
   "outputs": [
    {
     "name": "stdout",
     "output_type": "stream",
     "text": [
      "time: 0 ns (started: 2021-08-22 00:06:53 -03:00)\n"
     ]
    }
   ],
   "source": [
    "# Instanciamos el tokenizer\n",
    "tokenizer=RegexpTokenizer(\"\\w+\")\n",
    "\n",
    "# Importamos la función que nos permite Stemmizar de nltk y definimos el stemmer\n",
    "stemmer = PorterStemmer()\n",
    "\n",
    "# Traemos las stopwords\n",
    "stopwords = set(stopwords.words('english'))"
   ]
  },
  {
   "cell_type": "code",
   "execution_count": 24,
   "metadata": {},
   "outputs": [
    {
     "name": "stdout",
     "output_type": "stream",
     "text": [
      "time: 0 ns (started: 2021-08-22 00:06:53 -03:00)\n"
     ]
    }
   ],
   "source": [
    "# Creamos método para aplicar la Normalizacion y luega el Stemming a cada instancia\n",
    "def processText(text):\n",
    "    # Vamos a reemplzar los caracteres que no sean letras por espacios\n",
    "    text=re.sub(\"[^a-zA-Z]\",\" \",str(text))\n",
    "    # Pasamos todo a minúsculas\n",
    "    text=text.lower()\n",
    "    # Tokenizamos para separar las palabras del titular\n",
    "    text=tokenizer.tokenize(text)\n",
    "    # Eliminamos las palabras de menos de 4 letras\n",
    "    text = [palabra for palabra in text if len(palabra)>3]\n",
    "    # Sacamos las Stopwords\n",
    "    text = [p for p in text if not p in stopwords]\n",
    "    \n",
    "    ## Hasta acá Normalizamos, ahora a stemmizar\n",
    "    \n",
    "    # Aplicamos la funcion para buscar la raiz de las palabras\n",
    "    text = [stemmer.stem(t) for t in text]\n",
    "    # Por ultimo volvemos a unir el titular\n",
    "    text = \" \".join(text)\n",
    "    \n",
    "    return text"
   ]
  },
  {
   "cell_type": "code",
   "execution_count": 25,
   "metadata": {},
   "outputs": [
    {
     "data": {
      "application/vnd.jupyter.widget-view+json": {
       "model_id": "76fdcd69b6a74a12a7e9c36a6cdfe751",
       "version_major": 2,
       "version_minor": 0
      },
      "text/plain": [
       "  0%|          | 0/684133 [00:00<?, ?it/s]"
      ]
     },
     "metadata": {},
     "output_type": "display_data"
    },
    {
     "name": "stdout",
     "output_type": "stream",
     "text": [
      "time: 10min 3s (started: 2021-08-22 00:06:53 -03:00)\n"
     ]
    },
    {
     "name": "stderr",
     "output_type": "stream",
     "text": [
      "C:\\Users\\elmai\\AppData\\Local\\Temp/ipykernel_21032/1919178748.py:2: SettingWithCopyWarning: \n",
      "A value is trying to be set on a copy of a slice from a DataFrame.\n",
      "Try using .loc[row_indexer,col_indexer] = value instead\n",
      "\n",
      "See the caveats in the documentation: https://pandas.pydata.org/pandas-docs/stable/user_guide/indexing.html#returning-a-view-versus-a-copy\n",
      "  df_reviews['corrected text'] = df_reviews['text'].progress_apply(processText)\n"
     ]
    }
   ],
   "source": [
    "# Aplicamos la transformación\n",
    "df_reviews['corrected text'] = df_reviews['text'].progress_apply(processText)"
   ]
  },
  {
   "cell_type": "code",
   "execution_count": 28,
   "metadata": {},
   "outputs": [
    {
     "data": {
      "text/html": [
       "<div>\n",
       "<style scoped>\n",
       "    .dataframe tbody tr th:only-of-type {\n",
       "        vertical-align: middle;\n",
       "    }\n",
       "\n",
       "    .dataframe tbody tr th {\n",
       "        vertical-align: top;\n",
       "    }\n",
       "\n",
       "    .dataframe thead th {\n",
       "        text-align: right;\n",
       "    }\n",
       "</style>\n",
       "<table border=\"1\" class=\"dataframe\">\n",
       "  <thead>\n",
       "    <tr style=\"text-align: right;\">\n",
       "      <th></th>\n",
       "      <th>username</th>\n",
       "      <th>product_id</th>\n",
       "      <th>text</th>\n",
       "      <th>found_funny</th>\n",
       "      <th>hours</th>\n",
       "      <th>language</th>\n",
       "      <th>corrected text</th>\n",
       "    </tr>\n",
       "  </thead>\n",
       "  <tbody>\n",
       "    <tr>\n",
       "      <th>769443</th>\n",
       "      <td>Leofwin</td>\n",
       "      <td>49520</td>\n",
       "      <td>Amazing first person shooter. There are a lot ...</td>\n",
       "      <td>NaN</td>\n",
       "      <td>25.8000</td>\n",
       "      <td>English</td>\n",
       "      <td>amaz first person shooter weapon quest huge de...</td>\n",
       "    </tr>\n",
       "    <tr>\n",
       "      <th>516620</th>\n",
       "      <td>jannesboonk</td>\n",
       "      <td>203770</td>\n",
       "      <td>I was 15th in line of succession, now I am Kin...</td>\n",
       "      <td>NaN</td>\n",
       "      <td>336.5000</td>\n",
       "      <td>English</td>\n",
       "      <td>line success king thing chang</td>\n",
       "    </tr>\n",
       "    <tr>\n",
       "      <th>656454</th>\n",
       "      <td>Amestopleeze</td>\n",
       "      <td>213670</td>\n",
       "      <td>I actually started watching the show again aft...</td>\n",
       "      <td>NaN</td>\n",
       "      <td>15.8000</td>\n",
       "      <td>English</td>\n",
       "      <td>actual start watch show play game forgot irrev...</td>\n",
       "    </tr>\n",
       "    <tr>\n",
       "      <th>502236</th>\n",
       "      <td>TREDIAN🌿</td>\n",
       "      <td>22330</td>\n",
       "      <td>A great game by itself, but spoiled by too man...</td>\n",
       "      <td>NaN</td>\n",
       "      <td>344.9000</td>\n",
       "      <td>English</td>\n",
       "      <td>great game spoil mani mod</td>\n",
       "    </tr>\n",
       "    <tr>\n",
       "      <th>556295</th>\n",
       "      <td>CrimsonDX</td>\n",
       "      <td>398100</td>\n",
       "      <td>Very good game, though it does have its flaws\\...</td>\n",
       "      <td>1.0000</td>\n",
       "      <td>3.6000</td>\n",
       "      <td>English</td>\n",
       "      <td>good game though flaw transist major scene pla...</td>\n",
       "    </tr>\n",
       "  </tbody>\n",
       "</table>\n",
       "</div>"
      ],
      "text/plain": [
       "            username product_id  \\\n",
       "769443       Leofwin      49520   \n",
       "516620   jannesboonk     203770   \n",
       "656454  Amestopleeze     213670   \n",
       "502236      TREDIAN🌿      22330   \n",
       "556295     CrimsonDX     398100   \n",
       "\n",
       "                                                     text  found_funny  \\\n",
       "769443  Amazing first person shooter. There are a lot ...          NaN   \n",
       "516620  I was 15th in line of succession, now I am Kin...          NaN   \n",
       "656454  I actually started watching the show again aft...          NaN   \n",
       "502236  A great game by itself, but spoiled by too man...          NaN   \n",
       "556295  Very good game, though it does have its flaws\\...       1.0000   \n",
       "\n",
       "          hours language                                     corrected text  \n",
       "769443  25.8000  English  amaz first person shooter weapon quest huge de...  \n",
       "516620 336.5000  English                      line success king thing chang  \n",
       "656454  15.8000  English  actual start watch show play game forgot irrev...  \n",
       "502236 344.9000  English                          great game spoil mani mod  \n",
       "556295   3.6000  English  good game though flaw transist major scene pla...  "
      ]
     },
     "execution_count": 28,
     "metadata": {},
     "output_type": "execute_result"
    },
    {
     "name": "stdout",
     "output_type": "stream",
     "text": [
      "time: 15 ms (started: 2021-08-22 09:19:12 -03:00)\n"
     ]
    }
   ],
   "source": [
    "# Mostramos el dataset limpio\n",
    "df_reviews.iloc[np.random.choice(df_reviews.index, size=5)]"
   ]
  },
  {
   "cell_type": "code",
   "execution_count": 27,
   "metadata": {},
   "outputs": [
    {
     "data": {
      "text/html": [
       "<div>\n",
       "<style scoped>\n",
       "    .dataframe tbody tr th:only-of-type {\n",
       "        vertical-align: middle;\n",
       "    }\n",
       "\n",
       "    .dataframe tbody tr th {\n",
       "        vertical-align: top;\n",
       "    }\n",
       "\n",
       "    .dataframe thead th {\n",
       "        text-align: right;\n",
       "    }\n",
       "</style>\n",
       "<table border=\"1\" class=\"dataframe\">\n",
       "  <thead>\n",
       "    <tr style=\"text-align: right;\">\n",
       "      <th></th>\n",
       "      <th>username</th>\n",
       "      <th>product_id</th>\n",
       "      <th>text</th>\n",
       "      <th>found_funny</th>\n",
       "      <th>hours</th>\n",
       "      <th>language</th>\n",
       "      <th>corrected text</th>\n",
       "    </tr>\n",
       "  </thead>\n",
       "  <tbody>\n",
       "    <tr>\n",
       "      <th>0</th>\n",
       "      <td>Chaos Syren</td>\n",
       "      <td>725280</td>\n",
       "      <td>This would not be acceptable as an entertainme...</td>\n",
       "      <td>NaN</td>\n",
       "      <td>0.1000</td>\n",
       "      <td>English</td>\n",
       "      <td>would accept entertain even back graphic effor...</td>\n",
       "    </tr>\n",
       "    <tr>\n",
       "      <th>1</th>\n",
       "      <td>Ariman1</td>\n",
       "      <td>328100</td>\n",
       "      <td>Addictive RPG ! Works fine on linux though it ...</td>\n",
       "      <td>NaN</td>\n",
       "      <td>13.2000</td>\n",
       "      <td>English</td>\n",
       "      <td>addict work fine linux though minor bug recom ...</td>\n",
       "    </tr>\n",
       "    <tr>\n",
       "      <th>3</th>\n",
       "      <td>The_Cpt_FROGGY</td>\n",
       "      <td>631920</td>\n",
       "      <td>Somewhere on Zibylon:\\n~~~~~~~~~~~~~~~~~~\\nZib...</td>\n",
       "      <td>NaN</td>\n",
       "      <td>7.8000</td>\n",
       "      <td>English</td>\n",
       "      <td>somewher zibylon zibylon command centr read re...</td>\n",
       "    </tr>\n",
       "    <tr>\n",
       "      <th>4</th>\n",
       "      <td>the_maker988</td>\n",
       "      <td>35140</td>\n",
       "      <td>This game was way to linear for me, and compar...</td>\n",
       "      <td>NaN</td>\n",
       "      <td>8.2000</td>\n",
       "      <td>English</td>\n",
       "      <td>game linear compar other good dollar winter sa...</td>\n",
       "    </tr>\n",
       "    <tr>\n",
       "      <th>5</th>\n",
       "      <td>Szudof</td>\n",
       "      <td>288690</td>\n",
       "      <td>&lt;23:32:55&gt; \"Pit\": Hello, my name is dominik di...</td>\n",
       "      <td>3.0000</td>\n",
       "      <td>0.2000</td>\n",
       "      <td>English</td>\n",
       "      <td>hello name dominik review bought sudoku detekt...</td>\n",
       "    </tr>\n",
       "    <tr>\n",
       "      <th>6</th>\n",
       "      <td>Vonder</td>\n",
       "      <td>35600</td>\n",
       "      <td>I like the art style and the idea but what a b...</td>\n",
       "      <td>NaN</td>\n",
       "      <td>2.7000</td>\n",
       "      <td>English</td>\n",
       "      <td>like style idea bore miser excus puzzl game fo...</td>\n",
       "    </tr>\n",
       "    <tr>\n",
       "      <th>7</th>\n",
       "      <td>LucaFox</td>\n",
       "      <td>620900</td>\n",
       "      <td>Very, very good game. I love dungeon crawlers,...</td>\n",
       "      <td>1.0000</td>\n",
       "      <td>4.0000</td>\n",
       "      <td>English</td>\n",
       "      <td>good game love dungeon crawler roguelik light ...</td>\n",
       "    </tr>\n",
       "    <tr>\n",
       "      <th>8</th>\n",
       "      <td>rampage1209</td>\n",
       "      <td>1840</td>\n",
       "      <td>WAY PAST COOL</td>\n",
       "      <td>NaN</td>\n",
       "      <td>34.8000</td>\n",
       "      <td>English</td>\n",
       "      <td>past cool</td>\n",
       "    </tr>\n",
       "    <tr>\n",
       "      <th>9</th>\n",
       "      <td>Devil Azite</td>\n",
       "      <td>671270</td>\n",
       "      <td>Putting a hat on your head has disasterous rep...</td>\n",
       "      <td>1.0000</td>\n",
       "      <td>0.1000</td>\n",
       "      <td>English</td>\n",
       "      <td>put head disaster repercuss</td>\n",
       "    </tr>\n",
       "    <tr>\n",
       "      <th>10</th>\n",
       "      <td>MrNinjaSquirrel</td>\n",
       "      <td>288690</td>\n",
       "      <td>\"It's like Sudoku, but as a ball!\"\\nI have to ...</td>\n",
       "      <td>NaN</td>\n",
       "      <td>1.2000</td>\n",
       "      <td>English</td>\n",
       "      <td>like sudoku ball imagin sort brainstorm exerci...</td>\n",
       "    </tr>\n",
       "  </tbody>\n",
       "</table>\n",
       "</div>"
      ],
      "text/plain": [
       "           username product_id  \\\n",
       "0       Chaos Syren     725280   \n",
       "1           Ariman1     328100   \n",
       "3    The_Cpt_FROGGY     631920   \n",
       "4      the_maker988      35140   \n",
       "5            Szudof     288690   \n",
       "6            Vonder      35600   \n",
       "7           LucaFox     620900   \n",
       "8       rampage1209       1840   \n",
       "9       Devil Azite     671270   \n",
       "10  MrNinjaSquirrel     288690   \n",
       "\n",
       "                                                 text  found_funny   hours  \\\n",
       "0   This would not be acceptable as an entertainme...          NaN  0.1000   \n",
       "1   Addictive RPG ! Works fine on linux though it ...          NaN 13.2000   \n",
       "3   Somewhere on Zibylon:\\n~~~~~~~~~~~~~~~~~~\\nZib...          NaN  7.8000   \n",
       "4   This game was way to linear for me, and compar...          NaN  8.2000   \n",
       "5   <23:32:55> \"Pit\": Hello, my name is dominik di...       3.0000  0.2000   \n",
       "6   I like the art style and the idea but what a b...          NaN  2.7000   \n",
       "7   Very, very good game. I love dungeon crawlers,...       1.0000  4.0000   \n",
       "8                                       WAY PAST COOL          NaN 34.8000   \n",
       "9   Putting a hat on your head has disasterous rep...       1.0000  0.1000   \n",
       "10  \"It's like Sudoku, but as a ball!\"\\nI have to ...          NaN  1.2000   \n",
       "\n",
       "   language                                     corrected text  \n",
       "0   English  would accept entertain even back graphic effor...  \n",
       "1   English  addict work fine linux though minor bug recom ...  \n",
       "3   English  somewher zibylon zibylon command centr read re...  \n",
       "4   English  game linear compar other good dollar winter sa...  \n",
       "5   English  hello name dominik review bought sudoku detekt...  \n",
       "6   English  like style idea bore miser excus puzzl game fo...  \n",
       "7   English  good game love dungeon crawler roguelik light ...  \n",
       "8   English                                          past cool  \n",
       "9   English                        put head disaster repercuss  \n",
       "10  English  like sudoku ball imagin sort brainstorm exerci...  "
      ]
     },
     "execution_count": 27,
     "metadata": {},
     "output_type": "execute_result"
    },
    {
     "name": "stdout",
     "output_type": "stream",
     "text": [
      "time: 0 ns (started: 2021-08-22 09:17:25 -03:00)\n"
     ]
    }
   ],
   "source": [
    "df_reviews.head(10)"
   ]
  },
  {
   "cell_type": "code",
   "execution_count": null,
   "metadata": {},
   "outputs": [],
   "source": []
  }
 ],
 "metadata": {
  "celltoolbar": "Attachments",
  "colab": {
   "collapsed_sections": [],
   "name": "Copy of DS_Proyecto_03_SR.ipynb",
   "provenance": [
    {
     "file_id": "1byeX_htRp3NqV08X3eLlWIp02cnPb_WP",
     "timestamp": 1627943542515
    }
   ]
  },
  "kernelspec": {
   "display_name": "Python 3",
   "language": "python",
   "name": "python3"
  },
  "language_info": {
   "codemirror_mode": {
    "name": "ipython",
    "version": 3
   },
   "file_extension": ".py",
   "mimetype": "text/x-python",
   "name": "python",
   "nbconvert_exporter": "python",
   "pygments_lexer": "ipython3",
   "version": "3.9.2"
  }
 },
 "nbformat": 4,
 "nbformat_minor": 1
}
