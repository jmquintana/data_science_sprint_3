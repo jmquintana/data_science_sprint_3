{
 "cells": [
  {
   "cell_type": "markdown",
   "metadata": {
    "id": "gzJLet17WTzh"
   },
   "source": [
    "# Proyecto 03 - Sistemas de Recomendación\n",
    "\n",
    "## Dataset: STEAM\n",
    "\n",
    "**Recuerda descargar el dataset de [aquí](https://github.com/kang205/SASRec). Son dos archivos, uno de calificaciones y otro de información sobre los juegos.**\n",
    "\n",
    "En este notebook te dejamos unas celdas para que puedas comenzar a trabajar con este dataset. Sin embargo, **deberás** modificarlas para hacer un mejor manejo de datos. Algunas cosas a las que deberás prestar atención (tal vez no a todas):\n",
    "1. Tipos de datos: elige tipos de datos apropiados para cada columna.\n",
    "2. Descartar columnas poco informativas.\n",
    "3. Guardar en memoria datasets preprocesados para no tener que repetir código que tarde en correr.\n",
    "\n",
    "### Exploración de datos\n",
    "\n",
    "Dedícale un buen tiempo a hacer un Análisis Exploratorio de Datos. Elige preguntas que creas que puedas responder con este dataset. Por ejemplo, ¿cuáles son los juegos más populares?¿Y los menos populares?\n",
    "\n",
    "### Filtro Colaborativo\n",
    "\n",
    "Deberás implementar un sistema de recomendación colaborativo para este dataset. Ten en cuenta:\n",
    "\n",
    "1. Haz todas las transformaciones de datos que consideres necesarias. Justifica.\n",
    "1. Evalúa de forma apropiada sus resultados. Justifica la métrica elegida.\n",
    "1. Elige un modelo benchmark y compara tus resultados con este modelo.\n",
    "1. Optimiza los hiperparámetros de tu modelo.\n",
    "\n",
    "Puedes implementar un filtro colaborativo a partir de la similitud coseno o índice de Jaccard. ¿Puedes utilizar los métodos de la librería Surprise? Si no es así, busca implementaciones (por ejemplo, nuevas librerías) que sean apropiadas.\n",
    "\n",
    "Para comenzar a trabajar, puedes asumir que cada entrada es un enlace entre una persona usuaria y un item, **independientemente** de si la crítica es buena o mala. \n",
    "\n",
    "### Para pensar, investigar y, opcionalmente, implementar\n",
    "1. ¿Cómo harías para ponerle un valor a la calificación?\n",
    "1. ¿Cómo harías para agregar contenido? Por ejemplo, cuentas con el género, precio, fecha de lanzamiento y más información de los juegos.\n",
    "1. ¿Hay algo que te gustaría investigar o probar?\n",
    "\n",
    "### **¡Tómate tiempo para investigar y leer mucho!**"
   ]
  },
  {
   "cell_type": "markdown",
   "metadata": {},
   "source": [
    "## Preprocesamiento"
   ]
  },
  {
   "cell_type": "markdown",
   "metadata": {},
   "source": [
    "### Importamos las librerías"
   ]
  },
  {
   "cell_type": "code",
   "execution_count": 2,
   "metadata": {},
   "outputs": [],
   "source": [
    "# Importamos las librerías que vamos a necesitar\n",
    "import numpy as np\n",
    "import pandas as pd\n",
    "import matplotlib.pyplot as plt\n",
    "import matplotlib.ticker as ticker\n",
    "import seaborn as sns\n",
    "from tqdm.notebook import tqdm\n",
    "import gzip\n",
    "from sklearn.preprocessing import MinMaxScaler\n",
    "from langdetect import detect\n",
    "from textblob import TextBlob\n",
    "from wordcloud import WordCloud\n",
    "import re\n",
    "from nltk.tokenize import RegexpTokenizer\n",
    "from nltk.stem import PorterStemmer\n",
    "from nltk.corpus import stopwords\n",
    "from nltk.sentiment import SentimentIntensityAnalyzer"
   ]
  },
  {
   "cell_type": "markdown",
   "metadata": {},
   "source": [
    "### Configuraciones"
   ]
  },
  {
   "cell_type": "code",
   "execution_count": 3,
   "metadata": {},
   "outputs": [],
   "source": [
    "# Le doy formato a los gráficos\n",
    "# sns.set_style(\"darkgrid\")\n",
    "sns.set_style(\"white\")\n",
    "plt.rc('font', size=10)\n",
    "plt.rc('axes', titlesize=16)\n",
    "plt.rc('figure', titlesize=16)\n",
    "plt.rc('axes', labelsize=14) \n",
    "plt.rc('xtick', labelsize=12) \n",
    "plt.rc('ytick', labelsize=12) "
   ]
  },
  {
   "cell_type": "code",
   "execution_count": 4,
   "metadata": {},
   "outputs": [
    {
     "data": {
      "text/html": [
       "<style>.container { width:100% !important; }</style>"
      ],
      "text/plain": [
       "<IPython.core.display.HTML object>"
      ]
     },
     "metadata": {},
     "output_type": "display_data"
    },
    {
     "data": {
      "text/html": [
       "<pre>✔️ 0 ns (2021-09-15T19:40:59/2021-09-15T19:40:59)</pre>"
      ],
      "text/plain": [
       "<IPython.core.display.HTML object>"
      ]
     },
     "metadata": {},
     "output_type": "display_data"
    }
   ],
   "source": [
    "#Seteamos para que no utilice notacion cientifica\n",
    "pd.options.display.float_format = '{:.4f}'.format\n",
    "#Seteo para que el máximo de columnas que muestra al levantar una base sean 500\n",
    "pd.set_option('display.max_columns',500)\n",
    "#Estos códigos hacen que la visualización de la consola abarque toda la pantalla (sin los recortes a los costados). Tambien hacen que al mostrar dataframes podamos ver todas las columnas que tiene.\n",
    "from IPython.core.display import display, HTML\n",
    "display(HTML(\"<style>.container { width:100% !important; }</style>\"))\n",
    "# Instanciamos método para ver el progreso de las operaciones sobre sobre los dataframes\n",
    "tqdm.pandas()\n",
    "# Indicador de tiempo de ejecución\n",
    "%load_ext autotime"
   ]
  },
  {
   "cell_type": "code",
   "execution_count": 5,
   "metadata": {},
   "outputs": [
    {
     "data": {
      "text/html": [
       "<pre>✔️ 0 ns (2021-09-15T19:41:02/2021-09-15T19:41:02)</pre>"
      ],
      "text/plain": [
       "<IPython.core.display.HTML object>"
      ]
     },
     "metadata": {},
     "output_type": "display_data"
    }
   ],
   "source": [
    "# Definimos si queres procesar el dataset crudo\n",
    "READ_RAW = False\n",
    "DETECT_LANG = False\n",
    "GET_SUBJECTIVITY = False\n",
    "GET_POLARITY = False"
   ]
  },
  {
   "cell_type": "markdown",
   "metadata": {},
   "source": [
    "### Carga y limpieza inicial de datos"
   ]
  },
  {
   "cell_type": "code",
   "execution_count": 6,
   "metadata": {
    "id": "lWZhtUxEWTzj"
   },
   "outputs": [
    {
     "data": {
      "text/html": [
       "<pre>✔️ 0 ns (2021-09-15T19:41:03/2021-09-15T19:41:03)</pre>"
      ],
      "text/plain": [
       "<IPython.core.display.HTML object>"
      ]
     },
     "metadata": {},
     "output_type": "display_data"
    }
   ],
   "source": [
    "def parse(path):\n",
    "    g = gzip.open(path, 'r')\n",
    "    for l in g:\n",
    "        yield eval(l)"
   ]
  },
  {
   "cell_type": "markdown",
   "metadata": {
    "id": "BmEM25k4WTzw"
   },
   "source": [
    "**Reviews**"
   ]
  },
  {
   "cell_type": "code",
   "execution_count": 7,
   "metadata": {
    "id": "abAXItn1WTz0"
   },
   "outputs": [
    {
     "data": {
      "text/html": [
       "<pre>✔️ 0 ns (2021-09-15T19:41:04/2021-09-15T19:41:04)</pre>"
      ],
      "text/plain": [
       "<IPython.core.display.HTML object>"
      ]
     },
     "metadata": {},
     "output_type": "display_data"
    }
   ],
   "source": [
    "if READ_RAW:\n",
    "    contador = 0\n",
    "    data_reviews = []\n",
    "    # Vamos a guardar una de cada 10 reviews para no llenar la memoria RAM. Si pones n = 3, \n",
    "    # abrira uno de cada tres, y asi.\n",
    "    n = 10\n",
    "    for l in tqdm(parse('steam_reviews.json.gz')):\n",
    "        if contador%n == 0:\n",
    "            data_reviews.append(l)\n",
    "        else:\n",
    "            pass\n",
    "        contador += 1\n",
    "    data_reviews = pd.DataFrame(data_reviews)"
   ]
  },
  {
   "cell_type": "code",
   "execution_count": 8,
   "metadata": {},
   "outputs": [
    {
     "data": {
      "text/html": [
       "<pre>✔️ 8.3 s (2021-09-15T19:41:05/2021-09-15T19:41:13)</pre>"
      ],
      "text/plain": [
       "<IPython.core.display.HTML object>"
      ]
     },
     "metadata": {},
     "output_type": "display_data"
    }
   ],
   "source": [
    "if READ_RAW:\n",
    "    data_reviews.to_csv('data_reviews.csv', index_label='index')\n",
    "else:\n",
    "    data_reviews = pd.read_csv('data_reviews.csv')\n",
    "    data_reviews.drop(columns='index', inplace=True)"
   ]
  },
  {
   "cell_type": "code",
   "execution_count": 9,
   "metadata": {
    "id": "j24F0ZaYWT0E"
   },
   "outputs": [
    {
     "data": {
      "text/html": [
       "<pre>✔️ 94 ms (2021-09-15T19:41:13/2021-09-15T19:41:14)</pre>"
      ],
      "text/plain": [
       "<IPython.core.display.HTML object>"
      ]
     },
     "metadata": {},
     "output_type": "display_data"
    },
    {
     "data": {
      "text/html": [
       "<div>\n",
       "<style scoped>\n",
       "    .dataframe tbody tr th:only-of-type {\n",
       "        vertical-align: middle;\n",
       "    }\n",
       "\n",
       "    .dataframe tbody tr th {\n",
       "        vertical-align: top;\n",
       "    }\n",
       "\n",
       "    .dataframe thead th {\n",
       "        text-align: right;\n",
       "    }\n",
       "</style>\n",
       "<table border=\"1\" class=\"dataframe\">\n",
       "  <thead>\n",
       "    <tr style=\"text-align: right;\">\n",
       "      <th></th>\n",
       "      <th>username</th>\n",
       "      <th>hours</th>\n",
       "      <th>products</th>\n",
       "      <th>product_id</th>\n",
       "      <th>page_order</th>\n",
       "      <th>date</th>\n",
       "      <th>text</th>\n",
       "      <th>early_access</th>\n",
       "      <th>page</th>\n",
       "      <th>user_id</th>\n",
       "      <th>compensation</th>\n",
       "      <th>found_funny</th>\n",
       "    </tr>\n",
       "  </thead>\n",
       "  <tbody>\n",
       "    <tr>\n",
       "      <th>0</th>\n",
       "      <td>Chaos Syren</td>\n",
       "      <td>0.1000</td>\n",
       "      <td>41.0000</td>\n",
       "      <td>725280</td>\n",
       "      <td>0</td>\n",
       "      <td>2017-12-17</td>\n",
       "      <td>This would not be acceptable as an entertainme...</td>\n",
       "      <td>False</td>\n",
       "      <td>1</td>\n",
       "      <td>NaN</td>\n",
       "      <td>NaN</td>\n",
       "      <td>NaN</td>\n",
       "    </tr>\n",
       "    <tr>\n",
       "      <th>1</th>\n",
       "      <td>Ariman1</td>\n",
       "      <td>13.2000</td>\n",
       "      <td>1386.0000</td>\n",
       "      <td>328100</td>\n",
       "      <td>2</td>\n",
       "      <td>2017-08-02</td>\n",
       "      <td>Addictive RPG ! Works fine on linux though it ...</td>\n",
       "      <td>False</td>\n",
       "      <td>1</td>\n",
       "      <td>NaN</td>\n",
       "      <td>NaN</td>\n",
       "      <td>NaN</td>\n",
       "    </tr>\n",
       "    <tr>\n",
       "      <th>2</th>\n",
       "      <td>freakfantom</td>\n",
       "      <td>0.1000</td>\n",
       "      <td>1706.0000</td>\n",
       "      <td>725280</td>\n",
       "      <td>5</td>\n",
       "      <td>2017-11-12</td>\n",
       "      <td>Прикольная стрелялка. Взял дешево на распродаже.</td>\n",
       "      <td>False</td>\n",
       "      <td>1</td>\n",
       "      <td>NaN</td>\n",
       "      <td>NaN</td>\n",
       "      <td>NaN</td>\n",
       "    </tr>\n",
       "    <tr>\n",
       "      <th>3</th>\n",
       "      <td>The_Cpt_FROGGY</td>\n",
       "      <td>7.8000</td>\n",
       "      <td>2217.0000</td>\n",
       "      <td>631920</td>\n",
       "      <td>0</td>\n",
       "      <td>2017-12-11</td>\n",
       "      <td>Somewhere on Zibylon:\\n~~~~~~~~~~~~~~~~~~\\nZib...</td>\n",
       "      <td>False</td>\n",
       "      <td>1</td>\n",
       "      <td>76561198003030368.0000</td>\n",
       "      <td>Product received for free</td>\n",
       "      <td>NaN</td>\n",
       "    </tr>\n",
       "    <tr>\n",
       "      <th>4</th>\n",
       "      <td>the_maker988</td>\n",
       "      <td>8.2000</td>\n",
       "      <td>18.0000</td>\n",
       "      <td>35140</td>\n",
       "      <td>7</td>\n",
       "      <td>2018-01-02</td>\n",
       "      <td>This game was way to linear for me, and compar...</td>\n",
       "      <td>False</td>\n",
       "      <td>1</td>\n",
       "      <td>76561198353396848.0000</td>\n",
       "      <td>NaN</td>\n",
       "      <td>NaN</td>\n",
       "    </tr>\n",
       "  </tbody>\n",
       "</table>\n",
       "</div>"
      ],
      "text/plain": [
       "         username   hours  products  product_id  page_order        date  \\\n",
       "0     Chaos Syren  0.1000   41.0000      725280           0  2017-12-17   \n",
       "1         Ariman1 13.2000 1386.0000      328100           2  2017-08-02   \n",
       "2     freakfantom  0.1000 1706.0000      725280           5  2017-11-12   \n",
       "3  The_Cpt_FROGGY  7.8000 2217.0000      631920           0  2017-12-11   \n",
       "4    the_maker988  8.2000   18.0000       35140           7  2018-01-02   \n",
       "\n",
       "                                                text  early_access  page  \\\n",
       "0  This would not be acceptable as an entertainme...         False     1   \n",
       "1  Addictive RPG ! Works fine on linux though it ...         False     1   \n",
       "2   Прикольная стрелялка. Взял дешево на распродаже.         False     1   \n",
       "3  Somewhere on Zibylon:\\n~~~~~~~~~~~~~~~~~~\\nZib...         False     1   \n",
       "4  This game was way to linear for me, and compar...         False     1   \n",
       "\n",
       "                 user_id               compensation  found_funny  \n",
       "0                    NaN                        NaN          NaN  \n",
       "1                    NaN                        NaN          NaN  \n",
       "2                    NaN                        NaN          NaN  \n",
       "3 76561198003030368.0000  Product received for free          NaN  \n",
       "4 76561198353396848.0000                        NaN          NaN  "
      ]
     },
     "execution_count": 9,
     "metadata": {},
     "output_type": "execute_result"
    }
   ],
   "source": [
    "# Previsualizamos el dataframe\n",
    "data_reviews.head()"
   ]
  },
  {
   "cell_type": "code",
   "execution_count": 10,
   "metadata": {
    "id": "8F-EVRZ4WT0L",
    "scrolled": true
   },
   "outputs": [
    {
     "data": {
      "text/html": [
       "<pre>✔️ 203 ms (2021-09-15T19:41:14/2021-09-15T19:41:14)</pre>"
      ],
      "text/plain": [
       "<IPython.core.display.HTML object>"
      ]
     },
     "metadata": {},
     "output_type": "display_data"
    },
    {
     "data": {
      "text/plain": [
       "username            18\n",
       "hours             2637\n",
       "products          1566\n",
       "product_id           0\n",
       "page_order           0\n",
       "date                 0\n",
       "text              1839\n",
       "early_access         0\n",
       "page                 0\n",
       "user_id         461967\n",
       "compensation    764719\n",
       "found_funny     659143\n",
       "dtype: int64"
      ]
     },
     "execution_count": 10,
     "metadata": {},
     "output_type": "execute_result"
    }
   ],
   "source": [
    "# Vemos los missings\n",
    "data_reviews.isna().sum()"
   ]
  },
  {
   "cell_type": "code",
   "execution_count": 11,
   "metadata": {},
   "outputs": [
    {
     "data": {
      "text/html": [
       "<pre>✔️ 62 ms (2021-09-15T19:41:14/2021-09-15T19:41:14)</pre>"
      ],
      "text/plain": [
       "<IPython.core.display.HTML object>"
      ]
     },
     "metadata": {},
     "output_type": "display_data"
    },
    {
     "data": {
      "text/html": [
       "<div>\n",
       "<style scoped>\n",
       "    .dataframe tbody tr th:only-of-type {\n",
       "        vertical-align: middle;\n",
       "    }\n",
       "\n",
       "    .dataframe tbody tr th {\n",
       "        vertical-align: top;\n",
       "    }\n",
       "\n",
       "    .dataframe thead th {\n",
       "        text-align: right;\n",
       "    }\n",
       "</style>\n",
       "<table border=\"1\" class=\"dataframe\">\n",
       "  <thead>\n",
       "    <tr style=\"text-align: right;\">\n",
       "      <th></th>\n",
       "      <th>username</th>\n",
       "      <th>hours</th>\n",
       "      <th>product_id</th>\n",
       "      <th>date</th>\n",
       "      <th>text</th>\n",
       "    </tr>\n",
       "  </thead>\n",
       "  <tbody>\n",
       "    <tr>\n",
       "      <th>0</th>\n",
       "      <td>Chaos Syren</td>\n",
       "      <td>0.1000</td>\n",
       "      <td>725280</td>\n",
       "      <td>2017-12-17</td>\n",
       "      <td>This would not be acceptable as an entertainme...</td>\n",
       "    </tr>\n",
       "    <tr>\n",
       "      <th>1</th>\n",
       "      <td>Ariman1</td>\n",
       "      <td>13.2000</td>\n",
       "      <td>328100</td>\n",
       "      <td>2017-08-02</td>\n",
       "      <td>Addictive RPG ! Works fine on linux though it ...</td>\n",
       "    </tr>\n",
       "    <tr>\n",
       "      <th>2</th>\n",
       "      <td>freakfantom</td>\n",
       "      <td>0.1000</td>\n",
       "      <td>725280</td>\n",
       "      <td>2017-11-12</td>\n",
       "      <td>Прикольная стрелялка. Взял дешево на распродаже.</td>\n",
       "    </tr>\n",
       "    <tr>\n",
       "      <th>3</th>\n",
       "      <td>The_Cpt_FROGGY</td>\n",
       "      <td>7.8000</td>\n",
       "      <td>631920</td>\n",
       "      <td>2017-12-11</td>\n",
       "      <td>Somewhere on Zibylon:\\n~~~~~~~~~~~~~~~~~~\\nZib...</td>\n",
       "    </tr>\n",
       "    <tr>\n",
       "      <th>4</th>\n",
       "      <td>the_maker988</td>\n",
       "      <td>8.2000</td>\n",
       "      <td>35140</td>\n",
       "      <td>2018-01-02</td>\n",
       "      <td>This game was way to linear for me, and compar...</td>\n",
       "    </tr>\n",
       "  </tbody>\n",
       "</table>\n",
       "</div>"
      ],
      "text/plain": [
       "         username   hours  product_id        date  \\\n",
       "0     Chaos Syren  0.1000      725280  2017-12-17   \n",
       "1         Ariman1 13.2000      328100  2017-08-02   \n",
       "2     freakfantom  0.1000      725280  2017-11-12   \n",
       "3  The_Cpt_FROGGY  7.8000      631920  2017-12-11   \n",
       "4    the_maker988  8.2000       35140  2018-01-02   \n",
       "\n",
       "                                                text  \n",
       "0  This would not be acceptable as an entertainme...  \n",
       "1  Addictive RPG ! Works fine on linux though it ...  \n",
       "2   Прикольная стрелялка. Взял дешево на распродаже.  \n",
       "3  Somewhere on Zibylon:\\n~~~~~~~~~~~~~~~~~~\\nZib...  \n",
       "4  This game was way to linear for me, and compar...  "
      ]
     },
     "execution_count": 11,
     "metadata": {},
     "output_type": "execute_result"
    }
   ],
   "source": [
    "# Selecciono las columnas que me interesan\n",
    "# Descarto las columans que tienen muchos missings\n",
    "columnas = ['username', 'hours', 'product_id', 'date', 'text']\n",
    "data_reviews = data_reviews[columnas]\n",
    "data_reviews.head()"
   ]
  },
  {
   "cell_type": "code",
   "execution_count": 12,
   "metadata": {},
   "outputs": [
    {
     "data": {
      "text/html": [
       "<pre>✔️ 171 ms (2021-09-15T19:41:20/2021-09-15T19:41:20)</pre>"
      ],
      "text/plain": [
       "<IPython.core.display.HTML object>"
      ]
     },
     "metadata": {},
     "output_type": "display_data"
    },
    {
     "data": {
      "text/plain": [
       "username        18\n",
       "hours         2637\n",
       "product_id       0\n",
       "date             0\n",
       "text          1839\n",
       "dtype: int64"
      ]
     },
     "execution_count": 12,
     "metadata": {},
     "output_type": "execute_result"
    }
   ],
   "source": [
    "# Vemos los missings\n",
    "data_reviews.isna().sum()"
   ]
  },
  {
   "cell_type": "code",
   "execution_count": 13,
   "metadata": {},
   "outputs": [
    {
     "data": {
      "text/html": [
       "<pre>✔️ 281 ms (2021-09-15T19:41:23/2021-09-15T19:41:23)</pre>"
      ],
      "text/plain": [
       "<IPython.core.display.HTML object>"
      ]
     },
     "metadata": {},
     "output_type": "display_data"
    }
   ],
   "source": [
    "# Descarto los missings\n",
    "data_reviews.dropna(axis=0, inplace=True)"
   ]
  },
  {
   "cell_type": "code",
   "execution_count": 14,
   "metadata": {},
   "outputs": [
    {
     "data": {
      "text/html": [
       "<pre>✔️ 172 ms (2021-09-15T19:41:24/2021-09-15T19:41:24)</pre>"
      ],
      "text/plain": [
       "<IPython.core.display.HTML object>"
      ]
     },
     "metadata": {},
     "output_type": "display_data"
    },
    {
     "data": {
      "text/plain": [
       "username      0\n",
       "hours         0\n",
       "product_id    0\n",
       "date          0\n",
       "text          0\n",
       "dtype: int64"
      ]
     },
     "execution_count": 14,
     "metadata": {},
     "output_type": "execute_result"
    }
   ],
   "source": [
    "# Chqueo que no tengo missings\n",
    "data_reviews.isna().sum()"
   ]
  },
  {
   "cell_type": "code",
   "execution_count": 15,
   "metadata": {},
   "outputs": [
    {
     "data": {
      "text/html": [
       "<pre>✔️ 0 ns (2021-09-15T19:41:27/2021-09-15T19:41:27)</pre>"
      ],
      "text/plain": [
       "<IPython.core.display.HTML object>"
      ]
     },
     "metadata": {},
     "output_type": "display_data"
    },
    {
     "data": {
      "text/plain": [
       "username       object\n",
       "hours         float64\n",
       "product_id      int64\n",
       "date           object\n",
       "text           object\n",
       "dtype: object"
      ]
     },
     "execution_count": 15,
     "metadata": {},
     "output_type": "execute_result"
    }
   ],
   "source": [
    "# Verifico los tipos de dato\n",
    "data_reviews.dtypes"
   ]
  },
  {
   "cell_type": "markdown",
   "metadata": {
    "id": "04ed3teRWT0T"
   },
   "source": [
    "**Games**"
   ]
  },
  {
   "cell_type": "code",
   "execution_count": 16,
   "metadata": {
    "id": "8wRb24Y5WT0U"
   },
   "outputs": [
    {
     "data": {
      "text/html": [
       "<pre>✔️ 3.5 s (2021-09-15T19:41:28/2021-09-15T19:41:31)</pre>"
      ],
      "text/plain": [
       "<IPython.core.display.HTML object>"
      ]
     },
     "metadata": {},
     "output_type": "display_data"
    }
   ],
   "source": [
    "data_games = []\n",
    "for l in parse('steam_games.json.gz'):\n",
    "    data_games.append(l)\n",
    "data_games = pd.DataFrame(data_games)"
   ]
  },
  {
   "cell_type": "code",
   "execution_count": 17,
   "metadata": {
    "id": "sVR0Cs6SWT0b"
   },
   "outputs": [
    {
     "data": {
      "text/html": [
       "<pre>✔️ 32 ms (2021-09-15T19:41:37/2021-09-15T19:41:37)</pre>"
      ],
      "text/plain": [
       "<IPython.core.display.HTML object>"
      ]
     },
     "metadata": {},
     "output_type": "display_data"
    },
    {
     "data": {
      "text/html": [
       "<div>\n",
       "<style scoped>\n",
       "    .dataframe tbody tr th:only-of-type {\n",
       "        vertical-align: middle;\n",
       "    }\n",
       "\n",
       "    .dataframe tbody tr th {\n",
       "        vertical-align: top;\n",
       "    }\n",
       "\n",
       "    .dataframe thead th {\n",
       "        text-align: right;\n",
       "    }\n",
       "</style>\n",
       "<table border=\"1\" class=\"dataframe\">\n",
       "  <thead>\n",
       "    <tr style=\"text-align: right;\">\n",
       "      <th></th>\n",
       "      <th>publisher</th>\n",
       "      <th>genres</th>\n",
       "      <th>app_name</th>\n",
       "      <th>title</th>\n",
       "      <th>url</th>\n",
       "      <th>release_date</th>\n",
       "      <th>tags</th>\n",
       "      <th>discount_price</th>\n",
       "      <th>reviews_url</th>\n",
       "      <th>specs</th>\n",
       "      <th>price</th>\n",
       "      <th>early_access</th>\n",
       "      <th>id</th>\n",
       "      <th>developer</th>\n",
       "      <th>sentiment</th>\n",
       "      <th>metascore</th>\n",
       "    </tr>\n",
       "  </thead>\n",
       "  <tbody>\n",
       "    <tr>\n",
       "      <th>0</th>\n",
       "      <td>Kotoshiro</td>\n",
       "      <td>[Action, Casual, Indie, Simulation, Strategy]</td>\n",
       "      <td>Lost Summoner Kitty</td>\n",
       "      <td>Lost Summoner Kitty</td>\n",
       "      <td>http://store.steampowered.com/app/761140/Lost_...</td>\n",
       "      <td>2018-01-04</td>\n",
       "      <td>[Strategy, Action, Indie, Casual, Simulation]</td>\n",
       "      <td>4.4900</td>\n",
       "      <td>http://steamcommunity.com/app/761140/reviews/?...</td>\n",
       "      <td>[Single-player]</td>\n",
       "      <td>4.9900</td>\n",
       "      <td>False</td>\n",
       "      <td>761140</td>\n",
       "      <td>Kotoshiro</td>\n",
       "      <td>NaN</td>\n",
       "      <td>NaN</td>\n",
       "    </tr>\n",
       "    <tr>\n",
       "      <th>1</th>\n",
       "      <td>Making Fun, Inc.</td>\n",
       "      <td>[Free to Play, Indie, RPG, Strategy]</td>\n",
       "      <td>Ironbound</td>\n",
       "      <td>Ironbound</td>\n",
       "      <td>http://store.steampowered.com/app/643980/Ironb...</td>\n",
       "      <td>2018-01-04</td>\n",
       "      <td>[Free to Play, Strategy, Indie, RPG, Card Game...</td>\n",
       "      <td>NaN</td>\n",
       "      <td>http://steamcommunity.com/app/643980/reviews/?...</td>\n",
       "      <td>[Single-player, Multi-player, Online Multi-Pla...</td>\n",
       "      <td>Free To Play</td>\n",
       "      <td>False</td>\n",
       "      <td>643980</td>\n",
       "      <td>Secret Level SRL</td>\n",
       "      <td>Mostly Positive</td>\n",
       "      <td>NaN</td>\n",
       "    </tr>\n",
       "    <tr>\n",
       "      <th>2</th>\n",
       "      <td>Poolians.com</td>\n",
       "      <td>[Casual, Free to Play, Indie, Simulation, Sports]</td>\n",
       "      <td>Real Pool 3D - Poolians</td>\n",
       "      <td>Real Pool 3D - Poolians</td>\n",
       "      <td>http://store.steampowered.com/app/670290/Real_...</td>\n",
       "      <td>2017-07-24</td>\n",
       "      <td>[Free to Play, Simulation, Sports, Casual, Ind...</td>\n",
       "      <td>NaN</td>\n",
       "      <td>http://steamcommunity.com/app/670290/reviews/?...</td>\n",
       "      <td>[Single-player, Multi-player, Online Multi-Pla...</td>\n",
       "      <td>Free to Play</td>\n",
       "      <td>False</td>\n",
       "      <td>670290</td>\n",
       "      <td>Poolians.com</td>\n",
       "      <td>Mostly Positive</td>\n",
       "      <td>NaN</td>\n",
       "    </tr>\n",
       "    <tr>\n",
       "      <th>3</th>\n",
       "      <td>彼岸领域</td>\n",
       "      <td>[Action, Adventure, Casual]</td>\n",
       "      <td>弹炸人2222</td>\n",
       "      <td>弹炸人2222</td>\n",
       "      <td>http://store.steampowered.com/app/767400/2222/</td>\n",
       "      <td>2017-12-07</td>\n",
       "      <td>[Action, Adventure, Casual]</td>\n",
       "      <td>0.8300</td>\n",
       "      <td>http://steamcommunity.com/app/767400/reviews/?...</td>\n",
       "      <td>[Single-player]</td>\n",
       "      <td>0.9900</td>\n",
       "      <td>False</td>\n",
       "      <td>767400</td>\n",
       "      <td>彼岸领域</td>\n",
       "      <td>NaN</td>\n",
       "      <td>NaN</td>\n",
       "    </tr>\n",
       "    <tr>\n",
       "      <th>4</th>\n",
       "      <td>NaN</td>\n",
       "      <td>NaN</td>\n",
       "      <td>Log Challenge</td>\n",
       "      <td>NaN</td>\n",
       "      <td>http://store.steampowered.com/app/773570/Log_C...</td>\n",
       "      <td>NaN</td>\n",
       "      <td>[Action, Indie, Casual, Sports]</td>\n",
       "      <td>1.7900</td>\n",
       "      <td>http://steamcommunity.com/app/773570/reviews/?...</td>\n",
       "      <td>[Single-player, Full controller support, HTC V...</td>\n",
       "      <td>2.9900</td>\n",
       "      <td>False</td>\n",
       "      <td>773570</td>\n",
       "      <td>NaN</td>\n",
       "      <td>NaN</td>\n",
       "      <td>NaN</td>\n",
       "    </tr>\n",
       "  </tbody>\n",
       "</table>\n",
       "</div>"
      ],
      "text/plain": [
       "          publisher                                             genres  \\\n",
       "0         Kotoshiro      [Action, Casual, Indie, Simulation, Strategy]   \n",
       "1  Making Fun, Inc.               [Free to Play, Indie, RPG, Strategy]   \n",
       "2      Poolians.com  [Casual, Free to Play, Indie, Simulation, Sports]   \n",
       "3              彼岸领域                        [Action, Adventure, Casual]   \n",
       "4               NaN                                                NaN   \n",
       "\n",
       "                  app_name                    title  \\\n",
       "0      Lost Summoner Kitty      Lost Summoner Kitty   \n",
       "1                Ironbound                Ironbound   \n",
       "2  Real Pool 3D - Poolians  Real Pool 3D - Poolians   \n",
       "3                  弹炸人2222                  弹炸人2222   \n",
       "4            Log Challenge                      NaN   \n",
       "\n",
       "                                                 url release_date  \\\n",
       "0  http://store.steampowered.com/app/761140/Lost_...   2018-01-04   \n",
       "1  http://store.steampowered.com/app/643980/Ironb...   2018-01-04   \n",
       "2  http://store.steampowered.com/app/670290/Real_...   2017-07-24   \n",
       "3     http://store.steampowered.com/app/767400/2222/   2017-12-07   \n",
       "4  http://store.steampowered.com/app/773570/Log_C...          NaN   \n",
       "\n",
       "                                                tags  discount_price  \\\n",
       "0      [Strategy, Action, Indie, Casual, Simulation]          4.4900   \n",
       "1  [Free to Play, Strategy, Indie, RPG, Card Game...             NaN   \n",
       "2  [Free to Play, Simulation, Sports, Casual, Ind...             NaN   \n",
       "3                        [Action, Adventure, Casual]          0.8300   \n",
       "4                    [Action, Indie, Casual, Sports]          1.7900   \n",
       "\n",
       "                                         reviews_url  \\\n",
       "0  http://steamcommunity.com/app/761140/reviews/?...   \n",
       "1  http://steamcommunity.com/app/643980/reviews/?...   \n",
       "2  http://steamcommunity.com/app/670290/reviews/?...   \n",
       "3  http://steamcommunity.com/app/767400/reviews/?...   \n",
       "4  http://steamcommunity.com/app/773570/reviews/?...   \n",
       "\n",
       "                                               specs         price  \\\n",
       "0                                    [Single-player]        4.9900   \n",
       "1  [Single-player, Multi-player, Online Multi-Pla...  Free To Play   \n",
       "2  [Single-player, Multi-player, Online Multi-Pla...  Free to Play   \n",
       "3                                    [Single-player]        0.9900   \n",
       "4  [Single-player, Full controller support, HTC V...        2.9900   \n",
       "\n",
       "   early_access      id         developer        sentiment metascore  \n",
       "0         False  761140         Kotoshiro              NaN       NaN  \n",
       "1         False  643980  Secret Level SRL  Mostly Positive       NaN  \n",
       "2         False  670290      Poolians.com  Mostly Positive       NaN  \n",
       "3         False  767400              彼岸领域              NaN       NaN  \n",
       "4         False  773570               NaN              NaN       NaN  "
      ]
     },
     "execution_count": 17,
     "metadata": {},
     "output_type": "execute_result"
    }
   ],
   "source": [
    "# Previsualizo el dataframe\n",
    "data_games.head()"
   ]
  },
  {
   "cell_type": "code",
   "execution_count": 18,
   "metadata": {},
   "outputs": [
    {
     "data": {
      "text/html": [
       "<pre>✔️ 47 ms (2021-09-15T19:41:38/2021-09-15T19:41:38)</pre>"
      ],
      "text/plain": [
       "<IPython.core.display.HTML object>"
      ]
     },
     "metadata": {},
     "output_type": "display_data"
    },
    {
     "data": {
      "text/plain": [
       "publisher          8052\n",
       "genres             3283\n",
       "app_name              2\n",
       "title              2050\n",
       "url                   0\n",
       "release_date       2067\n",
       "tags                163\n",
       "discount_price    31910\n",
       "reviews_url           2\n",
       "specs               670\n",
       "price              1377\n",
       "early_access          0\n",
       "id                    2\n",
       "developer          3299\n",
       "sentiment          7182\n",
       "metascore         29458\n",
       "dtype: int64"
      ]
     },
     "execution_count": 18,
     "metadata": {},
     "output_type": "execute_result"
    }
   ],
   "source": [
    "# Vemos los missings\n",
    "data_games.isna().sum()"
   ]
  },
  {
   "cell_type": "code",
   "execution_count": 19,
   "metadata": {},
   "outputs": [
    {
     "data": {
      "text/html": [
       "<pre>✔️ 32 ms (2021-09-15T19:41:39/2021-09-15T19:41:39)</pre>"
      ],
      "text/plain": [
       "<IPython.core.display.HTML object>"
      ]
     },
     "metadata": {},
     "output_type": "display_data"
    },
    {
     "data": {
      "text/html": [
       "<div>\n",
       "<style scoped>\n",
       "    .dataframe tbody tr th:only-of-type {\n",
       "        vertical-align: middle;\n",
       "    }\n",
       "\n",
       "    .dataframe tbody tr th {\n",
       "        vertical-align: top;\n",
       "    }\n",
       "\n",
       "    .dataframe thead th {\n",
       "        text-align: right;\n",
       "    }\n",
       "</style>\n",
       "<table border=\"1\" class=\"dataframe\">\n",
       "  <thead>\n",
       "    <tr style=\"text-align: right;\">\n",
       "      <th></th>\n",
       "      <th>publisher</th>\n",
       "      <th>genres</th>\n",
       "      <th>app_name</th>\n",
       "      <th>tags</th>\n",
       "      <th>specs</th>\n",
       "      <th>price</th>\n",
       "      <th>id</th>\n",
       "      <th>developer</th>\n",
       "      <th>sentiment</th>\n",
       "    </tr>\n",
       "  </thead>\n",
       "  <tbody>\n",
       "    <tr>\n",
       "      <th>0</th>\n",
       "      <td>Kotoshiro</td>\n",
       "      <td>[Action, Casual, Indie, Simulation, Strategy]</td>\n",
       "      <td>Lost Summoner Kitty</td>\n",
       "      <td>[Strategy, Action, Indie, Casual, Simulation]</td>\n",
       "      <td>[Single-player]</td>\n",
       "      <td>4.9900</td>\n",
       "      <td>761140</td>\n",
       "      <td>Kotoshiro</td>\n",
       "      <td>NaN</td>\n",
       "    </tr>\n",
       "    <tr>\n",
       "      <th>1</th>\n",
       "      <td>Making Fun, Inc.</td>\n",
       "      <td>[Free to Play, Indie, RPG, Strategy]</td>\n",
       "      <td>Ironbound</td>\n",
       "      <td>[Free to Play, Strategy, Indie, RPG, Card Game...</td>\n",
       "      <td>[Single-player, Multi-player, Online Multi-Pla...</td>\n",
       "      <td>Free To Play</td>\n",
       "      <td>643980</td>\n",
       "      <td>Secret Level SRL</td>\n",
       "      <td>Mostly Positive</td>\n",
       "    </tr>\n",
       "    <tr>\n",
       "      <th>2</th>\n",
       "      <td>Poolians.com</td>\n",
       "      <td>[Casual, Free to Play, Indie, Simulation, Sports]</td>\n",
       "      <td>Real Pool 3D - Poolians</td>\n",
       "      <td>[Free to Play, Simulation, Sports, Casual, Ind...</td>\n",
       "      <td>[Single-player, Multi-player, Online Multi-Pla...</td>\n",
       "      <td>Free to Play</td>\n",
       "      <td>670290</td>\n",
       "      <td>Poolians.com</td>\n",
       "      <td>Mostly Positive</td>\n",
       "    </tr>\n",
       "    <tr>\n",
       "      <th>3</th>\n",
       "      <td>彼岸领域</td>\n",
       "      <td>[Action, Adventure, Casual]</td>\n",
       "      <td>弹炸人2222</td>\n",
       "      <td>[Action, Adventure, Casual]</td>\n",
       "      <td>[Single-player]</td>\n",
       "      <td>0.9900</td>\n",
       "      <td>767400</td>\n",
       "      <td>彼岸领域</td>\n",
       "      <td>NaN</td>\n",
       "    </tr>\n",
       "    <tr>\n",
       "      <th>4</th>\n",
       "      <td>NaN</td>\n",
       "      <td>NaN</td>\n",
       "      <td>Log Challenge</td>\n",
       "      <td>[Action, Indie, Casual, Sports]</td>\n",
       "      <td>[Single-player, Full controller support, HTC V...</td>\n",
       "      <td>2.9900</td>\n",
       "      <td>773570</td>\n",
       "      <td>NaN</td>\n",
       "      <td>NaN</td>\n",
       "    </tr>\n",
       "  </tbody>\n",
       "</table>\n",
       "</div>"
      ],
      "text/plain": [
       "          publisher                                             genres  \\\n",
       "0         Kotoshiro      [Action, Casual, Indie, Simulation, Strategy]   \n",
       "1  Making Fun, Inc.               [Free to Play, Indie, RPG, Strategy]   \n",
       "2      Poolians.com  [Casual, Free to Play, Indie, Simulation, Sports]   \n",
       "3              彼岸领域                        [Action, Adventure, Casual]   \n",
       "4               NaN                                                NaN   \n",
       "\n",
       "                  app_name                                               tags  \\\n",
       "0      Lost Summoner Kitty      [Strategy, Action, Indie, Casual, Simulation]   \n",
       "1                Ironbound  [Free to Play, Strategy, Indie, RPG, Card Game...   \n",
       "2  Real Pool 3D - Poolians  [Free to Play, Simulation, Sports, Casual, Ind...   \n",
       "3                  弹炸人2222                        [Action, Adventure, Casual]   \n",
       "4            Log Challenge                    [Action, Indie, Casual, Sports]   \n",
       "\n",
       "                                               specs         price      id  \\\n",
       "0                                    [Single-player]        4.9900  761140   \n",
       "1  [Single-player, Multi-player, Online Multi-Pla...  Free To Play  643980   \n",
       "2  [Single-player, Multi-player, Online Multi-Pla...  Free to Play  670290   \n",
       "3                                    [Single-player]        0.9900  767400   \n",
       "4  [Single-player, Full controller support, HTC V...        2.9900  773570   \n",
       "\n",
       "          developer        sentiment  \n",
       "0         Kotoshiro              NaN  \n",
       "1  Secret Level SRL  Mostly Positive  \n",
       "2      Poolians.com  Mostly Positive  \n",
       "3              彼岸领域              NaN  \n",
       "4               NaN              NaN  "
      ]
     },
     "execution_count": 19,
     "metadata": {},
     "output_type": "execute_result"
    }
   ],
   "source": [
    "# Selecciono las columnas que me interesan\n",
    "# Descarto la columna 'title' ya que tienen muchos missings y la columns 'app_name' tienen los nombres de los juegos\n",
    "columnas = ['publisher', 'genres', 'app_name', 'tags', 'specs', 'price', 'id', 'developer', 'sentiment']\n",
    "data_games = data_games[columnas]\n",
    "data_games.head()"
   ]
  },
  {
   "cell_type": "code",
   "execution_count": 20,
   "metadata": {},
   "outputs": [
    {
     "data": {
      "text/html": [
       "<pre>✔️ 46 ms (2021-09-15T19:41:40/2021-09-15T19:41:40)</pre>"
      ],
      "text/plain": [
       "<IPython.core.display.HTML object>"
      ]
     },
     "metadata": {},
     "output_type": "display_data"
    },
    {
     "data": {
      "text/plain": [
       "publisher    8052\n",
       "genres       3283\n",
       "app_name        2\n",
       "tags          163\n",
       "specs         670\n",
       "price        1377\n",
       "id              2\n",
       "developer    3299\n",
       "sentiment    7182\n",
       "dtype: int64"
      ]
     },
     "execution_count": 20,
     "metadata": {},
     "output_type": "execute_result"
    }
   ],
   "source": [
    "# Vemos los missings\n",
    "data_games.isna().sum()"
   ]
  },
  {
   "cell_type": "code",
   "execution_count": 21,
   "metadata": {},
   "outputs": [
    {
     "data": {
      "text/html": [
       "<pre>✔️ 31 ms (2021-09-15T19:41:42/2021-09-15T19:41:42)</pre>"
      ],
      "text/plain": [
       "<IPython.core.display.HTML object>"
      ]
     },
     "metadata": {},
     "output_type": "display_data"
    }
   ],
   "source": [
    "# Descarto los missings de 'id' y de 'app_name'\n",
    "data_games.dropna(axis=0, subset=['id', 'app_name'], inplace=True)"
   ]
  },
  {
   "cell_type": "code",
   "execution_count": 22,
   "metadata": {},
   "outputs": [
    {
     "data": {
      "text/html": [
       "<pre>✔️ 31 ms (2021-09-15T19:41:49/2021-09-15T19:41:49)</pre>"
      ],
      "text/plain": [
       "<IPython.core.display.HTML object>"
      ]
     },
     "metadata": {},
     "output_type": "display_data"
    },
    {
     "data": {
      "text/plain": [
       "publisher    8050\n",
       "genres       3282\n",
       "app_name        0\n",
       "tags          162\n",
       "specs         669\n",
       "price        1376\n",
       "id              0\n",
       "developer    3297\n",
       "sentiment    7181\n",
       "dtype: int64"
      ]
     },
     "execution_count": 22,
     "metadata": {},
     "output_type": "execute_result"
    }
   ],
   "source": [
    "# Vemos los missings\n",
    "data_games.isna().sum()"
   ]
  },
  {
   "cell_type": "code",
   "execution_count": 23,
   "metadata": {},
   "outputs": [
    {
     "data": {
      "text/html": [
       "<pre>✔️ 15 ms (2021-09-15T19:41:52/2021-09-15T19:41:52)</pre>"
      ],
      "text/plain": [
       "<IPython.core.display.HTML object>"
      ]
     },
     "metadata": {},
     "output_type": "display_data"
    },
    {
     "data": {
      "text/plain": [
       "publisher    object\n",
       "genres       object\n",
       "app_name     object\n",
       "tags         object\n",
       "specs        object\n",
       "price        object\n",
       "id           object\n",
       "developer    object\n",
       "sentiment    object\n",
       "dtype: object"
      ]
     },
     "execution_count": 23,
     "metadata": {},
     "output_type": "execute_result"
    }
   ],
   "source": [
    "# Observamos los tipos de dato\n",
    "data_games.dtypes"
   ]
  },
  {
   "cell_type": "code",
   "execution_count": 24,
   "metadata": {},
   "outputs": [
    {
     "data": {
      "text/html": [
       "<pre>✔️ 16 ms (2021-09-15T19:41:52/2021-09-15T19:41:52)</pre>"
      ],
      "text/plain": [
       "<IPython.core.display.HTML object>"
      ]
     },
     "metadata": {},
     "output_type": "display_data"
    }
   ],
   "source": [
    "# Cambio el tipo de dato de la columna 'id' y le cambio el nombre a 'product_id' para que coincida con la del dataframe 'data_reviews' \n",
    "data_games['id'] = data_games['id'].astype('int')\n",
    "data_games.rename(columns={'id':'product_id'}, inplace=True)"
   ]
  },
  {
   "cell_type": "code",
   "execution_count": 25,
   "metadata": {},
   "outputs": [
    {
     "data": {
      "text/html": [
       "<pre>✔️ 0 ns (2021-09-15T19:41:54/2021-09-15T19:41:54)</pre>"
      ],
      "text/plain": [
       "<IPython.core.display.HTML object>"
      ]
     },
     "metadata": {},
     "output_type": "display_data"
    },
    {
     "data": {
      "text/plain": [
       "publisher     object\n",
       "genres        object\n",
       "app_name      object\n",
       "tags          object\n",
       "specs         object\n",
       "price         object\n",
       "product_id     int32\n",
       "developer     object\n",
       "sentiment     object\n",
       "dtype: object"
      ]
     },
     "execution_count": 25,
     "metadata": {},
     "output_type": "execute_result"
    }
   ],
   "source": [
    "# Chequeo los data types\n",
    "data_games.dtypes"
   ]
  },
  {
   "cell_type": "markdown",
   "metadata": {},
   "source": [
    "#### Lista de Géneros"
   ]
  },
  {
   "cell_type": "code",
   "execution_count": 82,
   "metadata": {},
   "outputs": [
    {
     "data": {
      "text/html": [
       "<pre>✔️ 0 ns (2021-09-15T21:15:27/2021-09-15T21:15:27)</pre>"
      ],
      "text/plain": [
       "<IPython.core.display.HTML object>"
      ]
     },
     "metadata": {},
     "output_type": "display_data"
    },
    {
     "data": {
      "text/plain": [
       "array([list(['Action', 'Casual', 'Indie', 'Simulation', 'Strategy']),\n",
       "       list(['Free to Play', 'Indie', 'RPG', 'Strategy']),\n",
       "       list(['Casual', 'Free to Play', 'Indie', 'Simulation', 'Sports']),\n",
       "       ..., list(['Indie', 'Racing', 'Simulation']),\n",
       "       list(['Casual', 'Indie']), nan], dtype=object)"
      ]
     },
     "execution_count": 82,
     "metadata": {},
     "output_type": "execute_result"
    }
   ],
   "source": [
    "data_games.genres.values"
   ]
  },
  {
   "cell_type": "code",
   "execution_count": 96,
   "metadata": {},
   "outputs": [
    {
     "data": {
      "text/html": [
       "<pre>✔️ 0 ns (2021-09-15T21:26:17/2021-09-15T21:26:17)</pre>"
      ],
      "text/plain": [
       "<IPython.core.display.HTML object>"
      ]
     },
     "metadata": {},
     "output_type": "display_data"
    },
    {
     "data": {
      "text/plain": [
       "list"
      ]
     },
     "execution_count": 96,
     "metadata": {},
     "output_type": "execute_result"
    }
   ],
   "source": [
    "type(data_games.genres[0])"
   ]
  },
  {
   "cell_type": "code",
   "execution_count": 99,
   "metadata": {},
   "outputs": [
    {
     "data": {
      "text/html": [
       "<pre>✔️ 0 ns (2021-09-15T21:26:44/2021-09-15T21:26:44)</pre>"
      ],
      "text/plain": [
       "<IPython.core.display.HTML object>"
      ]
     },
     "metadata": {},
     "output_type": "display_data"
    }
   ],
   "source": [
    "def listar(column):\n",
    "    biglist = column.values\n",
    "    flat_list = []\n",
    "    for sublist in biglist:\n",
    "        if type(sublist)==list:\n",
    "            for item in sublist:\n",
    "                flat_list.append(item)\n",
    "    return set(flat_list)"
   ]
  },
  {
   "cell_type": "code",
   "execution_count": 100,
   "metadata": {},
   "outputs": [
    {
     "data": {
      "text/html": [
       "<pre>✔️ 31 ms (2021-09-15T21:26:45/2021-09-15T21:26:45)</pre>"
      ],
      "text/plain": [
       "<IPython.core.display.HTML object>"
      ]
     },
     "metadata": {},
     "output_type": "display_data"
    },
    {
     "data": {
      "text/plain": [
       "{'Accounting',\n",
       " 'Action',\n",
       " 'Adventure',\n",
       " 'Animation &amp; Modeling',\n",
       " 'Audio Production',\n",
       " 'Casual',\n",
       " 'Design &amp; Illustration',\n",
       " 'Early Access',\n",
       " 'Education',\n",
       " 'Free to Play',\n",
       " 'Indie',\n",
       " 'Massively Multiplayer',\n",
       " 'Photo Editing',\n",
       " 'RPG',\n",
       " 'Racing',\n",
       " 'Simulation',\n",
       " 'Software Training',\n",
       " 'Sports',\n",
       " 'Strategy',\n",
       " 'Utilities',\n",
       " 'Video Production',\n",
       " 'Web Publishing'}"
      ]
     },
     "execution_count": 100,
     "metadata": {},
     "output_type": "execute_result"
    }
   ],
   "source": [
    "listar(data_games.genres)"
   ]
  },
  {
   "cell_type": "code",
   "execution_count": 101,
   "metadata": {},
   "outputs": [
    {
     "data": {
      "text/html": [
       "<pre>✔️ 63 ms (2021-09-15T21:29:28/2021-09-15T21:29:28)</pre>"
      ],
      "text/plain": [
       "<IPython.core.display.HTML object>"
      ]
     },
     "metadata": {},
     "output_type": "display_data"
    },
    {
     "data": {
      "text/plain": [
       "{'1980s',\n",
       " \"1990's\",\n",
       " '2.5D',\n",
       " '2D',\n",
       " '2D Fighter',\n",
       " '360 Video',\n",
       " '3D Platformer',\n",
       " '3D Vision',\n",
       " '4 Player Local',\n",
       " '4X',\n",
       " '6DOF',\n",
       " 'Abstract',\n",
       " 'Action',\n",
       " 'Action RPG',\n",
       " 'Action-Adventure',\n",
       " 'Adventure',\n",
       " 'Agriculture',\n",
       " 'Aliens',\n",
       " 'Alternate History',\n",
       " 'America',\n",
       " 'Animation & Modeling',\n",
       " 'Anime',\n",
       " 'Arcade',\n",
       " 'Arena Shooter',\n",
       " 'Artificial Intelligence',\n",
       " 'Assassin',\n",
       " 'Asynchronous Multiplayer',\n",
       " 'Atmospheric',\n",
       " 'Audio Production',\n",
       " 'Base Building',\n",
       " 'Based On A Novel',\n",
       " 'Basketball',\n",
       " 'Batman',\n",
       " \"Beat 'em up\",\n",
       " 'Benchmark',\n",
       " 'Bikes',\n",
       " 'Blood',\n",
       " 'Board Game',\n",
       " 'Bowling',\n",
       " 'Building',\n",
       " 'Bullet Hell',\n",
       " 'Bullet Time',\n",
       " 'CRPG',\n",
       " 'Capitalism',\n",
       " 'Card Game',\n",
       " 'Cartoon',\n",
       " 'Cartoony',\n",
       " 'Casual',\n",
       " 'Character Action Game',\n",
       " 'Character Customization',\n",
       " 'Chess',\n",
       " 'Choices Matter',\n",
       " 'Choose Your Own Adventure',\n",
       " 'Cinematic',\n",
       " 'City Builder',\n",
       " 'Class-Based',\n",
       " 'Classic',\n",
       " 'Clicker',\n",
       " 'Co-op',\n",
       " 'Co-op Campaign',\n",
       " 'Cold War',\n",
       " 'Colorful',\n",
       " 'Comedy',\n",
       " 'Comic Book',\n",
       " 'Competitive',\n",
       " 'Conspiracy',\n",
       " 'Controller',\n",
       " 'Conversation',\n",
       " 'Crafting',\n",
       " 'Crime',\n",
       " 'Crowdfunded',\n",
       " 'Cult Classic',\n",
       " 'Cute',\n",
       " 'Cyberpunk',\n",
       " 'Cycling',\n",
       " 'Dark',\n",
       " 'Dark Comedy',\n",
       " 'Dark Fantasy',\n",
       " 'Dark Humor',\n",
       " 'Dating Sim',\n",
       " 'Demons',\n",
       " 'Design & Illustration',\n",
       " 'Destruction',\n",
       " 'Detective',\n",
       " 'Difficult',\n",
       " 'Dinosaurs',\n",
       " 'Diplomacy',\n",
       " 'Documentary',\n",
       " 'Dragons',\n",
       " 'Drama',\n",
       " 'Driving',\n",
       " 'Dungeon Crawler',\n",
       " 'Dynamic Narration',\n",
       " 'Dystopian',\n",
       " 'Early Access',\n",
       " 'Economy',\n",
       " 'Education',\n",
       " 'Episodic',\n",
       " 'Experience',\n",
       " 'Experimental',\n",
       " 'Exploration',\n",
       " 'FMV',\n",
       " 'FPS',\n",
       " 'Faith',\n",
       " 'Family Friendly',\n",
       " 'Fantasy',\n",
       " 'Fast-Paced',\n",
       " 'Feature Film',\n",
       " 'Female Protagonist',\n",
       " 'Fighting',\n",
       " 'First-Person',\n",
       " 'Fishing',\n",
       " 'Flight',\n",
       " 'Football',\n",
       " 'Foreign',\n",
       " 'Free to Play',\n",
       " 'Funny',\n",
       " 'Futuristic',\n",
       " 'Gambling',\n",
       " 'Game Development',\n",
       " 'GameMaker',\n",
       " 'Games Workshop',\n",
       " 'Gaming',\n",
       " 'God Game',\n",
       " 'Golf',\n",
       " 'Gore',\n",
       " 'Gothic',\n",
       " 'Grand Strategy',\n",
       " 'Great Soundtrack',\n",
       " 'Grid-Based Movement',\n",
       " 'Gun Customization',\n",
       " 'Hack and Slash',\n",
       " 'Hacking',\n",
       " 'Hand-drawn',\n",
       " 'Hardware',\n",
       " 'Heist',\n",
       " 'Hex Grid',\n",
       " 'Hidden Object',\n",
       " 'Historical',\n",
       " 'Horror',\n",
       " 'Horses',\n",
       " 'Hunting',\n",
       " 'Illuminati',\n",
       " 'Indie',\n",
       " 'Intentionally Awkward Controls',\n",
       " 'Interactive Fiction',\n",
       " 'Inventory Management',\n",
       " 'Investigation',\n",
       " 'Isometric',\n",
       " 'JRPG',\n",
       " 'Kickstarter',\n",
       " 'LEGO',\n",
       " 'Lara Croft',\n",
       " 'Lemmings',\n",
       " 'Level Editor',\n",
       " 'Linear',\n",
       " 'Local Co-Op',\n",
       " 'Local Multiplayer',\n",
       " 'Loot',\n",
       " 'Lore-Rich',\n",
       " 'Lovecraftian',\n",
       " 'MMORPG',\n",
       " 'MOBA',\n",
       " 'Magic',\n",
       " 'Management',\n",
       " 'Mars',\n",
       " 'Martial Arts',\n",
       " 'Massively Multiplayer',\n",
       " 'Match 3',\n",
       " 'Mature',\n",
       " 'Mechs',\n",
       " 'Medieval',\n",
       " 'Memes',\n",
       " 'Metroidvania',\n",
       " 'Military',\n",
       " 'Mini Golf',\n",
       " 'Minimalist',\n",
       " 'Mining',\n",
       " 'Mod',\n",
       " 'Moddable',\n",
       " 'Modern',\n",
       " 'Mouse only',\n",
       " 'Movie',\n",
       " 'Multiplayer',\n",
       " 'Multiple Endings',\n",
       " 'Music',\n",
       " 'Music-Based Procedural Generation',\n",
       " 'Mystery',\n",
       " 'Mystery Dungeon',\n",
       " 'Mythology',\n",
       " 'NSFW',\n",
       " 'Narration',\n",
       " 'Naval',\n",
       " 'Ninja',\n",
       " 'Noir',\n",
       " 'Nonlinear',\n",
       " 'Nudity',\n",
       " 'Offroad',\n",
       " 'On-Rails Shooter',\n",
       " 'Online Co-Op',\n",
       " 'Open World',\n",
       " 'Otome',\n",
       " 'Parkour',\n",
       " 'Parody',\n",
       " 'Party-Based RPG',\n",
       " 'Perma Death',\n",
       " 'Philisophical',\n",
       " 'Photo Editing',\n",
       " 'Physics',\n",
       " 'Pinball',\n",
       " 'Pirates',\n",
       " 'Pixel Graphics',\n",
       " 'Platformer',\n",
       " 'Point & Click',\n",
       " 'Political',\n",
       " 'Politics',\n",
       " 'Pool',\n",
       " 'Post-apocalyptic',\n",
       " 'Procedural Generation',\n",
       " 'Programming',\n",
       " 'Psychedelic',\n",
       " 'Psychological',\n",
       " 'Psychological Horror',\n",
       " 'Puzzle',\n",
       " 'Puzzle-Platformer',\n",
       " 'PvE',\n",
       " 'PvP',\n",
       " 'Quick-Time Events',\n",
       " 'RPG',\n",
       " 'RPGMaker',\n",
       " 'RTS',\n",
       " 'Racing',\n",
       " 'Real Time Tactics',\n",
       " 'Real-Time',\n",
       " 'Real-Time with Pause',\n",
       " 'Realistic',\n",
       " 'Relaxing',\n",
       " 'Remake',\n",
       " 'Replay Value',\n",
       " 'Resource Management',\n",
       " 'Retro',\n",
       " 'Rhythm',\n",
       " 'Robots',\n",
       " 'Rogue-like',\n",
       " 'Rogue-lite',\n",
       " 'Romance',\n",
       " 'Rome',\n",
       " 'Runner',\n",
       " 'Sailing',\n",
       " 'Sandbox',\n",
       " 'Satire',\n",
       " 'Sci-fi',\n",
       " 'Science',\n",
       " 'Score Attack',\n",
       " 'Sexual Content',\n",
       " \"Shoot 'Em Up\",\n",
       " 'Shooter',\n",
       " 'Short',\n",
       " 'Side Scroller',\n",
       " 'Silent Protagonist',\n",
       " 'Simulation',\n",
       " 'Singleplayer',\n",
       " 'Sniper',\n",
       " 'Soccer',\n",
       " 'Software',\n",
       " 'Software Training',\n",
       " 'Sokoban',\n",
       " 'Soundtrack',\n",
       " 'Space',\n",
       " 'Space Sim',\n",
       " 'Spectacle fighter',\n",
       " 'Spelling',\n",
       " 'Split Screen',\n",
       " 'Sports',\n",
       " 'Star Wars',\n",
       " 'Stealth',\n",
       " 'Steam Machine',\n",
       " 'Steampunk',\n",
       " 'Story Rich',\n",
       " 'Strategy',\n",
       " 'Strategy RPG',\n",
       " 'Stylized',\n",
       " 'Superhero',\n",
       " 'Supernatural',\n",
       " 'Surreal',\n",
       " 'Survival',\n",
       " 'Survival Horror',\n",
       " 'Swordplay',\n",
       " 'Tactical',\n",
       " 'Tactical RPG',\n",
       " 'Tanks',\n",
       " 'Team-Based',\n",
       " 'Text-Based',\n",
       " 'Third Person',\n",
       " 'Third-Person Shooter',\n",
       " 'Thriller',\n",
       " 'Time Attack',\n",
       " 'Time Manipulation',\n",
       " 'Time Travel',\n",
       " 'Top-Down',\n",
       " 'Top-Down Shooter',\n",
       " 'Touch-Friendly',\n",
       " 'Tower Defense',\n",
       " 'TrackIR',\n",
       " 'Trading',\n",
       " 'Trading Card Game',\n",
       " 'Trains',\n",
       " 'Transhumanism',\n",
       " 'Turn-Based',\n",
       " 'Turn-Based Combat',\n",
       " 'Turn-Based Strategy',\n",
       " 'Turn-Based Tactics',\n",
       " 'Tutorial',\n",
       " 'Twin Stick Shooter',\n",
       " 'Typing',\n",
       " 'Underground',\n",
       " 'Underwater',\n",
       " 'Utilities',\n",
       " 'VR',\n",
       " 'Vampire',\n",
       " 'Video Production',\n",
       " 'Villain Protagonist',\n",
       " 'Violent',\n",
       " 'Visual Novel',\n",
       " 'Voice Control',\n",
       " 'Voxel',\n",
       " 'Walking Simulator',\n",
       " 'War',\n",
       " 'Wargame',\n",
       " 'Warhammer 40K',\n",
       " 'Web Publishing',\n",
       " 'Werewolves',\n",
       " 'Western',\n",
       " 'Word Game',\n",
       " 'World War I',\n",
       " 'World War II',\n",
       " 'Wrestling',\n",
       " 'Zombies',\n",
       " 'e-sports'}"
      ]
     },
     "execution_count": 101,
     "metadata": {},
     "output_type": "execute_result"
    }
   ],
   "source": [
    "listar(data_games.tags)"
   ]
  },
  {
   "cell_type": "markdown",
   "metadata": {},
   "source": [
    "### Detección de idioma"
   ]
  },
  {
   "cell_type": "code",
   "execution_count": 26,
   "metadata": {},
   "outputs": [
    {
     "data": {
      "text/html": [
       "<pre>✔️ 0 ns (2021-09-15T19:41:55/2021-09-15T19:41:55)</pre>"
      ],
      "text/plain": [
       "<IPython.core.display.HTML object>"
      ]
     },
     "metadata": {},
     "output_type": "display_data"
    }
   ],
   "source": [
    "# Creamos método para eliminar los caracteres que no sean letras\n",
    "def cleanText(text):\n",
    "    # Vamos a reemplzar los caracteres que no sean letras por espacios\n",
    "    text = re.sub(\"[^A-Za-z]\",\" \",str(text))\n",
    "    return text"
   ]
  },
  {
   "cell_type": "code",
   "execution_count": 27,
   "metadata": {},
   "outputs": [
    {
     "data": {
      "text/html": [
       "<pre>✔️ 47 ms (2021-09-15T19:41:58/2021-09-15T19:41:58)</pre>"
      ],
      "text/plain": [
       "<IPython.core.display.HTML object>"
      ]
     },
     "metadata": {},
     "output_type": "display_data"
    }
   ],
   "source": [
    "# Trabajaremos sobre una copia del dataset de reviews\n",
    "df_reviews = data_reviews.copy()"
   ]
  },
  {
   "cell_type": "code",
   "execution_count": 28,
   "metadata": {},
   "outputs": [
    {
     "data": {
      "text/html": [
       "<pre>✔️ 26.3 s (2021-09-15T19:41:58/2021-09-15T19:42:24)</pre>"
      ],
      "text/plain": [
       "<IPython.core.display.HTML object>"
      ]
     },
     "metadata": {},
     "output_type": "display_data"
    },
    {
     "data": {
      "application/vnd.jupyter.widget-view+json": {
       "model_id": "7717e52d83884201a77c13b92eb6cb48",
       "version_major": 2,
       "version_minor": 0
      },
      "text/plain": [
       "  0%|          | 0/774825 [00:00<?, ?it/s]"
      ]
     },
     "metadata": {},
     "output_type": "display_data"
    }
   ],
   "source": [
    "# Aplicamos el método a la columna de texto\n",
    "df_reviews['text'] = df_reviews['text'].progress_apply(cleanText)"
   ]
  },
  {
   "cell_type": "code",
   "execution_count": 29,
   "metadata": {
    "scrolled": true
   },
   "outputs": [
    {
     "data": {
      "text/html": [
       "<pre>✔️ 16 ms (2021-09-15T19:42:24/2021-09-15T19:42:24)</pre>"
      ],
      "text/plain": [
       "<IPython.core.display.HTML object>"
      ]
     },
     "metadata": {},
     "output_type": "display_data"
    },
    {
     "data": {
      "text/html": [
       "<div>\n",
       "<style scoped>\n",
       "    .dataframe tbody tr th:only-of-type {\n",
       "        vertical-align: middle;\n",
       "    }\n",
       "\n",
       "    .dataframe tbody tr th {\n",
       "        vertical-align: top;\n",
       "    }\n",
       "\n",
       "    .dataframe thead th {\n",
       "        text-align: right;\n",
       "    }\n",
       "</style>\n",
       "<table border=\"1\" class=\"dataframe\">\n",
       "  <thead>\n",
       "    <tr style=\"text-align: right;\">\n",
       "      <th></th>\n",
       "      <th>username</th>\n",
       "      <th>hours</th>\n",
       "      <th>product_id</th>\n",
       "      <th>date</th>\n",
       "      <th>text</th>\n",
       "    </tr>\n",
       "  </thead>\n",
       "  <tbody>\n",
       "    <tr>\n",
       "      <th>0</th>\n",
       "      <td>Chaos Syren</td>\n",
       "      <td>0.1000</td>\n",
       "      <td>725280</td>\n",
       "      <td>2017-12-17</td>\n",
       "      <td>This would not be acceptable as an entertainme...</td>\n",
       "    </tr>\n",
       "    <tr>\n",
       "      <th>1</th>\n",
       "      <td>Ariman1</td>\n",
       "      <td>13.2000</td>\n",
       "      <td>328100</td>\n",
       "      <td>2017-08-02</td>\n",
       "      <td>Addictive RPG   Works fine on linux though it ...</td>\n",
       "    </tr>\n",
       "    <tr>\n",
       "      <th>2</th>\n",
       "      <td>freakfantom</td>\n",
       "      <td>0.1000</td>\n",
       "      <td>725280</td>\n",
       "      <td>2017-11-12</td>\n",
       "      <td></td>\n",
       "    </tr>\n",
       "    <tr>\n",
       "      <th>3</th>\n",
       "      <td>The_Cpt_FROGGY</td>\n",
       "      <td>7.8000</td>\n",
       "      <td>631920</td>\n",
       "      <td>2017-12-11</td>\n",
       "      <td>Somewhere on Zibylon                     Zibyl...</td>\n",
       "    </tr>\n",
       "    <tr>\n",
       "      <th>4</th>\n",
       "      <td>the_maker988</td>\n",
       "      <td>8.2000</td>\n",
       "      <td>35140</td>\n",
       "      <td>2018-01-02</td>\n",
       "      <td>This game was way to linear for me  and compar...</td>\n",
       "    </tr>\n",
       "  </tbody>\n",
       "</table>\n",
       "</div>"
      ],
      "text/plain": [
       "         username   hours  product_id        date  \\\n",
       "0     Chaos Syren  0.1000      725280  2017-12-17   \n",
       "1         Ariman1 13.2000      328100  2017-08-02   \n",
       "2     freakfantom  0.1000      725280  2017-11-12   \n",
       "3  The_Cpt_FROGGY  7.8000      631920  2017-12-11   \n",
       "4    the_maker988  8.2000       35140  2018-01-02   \n",
       "\n",
       "                                                text  \n",
       "0  This would not be acceptable as an entertainme...  \n",
       "1  Addictive RPG   Works fine on linux though it ...  \n",
       "2                                                     \n",
       "3  Somewhere on Zibylon                     Zibyl...  \n",
       "4  This game was way to linear for me  and compar...  "
      ]
     },
     "execution_count": 29,
     "metadata": {},
     "output_type": "execute_result"
    }
   ],
   "source": [
    "# Vemos como quedaron las primeras instancias\n",
    "df_reviews.head()"
   ]
  },
  {
   "cell_type": "code",
   "execution_count": 30,
   "metadata": {},
   "outputs": [
    {
     "data": {
      "text/html": [
       "<pre>✔️ 0 ns (2021-09-15T19:42:25/2021-09-15T19:42:25)</pre>"
      ],
      "text/plain": [
       "<IPython.core.display.HTML object>"
      ]
     },
     "metadata": {},
     "output_type": "display_data"
    }
   ],
   "source": [
    "# Creamos función para detectar idioma\n",
    "def getLang(text):\n",
    "    try:\n",
    "        lang = detect(text)                                     \n",
    "    except:\n",
    "        lang = np.NaN\n",
    "    return lang"
   ]
  },
  {
   "cell_type": "code",
   "execution_count": 31,
   "metadata": {},
   "outputs": [
    {
     "data": {
      "text/html": [
       "<pre>✔️ 7.69 s (2021-09-15T19:42:25/2021-09-15T19:42:32)</pre>"
      ],
      "text/plain": [
       "<IPython.core.display.HTML object>"
      ]
     },
     "metadata": {},
     "output_type": "display_data"
    }
   ],
   "source": [
    "if DETECT_LANG:\n",
    "    df_reviews['lang'] = df_reviews['text'].progress_apply(getLang)\n",
    "    df_reviews.to_csv('df_reviews.csv', index_label='index')\n",
    "else:\n",
    "    df_reviews = pd.read_csv('df_reviews.csv', index_col='index')"
   ]
  },
  {
   "cell_type": "code",
   "execution_count": 32,
   "metadata": {},
   "outputs": [
    {
     "data": {
      "text/html": [
       "<pre>✔️ 62 ms (2021-09-15T19:42:33/2021-09-15T19:42:33)</pre>"
      ],
      "text/plain": [
       "<IPython.core.display.HTML object>"
      ]
     },
     "metadata": {},
     "output_type": "display_data"
    },
    {
     "data": {
      "text/plain": [
       "array(['en', nan, 'so', 'pl', 'de', 'it', 'fr', 'ca', 'sw', 'tr', 'af',\n",
       "       'hr', 'tl', 'no', 'es', 'ro', 'vi', 'nl', 'sq', 'cy', 'pt', 'id',\n",
       "       'lv', 'et', 'hu', 'lt', 'da', 'sl', 'sk', 'fi', 'sv', 'cs', 'uk'],\n",
       "      dtype=object)"
      ]
     },
     "execution_count": 32,
     "metadata": {},
     "output_type": "execute_result"
    }
   ],
   "source": [
    "# Vemos los diferentes idiomas detectados\n",
    "df_reviews.lang.unique()"
   ]
  },
  {
   "cell_type": "code",
   "execution_count": 43,
   "metadata": {},
   "outputs": [
    {
     "data": {
      "text/html": [
       "<pre>✔️ 156 ms (2021-09-15T19:49:59/2021-09-15T19:49:59)</pre>"
      ],
      "text/plain": [
       "<IPython.core.display.HTML object>"
      ]
     },
     "metadata": {},
     "output_type": "display_data"
    },
    {
     "data": {
      "text/plain": [
       "username           18\n",
       "product_id          0\n",
       "text                0\n",
       "found_funny    657709\n",
       "hours            2625\n",
       "lang             8201\n",
       "dtype: int64"
      ]
     },
     "execution_count": 43,
     "metadata": {},
     "output_type": "execute_result"
    }
   ],
   "source": [
    "df_reviews.isna().sum()"
   ]
  },
  {
   "cell_type": "code",
   "execution_count": 42,
   "metadata": {},
   "outputs": [
    {
     "data": {
      "text/html": [
       "<pre>✔️ 140 ms (2021-09-15T19:48:49/2021-09-15T19:48:49)</pre>"
      ],
      "text/plain": [
       "<IPython.core.display.HTML object>"
      ]
     },
     "metadata": {},
     "output_type": "display_data"
    },
    {
     "data": {
      "text/plain": [
       "lang\n",
       "af      7416\n",
       "ca      2816\n",
       "cs       367\n",
       "cy      4123\n",
       "da      3897\n",
       "de      8799\n",
       "en    685187\n",
       "es      3207\n",
       "et      1757\n",
       "fi       871\n",
       "fr      2617\n",
       "hr      1225\n",
       "hu       845\n",
       "id      2529\n",
       "it      2528\n",
       "lt       378\n",
       "lv       372\n",
       "nl      3131\n",
       "no      4051\n",
       "pl      2459\n",
       "pt      2390\n",
       "ro      3390\n",
       "sk       664\n",
       "sl      1324\n",
       "so     10802\n",
       "sq      1275\n",
       "sv       904\n",
       "sw      1579\n",
       "tl      5307\n",
       "tr      1802\n",
       "uk        15\n",
       "vi      1222\n",
       "Name: username, dtype: int64"
      ]
     },
     "execution_count": 42,
     "metadata": {},
     "output_type": "execute_result"
    }
   ],
   "source": [
    "df_reviews.groupby('lang').username.count()"
   ]
  },
  {
   "cell_type": "code",
   "execution_count": 44,
   "metadata": {},
   "outputs": [
    {
     "data": {
      "text/html": [
       "<pre>✔️ 266 ms (2021-09-15T19:56:06/2021-09-15T19:56:06)</pre>"
      ],
      "text/plain": [
       "<IPython.core.display.HTML object>"
      ]
     },
     "metadata": {},
     "output_type": "display_data"
    }
   ],
   "source": [
    "df_reviews = df_reviews.dropna()"
   ]
  },
  {
   "cell_type": "code",
   "execution_count": 45,
   "metadata": {},
   "outputs": [
    {
     "data": {
      "text/html": [
       "<pre>✔️ 32 ms (2021-09-15T19:56:12/2021-09-15T19:56:12)</pre>"
      ],
      "text/plain": [
       "<IPython.core.display.HTML object>"
      ]
     },
     "metadata": {},
     "output_type": "display_data"
    }
   ],
   "source": [
    "# Cargo un dataset con los nombres de los idiomas correspondiente a cada código\n",
    "code = pd.read_csv('lang_code3.csv')\n",
    "# Y lo convierto en diccionario\n",
    "code_dict = code.set_index('code').to_dict()['language_name']\n",
    "# Luego reemplazo el código por el nombre del idioma\n",
    "df_reviews['lang'] = df_reviews['lang'].map(code_dict)"
   ]
  },
  {
   "cell_type": "code",
   "execution_count": 46,
   "metadata": {},
   "outputs": [
    {
     "data": {
      "text/html": [
       "<pre>✔️ 62 ms (2021-09-15T19:56:19/2021-09-15T19:56:19)</pre>"
      ],
      "text/plain": [
       "<IPython.core.display.HTML object>"
      ]
     },
     "metadata": {},
     "output_type": "display_data"
    }
   ],
   "source": [
    "# Agrupo por idioma y ordeno por cantidad de instancias de cada uno\n",
    "idiomas = df_reviews.groupby('lang').count()['username'].sort_values(ascending=False)"
   ]
  },
  {
   "cell_type": "code",
   "execution_count": 47,
   "metadata": {},
   "outputs": [
    {
     "data": {
      "text/html": [
       "<pre>✔️ 16 ms (2021-09-15T19:56:21/2021-09-15T19:56:21)</pre>"
      ],
      "text/plain": [
       "<IPython.core.display.HTML object>"
      ]
     },
     "metadata": {},
     "output_type": "display_data"
    },
    {
     "data": {
      "text/plain": [
       "lang\n",
       "English      105833\n",
       "German         1367\n",
       "Somali         1329\n",
       "Afrikaans       950\n",
       "Tagalog         829\n",
       "Name: username, dtype: int64"
      ]
     },
     "execution_count": 47,
     "metadata": {},
     "output_type": "execute_result"
    }
   ],
   "source": [
    "# Veamos que idiomas tenemos\n",
    "idiomas.head()"
   ]
  },
  {
   "cell_type": "code",
   "execution_count": 48,
   "metadata": {},
   "outputs": [
    {
     "data": {
      "text/html": [
       "<pre>✔️ 844 ms (2021-09-15T19:56:26/2021-09-15T19:56:26)</pre>"
      ],
      "text/plain": [
       "<IPython.core.display.HTML object>"
      ]
     },
     "metadata": {},
     "output_type": "display_data"
    },
    {
     "data": {
      "image/png": "[encoded data removed]",
      "text/plain": [
       "<Figure size 1800x432 with 1 Axes>"
      ]
     },
     "metadata": {},
     "output_type": "display_data"
    }
   ],
   "source": [
    "# Graficamos el conteo de los distintos idiomas encontrados en el dataset (además de Inglés)\n",
    "plt.figure(figsize=(25,6))\n",
    "sns.countplot(data=df_reviews, x='lang', order=idiomas.index[1:])\n",
    "plt.xticks(rotation=90)\n",
    "plt.show()"
   ]
  },
  {
   "cell_type": "markdown",
   "metadata": {},
   "source": [
    "Vimos claramante que el idioma predominantes es el inglés. Pero algo llamativo es que el segundo más abundante es el \"Somalí\". Vamos a analizar más en detalle, filtrando esas instancias."
   ]
  },
  {
   "cell_type": "code",
   "execution_count": 49,
   "metadata": {},
   "outputs": [
    {
     "data": {
      "text/html": [
       "<pre>✔️ 31 ms (2021-09-15T19:56:32/2021-09-15T19:56:32)</pre>"
      ],
      "text/plain": [
       "<IPython.core.display.HTML object>"
      ]
     },
     "metadata": {},
     "output_type": "display_data"
    },
    {
     "data": {
      "text/html": [
       "<div>\n",
       "<style scoped>\n",
       "    .dataframe tbody tr th:only-of-type {\n",
       "        vertical-align: middle;\n",
       "    }\n",
       "\n",
       "    .dataframe tbody tr th {\n",
       "        vertical-align: top;\n",
       "    }\n",
       "\n",
       "    .dataframe thead th {\n",
       "        text-align: right;\n",
       "    }\n",
       "</style>\n",
       "<table border=\"1\" class=\"dataframe\">\n",
       "  <thead>\n",
       "    <tr style=\"text-align: right;\">\n",
       "      <th></th>\n",
       "      <th>username</th>\n",
       "      <th>product_id</th>\n",
       "      <th>text</th>\n",
       "      <th>found_funny</th>\n",
       "      <th>hours</th>\n",
       "      <th>lang</th>\n",
       "    </tr>\n",
       "    <tr>\n",
       "      <th>index</th>\n",
       "      <th></th>\n",
       "      <th></th>\n",
       "      <th></th>\n",
       "      <th></th>\n",
       "      <th></th>\n",
       "      <th></th>\n",
       "    </tr>\n",
       "  </thead>\n",
       "  <tbody>\n",
       "    <tr>\n",
       "      <th>354</th>\n",
       "      <td>Santiago ♥D</td>\n",
       "      <td>308040</td>\n",
       "      <td>bad</td>\n",
       "      <td>1.0000</td>\n",
       "      <td>1.3000</td>\n",
       "      <td>Somali</td>\n",
       "    </tr>\n",
       "    <tr>\n",
       "      <th>445</th>\n",
       "      <td>brokensteelcache</td>\n",
       "      <td>224900</td>\n",
       "      <td>too good to play</td>\n",
       "      <td>1.0000</td>\n",
       "      <td>1.3000</td>\n",
       "      <td>Somali</td>\n",
       "    </tr>\n",
       "    <tr>\n",
       "      <th>1516</th>\n",
       "      <td>dragsobko</td>\n",
       "      <td>390340</td>\n",
       "      <td>good</td>\n",
       "      <td>8.0000</td>\n",
       "      <td>0.6000</td>\n",
       "      <td>Somali</td>\n",
       "    </tr>\n",
       "    <tr>\n",
       "      <th>1690</th>\n",
       "      <td>j0ny_brav0</td>\n",
       "      <td>13600</td>\n",
       "      <td>A Good Game</td>\n",
       "      <td>2.0000</td>\n",
       "      <td>8.0000</td>\n",
       "      <td>Somali</td>\n",
       "    </tr>\n",
       "    <tr>\n",
       "      <th>1701</th>\n",
       "      <td>Slayer Jim</td>\n",
       "      <td>233550</td>\n",
       "      <td>Mycaruba</td>\n",
       "      <td>2.0000</td>\n",
       "      <td>0.8000</td>\n",
       "      <td>Somali</td>\n",
       "    </tr>\n",
       "    <tr>\n",
       "      <th>2408</th>\n",
       "      <td>nikolasmg1921</td>\n",
       "      <td>356290</td>\n",
       "      <td>good game</td>\n",
       "      <td>2.0000</td>\n",
       "      <td>1.0000</td>\n",
       "      <td>Somali</td>\n",
       "    </tr>\n",
       "    <tr>\n",
       "      <th>3490</th>\n",
       "      <td>Rad Guy</td>\n",
       "      <td>234710</td>\n",
       "      <td>Good</td>\n",
       "      <td>1.0000</td>\n",
       "      <td>9.1000</td>\n",
       "      <td>Somali</td>\n",
       "    </tr>\n",
       "    <tr>\n",
       "      <th>3533</th>\n",
       "      <td>Rikizin</td>\n",
       "      <td>271590</td>\n",
       "      <td>Game gay</td>\n",
       "      <td>2.0000</td>\n",
       "      <td>9.5000</td>\n",
       "      <td>Somali</td>\n",
       "    </tr>\n",
       "    <tr>\n",
       "      <th>4506</th>\n",
       "      <td>NyanFluteMaster</td>\n",
       "      <td>291550</td>\n",
       "      <td>nwdx  ebctugybfcgsnuyi gbybtxayrfg</td>\n",
       "      <td>1.0000</td>\n",
       "      <td>159.7000</td>\n",
       "      <td>Somali</td>\n",
       "    </tr>\n",
       "    <tr>\n",
       "      <th>4746</th>\n",
       "      <td>♕SKAPIR♕</td>\n",
       "      <td>296300</td>\n",
       "      <td>waw game</td>\n",
       "      <td>1.0000</td>\n",
       "      <td>27.8000</td>\n",
       "      <td>Somali</td>\n",
       "    </tr>\n",
       "    <tr>\n",
       "      <th>4820</th>\n",
       "      <td>Nikolai</td>\n",
       "      <td>35140</td>\n",
       "      <td>Good game</td>\n",
       "      <td>4.0000</td>\n",
       "      <td>100.8000</td>\n",
       "      <td>Somali</td>\n",
       "    </tr>\n",
       "    <tr>\n",
       "      <th>5131</th>\n",
       "      <td>Jäger</td>\n",
       "      <td>427730</td>\n",
       "      <td>I ll show you who your daddy is</td>\n",
       "      <td>4.0000</td>\n",
       "      <td>2.5000</td>\n",
       "      <td>Somali</td>\n",
       "    </tr>\n",
       "    <tr>\n",
       "      <th>5246</th>\n",
       "      <td>NotaPyro</td>\n",
       "      <td>32440</td>\n",
       "      <td>Gud game</td>\n",
       "      <td>2.0000</td>\n",
       "      <td>3.1000</td>\n",
       "      <td>Somali</td>\n",
       "    </tr>\n",
       "    <tr>\n",
       "      <th>5303</th>\n",
       "      <td>Sasuke Uchiha</td>\n",
       "      <td>271590</td>\n",
       "      <td>good game</td>\n",
       "      <td>1.0000</td>\n",
       "      <td>12.2000</td>\n",
       "      <td>Somali</td>\n",
       "    </tr>\n",
       "    <tr>\n",
       "      <th>5359</th>\n",
       "      <td>Kyroshihazama</td>\n",
       "      <td>357290</td>\n",
       "      <td>good good</td>\n",
       "      <td>2.0000</td>\n",
       "      <td>1.8000</td>\n",
       "      <td>Somali</td>\n",
       "    </tr>\n",
       "    <tr>\n",
       "      <th>5411</th>\n",
       "      <td>The Amazing Fedora Seal</td>\n",
       "      <td>271590</td>\n",
       "      <td>game</td>\n",
       "      <td>2.0000</td>\n",
       "      <td>29.3000</td>\n",
       "      <td>Somali</td>\n",
       "    </tr>\n",
       "    <tr>\n",
       "      <th>7106</th>\n",
       "      <td>Agent Nein</td>\n",
       "      <td>233270</td>\n",
       "      <td>good</td>\n",
       "      <td>1.0000</td>\n",
       "      <td>9.9000</td>\n",
       "      <td>Somali</td>\n",
       "    </tr>\n",
       "    <tr>\n",
       "      <th>7257</th>\n",
       "      <td>Hamwan90</td>\n",
       "      <td>227940</td>\n",
       "      <td>Good   game</td>\n",
       "      <td>1.0000</td>\n",
       "      <td>0.1000</td>\n",
       "      <td>Somali</td>\n",
       "    </tr>\n",
       "    <tr>\n",
       "      <th>7293</th>\n",
       "      <td>Pinkman</td>\n",
       "      <td>38740</td>\n",
       "      <td>Good game</td>\n",
       "      <td>1.0000</td>\n",
       "      <td>4.4000</td>\n",
       "      <td>Somali</td>\n",
       "    </tr>\n",
       "    <tr>\n",
       "      <th>7695</th>\n",
       "      <td>Madman</td>\n",
       "      <td>291550</td>\n",
       "      <td>Good</td>\n",
       "      <td>7.0000</td>\n",
       "      <td>480.5000</td>\n",
       "      <td>Somali</td>\n",
       "    </tr>\n",
       "  </tbody>\n",
       "</table>\n",
       "</div>"
      ],
      "text/plain": [
       "                      username  product_id  \\\n",
       "index                                        \n",
       "354                Santiago ♥D      308040   \n",
       "445           brokensteelcache      224900   \n",
       "1516                 dragsobko      390340   \n",
       "1690                j0ny_brav0       13600   \n",
       "1701                Slayer Jim      233550   \n",
       "2408             nikolasmg1921      356290   \n",
       "3490                   Rad Guy      234710   \n",
       "3533                   Rikizin      271590   \n",
       "4506           NyanFluteMaster      291550   \n",
       "4746                  ♕SKAPIR♕      296300   \n",
       "4820                   Nikolai       35140   \n",
       "5131                     Jäger      427730   \n",
       "5246                  NotaPyro       32440   \n",
       "5303             Sasuke Uchiha      271590   \n",
       "5359             Kyroshihazama      357290   \n",
       "5411   The Amazing Fedora Seal      271590   \n",
       "7106                Agent Nein      233270   \n",
       "7257                  Hamwan90      227940   \n",
       "7293                   Pinkman       38740   \n",
       "7695                    Madman      291550   \n",
       "\n",
       "                                              text  found_funny    hours  \\\n",
       "index                                                                      \n",
       "354                                            bad       1.0000   1.3000   \n",
       "445                              too good to play        1.0000   1.3000   \n",
       "1516                                          good       8.0000   0.6000   \n",
       "1690                                  A Good Game        2.0000   8.0000   \n",
       "1701                                      Mycaruba       2.0000   0.8000   \n",
       "2408                                     good game       2.0000   1.0000   \n",
       "3490                                         Good        1.0000   9.1000   \n",
       "3533                                      Game gay       2.0000   9.5000   \n",
       "4506            nwdx  ebctugybfcgsnuyi gbybtxayrfg       1.0000 159.7000   \n",
       "4746                                      waw game       1.0000  27.8000   \n",
       "4820                                     Good game       4.0000 100.8000   \n",
       "5131   I ll show you who your daddy is                   4.0000   2.5000   \n",
       "5246                                      Gud game       2.0000   3.1000   \n",
       "5303                                    good game        1.0000  12.2000   \n",
       "5359                                     good good       2.0000   1.8000   \n",
       "5411                                          game       2.0000  29.3000   \n",
       "7106                                         good        1.0000   9.9000   \n",
       "7257                                   Good   game       1.0000   0.1000   \n",
       "7293                                  Good game          1.0000   4.4000   \n",
       "7695                                          Good       7.0000 480.5000   \n",
       "\n",
       "         lang  \n",
       "index          \n",
       "354    Somali  \n",
       "445    Somali  \n",
       "1516   Somali  \n",
       "1690   Somali  \n",
       "1701   Somali  \n",
       "2408   Somali  \n",
       "3490   Somali  \n",
       "3533   Somali  \n",
       "4506   Somali  \n",
       "4746   Somali  \n",
       "4820   Somali  \n",
       "5131   Somali  \n",
       "5246   Somali  \n",
       "5303   Somali  \n",
       "5359   Somali  \n",
       "5411   Somali  \n",
       "7106   Somali  \n",
       "7257   Somali  \n",
       "7293   Somali  \n",
       "7695   Somali  "
      ]
     },
     "execution_count": 49,
     "metadata": {},
     "output_type": "execute_result"
    }
   ],
   "source": [
    "df_reviews[df_reviews.lang == 'Somali'].head(20)"
   ]
  },
  {
   "cell_type": "markdown",
   "metadata": {},
   "source": [
    "Por lo que podemos observar, se trata de una mala predicción, ya que los comentarios están en inglés. Por alguna razón (quizás por las faltas de ortografía) los etiqueta como Somalí.\n",
    "De todos modos, siendo que la cantidad de comentarios predichos como Inglés representan un gran porcentaje, vamos a eliminar aquellas instancias en otro idioma."
   ]
  },
  {
   "cell_type": "code",
   "execution_count": 50,
   "metadata": {},
   "outputs": [
    {
     "data": {
      "text/html": [
       "<pre>✔️ 63 ms (2021-09-15T19:56:56/2021-09-15T19:56:56)</pre>"
      ],
      "text/plain": [
       "<IPython.core.display.HTML object>"
      ]
     },
     "metadata": {},
     "output_type": "display_data"
    },
    {
     "data": {
      "text/html": [
       "<div>\n",
       "<style scoped>\n",
       "    .dataframe tbody tr th:only-of-type {\n",
       "        vertical-align: middle;\n",
       "    }\n",
       "\n",
       "    .dataframe tbody tr th {\n",
       "        vertical-align: top;\n",
       "    }\n",
       "\n",
       "    .dataframe thead th {\n",
       "        text-align: right;\n",
       "    }\n",
       "</style>\n",
       "<table border=\"1\" class=\"dataframe\">\n",
       "  <thead>\n",
       "    <tr style=\"text-align: right;\">\n",
       "      <th></th>\n",
       "      <th>username</th>\n",
       "      <th>product_id</th>\n",
       "      <th>text</th>\n",
       "      <th>found_funny</th>\n",
       "      <th>hours</th>\n",
       "      <th>lang</th>\n",
       "    </tr>\n",
       "    <tr>\n",
       "      <th>index</th>\n",
       "      <th></th>\n",
       "      <th></th>\n",
       "      <th></th>\n",
       "      <th></th>\n",
       "      <th></th>\n",
       "      <th></th>\n",
       "    </tr>\n",
       "  </thead>\n",
       "  <tbody>\n",
       "    <tr>\n",
       "      <th>5</th>\n",
       "      <td>Szudof</td>\n",
       "      <td>288690</td>\n",
       "      <td>Pit   Hello  my name is dominik di...</td>\n",
       "      <td>3.0000</td>\n",
       "      <td>0.2000</td>\n",
       "      <td>English</td>\n",
       "    </tr>\n",
       "    <tr>\n",
       "      <th>7</th>\n",
       "      <td>LucaFox</td>\n",
       "      <td>620900</td>\n",
       "      <td>Very  very good game  I love dungeon crawlers ...</td>\n",
       "      <td>1.0000</td>\n",
       "      <td>4.0000</td>\n",
       "      <td>English</td>\n",
       "    </tr>\n",
       "    <tr>\n",
       "      <th>9</th>\n",
       "      <td>Devil Azite</td>\n",
       "      <td>671270</td>\n",
       "      <td>Putting a hat on your head has disasterous rep...</td>\n",
       "      <td>1.0000</td>\n",
       "      <td>0.1000</td>\n",
       "      <td>English</td>\n",
       "    </tr>\n",
       "    <tr>\n",
       "      <th>14</th>\n",
       "      <td>tehwave</td>\n",
       "      <td>671270</td>\n",
       "      <td>Queen Elizabeth said that I d like it  and she...</td>\n",
       "      <td>3.0000</td>\n",
       "      <td>0.1000</td>\n",
       "      <td>English</td>\n",
       "    </tr>\n",
       "    <tr>\n",
       "      <th>15</th>\n",
       "      <td>Hanzo</td>\n",
       "      <td>8880</td>\n",
       "      <td>Freidom force is game made in late   s by some...</td>\n",
       "      <td>3.0000</td>\n",
       "      <td>0.2000</td>\n",
       "      <td>English</td>\n",
       "    </tr>\n",
       "    <tr>\n",
       "      <th>...</th>\n",
       "      <td>...</td>\n",
       "      <td>...</td>\n",
       "      <td>...</td>\n",
       "      <td>...</td>\n",
       "      <td>...</td>\n",
       "      <td>...</td>\n",
       "    </tr>\n",
       "    <tr>\n",
       "      <th>779256</th>\n",
       "      <td>Noodle</td>\n",
       "      <td>252490</td>\n",
       "      <td>This is a great survival building game  it can...</td>\n",
       "      <td>1.0000</td>\n",
       "      <td>96.6000</td>\n",
       "      <td>English</td>\n",
       "    </tr>\n",
       "    <tr>\n",
       "      <th>779257</th>\n",
       "      <td>SGC | Atome</td>\n",
       "      <td>252490</td>\n",
       "      <td>Biggest surprise of      An absolutely brillia...</td>\n",
       "      <td>1.0000</td>\n",
       "      <td>111.7000</td>\n",
       "      <td>English</td>\n",
       "    </tr>\n",
       "    <tr>\n",
       "      <th>779258</th>\n",
       "      <td>beren</td>\n",
       "      <td>252490</td>\n",
       "      <td>What can I say about this game  Build  raid  g...</td>\n",
       "      <td>1.0000</td>\n",
       "      <td>254.6000</td>\n",
       "      <td>English</td>\n",
       "    </tr>\n",
       "    <tr>\n",
       "      <th>779278</th>\n",
       "      <td>KappaJ</td>\n",
       "      <td>252490</td>\n",
       "      <td>My friend gtf chased me around with a rock yel...</td>\n",
       "      <td>2.0000</td>\n",
       "      <td>248.9000</td>\n",
       "      <td>English</td>\n",
       "    </tr>\n",
       "    <tr>\n",
       "      <th>779306</th>\n",
       "      <td>Helk</td>\n",
       "      <td>252490</td>\n",
       "      <td>I love this game</td>\n",
       "      <td>36.0000</td>\n",
       "      <td>15375.0000</td>\n",
       "      <td>English</td>\n",
       "    </tr>\n",
       "  </tbody>\n",
       "</table>\n",
       "<p>105833 rows × 6 columns</p>\n",
       "</div>"
      ],
      "text/plain": [
       "           username  product_id  \\\n",
       "index                             \n",
       "5            Szudof      288690   \n",
       "7           LucaFox      620900   \n",
       "9       Devil Azite      671270   \n",
       "14          tehwave      671270   \n",
       "15            Hanzo        8880   \n",
       "...             ...         ...   \n",
       "779256       Noodle      252490   \n",
       "779257  SGC | Atome      252490   \n",
       "779258        beren      252490   \n",
       "779278       KappaJ      252490   \n",
       "779306         Helk      252490   \n",
       "\n",
       "                                                     text  found_funny  \\\n",
       "index                                                                    \n",
       "5                   Pit   Hello  my name is dominik di...       3.0000   \n",
       "7       Very  very good game  I love dungeon crawlers ...       1.0000   \n",
       "9       Putting a hat on your head has disasterous rep...       1.0000   \n",
       "14      Queen Elizabeth said that I d like it  and she...       3.0000   \n",
       "15      Freidom force is game made in late   s by some...       3.0000   \n",
       "...                                                   ...          ...   \n",
       "779256  This is a great survival building game  it can...       1.0000   \n",
       "779257  Biggest surprise of      An absolutely brillia...       1.0000   \n",
       "779258  What can I say about this game  Build  raid  g...       1.0000   \n",
       "779278  My friend gtf chased me around with a rock yel...       2.0000   \n",
       "779306                                  I love this game       36.0000   \n",
       "\n",
       "            hours     lang  \n",
       "index                       \n",
       "5          0.2000  English  \n",
       "7          4.0000  English  \n",
       "9          0.1000  English  \n",
       "14         0.1000  English  \n",
       "15         0.2000  English  \n",
       "...           ...      ...  \n",
       "779256    96.6000  English  \n",
       "779257   111.7000  English  \n",
       "779258   254.6000  English  \n",
       "779278   248.9000  English  \n",
       "779306 15375.0000  English  \n",
       "\n",
       "[105833 rows x 6 columns]"
      ]
     },
     "execution_count": 50,
     "metadata": {},
     "output_type": "execute_result"
    }
   ],
   "source": [
    "mask = df_reviews.lang == 'English'\n",
    "df_reviews.drop(df_reviews[~mask].index, inplace=True)\n",
    "df_reviews"
   ]
  },
  {
   "cell_type": "markdown",
   "metadata": {},
   "source": [
    "#### Merge de datasets"
   ]
  },
  {
   "cell_type": "code",
   "execution_count": 51,
   "metadata": {},
   "outputs": [
    {
     "data": {
      "text/html": [
       "<pre>✔️ 516 ms (2021-09-15T19:57:19/2021-09-15T19:57:20)</pre>"
      ],
      "text/plain": [
       "<IPython.core.display.HTML object>"
      ]
     },
     "metadata": {},
     "output_type": "display_data"
    },
    {
     "data": {
      "text/html": [
       "<div>\n",
       "<style scoped>\n",
       "    .dataframe tbody tr th:only-of-type {\n",
       "        vertical-align: middle;\n",
       "    }\n",
       "\n",
       "    .dataframe tbody tr th {\n",
       "        vertical-align: top;\n",
       "    }\n",
       "\n",
       "    .dataframe thead th {\n",
       "        text-align: right;\n",
       "    }\n",
       "</style>\n",
       "<table border=\"1\" class=\"dataframe\">\n",
       "  <thead>\n",
       "    <tr style=\"text-align: right;\">\n",
       "      <th></th>\n",
       "      <th>username</th>\n",
       "      <th>hours</th>\n",
       "      <th>product_id</th>\n",
       "      <th>date</th>\n",
       "      <th>text</th>\n",
       "      <th>publisher</th>\n",
       "      <th>genres</th>\n",
       "      <th>app_name</th>\n",
       "      <th>tags</th>\n",
       "      <th>specs</th>\n",
       "      <th>price</th>\n",
       "      <th>developer</th>\n",
       "      <th>sentiment</th>\n",
       "    </tr>\n",
       "  </thead>\n",
       "  <tbody>\n",
       "    <tr>\n",
       "      <th>0</th>\n",
       "      <td>Chaos Syren</td>\n",
       "      <td>0.1000</td>\n",
       "      <td>725280</td>\n",
       "      <td>2017-12-17</td>\n",
       "      <td>This would not be acceptable as an entertainme...</td>\n",
       "      <td>Vyacheslav Shilikhin</td>\n",
       "      <td>[Action, Adventure, Indie, Simulation]</td>\n",
       "      <td>Psi Project</td>\n",
       "      <td>[Action, Adventure, Indie, Simulation]</td>\n",
       "      <td>[Single-player, Steam Trading Cards]</td>\n",
       "      <td>2.9900</td>\n",
       "      <td>Vyacheslav Shilikhin</td>\n",
       "      <td>Positive</td>\n",
       "    </tr>\n",
       "    <tr>\n",
       "      <th>1</th>\n",
       "      <td>freakfantom</td>\n",
       "      <td>0.1000</td>\n",
       "      <td>725280</td>\n",
       "      <td>2017-11-12</td>\n",
       "      <td>Прикольная стрелялка. Взял дешево на распродаже.</td>\n",
       "      <td>Vyacheslav Shilikhin</td>\n",
       "      <td>[Action, Adventure, Indie, Simulation]</td>\n",
       "      <td>Psi Project</td>\n",
       "      <td>[Action, Adventure, Indie, Simulation]</td>\n",
       "      <td>[Single-player, Steam Trading Cards]</td>\n",
       "      <td>2.9900</td>\n",
       "      <td>Vyacheslav Shilikhin</td>\n",
       "      <td>Positive</td>\n",
       "    </tr>\n",
       "    <tr>\n",
       "      <th>2</th>\n",
       "      <td>Ariman1</td>\n",
       "      <td>13.2000</td>\n",
       "      <td>328100</td>\n",
       "      <td>2017-08-02</td>\n",
       "      <td>Addictive RPG ! Works fine on linux though it ...</td>\n",
       "      <td>KISS ltd</td>\n",
       "      <td>[Adventure, Indie, RPG]</td>\n",
       "      <td>Gunspell - Steam Edition</td>\n",
       "      <td>[Adventure, RPG, Indie, Puzzle, Match 3]</td>\n",
       "      <td>[Single-player]</td>\n",
       "      <td>14.9900</td>\n",
       "      <td>Ino-Co Plus</td>\n",
       "      <td>Mixed</td>\n",
       "    </tr>\n",
       "    <tr>\n",
       "      <th>3</th>\n",
       "      <td>dll3z</td>\n",
       "      <td>0.4000</td>\n",
       "      <td>328100</td>\n",
       "      <td>2017-03-07</td>\n",
       "      <td>do not buy this game</td>\n",
       "      <td>KISS ltd</td>\n",
       "      <td>[Adventure, Indie, RPG]</td>\n",
       "      <td>Gunspell - Steam Edition</td>\n",
       "      <td>[Adventure, RPG, Indie, Puzzle, Match 3]</td>\n",
       "      <td>[Single-player]</td>\n",
       "      <td>14.9900</td>\n",
       "      <td>Ino-Co Plus</td>\n",
       "      <td>Mixed</td>\n",
       "    </tr>\n",
       "    <tr>\n",
       "      <th>4</th>\n",
       "      <td>Nyazicat</td>\n",
       "      <td>2.2000</td>\n",
       "      <td>328100</td>\n",
       "      <td>2017-01-09</td>\n",
       "      <td>For some reason I entirely derped out and boug...</td>\n",
       "      <td>KISS ltd</td>\n",
       "      <td>[Adventure, Indie, RPG]</td>\n",
       "      <td>Gunspell - Steam Edition</td>\n",
       "      <td>[Adventure, RPG, Indie, Puzzle, Match 3]</td>\n",
       "      <td>[Single-player]</td>\n",
       "      <td>14.9900</td>\n",
       "      <td>Ino-Co Plus</td>\n",
       "      <td>Mixed</td>\n",
       "    </tr>\n",
       "  </tbody>\n",
       "</table>\n",
       "</div>"
      ],
      "text/plain": [
       "      username   hours  product_id        date  \\\n",
       "0  Chaos Syren  0.1000      725280  2017-12-17   \n",
       "1  freakfantom  0.1000      725280  2017-11-12   \n",
       "2      Ariman1 13.2000      328100  2017-08-02   \n",
       "3        dll3z  0.4000      328100  2017-03-07   \n",
       "4     Nyazicat  2.2000      328100  2017-01-09   \n",
       "\n",
       "                                                text             publisher  \\\n",
       "0  This would not be acceptable as an entertainme...  Vyacheslav Shilikhin   \n",
       "1   Прикольная стрелялка. Взял дешево на распродаже.  Vyacheslav Shilikhin   \n",
       "2  Addictive RPG ! Works fine on linux though it ...              KISS ltd   \n",
       "3                               do not buy this game              KISS ltd   \n",
       "4  For some reason I entirely derped out and boug...              KISS ltd   \n",
       "\n",
       "                                   genres                  app_name  \\\n",
       "0  [Action, Adventure, Indie, Simulation]               Psi Project   \n",
       "1  [Action, Adventure, Indie, Simulation]               Psi Project   \n",
       "2                 [Adventure, Indie, RPG]  Gunspell - Steam Edition   \n",
       "3                 [Adventure, Indie, RPG]  Gunspell - Steam Edition   \n",
       "4                 [Adventure, Indie, RPG]  Gunspell - Steam Edition   \n",
       "\n",
       "                                       tags  \\\n",
       "0    [Action, Adventure, Indie, Simulation]   \n",
       "1    [Action, Adventure, Indie, Simulation]   \n",
       "2  [Adventure, RPG, Indie, Puzzle, Match 3]   \n",
       "3  [Adventure, RPG, Indie, Puzzle, Match 3]   \n",
       "4  [Adventure, RPG, Indie, Puzzle, Match 3]   \n",
       "\n",
       "                                  specs   price             developer  \\\n",
       "0  [Single-player, Steam Trading Cards]  2.9900  Vyacheslav Shilikhin   \n",
       "1  [Single-player, Steam Trading Cards]  2.9900  Vyacheslav Shilikhin   \n",
       "2                       [Single-player] 14.9900           Ino-Co Plus   \n",
       "3                       [Single-player] 14.9900           Ino-Co Plus   \n",
       "4                       [Single-player] 14.9900           Ino-Co Plus   \n",
       "\n",
       "  sentiment  \n",
       "0  Positive  \n",
       "1  Positive  \n",
       "2     Mixed  \n",
       "3     Mixed  \n",
       "4     Mixed  "
      ]
     },
     "execution_count": 51,
     "metadata": {},
     "output_type": "execute_result"
    }
   ],
   "source": [
    "df = pd.merge(data_reviews, data_games, on=\"product_id\")\n",
    "df.head()"
   ]
  },
  {
   "cell_type": "code",
   "execution_count": 52,
   "metadata": {},
   "outputs": [
    {
     "data": {
      "text/html": [
       "<pre>✔️ 15 ms (2021-09-15T19:57:22/2021-09-15T19:57:22)</pre>"
      ],
      "text/plain": [
       "<IPython.core.display.HTML object>"
      ]
     },
     "metadata": {},
     "output_type": "display_data"
    },
    {
     "name": "stdout",
     "output_type": "stream",
     "text": [
      "(774825, 5)\n",
      "(32132, 9)\n",
      "(775469, 13)\n"
     ]
    }
   ],
   "source": [
    "print(data_reviews.shape)\n",
    "print(data_games.shape)\n",
    "print(df.shape)"
   ]
  },
  {
   "cell_type": "code",
   "execution_count": 53,
   "metadata": {},
   "outputs": [
    {
     "data": {
      "text/html": [
       "<pre>✔️ 31 ms (2021-09-15T19:58:03/2021-09-15T19:58:03)</pre>"
      ],
      "text/plain": [
       "<IPython.core.display.HTML object>"
      ]
     },
     "metadata": {},
     "output_type": "display_data"
    },
    {
     "data": {
      "text/plain": [
       "(12612,)"
      ]
     },
     "execution_count": 53,
     "metadata": {},
     "output_type": "execute_result"
    }
   ],
   "source": [
    "data_reviews.product_id.unique().shape"
   ]
  },
  {
   "cell_type": "code",
   "execution_count": 54,
   "metadata": {},
   "outputs": [
    {
     "data": {
      "text/html": [
       "<pre>✔️ 0 ns (2021-09-15T19:58:30/2021-09-15T19:58:30)</pre>"
      ],
      "text/plain": [
       "<IPython.core.display.HTML object>"
      ]
     },
     "metadata": {},
     "output_type": "display_data"
    },
    {
     "data": {
      "text/plain": [
       "(32131,)"
      ]
     },
     "execution_count": 54,
     "metadata": {},
     "output_type": "execute_result"
    }
   ],
   "source": [
    "data_games.product_id.unique().shape"
   ]
  },
  {
   "cell_type": "code",
   "execution_count": 55,
   "metadata": {},
   "outputs": [
    {
     "data": {
      "text/html": [
       "<pre>✔️ 125 ms (2021-09-15T19:58:37/2021-09-15T19:58:37)</pre>"
      ],
      "text/plain": [
       "<IPython.core.display.HTML object>"
      ]
     },
     "metadata": {},
     "output_type": "display_data"
    },
    {
     "data": {
      "text/plain": [
       "12612"
      ]
     },
     "execution_count": 55,
     "metadata": {},
     "output_type": "execute_result"
    }
   ],
   "source": [
    "len(list(set(data_reviews.product_id) & set(data_games.product_id)))"
   ]
  },
  {
   "cell_type": "code",
   "execution_count": 56,
   "metadata": {},
   "outputs": [
    {
     "data": {
      "text/html": [
       "<pre>✔️ 469 ms (2021-09-15T19:58:43/2021-09-15T19:58:43)</pre>"
      ],
      "text/plain": [
       "<IPython.core.display.HTML object>"
      ]
     },
     "metadata": {},
     "output_type": "display_data"
    },
    {
     "data": {
      "text/plain": [
       "username         0\n",
       "hours            0\n",
       "product_id       0\n",
       "date             0\n",
       "text             0\n",
       "publisher     7610\n",
       "genres        2207\n",
       "app_name         0\n",
       "tags             4\n",
       "specs         2253\n",
       "price         6624\n",
       "developer     3965\n",
       "sentiment      142\n",
       "dtype: int64"
      ]
     },
     "execution_count": 56,
     "metadata": {},
     "output_type": "execute_result"
    }
   ],
   "source": [
    "df.isna().sum()"
   ]
  },
  {
   "cell_type": "code",
   "execution_count": 57,
   "metadata": {},
   "outputs": [
    {
     "data": {
      "text/html": [
       "<pre>✔️ 63 ms (2021-09-15T19:59:03/2021-09-15T19:59:03)</pre>"
      ],
      "text/plain": [
       "<IPython.core.display.HTML object>"
      ]
     },
     "metadata": {},
     "output_type": "display_data"
    },
    {
     "data": {
      "text/plain": [
       "sentiment\n",
       "1 user reviews             2496\n",
       "2 user reviews             1756\n",
       "3 user reviews             1231\n",
       "4 user reviews              964\n",
       "5 user reviews              846\n",
       "6 user reviews              756\n",
       "7 user reviews              619\n",
       "8 user reviews              537\n",
       "9 user reviews              488\n",
       "Mixed                      4103\n",
       "Mostly Negative             802\n",
       "Mostly Positive            2744\n",
       "Negative                    123\n",
       "Overwhelmingly Negative       7\n",
       "Overwhelmingly Positive     302\n",
       "Positive                   3280\n",
       "Very Negative                29\n",
       "Very Positive              3868\n",
       "Name: app_name, dtype: int64"
      ]
     },
     "execution_count": 57,
     "metadata": {},
     "output_type": "execute_result"
    }
   ],
   "source": [
    "data_games.groupby('sentiment').count().app_name"
   ]
  },
  {
   "cell_type": "code",
   "execution_count": 59,
   "metadata": {},
   "outputs": [
    {
     "data": {
      "text/html": [
       "<pre>✔️ 0 ns (2021-09-15T20:00:26/2021-09-15T20:00:26)</pre>"
      ],
      "text/plain": [
       "<IPython.core.display.HTML object>"
      ]
     },
     "metadata": {},
     "output_type": "display_data"
    },
    {
     "name": "stdout",
     "output_type": "stream",
     "text": [
      "{'Overwhelmingly Positive': 9, 'Very Positive': 8, 'Mostly Positive': 7, 'Positive': 6, 'Mixed': 5, 'Negative': 4, 'Mostly Negative': 3, 'Very Negative': 2, 'Overwhelmingly Negative': 1}\n"
     ]
    },
    {
     "data": {
      "text/plain": [
       "dict"
      ]
     },
     "execution_count": 59,
     "metadata": {},
     "output_type": "execute_result"
    }
   ],
   "source": [
    "dict = {'Overwhelmingly Positive':9,\n",
    "       'Very Positive':8,\n",
    "       'Mostly Positive':7,\n",
    "       'Positive':6,\n",
    "       'Mixed':5,\n",
    "       'Negative':4,\n",
    "       'Mostly Negative':3,\n",
    "       'Very Negative':2,\n",
    "       'Overwhelmingly Negative':1,\n",
    "       }\n",
    "print(dict)\n",
    "type(dict)"
   ]
  },
  {
   "cell_type": "code",
   "execution_count": 60,
   "metadata": {},
   "outputs": [
    {
     "data": {
      "text/html": [
       "<pre>✔️ 46 ms (2021-09-15T20:00:28/2021-09-15T20:00:28)</pre>"
      ],
      "text/plain": [
       "<IPython.core.display.HTML object>"
      ]
     },
     "metadata": {},
     "output_type": "display_data"
    },
    {
     "data": {
      "text/plain": [
       "publisher     8050\n",
       "genres        3282\n",
       "app_name         0\n",
       "tags           162\n",
       "specs          669\n",
       "price         1376\n",
       "product_id       0\n",
       "developer     3297\n",
       "sentiment     7181\n",
       "dtype: int64"
      ]
     },
     "execution_count": 60,
     "metadata": {},
     "output_type": "execute_result"
    }
   ],
   "source": [
    "data_games.isna().sum()"
   ]
  },
  {
   "cell_type": "code",
   "execution_count": 61,
   "metadata": {},
   "outputs": [
    {
     "data": {
      "text/html": [
       "<pre>✔️ 31 ms (2021-09-15T20:00:38/2021-09-15T20:00:38)</pre>"
      ],
      "text/plain": [
       "<IPython.core.display.HTML object>"
      ]
     },
     "metadata": {},
     "output_type": "display_data"
    },
    {
     "data": {
      "text/html": [
       "<div>\n",
       "<style scoped>\n",
       "    .dataframe tbody tr th:only-of-type {\n",
       "        vertical-align: middle;\n",
       "    }\n",
       "\n",
       "    .dataframe tbody tr th {\n",
       "        vertical-align: top;\n",
       "    }\n",
       "\n",
       "    .dataframe thead th {\n",
       "        text-align: right;\n",
       "    }\n",
       "</style>\n",
       "<table border=\"1\" class=\"dataframe\">\n",
       "  <thead>\n",
       "    <tr style=\"text-align: right;\">\n",
       "      <th></th>\n",
       "      <th>publisher</th>\n",
       "      <th>genres</th>\n",
       "      <th>app_name</th>\n",
       "      <th>tags</th>\n",
       "      <th>specs</th>\n",
       "      <th>price</th>\n",
       "      <th>product_id</th>\n",
       "      <th>developer</th>\n",
       "      <th>sentiment</th>\n",
       "      <th>game_rating</th>\n",
       "    </tr>\n",
       "  </thead>\n",
       "  <tbody>\n",
       "    <tr>\n",
       "      <th>0</th>\n",
       "      <td>Kotoshiro</td>\n",
       "      <td>[Action, Casual, Indie, Simulation, Strategy]</td>\n",
       "      <td>Lost Summoner Kitty</td>\n",
       "      <td>[Strategy, Action, Indie, Casual, Simulation]</td>\n",
       "      <td>[Single-player]</td>\n",
       "      <td>4.9900</td>\n",
       "      <td>761140</td>\n",
       "      <td>Kotoshiro</td>\n",
       "      <td>NaN</td>\n",
       "      <td>NaN</td>\n",
       "    </tr>\n",
       "    <tr>\n",
       "      <th>1</th>\n",
       "      <td>Making Fun, Inc.</td>\n",
       "      <td>[Free to Play, Indie, RPG, Strategy]</td>\n",
       "      <td>Ironbound</td>\n",
       "      <td>[Free to Play, Strategy, Indie, RPG, Card Game...</td>\n",
       "      <td>[Single-player, Multi-player, Online Multi-Pla...</td>\n",
       "      <td>Free To Play</td>\n",
       "      <td>643980</td>\n",
       "      <td>Secret Level SRL</td>\n",
       "      <td>Mostly Positive</td>\n",
       "      <td>7.0000</td>\n",
       "    </tr>\n",
       "    <tr>\n",
       "      <th>2</th>\n",
       "      <td>Poolians.com</td>\n",
       "      <td>[Casual, Free to Play, Indie, Simulation, Sports]</td>\n",
       "      <td>Real Pool 3D - Poolians</td>\n",
       "      <td>[Free to Play, Simulation, Sports, Casual, Ind...</td>\n",
       "      <td>[Single-player, Multi-player, Online Multi-Pla...</td>\n",
       "      <td>Free to Play</td>\n",
       "      <td>670290</td>\n",
       "      <td>Poolians.com</td>\n",
       "      <td>Mostly Positive</td>\n",
       "      <td>7.0000</td>\n",
       "    </tr>\n",
       "    <tr>\n",
       "      <th>3</th>\n",
       "      <td>彼岸领域</td>\n",
       "      <td>[Action, Adventure, Casual]</td>\n",
       "      <td>弹炸人2222</td>\n",
       "      <td>[Action, Adventure, Casual]</td>\n",
       "      <td>[Single-player]</td>\n",
       "      <td>0.9900</td>\n",
       "      <td>767400</td>\n",
       "      <td>彼岸领域</td>\n",
       "      <td>NaN</td>\n",
       "      <td>NaN</td>\n",
       "    </tr>\n",
       "    <tr>\n",
       "      <th>4</th>\n",
       "      <td>NaN</td>\n",
       "      <td>NaN</td>\n",
       "      <td>Log Challenge</td>\n",
       "      <td>[Action, Indie, Casual, Sports]</td>\n",
       "      <td>[Single-player, Full controller support, HTC V...</td>\n",
       "      <td>2.9900</td>\n",
       "      <td>773570</td>\n",
       "      <td>NaN</td>\n",
       "      <td>NaN</td>\n",
       "      <td>NaN</td>\n",
       "    </tr>\n",
       "    <tr>\n",
       "      <th>...</th>\n",
       "      <td>...</td>\n",
       "      <td>...</td>\n",
       "      <td>...</td>\n",
       "      <td>...</td>\n",
       "      <td>...</td>\n",
       "      <td>...</td>\n",
       "      <td>...</td>\n",
       "      <td>...</td>\n",
       "      <td>...</td>\n",
       "      <td>...</td>\n",
       "    </tr>\n",
       "    <tr>\n",
       "      <th>32130</th>\n",
       "      <td>Ghost_RUS Games</td>\n",
       "      <td>[Casual, Indie, Simulation, Strategy]</td>\n",
       "      <td>Colony On Mars</td>\n",
       "      <td>[Strategy, Indie, Casual, Simulation]</td>\n",
       "      <td>[Single-player, Steam Achievements]</td>\n",
       "      <td>1.9900</td>\n",
       "      <td>773640</td>\n",
       "      <td>Nikita \"Ghost_RUS\"</td>\n",
       "      <td>NaN</td>\n",
       "      <td>NaN</td>\n",
       "    </tr>\n",
       "    <tr>\n",
       "      <th>32131</th>\n",
       "      <td>Sacada</td>\n",
       "      <td>[Casual, Indie, Strategy]</td>\n",
       "      <td>LOGistICAL: South Africa</td>\n",
       "      <td>[Strategy, Indie, Casual]</td>\n",
       "      <td>[Single-player, Steam Achievements, Steam Clou...</td>\n",
       "      <td>4.9900</td>\n",
       "      <td>733530</td>\n",
       "      <td>Sacada</td>\n",
       "      <td>NaN</td>\n",
       "      <td>NaN</td>\n",
       "    </tr>\n",
       "    <tr>\n",
       "      <th>32132</th>\n",
       "      <td>Laush Studio</td>\n",
       "      <td>[Indie, Racing, Simulation]</td>\n",
       "      <td>Russian Roads</td>\n",
       "      <td>[Indie, Simulation, Racing]</td>\n",
       "      <td>[Single-player, Steam Achievements, Steam Trad...</td>\n",
       "      <td>1.9900</td>\n",
       "      <td>610660</td>\n",
       "      <td>Laush Dmitriy Sergeevich</td>\n",
       "      <td>NaN</td>\n",
       "      <td>NaN</td>\n",
       "    </tr>\n",
       "    <tr>\n",
       "      <th>32133</th>\n",
       "      <td>SIXNAILS</td>\n",
       "      <td>[Casual, Indie]</td>\n",
       "      <td>EXIT 2 - Directions</td>\n",
       "      <td>[Indie, Casual, Puzzle, Singleplayer, Atmosphe...</td>\n",
       "      <td>[Single-player, Steam Achievements, Steam Cloud]</td>\n",
       "      <td>4.9900</td>\n",
       "      <td>658870</td>\n",
       "      <td>xropi,stev3ns</td>\n",
       "      <td>1 user reviews</td>\n",
       "      <td>NaN</td>\n",
       "    </tr>\n",
       "    <tr>\n",
       "      <th>32134</th>\n",
       "      <td>NaN</td>\n",
       "      <td>NaN</td>\n",
       "      <td>Maze Run VR</td>\n",
       "      <td>[Early Access, Adventure, Indie, Action, Simul...</td>\n",
       "      <td>[Single-player, Stats, Steam Leaderboards, HTC...</td>\n",
       "      <td>4.9900</td>\n",
       "      <td>681550</td>\n",
       "      <td>NaN</td>\n",
       "      <td>Positive</td>\n",
       "      <td>6.0000</td>\n",
       "    </tr>\n",
       "  </tbody>\n",
       "</table>\n",
       "<p>32132 rows × 10 columns</p>\n",
       "</div>"
      ],
      "text/plain": [
       "              publisher                                             genres  \\\n",
       "0             Kotoshiro      [Action, Casual, Indie, Simulation, Strategy]   \n",
       "1      Making Fun, Inc.               [Free to Play, Indie, RPG, Strategy]   \n",
       "2          Poolians.com  [Casual, Free to Play, Indie, Simulation, Sports]   \n",
       "3                  彼岸领域                        [Action, Adventure, Casual]   \n",
       "4                   NaN                                                NaN   \n",
       "...                 ...                                                ...   \n",
       "32130   Ghost_RUS Games              [Casual, Indie, Simulation, Strategy]   \n",
       "32131            Sacada                          [Casual, Indie, Strategy]   \n",
       "32132      Laush Studio                        [Indie, Racing, Simulation]   \n",
       "32133          SIXNAILS                                    [Casual, Indie]   \n",
       "32134               NaN                                                NaN   \n",
       "\n",
       "                       app_name  \\\n",
       "0           Lost Summoner Kitty   \n",
       "1                     Ironbound   \n",
       "2       Real Pool 3D - Poolians   \n",
       "3                       弹炸人2222   \n",
       "4                 Log Challenge   \n",
       "...                         ...   \n",
       "32130            Colony On Mars   \n",
       "32131  LOGistICAL: South Africa   \n",
       "32132             Russian Roads   \n",
       "32133       EXIT 2 - Directions   \n",
       "32134               Maze Run VR   \n",
       "\n",
       "                                                    tags  \\\n",
       "0          [Strategy, Action, Indie, Casual, Simulation]   \n",
       "1      [Free to Play, Strategy, Indie, RPG, Card Game...   \n",
       "2      [Free to Play, Simulation, Sports, Casual, Ind...   \n",
       "3                            [Action, Adventure, Casual]   \n",
       "4                        [Action, Indie, Casual, Sports]   \n",
       "...                                                  ...   \n",
       "32130              [Strategy, Indie, Casual, Simulation]   \n",
       "32131                          [Strategy, Indie, Casual]   \n",
       "32132                        [Indie, Simulation, Racing]   \n",
       "32133  [Indie, Casual, Puzzle, Singleplayer, Atmosphe...   \n",
       "32134  [Early Access, Adventure, Indie, Action, Simul...   \n",
       "\n",
       "                                                   specs         price  \\\n",
       "0                                        [Single-player]        4.9900   \n",
       "1      [Single-player, Multi-player, Online Multi-Pla...  Free To Play   \n",
       "2      [Single-player, Multi-player, Online Multi-Pla...  Free to Play   \n",
       "3                                        [Single-player]        0.9900   \n",
       "4      [Single-player, Full controller support, HTC V...        2.9900   \n",
       "...                                                  ...           ...   \n",
       "32130                [Single-player, Steam Achievements]        1.9900   \n",
       "32131  [Single-player, Steam Achievements, Steam Clou...        4.9900   \n",
       "32132  [Single-player, Steam Achievements, Steam Trad...        1.9900   \n",
       "32133   [Single-player, Steam Achievements, Steam Cloud]        4.9900   \n",
       "32134  [Single-player, Stats, Steam Leaderboards, HTC...        4.9900   \n",
       "\n",
       "       product_id                 developer        sentiment  game_rating  \n",
       "0          761140                 Kotoshiro              NaN          NaN  \n",
       "1          643980          Secret Level SRL  Mostly Positive       7.0000  \n",
       "2          670290              Poolians.com  Mostly Positive       7.0000  \n",
       "3          767400                      彼岸领域              NaN          NaN  \n",
       "4          773570                       NaN              NaN          NaN  \n",
       "...           ...                       ...              ...          ...  \n",
       "32130      773640        Nikita \"Ghost_RUS\"              NaN          NaN  \n",
       "32131      733530                    Sacada              NaN          NaN  \n",
       "32132      610660  Laush Dmitriy Sergeevich              NaN          NaN  \n",
       "32133      658870             xropi,stev3ns   1 user reviews          NaN  \n",
       "32134      681550                       NaN         Positive       6.0000  \n",
       "\n",
       "[32132 rows x 10 columns]"
      ]
     },
     "execution_count": 61,
     "metadata": {},
     "output_type": "execute_result"
    }
   ],
   "source": [
    "data_games['game_rating'] = data_games['sentiment'].map(dict)\n",
    "data_games"
   ]
  },
  {
   "cell_type": "markdown",
   "metadata": {},
   "source": [
    "### Tokenización"
   ]
  },
  {
   "cell_type": "code",
   "execution_count": 62,
   "metadata": {},
   "outputs": [
    {
     "data": {
      "text/html": [
       "<pre>✔️ 16 ms (2021-09-15T20:00:52/2021-09-15T20:00:52)</pre>"
      ],
      "text/plain": [
       "<IPython.core.display.HTML object>"
      ]
     },
     "metadata": {},
     "output_type": "display_data"
    }
   ],
   "source": [
    "# Instanciamos el tokenizer\n",
    "tokenizer=RegexpTokenizer(\"\\w+\")\n",
    "\n",
    "# Importamos la función que nos permite Stemmizar de nltk y definimos el stemmer\n",
    "stemmer = PorterStemmer()\n",
    "\n",
    "# Traemos las stopwords\n",
    "stopwords = set(stopwords.words('english'))"
   ]
  },
  {
   "cell_type": "code",
   "execution_count": 63,
   "metadata": {},
   "outputs": [
    {
     "data": {
      "text/html": [
       "<pre>✔️ 0 ns (2021-09-15T20:00:56/2021-09-15T20:00:56)</pre>"
      ],
      "text/plain": [
       "<IPython.core.display.HTML object>"
      ]
     },
     "metadata": {},
     "output_type": "display_data"
    }
   ],
   "source": [
    "# Creamos método para aplicar la Normalizacion y luega el Stemming a cada instancia\n",
    "def processText(text):\n",
    "    # Vamos a reemplzar los caracteres que no sean letras por espacios\n",
    "    text=re.sub(\"[^a-zA-Z]\",\" \",str(text))\n",
    "    # Pasamos todo a minúsculas\n",
    "    text=text.lower()\n",
    "    # Tokenizamos para separar las palabras del titular\n",
    "    text=tokenizer.tokenize(text)\n",
    "    # Eliminamos las palabras de menos de 4 letras\n",
    "    text = [palabra for palabra in text if len(palabra)>3]\n",
    "    # Sacamos las Stopwords\n",
    "    text = [p for p in text if not p in stopwords]\n",
    "    \n",
    "    ## Hasta acá Normalizamos, ahora a stemmizar\n",
    "    \n",
    "    # Aplicamos la funcion para buscar la raiz de las palabras\n",
    "#     text = [stemmer.stem(t) for t in text]\n",
    "    # Por ultimo volvemos a unir el titular\n",
    "    text = \" \".join(text)\n",
    "    \n",
    "    return text"
   ]
  },
  {
   "cell_type": "code",
   "execution_count": 64,
   "metadata": {},
   "outputs": [
    {
     "data": {
      "text/html": [
       "<pre>✔️ 10 s (2021-09-15T20:01:01/2021-09-15T20:01:11)</pre>"
      ],
      "text/plain": [
       "<IPython.core.display.HTML object>"
      ]
     },
     "metadata": {},
     "output_type": "display_data"
    },
    {
     "data": {
      "application/vnd.jupyter.widget-view+json": {
       "model_id": "18d76ea5a8b74e8684ac6bc93b69ebe3",
       "version_major": 2,
       "version_minor": 0
      },
      "text/plain": [
       "  0%|          | 0/105833 [00:00<?, ?it/s]"
      ]
     },
     "metadata": {},
     "output_type": "display_data"
    }
   ],
   "source": [
    "# Aplicamos la transformación\n",
    "df_reviews['cleaned_text'] = df_reviews['text'].progress_apply(processText)"
   ]
  },
  {
   "cell_type": "code",
   "execution_count": 65,
   "metadata": {},
   "outputs": [
    {
     "data": {
      "text/html": [
       "<pre>✔️ 46 ms (2021-09-15T20:03:10/2021-09-15T20:03:10)</pre>"
      ],
      "text/plain": [
       "<IPython.core.display.HTML object>"
      ]
     },
     "metadata": {},
     "output_type": "display_data"
    },
    {
     "data": {
      "text/html": [
       "<div>\n",
       "<style scoped>\n",
       "    .dataframe tbody tr th:only-of-type {\n",
       "        vertical-align: middle;\n",
       "    }\n",
       "\n",
       "    .dataframe tbody tr th {\n",
       "        vertical-align: top;\n",
       "    }\n",
       "\n",
       "    .dataframe thead th {\n",
       "        text-align: right;\n",
       "    }\n",
       "</style>\n",
       "<table border=\"1\" class=\"dataframe\">\n",
       "  <thead>\n",
       "    <tr style=\"text-align: right;\">\n",
       "      <th></th>\n",
       "      <th>username</th>\n",
       "      <th>product_id</th>\n",
       "      <th>text</th>\n",
       "      <th>found_funny</th>\n",
       "      <th>hours</th>\n",
       "      <th>lang</th>\n",
       "      <th>cleaned_text</th>\n",
       "    </tr>\n",
       "    <tr>\n",
       "      <th>index</th>\n",
       "      <th></th>\n",
       "      <th></th>\n",
       "      <th></th>\n",
       "      <th></th>\n",
       "      <th></th>\n",
       "      <th></th>\n",
       "      <th></th>\n",
       "    </tr>\n",
       "  </thead>\n",
       "  <tbody>\n",
       "    <tr>\n",
       "      <th>369000</th>\n",
       "      <td>THE LIGHTNING WOLF</td>\n",
       "      <td>359550</td>\n",
       "      <td>fix your     ing game jesus christ im not reco...</td>\n",
       "      <td>1.0000</td>\n",
       "      <td>287.3000</td>\n",
       "      <td>English</td>\n",
       "      <td>game jesus christ recomend game toxic communti...</td>\n",
       "    </tr>\n",
       "    <tr>\n",
       "      <th>244260</th>\n",
       "      <td>Barkus Aurelius</td>\n",
       "      <td>228300</td>\n",
       "      <td>Neat story       gameplay  Combat is as deep a...</td>\n",
       "      <td>1.0000</td>\n",
       "      <td>0.7000</td>\n",
       "      <td>English</td>\n",
       "      <td>neat story gameplay combat deep bamham barkum ...</td>\n",
       "    </tr>\n",
       "    <tr>\n",
       "      <th>360821</th>\n",
       "      <td>Lil Mayo</td>\n",
       "      <td>225640</td>\n",
       "      <td>HOW TO FIX THE ISSUE WITH THE GAME NOT STARTIN...</td>\n",
       "      <td>7.0000</td>\n",
       "      <td>0.2000</td>\n",
       "      <td>English</td>\n",
       "      <td>issue game starting locate sacred sacred folde...</td>\n",
       "    </tr>\n",
       "    <tr>\n",
       "      <th>626728</th>\n",
       "      <td>Zoffix Znet</td>\n",
       "      <td>371660</td>\n",
       "      <td>Don t be dismayed by the  Mixed  rating  All t...</td>\n",
       "      <td>1.0000</td>\n",
       "      <td>65.1000</td>\n",
       "      <td>English</td>\n",
       "      <td>dismayed mixed rating negatives seen people co...</td>\n",
       "    </tr>\n",
       "    <tr>\n",
       "      <th>747951</th>\n",
       "      <td>Beautiful Itachi</td>\n",
       "      <td>730</td>\n",
       "      <td>Good but lot of hackers  still hackers get banned</td>\n",
       "      <td>1.0000</td>\n",
       "      <td>119.9000</td>\n",
       "      <td>English</td>\n",
       "      <td>good hackers still hackers banned</td>\n",
       "    </tr>\n",
       "  </tbody>\n",
       "</table>\n",
       "</div>"
      ],
      "text/plain": [
       "                  username  product_id  \\\n",
       "index                                    \n",
       "369000  THE LIGHTNING WOLF      359550   \n",
       "244260     Barkus Aurelius      228300   \n",
       "360821            Lil Mayo      225640   \n",
       "626728         Zoffix Znet      371660   \n",
       "747951    Beautiful Itachi         730   \n",
       "\n",
       "                                                     text  found_funny  \\\n",
       "index                                                                    \n",
       "369000  fix your     ing game jesus christ im not reco...       1.0000   \n",
       "244260  Neat story       gameplay  Combat is as deep a...       1.0000   \n",
       "360821  HOW TO FIX THE ISSUE WITH THE GAME NOT STARTIN...       7.0000   \n",
       "626728  Don t be dismayed by the  Mixed  rating  All t...       1.0000   \n",
       "747951  Good but lot of hackers  still hackers get banned       1.0000   \n",
       "\n",
       "          hours     lang                                       cleaned_text  \n",
       "index                                                                        \n",
       "369000 287.3000  English  game jesus christ recomend game toxic communti...  \n",
       "244260   0.7000  English  neat story gameplay combat deep bamham barkum ...  \n",
       "360821   0.2000  English  issue game starting locate sacred sacred folde...  \n",
       "626728  65.1000  English  dismayed mixed rating negatives seen people co...  \n",
       "747951 119.9000  English                  good hackers still hackers banned  "
      ]
     },
     "execution_count": 65,
     "metadata": {},
     "output_type": "execute_result"
    }
   ],
   "source": [
    "# Mostramos el dataset limpio\n",
    "df_reviews.loc[np.random.choice(df_reviews.index, size=5)]"
   ]
  },
  {
   "cell_type": "code",
   "execution_count": 66,
   "metadata": {},
   "outputs": [
    {
     "data": {
      "text/html": [
       "<pre>✔️ 281 ms (2021-09-15T20:03:12/2021-09-15T20:03:12)</pre>"
      ],
      "text/plain": [
       "<IPython.core.display.HTML object>"
      ]
     },
     "metadata": {},
     "output_type": "display_data"
    },
    {
     "name": "stderr",
     "output_type": "stream",
     "text": [
      "[nltk_data] Downloading package wordnet to\n",
      "[nltk_data]     C:\\Users\\elmai\\AppData\\Roaming\\nltk_data...\n",
      "[nltk_data]   Package wordnet is already up-to-date!\n"
     ]
    },
    {
     "data": {
      "text/plain": [
       "True"
      ]
     },
     "execution_count": 66,
     "metadata": {},
     "output_type": "execute_result"
    }
   ],
   "source": [
    "import nltk\n",
    "nltk.download('wordnet')"
   ]
  },
  {
   "cell_type": "code",
   "execution_count": 67,
   "metadata": {},
   "outputs": [
    {
     "data": {
      "text/html": [
       "<pre>✔️ 31 ms (2021-09-15T20:03:13/2021-09-15T20:03:13)</pre>"
      ],
      "text/plain": [
       "<IPython.core.display.HTML object>"
      ]
     },
     "metadata": {},
     "output_type": "display_data"
    },
    {
     "name": "stderr",
     "output_type": "stream",
     "text": [
      "[nltk_data] Downloading package averaged_perceptron_tagger to\n",
      "[nltk_data]     C:\\Users\\elmai\\AppData\\Roaming\\nltk_data...\n",
      "[nltk_data]   Package averaged_perceptron_tagger is already up-to-\n",
      "[nltk_data]       date!\n"
     ]
    },
    {
     "data": {
      "text/plain": [
       "True"
      ]
     },
     "execution_count": 67,
     "metadata": {},
     "output_type": "execute_result"
    }
   ],
   "source": [
    "nltk.download('averaged_perceptron_tagger')"
   ]
  },
  {
   "cell_type": "code",
   "execution_count": 68,
   "metadata": {},
   "outputs": [
    {
     "data": {
      "text/html": [
       "<pre>✔️ 31 ms (2021-09-15T20:03:20/2021-09-15T20:03:20)</pre>"
      ],
      "text/plain": [
       "<IPython.core.display.HTML object>"
      ]
     },
     "metadata": {},
     "output_type": "display_data"
    }
   ],
   "source": [
    "sia = SentimentIntensityAnalyzer()\n",
    "def polaridad(text):\n",
    "    return sia.polarity_scores(text)['compound']"
   ]
  },
  {
   "cell_type": "code",
   "execution_count": 69,
   "metadata": {},
   "outputs": [
    {
     "data": {
      "text/html": [
       "<pre>✔️ 2 min 27 s (2021-09-15T20:03:27/2021-09-15T20:05:54)</pre>"
      ],
      "text/plain": [
       "<IPython.core.display.HTML object>"
      ]
     },
     "metadata": {},
     "output_type": "display_data"
    },
    {
     "data": {
      "application/vnd.jupyter.widget-view+json": {
       "model_id": "7210454c7458456fb90476103900be28",
       "version_major": 2,
       "version_minor": 0
      },
      "text/plain": [
       "  0%|          | 0/105833 [00:00<?, ?it/s]"
      ]
     },
     "metadata": {},
     "output_type": "display_data"
    }
   ],
   "source": [
    "df_reviews['polarity'] = df_reviews['text'].progress_apply(polaridad)"
   ]
  },
  {
   "cell_type": "code",
   "execution_count": 153,
   "metadata": {},
   "outputs": [
    {
     "data": {
      "text/html": [
       "<pre>✔️ 16 ms (2021-09-12T19:55:32/2021-09-12T19:55:32)</pre>"
      ],
      "text/plain": [
       "<IPython.core.display.HTML object>"
      ]
     },
     "metadata": {},
     "output_type": "display_data"
    },
    {
     "data": {
      "text/html": [
       "<div>\n",
       "<style scoped>\n",
       "    .dataframe tbody tr th:only-of-type {\n",
       "        vertical-align: middle;\n",
       "    }\n",
       "\n",
       "    .dataframe tbody tr th {\n",
       "        vertical-align: top;\n",
       "    }\n",
       "\n",
       "    .dataframe thead th {\n",
       "        text-align: right;\n",
       "    }\n",
       "</style>\n",
       "<table border=\"1\" class=\"dataframe\">\n",
       "  <thead>\n",
       "    <tr style=\"text-align: right;\">\n",
       "      <th></th>\n",
       "      <th>username</th>\n",
       "      <th>product_id</th>\n",
       "      <th>text</th>\n",
       "      <th>found_funny</th>\n",
       "      <th>hours</th>\n",
       "      <th>lang</th>\n",
       "      <th>cleaned_text</th>\n",
       "      <th>pola</th>\n",
       "      <th>rating</th>\n",
       "      <th>polarity</th>\n",
       "    </tr>\n",
       "    <tr>\n",
       "      <th>index</th>\n",
       "      <th></th>\n",
       "      <th></th>\n",
       "      <th></th>\n",
       "      <th></th>\n",
       "      <th></th>\n",
       "      <th></th>\n",
       "      <th></th>\n",
       "      <th></th>\n",
       "      <th></th>\n",
       "      <th></th>\n",
       "    </tr>\n",
       "  </thead>\n",
       "  <tbody>\n",
       "    <tr>\n",
       "      <th>0</th>\n",
       "      <td>Chaos Syren</td>\n",
       "      <td>725280</td>\n",
       "      <td>This would not be acceptable as an entertainme...</td>\n",
       "      <td>NaN</td>\n",
       "      <td>0.1000</td>\n",
       "      <td>English</td>\n",
       "      <td>would acceptable entertainment even back graph...</td>\n",
       "      <td>0.2354</td>\n",
       "      <td>3.0885</td>\n",
       "      <td>0.2354</td>\n",
       "    </tr>\n",
       "    <tr>\n",
       "      <th>1</th>\n",
       "      <td>Ariman1</td>\n",
       "      <td>328100</td>\n",
       "      <td>Addictive RPG   Works fine on linux though it ...</td>\n",
       "      <td>NaN</td>\n",
       "      <td>13.2000</td>\n",
       "      <td>English</td>\n",
       "      <td>addictive works fine linux though minor bugs r...</td>\n",
       "      <td>0.2023</td>\n",
       "      <td>3.0057</td>\n",
       "      <td>0.2023</td>\n",
       "    </tr>\n",
       "    <tr>\n",
       "      <th>3</th>\n",
       "      <td>The_Cpt_FROGGY</td>\n",
       "      <td>631920</td>\n",
       "      <td>Somewhere on Zibylon                     Zibyl...</td>\n",
       "      <td>NaN</td>\n",
       "      <td>7.8000</td>\n",
       "      <td>English</td>\n",
       "      <td>somewhere zibylon zibylon command centre read ...</td>\n",
       "      <td>0.9895</td>\n",
       "      <td>4.9737</td>\n",
       "      <td>0.9895</td>\n",
       "    </tr>\n",
       "    <tr>\n",
       "      <th>4</th>\n",
       "      <td>the_maker988</td>\n",
       "      <td>35140</td>\n",
       "      <td>This game was way to linear for me  and compar...</td>\n",
       "      <td>NaN</td>\n",
       "      <td>8.2000</td>\n",
       "      <td>English</td>\n",
       "      <td>game linear compared others good dollars winte...</td>\n",
       "      <td>0.3818</td>\n",
       "      <td>3.4545</td>\n",
       "      <td>0.3818</td>\n",
       "    </tr>\n",
       "    <tr>\n",
       "      <th>5</th>\n",
       "      <td>Szudof</td>\n",
       "      <td>288690</td>\n",
       "      <td>Pit   Hello  my name is dominik di...</td>\n",
       "      <td>3.0000</td>\n",
       "      <td>0.2000</td>\n",
       "      <td>English</td>\n",
       "      <td>hello name dominik review bought sudoku detekt...</td>\n",
       "      <td>0.3400</td>\n",
       "      <td>3.3500</td>\n",
       "      <td>0.3400</td>\n",
       "    </tr>\n",
       "  </tbody>\n",
       "</table>\n",
       "</div>"
      ],
      "text/plain": [
       "             username  product_id  \\\n",
       "index                               \n",
       "0         Chaos Syren      725280   \n",
       "1             Ariman1      328100   \n",
       "3      The_Cpt_FROGGY      631920   \n",
       "4        the_maker988       35140   \n",
       "5              Szudof      288690   \n",
       "\n",
       "                                                    text  found_funny   hours  \\\n",
       "index                                                                           \n",
       "0      This would not be acceptable as an entertainme...          NaN  0.1000   \n",
       "1      Addictive RPG   Works fine on linux though it ...          NaN 13.2000   \n",
       "3      Somewhere on Zibylon                     Zibyl...          NaN  7.8000   \n",
       "4      This game was way to linear for me  and compar...          NaN  8.2000   \n",
       "5                  Pit   Hello  my name is dominik di...       3.0000  0.2000   \n",
       "\n",
       "          lang                                       cleaned_text   pola  \\\n",
       "index                                                                      \n",
       "0      English  would acceptable entertainment even back graph... 0.2354   \n",
       "1      English  addictive works fine linux though minor bugs r... 0.2023   \n",
       "3      English  somewhere zibylon zibylon command centre read ... 0.9895   \n",
       "4      English  game linear compared others good dollars winte... 0.3818   \n",
       "5      English  hello name dominik review bought sudoku detekt... 0.3400   \n",
       "\n",
       "       rating  polarity  \n",
       "index                    \n",
       "0      3.0885    0.2354  \n",
       "1      3.0057    0.2023  \n",
       "3      4.9737    0.9895  \n",
       "4      3.4545    0.3818  \n",
       "5      3.3500    0.3400  "
      ]
     },
     "execution_count": 153,
     "metadata": {},
     "output_type": "execute_result"
    }
   ],
   "source": [
    "df_reviews.head()"
   ]
  },
  {
   "cell_type": "code",
   "execution_count": 73,
   "metadata": {},
   "outputs": [
    {
     "data": {
      "text/html": [
       "<pre>✔️ 62 ms (2021-09-13T20:14:43/2021-09-13T20:14:43)</pre>"
      ],
      "text/plain": [
       "<IPython.core.display.HTML object>"
      ]
     },
     "metadata": {},
     "output_type": "display_data"
    },
    {
     "data": {
      "text/html": [
       "<div>\n",
       "<style scoped>\n",
       "    .dataframe tbody tr th:only-of-type {\n",
       "        vertical-align: middle;\n",
       "    }\n",
       "\n",
       "    .dataframe tbody tr th {\n",
       "        vertical-align: top;\n",
       "    }\n",
       "\n",
       "    .dataframe thead th {\n",
       "        text-align: right;\n",
       "    }\n",
       "</style>\n",
       "<table border=\"1\" class=\"dataframe\">\n",
       "  <thead>\n",
       "    <tr style=\"text-align: right;\">\n",
       "      <th></th>\n",
       "      <th>username</th>\n",
       "      <th>product_id</th>\n",
       "      <th>text</th>\n",
       "      <th>found_funny</th>\n",
       "      <th>hours</th>\n",
       "      <th>lang</th>\n",
       "      <th>polarity</th>\n",
       "      <th>rating</th>\n",
       "    </tr>\n",
       "    <tr>\n",
       "      <th>index</th>\n",
       "      <th></th>\n",
       "      <th></th>\n",
       "      <th></th>\n",
       "      <th></th>\n",
       "      <th></th>\n",
       "      <th></th>\n",
       "      <th></th>\n",
       "      <th></th>\n",
       "    </tr>\n",
       "  </thead>\n",
       "  <tbody>\n",
       "    <tr>\n",
       "      <th>0</th>\n",
       "      <td>Chaos Syren</td>\n",
       "      <td>725280</td>\n",
       "      <td>This would not be acceptable as an entertainme...</td>\n",
       "      <td>NaN</td>\n",
       "      <td>0.1000</td>\n",
       "      <td>English</td>\n",
       "      <td>0.2354</td>\n",
       "      <td>3.0885</td>\n",
       "    </tr>\n",
       "    <tr>\n",
       "      <th>1</th>\n",
       "      <td>Ariman1</td>\n",
       "      <td>328100</td>\n",
       "      <td>Addictive RPG   Works fine on linux though it ...</td>\n",
       "      <td>NaN</td>\n",
       "      <td>13.2000</td>\n",
       "      <td>English</td>\n",
       "      <td>0.2023</td>\n",
       "      <td>3.0057</td>\n",
       "    </tr>\n",
       "    <tr>\n",
       "      <th>3</th>\n",
       "      <td>The_Cpt_FROGGY</td>\n",
       "      <td>631920</td>\n",
       "      <td>Somewhere on Zibylon                     Zibyl...</td>\n",
       "      <td>NaN</td>\n",
       "      <td>7.8000</td>\n",
       "      <td>English</td>\n",
       "      <td>0.9895</td>\n",
       "      <td>4.9737</td>\n",
       "    </tr>\n",
       "    <tr>\n",
       "      <th>4</th>\n",
       "      <td>the_maker988</td>\n",
       "      <td>35140</td>\n",
       "      <td>This game was way to linear for me  and compar...</td>\n",
       "      <td>NaN</td>\n",
       "      <td>8.2000</td>\n",
       "      <td>English</td>\n",
       "      <td>0.3818</td>\n",
       "      <td>3.4545</td>\n",
       "    </tr>\n",
       "    <tr>\n",
       "      <th>5</th>\n",
       "      <td>Szudof</td>\n",
       "      <td>288690</td>\n",
       "      <td>Pit   Hello  my name is dominik di...</td>\n",
       "      <td>3.0000</td>\n",
       "      <td>0.2000</td>\n",
       "      <td>English</td>\n",
       "      <td>0.3400</td>\n",
       "      <td>3.3500</td>\n",
       "    </tr>\n",
       "    <tr>\n",
       "      <th>...</th>\n",
       "      <td>...</td>\n",
       "      <td>...</td>\n",
       "      <td>...</td>\n",
       "      <td>...</td>\n",
       "      <td>...</td>\n",
       "      <td>...</td>\n",
       "      <td>...</td>\n",
       "      <td>...</td>\n",
       "    </tr>\n",
       "    <tr>\n",
       "      <th>779301</th>\n",
       "      <td>SepticFalcon</td>\n",
       "      <td>252490</td>\n",
       "      <td>A good laugh with friends  cannot wait till mo...</td>\n",
       "      <td>NaN</td>\n",
       "      <td>334.9000</td>\n",
       "      <td>English</td>\n",
       "      <td>0.8625</td>\n",
       "      <td>4.6562</td>\n",
       "    </tr>\n",
       "    <tr>\n",
       "      <th>779302</th>\n",
       "      <td>Vidaar</td>\n",
       "      <td>252490</td>\n",
       "      <td>Summary  Rust is a survival game created by Fa...</td>\n",
       "      <td>NaN</td>\n",
       "      <td>783.5000</td>\n",
       "      <td>English</td>\n",
       "      <td>-0.9928</td>\n",
       "      <td>0.0180</td>\n",
       "    </tr>\n",
       "    <tr>\n",
       "      <th>779304</th>\n",
       "      <td>RancorZealot</td>\n",
       "      <td>252490</td>\n",
       "      <td>Should you buy RUST  Uh    YES  The BEST Survi...</td>\n",
       "      <td>NaN</td>\n",
       "      <td>203.5000</td>\n",
       "      <td>English</td>\n",
       "      <td>0.7510</td>\n",
       "      <td>4.3775</td>\n",
       "    </tr>\n",
       "    <tr>\n",
       "      <th>779305</th>\n",
       "      <td>Jerry</td>\n",
       "      <td>252490</td>\n",
       "      <td>Great game</td>\n",
       "      <td>NaN</td>\n",
       "      <td>139.8000</td>\n",
       "      <td>English</td>\n",
       "      <td>0.6249</td>\n",
       "      <td>4.0623</td>\n",
       "    </tr>\n",
       "    <tr>\n",
       "      <th>779306</th>\n",
       "      <td>Helk</td>\n",
       "      <td>252490</td>\n",
       "      <td>I love this game</td>\n",
       "      <td>36.0000</td>\n",
       "      <td>15375.0000</td>\n",
       "      <td>English</td>\n",
       "      <td>0.6369</td>\n",
       "      <td>4.0922</td>\n",
       "    </tr>\n",
       "  </tbody>\n",
       "</table>\n",
       "<p>685202 rows × 8 columns</p>\n",
       "</div>"
      ],
      "text/plain": [
       "              username  product_id  \\\n",
       "index                                \n",
       "0          Chaos Syren      725280   \n",
       "1              Ariman1      328100   \n",
       "3       The_Cpt_FROGGY      631920   \n",
       "4         the_maker988       35140   \n",
       "5               Szudof      288690   \n",
       "...                ...         ...   \n",
       "779301    SepticFalcon      252490   \n",
       "779302          Vidaar      252490   \n",
       "779304    RancorZealot      252490   \n",
       "779305           Jerry      252490   \n",
       "779306            Helk      252490   \n",
       "\n",
       "                                                     text  found_funny  \\\n",
       "index                                                                    \n",
       "0       This would not be acceptable as an entertainme...          NaN   \n",
       "1       Addictive RPG   Works fine on linux though it ...          NaN   \n",
       "3       Somewhere on Zibylon                     Zibyl...          NaN   \n",
       "4       This game was way to linear for me  and compar...          NaN   \n",
       "5                   Pit   Hello  my name is dominik di...       3.0000   \n",
       "...                                                   ...          ...   \n",
       "779301  A good laugh with friends  cannot wait till mo...          NaN   \n",
       "779302  Summary  Rust is a survival game created by Fa...          NaN   \n",
       "779304  Should you buy RUST  Uh    YES  The BEST Survi...          NaN   \n",
       "779305                                        Great game           NaN   \n",
       "779306                                  I love this game       36.0000   \n",
       "\n",
       "            hours     lang  polarity  rating  \n",
       "index                                         \n",
       "0          0.1000  English    0.2354  3.0885  \n",
       "1         13.2000  English    0.2023  3.0057  \n",
       "3          7.8000  English    0.9895  4.9737  \n",
       "4          8.2000  English    0.3818  3.4545  \n",
       "5          0.2000  English    0.3400  3.3500  \n",
       "...           ...      ...       ...     ...  \n",
       "779301   334.9000  English    0.8625  4.6562  \n",
       "779302   783.5000  English   -0.9928  0.0180  \n",
       "779304   203.5000  English    0.7510  4.3775  \n",
       "779305   139.8000  English    0.6249  4.0623  \n",
       "779306 15375.0000  English    0.6369  4.0922  \n",
       "\n",
       "[685202 rows x 8 columns]"
      ]
     },
     "execution_count": 73,
     "metadata": {},
     "output_type": "execute_result"
    }
   ],
   "source": [
    "# Creamos una columns de Rating entre 0 y 5, escalando la columna 'polarity'\n",
    "column=df_reviews[['polarity']]\n",
    "scaler = MinMaxScaler(feature_range=(0,5))\n",
    "df_reviews['rating'] = scaler.fit_transform(column)\n",
    "df_reviews"
   ]
  },
  {
   "cell_type": "code",
   "execution_count": 71,
   "metadata": {},
   "outputs": [
    {
     "data": {
      "text/html": [
       "<pre>✔️ 328 ms (2021-09-15T20:12:53/2021-09-15T20:12:53)</pre>"
      ],
      "text/plain": [
       "<IPython.core.display.HTML object>"
      ]
     },
     "metadata": {},
     "output_type": "display_data"
    },
    {
     "data": {
      "text/html": [
       "<div>\n",
       "<style scoped>\n",
       "    .dataframe tbody tr th:only-of-type {\n",
       "        vertical-align: middle;\n",
       "    }\n",
       "\n",
       "    .dataframe tbody tr th {\n",
       "        vertical-align: top;\n",
       "    }\n",
       "\n",
       "    .dataframe thead th {\n",
       "        text-align: right;\n",
       "    }\n",
       "</style>\n",
       "<table border=\"1\" class=\"dataframe\">\n",
       "  <thead>\n",
       "    <tr style=\"text-align: right;\">\n",
       "      <th></th>\n",
       "      <th>username</th>\n",
       "      <th>count</th>\n",
       "    </tr>\n",
       "  </thead>\n",
       "  <tbody>\n",
       "    <tr>\n",
       "      <th>0</th>\n",
       "      <td>Communist \"Joseph Ballin\" Layton</td>\n",
       "      <td>42</td>\n",
       "    </tr>\n",
       "    <tr>\n",
       "      <th>1</th>\n",
       "      <td>Paradise Decay</td>\n",
       "      <td>39</td>\n",
       "    </tr>\n",
       "    <tr>\n",
       "      <th>2</th>\n",
       "      <td>Tom</td>\n",
       "      <td>37</td>\n",
       "    </tr>\n",
       "    <tr>\n",
       "      <th>3</th>\n",
       "      <td>VahidSlayerOfAll</td>\n",
       "      <td>36</td>\n",
       "    </tr>\n",
       "    <tr>\n",
       "      <th>4</th>\n",
       "      <td>Running-Target</td>\n",
       "      <td>36</td>\n",
       "    </tr>\n",
       "  </tbody>\n",
       "</table>\n",
       "</div>"
      ],
      "text/plain": [
       "                           username  count\n",
       "0  Communist \"Joseph Ballin\" Layton     42\n",
       "1                    Paradise Decay     39\n",
       "2                               Tom     37\n",
       "3                  VahidSlayerOfAll     36\n",
       "4                    Running-Target     36"
      ]
     },
     "execution_count": 71,
     "metadata": {},
     "output_type": "execute_result"
    }
   ],
   "source": [
    "reviews_count = df_reviews.groupby('username').count().text.sort_values(ascending=False).reset_index().rename(columns={'text':'count'})\n",
    "reviews_count.head()"
   ]
  },
  {
   "cell_type": "code",
   "execution_count": 72,
   "metadata": {},
   "outputs": [
    {
     "data": {
      "text/html": [
       "<pre>✔️ 18.4 s (2021-09-15T20:13:01/2021-09-15T20:13:19)</pre>"
      ],
      "text/plain": [
       "<IPython.core.display.HTML object>"
      ]
     },
     "metadata": {},
     "output_type": "display_data"
    },
    {
     "name": "stderr",
     "output_type": "stream",
     "text": [
      "C:\\Users\\elmai\\.conda\\envs\\datascience\\lib\\site-packages\\matplotlib\\backends\\backend_agg.py:238: RuntimeWarning: Glyph 128039 missing from current font.\n",
      "  font.set_text(s, 0.0, flags=flags)\n",
      "C:\\Users\\elmai\\.conda\\envs\\datascience\\lib\\site-packages\\matplotlib\\backends\\backend_agg.py:238: RuntimeWarning: Glyph 10025 missing from current font.\n",
      "  font.set_text(s, 0.0, flags=flags)\n",
      "C:\\Users\\elmai\\.conda\\envs\\datascience\\lib\\site-packages\\matplotlib\\backends\\backend_agg.py:238: RuntimeWarning: Glyph 3640 missing from current font.\n",
      "  font.set_text(s, 0.0, flags=flags)\n",
      "C:\\Users\\elmai\\.conda\\envs\\datascience\\lib\\site-packages\\matplotlib\\backends\\backend_agg.py:238: RuntimeWarning: Glyph 9855 missing from current font.\n",
      "  font.set_text(s, 0.0, flags=flags)\n",
      "C:\\Users\\elmai\\.conda\\envs\\datascience\\lib\\site-packages\\matplotlib\\backends\\backend_agg.py:238: RuntimeWarning: Glyph 9891 missing from current font.\n",
      "  font.set_text(s, 0.0, flags=flags)\n",
      "C:\\Users\\elmai\\.conda\\envs\\datascience\\lib\\site-packages\\matplotlib\\backends\\backend_agg.py:238: RuntimeWarning: Glyph 128175 missing from current font.\n",
      "  font.set_text(s, 0.0, flags=flags)\n",
      "C:\\Users\\elmai\\.conda\\envs\\datascience\\lib\\site-packages\\matplotlib\\backends\\backend_agg.py:238: RuntimeWarning: Glyph 12415 missing from current font.\n",
      "  font.set_text(s, 0.0, flags=flags)\n",
      "C:\\Users\\elmai\\.conda\\envs\\datascience\\lib\\site-packages\\matplotlib\\backends\\backend_agg.py:238: RuntimeWarning: Glyph 29238 missing from current font.\n",
      "  font.set_text(s, 0.0, flags=flags)\n",
      "C:\\Users\\elmai\\.conda\\envs\\datascience\\lib\\site-packages\\matplotlib\\backends\\backend_agg.py:201: RuntimeWarning: Glyph 128039 missing from current font.\n",
      "  font.set_text(s, 0, flags=flags)\n",
      "C:\\Users\\elmai\\.conda\\envs\\datascience\\lib\\site-packages\\matplotlib\\backends\\backend_agg.py:201: RuntimeWarning: Glyph 10025 missing from current font.\n",
      "  font.set_text(s, 0, flags=flags)\n",
      "C:\\Users\\elmai\\.conda\\envs\\datascience\\lib\\site-packages\\matplotlib\\backends\\backend_agg.py:201: RuntimeWarning: Glyph 3640 missing from current font.\n",
      "  font.set_text(s, 0, flags=flags)\n",
      "C:\\Users\\elmai\\.conda\\envs\\datascience\\lib\\site-packages\\matplotlib\\backends\\backend_agg.py:201: RuntimeWarning: Glyph 9855 missing from current font.\n",
      "  font.set_text(s, 0, flags=flags)\n",
      "C:\\Users\\elmai\\.conda\\envs\\datascience\\lib\\site-packages\\matplotlib\\backends\\backend_agg.py:201: RuntimeWarning: Glyph 9891 missing from current font.\n",
      "  font.set_text(s, 0, flags=flags)\n",
      "C:\\Users\\elmai\\.conda\\envs\\datascience\\lib\\site-packages\\matplotlib\\backends\\backend_agg.py:201: RuntimeWarning: Glyph 128175 missing from current font.\n",
      "  font.set_text(s, 0, flags=flags)\n",
      "C:\\Users\\elmai\\.conda\\envs\\datascience\\lib\\site-packages\\matplotlib\\backends\\backend_agg.py:201: RuntimeWarning: Glyph 12415 missing from current font.\n",
      "  font.set_text(s, 0, flags=flags)\n",
      "C:\\Users\\elmai\\.conda\\envs\\datascience\\lib\\site-packages\\matplotlib\\backends\\backend_agg.py:201: RuntimeWarning: Glyph 29238 missing from current font.\n",
      "  font.set_text(s, 0, flags=flags)\n"
     ]
    },
    {
     "data": {
      "image/png": "[encoded data removed]",
      "text/plain": [
       "<Figure size 2160x720 with 1 Axes>"
      ]
     },
     "metadata": {},
     "output_type": "display_data"
    }
   ],
   "source": [
    "plt.figure(figsize=(30,10))\n",
    "g = sns.barplot(data=reviews_count[:200], x='username', y='count')\n",
    "plt.xticks(rotation=90)\n",
    "plt.show()"
   ]
  },
  {
   "cell_type": "code",
   "execution_count": 79,
   "metadata": {},
   "outputs": [
    {
     "data": {
      "text/html": [
       "<pre>✔️ 16 ms (2021-09-15T20:21:17/2021-09-15T20:21:17)</pre>"
      ],
      "text/plain": [
       "<IPython.core.display.HTML object>"
      ]
     },
     "metadata": {},
     "output_type": "display_data"
    },
    {
     "data": {
      "text/html": [
       "<div>\n",
       "<style scoped>\n",
       "    .dataframe tbody tr th:only-of-type {\n",
       "        vertical-align: middle;\n",
       "    }\n",
       "\n",
       "    .dataframe tbody tr th {\n",
       "        vertical-align: top;\n",
       "    }\n",
       "\n",
       "    .dataframe thead th {\n",
       "        text-align: right;\n",
       "    }\n",
       "</style>\n",
       "<table border=\"1\" class=\"dataframe\">\n",
       "  <thead>\n",
       "    <tr style=\"text-align: right;\">\n",
       "      <th></th>\n",
       "      <th>username</th>\n",
       "      <th>product_id</th>\n",
       "      <th>text</th>\n",
       "      <th>found_funny</th>\n",
       "      <th>hours</th>\n",
       "      <th>lang</th>\n",
       "      <th>cleaned_text</th>\n",
       "      <th>polarity</th>\n",
       "    </tr>\n",
       "    <tr>\n",
       "      <th>index</th>\n",
       "      <th></th>\n",
       "      <th></th>\n",
       "      <th></th>\n",
       "      <th></th>\n",
       "      <th></th>\n",
       "      <th></th>\n",
       "      <th></th>\n",
       "      <th></th>\n",
       "    </tr>\n",
       "  </thead>\n",
       "  <tbody>\n",
       "    <tr>\n",
       "      <th>5</th>\n",
       "      <td>Szudof</td>\n",
       "      <td>288690</td>\n",
       "      <td>Pit   Hello  my name is dominik di...</td>\n",
       "      <td>3.0000</td>\n",
       "      <td>0.2000</td>\n",
       "      <td>English</td>\n",
       "      <td>hello name dominik review bought sudoku detekt...</td>\n",
       "      <td>0.3400</td>\n",
       "    </tr>\n",
       "    <tr>\n",
       "      <th>7</th>\n",
       "      <td>LucaFox</td>\n",
       "      <td>620900</td>\n",
       "      <td>Very  very good game  I love dungeon crawlers ...</td>\n",
       "      <td>1.0000</td>\n",
       "      <td>4.0000</td>\n",
       "      <td>English</td>\n",
       "      <td>good game love dungeon crawlers roguelikes lig...</td>\n",
       "      <td>0.9986</td>\n",
       "    </tr>\n",
       "    <tr>\n",
       "      <th>9</th>\n",
       "      <td>Devil Azite</td>\n",
       "      <td>671270</td>\n",
       "      <td>Putting a hat on your head has disasterous rep...</td>\n",
       "      <td>1.0000</td>\n",
       "      <td>0.1000</td>\n",
       "      <td>English</td>\n",
       "      <td>putting head disasterous repercussions</td>\n",
       "      <td>0.0000</td>\n",
       "    </tr>\n",
       "    <tr>\n",
       "      <th>14</th>\n",
       "      <td>tehwave</td>\n",
       "      <td>671270</td>\n",
       "      <td>Queen Elizabeth said that I d like it  and she...</td>\n",
       "      <td>3.0000</td>\n",
       "      <td>0.1000</td>\n",
       "      <td>English</td>\n",
       "      <td>queen elizabeth said like right</td>\n",
       "      <td>0.3612</td>\n",
       "    </tr>\n",
       "    <tr>\n",
       "      <th>15</th>\n",
       "      <td>Hanzo</td>\n",
       "      <td>8880</td>\n",
       "      <td>Freidom force is game made in late   s by some...</td>\n",
       "      <td>3.0000</td>\n",
       "      <td>0.2000</td>\n",
       "      <td>English</td>\n",
       "      <td>freidom force game made late class project pub...</td>\n",
       "      <td>0.7184</td>\n",
       "    </tr>\n",
       "    <tr>\n",
       "      <th>...</th>\n",
       "      <td>...</td>\n",
       "      <td>...</td>\n",
       "      <td>...</td>\n",
       "      <td>...</td>\n",
       "      <td>...</td>\n",
       "      <td>...</td>\n",
       "      <td>...</td>\n",
       "      <td>...</td>\n",
       "    </tr>\n",
       "    <tr>\n",
       "      <th>779256</th>\n",
       "      <td>Noodle</td>\n",
       "      <td>252490</td>\n",
       "      <td>This is a great survival building game  it can...</td>\n",
       "      <td>1.0000</td>\n",
       "      <td>96.6000</td>\n",
       "      <td>English</td>\n",
       "      <td>great survival building game hold people serve...</td>\n",
       "      <td>0.3400</td>\n",
       "    </tr>\n",
       "    <tr>\n",
       "      <th>779257</th>\n",
       "      <td>SGC | Atome</td>\n",
       "      <td>252490</td>\n",
       "      <td>Biggest surprise of      An absolutely brillia...</td>\n",
       "      <td>1.0000</td>\n",
       "      <td>111.7000</td>\n",
       "      <td>English</td>\n",
       "      <td>biggest surprise absolutely brilliant concept ...</td>\n",
       "      <td>0.8858</td>\n",
       "    </tr>\n",
       "    <tr>\n",
       "      <th>779258</th>\n",
       "      <td>beren</td>\n",
       "      <td>252490</td>\n",
       "      <td>What can I say about this game  Build  raid  g...</td>\n",
       "      <td>1.0000</td>\n",
       "      <td>254.6000</td>\n",
       "      <td>English</td>\n",
       "      <td>game build raid raided repeat enjoyable going ...</td>\n",
       "      <td>0.9799</td>\n",
       "    </tr>\n",
       "    <tr>\n",
       "      <th>779278</th>\n",
       "      <td>KappaJ</td>\n",
       "      <td>252490</td>\n",
       "      <td>My friend gtf chased me around with a rock yel...</td>\n",
       "      <td>2.0000</td>\n",
       "      <td>248.9000</td>\n",
       "      <td>English</td>\n",
       "      <td>friend chased around rock yelling bakele kumel...</td>\n",
       "      <td>0.1027</td>\n",
       "    </tr>\n",
       "    <tr>\n",
       "      <th>779306</th>\n",
       "      <td>Helk</td>\n",
       "      <td>252490</td>\n",
       "      <td>I love this game</td>\n",
       "      <td>36.0000</td>\n",
       "      <td>15375.0000</td>\n",
       "      <td>English</td>\n",
       "      <td>love game</td>\n",
       "      <td>0.6369</td>\n",
       "    </tr>\n",
       "  </tbody>\n",
       "</table>\n",
       "<p>105833 rows × 8 columns</p>\n",
       "</div>"
      ],
      "text/plain": [
       "           username  product_id  \\\n",
       "index                             \n",
       "5            Szudof      288690   \n",
       "7           LucaFox      620900   \n",
       "9       Devil Azite      671270   \n",
       "14          tehwave      671270   \n",
       "15            Hanzo        8880   \n",
       "...             ...         ...   \n",
       "779256       Noodle      252490   \n",
       "779257  SGC | Atome      252490   \n",
       "779258        beren      252490   \n",
       "779278       KappaJ      252490   \n",
       "779306         Helk      252490   \n",
       "\n",
       "                                                     text  found_funny  \\\n",
       "index                                                                    \n",
       "5                   Pit   Hello  my name is dominik di...       3.0000   \n",
       "7       Very  very good game  I love dungeon crawlers ...       1.0000   \n",
       "9       Putting a hat on your head has disasterous rep...       1.0000   \n",
       "14      Queen Elizabeth said that I d like it  and she...       3.0000   \n",
       "15      Freidom force is game made in late   s by some...       3.0000   \n",
       "...                                                   ...          ...   \n",
       "779256  This is a great survival building game  it can...       1.0000   \n",
       "779257  Biggest surprise of      An absolutely brillia...       1.0000   \n",
       "779258  What can I say about this game  Build  raid  g...       1.0000   \n",
       "779278  My friend gtf chased me around with a rock yel...       2.0000   \n",
       "779306                                  I love this game       36.0000   \n",
       "\n",
       "            hours     lang                                       cleaned_text  \\\n",
       "index                                                                           \n",
       "5          0.2000  English  hello name dominik review bought sudoku detekt...   \n",
       "7          4.0000  English  good game love dungeon crawlers roguelikes lig...   \n",
       "9          0.1000  English             putting head disasterous repercussions   \n",
       "14         0.1000  English                    queen elizabeth said like right   \n",
       "15         0.2000  English  freidom force game made late class project pub...   \n",
       "...           ...      ...                                                ...   \n",
       "779256    96.6000  English  great survival building game hold people serve...   \n",
       "779257   111.7000  English  biggest surprise absolutely brilliant concept ...   \n",
       "779258   254.6000  English  game build raid raided repeat enjoyable going ...   \n",
       "779278   248.9000  English  friend chased around rock yelling bakele kumel...   \n",
       "779306 15375.0000  English                                          love game   \n",
       "\n",
       "        polarity  \n",
       "index             \n",
       "5         0.3400  \n",
       "7         0.9986  \n",
       "9         0.0000  \n",
       "14        0.3612  \n",
       "15        0.7184  \n",
       "...          ...  \n",
       "779256    0.3400  \n",
       "779257    0.8858  \n",
       "779258    0.9799  \n",
       "779278    0.1027  \n",
       "779306    0.6369  \n",
       "\n",
       "[105833 rows x 8 columns]"
      ]
     },
     "execution_count": 79,
     "metadata": {},
     "output_type": "execute_result"
    }
   ],
   "source": [
    "df_reviews"
   ]
  },
  {
   "cell_type": "code",
   "execution_count": 77,
   "metadata": {},
   "outputs": [
    {
     "data": {
      "text/html": [
       "<pre>✔️ 31 ms (2021-09-15T20:14:09/2021-09-15T20:14:09)</pre>"
      ],
      "text/plain": [
       "<IPython.core.display.HTML object>"
      ]
     },
     "metadata": {},
     "output_type": "display_data"
    },
    {
     "ename": "KeyError",
     "evalue": "\"Column 'rating' does not exist!\"",
     "output_type": "error",
     "traceback": [
      "\u001b[1;31m---------------------------------------------------------------------------\u001b[0m",
      "\u001b[1;31mKeyError\u001b[0m                                  Traceback (most recent call last)",
      "\u001b[1;32m~\\AppData\\Local\\Temp/ipykernel_17936/3592856554.py\u001b[0m in \u001b[0;36m<module>\u001b[1;34m\u001b[0m\n\u001b[1;32m----> 1\u001b[1;33m \u001b[0mdf_ratings\u001b[0m \u001b[1;33m=\u001b[0m \u001b[0mdf_reviews\u001b[0m\u001b[1;33m.\u001b[0m\u001b[0mgroupby\u001b[0m\u001b[1;33m(\u001b[0m\u001b[1;34m'product_id'\u001b[0m\u001b[1;33m)\u001b[0m\u001b[1;33m.\u001b[0m\u001b[0magg\u001b[0m\u001b[1;33m(\u001b[0m\u001b[1;33m{\u001b[0m\u001b[1;34m'rating'\u001b[0m\u001b[1;33m:\u001b[0m\u001b[1;33m[\u001b[0m\u001b[1;34m'count'\u001b[0m\u001b[1;33m,\u001b[0m\u001b[1;34m'mean'\u001b[0m\u001b[1;33m]\u001b[0m\u001b[1;33m}\u001b[0m\u001b[1;33m)\u001b[0m\u001b[1;33m.\u001b[0m\u001b[0mreset_index\u001b[0m\u001b[1;33m(\u001b[0m\u001b[1;33m)\u001b[0m\u001b[1;33m\u001b[0m\u001b[1;33m\u001b[0m\u001b[0m\n\u001b[0m\u001b[0;32m      2\u001b[0m \u001b[0mdf_ratings\u001b[0m\u001b[1;33m.\u001b[0m\u001b[0mcolumns\u001b[0m \u001b[1;33m=\u001b[0m \u001b[1;33m[\u001b[0m\u001b[1;34m'product_id'\u001b[0m\u001b[1;33m,\u001b[0m \u001b[1;34m'count'\u001b[0m\u001b[1;33m,\u001b[0m \u001b[1;34m'mean'\u001b[0m\u001b[1;33m]\u001b[0m\u001b[1;33m\u001b[0m\u001b[1;33m\u001b[0m\u001b[0m\n\u001b[0;32m      3\u001b[0m \u001b[0mdf_ratings\u001b[0m\u001b[1;33m.\u001b[0m\u001b[0msort_values\u001b[0m\u001b[1;33m(\u001b[0m\u001b[0mby\u001b[0m\u001b[1;33m=\u001b[0m\u001b[1;34m'mean'\u001b[0m\u001b[1;33m,\u001b[0m \u001b[0mascending\u001b[0m\u001b[1;33m=\u001b[0m\u001b[1;32mFalse\u001b[0m\u001b[1;33m,\u001b[0m \u001b[0minplace\u001b[0m\u001b[1;33m=\u001b[0m\u001b[1;32mTrue\u001b[0m\u001b[1;33m)\u001b[0m\u001b[1;33m\u001b[0m\u001b[1;33m\u001b[0m\u001b[0m\n\u001b[0;32m      4\u001b[0m \u001b[0mdf_ratings\u001b[0m\u001b[1;33m.\u001b[0m\u001b[0mreset_index\u001b[0m\u001b[1;33m(\u001b[0m\u001b[0minplace\u001b[0m\u001b[1;33m=\u001b[0m\u001b[1;32mTrue\u001b[0m\u001b[1;33m,\u001b[0m \u001b[0mdrop\u001b[0m\u001b[1;33m=\u001b[0m\u001b[1;32mTrue\u001b[0m\u001b[1;33m)\u001b[0m\u001b[1;33m\u001b[0m\u001b[1;33m\u001b[0m\u001b[0m\n\u001b[0;32m      5\u001b[0m \u001b[0mdf_ratings\u001b[0m\u001b[1;33m\u001b[0m\u001b[1;33m\u001b[0m\u001b[0m\n",
      "\u001b[1;32m~\\.conda\\envs\\datascience\\lib\\site-packages\\pandas\\core\\groupby\\generic.py\u001b[0m in \u001b[0;36maggregate\u001b[1;34m(self, func, engine, engine_kwargs, *args, **kwargs)\u001b[0m\n\u001b[0;32m    943\u001b[0m         \u001b[0mfunc\u001b[0m \u001b[1;33m=\u001b[0m \u001b[0mmaybe_mangle_lambdas\u001b[0m\u001b[1;33m(\u001b[0m\u001b[0mfunc\u001b[0m\u001b[1;33m)\u001b[0m\u001b[1;33m\u001b[0m\u001b[1;33m\u001b[0m\u001b[0m\n\u001b[0;32m    944\u001b[0m \u001b[1;33m\u001b[0m\u001b[0m\n\u001b[1;32m--> 945\u001b[1;33m         \u001b[0mresult\u001b[0m\u001b[1;33m,\u001b[0m \u001b[0mhow\u001b[0m \u001b[1;33m=\u001b[0m \u001b[0maggregate\u001b[0m\u001b[1;33m(\u001b[0m\u001b[0mself\u001b[0m\u001b[1;33m,\u001b[0m \u001b[0mfunc\u001b[0m\u001b[1;33m,\u001b[0m \u001b[1;33m*\u001b[0m\u001b[0margs\u001b[0m\u001b[1;33m,\u001b[0m \u001b[1;33m**\u001b[0m\u001b[0mkwargs\u001b[0m\u001b[1;33m)\u001b[0m\u001b[1;33m\u001b[0m\u001b[1;33m\u001b[0m\u001b[0m\n\u001b[0m\u001b[0;32m    946\u001b[0m         \u001b[1;32mif\u001b[0m \u001b[0mhow\u001b[0m \u001b[1;32mis\u001b[0m \u001b[1;32mNone\u001b[0m\u001b[1;33m:\u001b[0m\u001b[1;33m\u001b[0m\u001b[1;33m\u001b[0m\u001b[0m\n\u001b[0;32m    947\u001b[0m             \u001b[1;32mreturn\u001b[0m \u001b[0mresult\u001b[0m\u001b[1;33m\u001b[0m\u001b[1;33m\u001b[0m\u001b[0m\n",
      "\u001b[1;32m~\\.conda\\envs\\datascience\\lib\\site-packages\\pandas\\core\\aggregation.py\u001b[0m in \u001b[0;36maggregate\u001b[1;34m(obj, arg, *args, **kwargs)\u001b[0m\n\u001b[0;32m    580\u001b[0m     \u001b[1;32melif\u001b[0m \u001b[0mis_dict_like\u001b[0m\u001b[1;33m(\u001b[0m\u001b[0marg\u001b[0m\u001b[1;33m)\u001b[0m\u001b[1;33m:\u001b[0m\u001b[1;33m\u001b[0m\u001b[1;33m\u001b[0m\u001b[0m\n\u001b[0;32m    581\u001b[0m         \u001b[0marg\u001b[0m \u001b[1;33m=\u001b[0m \u001b[0mcast\u001b[0m\u001b[1;33m(\u001b[0m\u001b[0mAggFuncTypeDict\u001b[0m\u001b[1;33m,\u001b[0m \u001b[0marg\u001b[0m\u001b[1;33m)\u001b[0m\u001b[1;33m\u001b[0m\u001b[1;33m\u001b[0m\u001b[0m\n\u001b[1;32m--> 582\u001b[1;33m         \u001b[1;32mreturn\u001b[0m \u001b[0magg_dict_like\u001b[0m\u001b[1;33m(\u001b[0m\u001b[0mobj\u001b[0m\u001b[1;33m,\u001b[0m \u001b[0marg\u001b[0m\u001b[1;33m,\u001b[0m \u001b[0m_axis\u001b[0m\u001b[1;33m)\u001b[0m\u001b[1;33m,\u001b[0m \u001b[1;32mTrue\u001b[0m\u001b[1;33m\u001b[0m\u001b[1;33m\u001b[0m\u001b[0m\n\u001b[0m\u001b[0;32m    583\u001b[0m     \u001b[1;32melif\u001b[0m \u001b[0mis_list_like\u001b[0m\u001b[1;33m(\u001b[0m\u001b[0marg\u001b[0m\u001b[1;33m)\u001b[0m\u001b[1;33m:\u001b[0m\u001b[1;33m\u001b[0m\u001b[1;33m\u001b[0m\u001b[0m\n\u001b[0;32m    584\u001b[0m         \u001b[1;31m# we require a list, but not an 'str'\u001b[0m\u001b[1;33m\u001b[0m\u001b[1;33m\u001b[0m\u001b[1;33m\u001b[0m\u001b[0m\n",
      "\u001b[1;32m~\\.conda\\envs\\datascience\\lib\\site-packages\\pandas\\core\\aggregation.py\u001b[0m in \u001b[0;36magg_dict_like\u001b[1;34m(obj, arg, _axis)\u001b[0m\n\u001b[0;32m    744\u001b[0m                 \u001b[0misinstance\u001b[0m\u001b[1;33m(\u001b[0m\u001b[0mselected_obj\u001b[0m\u001b[1;33m,\u001b[0m \u001b[0mABCDataFrame\u001b[0m\u001b[1;33m)\u001b[0m \u001b[1;32mand\u001b[0m \u001b[0mk\u001b[0m \u001b[1;32mnot\u001b[0m \u001b[1;32min\u001b[0m \u001b[0mselected_obj\u001b[0m\u001b[1;33m.\u001b[0m\u001b[0mcolumns\u001b[0m\u001b[1;33m\u001b[0m\u001b[1;33m\u001b[0m\u001b[0m\n\u001b[0;32m    745\u001b[0m             ):\n\u001b[1;32m--> 746\u001b[1;33m                 \u001b[1;32mraise\u001b[0m \u001b[0mKeyError\u001b[0m\u001b[1;33m(\u001b[0m\u001b[1;34mf\"Column '{k}' does not exist!\"\u001b[0m\u001b[1;33m)\u001b[0m\u001b[1;33m\u001b[0m\u001b[1;33m\u001b[0m\u001b[0m\n\u001b[0m\u001b[0;32m    747\u001b[0m \u001b[1;33m\u001b[0m\u001b[0m\n\u001b[0;32m    748\u001b[0m         \u001b[0marg\u001b[0m \u001b[1;33m=\u001b[0m \u001b[0mnew_arg\u001b[0m\u001b[1;33m\u001b[0m\u001b[1;33m\u001b[0m\u001b[0m\n",
      "\u001b[1;31mKeyError\u001b[0m: \"Column 'rating' does not exist!\""
     ]
    }
   ],
   "source": [
    "df_ratings = df_reviews.groupby('product_id').agg({'rating':['count','mean']}).reset_index()\n",
    "df_ratings.columns = ['product_id', 'count', 'mean']\n",
    "df_ratings.sort_values(by='mean', ascending=False, inplace=True)\n",
    "df_ratings.reset_index(inplace=True, drop=True)\n",
    "df_ratings"
   ]
  },
  {
   "cell_type": "code",
   "execution_count": null,
   "metadata": {},
   "outputs": [],
   "source": [
    "df_filter = df_ratings[df_ratings['count'] >= 100]\n",
    "\n",
    "plt.figure(figsize=(7,2))\n",
    "sns.histplot(data=df_filter, x='mean')\n",
    "plt.ylabel('count')\n",
    "plt.xlabel('rating')\n",
    "plt.xticks(rotation=90)\n",
    "plt.show()\n",
    "\n",
    "x = df_filter.index\n",
    "y1 = df_filter['count']\n",
    "y2 = df_filter['mean']\n",
    "\n",
    "fig, ax1 = plt.subplots()\n",
    "\n",
    "ax2 = ax1.twinx()\n",
    "ax1.plot(x, y1, 'g-')\n",
    "ax2.plot(x, y2, 'b-')\n",
    "\n",
    "ax1.set_xlabel('game')\n",
    "ax1.set_ylabel('count', color='g')\n",
    "ax2.set_ylabel('rating', color='b')\n",
    "\n",
    "plt.show()"
   ]
  },
  {
   "cell_type": "code",
   "execution_count": 40,
   "metadata": {},
   "outputs": [
    {
     "data": {
      "text/html": [
       "<pre>✔️ 47 ms (2021-09-12T17:06:42/2021-09-12T17:06:42)</pre>"
      ],
      "text/plain": [
       "<IPython.core.display.HTML object>"
      ]
     },
     "metadata": {},
     "output_type": "display_data"
    },
    {
     "data": {
      "text/html": [
       "<div>\n",
       "<style scoped>\n",
       "    .dataframe tbody tr th:only-of-type {\n",
       "        vertical-align: middle;\n",
       "    }\n",
       "\n",
       "    .dataframe tbody tr th {\n",
       "        vertical-align: top;\n",
       "    }\n",
       "\n",
       "    .dataframe thead th {\n",
       "        text-align: right;\n",
       "    }\n",
       "</style>\n",
       "<table border=\"1\" class=\"dataframe\">\n",
       "  <thead>\n",
       "    <tr style=\"text-align: right;\">\n",
       "      <th></th>\n",
       "      <th>publisher</th>\n",
       "      <th>genres</th>\n",
       "      <th>app_name</th>\n",
       "      <th>title</th>\n",
       "      <th>url</th>\n",
       "      <th>release_date</th>\n",
       "      <th>tags</th>\n",
       "      <th>discount_price</th>\n",
       "      <th>reviews_url</th>\n",
       "      <th>specs</th>\n",
       "      <th>price</th>\n",
       "      <th>early_access</th>\n",
       "      <th>product_id</th>\n",
       "      <th>developer</th>\n",
       "      <th>sentiment</th>\n",
       "      <th>metascore</th>\n",
       "    </tr>\n",
       "  </thead>\n",
       "  <tbody>\n",
       "    <tr>\n",
       "      <th>0</th>\n",
       "      <td>Kotoshiro</td>\n",
       "      <td>[Action, Casual, Indie, Simulation, Strategy]</td>\n",
       "      <td>Lost Summoner Kitty</td>\n",
       "      <td>Lost Summoner Kitty</td>\n",
       "      <td>http://store.steampowered.com/app/761140/Lost_...</td>\n",
       "      <td>2018-01-04</td>\n",
       "      <td>[Strategy, Action, Indie, Casual, Simulation]</td>\n",
       "      <td>4.4900</td>\n",
       "      <td>http://steamcommunity.com/app/761140/reviews/?...</td>\n",
       "      <td>[Single-player]</td>\n",
       "      <td>4.9900</td>\n",
       "      <td>False</td>\n",
       "      <td>761140</td>\n",
       "      <td>Kotoshiro</td>\n",
       "      <td>NaN</td>\n",
       "      <td>NaN</td>\n",
       "    </tr>\n",
       "    <tr>\n",
       "      <th>1</th>\n",
       "      <td>Making Fun, Inc.</td>\n",
       "      <td>[Free to Play, Indie, RPG, Strategy]</td>\n",
       "      <td>Ironbound</td>\n",
       "      <td>Ironbound</td>\n",
       "      <td>http://store.steampowered.com/app/643980/Ironb...</td>\n",
       "      <td>2018-01-04</td>\n",
       "      <td>[Free to Play, Strategy, Indie, RPG, Card Game...</td>\n",
       "      <td>NaN</td>\n",
       "      <td>http://steamcommunity.com/app/643980/reviews/?...</td>\n",
       "      <td>[Single-player, Multi-player, Online Multi-Pla...</td>\n",
       "      <td>Free To Play</td>\n",
       "      <td>False</td>\n",
       "      <td>643980</td>\n",
       "      <td>Secret Level SRL</td>\n",
       "      <td>Mostly Positive</td>\n",
       "      <td>NaN</td>\n",
       "    </tr>\n",
       "    <tr>\n",
       "      <th>2</th>\n",
       "      <td>Poolians.com</td>\n",
       "      <td>[Casual, Free to Play, Indie, Simulation, Sports]</td>\n",
       "      <td>Real Pool 3D - Poolians</td>\n",
       "      <td>Real Pool 3D - Poolians</td>\n",
       "      <td>http://store.steampowered.com/app/670290/Real_...</td>\n",
       "      <td>2017-07-24</td>\n",
       "      <td>[Free to Play, Simulation, Sports, Casual, Ind...</td>\n",
       "      <td>NaN</td>\n",
       "      <td>http://steamcommunity.com/app/670290/reviews/?...</td>\n",
       "      <td>[Single-player, Multi-player, Online Multi-Pla...</td>\n",
       "      <td>Free to Play</td>\n",
       "      <td>False</td>\n",
       "      <td>670290</td>\n",
       "      <td>Poolians.com</td>\n",
       "      <td>Mostly Positive</td>\n",
       "      <td>NaN</td>\n",
       "    </tr>\n",
       "    <tr>\n",
       "      <th>3</th>\n",
       "      <td>彼岸领域</td>\n",
       "      <td>[Action, Adventure, Casual]</td>\n",
       "      <td>弹炸人2222</td>\n",
       "      <td>弹炸人2222</td>\n",
       "      <td>http://store.steampowered.com/app/767400/2222/</td>\n",
       "      <td>2017-12-07</td>\n",
       "      <td>[Action, Adventure, Casual]</td>\n",
       "      <td>0.8300</td>\n",
       "      <td>http://steamcommunity.com/app/767400/reviews/?...</td>\n",
       "      <td>[Single-player]</td>\n",
       "      <td>0.9900</td>\n",
       "      <td>False</td>\n",
       "      <td>767400</td>\n",
       "      <td>彼岸领域</td>\n",
       "      <td>NaN</td>\n",
       "      <td>NaN</td>\n",
       "    </tr>\n",
       "    <tr>\n",
       "      <th>4</th>\n",
       "      <td>NaN</td>\n",
       "      <td>NaN</td>\n",
       "      <td>Log Challenge</td>\n",
       "      <td>NaN</td>\n",
       "      <td>http://store.steampowered.com/app/773570/Log_C...</td>\n",
       "      <td>NaN</td>\n",
       "      <td>[Action, Indie, Casual, Sports]</td>\n",
       "      <td>1.7900</td>\n",
       "      <td>http://steamcommunity.com/app/773570/reviews/?...</td>\n",
       "      <td>[Single-player, Full controller support, HTC V...</td>\n",
       "      <td>2.9900</td>\n",
       "      <td>False</td>\n",
       "      <td>773570</td>\n",
       "      <td>NaN</td>\n",
       "      <td>NaN</td>\n",
       "      <td>NaN</td>\n",
       "    </tr>\n",
       "  </tbody>\n",
       "</table>\n",
       "</div>"
      ],
      "text/plain": [
       "          publisher                                             genres  \\\n",
       "0         Kotoshiro      [Action, Casual, Indie, Simulation, Strategy]   \n",
       "1  Making Fun, Inc.               [Free to Play, Indie, RPG, Strategy]   \n",
       "2      Poolians.com  [Casual, Free to Play, Indie, Simulation, Sports]   \n",
       "3              彼岸领域                        [Action, Adventure, Casual]   \n",
       "4               NaN                                                NaN   \n",
       "\n",
       "                  app_name                    title  \\\n",
       "0      Lost Summoner Kitty      Lost Summoner Kitty   \n",
       "1                Ironbound                Ironbound   \n",
       "2  Real Pool 3D - Poolians  Real Pool 3D - Poolians   \n",
       "3                  弹炸人2222                  弹炸人2222   \n",
       "4            Log Challenge                      NaN   \n",
       "\n",
       "                                                 url release_date  \\\n",
       "0  http://store.steampowered.com/app/761140/Lost_...   2018-01-04   \n",
       "1  http://store.steampowered.com/app/643980/Ironb...   2018-01-04   \n",
       "2  http://store.steampowered.com/app/670290/Real_...   2017-07-24   \n",
       "3     http://store.steampowered.com/app/767400/2222/   2017-12-07   \n",
       "4  http://store.steampowered.com/app/773570/Log_C...          NaN   \n",
       "\n",
       "                                                tags  discount_price  \\\n",
       "0      [Strategy, Action, Indie, Casual, Simulation]          4.4900   \n",
       "1  [Free to Play, Strategy, Indie, RPG, Card Game...             NaN   \n",
       "2  [Free to Play, Simulation, Sports, Casual, Ind...             NaN   \n",
       "3                        [Action, Adventure, Casual]          0.8300   \n",
       "4                    [Action, Indie, Casual, Sports]          1.7900   \n",
       "\n",
       "                                         reviews_url  \\\n",
       "0  http://steamcommunity.com/app/761140/reviews/?...   \n",
       "1  http://steamcommunity.com/app/643980/reviews/?...   \n",
       "2  http://steamcommunity.com/app/670290/reviews/?...   \n",
       "3  http://steamcommunity.com/app/767400/reviews/?...   \n",
       "4  http://steamcommunity.com/app/773570/reviews/?...   \n",
       "\n",
       "                                               specs         price  \\\n",
       "0                                    [Single-player]        4.9900   \n",
       "1  [Single-player, Multi-player, Online Multi-Pla...  Free To Play   \n",
       "2  [Single-player, Multi-player, Online Multi-Pla...  Free to Play   \n",
       "3                                    [Single-player]        0.9900   \n",
       "4  [Single-player, Full controller support, HTC V...        2.9900   \n",
       "\n",
       "   early_access product_id         developer        sentiment metascore  \n",
       "0         False     761140         Kotoshiro              NaN       NaN  \n",
       "1         False     643980  Secret Level SRL  Mostly Positive       NaN  \n",
       "2         False     670290      Poolians.com  Mostly Positive       NaN  \n",
       "3         False     767400              彼岸领域              NaN       NaN  \n",
       "4         False     773570               NaN              NaN       NaN  "
      ]
     },
     "execution_count": 40,
     "metadata": {},
     "output_type": "execute_result"
    }
   ],
   "source": [
    "df_games = data_games.copy()\n",
    "df_games.rename(columns={\"id\":\"product_id\"}, inplace=True)\n",
    "df_games.head()"
   ]
  },
  {
   "cell_type": "code",
   "execution_count": 43,
   "metadata": {},
   "outputs": [
    {
     "data": {
      "text/html": [
       "<pre>✔️ 16 ms (2021-09-12T17:10:18/2021-09-12T17:10:18)</pre>"
      ],
      "text/plain": [
       "<IPython.core.display.HTML object>"
      ]
     },
     "metadata": {},
     "output_type": "display_data"
    }
   ],
   "source": [
    "from sklearn.preprocessing import MinMaxScaler\n",
    "datatypes = ['int16', 'int32', 'int64', 'float16', 'float32', 'float64']\n",
    "normarization = df_reviews.select_dtypes(include=datatypes)\n",
    "for col in normarization.columns:\n",
    "    MinMaxScaler(col)\n",
    "normarization = df_games.select_dtypes(include=datatypes)\n",
    "for col in normarization.columns:\n",
    "    MinMaxScaler(col)"
   ]
  },
  {
   "cell_type": "code",
   "execution_count": 63,
   "metadata": {},
   "outputs": [
    {
     "data": {
      "text/html": [
       "<pre>✔️ 31 ms (2021-09-12T17:22:08/2021-09-12T17:22:08)</pre>"
      ],
      "text/plain": [
       "<IPython.core.display.HTML object>"
      ]
     },
     "metadata": {},
     "output_type": "display_data"
    }
   ],
   "source": [
    "df_games = df_games.dropna(subset=['product_id'])"
   ]
  },
  {
   "cell_type": "code",
   "execution_count": 64,
   "metadata": {},
   "outputs": [
    {
     "data": {
      "text/html": [
       "<pre>✔️ 47 ms (2021-09-12T17:22:09/2021-09-12T17:22:09)</pre>"
      ],
      "text/plain": [
       "<IPython.core.display.HTML object>"
      ]
     },
     "metadata": {},
     "output_type": "display_data"
    },
    {
     "data": {
      "text/plain": [
       "publisher          8051\n",
       "genres             3282\n",
       "app_name              1\n",
       "title              2049\n",
       "url                   0\n",
       "release_date       2066\n",
       "tags                162\n",
       "discount_price    31909\n",
       "reviews_url           0\n",
       "specs               669\n",
       "price              1377\n",
       "early_access          0\n",
       "product_id            0\n",
       "developer          3298\n",
       "sentiment          7181\n",
       "metascore         29457\n",
       "dtype: int64"
      ]
     },
     "execution_count": 64,
     "metadata": {},
     "output_type": "execute_result"
    }
   ],
   "source": [
    "df_games.isna().sum()"
   ]
  },
  {
   "cell_type": "code",
   "execution_count": 65,
   "metadata": {},
   "outputs": [
    {
     "data": {
      "text/html": [
       "<pre>✔️ 31 ms (2021-09-12T17:22:14/2021-09-12T17:22:14)</pre>"
      ],
      "text/plain": [
       "<IPython.core.display.HTML object>"
      ]
     },
     "metadata": {},
     "output_type": "display_data"
    }
   ],
   "source": [
    "df_games['product_id'] = df_games['product_id'].astype('int')"
   ]
  },
  {
   "cell_type": "code",
   "execution_count": 1,
   "metadata": {},
   "outputs": [
    {
     "ename": "NameError",
     "evalue": "name 'pd' is not defined",
     "output_type": "error",
     "traceback": [
      "\u001b[1;31m---------------------------------------------------------------------------\u001b[0m",
      "\u001b[1;31mNameError\u001b[0m                                 Traceback (most recent call last)",
      "\u001b[1;32m~\\AppData\\Local\\Temp/ipykernel_15788/2576924882.py\u001b[0m in \u001b[0;36m<module>\u001b[1;34m\u001b[0m\n\u001b[1;32m----> 1\u001b[1;33m \u001b[0mdf\u001b[0m \u001b[1;33m=\u001b[0m \u001b[0mpd\u001b[0m\u001b[1;33m.\u001b[0m\u001b[0mmerge\u001b[0m\u001b[1;33m(\u001b[0m\u001b[0mdf_reviews\u001b[0m\u001b[1;33m,\u001b[0m \u001b[0mdf_games\u001b[0m\u001b[1;33m,\u001b[0m \u001b[0mon\u001b[0m\u001b[1;33m=\u001b[0m\u001b[1;34m\"product_id\"\u001b[0m\u001b[1;33m)\u001b[0m\u001b[1;33m\u001b[0m\u001b[1;33m\u001b[0m\u001b[0m\n\u001b[0m\u001b[0;32m      2\u001b[0m \u001b[0mdf\u001b[0m\u001b[1;33m.\u001b[0m\u001b[0mhead\u001b[0m\u001b[1;33m(\u001b[0m\u001b[1;33m)\u001b[0m\u001b[1;33m\u001b[0m\u001b[1;33m\u001b[0m\u001b[0m\n",
      "\u001b[1;31mNameError\u001b[0m: name 'pd' is not defined"
     ]
    }
   ],
   "source": [
    "df = pd.merge(df_reviews, df_games, on=\"product_id\")\n",
    "df.head()"
   ]
  },
  {
   "cell_type": "code",
   "execution_count": 70,
   "metadata": {},
   "outputs": [
    {
     "data": {
      "text/html": [
       "<pre>✔️ 15 ms (2021-09-12T17:23:22/2021-09-12T17:23:22)</pre>"
      ],
      "text/plain": [
       "<IPython.core.display.HTML object>"
      ]
     },
     "metadata": {},
     "output_type": "display_data"
    },
    {
     "data": {
      "text/plain": [
       "(685808, 22)"
      ]
     },
     "execution_count": 70,
     "metadata": {},
     "output_type": "execute_result"
    }
   ],
   "source": [
    "df.shape"
   ]
  },
  {
   "cell_type": "code",
   "execution_count": 69,
   "metadata": {},
   "outputs": [
    {
     "data": {
      "text/html": [
       "<pre>✔️ 0 ns (2021-09-12T17:23:08/2021-09-12T17:23:08)</pre>"
      ],
      "text/plain": [
       "<IPython.core.display.HTML object>"
      ]
     },
     "metadata": {},
     "output_type": "display_data"
    },
    {
     "data": {
      "text/plain": [
       "(685202, 7)"
      ]
     },
     "execution_count": 69,
     "metadata": {},
     "output_type": "execute_result"
    }
   ],
   "source": [
    "df_reviews.shape"
   ]
  },
  {
   "cell_type": "code",
   "execution_count": 71,
   "metadata": {},
   "outputs": [
    {
     "data": {
      "text/html": [
       "<pre>✔️ 15 ms (2021-09-12T17:24:08/2021-09-12T17:24:08)</pre>"
      ],
      "text/plain": [
       "<IPython.core.display.HTML object>"
      ]
     },
     "metadata": {},
     "output_type": "display_data"
    },
    {
     "data": {
      "text/plain": [
       "(32133, 16)"
      ]
     },
     "execution_count": 71,
     "metadata": {},
     "output_type": "execute_result"
    }
   ],
   "source": [
    "df_games.shape"
   ]
  },
  {
   "cell_type": "code",
   "execution_count": null,
   "metadata": {},
   "outputs": [],
   "source": [
    "df_games.shape"
   ]
  },
  {
   "cell_type": "code",
   "execution_count": null,
   "metadata": {},
   "outputs": [],
   "source": [
    "df_games.info()"
   ]
  },
  {
   "cell_type": "code",
   "execution_count": null,
   "metadata": {},
   "outputs": [],
   "source": [
    "df_games.isna().sum()"
   ]
  },
  {
   "cell_type": "code",
   "execution_count": null,
   "metadata": {},
   "outputs": [],
   "source": [
    "# Hay dos juegos que no tienen 'id' asociado\n",
    "# Veamos cuales son\n",
    "df_games[df_games.id.isna()]"
   ]
  },
  {
   "cell_type": "code",
   "execution_count": null,
   "metadata": {},
   "outputs": [],
   "source": [
    "# df_games.dropna(subset=['id'], axis=0, inplace=True)"
   ]
  },
  {
   "cell_type": "code",
   "execution_count": null,
   "metadata": {},
   "outputs": [],
   "source": [
    "df_games.isna().sum()"
   ]
  },
  {
   "cell_type": "code",
   "execution_count": null,
   "metadata": {},
   "outputs": [],
   "source": [
    "# Me quedo con las columnas: [app_name, release_date, tags, id, sentiment, metascore]\n",
    "# En vez de quedarme con 'title', para los nombres de los juegos me quedo con 'app_name', ya que title tiene muchos 'NaN'\n",
    "columns = ['app_name', 'release_date', 'tags', 'id', 'sentiment', 'metascore']\n",
    "\n",
    "df2_games = data_games[columns]\n",
    "df2_games.head()"
   ]
  },
  {
   "cell_type": "code",
   "execution_count": null,
   "metadata": {},
   "outputs": [],
   "source": [
    "# Verifico los tipos de datos\n",
    "df2_games.dtypes"
   ]
  },
  {
   "cell_type": "code",
   "execution_count": null,
   "metadata": {},
   "outputs": [],
   "source": [
    "# Convierto la columns \"id\" a tipo numérica (integer)\n",
    "df2_games['id'] = df2_games['id'].astype(str).astype(int)\n",
    "df2_games.dtypes"
   ]
  },
  {
   "cell_type": "code",
   "execution_count": null,
   "metadata": {},
   "outputs": [],
   "source": [
    "df2_games.head()"
   ]
  },
  {
   "cell_type": "code",
   "execution_count": null,
   "metadata": {},
   "outputs": [],
   "source": [
    "df2_games.info()"
   ]
  },
  {
   "cell_type": "code",
   "execution_count": null,
   "metadata": {},
   "outputs": [],
   "source": [
    "df2_games = df2_games.set_index('id')"
   ]
  },
  {
   "cell_type": "code",
   "execution_count": null,
   "metadata": {},
   "outputs": [],
   "source": [
    "df_filter.info()"
   ]
  },
  {
   "cell_type": "code",
   "execution_count": null,
   "metadata": {},
   "outputs": [],
   "source": [
    "df_filter['app_name'] = df2_games.app_name.loc[df_filter.product_id].values\n",
    "df_filter['sentiment'] = df2_games.sentiment.loc[df_filter.product_id].values\n",
    "df_filter.head(20)"
   ]
  },
  {
   "cell_type": "code",
   "execution_count": null,
   "metadata": {},
   "outputs": [],
   "source": [
    "df_filter.dtypes"
   ]
  },
  {
   "cell_type": "code",
   "execution_count": null,
   "metadata": {},
   "outputs": [],
   "source": [
    "df_filter.product_id"
   ]
  },
  {
   "cell_type": "code",
   "execution_count": null,
   "metadata": {},
   "outputs": [],
   "source": [
    "df_filter.shape"
   ]
  },
  {
   "cell_type": "code",
   "execution_count": null,
   "metadata": {},
   "outputs": [],
   "source": [
    "df2_games.app_name.loc[df_filter.product_id.iloc[2]]"
   ]
  },
  {
   "cell_type": "code",
   "execution_count": null,
   "metadata": {},
   "outputs": [],
   "source": [
    "df2_games.loc[df_filter.product_id].app_name.values.shape"
   ]
  },
  {
   "cell_type": "code",
   "execution_count": null,
   "metadata": {},
   "outputs": [],
   "source": []
  }
 ],
 "metadata": {
  "celltoolbar": "Attachments",
  "colab": {
   "collapsed_sections": [],
   "name": "Copy of DS_Proyecto_03_SR.ipynb",
   "provenance": [
    {
     "file_id": "1byeX_htRp3NqV08X3eLlWIp02cnPb_WP",
     "timestamp": 1627943542515
    }
   ]
  },
  "kernelspec": {
   "display_name": "Python 3",
   "language": "python",
   "name": "python3"
  },
  "language_info": {
   "codemirror_mode": {
    "name": "ipython",
    "version": 3
   },
   "file_extension": ".py",
   "mimetype": "text/x-python",
   "name": "python",
   "nbconvert_exporter": "python",
   "pygments_lexer": "ipython3",
   "version": "3.9.2"
  },
  "toc-autonumbering": false,
  "toc-showcode": false,
  "toc-showmarkdowntxt": true,
  "toc-showtags": false
 },
 "nbformat": 4,
 "nbformat_minor": 4
}
